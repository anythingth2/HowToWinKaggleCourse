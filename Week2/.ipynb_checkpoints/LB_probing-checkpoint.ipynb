{
 "cells": [
  {
   "cell_type": "code",
   "execution_count": 4,
   "metadata": {
    "ExecuteTime": {
     "end_time": "2020-07-20T19:44:31.270621Z",
     "start_time": "2020-07-20T19:44:31.267338Z"
    }
   },
   "outputs": [],
   "source": [
    "import numpy as np"
   ]
  },
  {
   "cell_type": "code",
   "execution_count": 6,
   "metadata": {
    "ExecuteTime": {
     "end_time": "2020-07-20T19:44:57.820911Z",
     "start_time": "2020-07-20T19:44:57.813297Z"
    }
   },
   "outputs": [
    {
     "data": {
      "text/plain": [
       "7710.689317245613"
      ]
     },
     "execution_count": 6,
     "metadata": {},
     "output_type": "execute_result"
    }
   ],
   "source": [
    "N = 10000\n",
    "y_hat_c = np.full(N, 0.3)\n",
    "logloss_c = 1.01\n",
    "alpha_c = np.log(y_hat_c)\n",
    "beta_c = np.log(1 - y_hat_c)\n",
    "sum_y = (-N * logloss_c - beta_c.sum()) / (alpha_c - beta_c)[0]\n",
    "sum_y"
   ]
  },
  {
   "cell_type": "code",
   "execution_count": 7,
   "metadata": {
    "ExecuteTime": {
     "end_time": "2020-07-20T19:44:58.327721Z",
     "start_time": "2020-07-20T19:44:58.320357Z"
    }
   },
   "outputs": [
    {
     "data": {
      "text/plain": [
       "0.7657710647752379"
      ]
     },
     "execution_count": 7,
     "metadata": {},
     "output_type": "execute_result"
    }
   ],
   "source": [
    "y_hat_m = np.full(N, 0.44)\n",
    "alpha_m = np.log(y_hat_m)\n",
    "beta_m = np.log(1 - y_hat_m)\n",
    "\n",
    "(-1/N) * ((alpha_m - beta_m)[0] * sum_y + beta_m.sum())"
   ]
  },
  {
   "cell_type": "code",
   "execution_count": null,
   "metadata": {},
   "outputs": [],
   "source": []
  }
 ],
 "metadata": {
  "kernelspec": {
   "display_name": "Python 3",
   "language": "python",
   "name": "python3"
  },
  "language_info": {
   "codemirror_mode": {
    "name": "ipython",
    "version": 3
   },
   "file_extension": ".py",
   "mimetype": "text/x-python",
   "name": "python",
   "nbconvert_exporter": "python",
   "pygments_lexer": "ipython3",
   "version": "3.7.4"
  },
  "varInspector": {
   "cols": {
    "lenName": 16,
    "lenType": 16,
    "lenVar": 40
   },
   "kernels_config": {
    "python": {
     "delete_cmd_postfix": "",
     "delete_cmd_prefix": "del ",
     "library": "var_list.py",
     "varRefreshCmd": "print(var_dic_list())"
    },
    "r": {
     "delete_cmd_postfix": ") ",
     "delete_cmd_prefix": "rm(",
     "library": "var_list.r",
     "varRefreshCmd": "cat(var_dic_list()) "
    }
   },
   "types_to_exclude": [
    "module",
    "function",
    "builtin_function_or_method",
    "instance",
    "_Feature"
   ],
   "window_display": false
  }
 },
 "nbformat": 4,
 "nbformat_minor": 4
}
