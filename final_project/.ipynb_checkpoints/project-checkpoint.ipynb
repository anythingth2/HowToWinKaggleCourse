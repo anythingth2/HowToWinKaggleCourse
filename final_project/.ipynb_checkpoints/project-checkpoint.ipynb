{
 "cells": [
  {
   "cell_type": "code",
   "execution_count": 189,
   "metadata": {
    "ExecuteTime": {
     "end_time": "2020-09-12T17:18:59.627725Z",
     "start_time": "2020-09-12T17:18:59.623190Z"
    }
   },
   "outputs": [
    {
     "name": "stderr",
     "output_type": "stream",
     "text": [
      "/usr/local/lib/python3.8/site-packages/tqdm/std.py:668: FutureWarning: The Panel class is removed from pandas. Accessing it from the top-level namespace will also be removed in the next version\n",
      "  from pandas import Panel\n"
     ]
    }
   ],
   "source": [
    "from pathlib import Path\n",
    "import numpy as np\n",
    "import pandas as pd\n",
    "import matplotlib.pyplot as plt\n",
    "from tqdm import tqdm, trange\n",
    "tqdm.pandas()\n",
    "from multiprocessing import Pool\n",
    "from sklearn.preprocessing import StandardScaler\n",
    "import gc"
   ]
  },
  {
   "cell_type": "code",
   "execution_count": 2,
   "metadata": {
    "ExecuteTime": {
     "end_time": "2020-09-12T13:22:14.418789Z",
     "start_time": "2020-09-12T13:22:14.343479Z"
    }
   },
   "outputs": [
    {
     "data": {
      "text/html": [
       "<div>\n",
       "<style scoped>\n",
       "    .dataframe tbody tr th:only-of-type {\n",
       "        vertical-align: middle;\n",
       "    }\n",
       "\n",
       "    .dataframe tbody tr th {\n",
       "        vertical-align: top;\n",
       "    }\n",
       "\n",
       "    .dataframe thead th {\n",
       "        text-align: right;\n",
       "    }\n",
       "</style>\n",
       "<table border=\"1\" class=\"dataframe\">\n",
       "  <thead>\n",
       "    <tr style=\"text-align: right;\">\n",
       "      <th></th>\n",
       "      <th>ID</th>\n",
       "      <th>shop_id</th>\n",
       "      <th>item_id</th>\n",
       "    </tr>\n",
       "  </thead>\n",
       "  <tbody>\n",
       "    <tr>\n",
       "      <th>0</th>\n",
       "      <td>0</td>\n",
       "      <td>5</td>\n",
       "      <td>5037</td>\n",
       "    </tr>\n",
       "    <tr>\n",
       "      <th>1</th>\n",
       "      <td>1</td>\n",
       "      <td>5</td>\n",
       "      <td>5320</td>\n",
       "    </tr>\n",
       "    <tr>\n",
       "      <th>2</th>\n",
       "      <td>2</td>\n",
       "      <td>5</td>\n",
       "      <td>5233</td>\n",
       "    </tr>\n",
       "    <tr>\n",
       "      <th>3</th>\n",
       "      <td>3</td>\n",
       "      <td>5</td>\n",
       "      <td>5232</td>\n",
       "    </tr>\n",
       "    <tr>\n",
       "      <th>4</th>\n",
       "      <td>4</td>\n",
       "      <td>5</td>\n",
       "      <td>5268</td>\n",
       "    </tr>\n",
       "    <tr>\n",
       "      <th>...</th>\n",
       "      <td>...</td>\n",
       "      <td>...</td>\n",
       "      <td>...</td>\n",
       "    </tr>\n",
       "    <tr>\n",
       "      <th>214195</th>\n",
       "      <td>214195</td>\n",
       "      <td>45</td>\n",
       "      <td>18454</td>\n",
       "    </tr>\n",
       "    <tr>\n",
       "      <th>214196</th>\n",
       "      <td>214196</td>\n",
       "      <td>45</td>\n",
       "      <td>16188</td>\n",
       "    </tr>\n",
       "    <tr>\n",
       "      <th>214197</th>\n",
       "      <td>214197</td>\n",
       "      <td>45</td>\n",
       "      <td>15757</td>\n",
       "    </tr>\n",
       "    <tr>\n",
       "      <th>214198</th>\n",
       "      <td>214198</td>\n",
       "      <td>45</td>\n",
       "      <td>19648</td>\n",
       "    </tr>\n",
       "    <tr>\n",
       "      <th>214199</th>\n",
       "      <td>214199</td>\n",
       "      <td>45</td>\n",
       "      <td>969</td>\n",
       "    </tr>\n",
       "  </tbody>\n",
       "</table>\n",
       "<p>214200 rows × 3 columns</p>\n",
       "</div>"
      ],
      "text/plain": [
       "            ID  shop_id  item_id\n",
       "0            0        5     5037\n",
       "1            1        5     5320\n",
       "2            2        5     5233\n",
       "3            3        5     5232\n",
       "4            4        5     5268\n",
       "...        ...      ...      ...\n",
       "214195  214195       45    18454\n",
       "214196  214196       45    16188\n",
       "214197  214197       45    15757\n",
       "214198  214198       45    19648\n",
       "214199  214199       45      969\n",
       "\n",
       "[214200 rows x 3 columns]"
      ]
     },
     "execution_count": 2,
     "metadata": {},
     "output_type": "execute_result"
    }
   ],
   "source": [
    "test_df = pd.read_csv('datasets/test.csv.gz', dtype={'ID': np.int32,\n",
    "                                                    'shop_id': np.int32,\n",
    "                                                    'item_id': np.int32})\n",
    "test_df"
   ]
  },
  {
   "cell_type": "code",
   "execution_count": 3,
   "metadata": {
    "ExecuteTime": {
     "end_time": "2020-09-12T13:22:14.597553Z",
     "start_time": "2020-09-12T13:22:14.558607Z"
    }
   },
   "outputs": [
    {
     "data": {
      "text/html": [
       "<div>\n",
       "<style scoped>\n",
       "    .dataframe tbody tr th:only-of-type {\n",
       "        vertical-align: middle;\n",
       "    }\n",
       "\n",
       "    .dataframe tbody tr th {\n",
       "        vertical-align: top;\n",
       "    }\n",
       "\n",
       "    .dataframe thead th {\n",
       "        text-align: right;\n",
       "    }\n",
       "</style>\n",
       "<table border=\"1\" class=\"dataframe\">\n",
       "  <thead>\n",
       "    <tr style=\"text-align: right;\">\n",
       "      <th></th>\n",
       "      <th>item_name</th>\n",
       "      <th>item_id</th>\n",
       "      <th>item_category_id</th>\n",
       "    </tr>\n",
       "  </thead>\n",
       "  <tbody>\n",
       "    <tr>\n",
       "      <th>0</th>\n",
       "      <td>! ВО ВЛАСТИ НАВАЖДЕНИЯ (ПЛАСТ.)         D</td>\n",
       "      <td>0</td>\n",
       "      <td>40</td>\n",
       "    </tr>\n",
       "    <tr>\n",
       "      <th>1</th>\n",
       "      <td>!ABBYY FineReader 12 Professional Edition Full...</td>\n",
       "      <td>1</td>\n",
       "      <td>76</td>\n",
       "    </tr>\n",
       "    <tr>\n",
       "      <th>2</th>\n",
       "      <td>***В ЛУЧАХ СЛАВЫ   (UNV)                    D</td>\n",
       "      <td>2</td>\n",
       "      <td>40</td>\n",
       "    </tr>\n",
       "    <tr>\n",
       "      <th>3</th>\n",
       "      <td>***ГОЛУБАЯ ВОЛНА  (Univ)                      D</td>\n",
       "      <td>3</td>\n",
       "      <td>40</td>\n",
       "    </tr>\n",
       "    <tr>\n",
       "      <th>4</th>\n",
       "      <td>***КОРОБКА (СТЕКЛО)                       D</td>\n",
       "      <td>4</td>\n",
       "      <td>40</td>\n",
       "    </tr>\n",
       "    <tr>\n",
       "      <th>...</th>\n",
       "      <td>...</td>\n",
       "      <td>...</td>\n",
       "      <td>...</td>\n",
       "    </tr>\n",
       "    <tr>\n",
       "      <th>22165</th>\n",
       "      <td>Ядерный титбит 2 [PC, Цифровая версия]</td>\n",
       "      <td>22165</td>\n",
       "      <td>31</td>\n",
       "    </tr>\n",
       "    <tr>\n",
       "      <th>22166</th>\n",
       "      <td>Язык запросов 1С:Предприятия  [Цифровая версия]</td>\n",
       "      <td>22166</td>\n",
       "      <td>54</td>\n",
       "    </tr>\n",
       "    <tr>\n",
       "      <th>22167</th>\n",
       "      <td>Язык запросов 1С:Предприятия 8 (+CD). Хрустале...</td>\n",
       "      <td>22167</td>\n",
       "      <td>49</td>\n",
       "    </tr>\n",
       "    <tr>\n",
       "      <th>22168</th>\n",
       "      <td>Яйцо для Little Inu</td>\n",
       "      <td>22168</td>\n",
       "      <td>62</td>\n",
       "    </tr>\n",
       "    <tr>\n",
       "      <th>22169</th>\n",
       "      <td>Яйцо дракона (Игра престолов)</td>\n",
       "      <td>22169</td>\n",
       "      <td>69</td>\n",
       "    </tr>\n",
       "  </tbody>\n",
       "</table>\n",
       "<p>22170 rows × 3 columns</p>\n",
       "</div>"
      ],
      "text/plain": [
       "                                               item_name  item_id  \\\n",
       "0              ! ВО ВЛАСТИ НАВАЖДЕНИЯ (ПЛАСТ.)         D        0   \n",
       "1      !ABBYY FineReader 12 Professional Edition Full...        1   \n",
       "2          ***В ЛУЧАХ СЛАВЫ   (UNV)                    D        2   \n",
       "3        ***ГОЛУБАЯ ВОЛНА  (Univ)                      D        3   \n",
       "4            ***КОРОБКА (СТЕКЛО)                       D        4   \n",
       "...                                                  ...      ...   \n",
       "22165             Ядерный титбит 2 [PC, Цифровая версия]    22165   \n",
       "22166    Язык запросов 1С:Предприятия  [Цифровая версия]    22166   \n",
       "22167  Язык запросов 1С:Предприятия 8 (+CD). Хрустале...    22167   \n",
       "22168                                Яйцо для Little Inu    22168   \n",
       "22169                      Яйцо дракона (Игра престолов)    22169   \n",
       "\n",
       "       item_category_id  \n",
       "0                    40  \n",
       "1                    76  \n",
       "2                    40  \n",
       "3                    40  \n",
       "4                    40  \n",
       "...                 ...  \n",
       "22165                31  \n",
       "22166                54  \n",
       "22167                49  \n",
       "22168                62  \n",
       "22169                69  \n",
       "\n",
       "[22170 rows x 3 columns]"
      ]
     },
     "execution_count": 3,
     "metadata": {},
     "output_type": "execute_result"
    }
   ],
   "source": [
    "item_df = pd.read_csv('datasets/items.csv')\n",
    "item_df"
   ]
  },
  {
   "cell_type": "code",
   "execution_count": 4,
   "metadata": {
    "ExecuteTime": {
     "end_time": "2020-09-12T13:22:16.293120Z",
     "start_time": "2020-09-12T13:22:14.751827Z"
    }
   },
   "outputs": [
    {
     "data": {
      "text/html": [
       "<div>\n",
       "<style scoped>\n",
       "    .dataframe tbody tr th:only-of-type {\n",
       "        vertical-align: middle;\n",
       "    }\n",
       "\n",
       "    .dataframe tbody tr th {\n",
       "        vertical-align: top;\n",
       "    }\n",
       "\n",
       "    .dataframe thead th {\n",
       "        text-align: right;\n",
       "    }\n",
       "</style>\n",
       "<table border=\"1\" class=\"dataframe\">\n",
       "  <thead>\n",
       "    <tr style=\"text-align: right;\">\n",
       "      <th></th>\n",
       "      <th>date</th>\n",
       "      <th>date_block_num</th>\n",
       "      <th>shop_id</th>\n",
       "      <th>item_id</th>\n",
       "      <th>item_price</th>\n",
       "      <th>item_cnt_day</th>\n",
       "    </tr>\n",
       "  </thead>\n",
       "  <tbody>\n",
       "    <tr>\n",
       "      <th>0</th>\n",
       "      <td>2013-01-02</td>\n",
       "      <td>0</td>\n",
       "      <td>59</td>\n",
       "      <td>22154</td>\n",
       "      <td>999.00</td>\n",
       "      <td>1.0</td>\n",
       "    </tr>\n",
       "    <tr>\n",
       "      <th>1</th>\n",
       "      <td>2013-01-03</td>\n",
       "      <td>0</td>\n",
       "      <td>25</td>\n",
       "      <td>2552</td>\n",
       "      <td>899.00</td>\n",
       "      <td>1.0</td>\n",
       "    </tr>\n",
       "    <tr>\n",
       "      <th>2</th>\n",
       "      <td>2013-01-05</td>\n",
       "      <td>0</td>\n",
       "      <td>25</td>\n",
       "      <td>2552</td>\n",
       "      <td>899.00</td>\n",
       "      <td>-1.0</td>\n",
       "    </tr>\n",
       "    <tr>\n",
       "      <th>3</th>\n",
       "      <td>2013-01-06</td>\n",
       "      <td>0</td>\n",
       "      <td>25</td>\n",
       "      <td>2554</td>\n",
       "      <td>1709.05</td>\n",
       "      <td>1.0</td>\n",
       "    </tr>\n",
       "    <tr>\n",
       "      <th>4</th>\n",
       "      <td>2013-01-15</td>\n",
       "      <td>0</td>\n",
       "      <td>25</td>\n",
       "      <td>2555</td>\n",
       "      <td>1099.00</td>\n",
       "      <td>1.0</td>\n",
       "    </tr>\n",
       "    <tr>\n",
       "      <th>...</th>\n",
       "      <td>...</td>\n",
       "      <td>...</td>\n",
       "      <td>...</td>\n",
       "      <td>...</td>\n",
       "      <td>...</td>\n",
       "      <td>...</td>\n",
       "    </tr>\n",
       "    <tr>\n",
       "      <th>2935844</th>\n",
       "      <td>2015-10-10</td>\n",
       "      <td>33</td>\n",
       "      <td>25</td>\n",
       "      <td>7409</td>\n",
       "      <td>299.00</td>\n",
       "      <td>1.0</td>\n",
       "    </tr>\n",
       "    <tr>\n",
       "      <th>2935845</th>\n",
       "      <td>2015-10-09</td>\n",
       "      <td>33</td>\n",
       "      <td>25</td>\n",
       "      <td>7460</td>\n",
       "      <td>299.00</td>\n",
       "      <td>1.0</td>\n",
       "    </tr>\n",
       "    <tr>\n",
       "      <th>2935846</th>\n",
       "      <td>2015-10-14</td>\n",
       "      <td>33</td>\n",
       "      <td>25</td>\n",
       "      <td>7459</td>\n",
       "      <td>349.00</td>\n",
       "      <td>1.0</td>\n",
       "    </tr>\n",
       "    <tr>\n",
       "      <th>2935847</th>\n",
       "      <td>2015-10-22</td>\n",
       "      <td>33</td>\n",
       "      <td>25</td>\n",
       "      <td>7440</td>\n",
       "      <td>299.00</td>\n",
       "      <td>1.0</td>\n",
       "    </tr>\n",
       "    <tr>\n",
       "      <th>2935848</th>\n",
       "      <td>2015-10-03</td>\n",
       "      <td>33</td>\n",
       "      <td>25</td>\n",
       "      <td>7460</td>\n",
       "      <td>299.00</td>\n",
       "      <td>1.0</td>\n",
       "    </tr>\n",
       "  </tbody>\n",
       "</table>\n",
       "<p>2935849 rows × 6 columns</p>\n",
       "</div>"
      ],
      "text/plain": [
       "              date  date_block_num  shop_id  item_id  item_price  item_cnt_day\n",
       "0       2013-01-02               0       59    22154      999.00           1.0\n",
       "1       2013-01-03               0       25     2552      899.00           1.0\n",
       "2       2013-01-05               0       25     2552      899.00          -1.0\n",
       "3       2013-01-06               0       25     2554     1709.05           1.0\n",
       "4       2013-01-15               0       25     2555     1099.00           1.0\n",
       "...            ...             ...      ...      ...         ...           ...\n",
       "2935844 2015-10-10              33       25     7409      299.00           1.0\n",
       "2935845 2015-10-09              33       25     7460      299.00           1.0\n",
       "2935846 2015-10-14              33       25     7459      349.00           1.0\n",
       "2935847 2015-10-22              33       25     7440      299.00           1.0\n",
       "2935848 2015-10-03              33       25     7460      299.00           1.0\n",
       "\n",
       "[2935849 rows x 6 columns]"
      ]
     },
     "execution_count": 4,
     "metadata": {},
     "output_type": "execute_result"
    }
   ],
   "source": [
    "sales_df = pd.read_csv('datasets/sales_train.csv.gz')\n",
    "sales_df['date'] = pd.to_datetime(sales_df['date'], format='%d.%m.%Y')\n",
    "sales_df"
   ]
  },
  {
   "cell_type": "code",
   "execution_count": 5,
   "metadata": {
    "ExecuteTime": {
     "end_time": "2020-09-12T13:22:16.504311Z",
     "start_time": "2020-09-12T13:22:16.462400Z"
    }
   },
   "outputs": [
    {
     "data": {
      "text/plain": [
       "date              0\n",
       "date_block_num    0\n",
       "shop_id           0\n",
       "item_id           0\n",
       "item_price        0\n",
       "item_cnt_day      0\n",
       "dtype: int64"
      ]
     },
     "execution_count": 5,
     "metadata": {},
     "output_type": "execute_result"
    }
   ],
   "source": [
    "sales_df.isna().sum(axis=0)"
   ]
  },
  {
   "cell_type": "code",
   "execution_count": 6,
   "metadata": {
    "ExecuteTime": {
     "end_time": "2020-09-12T13:22:17.076836Z",
     "start_time": "2020-09-12T13:22:16.680959Z"
    }
   },
   "outputs": [
    {
     "name": "stderr",
     "output_type": "stream",
     "text": [
      "/usr/local/lib/python3.8/site-packages/pandas/plotting/_matplotlib/converter.py:256: MatplotlibDeprecationWarning: \n",
      "The epoch2num function was deprecated in Matplotlib 3.3 and will be removed two minor releases later.\n",
      "  base = dates.epoch2num(dt.asi8 / 1.0e9)\n"
     ]
    },
    {
     "data": {
      "text/plain": [
       "<AxesSubplot:xlabel='date'>"
      ]
     },
     "execution_count": 6,
     "metadata": {},
     "output_type": "execute_result"
    },
    {
     "data": {
      "image/png": "[encoded data removed]",
      "text/plain": [
       "<Figure size 432x288 with 1 Axes>"
      ]
     },
     "metadata": {
      "needs_background": "light"
     },
     "output_type": "display_data"
    }
   ],
   "source": [
    "sample_item = sales_df.sample(1, random_state=123)\n",
    "shop_id = sample_item['shop_id'].values[0]\n",
    "item_id = sample_item['item_id'].values[0]\n",
    "item_sales_df = sales_df[(sales_df['shop_id'] == shop_id) & (sales_df['item_id'] == item_id)].sort_values('date')\n",
    "item_sales_df.plot(x='date', y='item_price')"
   ]
  },
  {
   "cell_type": "code",
   "execution_count": 7,
   "metadata": {
    "ExecuteTime": {
     "end_time": "2020-09-12T13:22:17.331480Z",
     "start_time": "2020-09-12T13:22:17.327400Z"
    }
   },
   "outputs": [],
   "source": [
    "\n",
    "def downcast_dataframe(df):\n",
    "    dtype_mapper = {\n",
    "        'int64': 'int32',\n",
    "        'float64': 'float32'\n",
    "    }\n",
    "    dtypes = df.dtypes.to_dict()\n",
    "\n",
    "    new_dtypes = {col: dtype_mapper.get(str(dtype), str(dtype)) for col, dtype in dtypes.items()}\n",
    "    return df.astype(new_dtypes)"
   ]
  },
  {
   "cell_type": "code",
   "execution_count": 8,
   "metadata": {
    "ExecuteTime": {
     "end_time": "2020-09-12T13:22:18.502857Z",
     "start_time": "2020-09-12T13:22:17.578344Z"
    }
   },
   "outputs": [
    {
     "data": {
      "text/html": [
       "<div>\n",
       "<style scoped>\n",
       "    .dataframe tbody tr th:only-of-type {\n",
       "        vertical-align: middle;\n",
       "    }\n",
       "\n",
       "    .dataframe tbody tr th {\n",
       "        vertical-align: top;\n",
       "    }\n",
       "\n",
       "    .dataframe thead th {\n",
       "        text-align: right;\n",
       "    }\n",
       "</style>\n",
       "<table border=\"1\" class=\"dataframe\">\n",
       "  <thead>\n",
       "    <tr style=\"text-align: right;\">\n",
       "      <th></th>\n",
       "      <th>shop_id</th>\n",
       "      <th>item_id</th>\n",
       "      <th>date_block_num</th>\n",
       "      <th>item_price</th>\n",
       "      <th>count</th>\n",
       "    </tr>\n",
       "  </thead>\n",
       "  <tbody>\n",
       "    <tr>\n",
       "      <th>0</th>\n",
       "      <td>0</td>\n",
       "      <td>30</td>\n",
       "      <td>1</td>\n",
       "      <td>265.0</td>\n",
       "      <td>31.0</td>\n",
       "    </tr>\n",
       "    <tr>\n",
       "      <th>1</th>\n",
       "      <td>0</td>\n",
       "      <td>31</td>\n",
       "      <td>1</td>\n",
       "      <td>434.0</td>\n",
       "      <td>11.0</td>\n",
       "    </tr>\n",
       "    <tr>\n",
       "      <th>2</th>\n",
       "      <td>0</td>\n",
       "      <td>32</td>\n",
       "      <td>0</td>\n",
       "      <td>221.0</td>\n",
       "      <td>6.0</td>\n",
       "    </tr>\n",
       "    <tr>\n",
       "      <th>3</th>\n",
       "      <td>0</td>\n",
       "      <td>32</td>\n",
       "      <td>1</td>\n",
       "      <td>221.0</td>\n",
       "      <td>10.0</td>\n",
       "    </tr>\n",
       "    <tr>\n",
       "      <th>4</th>\n",
       "      <td>0</td>\n",
       "      <td>33</td>\n",
       "      <td>0</td>\n",
       "      <td>347.0</td>\n",
       "      <td>3.0</td>\n",
       "    </tr>\n",
       "    <tr>\n",
       "      <th>...</th>\n",
       "      <td>...</td>\n",
       "      <td>...</td>\n",
       "      <td>...</td>\n",
       "      <td>...</td>\n",
       "      <td>...</td>\n",
       "    </tr>\n",
       "    <tr>\n",
       "      <th>1609119</th>\n",
       "      <td>59</td>\n",
       "      <td>22164</td>\n",
       "      <td>27</td>\n",
       "      <td>699.0</td>\n",
       "      <td>2.0</td>\n",
       "    </tr>\n",
       "    <tr>\n",
       "      <th>1609120</th>\n",
       "      <td>59</td>\n",
       "      <td>22164</td>\n",
       "      <td>30</td>\n",
       "      <td>699.0</td>\n",
       "      <td>1.0</td>\n",
       "    </tr>\n",
       "    <tr>\n",
       "      <th>1609121</th>\n",
       "      <td>59</td>\n",
       "      <td>22167</td>\n",
       "      <td>9</td>\n",
       "      <td>299.0</td>\n",
       "      <td>1.0</td>\n",
       "    </tr>\n",
       "    <tr>\n",
       "      <th>1609122</th>\n",
       "      <td>59</td>\n",
       "      <td>22167</td>\n",
       "      <td>11</td>\n",
       "      <td>299.0</td>\n",
       "      <td>2.0</td>\n",
       "    </tr>\n",
       "    <tr>\n",
       "      <th>1609123</th>\n",
       "      <td>59</td>\n",
       "      <td>22167</td>\n",
       "      <td>17</td>\n",
       "      <td>299.0</td>\n",
       "      <td>1.0</td>\n",
       "    </tr>\n",
       "  </tbody>\n",
       "</table>\n",
       "<p>1609124 rows × 5 columns</p>\n",
       "</div>"
      ],
      "text/plain": [
       "         shop_id  item_id  date_block_num  item_price  count\n",
       "0              0       30               1       265.0   31.0\n",
       "1              0       31               1       434.0   11.0\n",
       "2              0       32               0       221.0    6.0\n",
       "3              0       32               1       221.0   10.0\n",
       "4              0       33               0       347.0    3.0\n",
       "...          ...      ...             ...         ...    ...\n",
       "1609119       59    22164              27       699.0    2.0\n",
       "1609120       59    22164              30       699.0    1.0\n",
       "1609121       59    22167               9       299.0    1.0\n",
       "1609122       59    22167              11       299.0    2.0\n",
       "1609123       59    22167              17       299.0    1.0\n",
       "\n",
       "[1609124 rows x 5 columns]"
      ]
     },
     "execution_count": 8,
     "metadata": {},
     "output_type": "execute_result"
    }
   ],
   "source": [
    "monthly_sales_df = sales_df.groupby(['shop_id', 'item_id', 'date_block_num'], as_index=False) \\\n",
    "                            .agg({'item_price': 'mean', 'item_cnt_day': 'sum'})\n",
    "monthly_sales_df.rename(columns={'item_cnt_day': 'count'}, inplace=True)\n",
    "del sales_df, item_sales_df\n",
    "gc.collect()\n",
    "monthly_sales_df"
   ]
  },
  {
   "cell_type": "code",
   "execution_count": 9,
   "metadata": {
    "ExecuteTime": {
     "end_time": "2020-09-12T13:22:20.263174Z",
     "start_time": "2020-09-12T13:22:18.700087Z"
    }
   },
   "outputs": [
    {
     "data": {
      "text/plain": [
       "<AxesSubplot:xlabel='item_price', ylabel='count'>"
      ]
     },
     "execution_count": 9,
     "metadata": {},
     "output_type": "execute_result"
    },
    {
     "data": {
      "image/png": "[encoded data removed]",
      "text/plain": [
       "<Figure size 432x288 with 1 Axes>"
      ]
     },
     "metadata": {
      "needs_background": "light"
     },
     "output_type": "display_data"
    }
   ],
   "source": [
    "# prices = resampled_sales_df['item_price']\n",
    "# counts = resampled_sales_df['item_cnt_day']\n",
    "\n",
    "# resampled_sales_df = resampled_sales_df[((prices > prices.quantile(0.01)) & (prices < prices.quantile(0.99))) &\n",
    "#                                         ((counts > counts.quantile(0.01)) & (counts < counts.quantile(0.99)))]\n",
    "monthly_sales_df.plot.scatter(x='item_price', y='count')"
   ]
  },
  {
   "cell_type": "code",
   "execution_count": 10,
   "metadata": {
    "ExecuteTime": {
     "end_time": "2020-09-12T13:22:20.664229Z",
     "start_time": "2020-09-12T13:22:20.487248Z"
    }
   },
   "outputs": [
    {
     "data": {
      "text/html": [
       "<div>\n",
       "<style scoped>\n",
       "    .dataframe tbody tr th:only-of-type {\n",
       "        vertical-align: middle;\n",
       "    }\n",
       "\n",
       "    .dataframe tbody tr th {\n",
       "        vertical-align: top;\n",
       "    }\n",
       "\n",
       "    .dataframe thead th {\n",
       "        text-align: right;\n",
       "    }\n",
       "</style>\n",
       "<table border=\"1\" class=\"dataframe\">\n",
       "  <thead>\n",
       "    <tr style=\"text-align: right;\">\n",
       "      <th></th>\n",
       "      <th>shop_id</th>\n",
       "      <th>item_id</th>\n",
       "      <th>date_block_num</th>\n",
       "      <th>item_price</th>\n",
       "      <th>count</th>\n",
       "      <th>item_category_id</th>\n",
       "    </tr>\n",
       "  </thead>\n",
       "  <tbody>\n",
       "    <tr>\n",
       "      <th>0</th>\n",
       "      <td>0</td>\n",
       "      <td>30</td>\n",
       "      <td>1</td>\n",
       "      <td>265.0</td>\n",
       "      <td>31.0</td>\n",
       "      <td>40</td>\n",
       "    </tr>\n",
       "    <tr>\n",
       "      <th>1</th>\n",
       "      <td>1</td>\n",
       "      <td>30</td>\n",
       "      <td>1</td>\n",
       "      <td>265.0</td>\n",
       "      <td>10.0</td>\n",
       "      <td>40</td>\n",
       "    </tr>\n",
       "    <tr>\n",
       "      <th>2</th>\n",
       "      <td>2</td>\n",
       "      <td>30</td>\n",
       "      <td>2</td>\n",
       "      <td>359.0</td>\n",
       "      <td>1.0</td>\n",
       "      <td>40</td>\n",
       "    </tr>\n",
       "    <tr>\n",
       "      <th>3</th>\n",
       "      <td>2</td>\n",
       "      <td>30</td>\n",
       "      <td>5</td>\n",
       "      <td>399.0</td>\n",
       "      <td>1.0</td>\n",
       "      <td>40</td>\n",
       "    </tr>\n",
       "    <tr>\n",
       "      <th>4</th>\n",
       "      <td>2</td>\n",
       "      <td>30</td>\n",
       "      <td>15</td>\n",
       "      <td>169.0</td>\n",
       "      <td>1.0</td>\n",
       "      <td>40</td>\n",
       "    </tr>\n",
       "    <tr>\n",
       "      <th>...</th>\n",
       "      <td>...</td>\n",
       "      <td>...</td>\n",
       "      <td>...</td>\n",
       "      <td>...</td>\n",
       "      <td>...</td>\n",
       "      <td>...</td>\n",
       "    </tr>\n",
       "    <tr>\n",
       "      <th>1609119</th>\n",
       "      <td>59</td>\n",
       "      <td>9760</td>\n",
       "      <td>12</td>\n",
       "      <td>179.0</td>\n",
       "      <td>1.0</td>\n",
       "      <td>37</td>\n",
       "    </tr>\n",
       "    <tr>\n",
       "      <th>1609120</th>\n",
       "      <td>59</td>\n",
       "      <td>12846</td>\n",
       "      <td>10</td>\n",
       "      <td>149.0</td>\n",
       "      <td>1.0</td>\n",
       "      <td>37</td>\n",
       "    </tr>\n",
       "    <tr>\n",
       "      <th>1609121</th>\n",
       "      <td>59</td>\n",
       "      <td>16270</td>\n",
       "      <td>6</td>\n",
       "      <td>1000.0</td>\n",
       "      <td>1.0</td>\n",
       "      <td>75</td>\n",
       "    </tr>\n",
       "    <tr>\n",
       "      <th>1609122</th>\n",
       "      <td>59</td>\n",
       "      <td>17732</td>\n",
       "      <td>9</td>\n",
       "      <td>198.0</td>\n",
       "      <td>1.0</td>\n",
       "      <td>28</td>\n",
       "    </tr>\n",
       "    <tr>\n",
       "      <th>1609123</th>\n",
       "      <td>59</td>\n",
       "      <td>18018</td>\n",
       "      <td>0</td>\n",
       "      <td>28.0</td>\n",
       "      <td>1.0</td>\n",
       "      <td>57</td>\n",
       "    </tr>\n",
       "  </tbody>\n",
       "</table>\n",
       "<p>1609124 rows × 6 columns</p>\n",
       "</div>"
      ],
      "text/plain": [
       "         shop_id  item_id  date_block_num  item_price  count  item_category_id\n",
       "0              0       30               1       265.0   31.0                40\n",
       "1              1       30               1       265.0   10.0                40\n",
       "2              2       30               2       359.0    1.0                40\n",
       "3              2       30               5       399.0    1.0                40\n",
       "4              2       30              15       169.0    1.0                40\n",
       "...          ...      ...             ...         ...    ...               ...\n",
       "1609119       59     9760              12       179.0    1.0                37\n",
       "1609120       59    12846              10       149.0    1.0                37\n",
       "1609121       59    16270               6      1000.0    1.0                75\n",
       "1609122       59    17732               9       198.0    1.0                28\n",
       "1609123       59    18018               0        28.0    1.0                57\n",
       "\n",
       "[1609124 rows x 6 columns]"
      ]
     },
     "execution_count": 10,
     "metadata": {},
     "output_type": "execute_result"
    }
   ],
   "source": [
    "monthly_sales_df = monthly_sales_df.merge(item_df[['item_id', 'item_category_id']], on='item_id')\n",
    "monthly_sales_df"
   ]
  },
  {
   "cell_type": "code",
   "execution_count": 11,
   "metadata": {
    "ExecuteTime": {
     "end_time": "2020-09-12T13:22:20.918944Z",
     "start_time": "2020-09-12T13:22:20.880838Z"
    }
   },
   "outputs": [],
   "source": [
    "\n",
    "monthly_sales_df = downcast_dataframe(monthly_sales_df)"
   ]
  },
  {
   "cell_type": "code",
   "execution_count": 12,
   "metadata": {
    "ExecuteTime": {
     "end_time": "2020-09-12T13:22:21.356073Z",
     "start_time": "2020-09-12T13:22:21.132803Z"
    }
   },
   "outputs": [
    {
     "data": {
      "text/html": [
       "<div>\n",
       "<style scoped>\n",
       "    .dataframe tbody tr th:only-of-type {\n",
       "        vertical-align: middle;\n",
       "    }\n",
       "\n",
       "    .dataframe tbody tr th {\n",
       "        vertical-align: top;\n",
       "    }\n",
       "\n",
       "    .dataframe thead th {\n",
       "        text-align: right;\n",
       "    }\n",
       "</style>\n",
       "<table border=\"1\" class=\"dataframe\">\n",
       "  <thead>\n",
       "    <tr style=\"text-align: right;\">\n",
       "      <th></th>\n",
       "      <th>shop_id</th>\n",
       "      <th>item_id</th>\n",
       "      <th>date_block_num</th>\n",
       "      <th>item_price</th>\n",
       "      <th>count</th>\n",
       "      <th>item_category_id</th>\n",
       "    </tr>\n",
       "  </thead>\n",
       "  <tbody>\n",
       "    <tr>\n",
       "      <th>count</th>\n",
       "      <td>1.609124e+06</td>\n",
       "      <td>1.609124e+06</td>\n",
       "      <td>1.609124e+06</td>\n",
       "      <td>1.609124e+06</td>\n",
       "      <td>1.609124e+06</td>\n",
       "      <td>1.609124e+06</td>\n",
       "    </tr>\n",
       "    <tr>\n",
       "      <th>mean</th>\n",
       "      <td>3.280585e+01</td>\n",
       "      <td>1.068099e+04</td>\n",
       "      <td>1.466479e+01</td>\n",
       "      <td>7.908846e+02</td>\n",
       "      <td>2.267200e+00</td>\n",
       "      <td>4.154192e+01</td>\n",
       "    </tr>\n",
       "    <tr>\n",
       "      <th>std</th>\n",
       "      <td>1.653701e+01</td>\n",
       "      <td>6.238883e+03</td>\n",
       "      <td>9.542322e+00</td>\n",
       "      <td>1.551605e+03</td>\n",
       "      <td>8.649882e+00</td>\n",
       "      <td>1.632365e+01</td>\n",
       "    </tr>\n",
       "    <tr>\n",
       "      <th>min</th>\n",
       "      <td>0.000000e+00</td>\n",
       "      <td>0.000000e+00</td>\n",
       "      <td>0.000000e+00</td>\n",
       "      <td>9.000000e-02</td>\n",
       "      <td>-2.200000e+01</td>\n",
       "      <td>0.000000e+00</td>\n",
       "    </tr>\n",
       "    <tr>\n",
       "      <th>25%</th>\n",
       "      <td>2.100000e+01</td>\n",
       "      <td>5.045000e+03</td>\n",
       "      <td>6.000000e+00</td>\n",
       "      <td>1.990000e+02</td>\n",
       "      <td>1.000000e+00</td>\n",
       "      <td>3.000000e+01</td>\n",
       "    </tr>\n",
       "    <tr>\n",
       "      <th>50%</th>\n",
       "      <td>3.100000e+01</td>\n",
       "      <td>1.049700e+04</td>\n",
       "      <td>1.400000e+01</td>\n",
       "      <td>3.990000e+02</td>\n",
       "      <td>1.000000e+00</td>\n",
       "      <td>4.000000e+01</td>\n",
       "    </tr>\n",
       "    <tr>\n",
       "      <th>75%</th>\n",
       "      <td>4.700000e+01</td>\n",
       "      <td>1.606000e+04</td>\n",
       "      <td>2.300000e+01</td>\n",
       "      <td>8.985000e+02</td>\n",
       "      <td>2.000000e+00</td>\n",
       "      <td>5.500000e+01</td>\n",
       "    </tr>\n",
       "    <tr>\n",
       "      <th>max</th>\n",
       "      <td>5.900000e+01</td>\n",
       "      <td>2.216900e+04</td>\n",
       "      <td>3.300000e+01</td>\n",
       "      <td>3.079800e+05</td>\n",
       "      <td>2.253000e+03</td>\n",
       "      <td>8.300000e+01</td>\n",
       "    </tr>\n",
       "  </tbody>\n",
       "</table>\n",
       "</div>"
      ],
      "text/plain": [
       "            shop_id       item_id  date_block_num    item_price         count  \\\n",
       "count  1.609124e+06  1.609124e+06    1.609124e+06  1.609124e+06  1.609124e+06   \n",
       "mean   3.280585e+01  1.068099e+04    1.466479e+01  7.908846e+02  2.267200e+00   \n",
       "std    1.653701e+01  6.238883e+03    9.542322e+00  1.551605e+03  8.649882e+00   \n",
       "min    0.000000e+00  0.000000e+00    0.000000e+00  9.000000e-02 -2.200000e+01   \n",
       "25%    2.100000e+01  5.045000e+03    6.000000e+00  1.990000e+02  1.000000e+00   \n",
       "50%    3.100000e+01  1.049700e+04    1.400000e+01  3.990000e+02  1.000000e+00   \n",
       "75%    4.700000e+01  1.606000e+04    2.300000e+01  8.985000e+02  2.000000e+00   \n",
       "max    5.900000e+01  2.216900e+04    3.300000e+01  3.079800e+05  2.253000e+03   \n",
       "\n",
       "       item_category_id  \n",
       "count      1.609124e+06  \n",
       "mean       4.154192e+01  \n",
       "std        1.632365e+01  \n",
       "min        0.000000e+00  \n",
       "25%        3.000000e+01  \n",
       "50%        4.000000e+01  \n",
       "75%        5.500000e+01  \n",
       "max        8.300000e+01  "
      ]
     },
     "execution_count": 12,
     "metadata": {},
     "output_type": "execute_result"
    }
   ],
   "source": [
    "monthly_sales_df.describe()"
   ]
  },
  {
   "cell_type": "markdown",
   "metadata": {
    "heading_collapsed": true
   },
   "source": [
    "### Prove the sales of any shop are different and unique"
   ]
  },
  {
   "cell_type": "code",
   "execution_count": 56,
   "metadata": {
    "ExecuteTime": {
     "end_time": "2020-09-12T06:19:27.955009Z",
     "start_time": "2020-09-12T06:19:26.507842Z"
    },
    "hidden": true
   },
   "outputs": [
    {
     "data": {
      "text/plain": [
       "Text(0, 0.5, 'item_count')"
      ]
     },
     "execution_count": 56,
     "metadata": {},
     "output_type": "execute_result"
    },
    {
     "data": {
      "image/png": "[encoded data removed]",
      "text/plain": [
       "<Figure size 864x576 with 1 Axes>"
      ]
     },
     "metadata": {
      "needs_background": "light"
     },
     "output_type": "display_data"
    }
   ],
   "source": [
    "shop_ids = monthly_sales_df['shop_id']\n",
    "selected_shop_ids = shop_ids.drop_duplicates().sample(8, random_state=99)\n",
    "\n",
    "ax = monthly_sales_df[shop_ids.isin(selected_shop_ids)].groupby(['date_block_num', 'shop_id']).agg(\n",
    "    {'count': 'sum'}).unstack().plot.bar(y='count', stacked=True, figsize=(12, 8))\n",
    "ax.set_ylabel('item_count')"
   ]
  },
  {
   "cell_type": "markdown",
   "metadata": {
    "heading_collapsed": true
   },
   "source": [
    "### Prove the sales of any item categories are different"
   ]
  },
  {
   "cell_type": "code",
   "execution_count": 58,
   "metadata": {
    "ExecuteTime": {
     "end_time": "2020-09-12T06:19:29.478727Z",
     "start_time": "2020-09-12T06:19:28.269979Z"
    },
    "hidden": true
   },
   "outputs": [
    {
     "data": {
      "text/plain": [
       "<AxesSubplot:xlabel='date_block_num'>"
      ]
     },
     "execution_count": 58,
     "metadata": {},
     "output_type": "execute_result"
    },
    {
     "data": {
      "image/png": "[encoded data removed]",
      "text/plain": [
       "<Figure size 864x576 with 1 Axes>"
      ]
     },
     "metadata": {
      "needs_background": "light"
     },
     "output_type": "display_data"
    }
   ],
   "source": [
    "categories = monthly_sales_df['item_category_id']\n",
    "selected_categories = categories.drop_duplicates().sample(8, random_state=1)\n",
    "monthly_sales_df[categories.isin(selected_categories)].groupby(['date_block_num', 'item_category_id']).agg(\n",
    "    {'count': 'sum'}).unstack().plot.bar(y='count', stacked=True, figsize=(12, 8))"
   ]
  },
  {
   "cell_type": "markdown",
   "metadata": {
    "heading_collapsed": true
   },
   "source": [
    "### Distribution"
   ]
  },
  {
   "cell_type": "code",
   "execution_count": 59,
   "metadata": {
    "ExecuteTime": {
     "end_time": "2020-09-12T06:19:29.553222Z",
     "start_time": "2020-09-12T06:19:29.550569Z"
    },
    "hidden": true
   },
   "outputs": [],
   "source": [
    "def IQR(data, lower, upper):\n",
    "    return data[(data > data.quantile(lower)) & (data < data.quantile(upper))]\n"
   ]
  },
  {
   "cell_type": "code",
   "execution_count": 60,
   "metadata": {
    "ExecuteTime": {
     "end_time": "2020-09-12T06:19:30.117776Z",
     "start_time": "2020-09-12T06:19:29.627106Z"
    },
    "hidden": true
   },
   "outputs": [
    {
     "data": {
      "text/plain": [
       "<AxesSubplot:>"
      ]
     },
     "execution_count": 60,
     "metadata": {},
     "output_type": "execute_result"
    },
    {
     "data": {
      "image/png": "[encoded data removed]",
      "text/plain": [
       "<Figure size 1152x576 with 1 Axes>"
      ]
     },
     "metadata": {
      "needs_background": "light"
     },
     "output_type": "display_data"
    }
   ],
   "source": [
    "alpha = 0.0027\n",
    "IQR(monthly_sales_df['count'], alpha, 1-alpha).hist(bins=100, figsize=(16, 8))"
   ]
  },
  {
   "cell_type": "code",
   "execution_count": 61,
   "metadata": {
    "ExecuteTime": {
     "end_time": "2020-09-12T06:19:30.692325Z",
     "start_time": "2020-09-12T06:19:30.180500Z"
    },
    "hidden": true
   },
   "outputs": [
    {
     "data": {
      "text/plain": [
       "<AxesSubplot:>"
      ]
     },
     "execution_count": 61,
     "metadata": {},
     "output_type": "execute_result"
    },
    {
     "data": {
      "image/png": "[encoded data removed]",
      "text/plain": [
       "<Figure size 1152x576 with 1 Axes>"
      ]
     },
     "metadata": {
      "needs_background": "light"
     },
     "output_type": "display_data"
    }
   ],
   "source": [
    "alpha = 0.008\n",
    "IQR(monthly_sales_df['item_price'], alpha, 1-alpha).hist( bins=100, figsize=(16, 8))"
   ]
  },
  {
   "cell_type": "code",
   "execution_count": 62,
   "metadata": {
    "ExecuteTime": {
     "end_time": "2020-09-12T06:19:33.034882Z",
     "start_time": "2020-09-12T06:19:32.817388Z"
    },
    "hidden": true
   },
   "outputs": [
    {
     "data": {
      "text/html": [
       "<div>\n",
       "<style scoped>\n",
       "    .dataframe tbody tr th:only-of-type {\n",
       "        vertical-align: middle;\n",
       "    }\n",
       "\n",
       "    .dataframe tbody tr th {\n",
       "        vertical-align: top;\n",
       "    }\n",
       "\n",
       "    .dataframe thead th {\n",
       "        text-align: right;\n",
       "    }\n",
       "</style>\n",
       "<table border=\"1\" class=\"dataframe\">\n",
       "  <thead>\n",
       "    <tr style=\"text-align: right;\">\n",
       "      <th></th>\n",
       "      <th></th>\n",
       "      <th></th>\n",
       "      <th>item_price</th>\n",
       "      <th>count</th>\n",
       "      <th>item_category_id</th>\n",
       "    </tr>\n",
       "    <tr>\n",
       "      <th>shop_id</th>\n",
       "      <th>item_id</th>\n",
       "      <th>date_block_num</th>\n",
       "      <th></th>\n",
       "      <th></th>\n",
       "      <th></th>\n",
       "    </tr>\n",
       "  </thead>\n",
       "  <tbody>\n",
       "    <tr>\n",
       "      <th>0</th>\n",
       "      <th>30</th>\n",
       "      <th>1</th>\n",
       "      <td>265.0</td>\n",
       "      <td>31.0</td>\n",
       "      <td>40</td>\n",
       "    </tr>\n",
       "    <tr>\n",
       "      <th>1</th>\n",
       "      <th>30</th>\n",
       "      <th>1</th>\n",
       "      <td>265.0</td>\n",
       "      <td>10.0</td>\n",
       "      <td>40</td>\n",
       "    </tr>\n",
       "    <tr>\n",
       "      <th rowspan=\"4\" valign=\"top\">2</th>\n",
       "      <th rowspan=\"4\" valign=\"top\">30</th>\n",
       "      <th>2</th>\n",
       "      <td>359.0</td>\n",
       "      <td>1.0</td>\n",
       "      <td>40</td>\n",
       "    </tr>\n",
       "    <tr>\n",
       "      <th>5</th>\n",
       "      <td>399.0</td>\n",
       "      <td>1.0</td>\n",
       "      <td>40</td>\n",
       "    </tr>\n",
       "    <tr>\n",
       "      <th>15</th>\n",
       "      <td>169.0</td>\n",
       "      <td>1.0</td>\n",
       "      <td>40</td>\n",
       "    </tr>\n",
       "    <tr>\n",
       "      <th>16</th>\n",
       "      <td>169.0</td>\n",
       "      <td>1.0</td>\n",
       "      <td>40</td>\n",
       "    </tr>\n",
       "    <tr>\n",
       "      <th rowspan=\"10\" valign=\"top\">3</th>\n",
       "      <th rowspan=\"10\" valign=\"top\">30</th>\n",
       "      <th>1</th>\n",
       "      <td>399.0</td>\n",
       "      <td>4.0</td>\n",
       "      <td>40</td>\n",
       "    </tr>\n",
       "    <tr>\n",
       "      <th>2</th>\n",
       "      <td>399.0</td>\n",
       "      <td>5.0</td>\n",
       "      <td>40</td>\n",
       "    </tr>\n",
       "    <tr>\n",
       "      <th>3</th>\n",
       "      <td>399.0</td>\n",
       "      <td>2.0</td>\n",
       "      <td>40</td>\n",
       "    </tr>\n",
       "    <tr>\n",
       "      <th>4</th>\n",
       "      <td>399.0</td>\n",
       "      <td>2.0</td>\n",
       "      <td>40</td>\n",
       "    </tr>\n",
       "    <tr>\n",
       "      <th>5</th>\n",
       "      <td>399.0</td>\n",
       "      <td>1.0</td>\n",
       "      <td>40</td>\n",
       "    </tr>\n",
       "    <tr>\n",
       "      <th>9</th>\n",
       "      <td>169.0</td>\n",
       "      <td>1.0</td>\n",
       "      <td>40</td>\n",
       "    </tr>\n",
       "    <tr>\n",
       "      <th>10</th>\n",
       "      <td>169.0</td>\n",
       "      <td>1.0</td>\n",
       "      <td>40</td>\n",
       "    </tr>\n",
       "    <tr>\n",
       "      <th>11</th>\n",
       "      <td>169.0</td>\n",
       "      <td>2.0</td>\n",
       "      <td>40</td>\n",
       "    </tr>\n",
       "    <tr>\n",
       "      <th>12</th>\n",
       "      <td>169.0</td>\n",
       "      <td>1.0</td>\n",
       "      <td>40</td>\n",
       "    </tr>\n",
       "    <tr>\n",
       "      <th>30</th>\n",
       "      <td>129.0</td>\n",
       "      <td>1.0</td>\n",
       "      <td>40</td>\n",
       "    </tr>\n",
       "    <tr>\n",
       "      <th rowspan=\"3\" valign=\"top\">4</th>\n",
       "      <th rowspan=\"3\" valign=\"top\">30</th>\n",
       "      <th>1</th>\n",
       "      <td>399.0</td>\n",
       "      <td>7.0</td>\n",
       "      <td>40</td>\n",
       "    </tr>\n",
       "    <tr>\n",
       "      <th>2</th>\n",
       "      <td>399.0</td>\n",
       "      <td>3.0</td>\n",
       "      <td>40</td>\n",
       "    </tr>\n",
       "    <tr>\n",
       "      <th>7</th>\n",
       "      <td>399.0</td>\n",
       "      <td>1.0</td>\n",
       "      <td>40</td>\n",
       "    </tr>\n",
       "    <tr>\n",
       "      <th>5</th>\n",
       "      <th>30</th>\n",
       "      <th>1</th>\n",
       "      <td>399.0</td>\n",
       "      <td>5.0</td>\n",
       "      <td>40</td>\n",
       "    </tr>\n",
       "  </tbody>\n",
       "</table>\n",
       "</div>"
      ],
      "text/plain": [
       "                                item_price  count  item_category_id\n",
       "shop_id item_id date_block_num                                     \n",
       "0       30      1                    265.0   31.0                40\n",
       "1       30      1                    265.0   10.0                40\n",
       "2       30      2                    359.0    1.0                40\n",
       "                5                    399.0    1.0                40\n",
       "                15                   169.0    1.0                40\n",
       "                16                   169.0    1.0                40\n",
       "3       30      1                    399.0    4.0                40\n",
       "                2                    399.0    5.0                40\n",
       "                3                    399.0    2.0                40\n",
       "                4                    399.0    2.0                40\n",
       "                5                    399.0    1.0                40\n",
       "                9                    169.0    1.0                40\n",
       "                10                   169.0    1.0                40\n",
       "                11                   169.0    2.0                40\n",
       "                12                   169.0    1.0                40\n",
       "                30                   129.0    1.0                40\n",
       "4       30      1                    399.0    7.0                40\n",
       "                2                    399.0    3.0                40\n",
       "                7                    399.0    1.0                40\n",
       "5       30      1                    399.0    5.0                40"
      ]
     },
     "execution_count": 62,
     "metadata": {},
     "output_type": "execute_result"
    }
   ],
   "source": [
    "monthly_sales_df.set_index(['shop_id', 'item_id', 'date_block_num']).head(20)"
   ]
  },
  {
   "cell_type": "code",
   "execution_count": 63,
   "metadata": {
    "ExecuteTime": {
     "end_time": "2020-09-12T06:19:35.433613Z",
     "start_time": "2020-09-12T06:19:35.304796Z"
    },
    "hidden": true
   },
   "outputs": [
    {
     "data": {
      "text/plain": [
       "shop_id                60\n",
       "item_id             21807\n",
       "date_block_num         34\n",
       "item_price          41464\n",
       "count                 446\n",
       "item_category_id       84\n",
       "dtype: int64"
      ]
     },
     "execution_count": 63,
     "metadata": {},
     "output_type": "execute_result"
    }
   ],
   "source": [
    "monthly_sales_df.nunique()"
   ]
  },
  {
   "cell_type": "code",
   "execution_count": 64,
   "metadata": {
    "ExecuteTime": {
     "end_time": "2020-09-12T06:19:35.887803Z",
     "start_time": "2020-09-12T06:19:35.859285Z"
    },
    "hidden": true
   },
   "outputs": [
    {
     "data": {
      "text/plain": [
       "ID         214200\n",
       "shop_id        42\n",
       "item_id      5100\n",
       "dtype: int64"
      ]
     },
     "execution_count": 64,
     "metadata": {},
     "output_type": "execute_result"
    }
   ],
   "source": [
    "test_df.nunique()"
   ]
  },
  {
   "cell_type": "code",
   "execution_count": 65,
   "metadata": {
    "ExecuteTime": {
     "end_time": "2020-09-12T06:19:36.545777Z",
     "start_time": "2020-09-12T06:19:36.414802Z"
    },
    "hidden": true
   },
   "outputs": [
    {
     "data": {
      "text/plain": [
       "122"
      ]
     },
     "execution_count": 65,
     "metadata": {},
     "output_type": "execute_result"
    }
   ],
   "source": [
    "gc.collect()"
   ]
  },
  {
   "cell_type": "markdown",
   "metadata": {},
   "source": [
    "### Clip count"
   ]
  },
  {
   "cell_type": "code",
   "execution_count": 13,
   "metadata": {
    "ExecuteTime": {
     "end_time": "2020-09-12T13:22:24.175536Z",
     "start_time": "2020-09-12T13:22:23.847446Z"
    }
   },
   "outputs": [
    {
     "data": {
      "text/plain": [
       "<AxesSubplot:ylabel='Frequency'>"
      ]
     },
     "execution_count": 13,
     "metadata": {},
     "output_type": "execute_result"
    },
    {
     "data": {
      "image/png": "[encoded data removed]",
      "text/plain": [
       "<Figure size 432x288 with 1 Axes>"
      ]
     },
     "metadata": {
      "needs_background": "light"
     },
     "output_type": "display_data"
    }
   ],
   "source": [
    "monthly_sales_df['count'].plot.hist()"
   ]
  },
  {
   "cell_type": "code",
   "execution_count": 14,
   "metadata": {
    "ExecuteTime": {
     "end_time": "2020-09-12T13:22:24.848323Z",
     "start_time": "2020-09-12T13:22:24.504121Z"
    }
   },
   "outputs": [
    {
     "data": {
      "text/plain": [
       "<AxesSubplot:ylabel='Frequency'>"
      ]
     },
     "execution_count": 14,
     "metadata": {},
     "output_type": "execute_result"
    },
    {
     "data": {
      "image/png": "[encoded data removed]",
      "text/plain": [
       "<Figure size 432x288 with 1 Axes>"
      ]
     },
     "metadata": {
      "needs_background": "light"
     },
     "output_type": "display_data"
    }
   ],
   "source": [
    "monthly_sales_df['count'].clip(0, 20, inplace=True)\n",
    "monthly_sales_df['count'].plot.hist()"
   ]
  },
  {
   "cell_type": "markdown",
   "metadata": {},
   "source": [
    "### Create monthly_sales_df backup "
   ]
  },
  {
   "cell_type": "code",
   "execution_count": 15,
   "metadata": {
    "ExecuteTime": {
     "end_time": "2020-09-12T13:22:33.791579Z",
     "start_time": "2020-09-12T13:22:33.772662Z"
    }
   },
   "outputs": [],
   "source": [
    "_monthly_sales_df = monthly_sales_df.copy()"
   ]
  },
  {
   "cell_type": "code",
   "execution_count": 16,
   "metadata": {
    "ExecuteTime": {
     "end_time": "2020-09-12T13:22:34.095786Z",
     "start_time": "2020-09-12T13:22:34.077372Z"
    }
   },
   "outputs": [
    {
     "data": {
      "text/html": [
       "<div>\n",
       "<style scoped>\n",
       "    .dataframe tbody tr th:only-of-type {\n",
       "        vertical-align: middle;\n",
       "    }\n",
       "\n",
       "    .dataframe tbody tr th {\n",
       "        vertical-align: top;\n",
       "    }\n",
       "\n",
       "    .dataframe thead th {\n",
       "        text-align: right;\n",
       "    }\n",
       "</style>\n",
       "<table border=\"1\" class=\"dataframe\">\n",
       "  <thead>\n",
       "    <tr style=\"text-align: right;\">\n",
       "      <th></th>\n",
       "      <th>shop_id</th>\n",
       "      <th>item_id</th>\n",
       "      <th>date_block_num</th>\n",
       "      <th>item_price</th>\n",
       "      <th>count</th>\n",
       "      <th>item_category_id</th>\n",
       "    </tr>\n",
       "  </thead>\n",
       "  <tbody>\n",
       "    <tr>\n",
       "      <th>0</th>\n",
       "      <td>0</td>\n",
       "      <td>30</td>\n",
       "      <td>1</td>\n",
       "      <td>265.0</td>\n",
       "      <td>20.0</td>\n",
       "      <td>40</td>\n",
       "    </tr>\n",
       "    <tr>\n",
       "      <th>1</th>\n",
       "      <td>1</td>\n",
       "      <td>30</td>\n",
       "      <td>1</td>\n",
       "      <td>265.0</td>\n",
       "      <td>10.0</td>\n",
       "      <td>40</td>\n",
       "    </tr>\n",
       "    <tr>\n",
       "      <th>2</th>\n",
       "      <td>2</td>\n",
       "      <td>30</td>\n",
       "      <td>2</td>\n",
       "      <td>359.0</td>\n",
       "      <td>1.0</td>\n",
       "      <td>40</td>\n",
       "    </tr>\n",
       "    <tr>\n",
       "      <th>3</th>\n",
       "      <td>2</td>\n",
       "      <td>30</td>\n",
       "      <td>5</td>\n",
       "      <td>399.0</td>\n",
       "      <td>1.0</td>\n",
       "      <td>40</td>\n",
       "    </tr>\n",
       "    <tr>\n",
       "      <th>4</th>\n",
       "      <td>2</td>\n",
       "      <td>30</td>\n",
       "      <td>15</td>\n",
       "      <td>169.0</td>\n",
       "      <td>1.0</td>\n",
       "      <td>40</td>\n",
       "    </tr>\n",
       "    <tr>\n",
       "      <th>...</th>\n",
       "      <td>...</td>\n",
       "      <td>...</td>\n",
       "      <td>...</td>\n",
       "      <td>...</td>\n",
       "      <td>...</td>\n",
       "      <td>...</td>\n",
       "    </tr>\n",
       "    <tr>\n",
       "      <th>1609119</th>\n",
       "      <td>59</td>\n",
       "      <td>9760</td>\n",
       "      <td>12</td>\n",
       "      <td>179.0</td>\n",
       "      <td>1.0</td>\n",
       "      <td>37</td>\n",
       "    </tr>\n",
       "    <tr>\n",
       "      <th>1609120</th>\n",
       "      <td>59</td>\n",
       "      <td>12846</td>\n",
       "      <td>10</td>\n",
       "      <td>149.0</td>\n",
       "      <td>1.0</td>\n",
       "      <td>37</td>\n",
       "    </tr>\n",
       "    <tr>\n",
       "      <th>1609121</th>\n",
       "      <td>59</td>\n",
       "      <td>16270</td>\n",
       "      <td>6</td>\n",
       "      <td>1000.0</td>\n",
       "      <td>1.0</td>\n",
       "      <td>75</td>\n",
       "    </tr>\n",
       "    <tr>\n",
       "      <th>1609122</th>\n",
       "      <td>59</td>\n",
       "      <td>17732</td>\n",
       "      <td>9</td>\n",
       "      <td>198.0</td>\n",
       "      <td>1.0</td>\n",
       "      <td>28</td>\n",
       "    </tr>\n",
       "    <tr>\n",
       "      <th>1609123</th>\n",
       "      <td>59</td>\n",
       "      <td>18018</td>\n",
       "      <td>0</td>\n",
       "      <td>28.0</td>\n",
       "      <td>1.0</td>\n",
       "      <td>57</td>\n",
       "    </tr>\n",
       "  </tbody>\n",
       "</table>\n",
       "<p>1609124 rows × 6 columns</p>\n",
       "</div>"
      ],
      "text/plain": [
       "         shop_id  item_id  date_block_num  item_price  count  item_category_id\n",
       "0              0       30               1       265.0   20.0                40\n",
       "1              1       30               1       265.0   10.0                40\n",
       "2              2       30               2       359.0    1.0                40\n",
       "3              2       30               5       399.0    1.0                40\n",
       "4              2       30              15       169.0    1.0                40\n",
       "...          ...      ...             ...         ...    ...               ...\n",
       "1609119       59     9760              12       179.0    1.0                37\n",
       "1609120       59    12846              10       149.0    1.0                37\n",
       "1609121       59    16270               6      1000.0    1.0                75\n",
       "1609122       59    17732               9       198.0    1.0                28\n",
       "1609123       59    18018               0        28.0    1.0                57\n",
       "\n",
       "[1609124 rows x 6 columns]"
      ]
     },
     "execution_count": 16,
     "metadata": {},
     "output_type": "execute_result"
    }
   ],
   "source": [
    "_monthly_sales_df"
   ]
  },
  {
   "cell_type": "markdown",
   "metadata": {},
   "source": [
    "## Feature Engineering"
   ]
  },
  {
   "cell_type": "markdown",
   "metadata": {},
   "source": [
    "### Generate Grid features\n"
   ]
  },
  {
   "cell_type": "code",
   "execution_count": 25,
   "metadata": {
    "ExecuteTime": {
     "end_time": "2020-09-12T13:35:35.046309Z",
     "start_time": "2020-09-12T13:35:35.043319Z"
    }
   },
   "outputs": [],
   "source": [
    "from itertools import product"
   ]
  },
  {
   "cell_type": "code",
   "execution_count": 116,
   "metadata": {
    "ExecuteTime": {
     "end_time": "2020-09-12T15:58:36.209079Z",
     "start_time": "2020-09-12T15:58:25.080637Z"
    }
   },
   "outputs": [
    {
     "data": {
      "text/plain": [
       "464"
      ]
     },
     "execution_count": 116,
     "metadata": {},
     "output_type": "execute_result"
    }
   ],
   "source": [
    "monthly_sales_df = _monthly_sales_df.copy()\n",
    "grid = [] \n",
    "\n",
    "unique_shops = test_df['shop_id'].unique()\n",
    "unique_items = test_df['item_id'].unique()\n",
    "\n",
    "# unique_shops = monthly_sales_df['shop_id'].unique()\n",
    "# unique_items = monthly_sales_df['item_id'].unique()\n",
    "\n",
    "unique_block_nums = monthly_sales_df['date_block_num'].unique()\n",
    "\n",
    "grid.append(np.array(list(product(*[unique_shops, unique_items, unique_block_nums])),dtype='int32'))\n",
    "# Turn the grid into a dataframe\n",
    "grid = pd.DataFrame(np.vstack(grid), columns=['shop_id', 'item_id', 'date_block_num'],dtype=np.int32)\n",
    "data = grid.merge(monthly_sales_df, how='left', on=['shop_id', 'item_id', 'date_block_num'])\n",
    "# data.fillna(fillna_series, inplace=True)\n",
    "del grid\n",
    "gc.collect()"
   ]
  },
  {
   "cell_type": "code",
   "execution_count": 177,
   "metadata": {
    "ExecuteTime": {
     "end_time": "2020-09-12T17:02:41.095560Z",
     "start_time": "2020-09-12T16:59:34.401203Z"
    }
   },
   "outputs": [
    {
     "name": "stderr",
     "output_type": "stream",
     "text": [
      "100%|██████████| 214200/214200 [03:04<00:00, 1160.85it/s]\n"
     ]
    }
   ],
   "source": [
    "# Fill item price\n",
    "def fill_nan_by_date_block( df):\n",
    "    df['item_price'] = df['item_price'].ffill().bfill().fillna(0)\n",
    "    return df\n",
    "data = data.sort_values('date_block_num')\n",
    "data = data.groupby(['shop_id', 'item_id'], as_index=False).progress_apply(lambda group: fill_nan_by_date_block(group))\n",
    "\n",
    "data.fillna({'count': 0, 'item_category_id': data['item_category_id'].max()+1}, inplace=True)\n"
   ]
  },
  {
   "cell_type": "code",
   "execution_count": 193,
   "metadata": {
    "ExecuteTime": {
     "end_time": "2020-09-12T17:27:00.478983Z",
     "start_time": "2020-09-12T17:27:00.373510Z"
    },
    "scrolled": true
   },
   "outputs": [
    {
     "data": {
      "text/html": [
       "<div>\n",
       "<style scoped>\n",
       "    .dataframe tbody tr th:only-of-type {\n",
       "        vertical-align: middle;\n",
       "    }\n",
       "\n",
       "    .dataframe tbody tr th {\n",
       "        vertical-align: top;\n",
       "    }\n",
       "\n",
       "    .dataframe thead th {\n",
       "        text-align: right;\n",
       "    }\n",
       "</style>\n",
       "<table border=\"1\" class=\"dataframe\">\n",
       "  <thead>\n",
       "    <tr style=\"text-align: right;\">\n",
       "      <th></th>\n",
       "      <th>shop_id</th>\n",
       "      <th>item_id</th>\n",
       "      <th>date_block_num</th>\n",
       "      <th>item_price</th>\n",
       "      <th>count</th>\n",
       "      <th>item_category_id</th>\n",
       "    </tr>\n",
       "  </thead>\n",
       "  <tbody>\n",
       "    <tr>\n",
       "      <th>3641399</th>\n",
       "      <td>42</td>\n",
       "      <td>969</td>\n",
       "      <td>0</td>\n",
       "      <td>549.0</td>\n",
       "      <td>0.0</td>\n",
       "      <td>84.0</td>\n",
       "    </tr>\n",
       "    <tr>\n",
       "      <th>2566523</th>\n",
       "      <td>21</td>\n",
       "      <td>9894</td>\n",
       "      <td>0</td>\n",
       "      <td>349.0</td>\n",
       "      <td>0.0</td>\n",
       "      <td>84.0</td>\n",
       "    </tr>\n",
       "    <tr>\n",
       "      <th>2566489</th>\n",
       "      <td>21</td>\n",
       "      <td>8391</td>\n",
       "      <td>0</td>\n",
       "      <td>449.0</td>\n",
       "      <td>0.0</td>\n",
       "      <td>84.0</td>\n",
       "    </tr>\n",
       "    <tr>\n",
       "      <th>2566455</th>\n",
       "      <td>21</td>\n",
       "      <td>9425</td>\n",
       "      <td>0</td>\n",
       "      <td>349.0</td>\n",
       "      <td>0.0</td>\n",
       "      <td>84.0</td>\n",
       "    </tr>\n",
       "    <tr>\n",
       "      <th>2566421</th>\n",
       "      <td>21</td>\n",
       "      <td>3344</td>\n",
       "      <td>0</td>\n",
       "      <td>2999.0</td>\n",
       "      <td>0.0</td>\n",
       "      <td>84.0</td>\n",
       "    </tr>\n",
       "    <tr>\n",
       "      <th>...</th>\n",
       "      <td>...</td>\n",
       "      <td>...</td>\n",
       "      <td>...</td>\n",
       "      <td>...</td>\n",
       "      <td>...</td>\n",
       "      <td>...</td>\n",
       "    </tr>\n",
       "    <tr>\n",
       "      <th>1089460</th>\n",
       "      <td>10</td>\n",
       "      <td>11575</td>\n",
       "      <td>33</td>\n",
       "      <td>75.0</td>\n",
       "      <td>0.0</td>\n",
       "      <td>84.0</td>\n",
       "    </tr>\n",
       "    <tr>\n",
       "      <th>6213226</th>\n",
       "      <td>38</td>\n",
       "      <td>11113</td>\n",
       "      <td>33</td>\n",
       "      <td>0.0</td>\n",
       "      <td>0.0</td>\n",
       "      <td>84.0</td>\n",
       "    </tr>\n",
       "    <tr>\n",
       "      <th>7085836</th>\n",
       "      <td>39</td>\n",
       "      <td>7541</td>\n",
       "      <td>33</td>\n",
       "      <td>0.0</td>\n",
       "      <td>0.0</td>\n",
       "      <td>84.0</td>\n",
       "    </tr>\n",
       "    <tr>\n",
       "      <th>1617106</th>\n",
       "      <td>31</td>\n",
       "      <td>15374</td>\n",
       "      <td>33</td>\n",
       "      <td>98.0</td>\n",
       "      <td>0.0</td>\n",
       "      <td>84.0</td>\n",
       "    </tr>\n",
       "    <tr>\n",
       "      <th>5413580</th>\n",
       "      <td>56</td>\n",
       "      <td>4424</td>\n",
       "      <td>33</td>\n",
       "      <td>299.0</td>\n",
       "      <td>0.0</td>\n",
       "      <td>84.0</td>\n",
       "    </tr>\n",
       "  </tbody>\n",
       "</table>\n",
       "<p>7282800 rows × 6 columns</p>\n",
       "</div>"
      ],
      "text/plain": [
       "         shop_id  item_id  date_block_num  item_price  count  item_category_id\n",
       "3641399       42      969               0       549.0    0.0              84.0\n",
       "2566523       21     9894               0       349.0    0.0              84.0\n",
       "2566489       21     8391               0       449.0    0.0              84.0\n",
       "2566455       21     9425               0       349.0    0.0              84.0\n",
       "2566421       21     3344               0      2999.0    0.0              84.0\n",
       "...          ...      ...             ...         ...    ...               ...\n",
       "1089460       10    11575              33        75.0    0.0              84.0\n",
       "6213226       38    11113              33         0.0    0.0              84.0\n",
       "7085836       39     7541              33         0.0    0.0              84.0\n",
       "1617106       31    15374              33        98.0    0.0              84.0\n",
       "5413580       56     4424              33       299.0    0.0              84.0\n",
       "\n",
       "[7282800 rows x 6 columns]"
      ]
     },
     "execution_count": 193,
     "metadata": {},
     "output_type": "execute_result"
    }
   ],
   "source": [
    "_data = data.copy()\n",
    "data"
   ]
  },
  {
   "cell_type": "markdown",
   "metadata": {},
   "source": [
    "### Create date block feature"
   ]
  },
  {
   "cell_type": "code",
   "execution_count": 192,
   "metadata": {
    "ExecuteTime": {
     "end_time": "2020-09-12T17:25:57.140047Z",
     "start_time": "2020-09-12T17:25:57.134883Z"
    }
   },
   "outputs": [],
   "source": [
    "def generate_feature(df, by, base_col, output_col, agg_func):\n",
    "    agg_df = df.groupby(by, as_index=False).agg({base_col: agg_func})\n",
    "    agg_df.rename(columns={base_col: output_col}, inplace=True)\n",
    "    return df.merge(agg_df, how='left', on=by)"
   ]
  },
  {
   "cell_type": "code",
   "execution_count": 194,
   "metadata": {
    "ExecuteTime": {
     "end_time": "2020-09-12T17:28:03.946127Z",
     "start_time": "2020-09-12T17:27:53.750874Z"
    }
   },
   "outputs": [
    {
     "data": {
      "text/html": [
       "<div>\n",
       "<style scoped>\n",
       "    .dataframe tbody tr th:only-of-type {\n",
       "        vertical-align: middle;\n",
       "    }\n",
       "\n",
       "    .dataframe tbody tr th {\n",
       "        vertical-align: top;\n",
       "    }\n",
       "\n",
       "    .dataframe thead th {\n",
       "        text-align: right;\n",
       "    }\n",
       "</style>\n",
       "<table border=\"1\" class=\"dataframe\">\n",
       "  <thead>\n",
       "    <tr style=\"text-align: right;\">\n",
       "      <th></th>\n",
       "      <th>shop_id</th>\n",
       "      <th>item_id</th>\n",
       "      <th>date_block_num</th>\n",
       "      <th>item_price</th>\n",
       "      <th>count</th>\n",
       "      <th>item_category_id</th>\n",
       "      <th>count_by_shop</th>\n",
       "      <th>count_by_item</th>\n",
       "      <th>count_by_item_cat</th>\n",
       "      <th>avg_shop_price</th>\n",
       "      <th>avg_item_price</th>\n",
       "      <th>avg_item_cat_price</th>\n",
       "    </tr>\n",
       "  </thead>\n",
       "  <tbody>\n",
       "    <tr>\n",
       "      <th>0</th>\n",
       "      <td>42</td>\n",
       "      <td>969</td>\n",
       "      <td>0</td>\n",
       "      <td>549.0</td>\n",
       "      <td>0.0</td>\n",
       "      <td>84.0</td>\n",
       "      <td>864.0</td>\n",
       "      <td>0.0</td>\n",
       "      <td>0.0</td>\n",
       "      <td>759.885376</td>\n",
       "      <td>479.715179</td>\n",
       "      <td>532.315430</td>\n",
       "    </tr>\n",
       "    <tr>\n",
       "      <th>1</th>\n",
       "      <td>21</td>\n",
       "      <td>9894</td>\n",
       "      <td>0</td>\n",
       "      <td>349.0</td>\n",
       "      <td>0.0</td>\n",
       "      <td>84.0</td>\n",
       "      <td>335.0</td>\n",
       "      <td>0.0</td>\n",
       "      <td>0.0</td>\n",
       "      <td>661.685608</td>\n",
       "      <td>265.904755</td>\n",
       "      <td>532.315430</td>\n",
       "    </tr>\n",
       "    <tr>\n",
       "      <th>2</th>\n",
       "      <td>21</td>\n",
       "      <td>8391</td>\n",
       "      <td>0</td>\n",
       "      <td>449.0</td>\n",
       "      <td>0.0</td>\n",
       "      <td>84.0</td>\n",
       "      <td>335.0</td>\n",
       "      <td>0.0</td>\n",
       "      <td>0.0</td>\n",
       "      <td>661.685608</td>\n",
       "      <td>351.595245</td>\n",
       "      <td>532.315430</td>\n",
       "    </tr>\n",
       "    <tr>\n",
       "      <th>3</th>\n",
       "      <td>21</td>\n",
       "      <td>9425</td>\n",
       "      <td>0</td>\n",
       "      <td>349.0</td>\n",
       "      <td>0.0</td>\n",
       "      <td>84.0</td>\n",
       "      <td>335.0</td>\n",
       "      <td>0.0</td>\n",
       "      <td>0.0</td>\n",
       "      <td>661.685608</td>\n",
       "      <td>24.928572</td>\n",
       "      <td>532.315430</td>\n",
       "    </tr>\n",
       "    <tr>\n",
       "      <th>4</th>\n",
       "      <td>21</td>\n",
       "      <td>3344</td>\n",
       "      <td>0</td>\n",
       "      <td>2999.0</td>\n",
       "      <td>0.0</td>\n",
       "      <td>84.0</td>\n",
       "      <td>335.0</td>\n",
       "      <td>0.0</td>\n",
       "      <td>0.0</td>\n",
       "      <td>661.685608</td>\n",
       "      <td>2654.801270</td>\n",
       "      <td>532.315430</td>\n",
       "    </tr>\n",
       "    <tr>\n",
       "      <th>...</th>\n",
       "      <td>...</td>\n",
       "      <td>...</td>\n",
       "      <td>...</td>\n",
       "      <td>...</td>\n",
       "      <td>...</td>\n",
       "      <td>...</td>\n",
       "      <td>...</td>\n",
       "      <td>...</td>\n",
       "      <td>...</td>\n",
       "      <td>...</td>\n",
       "      <td>...</td>\n",
       "      <td>...</td>\n",
       "    </tr>\n",
       "    <tr>\n",
       "      <th>7282795</th>\n",
       "      <td>10</td>\n",
       "      <td>11575</td>\n",
       "      <td>33</td>\n",
       "      <td>75.0</td>\n",
       "      <td>0.0</td>\n",
       "      <td>84.0</td>\n",
       "      <td>417.0</td>\n",
       "      <td>22.0</td>\n",
       "      <td>0.0</td>\n",
       "      <td>297.520966</td>\n",
       "      <td>115.142860</td>\n",
       "      <td>393.984467</td>\n",
       "    </tr>\n",
       "    <tr>\n",
       "      <th>7282796</th>\n",
       "      <td>38</td>\n",
       "      <td>11113</td>\n",
       "      <td>33</td>\n",
       "      <td>0.0</td>\n",
       "      <td>0.0</td>\n",
       "      <td>84.0</td>\n",
       "      <td>1017.0</td>\n",
       "      <td>6.0</td>\n",
       "      <td>0.0</td>\n",
       "      <td>521.088074</td>\n",
       "      <td>177.071426</td>\n",
       "      <td>393.984467</td>\n",
       "    </tr>\n",
       "    <tr>\n",
       "      <th>7282797</th>\n",
       "      <td>39</td>\n",
       "      <td>7541</td>\n",
       "      <td>33</td>\n",
       "      <td>0.0</td>\n",
       "      <td>0.0</td>\n",
       "      <td>84.0</td>\n",
       "      <td>827.0</td>\n",
       "      <td>1.0</td>\n",
       "      <td>0.0</td>\n",
       "      <td>467.732544</td>\n",
       "      <td>16.642857</td>\n",
       "      <td>393.984467</td>\n",
       "    </tr>\n",
       "    <tr>\n",
       "      <th>7282798</th>\n",
       "      <td>31</td>\n",
       "      <td>15374</td>\n",
       "      <td>33</td>\n",
       "      <td>98.0</td>\n",
       "      <td>0.0</td>\n",
       "      <td>84.0</td>\n",
       "      <td>5022.0</td>\n",
       "      <td>0.0</td>\n",
       "      <td>0.0</td>\n",
       "      <td>747.882202</td>\n",
       "      <td>223.361908</td>\n",
       "      <td>393.984467</td>\n",
       "    </tr>\n",
       "    <tr>\n",
       "      <th>7282799</th>\n",
       "      <td>56</td>\n",
       "      <td>4424</td>\n",
       "      <td>33</td>\n",
       "      <td>299.0</td>\n",
       "      <td>0.0</td>\n",
       "      <td>84.0</td>\n",
       "      <td>1141.0</td>\n",
       "      <td>15.0</td>\n",
       "      <td>0.0</td>\n",
       "      <td>561.419495</td>\n",
       "      <td>254.142853</td>\n",
       "      <td>393.984467</td>\n",
       "    </tr>\n",
       "  </tbody>\n",
       "</table>\n",
       "<p>7282800 rows × 12 columns</p>\n",
       "</div>"
      ],
      "text/plain": [
       "         shop_id  item_id  date_block_num  item_price  count  \\\n",
       "0             42      969               0       549.0    0.0   \n",
       "1             21     9894               0       349.0    0.0   \n",
       "2             21     8391               0       449.0    0.0   \n",
       "3             21     9425               0       349.0    0.0   \n",
       "4             21     3344               0      2999.0    0.0   \n",
       "...          ...      ...             ...         ...    ...   \n",
       "7282795       10    11575              33        75.0    0.0   \n",
       "7282796       38    11113              33         0.0    0.0   \n",
       "7282797       39     7541              33         0.0    0.0   \n",
       "7282798       31    15374              33        98.0    0.0   \n",
       "7282799       56     4424              33       299.0    0.0   \n",
       "\n",
       "         item_category_id  count_by_shop  count_by_item  count_by_item_cat  \\\n",
       "0                    84.0          864.0            0.0                0.0   \n",
       "1                    84.0          335.0            0.0                0.0   \n",
       "2                    84.0          335.0            0.0                0.0   \n",
       "3                    84.0          335.0            0.0                0.0   \n",
       "4                    84.0          335.0            0.0                0.0   \n",
       "...                   ...            ...            ...                ...   \n",
       "7282795              84.0          417.0           22.0                0.0   \n",
       "7282796              84.0         1017.0            6.0                0.0   \n",
       "7282797              84.0          827.0            1.0                0.0   \n",
       "7282798              84.0         5022.0            0.0                0.0   \n",
       "7282799              84.0         1141.0           15.0                0.0   \n",
       "\n",
       "         avg_shop_price  avg_item_price  avg_item_cat_price  \n",
       "0            759.885376      479.715179          532.315430  \n",
       "1            661.685608      265.904755          532.315430  \n",
       "2            661.685608      351.595245          532.315430  \n",
       "3            661.685608       24.928572          532.315430  \n",
       "4            661.685608     2654.801270          532.315430  \n",
       "...                 ...             ...                 ...  \n",
       "7282795      297.520966      115.142860          393.984467  \n",
       "7282796      521.088074      177.071426          393.984467  \n",
       "7282797      467.732544       16.642857          393.984467  \n",
       "7282798      747.882202      223.361908          393.984467  \n",
       "7282799      561.419495      254.142853          393.984467  \n",
       "\n",
       "[7282800 rows x 12 columns]"
      ]
     },
     "execution_count": 194,
     "metadata": {},
     "output_type": "execute_result"
    }
   ],
   "source": [
    "data = _data.copy()\n",
    "data = generate_feature(data, by=[\n",
    "    'shop_id', 'date_block_num'], base_col='count', output_col='count_by_shop', agg_func='sum')\n",
    "data = generate_feature(data, by=[\n",
    "    'item_id', 'date_block_num'], base_col='count', output_col='count_by_item', agg_func='sum')\n",
    "data = generate_feature(data, by=[\n",
    "    'item_category_id', 'date_block_num'], base_col='count', output_col='count_by_item_cat', agg_func='sum')\n",
    "\n",
    "data = generate_feature(data, by=[\n",
    "    'shop_id', 'date_block_num'], base_col='item_price', output_col='avg_shop_price', agg_func='mean')\n",
    "data = generate_feature(data, by=[\n",
    "    'item_id', 'date_block_num'], base_col='item_price', output_col='avg_item_price', agg_func='mean')\n",
    "data = generate_feature(data, by=[\n",
    "    'item_category_id', 'date_block_num'], base_col='item_price', output_col='avg_item_cat_price', agg_func='mean')\n",
    "data\n"
   ]
  },
  {
   "cell_type": "markdown",
   "metadata": {},
   "source": [
    "### Mean Encoding"
   ]
  },
  {
   "cell_type": "code",
   "execution_count": 195,
   "metadata": {
    "ExecuteTime": {
     "end_time": "2020-09-12T17:29:16.450967Z",
     "start_time": "2020-09-12T17:29:14.368486Z"
    }
   },
   "outputs": [
    {
     "data": {
      "text/html": [
       "<div>\n",
       "<style scoped>\n",
       "    .dataframe tbody tr th:only-of-type {\n",
       "        vertical-align: middle;\n",
       "    }\n",
       "\n",
       "    .dataframe tbody tr th {\n",
       "        vertical-align: top;\n",
       "    }\n",
       "\n",
       "    .dataframe thead th {\n",
       "        text-align: right;\n",
       "    }\n",
       "</style>\n",
       "<table border=\"1\" class=\"dataframe\">\n",
       "  <thead>\n",
       "    <tr style=\"text-align: right;\">\n",
       "      <th></th>\n",
       "      <th>shop_id</th>\n",
       "      <th>item_id</th>\n",
       "      <th>date_block_num</th>\n",
       "      <th>item_price</th>\n",
       "      <th>count</th>\n",
       "      <th>item_category_id</th>\n",
       "      <th>count_by_shop</th>\n",
       "      <th>count_by_item</th>\n",
       "      <th>count_by_item_cat</th>\n",
       "      <th>avg_shop_price</th>\n",
       "      <th>avg_item_price</th>\n",
       "      <th>avg_item_cat_price</th>\n",
       "      <th>shop_id_encoded</th>\n",
       "      <th>item_id_encoded</th>\n",
       "      <th>item_category_id_encoded</th>\n",
       "    </tr>\n",
       "  </thead>\n",
       "  <tbody>\n",
       "    <tr>\n",
       "      <th>0</th>\n",
       "      <td>42</td>\n",
       "      <td>969</td>\n",
       "      <td>0</td>\n",
       "      <td>549.0</td>\n",
       "      <td>0.0</td>\n",
       "      <td>84.0</td>\n",
       "      <td>864.0</td>\n",
       "      <td>0.0</td>\n",
       "      <td>0.0</td>\n",
       "      <td>759.885376</td>\n",
       "      <td>479.715179</td>\n",
       "      <td>532.315430</td>\n",
       "      <td>0.368899</td>\n",
       "      <td>0.158263</td>\n",
       "      <td>0.0</td>\n",
       "    </tr>\n",
       "    <tr>\n",
       "      <th>1</th>\n",
       "      <td>21</td>\n",
       "      <td>9894</td>\n",
       "      <td>0</td>\n",
       "      <td>349.0</td>\n",
       "      <td>0.0</td>\n",
       "      <td>84.0</td>\n",
       "      <td>335.0</td>\n",
       "      <td>0.0</td>\n",
       "      <td>0.0</td>\n",
       "      <td>661.685608</td>\n",
       "      <td>265.904755</td>\n",
       "      <td>532.315430</td>\n",
       "      <td>0.193310</td>\n",
       "      <td>0.054622</td>\n",
       "      <td>0.0</td>\n",
       "    </tr>\n",
       "    <tr>\n",
       "      <th>2</th>\n",
       "      <td>21</td>\n",
       "      <td>8391</td>\n",
       "      <td>0</td>\n",
       "      <td>449.0</td>\n",
       "      <td>0.0</td>\n",
       "      <td>84.0</td>\n",
       "      <td>335.0</td>\n",
       "      <td>0.0</td>\n",
       "      <td>0.0</td>\n",
       "      <td>661.685608</td>\n",
       "      <td>351.595245</td>\n",
       "      <td>532.315430</td>\n",
       "      <td>0.193310</td>\n",
       "      <td>0.158263</td>\n",
       "      <td>0.0</td>\n",
       "    </tr>\n",
       "    <tr>\n",
       "      <th>3</th>\n",
       "      <td>21</td>\n",
       "      <td>9425</td>\n",
       "      <td>0</td>\n",
       "      <td>349.0</td>\n",
       "      <td>0.0</td>\n",
       "      <td>84.0</td>\n",
       "      <td>335.0</td>\n",
       "      <td>0.0</td>\n",
       "      <td>0.0</td>\n",
       "      <td>661.685608</td>\n",
       "      <td>24.928572</td>\n",
       "      <td>532.315430</td>\n",
       "      <td>0.193310</td>\n",
       "      <td>0.002101</td>\n",
       "      <td>0.0</td>\n",
       "    </tr>\n",
       "    <tr>\n",
       "      <th>4</th>\n",
       "      <td>21</td>\n",
       "      <td>3344</td>\n",
       "      <td>0</td>\n",
       "      <td>2999.0</td>\n",
       "      <td>0.0</td>\n",
       "      <td>84.0</td>\n",
       "      <td>335.0</td>\n",
       "      <td>0.0</td>\n",
       "      <td>0.0</td>\n",
       "      <td>661.685608</td>\n",
       "      <td>2654.801270</td>\n",
       "      <td>532.315430</td>\n",
       "      <td>0.193310</td>\n",
       "      <td>0.240896</td>\n",
       "      <td>0.0</td>\n",
       "    </tr>\n",
       "    <tr>\n",
       "      <th>...</th>\n",
       "      <td>...</td>\n",
       "      <td>...</td>\n",
       "      <td>...</td>\n",
       "      <td>...</td>\n",
       "      <td>...</td>\n",
       "      <td>...</td>\n",
       "      <td>...</td>\n",
       "      <td>...</td>\n",
       "      <td>...</td>\n",
       "      <td>...</td>\n",
       "      <td>...</td>\n",
       "      <td>...</td>\n",
       "      <td>...</td>\n",
       "      <td>...</td>\n",
       "      <td>...</td>\n",
       "    </tr>\n",
       "    <tr>\n",
       "      <th>7282795</th>\n",
       "      <td>10</td>\n",
       "      <td>11575</td>\n",
       "      <td>33</td>\n",
       "      <td>75.0</td>\n",
       "      <td>0.0</td>\n",
       "      <td>84.0</td>\n",
       "      <td>417.0</td>\n",
       "      <td>22.0</td>\n",
       "      <td>0.0</td>\n",
       "      <td>297.520966</td>\n",
       "      <td>115.142860</td>\n",
       "      <td>393.984467</td>\n",
       "      <td>0.071073</td>\n",
       "      <td>0.317227</td>\n",
       "      <td>0.0</td>\n",
       "    </tr>\n",
       "    <tr>\n",
       "      <th>7282796</th>\n",
       "      <td>38</td>\n",
       "      <td>11113</td>\n",
       "      <td>33</td>\n",
       "      <td>0.0</td>\n",
       "      <td>0.0</td>\n",
       "      <td>84.0</td>\n",
       "      <td>1017.0</td>\n",
       "      <td>6.0</td>\n",
       "      <td>0.0</td>\n",
       "      <td>521.088074</td>\n",
       "      <td>177.071426</td>\n",
       "      <td>393.984467</td>\n",
       "      <td>0.168408</td>\n",
       "      <td>0.061625</td>\n",
       "      <td>0.0</td>\n",
       "    </tr>\n",
       "    <tr>\n",
       "      <th>7282797</th>\n",
       "      <td>39</td>\n",
       "      <td>7541</td>\n",
       "      <td>33</td>\n",
       "      <td>0.0</td>\n",
       "      <td>0.0</td>\n",
       "      <td>84.0</td>\n",
       "      <td>827.0</td>\n",
       "      <td>1.0</td>\n",
       "      <td>0.0</td>\n",
       "      <td>467.732544</td>\n",
       "      <td>16.642857</td>\n",
       "      <td>393.984467</td>\n",
       "      <td>0.062278</td>\n",
       "      <td>0.028011</td>\n",
       "      <td>0.0</td>\n",
       "    </tr>\n",
       "    <tr>\n",
       "      <th>7282798</th>\n",
       "      <td>31</td>\n",
       "      <td>15374</td>\n",
       "      <td>33</td>\n",
       "      <td>98.0</td>\n",
       "      <td>0.0</td>\n",
       "      <td>84.0</td>\n",
       "      <td>5022.0</td>\n",
       "      <td>0.0</td>\n",
       "      <td>0.0</td>\n",
       "      <td>747.882202</td>\n",
       "      <td>223.361908</td>\n",
       "      <td>393.984467</td>\n",
       "      <td>0.715461</td>\n",
       "      <td>0.115546</td>\n",
       "      <td>0.0</td>\n",
       "    </tr>\n",
       "    <tr>\n",
       "      <th>7282799</th>\n",
       "      <td>56</td>\n",
       "      <td>4424</td>\n",
       "      <td>33</td>\n",
       "      <td>299.0</td>\n",
       "      <td>0.0</td>\n",
       "      <td>84.0</td>\n",
       "      <td>1141.0</td>\n",
       "      <td>15.0</td>\n",
       "      <td>0.0</td>\n",
       "      <td>561.419495</td>\n",
       "      <td>254.142853</td>\n",
       "      <td>393.984467</td>\n",
       "      <td>0.194273</td>\n",
       "      <td>0.208683</td>\n",
       "      <td>0.0</td>\n",
       "    </tr>\n",
       "  </tbody>\n",
       "</table>\n",
       "<p>7282800 rows × 15 columns</p>\n",
       "</div>"
      ],
      "text/plain": [
       "         shop_id  item_id  date_block_num  item_price  count  \\\n",
       "0             42      969               0       549.0    0.0   \n",
       "1             21     9894               0       349.0    0.0   \n",
       "2             21     8391               0       449.0    0.0   \n",
       "3             21     9425               0       349.0    0.0   \n",
       "4             21     3344               0      2999.0    0.0   \n",
       "...          ...      ...             ...         ...    ...   \n",
       "7282795       10    11575              33        75.0    0.0   \n",
       "7282796       38    11113              33         0.0    0.0   \n",
       "7282797       39     7541              33         0.0    0.0   \n",
       "7282798       31    15374              33        98.0    0.0   \n",
       "7282799       56     4424              33       299.0    0.0   \n",
       "\n",
       "         item_category_id  count_by_shop  count_by_item  count_by_item_cat  \\\n",
       "0                    84.0          864.0            0.0                0.0   \n",
       "1                    84.0          335.0            0.0                0.0   \n",
       "2                    84.0          335.0            0.0                0.0   \n",
       "3                    84.0          335.0            0.0                0.0   \n",
       "4                    84.0          335.0            0.0                0.0   \n",
       "...                   ...            ...            ...                ...   \n",
       "7282795              84.0          417.0           22.0                0.0   \n",
       "7282796              84.0         1017.0            6.0                0.0   \n",
       "7282797              84.0          827.0            1.0                0.0   \n",
       "7282798              84.0         5022.0            0.0                0.0   \n",
       "7282799              84.0         1141.0           15.0                0.0   \n",
       "\n",
       "         avg_shop_price  avg_item_price  avg_item_cat_price  shop_id_encoded  \\\n",
       "0            759.885376      479.715179          532.315430         0.368899   \n",
       "1            661.685608      265.904755          532.315430         0.193310   \n",
       "2            661.685608      351.595245          532.315430         0.193310   \n",
       "3            661.685608       24.928572          532.315430         0.193310   \n",
       "4            661.685608     2654.801270          532.315430         0.193310   \n",
       "...                 ...             ...                 ...              ...   \n",
       "7282795      297.520966      115.142860          393.984467         0.071073   \n",
       "7282796      521.088074      177.071426          393.984467         0.168408   \n",
       "7282797      467.732544       16.642857          393.984467         0.062278   \n",
       "7282798      747.882202      223.361908          393.984467         0.715461   \n",
       "7282799      561.419495      254.142853          393.984467         0.194273   \n",
       "\n",
       "         item_id_encoded  item_category_id_encoded  \n",
       "0               0.158263                       0.0  \n",
       "1               0.054622                       0.0  \n",
       "2               0.158263                       0.0  \n",
       "3               0.002101                       0.0  \n",
       "4               0.240896                       0.0  \n",
       "...                  ...                       ...  \n",
       "7282795         0.317227                       0.0  \n",
       "7282796         0.061625                       0.0  \n",
       "7282797         0.028011                       0.0  \n",
       "7282798         0.115546                       0.0  \n",
       "7282799         0.208683                       0.0  \n",
       "\n",
       "[7282800 rows x 15 columns]"
      ]
     },
     "execution_count": 195,
     "metadata": {},
     "output_type": "execute_result"
    }
   ],
   "source": [
    "def mean_encoding(df, cat_col, target_col):\n",
    "    encoder = df.groupby(cat_col)[target_col].mean()\n",
    "    return df[cat_col].map(encoder)\n",
    "data['shop_id_encoded'] = mean_encoding(data, 'shop_id', 'count')\n",
    "data['item_id_encoded'] = mean_encoding(data, 'item_id', 'count')\n",
    "data['item_category_id_encoded'] = mean_encoding(data, 'item_category_id', 'count')\n",
    "data"
   ]
  },
  {
   "cell_type": "code",
   "execution_count": null,
   "metadata": {},
   "outputs": [],
   "source": []
  },
  {
   "cell_type": "markdown",
   "metadata": {},
   "source": [
    "### Standardization"
   ]
  },
  {
   "cell_type": "code",
   "execution_count": 220,
   "metadata": {
    "ExecuteTime": {
     "end_time": "2020-09-12T18:26:58.695544Z",
     "start_time": "2020-09-12T18:26:43.856986Z"
    }
   },
   "outputs": [
    {
     "data": {
      "text/html": [
       "<div>\n",
       "<style scoped>\n",
       "    .dataframe tbody tr th:only-of-type {\n",
       "        vertical-align: middle;\n",
       "    }\n",
       "\n",
       "    .dataframe tbody tr th {\n",
       "        vertical-align: top;\n",
       "    }\n",
       "\n",
       "    .dataframe thead th {\n",
       "        text-align: right;\n",
       "    }\n",
       "</style>\n",
       "<table border=\"1\" class=\"dataframe\">\n",
       "  <thead>\n",
       "    <tr style=\"text-align: right;\">\n",
       "      <th></th>\n",
       "      <th>shop_id</th>\n",
       "      <th>item_id</th>\n",
       "      <th>date_block_num</th>\n",
       "      <th>item_price</th>\n",
       "      <th>count</th>\n",
       "      <th>item_category_id</th>\n",
       "      <th>count_by_shop</th>\n",
       "      <th>count_by_item</th>\n",
       "      <th>count_by_item_cat</th>\n",
       "      <th>avg_shop_price</th>\n",
       "      <th>avg_item_price</th>\n",
       "      <th>avg_item_cat_price</th>\n",
       "      <th>shop_id_encoded</th>\n",
       "      <th>item_id_encoded</th>\n",
       "      <th>item_category_id_encoded</th>\n",
       "    </tr>\n",
       "  </thead>\n",
       "  <tbody>\n",
       "    <tr>\n",
       "      <th>0</th>\n",
       "      <td>42</td>\n",
       "      <td>969</td>\n",
       "      <td>0</td>\n",
       "      <td>0.016140</td>\n",
       "      <td>-0.179743</td>\n",
       "      <td>84.0</td>\n",
       "      <td>-0.115678</td>\n",
       "      <td>-0.252319</td>\n",
       "      <td>-0.23553</td>\n",
       "      <td>1.580639</td>\n",
       "      <td>-0.038026</td>\n",
       "      <td>0.015641</td>\n",
       "      <td>1.376639</td>\n",
       "      <td>-0.063108</td>\n",
       "      <td>-0.261772</td>\n",
       "    </tr>\n",
       "    <tr>\n",
       "      <th>1</th>\n",
       "      <td>21</td>\n",
       "      <td>9894</td>\n",
       "      <td>0</td>\n",
       "      <td>-0.121687</td>\n",
       "      <td>-0.179743</td>\n",
       "      <td>84.0</td>\n",
       "      <td>-0.770237</td>\n",
       "      <td>-0.252319</td>\n",
       "      <td>-0.23553</td>\n",
       "      <td>0.918181</td>\n",
       "      <td>-0.215300</td>\n",
       "      <td>0.015641</td>\n",
       "      <td>0.042309</td>\n",
       "      <td>-0.284977</td>\n",
       "      <td>-0.261772</td>\n",
       "    </tr>\n",
       "    <tr>\n",
       "      <th>2</th>\n",
       "      <td>21</td>\n",
       "      <td>8391</td>\n",
       "      <td>0</td>\n",
       "      <td>-0.052773</td>\n",
       "      <td>-0.179743</td>\n",
       "      <td>84.0</td>\n",
       "      <td>-0.770237</td>\n",
       "      <td>-0.252319</td>\n",
       "      <td>-0.23553</td>\n",
       "      <td>0.918181</td>\n",
       "      <td>-0.144253</td>\n",
       "      <td>0.015641</td>\n",
       "      <td>0.042309</td>\n",
       "      <td>-0.063108</td>\n",
       "      <td>-0.261772</td>\n",
       "    </tr>\n",
       "    <tr>\n",
       "      <th>3</th>\n",
       "      <td>21</td>\n",
       "      <td>9425</td>\n",
       "      <td>0</td>\n",
       "      <td>-0.121687</td>\n",
       "      <td>-0.179743</td>\n",
       "      <td>84.0</td>\n",
       "      <td>-0.770237</td>\n",
       "      <td>-0.252319</td>\n",
       "      <td>-0.23553</td>\n",
       "      <td>0.918181</td>\n",
       "      <td>-0.415097</td>\n",
       "      <td>0.015641</td>\n",
       "      <td>0.042309</td>\n",
       "      <td>-0.397411</td>\n",
       "      <td>-0.261772</td>\n",
       "    </tr>\n",
       "    <tr>\n",
       "      <th>4</th>\n",
       "      <td>21</td>\n",
       "      <td>3344</td>\n",
       "      <td>0</td>\n",
       "      <td>1.704521</td>\n",
       "      <td>-0.179743</td>\n",
       "      <td>84.0</td>\n",
       "      <td>-0.770237</td>\n",
       "      <td>-0.252319</td>\n",
       "      <td>-0.23553</td>\n",
       "      <td>0.918181</td>\n",
       "      <td>1.765374</td>\n",
       "      <td>0.015641</td>\n",
       "      <td>0.042309</td>\n",
       "      <td>0.113788</td>\n",
       "      <td>-0.261772</td>\n",
       "    </tr>\n",
       "    <tr>\n",
       "      <th>...</th>\n",
       "      <td>...</td>\n",
       "      <td>...</td>\n",
       "      <td>...</td>\n",
       "      <td>...</td>\n",
       "      <td>...</td>\n",
       "      <td>...</td>\n",
       "      <td>...</td>\n",
       "      <td>...</td>\n",
       "      <td>...</td>\n",
       "      <td>...</td>\n",
       "      <td>...</td>\n",
       "      <td>...</td>\n",
       "      <td>...</td>\n",
       "      <td>...</td>\n",
       "      <td>...</td>\n",
       "    </tr>\n",
       "    <tr>\n",
       "      <th>7282795</th>\n",
       "      <td>10</td>\n",
       "      <td>11575</td>\n",
       "      <td>33</td>\n",
       "      <td>-0.310510</td>\n",
       "      <td>-0.179743</td>\n",
       "      <td>84.0</td>\n",
       "      <td>-0.668774</td>\n",
       "      <td>0.451660</td>\n",
       "      <td>-0.23553</td>\n",
       "      <td>-1.538483</td>\n",
       "      <td>-0.340299</td>\n",
       "      <td>-0.305529</td>\n",
       "      <td>-0.886599</td>\n",
       "      <td>0.277192</td>\n",
       "      <td>-0.261772</td>\n",
       "    </tr>\n",
       "    <tr>\n",
       "      <th>7282796</th>\n",
       "      <td>38</td>\n",
       "      <td>11113</td>\n",
       "      <td>33</td>\n",
       "      <td>-0.362195</td>\n",
       "      <td>-0.179743</td>\n",
       "      <td>84.0</td>\n",
       "      <td>0.073637</td>\n",
       "      <td>-0.060324</td>\n",
       "      <td>-0.23553</td>\n",
       "      <td>-0.030294</td>\n",
       "      <td>-0.288953</td>\n",
       "      <td>-0.305529</td>\n",
       "      <td>-0.146926</td>\n",
       "      <td>-0.269986</td>\n",
       "      <td>-0.261772</td>\n",
       "    </tr>\n",
       "    <tr>\n",
       "      <th>7282797</th>\n",
       "      <td>39</td>\n",
       "      <td>7541</td>\n",
       "      <td>33</td>\n",
       "      <td>-0.362195</td>\n",
       "      <td>-0.179743</td>\n",
       "      <td>84.0</td>\n",
       "      <td>-0.161460</td>\n",
       "      <td>-0.220320</td>\n",
       "      <td>-0.23553</td>\n",
       "      <td>-0.390231</td>\n",
       "      <td>-0.421967</td>\n",
       "      <td>-0.305529</td>\n",
       "      <td>-0.953432</td>\n",
       "      <td>-0.341944</td>\n",
       "      <td>-0.261772</td>\n",
       "    </tr>\n",
       "    <tr>\n",
       "      <th>7282798</th>\n",
       "      <td>31</td>\n",
       "      <td>15374</td>\n",
       "      <td>33</td>\n",
       "      <td>-0.294659</td>\n",
       "      <td>-0.179743</td>\n",
       "      <td>84.0</td>\n",
       "      <td>5.029230</td>\n",
       "      <td>-0.252319</td>\n",
       "      <td>-0.23553</td>\n",
       "      <td>1.499665</td>\n",
       "      <td>-0.250573</td>\n",
       "      <td>-0.305529</td>\n",
       "      <td>4.010240</td>\n",
       "      <td>-0.154554</td>\n",
       "      <td>-0.261772</td>\n",
       "    </tr>\n",
       "    <tr>\n",
       "      <th>7282799</th>\n",
       "      <td>56</td>\n",
       "      <td>4424</td>\n",
       "      <td>33</td>\n",
       "      <td>-0.156143</td>\n",
       "      <td>-0.179743</td>\n",
       "      <td>84.0</td>\n",
       "      <td>0.227069</td>\n",
       "      <td>0.227667</td>\n",
       "      <td>-0.23553</td>\n",
       "      <td>0.241783</td>\n",
       "      <td>-0.225052</td>\n",
       "      <td>-0.305529</td>\n",
       "      <td>0.049627</td>\n",
       "      <td>0.044829</td>\n",
       "      <td>-0.261772</td>\n",
       "    </tr>\n",
       "  </tbody>\n",
       "</table>\n",
       "<p>7282800 rows × 15 columns</p>\n",
       "</div>"
      ],
      "text/plain": [
       "         shop_id  item_id  date_block_num  item_price     count  \\\n",
       "0             42      969               0    0.016140 -0.179743   \n",
       "1             21     9894               0   -0.121687 -0.179743   \n",
       "2             21     8391               0   -0.052773 -0.179743   \n",
       "3             21     9425               0   -0.121687 -0.179743   \n",
       "4             21     3344               0    1.704521 -0.179743   \n",
       "...          ...      ...             ...         ...       ...   \n",
       "7282795       10    11575              33   -0.310510 -0.179743   \n",
       "7282796       38    11113              33   -0.362195 -0.179743   \n",
       "7282797       39     7541              33   -0.362195 -0.179743   \n",
       "7282798       31    15374              33   -0.294659 -0.179743   \n",
       "7282799       56     4424              33   -0.156143 -0.179743   \n",
       "\n",
       "         item_category_id  count_by_shop  count_by_item  count_by_item_cat  \\\n",
       "0                    84.0      -0.115678      -0.252319           -0.23553   \n",
       "1                    84.0      -0.770237      -0.252319           -0.23553   \n",
       "2                    84.0      -0.770237      -0.252319           -0.23553   \n",
       "3                    84.0      -0.770237      -0.252319           -0.23553   \n",
       "4                    84.0      -0.770237      -0.252319           -0.23553   \n",
       "...                   ...            ...            ...                ...   \n",
       "7282795              84.0      -0.668774       0.451660           -0.23553   \n",
       "7282796              84.0       0.073637      -0.060324           -0.23553   \n",
       "7282797              84.0      -0.161460      -0.220320           -0.23553   \n",
       "7282798              84.0       5.029230      -0.252319           -0.23553   \n",
       "7282799              84.0       0.227069       0.227667           -0.23553   \n",
       "\n",
       "         avg_shop_price  avg_item_price  avg_item_cat_price  shop_id_encoded  \\\n",
       "0              1.580639       -0.038026            0.015641         1.376639   \n",
       "1              0.918181       -0.215300            0.015641         0.042309   \n",
       "2              0.918181       -0.144253            0.015641         0.042309   \n",
       "3              0.918181       -0.415097            0.015641         0.042309   \n",
       "4              0.918181        1.765374            0.015641         0.042309   \n",
       "...                 ...             ...                 ...              ...   \n",
       "7282795       -1.538483       -0.340299           -0.305529        -0.886599   \n",
       "7282796       -0.030294       -0.288953           -0.305529        -0.146926   \n",
       "7282797       -0.390231       -0.421967           -0.305529        -0.953432   \n",
       "7282798        1.499665       -0.250573           -0.305529         4.010240   \n",
       "7282799        0.241783       -0.225052           -0.305529         0.049627   \n",
       "\n",
       "         item_id_encoded  item_category_id_encoded  \n",
       "0              -0.063108                 -0.261772  \n",
       "1              -0.284977                 -0.261772  \n",
       "2              -0.063108                 -0.261772  \n",
       "3              -0.397411                 -0.261772  \n",
       "4               0.113788                 -0.261772  \n",
       "...                  ...                       ...  \n",
       "7282795         0.277192                 -0.261772  \n",
       "7282796        -0.269986                 -0.261772  \n",
       "7282797        -0.341944                 -0.261772  \n",
       "7282798        -0.154554                 -0.261772  \n",
       "7282799         0.044829                 -0.261772  \n",
       "\n",
       "[7282800 rows x 15 columns]"
      ]
     },
     "execution_count": 220,
     "metadata": {},
     "output_type": "execute_result"
    }
   ],
   "source": [
    "standard_cols = ['item_price', 'count', 'count_by_shop', 'count_by_item',\n",
    "                 'count_by_item_cat', 'avg_shop_price', 'avg_item_price', 'avg_item_cat_price',\n",
    "                 'shop_id_encoded', 'item_id_encoded', 'item_category_id_encoded'\n",
    "                ]\n",
    "standard_cols = list(filter(lambda col: col in data.columns, standard_cols))\n",
    "scaler = StandardScaler()\n",
    "data.loc[:, standard_cols] = scaler.fit_transform(data[standard_cols])\n",
    "data"
   ]
  },
  {
   "cell_type": "code",
   "execution_count": 239,
   "metadata": {
    "ExecuteTime": {
     "end_time": "2020-09-12T18:50:58.990012Z",
     "start_time": "2020-09-12T18:50:58.978468Z"
    }
   },
   "outputs": [
    {
     "data": {
      "text/html": [
       "<div>\n",
       "<style scoped>\n",
       "    .dataframe tbody tr th:only-of-type {\n",
       "        vertical-align: middle;\n",
       "    }\n",
       "\n",
       "    .dataframe tbody tr th {\n",
       "        vertical-align: top;\n",
       "    }\n",
       "\n",
       "    .dataframe thead th {\n",
       "        text-align: right;\n",
       "    }\n",
       "</style>\n",
       "<table border=\"1\" class=\"dataframe\">\n",
       "  <thead>\n",
       "    <tr style=\"text-align: right;\">\n",
       "      <th></th>\n",
       "      <th>mean</th>\n",
       "      <th>var</th>\n",
       "    </tr>\n",
       "  </thead>\n",
       "  <tbody>\n",
       "    <tr>\n",
       "      <th>item_price</th>\n",
       "      <td>525.578654</td>\n",
       "      <td>2.105675e+06</td>\n",
       "    </tr>\n",
       "    <tr>\n",
       "      <th>count</th>\n",
       "      <td>0.187743</td>\n",
       "      <td>1.090997e+00</td>\n",
       "    </tr>\n",
       "    <tr>\n",
       "      <th>count_by_shop</th>\n",
       "      <td>957.488095</td>\n",
       "      <td>6.531513e+05</td>\n",
       "    </tr>\n",
       "    <tr>\n",
       "      <th>count_by_item</th>\n",
       "      <td>7.885196</td>\n",
       "      <td>9.766220e+02</td>\n",
       "    </tr>\n",
       "    <tr>\n",
       "      <th>count_by_item_cat</th>\n",
       "      <td>260.452494</td>\n",
       "      <td>1.222824e+06</td>\n",
       "    </tr>\n",
       "    <tr>\n",
       "      <th>avg_shop_price</th>\n",
       "      <td>525.578655</td>\n",
       "      <td>2.197375e+04</td>\n",
       "    </tr>\n",
       "    <tr>\n",
       "      <th>avg_item_price</th>\n",
       "      <td>525.578655</td>\n",
       "      <td>1.454685e+06</td>\n",
       "    </tr>\n",
       "    <tr>\n",
       "      <th>avg_item_cat_price</th>\n",
       "      <td>525.578656</td>\n",
       "      <td>1.855104e+05</td>\n",
       "    </tr>\n",
       "    <tr>\n",
       "      <th>shop_id_encoded</th>\n",
       "      <td>0.187743</td>\n",
       "      <td>1.731666e-02</td>\n",
       "    </tr>\n",
       "    <tr>\n",
       "      <th>item_id_encoded</th>\n",
       "      <td>0.187743</td>\n",
       "      <td>2.182087e-01</td>\n",
       "    </tr>\n",
       "    <tr>\n",
       "      <th>item_category_id_encoded</th>\n",
       "      <td>0.187743</td>\n",
       "      <td>5.143743e-01</td>\n",
       "    </tr>\n",
       "  </tbody>\n",
       "</table>\n",
       "</div>"
      ],
      "text/plain": [
       "                                mean           var\n",
       "item_price                525.578654  2.105675e+06\n",
       "count                       0.187743  1.090997e+00\n",
       "count_by_shop             957.488095  6.531513e+05\n",
       "count_by_item               7.885196  9.766220e+02\n",
       "count_by_item_cat         260.452494  1.222824e+06\n",
       "avg_shop_price            525.578655  2.197375e+04\n",
       "avg_item_price            525.578655  1.454685e+06\n",
       "avg_item_cat_price        525.578656  1.855104e+05\n",
       "shop_id_encoded             0.187743  1.731666e-02\n",
       "item_id_encoded             0.187743  2.182087e-01\n",
       "item_category_id_encoded    0.187743  5.143743e-01"
      ]
     },
     "execution_count": 239,
     "metadata": {},
     "output_type": "execute_result"
    }
   ],
   "source": [
    "def inverse_scaling(prediction, col):\n",
    "    mean, var = scaler_params.loc[col].tolist()\n",
    "    prediction = prediction * np.sqrt(var) + mean\n",
    "    return prediction\n",
    "scaler_params = pd.DataFrame([scaler.mean_, scaler.var_], columns=standard_cols, index=['mean', 'var']).T\n",
    "scaler_params"
   ]
  },
  {
   "cell_type": "code",
   "execution_count": null,
   "metadata": {},
   "outputs": [],
   "source": []
  },
  {
   "cell_type": "markdown",
   "metadata": {},
   "source": [
    "### Generate past-features"
   ]
  },
  {
   "cell_type": "code",
   "execution_count": 221,
   "metadata": {
    "ExecuteTime": {
     "end_time": "2020-09-12T18:27:13.131776Z",
     "start_time": "2020-09-12T18:27:13.123455Z"
    }
   },
   "outputs": [],
   "source": [
    "timeserie_cols = [\n",
    "    'item_price', 'count', 'count_by_shop', 'count_by_item',\n",
    "    'count_by_item_cat', 'avg_shop_price', 'avg_item_price', 'avg_item_cat_price'\n",
    "]\n",
    "def generate_past_features(data, lookback_steps):\n",
    "    index_cols = ['shop_id', 'item_id', 'date_block_num']\n",
    "#     timeserie_cols = list(data.columns.difference(index_cols + ['item_category_id']))\n",
    "\n",
    "#     new_data = data.copy()\n",
    "    new_data = data[data['date_block_num'] >= max(lookback_steps)]\n",
    "\n",
    "    for lookback_num in tqdm(lookback_steps):\n",
    "        month_shift_df = data.copy()\n",
    "        month_shift_df['date_block_num'] = month_shift_df['date_block_num'] + lookback_num\n",
    "\n",
    "        lookback_cols = [f'p{lookback_num}_{col}' for col in timeserie_cols]\n",
    "        month_shift_df.rename(columns={old_col: new_col for old_col, new_col in zip(timeserie_cols, lookback_cols)}, inplace=True)\n",
    "        month_shift_df = month_shift_df[month_shift_df.columns.sort_values()]\n",
    "        new_data = new_data.merge(\n",
    "            month_shift_df[index_cols+lookback_cols], how='left', on=index_cols)\n",
    "    return new_data"
   ]
  },
  {
   "cell_type": "markdown",
   "metadata": {},
   "source": [
    "### Cross validation split"
   ]
  },
  {
   "cell_type": "code",
   "execution_count": 222,
   "metadata": {
    "ExecuteTime": {
     "end_time": "2020-09-12T18:27:19.455292Z",
     "start_time": "2020-09-12T18:27:19.452000Z"
    }
   },
   "outputs": [],
   "source": [
    "lookback_steps = np.array([1, 2, 3, 4, 5, 6, 9 ]) "
   ]
  },
  {
   "cell_type": "code",
   "execution_count": 223,
   "metadata": {
    "ExecuteTime": {
     "end_time": "2020-09-12T18:28:24.767521Z",
     "start_time": "2020-09-12T18:27:25.730520Z"
    }
   },
   "outputs": [
    {
     "name": "stderr",
     "output_type": "stream",
     "text": [
      "100%|██████████| 7/7 [00:45<00:00,  6.44s/it]\n"
     ]
    },
    {
     "data": {
      "text/plain": [
       "45"
      ]
     },
     "execution_count": 223,
     "metadata": {},
     "output_type": "execute_result"
    }
   ],
   "source": [
    "\n",
    "# val_blocks = [30, 31, 32]\n",
    "val_blocks = [32]\n",
    "\n",
    "train_val_data = generate_past_features(data, lookback_steps)\n",
    "train_data = train_val_data[(train_val_data['date_block_num'] >= 0) & (train_val_data['date_block_num'] < min(val_blocks))]\n",
    "val_data = train_val_data[train_val_data['date_block_num'].isin(val_blocks)]\n",
    "# del data\n",
    "\n",
    "target_col = 'count'\n",
    "feature_cols = train_data.columns.difference(\n",
    "    [target_col, 'date_block_num', 'item_price',\n",
    "     'count_by_shop', 'count_by_item', 'count_by_item_cat',\n",
    "     'avg_shop_price', 'avg_item_price', 'avg_item_cat_price',\n",
    "     'shop_id', 'item_id', 'item_category_id'\n",
    "    ]).sort_values().to_list()\n",
    "\n",
    "X_train = train_data[feature_cols]\n",
    "Y_train = train_data[target_col]\n",
    "\n",
    "X_val = val_data[feature_cols]\n",
    "Y_val = val_data[target_col]\n",
    "\n",
    "del train_val_data, train_data, val_data\n",
    "gc.collect()"
   ]
  },
  {
   "cell_type": "code",
   "execution_count": 224,
   "metadata": {
    "ExecuteTime": {
     "end_time": "2020-09-12T18:28:34.465973Z",
     "start_time": "2020-09-12T18:28:33.586077Z"
    }
   },
   "outputs": [
    {
     "data": {
      "text/html": [
       "<div>\n",
       "<style scoped>\n",
       "    .dataframe tbody tr th:only-of-type {\n",
       "        vertical-align: middle;\n",
       "    }\n",
       "\n",
       "    .dataframe tbody tr th {\n",
       "        vertical-align: top;\n",
       "    }\n",
       "\n",
       "    .dataframe thead th {\n",
       "        text-align: right;\n",
       "    }\n",
       "</style>\n",
       "<table border=\"1\" class=\"dataframe\">\n",
       "  <thead>\n",
       "    <tr style=\"text-align: right;\">\n",
       "      <th></th>\n",
       "      <th>item_category_id_encoded</th>\n",
       "      <th>item_id_encoded</th>\n",
       "      <th>p1_avg_item_cat_price</th>\n",
       "      <th>p1_avg_item_price</th>\n",
       "      <th>p1_avg_shop_price</th>\n",
       "      <th>p1_count</th>\n",
       "      <th>p1_count_by_item</th>\n",
       "      <th>p1_count_by_item_cat</th>\n",
       "      <th>p1_count_by_shop</th>\n",
       "      <th>p1_item_price</th>\n",
       "      <th>...</th>\n",
       "      <th>p6_item_price</th>\n",
       "      <th>p9_avg_item_cat_price</th>\n",
       "      <th>p9_avg_item_price</th>\n",
       "      <th>p9_avg_shop_price</th>\n",
       "      <th>p9_count</th>\n",
       "      <th>p9_count_by_item</th>\n",
       "      <th>p9_count_by_item_cat</th>\n",
       "      <th>p9_count_by_shop</th>\n",
       "      <th>p9_item_price</th>\n",
       "      <th>shop_id_encoded</th>\n",
       "    </tr>\n",
       "  </thead>\n",
       "  <tbody>\n",
       "    <tr>\n",
       "      <th>0</th>\n",
       "      <td>-0.261772</td>\n",
       "      <td>0.008850</td>\n",
       "      <td>-0.000375</td>\n",
       "      <td>0.342258</td>\n",
       "      <td>0.207464</td>\n",
       "      <td>-0.179743</td>\n",
       "      <td>-0.252319</td>\n",
       "      <td>-0.235530</td>\n",
       "      <td>-0.532665</td>\n",
       "      <td>0.326251</td>\n",
       "      <td>...</td>\n",
       "      <td>0.326251</td>\n",
       "      <td>0.015641</td>\n",
       "      <td>0.342258</td>\n",
       "      <td>0.243842</td>\n",
       "      <td>-0.179743</td>\n",
       "      <td>-0.252319</td>\n",
       "      <td>-0.235530</td>\n",
       "      <td>-0.726929</td>\n",
       "      <td>0.326251</td>\n",
       "      <td>-0.146926</td>\n",
       "    </tr>\n",
       "    <tr>\n",
       "      <th>1</th>\n",
       "      <td>-0.261772</td>\n",
       "      <td>-0.401908</td>\n",
       "      <td>-0.000375</td>\n",
       "      <td>-0.435766</td>\n",
       "      <td>0.156227</td>\n",
       "      <td>-0.179743</td>\n",
       "      <td>-0.252319</td>\n",
       "      <td>-0.235530</td>\n",
       "      <td>-0.443576</td>\n",
       "      <td>-0.362195</td>\n",
       "      <td>...</td>\n",
       "      <td>-0.362195</td>\n",
       "      <td>0.015641</td>\n",
       "      <td>-0.435766</td>\n",
       "      <td>0.187112</td>\n",
       "      <td>-0.179743</td>\n",
       "      <td>-0.252319</td>\n",
       "      <td>-0.235530</td>\n",
       "      <td>-0.427490</td>\n",
       "      <td>-0.362195</td>\n",
       "      <td>-0.163054</td>\n",
       "    </tr>\n",
       "    <tr>\n",
       "      <th>2</th>\n",
       "      <td>-0.261772</td>\n",
       "      <td>-0.259492</td>\n",
       "      <td>-0.000375</td>\n",
       "      <td>-0.432805</td>\n",
       "      <td>2.094340</td>\n",
       "      <td>-0.179743</td>\n",
       "      <td>-0.252319</td>\n",
       "      <td>-0.235530</td>\n",
       "      <td>1.176117</td>\n",
       "      <td>-0.362195</td>\n",
       "      <td>...</td>\n",
       "      <td>-0.362195</td>\n",
       "      <td>0.015641</td>\n",
       "      <td>-0.432805</td>\n",
       "      <td>2.144804</td>\n",
       "      <td>-0.179743</td>\n",
       "      <td>-0.252319</td>\n",
       "      <td>-0.235530</td>\n",
       "      <td>0.691076</td>\n",
       "      <td>-0.362195</td>\n",
       "      <td>2.841610</td>\n",
       "    </tr>\n",
       "    <tr>\n",
       "      <th>3</th>\n",
       "      <td>-0.261772</td>\n",
       "      <td>0.167756</td>\n",
       "      <td>-0.000375</td>\n",
       "      <td>-0.265639</td>\n",
       "      <td>0.207464</td>\n",
       "      <td>-0.179743</td>\n",
       "      <td>-0.252319</td>\n",
       "      <td>-0.235530</td>\n",
       "      <td>-0.532665</td>\n",
       "      <td>-0.204383</td>\n",
       "      <td>...</td>\n",
       "      <td>-0.204383</td>\n",
       "      <td>0.015641</td>\n",
       "      <td>-0.265639</td>\n",
       "      <td>0.243842</td>\n",
       "      <td>-0.179743</td>\n",
       "      <td>-0.252319</td>\n",
       "      <td>-0.235530</td>\n",
       "      <td>-0.726929</td>\n",
       "      <td>-0.204383</td>\n",
       "      <td>-0.146926</td>\n",
       "    </tr>\n",
       "    <tr>\n",
       "      <th>4</th>\n",
       "      <td>-0.261772</td>\n",
       "      <td>0.127280</td>\n",
       "      <td>-0.000375</td>\n",
       "      <td>-0.066835</td>\n",
       "      <td>0.156227</td>\n",
       "      <td>-0.179743</td>\n",
       "      <td>-0.252319</td>\n",
       "      <td>-0.235530</td>\n",
       "      <td>-0.443576</td>\n",
       "      <td>-0.018316</td>\n",
       "      <td>...</td>\n",
       "      <td>-0.018316</td>\n",
       "      <td>0.015641</td>\n",
       "      <td>-0.066835</td>\n",
       "      <td>0.187112</td>\n",
       "      <td>-0.179743</td>\n",
       "      <td>-0.252319</td>\n",
       "      <td>-0.235530</td>\n",
       "      <td>-0.427490</td>\n",
       "      <td>-0.018316</td>\n",
       "      <td>-0.163054</td>\n",
       "    </tr>\n",
       "    <tr>\n",
       "      <th>...</th>\n",
       "      <td>...</td>\n",
       "      <td>...</td>\n",
       "      <td>...</td>\n",
       "      <td>...</td>\n",
       "      <td>...</td>\n",
       "      <td>...</td>\n",
       "      <td>...</td>\n",
       "      <td>...</td>\n",
       "      <td>...</td>\n",
       "      <td>...</td>\n",
       "      <td>...</td>\n",
       "      <td>...</td>\n",
       "      <td>...</td>\n",
       "      <td>...</td>\n",
       "      <td>...</td>\n",
       "      <td>...</td>\n",
       "      <td>...</td>\n",
       "      <td>...</td>\n",
       "      <td>...</td>\n",
       "      <td>...</td>\n",
       "      <td>...</td>\n",
       "    </tr>\n",
       "    <tr>\n",
       "      <th>4926595</th>\n",
       "      <td>-0.261772</td>\n",
       "      <td>-0.313460</td>\n",
       "      <td>-0.179235</td>\n",
       "      <td>-0.140008</td>\n",
       "      <td>-0.202413</td>\n",
       "      <td>-0.179743</td>\n",
       "      <td>-0.220320</td>\n",
       "      <td>-0.235530</td>\n",
       "      <td>0.133030</td>\n",
       "      <td>-0.362195</td>\n",
       "      <td>...</td>\n",
       "      <td>-0.362195</td>\n",
       "      <td>-0.144162</td>\n",
       "      <td>-0.130118</td>\n",
       "      <td>-0.132036</td>\n",
       "      <td>-0.179743</td>\n",
       "      <td>-0.156322</td>\n",
       "      <td>-0.235530</td>\n",
       "      <td>0.344617</td>\n",
       "      <td>-0.362195</td>\n",
       "      <td>-0.047006</td>\n",
       "    </tr>\n",
       "    <tr>\n",
       "      <th>4926596</th>\n",
       "      <td>4.640641</td>\n",
       "      <td>3.882570</td>\n",
       "      <td>0.044507</td>\n",
       "      <td>-0.084752</td>\n",
       "      <td>0.383772</td>\n",
       "      <td>0.777646</td>\n",
       "      <td>0.003674</td>\n",
       "      <td>4.327625</td>\n",
       "      <td>0.634157</td>\n",
       "      <td>-0.052773</td>\n",
       "      <td>...</td>\n",
       "      <td>-0.052773</td>\n",
       "      <td>0.048596</td>\n",
       "      <td>-0.084555</td>\n",
       "      <td>0.471242</td>\n",
       "      <td>0.777646</td>\n",
       "      <td>1.795619</td>\n",
       "      <td>6.278224</td>\n",
       "      <td>0.825947</td>\n",
       "      <td>-0.052773</td>\n",
       "      <td>0.181715</td>\n",
       "    </tr>\n",
       "    <tr>\n",
       "      <th>4926597</th>\n",
       "      <td>-0.261772</td>\n",
       "      <td>-0.070603</td>\n",
       "      <td>-0.633575</td>\n",
       "      <td>-0.338700</td>\n",
       "      <td>0.279133</td>\n",
       "      <td>0.777646</td>\n",
       "      <td>0.067672</td>\n",
       "      <td>5.550253</td>\n",
       "      <td>-0.103304</td>\n",
       "      <td>-0.259513</td>\n",
       "      <td>...</td>\n",
       "      <td>-0.259513</td>\n",
       "      <td>-0.144162</td>\n",
       "      <td>-0.338774</td>\n",
       "      <td>0.375701</td>\n",
       "      <td>-0.179743</td>\n",
       "      <td>1.251636</td>\n",
       "      <td>-0.235530</td>\n",
       "      <td>0.055077</td>\n",
       "      <td>-0.259513</td>\n",
       "      <td>-0.124488</td>\n",
       "    </tr>\n",
       "    <tr>\n",
       "      <th>4926598</th>\n",
       "      <td>-0.261772</td>\n",
       "      <td>0.229220</td>\n",
       "      <td>-0.179235</td>\n",
       "      <td>-0.183024</td>\n",
       "      <td>1.344213</td>\n",
       "      <td>-0.179743</td>\n",
       "      <td>0.067672</td>\n",
       "      <td>-0.235530</td>\n",
       "      <td>2.391197</td>\n",
       "      <td>-0.121687</td>\n",
       "      <td>...</td>\n",
       "      <td>-0.121687</td>\n",
       "      <td>-0.526898</td>\n",
       "      <td>-0.211648</td>\n",
       "      <td>1.437093</td>\n",
       "      <td>0.777646</td>\n",
       "      <td>0.195668</td>\n",
       "      <td>5.677762</td>\n",
       "      <td>2.714145</td>\n",
       "      <td>-0.156143</td>\n",
       "      <td>2.108774</td>\n",
       "    </tr>\n",
       "    <tr>\n",
       "      <th>4926599</th>\n",
       "      <td>-0.261772</td>\n",
       "      <td>-0.320956</td>\n",
       "      <td>-0.179235</td>\n",
       "      <td>-0.289387</td>\n",
       "      <td>1.344213</td>\n",
       "      <td>-0.179743</td>\n",
       "      <td>-0.156322</td>\n",
       "      <td>-0.235530</td>\n",
       "      <td>2.391197</td>\n",
       "      <td>-0.156143</td>\n",
       "      <td>...</td>\n",
       "      <td>-0.156143</td>\n",
       "      <td>-0.144162</td>\n",
       "      <td>-0.289387</td>\n",
       "      <td>1.437093</td>\n",
       "      <td>-0.179743</td>\n",
       "      <td>-0.252319</td>\n",
       "      <td>-0.235530</td>\n",
       "      <td>2.714145</td>\n",
       "      <td>-0.156143</td>\n",
       "      <td>2.108774</td>\n",
       "    </tr>\n",
       "  </tbody>\n",
       "</table>\n",
       "<p>4926600 rows × 59 columns</p>\n",
       "</div>"
      ],
      "text/plain": [
       "         item_category_id_encoded  item_id_encoded  p1_avg_item_cat_price  \\\n",
       "0                       -0.261772         0.008850              -0.000375   \n",
       "1                       -0.261772        -0.401908              -0.000375   \n",
       "2                       -0.261772        -0.259492              -0.000375   \n",
       "3                       -0.261772         0.167756              -0.000375   \n",
       "4                       -0.261772         0.127280              -0.000375   \n",
       "...                           ...              ...                    ...   \n",
       "4926595                 -0.261772        -0.313460              -0.179235   \n",
       "4926596                  4.640641         3.882570               0.044507   \n",
       "4926597                 -0.261772        -0.070603              -0.633575   \n",
       "4926598                 -0.261772         0.229220              -0.179235   \n",
       "4926599                 -0.261772        -0.320956              -0.179235   \n",
       "\n",
       "         p1_avg_item_price  p1_avg_shop_price  p1_count  p1_count_by_item  \\\n",
       "0                 0.342258           0.207464 -0.179743         -0.252319   \n",
       "1                -0.435766           0.156227 -0.179743         -0.252319   \n",
       "2                -0.432805           2.094340 -0.179743         -0.252319   \n",
       "3                -0.265639           0.207464 -0.179743         -0.252319   \n",
       "4                -0.066835           0.156227 -0.179743         -0.252319   \n",
       "...                    ...                ...       ...               ...   \n",
       "4926595          -0.140008          -0.202413 -0.179743         -0.220320   \n",
       "4926596          -0.084752           0.383772  0.777646          0.003674   \n",
       "4926597          -0.338700           0.279133  0.777646          0.067672   \n",
       "4926598          -0.183024           1.344213 -0.179743          0.067672   \n",
       "4926599          -0.289387           1.344213 -0.179743         -0.156322   \n",
       "\n",
       "         p1_count_by_item_cat  p1_count_by_shop  p1_item_price  ...  \\\n",
       "0                   -0.235530         -0.532665       0.326251  ...   \n",
       "1                   -0.235530         -0.443576      -0.362195  ...   \n",
       "2                   -0.235530          1.176117      -0.362195  ...   \n",
       "3                   -0.235530         -0.532665      -0.204383  ...   \n",
       "4                   -0.235530         -0.443576      -0.018316  ...   \n",
       "...                       ...               ...            ...  ...   \n",
       "4926595             -0.235530          0.133030      -0.362195  ...   \n",
       "4926596              4.327625          0.634157      -0.052773  ...   \n",
       "4926597              5.550253         -0.103304      -0.259513  ...   \n",
       "4926598             -0.235530          2.391197      -0.121687  ...   \n",
       "4926599             -0.235530          2.391197      -0.156143  ...   \n",
       "\n",
       "         p6_item_price  p9_avg_item_cat_price  p9_avg_item_price  \\\n",
       "0             0.326251               0.015641           0.342258   \n",
       "1            -0.362195               0.015641          -0.435766   \n",
       "2            -0.362195               0.015641          -0.432805   \n",
       "3            -0.204383               0.015641          -0.265639   \n",
       "4            -0.018316               0.015641          -0.066835   \n",
       "...                ...                    ...                ...   \n",
       "4926595      -0.362195              -0.144162          -0.130118   \n",
       "4926596      -0.052773               0.048596          -0.084555   \n",
       "4926597      -0.259513              -0.144162          -0.338774   \n",
       "4926598      -0.121687              -0.526898          -0.211648   \n",
       "4926599      -0.156143              -0.144162          -0.289387   \n",
       "\n",
       "         p9_avg_shop_price  p9_count  p9_count_by_item  p9_count_by_item_cat  \\\n",
       "0                 0.243842 -0.179743         -0.252319             -0.235530   \n",
       "1                 0.187112 -0.179743         -0.252319             -0.235530   \n",
       "2                 2.144804 -0.179743         -0.252319             -0.235530   \n",
       "3                 0.243842 -0.179743         -0.252319             -0.235530   \n",
       "4                 0.187112 -0.179743         -0.252319             -0.235530   \n",
       "...                    ...       ...               ...                   ...   \n",
       "4926595          -0.132036 -0.179743         -0.156322             -0.235530   \n",
       "4926596           0.471242  0.777646          1.795619              6.278224   \n",
       "4926597           0.375701 -0.179743          1.251636             -0.235530   \n",
       "4926598           1.437093  0.777646          0.195668              5.677762   \n",
       "4926599           1.437093 -0.179743         -0.252319             -0.235530   \n",
       "\n",
       "         p9_count_by_shop  p9_item_price  shop_id_encoded  \n",
       "0               -0.726929       0.326251        -0.146926  \n",
       "1               -0.427490      -0.362195        -0.163054  \n",
       "2                0.691076      -0.362195         2.841610  \n",
       "3               -0.726929      -0.204383        -0.146926  \n",
       "4               -0.427490      -0.018316        -0.163054  \n",
       "...                   ...            ...              ...  \n",
       "4926595          0.344617      -0.362195        -0.047006  \n",
       "4926596          0.825947      -0.052773         0.181715  \n",
       "4926597          0.055077      -0.259513        -0.124488  \n",
       "4926598          2.714145      -0.156143         2.108774  \n",
       "4926599          2.714145      -0.156143         2.108774  \n",
       "\n",
       "[4926600 rows x 59 columns]"
      ]
     },
     "execution_count": 224,
     "metadata": {},
     "output_type": "execute_result"
    }
   ],
   "source": [
    "X_train"
   ]
  },
  {
   "cell_type": "code",
   "execution_count": 225,
   "metadata": {
    "ExecuteTime": {
     "end_time": "2020-09-12T18:28:57.635519Z",
     "start_time": "2020-09-12T18:28:43.114439Z"
    }
   },
   "outputs": [
    {
     "name": "stderr",
     "output_type": "stream",
     "text": [
      "100%|██████████| 7/7 [00:11<00:00,  1.71s/it]\n"
     ]
    }
   ],
   "source": [
    "test_lookback_steps = lookback_steps - 1\n",
    "\n",
    "test_block = data['date_block_num'].max()\n",
    "test_data = data[data['date_block_num'] >= test_block - max(test_lookback_steps)]\n",
    "test_data = generate_past_features(test_data, test_lookback_steps)\n",
    "test_data = test_data[test_data['date_block_num'] == test_block]\n",
    "test_data = test_df.merge(test_data, how='left', on=['shop_id', 'item_id'])\n"
   ]
  },
  {
   "cell_type": "code",
   "execution_count": 226,
   "metadata": {
    "ExecuteTime": {
     "end_time": "2020-09-12T18:29:07.788556Z",
     "start_time": "2020-09-12T18:29:06.362455Z"
    }
   },
   "outputs": [
    {
     "data": {
      "text/html": [
       "<div>\n",
       "<style scoped>\n",
       "    .dataframe tbody tr th:only-of-type {\n",
       "        vertical-align: middle;\n",
       "    }\n",
       "\n",
       "    .dataframe tbody tr th {\n",
       "        vertical-align: top;\n",
       "    }\n",
       "\n",
       "    .dataframe thead th {\n",
       "        text-align: right;\n",
       "    }\n",
       "</style>\n",
       "<table border=\"1\" class=\"dataframe\">\n",
       "  <thead>\n",
       "    <tr style=\"text-align: right;\">\n",
       "      <th></th>\n",
       "      <th>item_category_id_encoded</th>\n",
       "      <th>item_id_encoded</th>\n",
       "      <th>p0_avg_item_cat_price</th>\n",
       "      <th>p0_avg_item_price</th>\n",
       "      <th>p0_avg_shop_price</th>\n",
       "      <th>p0_count</th>\n",
       "      <th>p0_count_by_item</th>\n",
       "      <th>p0_count_by_item_cat</th>\n",
       "      <th>p0_count_by_shop</th>\n",
       "      <th>p0_item_price</th>\n",
       "      <th>...</th>\n",
       "      <th>p5_item_price</th>\n",
       "      <th>p8_avg_item_cat_price</th>\n",
       "      <th>p8_avg_item_price</th>\n",
       "      <th>p8_avg_shop_price</th>\n",
       "      <th>p8_count</th>\n",
       "      <th>p8_count_by_item</th>\n",
       "      <th>p8_count_by_item_cat</th>\n",
       "      <th>p8_count_by_shop</th>\n",
       "      <th>p8_item_price</th>\n",
       "      <th>shop_id_encoded</th>\n",
       "    </tr>\n",
       "  </thead>\n",
       "  <tbody>\n",
       "    <tr>\n",
       "      <th>0</th>\n",
       "      <td>-0.261772</td>\n",
       "      <td>1.301089</td>\n",
       "      <td>-0.305529</td>\n",
       "      <td>0.507278</td>\n",
       "      <td>-0.415715</td>\n",
       "      <td>-0.179743</td>\n",
       "      <td>0.547657</td>\n",
       "      <td>-0.235530</td>\n",
       "      <td>0.063738</td>\n",
       "      <td>0.154312</td>\n",
       "      <td>...</td>\n",
       "      <td>0.532992</td>\n",
       "      <td>-0.154318</td>\n",
       "      <td>1.448039</td>\n",
       "      <td>-0.240414</td>\n",
       "      <td>-0.179743</td>\n",
       "      <td>0.771650</td>\n",
       "      <td>-0.235530</td>\n",
       "      <td>-0.187444</td>\n",
       "      <td>1.015386</td>\n",
       "      <td>-0.432006</td>\n",
       "    </tr>\n",
       "    <tr>\n",
       "      <th>1</th>\n",
       "      <td>-0.261772</td>\n",
       "      <td>-0.401908</td>\n",
       "      <td>-0.305529</td>\n",
       "      <td>-0.435766</td>\n",
       "      <td>-0.415715</td>\n",
       "      <td>-0.179743</td>\n",
       "      <td>-0.252319</td>\n",
       "      <td>-0.235530</td>\n",
       "      <td>0.063738</td>\n",
       "      <td>-0.362195</td>\n",
       "      <td>...</td>\n",
       "      <td>-0.362195</td>\n",
       "      <td>-0.154318</td>\n",
       "      <td>-0.435766</td>\n",
       "      <td>-0.240414</td>\n",
       "      <td>-0.179743</td>\n",
       "      <td>-0.252319</td>\n",
       "      <td>-0.235530</td>\n",
       "      <td>-0.187444</td>\n",
       "      <td>-0.362195</td>\n",
       "      <td>-0.432006</td>\n",
       "    </tr>\n",
       "    <tr>\n",
       "      <th>2</th>\n",
       "      <td>3.502423</td>\n",
       "      <td>0.329661</td>\n",
       "      <td>2.395937</td>\n",
       "      <td>0.392078</td>\n",
       "      <td>-0.415715</td>\n",
       "      <td>0.777646</td>\n",
       "      <td>1.091640</td>\n",
       "      <td>1.918540</td>\n",
       "      <td>0.063738</td>\n",
       "      <td>0.464078</td>\n",
       "      <td>...</td>\n",
       "      <td>0.257338</td>\n",
       "      <td>-0.154318</td>\n",
       "      <td>0.263697</td>\n",
       "      <td>-0.240414</td>\n",
       "      <td>-0.179743</td>\n",
       "      <td>-0.252319</td>\n",
       "      <td>-0.235530</td>\n",
       "      <td>-0.187444</td>\n",
       "      <td>0.257338</td>\n",
       "      <td>-0.432006</td>\n",
       "    </tr>\n",
       "    <tr>\n",
       "      <th>3</th>\n",
       "      <td>-0.261772</td>\n",
       "      <td>-0.192032</td>\n",
       "      <td>-0.305529</td>\n",
       "      <td>0.273083</td>\n",
       "      <td>-0.415715</td>\n",
       "      <td>-0.179743</td>\n",
       "      <td>0.643654</td>\n",
       "      <td>-0.235530</td>\n",
       "      <td>0.063738</td>\n",
       "      <td>0.050597</td>\n",
       "      <td>...</td>\n",
       "      <td>0.050597</td>\n",
       "      <td>-0.154318</td>\n",
       "      <td>0.056455</td>\n",
       "      <td>-0.240414</td>\n",
       "      <td>-0.179743</td>\n",
       "      <td>-0.252319</td>\n",
       "      <td>-0.235530</td>\n",
       "      <td>-0.187444</td>\n",
       "      <td>0.050597</td>\n",
       "      <td>-0.432006</td>\n",
       "    </tr>\n",
       "    <tr>\n",
       "      <th>4</th>\n",
       "      <td>-0.261772</td>\n",
       "      <td>-0.401908</td>\n",
       "      <td>-0.305529</td>\n",
       "      <td>-0.435766</td>\n",
       "      <td>-0.415715</td>\n",
       "      <td>-0.179743</td>\n",
       "      <td>-0.252319</td>\n",
       "      <td>-0.235530</td>\n",
       "      <td>0.063738</td>\n",
       "      <td>-0.362195</td>\n",
       "      <td>...</td>\n",
       "      <td>-0.362195</td>\n",
       "      <td>-0.154318</td>\n",
       "      <td>-0.435766</td>\n",
       "      <td>-0.240414</td>\n",
       "      <td>-0.179743</td>\n",
       "      <td>-0.252319</td>\n",
       "      <td>-0.235530</td>\n",
       "      <td>-0.187444</td>\n",
       "      <td>-0.362195</td>\n",
       "      <td>-0.432006</td>\n",
       "    </tr>\n",
       "    <tr>\n",
       "      <th>...</th>\n",
       "      <td>...</td>\n",
       "      <td>...</td>\n",
       "      <td>...</td>\n",
       "      <td>...</td>\n",
       "      <td>...</td>\n",
       "      <td>...</td>\n",
       "      <td>...</td>\n",
       "      <td>...</td>\n",
       "      <td>...</td>\n",
       "      <td>...</td>\n",
       "      <td>...</td>\n",
       "      <td>...</td>\n",
       "      <td>...</td>\n",
       "      <td>...</td>\n",
       "      <td>...</td>\n",
       "      <td>...</td>\n",
       "      <td>...</td>\n",
       "      <td>...</td>\n",
       "      <td>...</td>\n",
       "      <td>...</td>\n",
       "      <td>...</td>\n",
       "    </tr>\n",
       "    <tr>\n",
       "      <th>214195</th>\n",
       "      <td>1.811440</td>\n",
       "      <td>0.286187</td>\n",
       "      <td>-0.456642</td>\n",
       "      <td>-0.351393</td>\n",
       "      <td>-0.537547</td>\n",
       "      <td>0.777646</td>\n",
       "      <td>-0.188321</td>\n",
       "      <td>4.891011</td>\n",
       "      <td>-0.359436</td>\n",
       "      <td>-0.293970</td>\n",
       "      <td>...</td>\n",
       "      <td>-0.225057</td>\n",
       "      <td>-0.508164</td>\n",
       "      <td>-0.292171</td>\n",
       "      <td>-0.378623</td>\n",
       "      <td>0.777646</td>\n",
       "      <td>2.499598</td>\n",
       "      <td>5.034796</td>\n",
       "      <td>-0.443576</td>\n",
       "      <td>-0.225057</td>\n",
       "      <td>-0.542181</td>\n",
       "    </tr>\n",
       "    <tr>\n",
       "      <th>214196</th>\n",
       "      <td>-0.261772</td>\n",
       "      <td>-0.395912</td>\n",
       "      <td>-0.305529</td>\n",
       "      <td>-0.336511</td>\n",
       "      <td>-0.537547</td>\n",
       "      <td>-0.179743</td>\n",
       "      <td>-0.220320</td>\n",
       "      <td>-0.235530</td>\n",
       "      <td>-0.359436</td>\n",
       "      <td>-0.362195</td>\n",
       "      <td>...</td>\n",
       "      <td>-0.362195</td>\n",
       "      <td>-0.154318</td>\n",
       "      <td>-0.336511</td>\n",
       "      <td>-0.378623</td>\n",
       "      <td>-0.179743</td>\n",
       "      <td>-0.252319</td>\n",
       "      <td>-0.235530</td>\n",
       "      <td>-0.443576</td>\n",
       "      <td>-0.362195</td>\n",
       "      <td>-0.542181</td>\n",
       "    </tr>\n",
       "    <tr>\n",
       "      <th>214197</th>\n",
       "      <td>-0.261772</td>\n",
       "      <td>0.046328</td>\n",
       "      <td>-0.305529</td>\n",
       "      <td>-0.277286</td>\n",
       "      <td>-0.537547</td>\n",
       "      <td>-0.179743</td>\n",
       "      <td>-0.092323</td>\n",
       "      <td>-0.235530</td>\n",
       "      <td>-0.359436</td>\n",
       "      <td>-0.225057</td>\n",
       "      <td>...</td>\n",
       "      <td>-0.225057</td>\n",
       "      <td>-0.508164</td>\n",
       "      <td>-0.292092</td>\n",
       "      <td>-0.378623</td>\n",
       "      <td>0.777646</td>\n",
       "      <td>0.003674</td>\n",
       "      <td>5.034796</td>\n",
       "      <td>-0.443576</td>\n",
       "      <td>-0.225057</td>\n",
       "      <td>-0.542181</td>\n",
       "    </tr>\n",
       "    <tr>\n",
       "      <th>214198</th>\n",
       "      <td>-0.261772</td>\n",
       "      <td>-0.328452</td>\n",
       "      <td>-0.305529</td>\n",
       "      <td>-0.404887</td>\n",
       "      <td>-0.537547</td>\n",
       "      <td>-0.179743</td>\n",
       "      <td>-0.188321</td>\n",
       "      <td>-0.235530</td>\n",
       "      <td>-0.359436</td>\n",
       "      <td>-0.362195</td>\n",
       "      <td>...</td>\n",
       "      <td>-0.362195</td>\n",
       "      <td>-0.154318</td>\n",
       "      <td>-0.404496</td>\n",
       "      <td>-0.378623</td>\n",
       "      <td>-0.179743</td>\n",
       "      <td>-0.156322</td>\n",
       "      <td>-0.235530</td>\n",
       "      <td>-0.443576</td>\n",
       "      <td>-0.362195</td>\n",
       "      <td>-0.542181</td>\n",
       "    </tr>\n",
       "    <tr>\n",
       "      <th>214199</th>\n",
       "      <td>-0.261772</td>\n",
       "      <td>-0.063108</td>\n",
       "      <td>-0.305529</td>\n",
       "      <td>-0.174515</td>\n",
       "      <td>-0.537547</td>\n",
       "      <td>-0.179743</td>\n",
       "      <td>-0.156322</td>\n",
       "      <td>-0.235530</td>\n",
       "      <td>-0.359436</td>\n",
       "      <td>0.016140</td>\n",
       "      <td>...</td>\n",
       "      <td>0.016140</td>\n",
       "      <td>-0.154318</td>\n",
       "      <td>-0.069593</td>\n",
       "      <td>-0.378623</td>\n",
       "      <td>-0.179743</td>\n",
       "      <td>-0.092323</td>\n",
       "      <td>-0.235530</td>\n",
       "      <td>-0.443576</td>\n",
       "      <td>0.016140</td>\n",
       "      <td>-0.542181</td>\n",
       "    </tr>\n",
       "  </tbody>\n",
       "</table>\n",
       "<p>214200 rows × 59 columns</p>\n",
       "</div>"
      ],
      "text/plain": [
       "        item_category_id_encoded  item_id_encoded  p0_avg_item_cat_price  \\\n",
       "0                      -0.261772         1.301089              -0.305529   \n",
       "1                      -0.261772        -0.401908              -0.305529   \n",
       "2                       3.502423         0.329661               2.395937   \n",
       "3                      -0.261772        -0.192032              -0.305529   \n",
       "4                      -0.261772        -0.401908              -0.305529   \n",
       "...                          ...              ...                    ...   \n",
       "214195                  1.811440         0.286187              -0.456642   \n",
       "214196                 -0.261772        -0.395912              -0.305529   \n",
       "214197                 -0.261772         0.046328              -0.305529   \n",
       "214198                 -0.261772        -0.328452              -0.305529   \n",
       "214199                 -0.261772        -0.063108              -0.305529   \n",
       "\n",
       "        p0_avg_item_price  p0_avg_shop_price  p0_count  p0_count_by_item  \\\n",
       "0                0.507278          -0.415715 -0.179743          0.547657   \n",
       "1               -0.435766          -0.415715 -0.179743         -0.252319   \n",
       "2                0.392078          -0.415715  0.777646          1.091640   \n",
       "3                0.273083          -0.415715 -0.179743          0.643654   \n",
       "4               -0.435766          -0.415715 -0.179743         -0.252319   \n",
       "...                   ...                ...       ...               ...   \n",
       "214195          -0.351393          -0.537547  0.777646         -0.188321   \n",
       "214196          -0.336511          -0.537547 -0.179743         -0.220320   \n",
       "214197          -0.277286          -0.537547 -0.179743         -0.092323   \n",
       "214198          -0.404887          -0.537547 -0.179743         -0.188321   \n",
       "214199          -0.174515          -0.537547 -0.179743         -0.156322   \n",
       "\n",
       "        p0_count_by_item_cat  p0_count_by_shop  p0_item_price  ...  \\\n",
       "0                  -0.235530          0.063738       0.154312  ...   \n",
       "1                  -0.235530          0.063738      -0.362195  ...   \n",
       "2                   1.918540          0.063738       0.464078  ...   \n",
       "3                  -0.235530          0.063738       0.050597  ...   \n",
       "4                  -0.235530          0.063738      -0.362195  ...   \n",
       "...                      ...               ...            ...  ...   \n",
       "214195              4.891011         -0.359436      -0.293970  ...   \n",
       "214196             -0.235530         -0.359436      -0.362195  ...   \n",
       "214197             -0.235530         -0.359436      -0.225057  ...   \n",
       "214198             -0.235530         -0.359436      -0.362195  ...   \n",
       "214199             -0.235530         -0.359436       0.016140  ...   \n",
       "\n",
       "        p5_item_price  p8_avg_item_cat_price  p8_avg_item_price  \\\n",
       "0            0.532992              -0.154318           1.448039   \n",
       "1           -0.362195              -0.154318          -0.435766   \n",
       "2            0.257338              -0.154318           0.263697   \n",
       "3            0.050597              -0.154318           0.056455   \n",
       "4           -0.362195              -0.154318          -0.435766   \n",
       "...               ...                    ...                ...   \n",
       "214195      -0.225057              -0.508164          -0.292171   \n",
       "214196      -0.362195              -0.154318          -0.336511   \n",
       "214197      -0.225057              -0.508164          -0.292092   \n",
       "214198      -0.362195              -0.154318          -0.404496   \n",
       "214199       0.016140              -0.154318          -0.069593   \n",
       "\n",
       "        p8_avg_shop_price  p8_count  p8_count_by_item  p8_count_by_item_cat  \\\n",
       "0               -0.240414 -0.179743          0.771650             -0.235530   \n",
       "1               -0.240414 -0.179743         -0.252319             -0.235530   \n",
       "2               -0.240414 -0.179743         -0.252319             -0.235530   \n",
       "3               -0.240414 -0.179743         -0.252319             -0.235530   \n",
       "4               -0.240414 -0.179743         -0.252319             -0.235530   \n",
       "...                   ...       ...               ...                   ...   \n",
       "214195          -0.378623  0.777646          2.499598              5.034796   \n",
       "214196          -0.378623 -0.179743         -0.252319             -0.235530   \n",
       "214197          -0.378623  0.777646          0.003674              5.034796   \n",
       "214198          -0.378623 -0.179743         -0.156322             -0.235530   \n",
       "214199          -0.378623 -0.179743         -0.092323             -0.235530   \n",
       "\n",
       "        p8_count_by_shop  p8_item_price  shop_id_encoded  \n",
       "0              -0.187444       1.015386        -0.432006  \n",
       "1              -0.187444      -0.362195        -0.432006  \n",
       "2              -0.187444       0.257338        -0.432006  \n",
       "3              -0.187444       0.050597        -0.432006  \n",
       "4              -0.187444      -0.362195        -0.432006  \n",
       "...                  ...            ...              ...  \n",
       "214195         -0.443576      -0.225057        -0.542181  \n",
       "214196         -0.443576      -0.362195        -0.542181  \n",
       "214197         -0.443576      -0.225057        -0.542181  \n",
       "214198         -0.443576      -0.362195        -0.542181  \n",
       "214199         -0.443576       0.016140        -0.542181  \n",
       "\n",
       "[214200 rows x 59 columns]"
      ]
     },
     "execution_count": 226,
     "metadata": {},
     "output_type": "execute_result"
    }
   ],
   "source": [
    "feature_cols = test_data.columns.difference(\n",
    "    [target_col, 'ID', 'date_block_num', 'item_price',\n",
    "     'count_by_shop', 'count_by_item', 'count_by_item_cat',\n",
    "     'avg_shop_price', 'avg_item_price', 'avg_item_cat_price',\n",
    "     'shop_id', 'item_id', 'item_category_id'\n",
    "    ]).sort_values().to_list()\n",
    "X_test = test_data[feature_cols]\n",
    "\n",
    "# del test_data\n",
    "gc.collect()\n",
    "X_test"
   ]
  },
  {
   "cell_type": "markdown",
   "metadata": {},
   "source": [
    "## Baseline Model"
   ]
  },
  {
   "cell_type": "code",
   "execution_count": 206,
   "metadata": {
    "ExecuteTime": {
     "end_time": "2020-09-12T17:34:16.457262Z",
     "start_time": "2020-09-12T17:34:16.454169Z"
    }
   },
   "outputs": [],
   "source": [
    "from sklearn.ensemble import RandomForestRegressor\n",
    "from sklearn.model_selection import GridSearchCV\n",
    "from sklearn.metrics import r2_score, mean_squared_error, make_scorer"
   ]
  },
  {
   "cell_type": "code",
   "execution_count": 227,
   "metadata": {
    "ExecuteTime": {
     "end_time": "2020-09-12T18:29:16.359144Z",
     "start_time": "2020-09-12T18:29:16.355903Z"
    }
   },
   "outputs": [],
   "source": [
    "rfr = RandomForestRegressor(n_estimators=100,\n",
    "                            max_depth=16,\n",
    "                            max_features='sqrt',\n",
    "                            min_samples_split=2,\n",
    "                            verbose=100,\n",
    "                            random_state=42,\n",
    "                            n_jobs=-1)"
   ]
  },
  {
   "cell_type": "code",
   "execution_count": 228,
   "metadata": {
    "ExecuteTime": {
     "end_time": "2020-09-12T18:33:45.580349Z",
     "start_time": "2020-09-12T18:29:24.991223Z"
    },
    "scrolled": true
   },
   "outputs": [
    {
     "name": "stdout",
     "output_type": "stream",
     "text": [
      "[Parallel(n_jobs=-1)]: Using backend ThreadingBackend with 8 concurrent workers.\n",
      "building tree 1 of 100\n",
      "building tree 2 of 100\n",
      "building tree 3 of 100building tree 4 of 100\n",
      "building tree 5 of 100building tree 6 of 100\n",
      "building tree 7 of 100\n",
      "\n",
      "\n",
      "building tree 8 of 100\n",
      "building tree 9 of 100[Parallel(n_jobs=-1)]: Done   1 tasks      | elapsed:   16.3s\n",
      "\n",
      "building tree 10 of 100[Parallel(n_jobs=-1)]: Done   2 tasks      | elapsed:   16.7s\n",
      "\n",
      "building tree 11 of 100[Parallel(n_jobs=-1)]: Done   3 tasks      | elapsed:   18.6s\n",
      "\n",
      "building tree 12 of 100[Parallel(n_jobs=-1)]: Done   4 tasks      | elapsed:   25.0s\n",
      "\n",
      "building tree 13 of 100[Parallel(n_jobs=-1)]: Done   5 tasks      | elapsed:   25.7s\n",
      "\n",
      "building tree 14 of 100[Parallel(n_jobs=-1)]: Done   6 tasks      | elapsed:   26.6s\n",
      "\n",
      "building tree 15 of 100[Parallel(n_jobs=-1)]: Done   7 tasks      | elapsed:   27.3s\n",
      "\n",
      "building tree 16 of 100[Parallel(n_jobs=-1)]: Done   8 tasks      | elapsed:   30.4s\n",
      "\n",
      "building tree 17 of 100[Parallel(n_jobs=-1)]: Done   9 tasks      | elapsed:   33.4s\n",
      "\n",
      "building tree 18 of 100[Parallel(n_jobs=-1)]: Done  10 tasks      | elapsed:   35.5s\n",
      "\n",
      "building tree 19 of 100[Parallel(n_jobs=-1)]: Done  11 tasks      | elapsed:   37.0s\n",
      "\n",
      "building tree 20 of 100[Parallel(n_jobs=-1)]: Done  12 tasks      | elapsed:   38.1s\n",
      "\n",
      "building tree 21 of 100[Parallel(n_jobs=-1)]: Done  13 tasks      | elapsed:   38.1s\n",
      "\n",
      "building tree 22 of 100[Parallel(n_jobs=-1)]: Done  14 tasks      | elapsed:   41.0s\n",
      "\n",
      "building tree 23 of 100[Parallel(n_jobs=-1)]: Done  15 tasks      | elapsed:   44.3s\n",
      "\n",
      "building tree 24 of 100[Parallel(n_jobs=-1)]: Done  16 tasks      | elapsed:   52.5s\n",
      "\n",
      "building tree 25 of 100[Parallel(n_jobs=-1)]: Done  17 tasks      | elapsed:   53.3s\n",
      "\n",
      "building tree 26 of 100[Parallel(n_jobs=-1)]: Done  18 tasks      | elapsed:  1.0min\n",
      "\n",
      "building tree 27 of 100[Parallel(n_jobs=-1)]: Done  19 tasks      | elapsed:  1.1min\n",
      "\n",
      "building tree 28 of 100[Parallel(n_jobs=-1)]: Done  20 tasks      | elapsed:  1.1min\n",
      "\n",
      "building tree 29 of 100[Parallel(n_jobs=-1)]: Done  21 tasks      | elapsed:  1.1min\n",
      "\n",
      "building tree 30 of 100[Parallel(n_jobs=-1)]: Done  22 tasks      | elapsed:  1.2min\n",
      "\n",
      "building tree 31 of 100[Parallel(n_jobs=-1)]: Done  23 tasks      | elapsed:  1.3min\n",
      "\n",
      "building tree 32 of 100[Parallel(n_jobs=-1)]: Done  24 tasks      | elapsed:  1.3min\n",
      "\n",
      "building tree 33 of 100[Parallel(n_jobs=-1)]: Done  25 tasks      | elapsed:  1.3min\n",
      "\n",
      "building tree 34 of 100[Parallel(n_jobs=-1)]: Done  26 tasks      | elapsed:  1.3min\n",
      "\n",
      "building tree 35 of 100[Parallel(n_jobs=-1)]: Done  27 tasks      | elapsed:  1.3min\n",
      "\n",
      "building tree 36 of 100[Parallel(n_jobs=-1)]: Done  28 tasks      | elapsed:  1.4min\n",
      "\n",
      "building tree 37 of 100[Parallel(n_jobs=-1)]: Done  29 tasks      | elapsed:  1.4min\n",
      "\n",
      "building tree 38 of 100[Parallel(n_jobs=-1)]: Done  30 tasks      | elapsed:  1.5min\n",
      "building tree 39 of 100\n",
      "\n",
      "[Parallel(n_jobs=-1)]: Done  31 tasks      | elapsed:  1.5min\n",
      "building tree 40 of 100[Parallel(n_jobs=-1)]: Done  32 tasks      | elapsed:  1.6min\n",
      "\n",
      "building tree 41 of 100[Parallel(n_jobs=-1)]: Done  33 tasks      | elapsed:  1.6min\n",
      "\n",
      "building tree 42 of 100[Parallel(n_jobs=-1)]: Done  34 tasks      | elapsed:  1.6min\n",
      "\n",
      "building tree 43 of 100[Parallel(n_jobs=-1)]: Done  35 tasks      | elapsed:  1.7min\n",
      "\n",
      "building tree 44 of 100[Parallel(n_jobs=-1)]: Done  36 tasks      | elapsed:  1.8min\n",
      "\n",
      "building tree 45 of 100[Parallel(n_jobs=-1)]: Done  37 tasks      | elapsed:  1.8min\n",
      "\n",
      "building tree 46 of 100[Parallel(n_jobs=-1)]: Done  38 tasks      | elapsed:  1.8min\n",
      "\n",
      "building tree 47 of 100[Parallel(n_jobs=-1)]: Done  39 tasks      | elapsed:  1.9min\n",
      "\n",
      "building tree 48 of 100[Parallel(n_jobs=-1)]: Done  40 tasks      | elapsed:  1.9min\n",
      "\n",
      "building tree 49 of 100[Parallel(n_jobs=-1)]: Done  41 tasks      | elapsed:  2.1min\n",
      "\n",
      "building tree 50 of 100[Parallel(n_jobs=-1)]: Done  42 tasks      | elapsed:  2.1min\n",
      "\n",
      "building tree 51 of 100[Parallel(n_jobs=-1)]: Done  43 tasks      | elapsed:  2.1min\n",
      "\n",
      "building tree 52 of 100[Parallel(n_jobs=-1)]: Done  44 tasks      | elapsed:  2.2min\n",
      "\n",
      "building tree 53 of 100[Parallel(n_jobs=-1)]: Done  45 tasks      | elapsed:  2.2min\n",
      "\n",
      "building tree 54 of 100[Parallel(n_jobs=-1)]: Done  46 tasks      | elapsed:  2.2min\n",
      "\n",
      "building tree 55 of 100[Parallel(n_jobs=-1)]: Done  47 tasks      | elapsed:  2.3min\n",
      "\n",
      "building tree 56 of 100[Parallel(n_jobs=-1)]: Done  48 tasks      | elapsed:  2.3min\n",
      "\n",
      "building tree 57 of 100[Parallel(n_jobs=-1)]: Done  49 tasks      | elapsed:  2.3min\n",
      "\n",
      "building tree 58 of 100[Parallel(n_jobs=-1)]: Done  50 tasks      | elapsed:  2.4min\n",
      "\n",
      "building tree 59 of 100[Parallel(n_jobs=-1)]: Done  51 tasks      | elapsed:  2.4min\n",
      "\n",
      "building tree 60 of 100[Parallel(n_jobs=-1)]: Done  52 tasks      | elapsed:  2.4min\n",
      "\n",
      "building tree 61 of 100[Parallel(n_jobs=-1)]: Done  53 tasks      | elapsed:  2.4min\n",
      "\n",
      "building tree 62 of 100[Parallel(n_jobs=-1)]: Done  54 tasks      | elapsed:  2.4min\n",
      "\n",
      "building tree 63 of 100[Parallel(n_jobs=-1)]: Done  55 tasks      | elapsed:  2.5min\n",
      "\n",
      "building tree 64 of 100[Parallel(n_jobs=-1)]: Done  56 tasks      | elapsed:  2.5min\n",
      "\n",
      "building tree 65 of 100[Parallel(n_jobs=-1)]: Done  57 tasks      | elapsed:  2.6min\n",
      "\n",
      "building tree 66 of 100[Parallel(n_jobs=-1)]: Done  58 tasks      | elapsed:  2.6min\n",
      "\n",
      "building tree 67 of 100[Parallel(n_jobs=-1)]: Done  59 tasks      | elapsed:  2.7min\n",
      "\n",
      "building tree 68 of 100[Parallel(n_jobs=-1)]: Done  60 tasks      | elapsed:  2.7min\n",
      "\n",
      "building tree 69 of 100[Parallel(n_jobs=-1)]: Done  61 tasks      | elapsed:  2.7min\n",
      "\n",
      "building tree 70 of 100[Parallel(n_jobs=-1)]: Done  62 tasks      | elapsed:  2.7min\n",
      "\n",
      "building tree 71 of 100[Parallel(n_jobs=-1)]: Done  63 tasks      | elapsed:  2.8min\n",
      "\n",
      "building tree 72 of 100[Parallel(n_jobs=-1)]: Done  64 tasks      | elapsed:  2.8min\n",
      "\n",
      "building tree 73 of 100[Parallel(n_jobs=-1)]: Done  65 tasks      | elapsed:  2.8min\n",
      "\n",
      "building tree 74 of 100[Parallel(n_jobs=-1)]: Done  66 tasks      | elapsed:  2.9min\n",
      "\n",
      "building tree 75 of 100[Parallel(n_jobs=-1)]: Done  67 tasks      | elapsed:  3.0min\n",
      "\n",
      "building tree 76 of 100[Parallel(n_jobs=-1)]: Done  68 tasks      | elapsed:  3.0min\n",
      "\n",
      "building tree 77 of 100[Parallel(n_jobs=-1)]: Done  69 tasks      | elapsed:  3.1min\n",
      "\n",
      "building tree 78 of 100[Parallel(n_jobs=-1)]: Done  70 tasks      | elapsed:  3.1min\n",
      "\n",
      "building tree 79 of 100[Parallel(n_jobs=-1)]: Done  71 tasks      | elapsed:  3.2min\n",
      "\n",
      "building tree 80 of 100[Parallel(n_jobs=-1)]: Done  72 tasks      | elapsed:  3.2min\n",
      "\n",
      "building tree 81 of 100[Parallel(n_jobs=-1)]: Done  73 tasks      | elapsed:  3.3min\n",
      "\n",
      "building tree 82 of 100[Parallel(n_jobs=-1)]: Done  74 tasks      | elapsed:  3.3min\n",
      "\n",
      "building tree 83 of 100[Parallel(n_jobs=-1)]: Done  75 tasks      | elapsed:  3.4min\n",
      "\n",
      "building tree 84 of 100[Parallel(n_jobs=-1)]: Done  76 tasks      | elapsed:  3.4min\n",
      "\n",
      "building tree 85 of 100[Parallel(n_jobs=-1)]: Done  77 tasks      | elapsed:  3.5min\n",
      "\n",
      "building tree 86 of 100[Parallel(n_jobs=-1)]: Done  78 tasks      | elapsed:  3.5min\n",
      "\n",
      "building tree 87 of 100[Parallel(n_jobs=-1)]: Done  79 tasks      | elapsed:  3.5min\n",
      "\n",
      "building tree 88 of 100[Parallel(n_jobs=-1)]: Done  80 tasks      | elapsed:  3.6min\n",
      "\n",
      "building tree 89 of 100[Parallel(n_jobs=-1)]: Done  81 tasks      | elapsed:  3.6min\n",
      "\n",
      "building tree 90 of 100[Parallel(n_jobs=-1)]: Done  82 tasks      | elapsed:  3.7min\n",
      "\n",
      "building tree 91 of 100[Parallel(n_jobs=-1)]: Done  83 tasks      | elapsed:  3.7min\n",
      "\n",
      "building tree 92 of 100[Parallel(n_jobs=-1)]: Done  84 tasks      | elapsed:  3.7min\n",
      "\n",
      "building tree 93 of 100[Parallel(n_jobs=-1)]: Done  85 tasks      | elapsed:  3.7min\n",
      "\n",
      "building tree 94 of 100\n",
      "building tree 95 of 100[Parallel(n_jobs=-1)]: Done  87 out of 100 | elapsed:  3.8min remaining:   34.1s\n",
      "\n",
      "building tree 96 of 100\n",
      "[Parallel(n_jobs=-1)]: Done  89 out of 100 | elapsed:  3.9min remaining:   28.7s\n",
      "building tree 97 of 100\n",
      "building tree 98 of 100\n",
      "building tree 99 of 100[Parallel(n_jobs=-1)]: Done  91 out of 100 | elapsed:  3.9min remaining:   23.3s\n",
      "\n",
      "building tree 100 of 100\n",
      "[Parallel(n_jobs=-1)]: Done  93 out of 100 | elapsed:  4.0min remaining:   18.0s\n",
      "[Parallel(n_jobs=-1)]: Done  95 out of 100 | elapsed:  4.2min remaining:   13.1s\n",
      "[Parallel(n_jobs=-1)]: Done  97 out of 100 | elapsed:  4.2min remaining:    7.8s\n"
     ]
    },
    {
     "name": "stdout",
     "output_type": "stream",
     "text": [
      "[Parallel(n_jobs=-1)]: Done 100 out of 100 | elapsed:  4.3min finished\n"
     ]
    },
    {
     "data": {
      "text/plain": [
       "RandomForestRegressor(max_depth=16, max_features='sqrt', n_jobs=-1,\n",
       "                      random_state=42, verbose=100)"
      ]
     },
     "execution_count": 228,
     "metadata": {},
     "output_type": "execute_result"
    }
   ],
   "source": [
    "rfr.fit(X_train, Y_train)"
   ]
  },
  {
   "cell_type": "code",
   "execution_count": 242,
   "metadata": {
    "ExecuteTime": {
     "end_time": "2020-09-12T18:56:38.756986Z",
     "start_time": "2020-09-12T18:56:38.327796Z"
    },
    "scrolled": true
   },
   "outputs": [
    {
     "name": "stdout",
     "output_type": "stream",
     "text": [
      "[Parallel(n_jobs=8)]: Using backend ThreadingBackend with 8 concurrent workers.\n",
      "[Parallel(n_jobs=8)]: Done   1 tasks      | elapsed:    0.0s\n",
      "[Parallel(n_jobs=8)]: Done   2 tasks      | elapsed:    0.0s\n",
      "[Parallel(n_jobs=8)]: Done   3 tasks      | elapsed:    0.0s\n",
      "[Parallel(n_jobs=8)]: Done   4 tasks      | elapsed:    0.0s\n",
      "[Parallel(n_jobs=8)]: Done   5 tasks      | elapsed:    0.0s\n",
      "[Parallel(n_jobs=8)]: Done   6 tasks      | elapsed:    0.0s\n",
      "[Parallel(n_jobs=8)]: Done   7 tasks      | elapsed:    0.1s\n",
      "[Parallel(n_jobs=8)]: Done   8 tasks      | elapsed:    0.1s\n",
      "[Parallel(n_jobs=8)]: Done   9 tasks      | elapsed:    0.1s\n",
      "[Parallel(n_jobs=8)]: Done  10 tasks      | elapsed:    0.1s\n",
      "[Parallel(n_jobs=8)]: Done  11 tasks      | elapsed:    0.1s\n",
      "[Parallel(n_jobs=8)]: Done  12 tasks      | elapsed:    0.1s\n",
      "[Parallel(n_jobs=8)]: Done  13 tasks      | elapsed:    0.1s\n",
      "[Parallel(n_jobs=8)]: Done  14 tasks      | elapsed:    0.1s\n",
      "[Parallel(n_jobs=8)]: Done  15 tasks      | elapsed:    0.1s\n",
      "[Parallel(n_jobs=8)]: Done  16 tasks      | elapsed:    0.1s\n",
      "[Parallel(n_jobs=8)]: Done  17 tasks      | elapsed:    0.1s\n",
      "[Parallel(n_jobs=8)]: Done  18 tasks      | elapsed:    0.1s\n",
      "[Parallel(n_jobs=8)]: Done  19 tasks      | elapsed:    0.1s\n",
      "[Parallel(n_jobs=8)]: Done  20 tasks      | elapsed:    0.1s\n",
      "[Parallel(n_jobs=8)]: Done  21 tasks      | elapsed:    0.1s\n",
      "[Parallel(n_jobs=8)]: Done  22 tasks      | elapsed:    0.1s\n",
      "[Parallel(n_jobs=8)]: Done  23 tasks      | elapsed:    0.1s\n",
      "[Parallel(n_jobs=8)]: Done  24 tasks      | elapsed:    0.1s\n",
      "[Parallel(n_jobs=8)]: Done  25 tasks      | elapsed:    0.1s\n",
      "[Parallel(n_jobs=8)]: Done  26 tasks      | elapsed:    0.1s\n",
      "[Parallel(n_jobs=8)]: Done  27 tasks      | elapsed:    0.1s\n",
      "[Parallel(n_jobs=8)]: Done  28 tasks      | elapsed:    0.1s\n",
      "[Parallel(n_jobs=8)]: Done  29 tasks      | elapsed:    0.2s\n",
      "[Parallel(n_jobs=8)]: Done  30 tasks      | elapsed:    0.2s\n",
      "[Parallel(n_jobs=8)]: Done  31 tasks      | elapsed:    0.2s\n",
      "[Parallel(n_jobs=8)]: Done  32 tasks      | elapsed:    0.2s\n",
      "[Parallel(n_jobs=8)]: Done  33 tasks      | elapsed:    0.2s\n",
      "[Parallel(n_jobs=8)]: Done  34 tasks      | elapsed:    0.2s\n",
      "[Parallel(n_jobs=8)]: Done  35 tasks      | elapsed:    0.2s\n",
      "[Parallel(n_jobs=8)]: Done  36 tasks      | elapsed:    0.2s\n",
      "[Parallel(n_jobs=8)]: Done  37 tasks      | elapsed:    0.2s\n",
      "[Parallel(n_jobs=8)]: Done  38 tasks      | elapsed:    0.2s\n",
      "[Parallel(n_jobs=8)]: Done  39 tasks      | elapsed:    0.2s\n",
      "[Parallel(n_jobs=8)]: Done  40 tasks      | elapsed:    0.2s\n",
      "[Parallel(n_jobs=8)]: Done  41 tasks      | elapsed:    0.2s\n",
      "[Parallel(n_jobs=8)]: Done  42 tasks      | elapsed:    0.2s\n",
      "[Parallel(n_jobs=8)]: Done  43 tasks      | elapsed:    0.2s\n",
      "[Parallel(n_jobs=8)]: Done  44 tasks      | elapsed:    0.2s\n",
      "[Parallel(n_jobs=8)]: Done  45 tasks      | elapsed:    0.2s\n",
      "[Parallel(n_jobs=8)]: Done  46 tasks      | elapsed:    0.2s\n",
      "[Parallel(n_jobs=8)]: Done  47 tasks      | elapsed:    0.2s\n",
      "[Parallel(n_jobs=8)]: Done  48 tasks      | elapsed:    0.2s\n",
      "[Parallel(n_jobs=8)]: Done  49 tasks      | elapsed:    0.2s\n",
      "[Parallel(n_jobs=8)]: Done  50 tasks      | elapsed:    0.2s\n",
      "[Parallel(n_jobs=8)]: Done  51 tasks      | elapsed:    0.2s\n",
      "[Parallel(n_jobs=8)]: Done  52 tasks      | elapsed:    0.2s\n",
      "[Parallel(n_jobs=8)]: Done  53 tasks      | elapsed:    0.2s\n",
      "[Parallel(n_jobs=8)]: Done  54 tasks      | elapsed:    0.2s\n",
      "[Parallel(n_jobs=8)]: Done  55 tasks      | elapsed:    0.2s\n",
      "[Parallel(n_jobs=8)]: Done  56 tasks      | elapsed:    0.2s\n",
      "[Parallel(n_jobs=8)]: Done  57 tasks      | elapsed:    0.2s\n",
      "[Parallel(n_jobs=8)]: Done  58 tasks      | elapsed:    0.2s\n",
      "[Parallel(n_jobs=8)]: Done  59 tasks      | elapsed:    0.2s\n",
      "[Parallel(n_jobs=8)]: Done  60 tasks      | elapsed:    0.2s\n",
      "[Parallel(n_jobs=8)]: Done  61 tasks      | elapsed:    0.3s\n",
      "[Parallel(n_jobs=8)]: Done  62 tasks      | elapsed:    0.3s\n",
      "[Parallel(n_jobs=8)]: Done  63 tasks      | elapsed:    0.3s\n",
      "[Parallel(n_jobs=8)]: Done  64 tasks      | elapsed:    0.3s\n",
      "[Parallel(n_jobs=8)]: Done  65 tasks      | elapsed:    0.3s\n",
      "[Parallel(n_jobs=8)]: Done  66 tasks      | elapsed:    0.3s\n",
      "[Parallel(n_jobs=8)]: Done  67 tasks      | elapsed:    0.3s\n",
      "[Parallel(n_jobs=8)]: Done  68 tasks      | elapsed:    0.3s\n",
      "[Parallel(n_jobs=8)]: Done  69 tasks      | elapsed:    0.3s\n",
      "[Parallel(n_jobs=8)]: Done  70 tasks      | elapsed:    0.3s\n",
      "[Parallel(n_jobs=8)]: Done  71 tasks      | elapsed:    0.3s\n",
      "[Parallel(n_jobs=8)]: Done  72 tasks      | elapsed:    0.3s\n",
      "[Parallel(n_jobs=8)]: Done  73 tasks      | elapsed:    0.3s\n",
      "[Parallel(n_jobs=8)]: Done  74 tasks      | elapsed:    0.3s\n",
      "[Parallel(n_jobs=8)]: Done  75 tasks      | elapsed:    0.3s\n",
      "[Parallel(n_jobs=8)]: Done  76 tasks      | elapsed:    0.3s\n",
      "[Parallel(n_jobs=8)]: Done  77 tasks      | elapsed:    0.3s\n",
      "[Parallel(n_jobs=8)]: Done  78 tasks      | elapsed:    0.3s\n",
      "[Parallel(n_jobs=8)]: Done  79 tasks      | elapsed:    0.3s\n",
      "[Parallel(n_jobs=8)]: Done  80 tasks      | elapsed:    0.3s\n",
      "[Parallel(n_jobs=8)]: Done  81 tasks      | elapsed:    0.3s\n",
      "[Parallel(n_jobs=8)]: Done  82 tasks      | elapsed:    0.3s\n",
      "[Parallel(n_jobs=8)]: Done  83 tasks      | elapsed:    0.3s\n",
      "[Parallel(n_jobs=8)]: Done  84 tasks      | elapsed:    0.3s\n",
      "[Parallel(n_jobs=8)]: Done  85 tasks      | elapsed:    0.3s\n",
      "[Parallel(n_jobs=8)]: Done  87 out of 100 | elapsed:    0.3s remaining:    0.1s\n",
      "[Parallel(n_jobs=8)]: Done  89 out of 100 | elapsed:    0.4s remaining:    0.0s\n",
      "[Parallel(n_jobs=8)]: Done  91 out of 100 | elapsed:    0.4s remaining:    0.0s\n",
      "[Parallel(n_jobs=8)]: Done  93 out of 100 | elapsed:    0.4s remaining:    0.0s\n",
      "[Parallel(n_jobs=8)]: Done  95 out of 100 | elapsed:    0.4s remaining:    0.0s\n",
      "[Parallel(n_jobs=8)]: Done  97 out of 100 | elapsed:    0.4s remaining:    0.0s\n",
      "[Parallel(n_jobs=8)]: Done 100 out of 100 | elapsed:    0.4s finished\n"
     ]
    },
    {
     "data": {
      "text/plain": [
       "array([1.42795370e-09, 1.46902868e-01, 2.48622445e-02, ...,\n",
       "       1.29151519e-02, 1.42795370e-09, 7.64493651e-02])"
      ]
     },
     "execution_count": 242,
     "metadata": {},
     "output_type": "execute_result"
    }
   ],
   "source": [
    "prediction = rfr.predict(X_val)\n",
    "prediction = inverse_scaling(prediction, 'count')\n",
    "prediction"
   ]
  },
  {
   "cell_type": "code",
   "execution_count": 212,
   "metadata": {
    "ExecuteTime": {
     "end_time": "2020-09-12T17:39:25.627952Z",
     "start_time": "2020-09-12T17:39:25.615113Z"
    }
   },
   "outputs": [
    {
     "data": {
      "text/plain": [
       "rmse    0.635815\n",
       "r2      0.675303\n",
       "dtype: float64"
      ]
     },
     "execution_count": 212,
     "metadata": {},
     "output_type": "execute_result"
    }
   ],
   "source": [
    "metrics = {'rmse': lambda *args: mean_squared_error(*args, squared=False),\n",
    "           'r2': r2_score\n",
    "          }\n",
    "result = pd.Series({name: metric(inverse_scaling(Y_val, 'count'), prediction) for name, metric in metrics.items()})\n",
    "result"
   ]
  },
  {
   "cell_type": "code",
   "execution_count": 213,
   "metadata": {
    "ExecuteTime": {
     "end_time": "2020-09-12T17:40:44.230099Z",
     "start_time": "2020-09-12T17:40:42.721894Z"
    }
   },
   "outputs": [
    {
     "data": {
      "text/plain": [
       "<AxesSubplot:>"
      ]
     },
     "execution_count": 213,
     "metadata": {},
     "output_type": "execute_result"
    },
    {
     "data": {
      "image/png": "[encoded data removed]",
      "text/plain": [
       "<Figure size 1152x576 with 1 Axes>"
      ]
     },
     "metadata": {
      "needs_background": "light"
     },
     "output_type": "display_data"
    }
   ],
   "source": [
    "\n",
    "pd.Series(rfr.feature_importances_, index=X_train.columns).plot.bar(figsize=(16, 8))"
   ]
  },
  {
   "cell_type": "markdown",
   "metadata": {},
   "source": [
    "### LightGBM"
   ]
  },
  {
   "cell_type": "code",
   "execution_count": 56,
   "metadata": {
    "ExecuteTime": {
     "end_time": "2020-09-12T14:01:54.437255Z",
     "start_time": "2020-09-12T14:01:54.413310Z"
    }
   },
   "outputs": [],
   "source": [
    "import lightgbm as lgb"
   ]
  },
  {
   "cell_type": "code",
   "execution_count": 76,
   "metadata": {
    "ExecuteTime": {
     "end_time": "2020-09-12T14:42:15.011907Z",
     "start_time": "2020-09-12T14:41:21.437055Z"
    },
    "scrolled": true
   },
   "outputs": [
    {
     "name": "stderr",
     "output_type": "stream",
     "text": [
      "/usr/local/lib/python3.8/site-packages/lightgbm/engine.py:151: UserWarning: Found `n_estimators` in params. Will use it instead of argument\n",
      "  warnings.warn(\"Found `{}` in params. Will use it instead of argument\".format(alias))\n"
     ]
    },
    {
     "name": "stdout",
     "output_type": "stream",
     "text": [
      "[LightGBM] [Warning] Auto-choosing col-wise multi-threading, the overhead of testing was 0.612187 seconds.\n",
      "You can set `force_col_wise=true` to remove the overhead.\n",
      "[LightGBM] [Info] Total Bins 12959\n",
      "[LightGBM] [Info] Number of data points in the train set: 4926600, number of used features: 59\n",
      "[LightGBM] [Info] Start training from score -0.350164\n"
     ]
    }
   ],
   "source": [
    "\n",
    "\n",
    "# categorical_features = ['shop_id', 'item_id', 'item_category_id']\n",
    "train_lgb_data = lgb.Dataset(X_train, label=Y_train, )\n",
    "params = {\n",
    "    'max_depth': -1,\n",
    "    'learning_rate': 0.1,\n",
    "    'num_leaves': 900,\n",
    "    'n_estimators': 100,\n",
    "    'sub_feature': 0.2,\n",
    "    'metric': 'mse'\n",
    "    \n",
    "}\n",
    "lgb_model = lgb.train(params, train_lgb_data, )\n",
    "\n"
   ]
  },
  {
   "cell_type": "code",
   "execution_count": 77,
   "metadata": {
    "ExecuteTime": {
     "end_time": "2020-09-12T14:42:21.376000Z",
     "start_time": "2020-09-12T14:42:20.776716Z"
    }
   },
   "outputs": [
    {
     "data": {
      "text/plain": [
       "rmse    0.618550\n",
       "r2      0.584782\n",
       "dtype: float64"
      ]
     },
     "execution_count": 77,
     "metadata": {},
     "output_type": "execute_result"
    }
   ],
   "source": [
    "prediction = lgb_model.predict(X_val, )\n",
    "prediction = inverse_scaling(prediction, 'count')\n",
    "metrics = {'rmse': lambda *args: mean_squared_error(*args, squared=False),\n",
    "           'r2': r2_score\n",
    "          }\n",
    "result = pd.Series({name: metric(inverse_scaling(Y_val, 'count'), prediction) for name, metric in metrics.items()})\n",
    "result"
   ]
  },
  {
   "cell_type": "code",
   "execution_count": 60,
   "metadata": {
    "ExecuteTime": {
     "end_time": "2020-09-12T14:04:37.839175Z",
     "start_time": "2020-09-12T14:04:36.400758Z"
    }
   },
   "outputs": [
    {
     "data": {
      "text/plain": [
       "<AxesSubplot:>"
      ]
     },
     "execution_count": 60,
     "metadata": {},
     "output_type": "execute_result"
    },
    {
     "data": {
      "image/png": "[encoded data removed]",
      "text/plain": [
       "<Figure size 1152x576 with 1 Axes>"
      ]
     },
     "metadata": {
      "needs_background": "light"
     },
     "output_type": "display_data"
    }
   ],
   "source": [
    "\n",
    "pd.Series(lgb_model.feature_importance(), index=X_train.columns).plot.bar(figsize=(16, 8))\n",
    "\n"
   ]
  },
  {
   "cell_type": "markdown",
   "metadata": {
    "heading_collapsed": true
   },
   "source": [
    "### Lightgbm Hyper parameter search"
   ]
  },
  {
   "cell_type": "code",
   "execution_count": 187,
   "metadata": {
    "ExecuteTime": {
     "end_time": "2020-09-10T17:04:59.442540Z",
     "start_time": "2020-09-10T17:04:59.427186Z"
    },
    "hidden": true
   },
   "outputs": [],
   "source": [
    "params = {\n",
    "    'max_depth': [16, 64,  -1],\n",
    "    'learning_rate': [0.01, 0.1],\n",
    "    'num_leaves': [16, 50, 100,],\n",
    "    'n_estimators': [40, 100],\n",
    "    'subsample': [1],\n",
    "    'subsample_freq': [1],\n",
    "    'metric': ['mse']\n",
    "}\n",
    "\n",
    "def score_func(y_true, y_pred):\n",
    "    y_true = inverse_scaling(y_true, 'count')\n",
    "    y_pred = inverse_scaling(y_pred, 'count')\n",
    "    return mean_squared_error(y_true, y_pred, squared=False)\n",
    "\n",
    "lgb_model = lgb.LGBMRegressor(silent=False)\n",
    "gs = GridSearchCV(lgb_model,\n",
    "                  param_grid=params,\n",
    "                  cv=5,\n",
    "                  n_jobs=-1,\n",
    "                  verbose=10,\n",
    "                  scoring=make_scorer(score_func, greater_is_better=False)\n",
    "                 )\n"
   ]
  },
  {
   "cell_type": "code",
   "execution_count": 188,
   "metadata": {
    "ExecuteTime": {
     "end_time": "2020-09-10T18:01:13.871114Z",
     "start_time": "2020-09-10T17:05:04.992967Z"
    },
    "hidden": true
   },
   "outputs": [
    {
     "name": "stdout",
     "output_type": "stream",
     "text": [
      "Fitting 5 folds for each of 36 candidates, totalling 180 fits\n"
     ]
    },
    {
     "name": "stderr",
     "output_type": "stream",
     "text": [
      "[Parallel(n_jobs=-1)]: Using backend LokyBackend with 8 concurrent workers.\n",
      "[Parallel(n_jobs=-1)]: Done   2 tasks      | elapsed:  2.9min\n",
      "[Parallel(n_jobs=-1)]: Done   9 tasks      | elapsed:  5.6min\n",
      "[Parallel(n_jobs=-1)]: Done  16 tasks      | elapsed:  5.9min\n",
      "[Parallel(n_jobs=-1)]: Done  25 tasks      | elapsed: 11.3min\n",
      "[Parallel(n_jobs=-1)]: Done  34 tasks      | elapsed: 13.5min\n",
      "[Parallel(n_jobs=-1)]: Done  45 tasks      | elapsed: 16.2min\n",
      "[Parallel(n_jobs=-1)]: Done  56 tasks      | elapsed: 20.1min\n",
      "[Parallel(n_jobs=-1)]: Done  69 tasks      | elapsed: 23.1min\n",
      "[Parallel(n_jobs=-1)]: Done  82 tasks      | elapsed: 27.1min\n",
      "[Parallel(n_jobs=-1)]: Done  97 tasks      | elapsed: 32.5min\n",
      "[Parallel(n_jobs=-1)]: Done 112 tasks      | elapsed: 37.4min\n",
      "[Parallel(n_jobs=-1)]: Done 129 tasks      | elapsed: 42.2min\n",
      "[Parallel(n_jobs=-1)]: Done 146 tasks      | elapsed: 47.4min\n",
      "[Parallel(n_jobs=-1)]: Done 165 tasks      | elapsed: 51.8min\n",
      "[Parallel(n_jobs=-1)]: Done 180 out of 180 | elapsed: 55.8min finished\n"
     ]
    },
    {
     "name": "stdout",
     "output_type": "stream",
     "text": [
      "[LightGBM] [Warning] Auto-choosing row-wise multi-threading, the overhead of testing was 0.548128 seconds.\n",
      "You can set `force_row_wise=true` to remove the overhead.\n",
      "And if memory is not enough, you can set `force_col_wise=true`.\n",
      "[LightGBM] [Info] Total Bins 13264\n",
      "[LightGBM] [Info] Number of data points in the train set: 4498200, number of used features: 59\n",
      "[LightGBM] [Info] Start training from score -0.135977\n"
     ]
    },
    {
     "data": {
      "text/plain": [
       "GridSearchCV(cv=5, estimator=LGBMRegressor(silent=False), n_jobs=-1,\n",
       "             param_grid={'learning_rate': [0.01, 0.1],\n",
       "                         'max_depth': [16, 64, -1], 'metric': ['mse'],\n",
       "                         'n_estimators': [40, 100], 'num_leaves': [16, 50, 100],\n",
       "                         'subsample': [1], 'subsample_freq': [1]},\n",
       "             scoring=make_scorer(score_func, greater_is_better=False),\n",
       "             verbose=10)"
      ]
     },
     "execution_count": 188,
     "metadata": {},
     "output_type": "execute_result"
    }
   ],
   "source": [
    "gs.fit(X_train, Y_train)"
   ]
  },
  {
   "cell_type": "code",
   "execution_count": 190,
   "metadata": {
    "ExecuteTime": {
     "end_time": "2020-09-10T18:03:26.018520Z",
     "start_time": "2020-09-10T18:03:26.012367Z"
    },
    "hidden": true
   },
   "outputs": [
    {
     "data": {
      "text/plain": [
       "LGBMRegressor(max_depth=64, metric='mse', num_leaves=50, silent=False,\n",
       "              subsample=1, subsample_freq=1)"
      ]
     },
     "execution_count": 190,
     "metadata": {},
     "output_type": "execute_result"
    }
   ],
   "source": [
    "gs.best_estimator_"
   ]
  },
  {
   "cell_type": "code",
   "execution_count": 196,
   "metadata": {
    "ExecuteTime": {
     "end_time": "2020-09-10T18:06:46.090412Z",
     "start_time": "2020-09-10T18:06:46.082769Z"
    },
    "hidden": true
   },
   "outputs": [
    {
     "data": {
      "text/plain": [
       "{'learning_rate': 0.1,\n",
       " 'max_depth': -1,\n",
       " 'metric': 'mse',\n",
       " 'n_estimators': 100,\n",
       " 'num_leaves': 50,\n",
       " 'subsample': 1,\n",
       " 'subsample_freq': 1}"
      ]
     },
     "execution_count": 196,
     "metadata": {},
     "output_type": "execute_result"
    }
   ],
   "source": [
    "best_param = pd.DataFrame(gs.cv_results_).sort_values('rank_test_score').iloc[0]['params']\n",
    "best_param"
   ]
  },
  {
   "cell_type": "code",
   "execution_count": 189,
   "metadata": {
    "ExecuteTime": {
     "end_time": "2020-09-10T18:01:18.997498Z",
     "start_time": "2020-09-10T18:01:18.964730Z"
    },
    "hidden": true
   },
   "outputs": [
    {
     "data": {
      "text/plain": [
       "['lgb_gridsearch.pickle']"
      ]
     },
     "execution_count": 189,
     "metadata": {},
     "output_type": "execute_result"
    }
   ],
   "source": [
    "import joblib\n",
    "joblib.dump(gs, 'lgb_gridsearch.pickle')"
   ]
  },
  {
   "cell_type": "code",
   "execution_count": 199,
   "metadata": {
    "ExecuteTime": {
     "end_time": "2020-09-10T18:08:06.980701Z",
     "start_time": "2020-09-10T18:07:51.264184Z"
    },
    "hidden": true
   },
   "outputs": [
    {
     "name": "stderr",
     "output_type": "stream",
     "text": [
      "/usr/local/lib/python3.8/site-packages/lightgbm/engine.py:151: UserWarning: Found `n_estimators` in params. Will use it instead of argument\n",
      "  warnings.warn(\"Found `{}` in params. Will use it instead of argument\".format(alias))\n",
      "/usr/local/lib/python3.8/site-packages/lightgbm/basic.py:1551: UserWarning: Using categorical_feature in Dataset.\n",
      "  warnings.warn('Using categorical_feature in Dataset.')\n"
     ]
    },
    {
     "name": "stdout",
     "output_type": "stream",
     "text": [
      "[LightGBM] [Warning] Auto-choosing row-wise multi-threading, the overhead of testing was 0.416888 seconds.\n",
      "You can set `force_row_wise=true` to remove the overhead.\n",
      "And if memory is not enough, you can set `force_col_wise=true`.\n",
      "[LightGBM] [Info] Total Bins 18031\n",
      "[LightGBM] [Info] Number of data points in the train set: 4498200, number of used features: 59\n",
      "[LightGBM] [Info] Start training from score -0.135977\n"
     ]
    }
   ],
   "source": [
    "categorical_features = ['shop_id', 'item_id', 'item_category_id']\n",
    "train_lgb_data = lgb.Dataset(X_train, label=Y_train, categorical_feature=categorical_features)\n",
    "lgb_model = lgb.train(best_param, train_lgb_data, )\n"
   ]
  },
  {
   "cell_type": "code",
   "execution_count": 200,
   "metadata": {
    "ExecuteTime": {
     "end_time": "2020-09-10T18:08:22.345495Z",
     "start_time": "2020-09-10T18:08:20.550437Z"
    },
    "hidden": true
   },
   "outputs": [
    {
     "data": {
      "text/plain": [
       "rmse    1.376958\n",
       "r2      0.605059\n",
       "dtype: float64"
      ]
     },
     "execution_count": 200,
     "metadata": {},
     "output_type": "execute_result"
    }
   ],
   "source": [
    "prediction = lgb_model.predict(X_val, categorical_feature=categorical_features)\n",
    "prediction = inverse_scaling(prediction, 'count')\n",
    "metrics = {'rmse': lambda *args: mean_squared_error(*args, squared=False),\n",
    "           'r2': r2_score\n",
    "          }\n",
    "result = pd.Series({name: metric(inverse_scaling(Y_val, 'count'), prediction) for name, metric in metrics.items()})\n",
    "result"
   ]
  },
  {
   "cell_type": "markdown",
   "metadata": {},
   "source": [
    "### Predict"
   ]
  },
  {
   "cell_type": "code",
   "execution_count": 216,
   "metadata": {
    "ExecuteTime": {
     "end_time": "2020-09-12T17:45:11.132220Z",
     "start_time": "2020-09-12T17:45:10.783015Z"
    },
    "scrolled": true
   },
   "outputs": [
    {
     "name": "stdout",
     "output_type": "stream",
     "text": [
      "[Parallel(n_jobs=8)]: Using backend ThreadingBackend with 8 concurrent workers.\n",
      "[Parallel(n_jobs=8)]: Done   1 tasks      | elapsed:    0.0s\n",
      "[Parallel(n_jobs=8)]: Done   2 tasks      | elapsed:    0.0s\n",
      "[Parallel(n_jobs=8)]: Done   3 tasks      | elapsed:    0.0s\n",
      "[Parallel(n_jobs=8)]: Done   4 tasks      | elapsed:    0.1s\n",
      "[Parallel(n_jobs=8)]: Done   5 tasks      | elapsed:    0.1s\n",
      "[Parallel(n_jobs=8)]: Done   6 tasks      | elapsed:    0.1s\n",
      "[Parallel(n_jobs=8)]: Done   7 tasks      | elapsed:    0.1s\n",
      "[Parallel(n_jobs=8)]: Done   8 tasks      | elapsed:    0.1s\n",
      "[Parallel(n_jobs=8)]: Done   9 tasks      | elapsed:    0.1s\n",
      "[Parallel(n_jobs=8)]: Done  10 tasks      | elapsed:    0.1s\n",
      "[Parallel(n_jobs=8)]: Done  11 tasks      | elapsed:    0.1s\n",
      "[Parallel(n_jobs=8)]: Done  12 tasks      | elapsed:    0.1s\n",
      "[Parallel(n_jobs=8)]: Done  13 tasks      | elapsed:    0.1s\n",
      "[Parallel(n_jobs=8)]: Done  14 tasks      | elapsed:    0.1s\n",
      "[Parallel(n_jobs=8)]: Done  15 tasks      | elapsed:    0.1s\n",
      "[Parallel(n_jobs=8)]: Done  16 tasks      | elapsed:    0.1s\n",
      "[Parallel(n_jobs=8)]: Done  17 tasks      | elapsed:    0.1s\n",
      "[Parallel(n_jobs=8)]: Done  18 tasks      | elapsed:    0.1s\n",
      "[Parallel(n_jobs=8)]: Done  19 tasks      | elapsed:    0.1s\n",
      "[Parallel(n_jobs=8)]: Done  20 tasks      | elapsed:    0.1s\n",
      "[Parallel(n_jobs=8)]: Done  21 tasks      | elapsed:    0.1s\n",
      "[Parallel(n_jobs=8)]: Done  22 tasks      | elapsed:    0.1s\n",
      "[Parallel(n_jobs=8)]: Done  23 tasks      | elapsed:    0.1s\n",
      "[Parallel(n_jobs=8)]: Done  24 tasks      | elapsed:    0.1s\n",
      "[Parallel(n_jobs=8)]: Done  25 tasks      | elapsed:    0.1s\n",
      "[Parallel(n_jobs=8)]: Done  26 tasks      | elapsed:    0.1s\n",
      "[Parallel(n_jobs=8)]: Done  27 tasks      | elapsed:    0.1s\n",
      "[Parallel(n_jobs=8)]: Done  28 tasks      | elapsed:    0.1s\n",
      "[Parallel(n_jobs=8)]: Done  29 tasks      | elapsed:    0.1s\n",
      "[Parallel(n_jobs=8)]: Done  30 tasks      | elapsed:    0.1s\n",
      "[Parallel(n_jobs=8)]: Done  31 tasks      | elapsed:    0.1s\n",
      "[Parallel(n_jobs=8)]: Done  32 tasks      | elapsed:    0.1s\n",
      "[Parallel(n_jobs=8)]: Done  33 tasks      | elapsed:    0.1s\n",
      "[Parallel(n_jobs=8)]: Done  34 tasks      | elapsed:    0.2s\n",
      "[Parallel(n_jobs=8)]: Done  35 tasks      | elapsed:    0.2s\n",
      "[Parallel(n_jobs=8)]: Done  36 tasks      | elapsed:    0.2s\n",
      "[Parallel(n_jobs=8)]: Done  37 tasks      | elapsed:    0.2s\n",
      "[Parallel(n_jobs=8)]: Done  38 tasks      | elapsed:    0.2s\n",
      "[Parallel(n_jobs=8)]: Done  39 tasks      | elapsed:    0.2s\n",
      "[Parallel(n_jobs=8)]: Done  40 tasks      | elapsed:    0.2s\n",
      "[Parallel(n_jobs=8)]: Done  41 tasks      | elapsed:    0.2s\n",
      "[Parallel(n_jobs=8)]: Done  42 tasks      | elapsed:    0.2s\n",
      "[Parallel(n_jobs=8)]: Done  43 tasks      | elapsed:    0.2s\n",
      "[Parallel(n_jobs=8)]: Done  44 tasks      | elapsed:    0.2s\n",
      "[Parallel(n_jobs=8)]: Done  45 tasks      | elapsed:    0.2s\n",
      "[Parallel(n_jobs=8)]: Done  46 tasks      | elapsed:    0.2s\n",
      "[Parallel(n_jobs=8)]: Done  47 tasks      | elapsed:    0.2s\n",
      "[Parallel(n_jobs=8)]: Done  48 tasks      | elapsed:    0.2s\n",
      "[Parallel(n_jobs=8)]: Done  49 tasks      | elapsed:    0.2s\n",
      "[Parallel(n_jobs=8)]: Done  50 tasks      | elapsed:    0.2s\n",
      "[Parallel(n_jobs=8)]: Done  51 tasks      | elapsed:    0.2s\n",
      "[Parallel(n_jobs=8)]: Done  52 tasks      | elapsed:    0.2s\n",
      "[Parallel(n_jobs=8)]: Done  53 tasks      | elapsed:    0.2s\n",
      "[Parallel(n_jobs=8)]: Done  54 tasks      | elapsed:    0.2s\n",
      "[Parallel(n_jobs=8)]: Done  55 tasks      | elapsed:    0.2s\n",
      "[Parallel(n_jobs=8)]: Done  56 tasks      | elapsed:    0.2s\n",
      "[Parallel(n_jobs=8)]: Done  57 tasks      | elapsed:    0.2s\n",
      "[Parallel(n_jobs=8)]: Done  58 tasks      | elapsed:    0.2s\n",
      "[Parallel(n_jobs=8)]: Done  59 tasks      | elapsed:    0.2s\n",
      "[Parallel(n_jobs=8)]: Done  60 tasks      | elapsed:    0.2s\n",
      "[Parallel(n_jobs=8)]: Done  61 tasks      | elapsed:    0.2s\n",
      "[Parallel(n_jobs=8)]: Done  62 tasks      | elapsed:    0.2s\n",
      "[Parallel(n_jobs=8)]: Done  63 tasks      | elapsed:    0.2s\n",
      "[Parallel(n_jobs=8)]: Done  64 tasks      | elapsed:    0.2s\n",
      "[Parallel(n_jobs=8)]: Done  65 tasks      | elapsed:    0.2s\n",
      "[Parallel(n_jobs=8)]: Done  66 tasks      | elapsed:    0.2s\n",
      "[Parallel(n_jobs=8)]: Done  67 tasks      | elapsed:    0.2s\n",
      "[Parallel(n_jobs=8)]: Done  68 tasks      | elapsed:    0.3s\n",
      "[Parallel(n_jobs=8)]: Done  69 tasks      | elapsed:    0.3s\n",
      "[Parallel(n_jobs=8)]: Done  70 tasks      | elapsed:    0.3s\n",
      "[Parallel(n_jobs=8)]: Done  71 tasks      | elapsed:    0.3s\n",
      "[Parallel(n_jobs=8)]: Done  72 tasks      | elapsed:    0.3s\n",
      "[Parallel(n_jobs=8)]: Done  73 tasks      | elapsed:    0.3s\n",
      "[Parallel(n_jobs=8)]: Done  74 tasks      | elapsed:    0.3s\n",
      "[Parallel(n_jobs=8)]: Done  75 tasks      | elapsed:    0.3s\n",
      "[Parallel(n_jobs=8)]: Done  76 tasks      | elapsed:    0.3s\n",
      "[Parallel(n_jobs=8)]: Done  77 tasks      | elapsed:    0.3s\n",
      "[Parallel(n_jobs=8)]: Done  78 tasks      | elapsed:    0.3s\n",
      "[Parallel(n_jobs=8)]: Done  79 tasks      | elapsed:    0.3s\n",
      "[Parallel(n_jobs=8)]: Done  80 tasks      | elapsed:    0.3s\n",
      "[Parallel(n_jobs=8)]: Done  81 tasks      | elapsed:    0.3s\n",
      "[Parallel(n_jobs=8)]: Done  82 tasks      | elapsed:    0.3s\n",
      "[Parallel(n_jobs=8)]: Done  83 tasks      | elapsed:    0.3s\n",
      "[Parallel(n_jobs=8)]: Done  84 tasks      | elapsed:    0.3s\n",
      "[Parallel(n_jobs=8)]: Done  85 tasks      | elapsed:    0.3s\n",
      "[Parallel(n_jobs=8)]: Done  87 out of 100 | elapsed:    0.3s remaining:    0.0s\n",
      "[Parallel(n_jobs=8)]: Done  89 out of 100 | elapsed:    0.3s remaining:    0.0s\n",
      "[Parallel(n_jobs=8)]: Done  91 out of 100 | elapsed:    0.3s remaining:    0.0s\n",
      "[Parallel(n_jobs=8)]: Done  93 out of 100 | elapsed:    0.3s remaining:    0.0s\n",
      "[Parallel(n_jobs=8)]: Done  95 out of 100 | elapsed:    0.3s remaining:    0.0s\n",
      "[Parallel(n_jobs=8)]: Done  97 out of 100 | elapsed:    0.3s remaining:    0.0s\n",
      "[Parallel(n_jobs=8)]: Done 100 out of 100 | elapsed:    0.3s finished\n"
     ]
    }
   ],
   "source": [
    "\n",
    "\n",
    "prediction = rfr.predict(X_test) \n",
    "# prediction = inverse_scaling(prediction, 'count')\n",
    "\n"
   ]
  },
  {
   "cell_type": "code",
   "execution_count": 217,
   "metadata": {
    "ExecuteTime": {
     "end_time": "2020-09-12T17:45:17.502638Z",
     "start_time": "2020-09-12T17:45:17.489292Z"
    }
   },
   "outputs": [
    {
     "data": {
      "text/html": [
       "<div>\n",
       "<style scoped>\n",
       "    .dataframe tbody tr th:only-of-type {\n",
       "        vertical-align: middle;\n",
       "    }\n",
       "\n",
       "    .dataframe tbody tr th {\n",
       "        vertical-align: top;\n",
       "    }\n",
       "\n",
       "    .dataframe thead th {\n",
       "        text-align: right;\n",
       "    }\n",
       "</style>\n",
       "<table border=\"1\" class=\"dataframe\">\n",
       "  <thead>\n",
       "    <tr style=\"text-align: right;\">\n",
       "      <th></th>\n",
       "      <th>ID</th>\n",
       "      <th>item_cnt_month</th>\n",
       "    </tr>\n",
       "  </thead>\n",
       "  <tbody>\n",
       "    <tr>\n",
       "      <th>0</th>\n",
       "      <td>0</td>\n",
       "      <td>0.169032</td>\n",
       "    </tr>\n",
       "    <tr>\n",
       "      <th>1</th>\n",
       "      <td>1</td>\n",
       "      <td>0.000000</td>\n",
       "    </tr>\n",
       "    <tr>\n",
       "      <th>2</th>\n",
       "      <td>2</td>\n",
       "      <td>1.754338</td>\n",
       "    </tr>\n",
       "    <tr>\n",
       "      <th>3</th>\n",
       "      <td>3</td>\n",
       "      <td>0.074246</td>\n",
       "    </tr>\n",
       "    <tr>\n",
       "      <th>4</th>\n",
       "      <td>4</td>\n",
       "      <td>0.000000</td>\n",
       "    </tr>\n",
       "    <tr>\n",
       "      <th>...</th>\n",
       "      <td>...</td>\n",
       "      <td>...</td>\n",
       "    </tr>\n",
       "    <tr>\n",
       "      <th>214195</th>\n",
       "      <td>214195</td>\n",
       "      <td>1.051766</td>\n",
       "    </tr>\n",
       "    <tr>\n",
       "      <th>214196</th>\n",
       "      <td>214196</td>\n",
       "      <td>0.000000</td>\n",
       "    </tr>\n",
       "    <tr>\n",
       "      <th>214197</th>\n",
       "      <td>214197</td>\n",
       "      <td>0.007571</td>\n",
       "    </tr>\n",
       "    <tr>\n",
       "      <th>214198</th>\n",
       "      <td>214198</td>\n",
       "      <td>0.000000</td>\n",
       "    </tr>\n",
       "    <tr>\n",
       "      <th>214199</th>\n",
       "      <td>214199</td>\n",
       "      <td>0.008471</td>\n",
       "    </tr>\n",
       "  </tbody>\n",
       "</table>\n",
       "<p>214200 rows × 2 columns</p>\n",
       "</div>"
      ],
      "text/plain": [
       "            ID  item_cnt_month\n",
       "0            0        0.169032\n",
       "1            1        0.000000\n",
       "2            2        1.754338\n",
       "3            3        0.074246\n",
       "4            4        0.000000\n",
       "...        ...             ...\n",
       "214195  214195        1.051766\n",
       "214196  214196        0.000000\n",
       "214197  214197        0.007571\n",
       "214198  214198        0.000000\n",
       "214199  214199        0.008471\n",
       "\n",
       "[214200 rows x 2 columns]"
      ]
     },
     "execution_count": 217,
     "metadata": {},
     "output_type": "execute_result"
    }
   ],
   "source": [
    "submission_df = pd.DataFrame(np.array([test_data['ID'].values, prediction]).T,\n",
    "                             columns=['ID', 'item_cnt_month'], )\n",
    "submission_df['ID'] = submission_df['ID'].astype(int)\n",
    "submission_df"
   ]
  },
  {
   "cell_type": "code",
   "execution_count": 69,
   "metadata": {
    "ExecuteTime": {
     "end_time": "2020-09-12T14:13:40.340728Z",
     "start_time": "2020-09-12T14:13:39.880641Z"
    }
   },
   "outputs": [
    {
     "data": {
      "text/plain": [
       "<AxesSubplot:>"
      ]
     },
     "execution_count": 69,
     "metadata": {},
     "output_type": "execute_result"
    },
    {
     "data": {
      "image/png": "[encoded data removed]",
      "text/plain": [
       "<Figure size 1152x576 with 1 Axes>"
      ]
     },
     "metadata": {
      "needs_background": "light"
     },
     "output_type": "display_data"
    }
   ],
   "source": [
    "inverse_scaling(Y_val, 'count').hist(bins=100, figsize=(16, 8))"
   ]
  },
  {
   "cell_type": "code",
   "execution_count": 218,
   "metadata": {
    "ExecuteTime": {
     "end_time": "2020-09-12T17:45:30.087121Z",
     "start_time": "2020-09-12T17:45:29.575607Z"
    }
   },
   "outputs": [
    {
     "data": {
      "text/plain": [
       "<AxesSubplot:>"
      ]
     },
     "execution_count": 218,
     "metadata": {},
     "output_type": "execute_result"
    },
    {
     "data": {
      "image/png": "[encoded data removed]",
      "text/plain": [
       "<Figure size 1152x576 with 1 Axes>"
      ]
     },
     "metadata": {
      "needs_background": "light"
     },
     "output_type": "display_data"
    }
   ],
   "source": [
    "submission_df['item_cnt_month'].hist(bins=100, figsize=(16, 8))"
   ]
  },
  {
   "cell_type": "code",
   "execution_count": 219,
   "metadata": {
    "ExecuteTime": {
     "end_time": "2020-09-12T17:45:55.223317Z",
     "start_time": "2020-09-12T17:45:54.707386Z"
    }
   },
   "outputs": [],
   "source": [
    "submission_df.to_csv('submission/outputv4_fix-grid-feature-gen.csv', index=False)"
   ]
  },
  {
   "cell_type": "code",
   "execution_count": null,
   "metadata": {},
   "outputs": [],
   "source": []
  }
 ],
 "metadata": {
  "kernelspec": {
   "display_name": "Python 3",
   "language": "python",
   "name": "python3"
  },
  "varInspector": {
   "cols": {
    "lenName": 16,
    "lenType": 16,
    "lenVar": 40
   },
   "kernels_config": {
    "python": {
     "delete_cmd_postfix": "",
     "delete_cmd_prefix": "del ",
     "library": "var_list.py",
     "varRefreshCmd": "print(var_dic_list())"
    },
    "r": {
     "delete_cmd_postfix": ") ",
     "delete_cmd_prefix": "rm(",
     "library": "var_list.r",
     "varRefreshCmd": "cat(var_dic_list()) "
    }
   },
   "types_to_exclude": [
    "module",
    "function",
    "builtin_function_or_method",
    "instance",
    "_Feature"
   ],
   "window_display": false
  }
 },
 "nbformat": 4,
 "nbformat_minor": 4
}
