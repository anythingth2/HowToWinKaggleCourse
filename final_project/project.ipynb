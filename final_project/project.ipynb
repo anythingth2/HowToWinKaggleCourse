{
 "cells": [
  {
   "cell_type": "code",
   "execution_count": 1,
   "metadata": {
    "ExecuteTime": {
     "end_time": "2020-09-12T13:22:11.196960Z",
     "start_time": "2020-09-12T13:22:10.751537Z"
    }
   },
   "outputs": [],
   "source": [
    "from pathlib import Path\n",
    "import numpy as np\n",
    "import pandas as pd\n",
    "import matplotlib.pyplot as plt\n",
    "from tqdm import tqdm, trange\n",
    "import gc"
   ]
  },
  {
   "cell_type": "code",
   "execution_count": 2,
   "metadata": {
    "ExecuteTime": {
     "end_time": "2020-09-12T13:22:14.418789Z",
     "start_time": "2020-09-12T13:22:14.343479Z"
    }
   },
   "outputs": [
    {
     "data": {
      "text/html": [
       "<div>\n",
       "<style scoped>\n",
       "    .dataframe tbody tr th:only-of-type {\n",
       "        vertical-align: middle;\n",
       "    }\n",
       "\n",
       "    .dataframe tbody tr th {\n",
       "        vertical-align: top;\n",
       "    }\n",
       "\n",
       "    .dataframe thead th {\n",
       "        text-align: right;\n",
       "    }\n",
       "</style>\n",
       "<table border=\"1\" class=\"dataframe\">\n",
       "  <thead>\n",
       "    <tr style=\"text-align: right;\">\n",
       "      <th></th>\n",
       "      <th>ID</th>\n",
       "      <th>shop_id</th>\n",
       "      <th>item_id</th>\n",
       "    </tr>\n",
       "  </thead>\n",
       "  <tbody>\n",
       "    <tr>\n",
       "      <th>0</th>\n",
       "      <td>0</td>\n",
       "      <td>5</td>\n",
       "      <td>5037</td>\n",
       "    </tr>\n",
       "    <tr>\n",
       "      <th>1</th>\n",
       "      <td>1</td>\n",
       "      <td>5</td>\n",
       "      <td>5320</td>\n",
       "    </tr>\n",
       "    <tr>\n",
       "      <th>2</th>\n",
       "      <td>2</td>\n",
       "      <td>5</td>\n",
       "      <td>5233</td>\n",
       "    </tr>\n",
       "    <tr>\n",
       "      <th>3</th>\n",
       "      <td>3</td>\n",
       "      <td>5</td>\n",
       "      <td>5232</td>\n",
       "    </tr>\n",
       "    <tr>\n",
       "      <th>4</th>\n",
       "      <td>4</td>\n",
       "      <td>5</td>\n",
       "      <td>5268</td>\n",
       "    </tr>\n",
       "    <tr>\n",
       "      <th>...</th>\n",
       "      <td>...</td>\n",
       "      <td>...</td>\n",
       "      <td>...</td>\n",
       "    </tr>\n",
       "    <tr>\n",
       "      <th>214195</th>\n",
       "      <td>214195</td>\n",
       "      <td>45</td>\n",
       "      <td>18454</td>\n",
       "    </tr>\n",
       "    <tr>\n",
       "      <th>214196</th>\n",
       "      <td>214196</td>\n",
       "      <td>45</td>\n",
       "      <td>16188</td>\n",
       "    </tr>\n",
       "    <tr>\n",
       "      <th>214197</th>\n",
       "      <td>214197</td>\n",
       "      <td>45</td>\n",
       "      <td>15757</td>\n",
       "    </tr>\n",
       "    <tr>\n",
       "      <th>214198</th>\n",
       "      <td>214198</td>\n",
       "      <td>45</td>\n",
       "      <td>19648</td>\n",
       "    </tr>\n",
       "    <tr>\n",
       "      <th>214199</th>\n",
       "      <td>214199</td>\n",
       "      <td>45</td>\n",
       "      <td>969</td>\n",
       "    </tr>\n",
       "  </tbody>\n",
       "</table>\n",
       "<p>214200 rows × 3 columns</p>\n",
       "</div>"
      ],
      "text/plain": [
       "            ID  shop_id  item_id\n",
       "0            0        5     5037\n",
       "1            1        5     5320\n",
       "2            2        5     5233\n",
       "3            3        5     5232\n",
       "4            4        5     5268\n",
       "...        ...      ...      ...\n",
       "214195  214195       45    18454\n",
       "214196  214196       45    16188\n",
       "214197  214197       45    15757\n",
       "214198  214198       45    19648\n",
       "214199  214199       45      969\n",
       "\n",
       "[214200 rows x 3 columns]"
      ]
     },
     "execution_count": 2,
     "metadata": {},
     "output_type": "execute_result"
    }
   ],
   "source": [
    "test_df = pd.read_csv('datasets/test.csv.gz', dtype={'ID': np.int32,\n",
    "                                                    'shop_id': np.int32,\n",
    "                                                    'item_id': np.int32})\n",
    "test_df"
   ]
  },
  {
   "cell_type": "code",
   "execution_count": 3,
   "metadata": {
    "ExecuteTime": {
     "end_time": "2020-09-12T13:22:14.597553Z",
     "start_time": "2020-09-12T13:22:14.558607Z"
    }
   },
   "outputs": [
    {
     "data": {
      "text/html": [
       "<div>\n",
       "<style scoped>\n",
       "    .dataframe tbody tr th:only-of-type {\n",
       "        vertical-align: middle;\n",
       "    }\n",
       "\n",
       "    .dataframe tbody tr th {\n",
       "        vertical-align: top;\n",
       "    }\n",
       "\n",
       "    .dataframe thead th {\n",
       "        text-align: right;\n",
       "    }\n",
       "</style>\n",
       "<table border=\"1\" class=\"dataframe\">\n",
       "  <thead>\n",
       "    <tr style=\"text-align: right;\">\n",
       "      <th></th>\n",
       "      <th>item_name</th>\n",
       "      <th>item_id</th>\n",
       "      <th>item_category_id</th>\n",
       "    </tr>\n",
       "  </thead>\n",
       "  <tbody>\n",
       "    <tr>\n",
       "      <th>0</th>\n",
       "      <td>! ВО ВЛАСТИ НАВАЖДЕНИЯ (ПЛАСТ.)         D</td>\n",
       "      <td>0</td>\n",
       "      <td>40</td>\n",
       "    </tr>\n",
       "    <tr>\n",
       "      <th>1</th>\n",
       "      <td>!ABBYY FineReader 12 Professional Edition Full...</td>\n",
       "      <td>1</td>\n",
       "      <td>76</td>\n",
       "    </tr>\n",
       "    <tr>\n",
       "      <th>2</th>\n",
       "      <td>***В ЛУЧАХ СЛАВЫ   (UNV)                    D</td>\n",
       "      <td>2</td>\n",
       "      <td>40</td>\n",
       "    </tr>\n",
       "    <tr>\n",
       "      <th>3</th>\n",
       "      <td>***ГОЛУБАЯ ВОЛНА  (Univ)                      D</td>\n",
       "      <td>3</td>\n",
       "      <td>40</td>\n",
       "    </tr>\n",
       "    <tr>\n",
       "      <th>4</th>\n",
       "      <td>***КОРОБКА (СТЕКЛО)                       D</td>\n",
       "      <td>4</td>\n",
       "      <td>40</td>\n",
       "    </tr>\n",
       "    <tr>\n",
       "      <th>...</th>\n",
       "      <td>...</td>\n",
       "      <td>...</td>\n",
       "      <td>...</td>\n",
       "    </tr>\n",
       "    <tr>\n",
       "      <th>22165</th>\n",
       "      <td>Ядерный титбит 2 [PC, Цифровая версия]</td>\n",
       "      <td>22165</td>\n",
       "      <td>31</td>\n",
       "    </tr>\n",
       "    <tr>\n",
       "      <th>22166</th>\n",
       "      <td>Язык запросов 1С:Предприятия  [Цифровая версия]</td>\n",
       "      <td>22166</td>\n",
       "      <td>54</td>\n",
       "    </tr>\n",
       "    <tr>\n",
       "      <th>22167</th>\n",
       "      <td>Язык запросов 1С:Предприятия 8 (+CD). Хрустале...</td>\n",
       "      <td>22167</td>\n",
       "      <td>49</td>\n",
       "    </tr>\n",
       "    <tr>\n",
       "      <th>22168</th>\n",
       "      <td>Яйцо для Little Inu</td>\n",
       "      <td>22168</td>\n",
       "      <td>62</td>\n",
       "    </tr>\n",
       "    <tr>\n",
       "      <th>22169</th>\n",
       "      <td>Яйцо дракона (Игра престолов)</td>\n",
       "      <td>22169</td>\n",
       "      <td>69</td>\n",
       "    </tr>\n",
       "  </tbody>\n",
       "</table>\n",
       "<p>22170 rows × 3 columns</p>\n",
       "</div>"
      ],
      "text/plain": [
       "                                               item_name  item_id  \\\n",
       "0              ! ВО ВЛАСТИ НАВАЖДЕНИЯ (ПЛАСТ.)         D        0   \n",
       "1      !ABBYY FineReader 12 Professional Edition Full...        1   \n",
       "2          ***В ЛУЧАХ СЛАВЫ   (UNV)                    D        2   \n",
       "3        ***ГОЛУБАЯ ВОЛНА  (Univ)                      D        3   \n",
       "4            ***КОРОБКА (СТЕКЛО)                       D        4   \n",
       "...                                                  ...      ...   \n",
       "22165             Ядерный титбит 2 [PC, Цифровая версия]    22165   \n",
       "22166    Язык запросов 1С:Предприятия  [Цифровая версия]    22166   \n",
       "22167  Язык запросов 1С:Предприятия 8 (+CD). Хрустале...    22167   \n",
       "22168                                Яйцо для Little Inu    22168   \n",
       "22169                      Яйцо дракона (Игра престолов)    22169   \n",
       "\n",
       "       item_category_id  \n",
       "0                    40  \n",
       "1                    76  \n",
       "2                    40  \n",
       "3                    40  \n",
       "4                    40  \n",
       "...                 ...  \n",
       "22165                31  \n",
       "22166                54  \n",
       "22167                49  \n",
       "22168                62  \n",
       "22169                69  \n",
       "\n",
       "[22170 rows x 3 columns]"
      ]
     },
     "execution_count": 3,
     "metadata": {},
     "output_type": "execute_result"
    }
   ],
   "source": [
    "item_df = pd.read_csv('datasets/items.csv')\n",
    "item_df"
   ]
  },
  {
   "cell_type": "code",
   "execution_count": 4,
   "metadata": {
    "ExecuteTime": {
     "end_time": "2020-09-12T13:22:16.293120Z",
     "start_time": "2020-09-12T13:22:14.751827Z"
    }
   },
   "outputs": [
    {
     "data": {
      "text/html": [
       "<div>\n",
       "<style scoped>\n",
       "    .dataframe tbody tr th:only-of-type {\n",
       "        vertical-align: middle;\n",
       "    }\n",
       "\n",
       "    .dataframe tbody tr th {\n",
       "        vertical-align: top;\n",
       "    }\n",
       "\n",
       "    .dataframe thead th {\n",
       "        text-align: right;\n",
       "    }\n",
       "</style>\n",
       "<table border=\"1\" class=\"dataframe\">\n",
       "  <thead>\n",
       "    <tr style=\"text-align: right;\">\n",
       "      <th></th>\n",
       "      <th>date</th>\n",
       "      <th>date_block_num</th>\n",
       "      <th>shop_id</th>\n",
       "      <th>item_id</th>\n",
       "      <th>item_price</th>\n",
       "      <th>item_cnt_day</th>\n",
       "    </tr>\n",
       "  </thead>\n",
       "  <tbody>\n",
       "    <tr>\n",
       "      <th>0</th>\n",
       "      <td>2013-01-02</td>\n",
       "      <td>0</td>\n",
       "      <td>59</td>\n",
       "      <td>22154</td>\n",
       "      <td>999.00</td>\n",
       "      <td>1.0</td>\n",
       "    </tr>\n",
       "    <tr>\n",
       "      <th>1</th>\n",
       "      <td>2013-01-03</td>\n",
       "      <td>0</td>\n",
       "      <td>25</td>\n",
       "      <td>2552</td>\n",
       "      <td>899.00</td>\n",
       "      <td>1.0</td>\n",
       "    </tr>\n",
       "    <tr>\n",
       "      <th>2</th>\n",
       "      <td>2013-01-05</td>\n",
       "      <td>0</td>\n",
       "      <td>25</td>\n",
       "      <td>2552</td>\n",
       "      <td>899.00</td>\n",
       "      <td>-1.0</td>\n",
       "    </tr>\n",
       "    <tr>\n",
       "      <th>3</th>\n",
       "      <td>2013-01-06</td>\n",
       "      <td>0</td>\n",
       "      <td>25</td>\n",
       "      <td>2554</td>\n",
       "      <td>1709.05</td>\n",
       "      <td>1.0</td>\n",
       "    </tr>\n",
       "    <tr>\n",
       "      <th>4</th>\n",
       "      <td>2013-01-15</td>\n",
       "      <td>0</td>\n",
       "      <td>25</td>\n",
       "      <td>2555</td>\n",
       "      <td>1099.00</td>\n",
       "      <td>1.0</td>\n",
       "    </tr>\n",
       "    <tr>\n",
       "      <th>...</th>\n",
       "      <td>...</td>\n",
       "      <td>...</td>\n",
       "      <td>...</td>\n",
       "      <td>...</td>\n",
       "      <td>...</td>\n",
       "      <td>...</td>\n",
       "    </tr>\n",
       "    <tr>\n",
       "      <th>2935844</th>\n",
       "      <td>2015-10-10</td>\n",
       "      <td>33</td>\n",
       "      <td>25</td>\n",
       "      <td>7409</td>\n",
       "      <td>299.00</td>\n",
       "      <td>1.0</td>\n",
       "    </tr>\n",
       "    <tr>\n",
       "      <th>2935845</th>\n",
       "      <td>2015-10-09</td>\n",
       "      <td>33</td>\n",
       "      <td>25</td>\n",
       "      <td>7460</td>\n",
       "      <td>299.00</td>\n",
       "      <td>1.0</td>\n",
       "    </tr>\n",
       "    <tr>\n",
       "      <th>2935846</th>\n",
       "      <td>2015-10-14</td>\n",
       "      <td>33</td>\n",
       "      <td>25</td>\n",
       "      <td>7459</td>\n",
       "      <td>349.00</td>\n",
       "      <td>1.0</td>\n",
       "    </tr>\n",
       "    <tr>\n",
       "      <th>2935847</th>\n",
       "      <td>2015-10-22</td>\n",
       "      <td>33</td>\n",
       "      <td>25</td>\n",
       "      <td>7440</td>\n",
       "      <td>299.00</td>\n",
       "      <td>1.0</td>\n",
       "    </tr>\n",
       "    <tr>\n",
       "      <th>2935848</th>\n",
       "      <td>2015-10-03</td>\n",
       "      <td>33</td>\n",
       "      <td>25</td>\n",
       "      <td>7460</td>\n",
       "      <td>299.00</td>\n",
       "      <td>1.0</td>\n",
       "    </tr>\n",
       "  </tbody>\n",
       "</table>\n",
       "<p>2935849 rows × 6 columns</p>\n",
       "</div>"
      ],
      "text/plain": [
       "              date  date_block_num  shop_id  item_id  item_price  item_cnt_day\n",
       "0       2013-01-02               0       59    22154      999.00           1.0\n",
       "1       2013-01-03               0       25     2552      899.00           1.0\n",
       "2       2013-01-05               0       25     2552      899.00          -1.0\n",
       "3       2013-01-06               0       25     2554     1709.05           1.0\n",
       "4       2013-01-15               0       25     2555     1099.00           1.0\n",
       "...            ...             ...      ...      ...         ...           ...\n",
       "2935844 2015-10-10              33       25     7409      299.00           1.0\n",
       "2935845 2015-10-09              33       25     7460      299.00           1.0\n",
       "2935846 2015-10-14              33       25     7459      349.00           1.0\n",
       "2935847 2015-10-22              33       25     7440      299.00           1.0\n",
       "2935848 2015-10-03              33       25     7460      299.00           1.0\n",
       "\n",
       "[2935849 rows x 6 columns]"
      ]
     },
     "execution_count": 4,
     "metadata": {},
     "output_type": "execute_result"
    }
   ],
   "source": [
    "sales_df = pd.read_csv('datasets/sales_train.csv.gz')\n",
    "sales_df['date'] = pd.to_datetime(sales_df['date'], format='%d.%m.%Y')\n",
    "sales_df"
   ]
  },
  {
   "cell_type": "code",
   "execution_count": 5,
   "metadata": {
    "ExecuteTime": {
     "end_time": "2020-09-12T13:22:16.504311Z",
     "start_time": "2020-09-12T13:22:16.462400Z"
    }
   },
   "outputs": [
    {
     "data": {
      "text/plain": [
       "date              0\n",
       "date_block_num    0\n",
       "shop_id           0\n",
       "item_id           0\n",
       "item_price        0\n",
       "item_cnt_day      0\n",
       "dtype: int64"
      ]
     },
     "execution_count": 5,
     "metadata": {},
     "output_type": "execute_result"
    }
   ],
   "source": [
    "sales_df.isna().sum(axis=0)"
   ]
  },
  {
   "cell_type": "code",
   "execution_count": 6,
   "metadata": {
    "ExecuteTime": {
     "end_time": "2020-09-12T13:22:17.076836Z",
     "start_time": "2020-09-12T13:22:16.680959Z"
    }
   },
   "outputs": [
    {
     "name": "stderr",
     "output_type": "stream",
     "text": [
      "/usr/local/lib/python3.8/site-packages/pandas/plotting/_matplotlib/converter.py:256: MatplotlibDeprecationWarning: \n",
      "The epoch2num function was deprecated in Matplotlib 3.3 and will be removed two minor releases later.\n",
      "  base = dates.epoch2num(dt.asi8 / 1.0e9)\n"
     ]
    },
    {
     "data": {
      "text/plain": [
       "<AxesSubplot:xlabel='date'>"
      ]
     },
     "execution_count": 6,
     "metadata": {},
     "output_type": "execute_result"
    },
    {
     "data": {
      "image/png": "[encoded data removed]",
      "text/plain": [
       "<Figure size 432x288 with 1 Axes>"
      ]
     },
     "metadata": {
      "needs_background": "light"
     },
     "output_type": "display_data"
    }
   ],
   "source": [
    "sample_item = sales_df.sample(1, random_state=123)\n",
    "shop_id = sample_item['shop_id'].values[0]\n",
    "item_id = sample_item['item_id'].values[0]\n",
    "item_sales_df = sales_df[(sales_df['shop_id'] == shop_id) & (sales_df['item_id'] == item_id)].sort_values('date')\n",
    "item_sales_df.plot(x='date', y='item_price')"
   ]
  },
  {
   "cell_type": "code",
   "execution_count": 7,
   "metadata": {
    "ExecuteTime": {
     "end_time": "2020-09-12T13:22:17.331480Z",
     "start_time": "2020-09-12T13:22:17.327400Z"
    }
   },
   "outputs": [],
   "source": [
    "\n",
    "def downcast_dataframe(df):\n",
    "    dtype_mapper = {\n",
    "        'int64': 'int32',\n",
    "        'float64': 'float32'\n",
    "    }\n",
    "    dtypes = df.dtypes.to_dict()\n",
    "\n",
    "    new_dtypes = {col: dtype_mapper.get(str(dtype), str(dtype)) for col, dtype in dtypes.items()}\n",
    "    return df.astype(new_dtypes)"
   ]
  },
  {
   "cell_type": "code",
   "execution_count": 8,
   "metadata": {
    "ExecuteTime": {
     "end_time": "2020-09-12T13:22:18.502857Z",
     "start_time": "2020-09-12T13:22:17.578344Z"
    }
   },
   "outputs": [
    {
     "data": {
      "text/html": [
       "<div>\n",
       "<style scoped>\n",
       "    .dataframe tbody tr th:only-of-type {\n",
       "        vertical-align: middle;\n",
       "    }\n",
       "\n",
       "    .dataframe tbody tr th {\n",
       "        vertical-align: top;\n",
       "    }\n",
       "\n",
       "    .dataframe thead th {\n",
       "        text-align: right;\n",
       "    }\n",
       "</style>\n",
       "<table border=\"1\" class=\"dataframe\">\n",
       "  <thead>\n",
       "    <tr style=\"text-align: right;\">\n",
       "      <th></th>\n",
       "      <th>shop_id</th>\n",
       "      <th>item_id</th>\n",
       "      <th>date_block_num</th>\n",
       "      <th>item_price</th>\n",
       "      <th>count</th>\n",
       "    </tr>\n",
       "  </thead>\n",
       "  <tbody>\n",
       "    <tr>\n",
       "      <th>0</th>\n",
       "      <td>0</td>\n",
       "      <td>30</td>\n",
       "      <td>1</td>\n",
       "      <td>265.0</td>\n",
       "      <td>31.0</td>\n",
       "    </tr>\n",
       "    <tr>\n",
       "      <th>1</th>\n",
       "      <td>0</td>\n",
       "      <td>31</td>\n",
       "      <td>1</td>\n",
       "      <td>434.0</td>\n",
       "      <td>11.0</td>\n",
       "    </tr>\n",
       "    <tr>\n",
       "      <th>2</th>\n",
       "      <td>0</td>\n",
       "      <td>32</td>\n",
       "      <td>0</td>\n",
       "      <td>221.0</td>\n",
       "      <td>6.0</td>\n",
       "    </tr>\n",
       "    <tr>\n",
       "      <th>3</th>\n",
       "      <td>0</td>\n",
       "      <td>32</td>\n",
       "      <td>1</td>\n",
       "      <td>221.0</td>\n",
       "      <td>10.0</td>\n",
       "    </tr>\n",
       "    <tr>\n",
       "      <th>4</th>\n",
       "      <td>0</td>\n",
       "      <td>33</td>\n",
       "      <td>0</td>\n",
       "      <td>347.0</td>\n",
       "      <td>3.0</td>\n",
       "    </tr>\n",
       "    <tr>\n",
       "      <th>...</th>\n",
       "      <td>...</td>\n",
       "      <td>...</td>\n",
       "      <td>...</td>\n",
       "      <td>...</td>\n",
       "      <td>...</td>\n",
       "    </tr>\n",
       "    <tr>\n",
       "      <th>1609119</th>\n",
       "      <td>59</td>\n",
       "      <td>22164</td>\n",
       "      <td>27</td>\n",
       "      <td>699.0</td>\n",
       "      <td>2.0</td>\n",
       "    </tr>\n",
       "    <tr>\n",
       "      <th>1609120</th>\n",
       "      <td>59</td>\n",
       "      <td>22164</td>\n",
       "      <td>30</td>\n",
       "      <td>699.0</td>\n",
       "      <td>1.0</td>\n",
       "    </tr>\n",
       "    <tr>\n",
       "      <th>1609121</th>\n",
       "      <td>59</td>\n",
       "      <td>22167</td>\n",
       "      <td>9</td>\n",
       "      <td>299.0</td>\n",
       "      <td>1.0</td>\n",
       "    </tr>\n",
       "    <tr>\n",
       "      <th>1609122</th>\n",
       "      <td>59</td>\n",
       "      <td>22167</td>\n",
       "      <td>11</td>\n",
       "      <td>299.0</td>\n",
       "      <td>2.0</td>\n",
       "    </tr>\n",
       "    <tr>\n",
       "      <th>1609123</th>\n",
       "      <td>59</td>\n",
       "      <td>22167</td>\n",
       "      <td>17</td>\n",
       "      <td>299.0</td>\n",
       "      <td>1.0</td>\n",
       "    </tr>\n",
       "  </tbody>\n",
       "</table>\n",
       "<p>1609124 rows × 5 columns</p>\n",
       "</div>"
      ],
      "text/plain": [
       "         shop_id  item_id  date_block_num  item_price  count\n",
       "0              0       30               1       265.0   31.0\n",
       "1              0       31               1       434.0   11.0\n",
       "2              0       32               0       221.0    6.0\n",
       "3              0       32               1       221.0   10.0\n",
       "4              0       33               0       347.0    3.0\n",
       "...          ...      ...             ...         ...    ...\n",
       "1609119       59    22164              27       699.0    2.0\n",
       "1609120       59    22164              30       699.0    1.0\n",
       "1609121       59    22167               9       299.0    1.0\n",
       "1609122       59    22167              11       299.0    2.0\n",
       "1609123       59    22167              17       299.0    1.0\n",
       "\n",
       "[1609124 rows x 5 columns]"
      ]
     },
     "execution_count": 8,
     "metadata": {},
     "output_type": "execute_result"
    }
   ],
   "source": [
    "monthly_sales_df = sales_df.groupby(['shop_id', 'item_id', 'date_block_num'], as_index=False) \\\n",
    "                            .agg({'item_price': 'mean', 'item_cnt_day': 'sum'})\n",
    "monthly_sales_df.rename(columns={'item_cnt_day': 'count'}, inplace=True)\n",
    "del sales_df, item_sales_df\n",
    "gc.collect()\n",
    "monthly_sales_df"
   ]
  },
  {
   "cell_type": "code",
   "execution_count": 9,
   "metadata": {
    "ExecuteTime": {
     "end_time": "2020-09-12T13:22:20.263174Z",
     "start_time": "2020-09-12T13:22:18.700087Z"
    }
   },
   "outputs": [
    {
     "data": {
      "text/plain": [
       "<AxesSubplot:xlabel='item_price', ylabel='count'>"
      ]
     },
     "execution_count": 9,
     "metadata": {},
     "output_type": "execute_result"
    },
    {
     "data": {
      "image/png": "[encoded data removed]",
      "text/plain": [
       "<Figure size 432x288 with 1 Axes>"
      ]
     },
     "metadata": {
      "needs_background": "light"
     },
     "output_type": "display_data"
    }
   ],
   "source": [
    "# prices = resampled_sales_df['item_price']\n",
    "# counts = resampled_sales_df['item_cnt_day']\n",
    "\n",
    "# resampled_sales_df = resampled_sales_df[((prices > prices.quantile(0.01)) & (prices < prices.quantile(0.99))) &\n",
    "#                                         ((counts > counts.quantile(0.01)) & (counts < counts.quantile(0.99)))]\n",
    "monthly_sales_df.plot.scatter(x='item_price', y='count')"
   ]
  },
  {
   "cell_type": "code",
   "execution_count": 10,
   "metadata": {
    "ExecuteTime": {
     "end_time": "2020-09-12T13:22:20.664229Z",
     "start_time": "2020-09-12T13:22:20.487248Z"
    }
   },
   "outputs": [
    {
     "data": {
      "text/html": [
       "<div>\n",
       "<style scoped>\n",
       "    .dataframe tbody tr th:only-of-type {\n",
       "        vertical-align: middle;\n",
       "    }\n",
       "\n",
       "    .dataframe tbody tr th {\n",
       "        vertical-align: top;\n",
       "    }\n",
       "\n",
       "    .dataframe thead th {\n",
       "        text-align: right;\n",
       "    }\n",
       "</style>\n",
       "<table border=\"1\" class=\"dataframe\">\n",
       "  <thead>\n",
       "    <tr style=\"text-align: right;\">\n",
       "      <th></th>\n",
       "      <th>shop_id</th>\n",
       "      <th>item_id</th>\n",
       "      <th>date_block_num</th>\n",
       "      <th>item_price</th>\n",
       "      <th>count</th>\n",
       "      <th>item_category_id</th>\n",
       "    </tr>\n",
       "  </thead>\n",
       "  <tbody>\n",
       "    <tr>\n",
       "      <th>0</th>\n",
       "      <td>0</td>\n",
       "      <td>30</td>\n",
       "      <td>1</td>\n",
       "      <td>265.0</td>\n",
       "      <td>31.0</td>\n",
       "      <td>40</td>\n",
       "    </tr>\n",
       "    <tr>\n",
       "      <th>1</th>\n",
       "      <td>1</td>\n",
       "      <td>30</td>\n",
       "      <td>1</td>\n",
       "      <td>265.0</td>\n",
       "      <td>10.0</td>\n",
       "      <td>40</td>\n",
       "    </tr>\n",
       "    <tr>\n",
       "      <th>2</th>\n",
       "      <td>2</td>\n",
       "      <td>30</td>\n",
       "      <td>2</td>\n",
       "      <td>359.0</td>\n",
       "      <td>1.0</td>\n",
       "      <td>40</td>\n",
       "    </tr>\n",
       "    <tr>\n",
       "      <th>3</th>\n",
       "      <td>2</td>\n",
       "      <td>30</td>\n",
       "      <td>5</td>\n",
       "      <td>399.0</td>\n",
       "      <td>1.0</td>\n",
       "      <td>40</td>\n",
       "    </tr>\n",
       "    <tr>\n",
       "      <th>4</th>\n",
       "      <td>2</td>\n",
       "      <td>30</td>\n",
       "      <td>15</td>\n",
       "      <td>169.0</td>\n",
       "      <td>1.0</td>\n",
       "      <td>40</td>\n",
       "    </tr>\n",
       "    <tr>\n",
       "      <th>...</th>\n",
       "      <td>...</td>\n",
       "      <td>...</td>\n",
       "      <td>...</td>\n",
       "      <td>...</td>\n",
       "      <td>...</td>\n",
       "      <td>...</td>\n",
       "    </tr>\n",
       "    <tr>\n",
       "      <th>1609119</th>\n",
       "      <td>59</td>\n",
       "      <td>9760</td>\n",
       "      <td>12</td>\n",
       "      <td>179.0</td>\n",
       "      <td>1.0</td>\n",
       "      <td>37</td>\n",
       "    </tr>\n",
       "    <tr>\n",
       "      <th>1609120</th>\n",
       "      <td>59</td>\n",
       "      <td>12846</td>\n",
       "      <td>10</td>\n",
       "      <td>149.0</td>\n",
       "      <td>1.0</td>\n",
       "      <td>37</td>\n",
       "    </tr>\n",
       "    <tr>\n",
       "      <th>1609121</th>\n",
       "      <td>59</td>\n",
       "      <td>16270</td>\n",
       "      <td>6</td>\n",
       "      <td>1000.0</td>\n",
       "      <td>1.0</td>\n",
       "      <td>75</td>\n",
       "    </tr>\n",
       "    <tr>\n",
       "      <th>1609122</th>\n",
       "      <td>59</td>\n",
       "      <td>17732</td>\n",
       "      <td>9</td>\n",
       "      <td>198.0</td>\n",
       "      <td>1.0</td>\n",
       "      <td>28</td>\n",
       "    </tr>\n",
       "    <tr>\n",
       "      <th>1609123</th>\n",
       "      <td>59</td>\n",
       "      <td>18018</td>\n",
       "      <td>0</td>\n",
       "      <td>28.0</td>\n",
       "      <td>1.0</td>\n",
       "      <td>57</td>\n",
       "    </tr>\n",
       "  </tbody>\n",
       "</table>\n",
       "<p>1609124 rows × 6 columns</p>\n",
       "</div>"
      ],
      "text/plain": [
       "         shop_id  item_id  date_block_num  item_price  count  item_category_id\n",
       "0              0       30               1       265.0   31.0                40\n",
       "1              1       30               1       265.0   10.0                40\n",
       "2              2       30               2       359.0    1.0                40\n",
       "3              2       30               5       399.0    1.0                40\n",
       "4              2       30              15       169.0    1.0                40\n",
       "...          ...      ...             ...         ...    ...               ...\n",
       "1609119       59     9760              12       179.0    1.0                37\n",
       "1609120       59    12846              10       149.0    1.0                37\n",
       "1609121       59    16270               6      1000.0    1.0                75\n",
       "1609122       59    17732               9       198.0    1.0                28\n",
       "1609123       59    18018               0        28.0    1.0                57\n",
       "\n",
       "[1609124 rows x 6 columns]"
      ]
     },
     "execution_count": 10,
     "metadata": {},
     "output_type": "execute_result"
    }
   ],
   "source": [
    "monthly_sales_df = monthly_sales_df.merge(item_df[['item_id', 'item_category_id']], on='item_id')\n",
    "monthly_sales_df"
   ]
  },
  {
   "cell_type": "code",
   "execution_count": 11,
   "metadata": {
    "ExecuteTime": {
     "end_time": "2020-09-12T13:22:20.918944Z",
     "start_time": "2020-09-12T13:22:20.880838Z"
    }
   },
   "outputs": [],
   "source": [
    "\n",
    "monthly_sales_df = downcast_dataframe(monthly_sales_df)"
   ]
  },
  {
   "cell_type": "code",
   "execution_count": 12,
   "metadata": {
    "ExecuteTime": {
     "end_time": "2020-09-12T13:22:21.356073Z",
     "start_time": "2020-09-12T13:22:21.132803Z"
    }
   },
   "outputs": [
    {
     "data": {
      "text/html": [
       "<div>\n",
       "<style scoped>\n",
       "    .dataframe tbody tr th:only-of-type {\n",
       "        vertical-align: middle;\n",
       "    }\n",
       "\n",
       "    .dataframe tbody tr th {\n",
       "        vertical-align: top;\n",
       "    }\n",
       "\n",
       "    .dataframe thead th {\n",
       "        text-align: right;\n",
       "    }\n",
       "</style>\n",
       "<table border=\"1\" class=\"dataframe\">\n",
       "  <thead>\n",
       "    <tr style=\"text-align: right;\">\n",
       "      <th></th>\n",
       "      <th>shop_id</th>\n",
       "      <th>item_id</th>\n",
       "      <th>date_block_num</th>\n",
       "      <th>item_price</th>\n",
       "      <th>count</th>\n",
       "      <th>item_category_id</th>\n",
       "    </tr>\n",
       "  </thead>\n",
       "  <tbody>\n",
       "    <tr>\n",
       "      <th>count</th>\n",
       "      <td>1.609124e+06</td>\n",
       "      <td>1.609124e+06</td>\n",
       "      <td>1.609124e+06</td>\n",
       "      <td>1.609124e+06</td>\n",
       "      <td>1.609124e+06</td>\n",
       "      <td>1.609124e+06</td>\n",
       "    </tr>\n",
       "    <tr>\n",
       "      <th>mean</th>\n",
       "      <td>3.280585e+01</td>\n",
       "      <td>1.068099e+04</td>\n",
       "      <td>1.466479e+01</td>\n",
       "      <td>7.908846e+02</td>\n",
       "      <td>2.267200e+00</td>\n",
       "      <td>4.154192e+01</td>\n",
       "    </tr>\n",
       "    <tr>\n",
       "      <th>std</th>\n",
       "      <td>1.653701e+01</td>\n",
       "      <td>6.238883e+03</td>\n",
       "      <td>9.542322e+00</td>\n",
       "      <td>1.551605e+03</td>\n",
       "      <td>8.649882e+00</td>\n",
       "      <td>1.632365e+01</td>\n",
       "    </tr>\n",
       "    <tr>\n",
       "      <th>min</th>\n",
       "      <td>0.000000e+00</td>\n",
       "      <td>0.000000e+00</td>\n",
       "      <td>0.000000e+00</td>\n",
       "      <td>9.000000e-02</td>\n",
       "      <td>-2.200000e+01</td>\n",
       "      <td>0.000000e+00</td>\n",
       "    </tr>\n",
       "    <tr>\n",
       "      <th>25%</th>\n",
       "      <td>2.100000e+01</td>\n",
       "      <td>5.045000e+03</td>\n",
       "      <td>6.000000e+00</td>\n",
       "      <td>1.990000e+02</td>\n",
       "      <td>1.000000e+00</td>\n",
       "      <td>3.000000e+01</td>\n",
       "    </tr>\n",
       "    <tr>\n",
       "      <th>50%</th>\n",
       "      <td>3.100000e+01</td>\n",
       "      <td>1.049700e+04</td>\n",
       "      <td>1.400000e+01</td>\n",
       "      <td>3.990000e+02</td>\n",
       "      <td>1.000000e+00</td>\n",
       "      <td>4.000000e+01</td>\n",
       "    </tr>\n",
       "    <tr>\n",
       "      <th>75%</th>\n",
       "      <td>4.700000e+01</td>\n",
       "      <td>1.606000e+04</td>\n",
       "      <td>2.300000e+01</td>\n",
       "      <td>8.985000e+02</td>\n",
       "      <td>2.000000e+00</td>\n",
       "      <td>5.500000e+01</td>\n",
       "    </tr>\n",
       "    <tr>\n",
       "      <th>max</th>\n",
       "      <td>5.900000e+01</td>\n",
       "      <td>2.216900e+04</td>\n",
       "      <td>3.300000e+01</td>\n",
       "      <td>3.079800e+05</td>\n",
       "      <td>2.253000e+03</td>\n",
       "      <td>8.300000e+01</td>\n",
       "    </tr>\n",
       "  </tbody>\n",
       "</table>\n",
       "</div>"
      ],
      "text/plain": [
       "            shop_id       item_id  date_block_num    item_price         count  \\\n",
       "count  1.609124e+06  1.609124e+06    1.609124e+06  1.609124e+06  1.609124e+06   \n",
       "mean   3.280585e+01  1.068099e+04    1.466479e+01  7.908846e+02  2.267200e+00   \n",
       "std    1.653701e+01  6.238883e+03    9.542322e+00  1.551605e+03  8.649882e+00   \n",
       "min    0.000000e+00  0.000000e+00    0.000000e+00  9.000000e-02 -2.200000e+01   \n",
       "25%    2.100000e+01  5.045000e+03    6.000000e+00  1.990000e+02  1.000000e+00   \n",
       "50%    3.100000e+01  1.049700e+04    1.400000e+01  3.990000e+02  1.000000e+00   \n",
       "75%    4.700000e+01  1.606000e+04    2.300000e+01  8.985000e+02  2.000000e+00   \n",
       "max    5.900000e+01  2.216900e+04    3.300000e+01  3.079800e+05  2.253000e+03   \n",
       "\n",
       "       item_category_id  \n",
       "count      1.609124e+06  \n",
       "mean       4.154192e+01  \n",
       "std        1.632365e+01  \n",
       "min        0.000000e+00  \n",
       "25%        3.000000e+01  \n",
       "50%        4.000000e+01  \n",
       "75%        5.500000e+01  \n",
       "max        8.300000e+01  "
      ]
     },
     "execution_count": 12,
     "metadata": {},
     "output_type": "execute_result"
    }
   ],
   "source": [
    "monthly_sales_df.describe()"
   ]
  },
  {
   "cell_type": "markdown",
   "metadata": {
    "heading_collapsed": true
   },
   "source": [
    "### Prove the sales of any shop are different and unique"
   ]
  },
  {
   "cell_type": "code",
   "execution_count": 56,
   "metadata": {
    "ExecuteTime": {
     "end_time": "2020-09-12T06:19:27.955009Z",
     "start_time": "2020-09-12T06:19:26.507842Z"
    },
    "hidden": true
   },
   "outputs": [
    {
     "data": {
      "text/plain": [
       "Text(0, 0.5, 'item_count')"
      ]
     },
     "execution_count": 56,
     "metadata": {},
     "output_type": "execute_result"
    },
    {
     "data": {
      "image/png": "[encoded data removed]",
      "text/plain": [
       "<Figure size 864x576 with 1 Axes>"
      ]
     },
     "metadata": {
      "needs_background": "light"
     },
     "output_type": "display_data"
    }
   ],
   "source": [
    "shop_ids = monthly_sales_df['shop_id']\n",
    "selected_shop_ids = shop_ids.drop_duplicates().sample(8, random_state=99)\n",
    "\n",
    "ax = monthly_sales_df[shop_ids.isin(selected_shop_ids)].groupby(['date_block_num', 'shop_id']).agg(\n",
    "    {'count': 'sum'}).unstack().plot.bar(y='count', stacked=True, figsize=(12, 8))\n",
    "ax.set_ylabel('item_count')"
   ]
  },
  {
   "cell_type": "markdown",
   "metadata": {
    "heading_collapsed": true
   },
   "source": [
    "### Prove the sales of any item categories are different"
   ]
  },
  {
   "cell_type": "code",
   "execution_count": 58,
   "metadata": {
    "ExecuteTime": {
     "end_time": "2020-09-12T06:19:29.478727Z",
     "start_time": "2020-09-12T06:19:28.269979Z"
    },
    "hidden": true
   },
   "outputs": [
    {
     "data": {
      "text/plain": [
       "<AxesSubplot:xlabel='date_block_num'>"
      ]
     },
     "execution_count": 58,
     "metadata": {},
     "output_type": "execute_result"
    },
    {
     "data": {
      "image/png": "[encoded data removed]",
      "text/plain": [
       "<Figure size 864x576 with 1 Axes>"
      ]
     },
     "metadata": {
      "needs_background": "light"
     },
     "output_type": "display_data"
    }
   ],
   "source": [
    "categories = monthly_sales_df['item_category_id']\n",
    "selected_categories = categories.drop_duplicates().sample(8, random_state=1)\n",
    "monthly_sales_df[categories.isin(selected_categories)].groupby(['date_block_num', 'item_category_id']).agg(\n",
    "    {'count': 'sum'}).unstack().plot.bar(y='count', stacked=True, figsize=(12, 8))"
   ]
  },
  {
   "cell_type": "markdown",
   "metadata": {
    "heading_collapsed": true
   },
   "source": [
    "### Distribution"
   ]
  },
  {
   "cell_type": "code",
   "execution_count": 59,
   "metadata": {
    "ExecuteTime": {
     "end_time": "2020-09-12T06:19:29.553222Z",
     "start_time": "2020-09-12T06:19:29.550569Z"
    },
    "hidden": true
   },
   "outputs": [],
   "source": [
    "def IQR(data, lower, upper):\n",
    "    return data[(data > data.quantile(lower)) & (data < data.quantile(upper))]\n"
   ]
  },
  {
   "cell_type": "code",
   "execution_count": 60,
   "metadata": {
    "ExecuteTime": {
     "end_time": "2020-09-12T06:19:30.117776Z",
     "start_time": "2020-09-12T06:19:29.627106Z"
    },
    "hidden": true
   },
   "outputs": [
    {
     "data": {
      "text/plain": [
       "<AxesSubplot:>"
      ]
     },
     "execution_count": 60,
     "metadata": {},
     "output_type": "execute_result"
    },
    {
     "data": {
      "image/png": "[encoded data removed]",
      "text/plain": [
       "<Figure size 1152x576 with 1 Axes>"
      ]
     },
     "metadata": {
      "needs_background": "light"
     },
     "output_type": "display_data"
    }
   ],
   "source": [
    "alpha = 0.0027\n",
    "IQR(monthly_sales_df['count'], alpha, 1-alpha).hist(bins=100, figsize=(16, 8))"
   ]
  },
  {
   "cell_type": "code",
   "execution_count": 61,
   "metadata": {
    "ExecuteTime": {
     "end_time": "2020-09-12T06:19:30.692325Z",
     "start_time": "2020-09-12T06:19:30.180500Z"
    },
    "hidden": true
   },
   "outputs": [
    {
     "data": {
      "text/plain": [
       "<AxesSubplot:>"
      ]
     },
     "execution_count": 61,
     "metadata": {},
     "output_type": "execute_result"
    },
    {
     "data": {
      "image/png": "[encoded data removed]",
      "text/plain": [
       "<Figure size 1152x576 with 1 Axes>"
      ]
     },
     "metadata": {
      "needs_background": "light"
     },
     "output_type": "display_data"
    }
   ],
   "source": [
    "alpha = 0.008\n",
    "IQR(monthly_sales_df['item_price'], alpha, 1-alpha).hist( bins=100, figsize=(16, 8))"
   ]
  },
  {
   "cell_type": "code",
   "execution_count": 62,
   "metadata": {
    "ExecuteTime": {
     "end_time": "2020-09-12T06:19:33.034882Z",
     "start_time": "2020-09-12T06:19:32.817388Z"
    },
    "hidden": true
   },
   "outputs": [
    {
     "data": {
      "text/html": [
       "<div>\n",
       "<style scoped>\n",
       "    .dataframe tbody tr th:only-of-type {\n",
       "        vertical-align: middle;\n",
       "    }\n",
       "\n",
       "    .dataframe tbody tr th {\n",
       "        vertical-align: top;\n",
       "    }\n",
       "\n",
       "    .dataframe thead th {\n",
       "        text-align: right;\n",
       "    }\n",
       "</style>\n",
       "<table border=\"1\" class=\"dataframe\">\n",
       "  <thead>\n",
       "    <tr style=\"text-align: right;\">\n",
       "      <th></th>\n",
       "      <th></th>\n",
       "      <th></th>\n",
       "      <th>item_price</th>\n",
       "      <th>count</th>\n",
       "      <th>item_category_id</th>\n",
       "    </tr>\n",
       "    <tr>\n",
       "      <th>shop_id</th>\n",
       "      <th>item_id</th>\n",
       "      <th>date_block_num</th>\n",
       "      <th></th>\n",
       "      <th></th>\n",
       "      <th></th>\n",
       "    </tr>\n",
       "  </thead>\n",
       "  <tbody>\n",
       "    <tr>\n",
       "      <th>0</th>\n",
       "      <th>30</th>\n",
       "      <th>1</th>\n",
       "      <td>265.0</td>\n",
       "      <td>31.0</td>\n",
       "      <td>40</td>\n",
       "    </tr>\n",
       "    <tr>\n",
       "      <th>1</th>\n",
       "      <th>30</th>\n",
       "      <th>1</th>\n",
       "      <td>265.0</td>\n",
       "      <td>10.0</td>\n",
       "      <td>40</td>\n",
       "    </tr>\n",
       "    <tr>\n",
       "      <th rowspan=\"4\" valign=\"top\">2</th>\n",
       "      <th rowspan=\"4\" valign=\"top\">30</th>\n",
       "      <th>2</th>\n",
       "      <td>359.0</td>\n",
       "      <td>1.0</td>\n",
       "      <td>40</td>\n",
       "    </tr>\n",
       "    <tr>\n",
       "      <th>5</th>\n",
       "      <td>399.0</td>\n",
       "      <td>1.0</td>\n",
       "      <td>40</td>\n",
       "    </tr>\n",
       "    <tr>\n",
       "      <th>15</th>\n",
       "      <td>169.0</td>\n",
       "      <td>1.0</td>\n",
       "      <td>40</td>\n",
       "    </tr>\n",
       "    <tr>\n",
       "      <th>16</th>\n",
       "      <td>169.0</td>\n",
       "      <td>1.0</td>\n",
       "      <td>40</td>\n",
       "    </tr>\n",
       "    <tr>\n",
       "      <th rowspan=\"10\" valign=\"top\">3</th>\n",
       "      <th rowspan=\"10\" valign=\"top\">30</th>\n",
       "      <th>1</th>\n",
       "      <td>399.0</td>\n",
       "      <td>4.0</td>\n",
       "      <td>40</td>\n",
       "    </tr>\n",
       "    <tr>\n",
       "      <th>2</th>\n",
       "      <td>399.0</td>\n",
       "      <td>5.0</td>\n",
       "      <td>40</td>\n",
       "    </tr>\n",
       "    <tr>\n",
       "      <th>3</th>\n",
       "      <td>399.0</td>\n",
       "      <td>2.0</td>\n",
       "      <td>40</td>\n",
       "    </tr>\n",
       "    <tr>\n",
       "      <th>4</th>\n",
       "      <td>399.0</td>\n",
       "      <td>2.0</td>\n",
       "      <td>40</td>\n",
       "    </tr>\n",
       "    <tr>\n",
       "      <th>5</th>\n",
       "      <td>399.0</td>\n",
       "      <td>1.0</td>\n",
       "      <td>40</td>\n",
       "    </tr>\n",
       "    <tr>\n",
       "      <th>9</th>\n",
       "      <td>169.0</td>\n",
       "      <td>1.0</td>\n",
       "      <td>40</td>\n",
       "    </tr>\n",
       "    <tr>\n",
       "      <th>10</th>\n",
       "      <td>169.0</td>\n",
       "      <td>1.0</td>\n",
       "      <td>40</td>\n",
       "    </tr>\n",
       "    <tr>\n",
       "      <th>11</th>\n",
       "      <td>169.0</td>\n",
       "      <td>2.0</td>\n",
       "      <td>40</td>\n",
       "    </tr>\n",
       "    <tr>\n",
       "      <th>12</th>\n",
       "      <td>169.0</td>\n",
       "      <td>1.0</td>\n",
       "      <td>40</td>\n",
       "    </tr>\n",
       "    <tr>\n",
       "      <th>30</th>\n",
       "      <td>129.0</td>\n",
       "      <td>1.0</td>\n",
       "      <td>40</td>\n",
       "    </tr>\n",
       "    <tr>\n",
       "      <th rowspan=\"3\" valign=\"top\">4</th>\n",
       "      <th rowspan=\"3\" valign=\"top\">30</th>\n",
       "      <th>1</th>\n",
       "      <td>399.0</td>\n",
       "      <td>7.0</td>\n",
       "      <td>40</td>\n",
       "    </tr>\n",
       "    <tr>\n",
       "      <th>2</th>\n",
       "      <td>399.0</td>\n",
       "      <td>3.0</td>\n",
       "      <td>40</td>\n",
       "    </tr>\n",
       "    <tr>\n",
       "      <th>7</th>\n",
       "      <td>399.0</td>\n",
       "      <td>1.0</td>\n",
       "      <td>40</td>\n",
       "    </tr>\n",
       "    <tr>\n",
       "      <th>5</th>\n",
       "      <th>30</th>\n",
       "      <th>1</th>\n",
       "      <td>399.0</td>\n",
       "      <td>5.0</td>\n",
       "      <td>40</td>\n",
       "    </tr>\n",
       "  </tbody>\n",
       "</table>\n",
       "</div>"
      ],
      "text/plain": [
       "                                item_price  count  item_category_id\n",
       "shop_id item_id date_block_num                                     \n",
       "0       30      1                    265.0   31.0                40\n",
       "1       30      1                    265.0   10.0                40\n",
       "2       30      2                    359.0    1.0                40\n",
       "                5                    399.0    1.0                40\n",
       "                15                   169.0    1.0                40\n",
       "                16                   169.0    1.0                40\n",
       "3       30      1                    399.0    4.0                40\n",
       "                2                    399.0    5.0                40\n",
       "                3                    399.0    2.0                40\n",
       "                4                    399.0    2.0                40\n",
       "                5                    399.0    1.0                40\n",
       "                9                    169.0    1.0                40\n",
       "                10                   169.0    1.0                40\n",
       "                11                   169.0    2.0                40\n",
       "                12                   169.0    1.0                40\n",
       "                30                   129.0    1.0                40\n",
       "4       30      1                    399.0    7.0                40\n",
       "                2                    399.0    3.0                40\n",
       "                7                    399.0    1.0                40\n",
       "5       30      1                    399.0    5.0                40"
      ]
     },
     "execution_count": 62,
     "metadata": {},
     "output_type": "execute_result"
    }
   ],
   "source": [
    "monthly_sales_df.set_index(['shop_id', 'item_id', 'date_block_num']).head(20)"
   ]
  },
  {
   "cell_type": "code",
   "execution_count": 63,
   "metadata": {
    "ExecuteTime": {
     "end_time": "2020-09-12T06:19:35.433613Z",
     "start_time": "2020-09-12T06:19:35.304796Z"
    },
    "hidden": true
   },
   "outputs": [
    {
     "data": {
      "text/plain": [
       "shop_id                60\n",
       "item_id             21807\n",
       "date_block_num         34\n",
       "item_price          41464\n",
       "count                 446\n",
       "item_category_id       84\n",
       "dtype: int64"
      ]
     },
     "execution_count": 63,
     "metadata": {},
     "output_type": "execute_result"
    }
   ],
   "source": [
    "monthly_sales_df.nunique()"
   ]
  },
  {
   "cell_type": "code",
   "execution_count": 64,
   "metadata": {
    "ExecuteTime": {
     "end_time": "2020-09-12T06:19:35.887803Z",
     "start_time": "2020-09-12T06:19:35.859285Z"
    },
    "hidden": true
   },
   "outputs": [
    {
     "data": {
      "text/plain": [
       "ID         214200\n",
       "shop_id        42\n",
       "item_id      5100\n",
       "dtype: int64"
      ]
     },
     "execution_count": 64,
     "metadata": {},
     "output_type": "execute_result"
    }
   ],
   "source": [
    "test_df.nunique()"
   ]
  },
  {
   "cell_type": "code",
   "execution_count": 65,
   "metadata": {
    "ExecuteTime": {
     "end_time": "2020-09-12T06:19:36.545777Z",
     "start_time": "2020-09-12T06:19:36.414802Z"
    },
    "hidden": true
   },
   "outputs": [
    {
     "data": {
      "text/plain": [
       "122"
      ]
     },
     "execution_count": 65,
     "metadata": {},
     "output_type": "execute_result"
    }
   ],
   "source": [
    "gc.collect()"
   ]
  },
  {
   "cell_type": "markdown",
   "metadata": {},
   "source": [
    "### Clip count"
   ]
  },
  {
   "cell_type": "code",
   "execution_count": 13,
   "metadata": {
    "ExecuteTime": {
     "end_time": "2020-09-12T13:22:24.175536Z",
     "start_time": "2020-09-12T13:22:23.847446Z"
    }
   },
   "outputs": [
    {
     "data": {
      "text/plain": [
       "<AxesSubplot:ylabel='Frequency'>"
      ]
     },
     "execution_count": 13,
     "metadata": {},
     "output_type": "execute_result"
    },
    {
     "data": {
      "image/png": "[encoded data removed]",
      "text/plain": [
       "<Figure size 432x288 with 1 Axes>"
      ]
     },
     "metadata": {
      "needs_background": "light"
     },
     "output_type": "display_data"
    }
   ],
   "source": [
    "monthly_sales_df['count'].plot.hist()"
   ]
  },
  {
   "cell_type": "code",
   "execution_count": 14,
   "metadata": {
    "ExecuteTime": {
     "end_time": "2020-09-12T13:22:24.848323Z",
     "start_time": "2020-09-12T13:22:24.504121Z"
    }
   },
   "outputs": [
    {
     "data": {
      "text/plain": [
       "<AxesSubplot:ylabel='Frequency'>"
      ]
     },
     "execution_count": 14,
     "metadata": {},
     "output_type": "execute_result"
    },
    {
     "data": {
      "image/png": "[encoded data removed]",
      "text/plain": [
       "<Figure size 432x288 with 1 Axes>"
      ]
     },
     "metadata": {
      "needs_background": "light"
     },
     "output_type": "display_data"
    }
   ],
   "source": [
    "monthly_sales_df['count'].clip(0, 20, inplace=True)\n",
    "monthly_sales_df['count'].plot.hist()"
   ]
  },
  {
   "cell_type": "markdown",
   "metadata": {},
   "source": [
    "### Create monthly_sales_df backup "
   ]
  },
  {
   "cell_type": "code",
   "execution_count": 15,
   "metadata": {
    "ExecuteTime": {
     "end_time": "2020-09-12T13:22:33.791579Z",
     "start_time": "2020-09-12T13:22:33.772662Z"
    }
   },
   "outputs": [],
   "source": [
    "_monthly_sales_df = monthly_sales_df.copy()"
   ]
  },
  {
   "cell_type": "code",
   "execution_count": 16,
   "metadata": {
    "ExecuteTime": {
     "end_time": "2020-09-12T13:22:34.095786Z",
     "start_time": "2020-09-12T13:22:34.077372Z"
    }
   },
   "outputs": [
    {
     "data": {
      "text/html": [
       "<div>\n",
       "<style scoped>\n",
       "    .dataframe tbody tr th:only-of-type {\n",
       "        vertical-align: middle;\n",
       "    }\n",
       "\n",
       "    .dataframe tbody tr th {\n",
       "        vertical-align: top;\n",
       "    }\n",
       "\n",
       "    .dataframe thead th {\n",
       "        text-align: right;\n",
       "    }\n",
       "</style>\n",
       "<table border=\"1\" class=\"dataframe\">\n",
       "  <thead>\n",
       "    <tr style=\"text-align: right;\">\n",
       "      <th></th>\n",
       "      <th>shop_id</th>\n",
       "      <th>item_id</th>\n",
       "      <th>date_block_num</th>\n",
       "      <th>item_price</th>\n",
       "      <th>count</th>\n",
       "      <th>item_category_id</th>\n",
       "    </tr>\n",
       "  </thead>\n",
       "  <tbody>\n",
       "    <tr>\n",
       "      <th>0</th>\n",
       "      <td>0</td>\n",
       "      <td>30</td>\n",
       "      <td>1</td>\n",
       "      <td>265.0</td>\n",
       "      <td>20.0</td>\n",
       "      <td>40</td>\n",
       "    </tr>\n",
       "    <tr>\n",
       "      <th>1</th>\n",
       "      <td>1</td>\n",
       "      <td>30</td>\n",
       "      <td>1</td>\n",
       "      <td>265.0</td>\n",
       "      <td>10.0</td>\n",
       "      <td>40</td>\n",
       "    </tr>\n",
       "    <tr>\n",
       "      <th>2</th>\n",
       "      <td>2</td>\n",
       "      <td>30</td>\n",
       "      <td>2</td>\n",
       "      <td>359.0</td>\n",
       "      <td>1.0</td>\n",
       "      <td>40</td>\n",
       "    </tr>\n",
       "    <tr>\n",
       "      <th>3</th>\n",
       "      <td>2</td>\n",
       "      <td>30</td>\n",
       "      <td>5</td>\n",
       "      <td>399.0</td>\n",
       "      <td>1.0</td>\n",
       "      <td>40</td>\n",
       "    </tr>\n",
       "    <tr>\n",
       "      <th>4</th>\n",
       "      <td>2</td>\n",
       "      <td>30</td>\n",
       "      <td>15</td>\n",
       "      <td>169.0</td>\n",
       "      <td>1.0</td>\n",
       "      <td>40</td>\n",
       "    </tr>\n",
       "    <tr>\n",
       "      <th>...</th>\n",
       "      <td>...</td>\n",
       "      <td>...</td>\n",
       "      <td>...</td>\n",
       "      <td>...</td>\n",
       "      <td>...</td>\n",
       "      <td>...</td>\n",
       "    </tr>\n",
       "    <tr>\n",
       "      <th>1609119</th>\n",
       "      <td>59</td>\n",
       "      <td>9760</td>\n",
       "      <td>12</td>\n",
       "      <td>179.0</td>\n",
       "      <td>1.0</td>\n",
       "      <td>37</td>\n",
       "    </tr>\n",
       "    <tr>\n",
       "      <th>1609120</th>\n",
       "      <td>59</td>\n",
       "      <td>12846</td>\n",
       "      <td>10</td>\n",
       "      <td>149.0</td>\n",
       "      <td>1.0</td>\n",
       "      <td>37</td>\n",
       "    </tr>\n",
       "    <tr>\n",
       "      <th>1609121</th>\n",
       "      <td>59</td>\n",
       "      <td>16270</td>\n",
       "      <td>6</td>\n",
       "      <td>1000.0</td>\n",
       "      <td>1.0</td>\n",
       "      <td>75</td>\n",
       "    </tr>\n",
       "    <tr>\n",
       "      <th>1609122</th>\n",
       "      <td>59</td>\n",
       "      <td>17732</td>\n",
       "      <td>9</td>\n",
       "      <td>198.0</td>\n",
       "      <td>1.0</td>\n",
       "      <td>28</td>\n",
       "    </tr>\n",
       "    <tr>\n",
       "      <th>1609123</th>\n",
       "      <td>59</td>\n",
       "      <td>18018</td>\n",
       "      <td>0</td>\n",
       "      <td>28.0</td>\n",
       "      <td>1.0</td>\n",
       "      <td>57</td>\n",
       "    </tr>\n",
       "  </tbody>\n",
       "</table>\n",
       "<p>1609124 rows × 6 columns</p>\n",
       "</div>"
      ],
      "text/plain": [
       "         shop_id  item_id  date_block_num  item_price  count  item_category_id\n",
       "0              0       30               1       265.0   20.0                40\n",
       "1              1       30               1       265.0   10.0                40\n",
       "2              2       30               2       359.0    1.0                40\n",
       "3              2       30               5       399.0    1.0                40\n",
       "4              2       30              15       169.0    1.0                40\n",
       "...          ...      ...             ...         ...    ...               ...\n",
       "1609119       59     9760              12       179.0    1.0                37\n",
       "1609120       59    12846              10       149.0    1.0                37\n",
       "1609121       59    16270               6      1000.0    1.0                75\n",
       "1609122       59    17732               9       198.0    1.0                28\n",
       "1609123       59    18018               0        28.0    1.0                57\n",
       "\n",
       "[1609124 rows x 6 columns]"
      ]
     },
     "execution_count": 16,
     "metadata": {},
     "output_type": "execute_result"
    }
   ],
   "source": [
    "_monthly_sales_df"
   ]
  },
  {
   "cell_type": "markdown",
   "metadata": {},
   "source": [
    "## Feature Engineering"
   ]
  },
  {
   "cell_type": "code",
   "execution_count": 17,
   "metadata": {
    "ExecuteTime": {
     "end_time": "2020-09-12T13:22:35.095154Z",
     "start_time": "2020-09-12T13:22:35.090455Z"
    }
   },
   "outputs": [],
   "source": [
    "def generate_feature(df, by, base_col, output_col, agg_func):\n",
    "    agg_df = df.groupby(by, as_index=False).agg({base_col: agg_func})\n",
    "    agg_df.rename(columns={base_col: output_col}, inplace=True)\n",
    "    return df.merge(agg_df, how='left', on=by)"
   ]
  },
  {
   "cell_type": "code",
   "execution_count": 18,
   "metadata": {
    "ExecuteTime": {
     "end_time": "2020-09-12T13:22:37.358929Z",
     "start_time": "2020-09-12T13:22:35.384456Z"
    }
   },
   "outputs": [
    {
     "data": {
      "text/html": [
       "<div>\n",
       "<style scoped>\n",
       "    .dataframe tbody tr th:only-of-type {\n",
       "        vertical-align: middle;\n",
       "    }\n",
       "\n",
       "    .dataframe tbody tr th {\n",
       "        vertical-align: top;\n",
       "    }\n",
       "\n",
       "    .dataframe thead th {\n",
       "        text-align: right;\n",
       "    }\n",
       "</style>\n",
       "<table border=\"1\" class=\"dataframe\">\n",
       "  <thead>\n",
       "    <tr style=\"text-align: right;\">\n",
       "      <th></th>\n",
       "      <th>shop_id</th>\n",
       "      <th>item_id</th>\n",
       "      <th>date_block_num</th>\n",
       "      <th>item_price</th>\n",
       "      <th>count</th>\n",
       "      <th>item_category_id</th>\n",
       "      <th>count_by_shop</th>\n",
       "      <th>count_by_item</th>\n",
       "      <th>count_by_item_cat</th>\n",
       "      <th>avg_shop_price</th>\n",
       "      <th>avg_item_price</th>\n",
       "      <th>avg_item_cat_price</th>\n",
       "    </tr>\n",
       "  </thead>\n",
       "  <tbody>\n",
       "    <tr>\n",
       "      <th>0</th>\n",
       "      <td>0</td>\n",
       "      <td>30</td>\n",
       "      <td>1</td>\n",
       "      <td>265.0</td>\n",
       "      <td>20.0</td>\n",
       "      <td>40</td>\n",
       "      <td>5820.0</td>\n",
       "      <td>573.0</td>\n",
       "      <td>29292.0</td>\n",
       "      <td>480.819305</td>\n",
       "      <td>382.645966</td>\n",
       "      <td>215.843521</td>\n",
       "    </tr>\n",
       "    <tr>\n",
       "      <th>1</th>\n",
       "      <td>1</td>\n",
       "      <td>30</td>\n",
       "      <td>1</td>\n",
       "      <td>265.0</td>\n",
       "      <td>10.0</td>\n",
       "      <td>40</td>\n",
       "      <td>3314.0</td>\n",
       "      <td>573.0</td>\n",
       "      <td>29292.0</td>\n",
       "      <td>456.181549</td>\n",
       "      <td>382.645966</td>\n",
       "      <td>215.843521</td>\n",
       "    </tr>\n",
       "    <tr>\n",
       "      <th>2</th>\n",
       "      <td>2</td>\n",
       "      <td>30</td>\n",
       "      <td>2</td>\n",
       "      <td>359.0</td>\n",
       "      <td>1.0</td>\n",
       "      <td>40</td>\n",
       "      <td>751.0</td>\n",
       "      <td>381.0</td>\n",
       "      <td>33542.0</td>\n",
       "      <td>894.116394</td>\n",
       "      <td>388.716553</td>\n",
       "      <td>222.841461</td>\n",
       "    </tr>\n",
       "    <tr>\n",
       "      <th>3</th>\n",
       "      <td>2</td>\n",
       "      <td>30</td>\n",
       "      <td>5</td>\n",
       "      <td>399.0</td>\n",
       "      <td>1.0</td>\n",
       "      <td>40</td>\n",
       "      <td>808.0</td>\n",
       "      <td>49.0</td>\n",
       "      <td>24508.0</td>\n",
       "      <td>982.019714</td>\n",
       "      <td>399.000000</td>\n",
       "      <td>215.208832</td>\n",
       "    </tr>\n",
       "    <tr>\n",
       "      <th>4</th>\n",
       "      <td>2</td>\n",
       "      <td>30</td>\n",
       "      <td>15</td>\n",
       "      <td>169.0</td>\n",
       "      <td>1.0</td>\n",
       "      <td>40</td>\n",
       "      <td>759.0</td>\n",
       "      <td>21.0</td>\n",
       "      <td>17333.0</td>\n",
       "      <td>1160.613647</td>\n",
       "      <td>164.000000</td>\n",
       "      <td>229.586716</td>\n",
       "    </tr>\n",
       "    <tr>\n",
       "      <th>...</th>\n",
       "      <td>...</td>\n",
       "      <td>...</td>\n",
       "      <td>...</td>\n",
       "      <td>...</td>\n",
       "      <td>...</td>\n",
       "      <td>...</td>\n",
       "      <td>...</td>\n",
       "      <td>...</td>\n",
       "      <td>...</td>\n",
       "      <td>...</td>\n",
       "      <td>...</td>\n",
       "      <td>...</td>\n",
       "    </tr>\n",
       "    <tr>\n",
       "      <th>1609119</th>\n",
       "      <td>59</td>\n",
       "      <td>9760</td>\n",
       "      <td>12</td>\n",
       "      <td>179.0</td>\n",
       "      <td>1.0</td>\n",
       "      <td>37</td>\n",
       "      <td>1431.0</td>\n",
       "      <td>1.0</td>\n",
       "      <td>7517.0</td>\n",
       "      <td>709.750610</td>\n",
       "      <td>179.000000</td>\n",
       "      <td>378.938873</td>\n",
       "    </tr>\n",
       "    <tr>\n",
       "      <th>1609120</th>\n",
       "      <td>59</td>\n",
       "      <td>12846</td>\n",
       "      <td>10</td>\n",
       "      <td>149.0</td>\n",
       "      <td>1.0</td>\n",
       "      <td>37</td>\n",
       "      <td>1769.0</td>\n",
       "      <td>1.0</td>\n",
       "      <td>7392.0</td>\n",
       "      <td>750.881165</td>\n",
       "      <td>149.000000</td>\n",
       "      <td>398.554901</td>\n",
       "    </tr>\n",
       "    <tr>\n",
       "      <th>1609121</th>\n",
       "      <td>59</td>\n",
       "      <td>16270</td>\n",
       "      <td>6</td>\n",
       "      <td>1000.0</td>\n",
       "      <td>1.0</td>\n",
       "      <td>75</td>\n",
       "      <td>1658.0</td>\n",
       "      <td>1.0</td>\n",
       "      <td>1498.0</td>\n",
       "      <td>639.207092</td>\n",
       "      <td>1000.000000</td>\n",
       "      <td>1894.044312</td>\n",
       "    </tr>\n",
       "    <tr>\n",
       "      <th>1609122</th>\n",
       "      <td>59</td>\n",
       "      <td>17732</td>\n",
       "      <td>9</td>\n",
       "      <td>198.0</td>\n",
       "      <td>1.0</td>\n",
       "      <td>28</td>\n",
       "      <td>1606.0</td>\n",
       "      <td>1.0</td>\n",
       "      <td>5278.0</td>\n",
       "      <td>707.802185</td>\n",
       "      <td>198.000000</td>\n",
       "      <td>616.564331</td>\n",
       "    </tr>\n",
       "    <tr>\n",
       "      <th>1609123</th>\n",
       "      <td>59</td>\n",
       "      <td>18018</td>\n",
       "      <td>0</td>\n",
       "      <td>28.0</td>\n",
       "      <td>1.0</td>\n",
       "      <td>57</td>\n",
       "      <td>2003.0</td>\n",
       "      <td>1.0</td>\n",
       "      <td>1539.0</td>\n",
       "      <td>751.477173</td>\n",
       "      <td>28.000000</td>\n",
       "      <td>277.710052</td>\n",
       "    </tr>\n",
       "  </tbody>\n",
       "</table>\n",
       "<p>1609124 rows × 12 columns</p>\n",
       "</div>"
      ],
      "text/plain": [
       "         shop_id  item_id  date_block_num  item_price  count  \\\n",
       "0              0       30               1       265.0   20.0   \n",
       "1              1       30               1       265.0   10.0   \n",
       "2              2       30               2       359.0    1.0   \n",
       "3              2       30               5       399.0    1.0   \n",
       "4              2       30              15       169.0    1.0   \n",
       "...          ...      ...             ...         ...    ...   \n",
       "1609119       59     9760              12       179.0    1.0   \n",
       "1609120       59    12846              10       149.0    1.0   \n",
       "1609121       59    16270               6      1000.0    1.0   \n",
       "1609122       59    17732               9       198.0    1.0   \n",
       "1609123       59    18018               0        28.0    1.0   \n",
       "\n",
       "         item_category_id  count_by_shop  count_by_item  count_by_item_cat  \\\n",
       "0                      40         5820.0          573.0            29292.0   \n",
       "1                      40         3314.0          573.0            29292.0   \n",
       "2                      40          751.0          381.0            33542.0   \n",
       "3                      40          808.0           49.0            24508.0   \n",
       "4                      40          759.0           21.0            17333.0   \n",
       "...                   ...            ...            ...                ...   \n",
       "1609119                37         1431.0            1.0             7517.0   \n",
       "1609120                37         1769.0            1.0             7392.0   \n",
       "1609121                75         1658.0            1.0             1498.0   \n",
       "1609122                28         1606.0            1.0             5278.0   \n",
       "1609123                57         2003.0            1.0             1539.0   \n",
       "\n",
       "         avg_shop_price  avg_item_price  avg_item_cat_price  \n",
       "0            480.819305      382.645966          215.843521  \n",
       "1            456.181549      382.645966          215.843521  \n",
       "2            894.116394      388.716553          222.841461  \n",
       "3            982.019714      399.000000          215.208832  \n",
       "4           1160.613647      164.000000          229.586716  \n",
       "...                 ...             ...                 ...  \n",
       "1609119      709.750610      179.000000          378.938873  \n",
       "1609120      750.881165      149.000000          398.554901  \n",
       "1609121      639.207092     1000.000000         1894.044312  \n",
       "1609122      707.802185      198.000000          616.564331  \n",
       "1609123      751.477173       28.000000          277.710052  \n",
       "\n",
       "[1609124 rows x 12 columns]"
      ]
     },
     "execution_count": 18,
     "metadata": {},
     "output_type": "execute_result"
    }
   ],
   "source": [
    "monthly_sales_df = _monthly_sales_df.copy()\n",
    "monthly_sales_df = generate_feature(monthly_sales_df, by=[\n",
    "    'shop_id', 'date_block_num'], base_col='count', output_col='count_by_shop', agg_func='sum')\n",
    "monthly_sales_df = generate_feature(monthly_sales_df, by=[\n",
    "    'item_id', 'date_block_num'], base_col='count', output_col='count_by_item', agg_func='sum')\n",
    "monthly_sales_df = generate_feature(monthly_sales_df, by=[\n",
    "    'item_category_id', 'date_block_num'], base_col='count', output_col='count_by_item_cat', agg_func='sum')\n",
    "\n",
    "monthly_sales_df = generate_feature(monthly_sales_df, by=[\n",
    "    'shop_id', 'date_block_num'], base_col='item_price', output_col='avg_shop_price', agg_func='mean')\n",
    "monthly_sales_df = generate_feature(monthly_sales_df, by=[\n",
    "    'item_id', 'date_block_num'], base_col='item_price', output_col='avg_item_price', agg_func='mean')\n",
    "monthly_sales_df = generate_feature(monthly_sales_df, by=[\n",
    "    'item_category_id', 'date_block_num'], base_col='item_price', output_col='avg_item_cat_price', agg_func='mean')\n",
    "monthly_sales_df"
   ]
  },
  {
   "cell_type": "markdown",
   "metadata": {},
   "source": [
    "### Mean Encoding"
   ]
  },
  {
   "cell_type": "code",
   "execution_count": 19,
   "metadata": {
    "ExecuteTime": {
     "end_time": "2020-09-12T13:22:37.957947Z",
     "start_time": "2020-09-12T13:22:37.603741Z"
    }
   },
   "outputs": [
    {
     "data": {
      "text/html": [
       "<div>\n",
       "<style scoped>\n",
       "    .dataframe tbody tr th:only-of-type {\n",
       "        vertical-align: middle;\n",
       "    }\n",
       "\n",
       "    .dataframe tbody tr th {\n",
       "        vertical-align: top;\n",
       "    }\n",
       "\n",
       "    .dataframe thead th {\n",
       "        text-align: right;\n",
       "    }\n",
       "</style>\n",
       "<table border=\"1\" class=\"dataframe\">\n",
       "  <thead>\n",
       "    <tr style=\"text-align: right;\">\n",
       "      <th></th>\n",
       "      <th>shop_id</th>\n",
       "      <th>item_id</th>\n",
       "      <th>date_block_num</th>\n",
       "      <th>item_price</th>\n",
       "      <th>count</th>\n",
       "      <th>item_category_id</th>\n",
       "      <th>count_by_shop</th>\n",
       "      <th>count_by_item</th>\n",
       "      <th>count_by_item_cat</th>\n",
       "      <th>avg_shop_price</th>\n",
       "      <th>avg_item_price</th>\n",
       "      <th>avg_item_cat_price</th>\n",
       "      <th>shop_id_encoded</th>\n",
       "      <th>item_id_encoded</th>\n",
       "      <th>item_category_id_encoded</th>\n",
       "    </tr>\n",
       "  </thead>\n",
       "  <tbody>\n",
       "    <tr>\n",
       "      <th>0</th>\n",
       "      <td>0</td>\n",
       "      <td>30</td>\n",
       "      <td>1</td>\n",
       "      <td>265.0</td>\n",
       "      <td>20.0</td>\n",
       "      <td>40</td>\n",
       "      <td>5820.0</td>\n",
       "      <td>573.0</td>\n",
       "      <td>29292.0</td>\n",
       "      <td>480.819305</td>\n",
       "      <td>382.645966</td>\n",
       "      <td>215.843521</td>\n",
       "      <td>2.329600</td>\n",
       "      <td>3.473029</td>\n",
       "      <td>1.811020</td>\n",
       "    </tr>\n",
       "    <tr>\n",
       "      <th>1</th>\n",
       "      <td>1</td>\n",
       "      <td>30</td>\n",
       "      <td>1</td>\n",
       "      <td>265.0</td>\n",
       "      <td>10.0</td>\n",
       "      <td>40</td>\n",
       "      <td>3314.0</td>\n",
       "      <td>573.0</td>\n",
       "      <td>29292.0</td>\n",
       "      <td>456.181549</td>\n",
       "      <td>382.645966</td>\n",
       "      <td>215.843521</td>\n",
       "      <td>1.903108</td>\n",
       "      <td>3.473029</td>\n",
       "      <td>1.811020</td>\n",
       "    </tr>\n",
       "    <tr>\n",
       "      <th>2</th>\n",
       "      <td>2</td>\n",
       "      <td>30</td>\n",
       "      <td>2</td>\n",
       "      <td>359.0</td>\n",
       "      <td>1.0</td>\n",
       "      <td>40</td>\n",
       "      <td>751.0</td>\n",
       "      <td>381.0</td>\n",
       "      <td>33542.0</td>\n",
       "      <td>894.116394</td>\n",
       "      <td>388.716553</td>\n",
       "      <td>222.841461</td>\n",
       "      <td>1.857520</td>\n",
       "      <td>3.473029</td>\n",
       "      <td>1.811020</td>\n",
       "    </tr>\n",
       "    <tr>\n",
       "      <th>3</th>\n",
       "      <td>2</td>\n",
       "      <td>30</td>\n",
       "      <td>5</td>\n",
       "      <td>399.0</td>\n",
       "      <td>1.0</td>\n",
       "      <td>40</td>\n",
       "      <td>808.0</td>\n",
       "      <td>49.0</td>\n",
       "      <td>24508.0</td>\n",
       "      <td>982.019714</td>\n",
       "      <td>399.000000</td>\n",
       "      <td>215.208832</td>\n",
       "      <td>1.857520</td>\n",
       "      <td>3.473029</td>\n",
       "      <td>1.811020</td>\n",
       "    </tr>\n",
       "    <tr>\n",
       "      <th>4</th>\n",
       "      <td>2</td>\n",
       "      <td>30</td>\n",
       "      <td>15</td>\n",
       "      <td>169.0</td>\n",
       "      <td>1.0</td>\n",
       "      <td>40</td>\n",
       "      <td>759.0</td>\n",
       "      <td>21.0</td>\n",
       "      <td>17333.0</td>\n",
       "      <td>1160.613647</td>\n",
       "      <td>164.000000</td>\n",
       "      <td>229.586716</td>\n",
       "      <td>1.857520</td>\n",
       "      <td>3.473029</td>\n",
       "      <td>1.811020</td>\n",
       "    </tr>\n",
       "    <tr>\n",
       "      <th>...</th>\n",
       "      <td>...</td>\n",
       "      <td>...</td>\n",
       "      <td>...</td>\n",
       "      <td>...</td>\n",
       "      <td>...</td>\n",
       "      <td>...</td>\n",
       "      <td>...</td>\n",
       "      <td>...</td>\n",
       "      <td>...</td>\n",
       "      <td>...</td>\n",
       "      <td>...</td>\n",
       "      <td>...</td>\n",
       "      <td>...</td>\n",
       "      <td>...</td>\n",
       "      <td>...</td>\n",
       "    </tr>\n",
       "    <tr>\n",
       "      <th>1609119</th>\n",
       "      <td>59</td>\n",
       "      <td>9760</td>\n",
       "      <td>12</td>\n",
       "      <td>179.0</td>\n",
       "      <td>1.0</td>\n",
       "      <td>37</td>\n",
       "      <td>1431.0</td>\n",
       "      <td>1.0</td>\n",
       "      <td>7517.0</td>\n",
       "      <td>709.750610</td>\n",
       "      <td>179.000000</td>\n",
       "      <td>378.938873</td>\n",
       "      <td>1.843670</td>\n",
       "      <td>1.000000</td>\n",
       "      <td>1.501505</td>\n",
       "    </tr>\n",
       "    <tr>\n",
       "      <th>1609120</th>\n",
       "      <td>59</td>\n",
       "      <td>12846</td>\n",
       "      <td>10</td>\n",
       "      <td>149.0</td>\n",
       "      <td>1.0</td>\n",
       "      <td>37</td>\n",
       "      <td>1769.0</td>\n",
       "      <td>1.0</td>\n",
       "      <td>7392.0</td>\n",
       "      <td>750.881165</td>\n",
       "      <td>149.000000</td>\n",
       "      <td>398.554901</td>\n",
       "      <td>1.843670</td>\n",
       "      <td>1.000000</td>\n",
       "      <td>1.501505</td>\n",
       "    </tr>\n",
       "    <tr>\n",
       "      <th>1609121</th>\n",
       "      <td>59</td>\n",
       "      <td>16270</td>\n",
       "      <td>6</td>\n",
       "      <td>1000.0</td>\n",
       "      <td>1.0</td>\n",
       "      <td>75</td>\n",
       "      <td>1658.0</td>\n",
       "      <td>1.0</td>\n",
       "      <td>1498.0</td>\n",
       "      <td>639.207092</td>\n",
       "      <td>1000.000000</td>\n",
       "      <td>1894.044312</td>\n",
       "      <td>1.843670</td>\n",
       "      <td>1.000000</td>\n",
       "      <td>2.428512</td>\n",
       "    </tr>\n",
       "    <tr>\n",
       "      <th>1609122</th>\n",
       "      <td>59</td>\n",
       "      <td>17732</td>\n",
       "      <td>9</td>\n",
       "      <td>198.0</td>\n",
       "      <td>1.0</td>\n",
       "      <td>28</td>\n",
       "      <td>1606.0</td>\n",
       "      <td>1.0</td>\n",
       "      <td>5278.0</td>\n",
       "      <td>707.802185</td>\n",
       "      <td>198.000000</td>\n",
       "      <td>616.564331</td>\n",
       "      <td>1.843670</td>\n",
       "      <td>1.000000</td>\n",
       "      <td>3.328931</td>\n",
       "    </tr>\n",
       "    <tr>\n",
       "      <th>1609123</th>\n",
       "      <td>59</td>\n",
       "      <td>18018</td>\n",
       "      <td>0</td>\n",
       "      <td>28.0</td>\n",
       "      <td>1.0</td>\n",
       "      <td>57</td>\n",
       "      <td>2003.0</td>\n",
       "      <td>1.0</td>\n",
       "      <td>1539.0</td>\n",
       "      <td>751.477173</td>\n",
       "      <td>28.000000</td>\n",
       "      <td>277.710052</td>\n",
       "      <td>1.843670</td>\n",
       "      <td>1.000000</td>\n",
       "      <td>1.340936</td>\n",
       "    </tr>\n",
       "  </tbody>\n",
       "</table>\n",
       "<p>1609124 rows × 15 columns</p>\n",
       "</div>"
      ],
      "text/plain": [
       "         shop_id  item_id  date_block_num  item_price  count  \\\n",
       "0              0       30               1       265.0   20.0   \n",
       "1              1       30               1       265.0   10.0   \n",
       "2              2       30               2       359.0    1.0   \n",
       "3              2       30               5       399.0    1.0   \n",
       "4              2       30              15       169.0    1.0   \n",
       "...          ...      ...             ...         ...    ...   \n",
       "1609119       59     9760              12       179.0    1.0   \n",
       "1609120       59    12846              10       149.0    1.0   \n",
       "1609121       59    16270               6      1000.0    1.0   \n",
       "1609122       59    17732               9       198.0    1.0   \n",
       "1609123       59    18018               0        28.0    1.0   \n",
       "\n",
       "         item_category_id  count_by_shop  count_by_item  count_by_item_cat  \\\n",
       "0                      40         5820.0          573.0            29292.0   \n",
       "1                      40         3314.0          573.0            29292.0   \n",
       "2                      40          751.0          381.0            33542.0   \n",
       "3                      40          808.0           49.0            24508.0   \n",
       "4                      40          759.0           21.0            17333.0   \n",
       "...                   ...            ...            ...                ...   \n",
       "1609119                37         1431.0            1.0             7517.0   \n",
       "1609120                37         1769.0            1.0             7392.0   \n",
       "1609121                75         1658.0            1.0             1498.0   \n",
       "1609122                28         1606.0            1.0             5278.0   \n",
       "1609123                57         2003.0            1.0             1539.0   \n",
       "\n",
       "         avg_shop_price  avg_item_price  avg_item_cat_price  shop_id_encoded  \\\n",
       "0            480.819305      382.645966          215.843521         2.329600   \n",
       "1            456.181549      382.645966          215.843521         1.903108   \n",
       "2            894.116394      388.716553          222.841461         1.857520   \n",
       "3            982.019714      399.000000          215.208832         1.857520   \n",
       "4           1160.613647      164.000000          229.586716         1.857520   \n",
       "...                 ...             ...                 ...              ...   \n",
       "1609119      709.750610      179.000000          378.938873         1.843670   \n",
       "1609120      750.881165      149.000000          398.554901         1.843670   \n",
       "1609121      639.207092     1000.000000         1894.044312         1.843670   \n",
       "1609122      707.802185      198.000000          616.564331         1.843670   \n",
       "1609123      751.477173       28.000000          277.710052         1.843670   \n",
       "\n",
       "         item_id_encoded  item_category_id_encoded  \n",
       "0               3.473029                  1.811020  \n",
       "1               3.473029                  1.811020  \n",
       "2               3.473029                  1.811020  \n",
       "3               3.473029                  1.811020  \n",
       "4               3.473029                  1.811020  \n",
       "...                  ...                       ...  \n",
       "1609119         1.000000                  1.501505  \n",
       "1609120         1.000000                  1.501505  \n",
       "1609121         1.000000                  2.428512  \n",
       "1609122         1.000000                  3.328931  \n",
       "1609123         1.000000                  1.340936  \n",
       "\n",
       "[1609124 rows x 15 columns]"
      ]
     },
     "execution_count": 19,
     "metadata": {},
     "output_type": "execute_result"
    }
   ],
   "source": [
    "def mean_encoding(df, cat_col, target_col):\n",
    "    encoder = df.groupby(cat_col)[target_col].mean()\n",
    "    return df[cat_col].map(encoder)\n",
    "monthly_sales_df['shop_id_encoded'] = mean_encoding(monthly_sales_df, 'shop_id', 'count')\n",
    "monthly_sales_df['item_id_encoded'] = mean_encoding(monthly_sales_df, 'item_id', 'count')\n",
    "monthly_sales_df['item_category_id_encoded'] = mean_encoding(monthly_sales_df, 'item_category_id', 'count')\n",
    "monthly_sales_df"
   ]
  },
  {
   "cell_type": "markdown",
   "metadata": {},
   "source": [
    "### Standardization"
   ]
  },
  {
   "cell_type": "code",
   "execution_count": 20,
   "metadata": {
    "ExecuteTime": {
     "end_time": "2020-09-12T13:22:38.496498Z",
     "start_time": "2020-09-12T13:22:38.213915Z"
    }
   },
   "outputs": [],
   "source": [
    "from sklearn.preprocessing import StandardScaler"
   ]
  },
  {
   "cell_type": "code",
   "execution_count": 21,
   "metadata": {
    "ExecuteTime": {
     "end_time": "2020-09-12T13:22:41.740087Z",
     "start_time": "2020-09-12T13:22:38.744208Z"
    }
   },
   "outputs": [
    {
     "data": {
      "text/html": [
       "<div>\n",
       "<style scoped>\n",
       "    .dataframe tbody tr th:only-of-type {\n",
       "        vertical-align: middle;\n",
       "    }\n",
       "\n",
       "    .dataframe tbody tr th {\n",
       "        vertical-align: top;\n",
       "    }\n",
       "\n",
       "    .dataframe thead th {\n",
       "        text-align: right;\n",
       "    }\n",
       "</style>\n",
       "<table border=\"1\" class=\"dataframe\">\n",
       "  <thead>\n",
       "    <tr style=\"text-align: right;\">\n",
       "      <th></th>\n",
       "      <th>shop_id</th>\n",
       "      <th>item_id</th>\n",
       "      <th>date_block_num</th>\n",
       "      <th>item_price</th>\n",
       "      <th>count</th>\n",
       "      <th>item_category_id</th>\n",
       "      <th>count_by_shop</th>\n",
       "      <th>count_by_item</th>\n",
       "      <th>count_by_item_cat</th>\n",
       "      <th>avg_shop_price</th>\n",
       "      <th>avg_item_price</th>\n",
       "      <th>avg_item_cat_price</th>\n",
       "      <th>shop_id_encoded</th>\n",
       "      <th>item_id_encoded</th>\n",
       "      <th>item_category_id_encoded</th>\n",
       "    </tr>\n",
       "  </thead>\n",
       "  <tbody>\n",
       "    <tr>\n",
       "      <th>0</th>\n",
       "      <td>0</td>\n",
       "      <td>30</td>\n",
       "      <td>1</td>\n",
       "      <td>-0.338930</td>\n",
       "      <td>6.973411</td>\n",
       "      <td>40</td>\n",
       "      <td>1.295772</td>\n",
       "      <td>5.946877</td>\n",
       "      <td>2.508726</td>\n",
       "      <td>-1.464193</td>\n",
       "      <td>-0.263615</td>\n",
       "      <td>-0.412483</td>\n",
       "      <td>0.855249</td>\n",
       "      <td>1.042521</td>\n",
       "      <td>-0.228761</td>\n",
       "    </tr>\n",
       "    <tr>\n",
       "      <th>1</th>\n",
       "      <td>1</td>\n",
       "      <td>30</td>\n",
       "      <td>1</td>\n",
       "      <td>-0.338930</td>\n",
       "      <td>3.094379</td>\n",
       "      <td>40</td>\n",
       "      <td>0.153445</td>\n",
       "      <td>5.946877</td>\n",
       "      <td>2.508726</td>\n",
       "      <td>-1.580538</td>\n",
       "      <td>-0.263615</td>\n",
       "      <td>-0.412483</td>\n",
       "      <td>-0.333683</td>\n",
       "      <td>1.042521</td>\n",
       "      <td>-0.228761</td>\n",
       "    </tr>\n",
       "    <tr>\n",
       "      <th>2</th>\n",
       "      <td>2</td>\n",
       "      <td>30</td>\n",
       "      <td>2</td>\n",
       "      <td>-0.278347</td>\n",
       "      <td>-0.396750</td>\n",
       "      <td>40</td>\n",
       "      <td>-1.014865</td>\n",
       "      <td>3.765144</td>\n",
       "      <td>3.031023</td>\n",
       "      <td>0.487482</td>\n",
       "      <td>-0.259695</td>\n",
       "      <td>-0.407464</td>\n",
       "      <td>-0.460770</td>\n",
       "      <td>1.042521</td>\n",
       "      <td>-0.228761</td>\n",
       "    </tr>\n",
       "    <tr>\n",
       "      <th>3</th>\n",
       "      <td>2</td>\n",
       "      <td>30</td>\n",
       "      <td>5</td>\n",
       "      <td>-0.252567</td>\n",
       "      <td>-0.396750</td>\n",
       "      <td>40</td>\n",
       "      <td>-0.988883</td>\n",
       "      <td>-0.007437</td>\n",
       "      <td>1.920804</td>\n",
       "      <td>0.902579</td>\n",
       "      <td>-0.253055</td>\n",
       "      <td>-0.412939</td>\n",
       "      <td>-0.460770</td>\n",
       "      <td>1.042521</td>\n",
       "      <td>-0.228761</td>\n",
       "    </tr>\n",
       "    <tr>\n",
       "      <th>4</th>\n",
       "      <td>2</td>\n",
       "      <td>30</td>\n",
       "      <td>15</td>\n",
       "      <td>-0.400801</td>\n",
       "      <td>-0.396750</td>\n",
       "      <td>40</td>\n",
       "      <td>-1.011219</td>\n",
       "      <td>-0.325606</td>\n",
       "      <td>1.039044</td>\n",
       "      <td>1.745937</td>\n",
       "      <td>-0.404803</td>\n",
       "      <td>-0.402625</td>\n",
       "      <td>-0.460770</td>\n",
       "      <td>1.042521</td>\n",
       "      <td>-0.228761</td>\n",
       "    </tr>\n",
       "    <tr>\n",
       "      <th>...</th>\n",
       "      <td>...</td>\n",
       "      <td>...</td>\n",
       "      <td>...</td>\n",
       "      <td>...</td>\n",
       "      <td>...</td>\n",
       "      <td>...</td>\n",
       "      <td>...</td>\n",
       "      <td>...</td>\n",
       "      <td>...</td>\n",
       "      <td>...</td>\n",
       "      <td>...</td>\n",
       "      <td>...</td>\n",
       "      <td>...</td>\n",
       "      <td>...</td>\n",
       "      <td>...</td>\n",
       "    </tr>\n",
       "    <tr>\n",
       "      <th>1609119</th>\n",
       "      <td>59</td>\n",
       "      <td>9760</td>\n",
       "      <td>12</td>\n",
       "      <td>-0.394356</td>\n",
       "      <td>-0.396750</td>\n",
       "      <td>37</td>\n",
       "      <td>-0.704896</td>\n",
       "      <td>-0.552870</td>\n",
       "      <td>-0.167278</td>\n",
       "      <td>-0.383132</td>\n",
       "      <td>-0.395117</td>\n",
       "      <td>-0.295493</td>\n",
       "      <td>-0.499378</td>\n",
       "      <td>-0.735264</td>\n",
       "      <td>-0.563083</td>\n",
       "    </tr>\n",
       "    <tr>\n",
       "      <th>1609120</th>\n",
       "      <td>59</td>\n",
       "      <td>12846</td>\n",
       "      <td>10</td>\n",
       "      <td>-0.413691</td>\n",
       "      <td>-0.396750</td>\n",
       "      <td>37</td>\n",
       "      <td>-0.550823</td>\n",
       "      <td>-0.552870</td>\n",
       "      <td>-0.182640</td>\n",
       "      <td>-0.188905</td>\n",
       "      <td>-0.414489</td>\n",
       "      <td>-0.281422</td>\n",
       "      <td>-0.499378</td>\n",
       "      <td>-0.735264</td>\n",
       "      <td>-0.563083</td>\n",
       "    </tr>\n",
       "    <tr>\n",
       "      <th>1609121</th>\n",
       "      <td>59</td>\n",
       "      <td>16270</td>\n",
       "      <td>6</td>\n",
       "      <td>0.134774</td>\n",
       "      <td>-0.396750</td>\n",
       "      <td>75</td>\n",
       "      <td>-0.601421</td>\n",
       "      <td>-0.552870</td>\n",
       "      <td>-0.906974</td>\n",
       "      <td>-0.716253</td>\n",
       "      <td>0.135034</td>\n",
       "      <td>0.791309</td>\n",
       "      <td>-0.499378</td>\n",
       "      <td>-0.735264</td>\n",
       "      <td>0.438222</td>\n",
       "    </tr>\n",
       "    <tr>\n",
       "      <th>1609122</th>\n",
       "      <td>59</td>\n",
       "      <td>17732</td>\n",
       "      <td>9</td>\n",
       "      <td>-0.382111</td>\n",
       "      <td>-0.396750</td>\n",
       "      <td>28</td>\n",
       "      <td>-0.625125</td>\n",
       "      <td>-0.552870</td>\n",
       "      <td>-0.442437</td>\n",
       "      <td>-0.392333</td>\n",
       "      <td>-0.382848</td>\n",
       "      <td>-0.125042</td>\n",
       "      <td>-0.499378</td>\n",
       "      <td>-0.735264</td>\n",
       "      <td>1.410808</td>\n",
       "    </tr>\n",
       "    <tr>\n",
       "      <th>1609123</th>\n",
       "      <td>59</td>\n",
       "      <td>18018</td>\n",
       "      <td>0</td>\n",
       "      <td>-0.491675</td>\n",
       "      <td>-0.396750</td>\n",
       "      <td>57</td>\n",
       "      <td>-0.444157</td>\n",
       "      <td>-0.552870</td>\n",
       "      <td>-0.901935</td>\n",
       "      <td>-0.186090</td>\n",
       "      <td>-0.492623</td>\n",
       "      <td>-0.368106</td>\n",
       "      <td>-0.499378</td>\n",
       "      <td>-0.735264</td>\n",
       "      <td>-0.736521</td>\n",
       "    </tr>\n",
       "  </tbody>\n",
       "</table>\n",
       "<p>1609124 rows × 15 columns</p>\n",
       "</div>"
      ],
      "text/plain": [
       "         shop_id  item_id  date_block_num  item_price     count  \\\n",
       "0              0       30               1   -0.338930  6.973411   \n",
       "1              1       30               1   -0.338930  3.094379   \n",
       "2              2       30               2   -0.278347 -0.396750   \n",
       "3              2       30               5   -0.252567 -0.396750   \n",
       "4              2       30              15   -0.400801 -0.396750   \n",
       "...          ...      ...             ...         ...       ...   \n",
       "1609119       59     9760              12   -0.394356 -0.396750   \n",
       "1609120       59    12846              10   -0.413691 -0.396750   \n",
       "1609121       59    16270               6    0.134774 -0.396750   \n",
       "1609122       59    17732               9   -0.382111 -0.396750   \n",
       "1609123       59    18018               0   -0.491675 -0.396750   \n",
       "\n",
       "         item_category_id  count_by_shop  count_by_item  count_by_item_cat  \\\n",
       "0                      40       1.295772       5.946877           2.508726   \n",
       "1                      40       0.153445       5.946877           2.508726   \n",
       "2                      40      -1.014865       3.765144           3.031023   \n",
       "3                      40      -0.988883      -0.007437           1.920804   \n",
       "4                      40      -1.011219      -0.325606           1.039044   \n",
       "...                   ...            ...            ...                ...   \n",
       "1609119                37      -0.704896      -0.552870          -0.167278   \n",
       "1609120                37      -0.550823      -0.552870          -0.182640   \n",
       "1609121                75      -0.601421      -0.552870          -0.906974   \n",
       "1609122                28      -0.625125      -0.552870          -0.442437   \n",
       "1609123                57      -0.444157      -0.552870          -0.901935   \n",
       "\n",
       "         avg_shop_price  avg_item_price  avg_item_cat_price  shop_id_encoded  \\\n",
       "0             -1.464193       -0.263615           -0.412483         0.855249   \n",
       "1             -1.580538       -0.263615           -0.412483        -0.333683   \n",
       "2              0.487482       -0.259695           -0.407464        -0.460770   \n",
       "3              0.902579       -0.253055           -0.412939        -0.460770   \n",
       "4              1.745937       -0.404803           -0.402625        -0.460770   \n",
       "...                 ...             ...                 ...              ...   \n",
       "1609119       -0.383132       -0.395117           -0.295493        -0.499378   \n",
       "1609120       -0.188905       -0.414489           -0.281422        -0.499378   \n",
       "1609121       -0.716253        0.135034            0.791309        -0.499378   \n",
       "1609122       -0.392333       -0.382848           -0.125042        -0.499378   \n",
       "1609123       -0.186090       -0.492623           -0.368106        -0.499378   \n",
       "\n",
       "         item_id_encoded  item_category_id_encoded  \n",
       "0               1.042521                 -0.228761  \n",
       "1               1.042521                 -0.228761  \n",
       "2               1.042521                 -0.228761  \n",
       "3               1.042521                 -0.228761  \n",
       "4               1.042521                 -0.228761  \n",
       "...                  ...                       ...  \n",
       "1609119        -0.735264                 -0.563083  \n",
       "1609120        -0.735264                 -0.563083  \n",
       "1609121        -0.735264                  0.438222  \n",
       "1609122        -0.735264                  1.410808  \n",
       "1609123        -0.735264                 -0.736521  \n",
       "\n",
       "[1609124 rows x 15 columns]"
      ]
     },
     "execution_count": 21,
     "metadata": {},
     "output_type": "execute_result"
    }
   ],
   "source": [
    "standard_cols = ['item_price', 'count', 'count_by_shop', 'count_by_item',\n",
    "                 'count_by_item_cat', 'avg_shop_price', 'avg_item_price', 'avg_item_cat_price',\n",
    "                 'shop_id_encoded', 'item_id_encoded', 'item_category_id_encoded'\n",
    "                ]\n",
    "standard_cols = list(filter(lambda col: col in monthly_sales_df.columns, standard_cols))\n",
    "scaler = StandardScaler()\n",
    "monthly_sales_df.loc[:, standard_cols] = scaler.fit_transform(monthly_sales_df[standard_cols])\n",
    "monthly_sales_df"
   ]
  },
  {
   "cell_type": "code",
   "execution_count": 22,
   "metadata": {
    "ExecuteTime": {
     "end_time": "2020-09-12T13:22:41.994024Z",
     "start_time": "2020-09-12T13:22:41.985558Z"
    }
   },
   "outputs": [
    {
     "data": {
      "text/html": [
       "<div>\n",
       "<style scoped>\n",
       "    .dataframe tbody tr th:only-of-type {\n",
       "        vertical-align: middle;\n",
       "    }\n",
       "\n",
       "    .dataframe tbody tr th {\n",
       "        vertical-align: top;\n",
       "    }\n",
       "\n",
       "    .dataframe thead th {\n",
       "        text-align: right;\n",
       "    }\n",
       "</style>\n",
       "<table border=\"1\" class=\"dataframe\">\n",
       "  <thead>\n",
       "    <tr style=\"text-align: right;\">\n",
       "      <th></th>\n",
       "      <th>mean</th>\n",
       "      <th>var</th>\n",
       "    </tr>\n",
       "  </thead>\n",
       "  <tbody>\n",
       "    <tr>\n",
       "      <th>item_price</th>\n",
       "      <td>790.884661</td>\n",
       "      <td>2.407477e+06</td>\n",
       "    </tr>\n",
       "    <tr>\n",
       "      <th>count</th>\n",
       "      <td>2.022806</td>\n",
       "      <td>6.645892e+00</td>\n",
       "    </tr>\n",
       "    <tr>\n",
       "      <th>count_by_shop</th>\n",
       "      <td>2977.377615</td>\n",
       "      <td>4.812612e+06</td>\n",
       "    </tr>\n",
       "    <tr>\n",
       "      <th>count_by_item</th>\n",
       "      <td>49.654470</td>\n",
       "      <td>7.744601e+03</td>\n",
       "    </tr>\n",
       "    <tr>\n",
       "      <th>count_by_item_cat</th>\n",
       "      <td>8878.165720</td>\n",
       "      <td>6.621290e+07</td>\n",
       "    </tr>\n",
       "    <tr>\n",
       "      <th>avg_shop_price</th>\n",
       "      <td>790.884661</td>\n",
       "      <td>4.484457e+04</td>\n",
       "    </tr>\n",
       "    <tr>\n",
       "      <th>avg_item_price</th>\n",
       "      <td>790.884661</td>\n",
       "      <td>2.398215e+06</td>\n",
       "    </tr>\n",
       "    <tr>\n",
       "      <th>avg_item_cat_price</th>\n",
       "      <td>790.884661</td>\n",
       "      <td>1.943502e+06</td>\n",
       "    </tr>\n",
       "    <tr>\n",
       "      <th>shop_id_encoded</th>\n",
       "      <td>2.022806</td>\n",
       "      <td>1.286788e-01</td>\n",
       "    </tr>\n",
       "    <tr>\n",
       "      <th>item_id_encoded</th>\n",
       "      <td>2.022806</td>\n",
       "      <td>1.935084e+00</td>\n",
       "    </tr>\n",
       "    <tr>\n",
       "      <th>item_category_id_encoded</th>\n",
       "      <td>2.022806</td>\n",
       "      <td>8.571039e-01</td>\n",
       "    </tr>\n",
       "  </tbody>\n",
       "</table>\n",
       "</div>"
      ],
      "text/plain": [
       "                                 mean           var\n",
       "item_price                 790.884661  2.407477e+06\n",
       "count                        2.022806  6.645892e+00\n",
       "count_by_shop             2977.377615  4.812612e+06\n",
       "count_by_item               49.654470  7.744601e+03\n",
       "count_by_item_cat         8878.165720  6.621290e+07\n",
       "avg_shop_price             790.884661  4.484457e+04\n",
       "avg_item_price             790.884661  2.398215e+06\n",
       "avg_item_cat_price         790.884661  1.943502e+06\n",
       "shop_id_encoded              2.022806  1.286788e-01\n",
       "item_id_encoded              2.022806  1.935084e+00\n",
       "item_category_id_encoded     2.022806  8.571039e-01"
      ]
     },
     "execution_count": 22,
     "metadata": {},
     "output_type": "execute_result"
    }
   ],
   "source": [
    "scaler_params = pd.DataFrame([scaler.mean_, scaler.var_], columns=standard_cols, index=['mean', 'var']).T\n",
    "scaler_params"
   ]
  },
  {
   "cell_type": "code",
   "execution_count": 23,
   "metadata": {
    "ExecuteTime": {
     "end_time": "2020-09-12T13:26:06.758549Z",
     "start_time": "2020-09-12T13:26:06.754767Z"
    }
   },
   "outputs": [],
   "source": [
    "def inverse_scaling(prediction, col):\n",
    "    mean, var = scaler_params.loc[col].tolist()\n",
    "\n",
    "    prediction = prediction * np.sqrt(var) + mean\n",
    "    return prediction"
   ]
  },
  {
   "cell_type": "code",
   "execution_count": 24,
   "metadata": {
    "ExecuteTime": {
     "end_time": "2020-09-12T13:26:07.392781Z",
     "start_time": "2020-09-12T13:26:07.383510Z"
    }
   },
   "outputs": [
    {
     "data": {
      "text/plain": [
       "item_price                  -0.509720\n",
       "count                       -0.396750\n",
       "count_by_shop               -1.356287\n",
       "count_by_item               -0.530144\n",
       "count_by_item_cat           -1.090577\n",
       "avg_shop_price              -3.711110\n",
       "avg_item_price              -0.506829\n",
       "avg_item_cat_price          -0.562289\n",
       "shop_id_encoded             16.662641\n",
       "item_id_encoded              5.015693\n",
       "item_category_id_encoded     8.616550\n",
       "item_category_id            84.000000\n",
       "dtype: float64"
      ]
     },
     "execution_count": 24,
     "metadata": {},
     "output_type": "execute_result"
    }
   ],
   "source": [
    "\n",
    "fillna_vector = scaler.transform([np.arange(len(standard_cols))])[0]\n",
    "fillna_series = pd.Series(fillna_vector, index=standard_cols)\n",
    "fillna_series = fillna_series.append(pd.Series([monthly_sales_df['item_category_id'].max()+1], index=['item_category_id']))\n",
    "fillna_series\n"
   ]
  },
  {
   "cell_type": "markdown",
   "metadata": {},
   "source": [
    "### Generate Grid features\n"
   ]
  },
  {
   "cell_type": "code",
   "execution_count": 25,
   "metadata": {
    "ExecuteTime": {
     "end_time": "2020-09-12T13:35:35.046309Z",
     "start_time": "2020-09-12T13:35:35.043319Z"
    }
   },
   "outputs": [],
   "source": [
    "from itertools import product"
   ]
  },
  {
   "cell_type": "code",
   "execution_count": 26,
   "metadata": {
    "ExecuteTime": {
     "end_time": "2020-09-12T13:35:50.402169Z",
     "start_time": "2020-09-12T13:35:37.022939Z"
    }
   },
   "outputs": [
    {
     "data": {
      "text/plain": [
       "0"
      ]
     },
     "execution_count": 26,
     "metadata": {},
     "output_type": "execute_result"
    }
   ],
   "source": [
    "grid = [] \n",
    "# for block_num in monthly_sales_df['date_block_num'].unique():\n",
    "#     cur_shops = monthly_sales_df.loc[monthly_sales_df['date_block_num'] == block_num, 'shop_id'].unique()\n",
    "#     cur_items = monthly_sales_df.loc[monthly_sales_df['date_block_num'] == block_num, 'item_id'].unique()\n",
    "#     grid.append(np.array(list(product(*[cur_shops, cur_items, [block_num]])),dtype='int32'))\n",
    "unique_shops = test_df['shop_id'].unique()\n",
    "unique_items = test_df['item_id'].unique()\n",
    "unique_block_nums = monthly_sales_df['date_block_num'].unique()\n",
    "grid.append(np.array(list(product(*[unique_shops, unique_items, unique_block_nums])),dtype='int32'))\n",
    "# Turn the grid into a dataframe\n",
    "grid = pd.DataFrame(np.vstack(grid), columns=['shop_id', 'item_id', 'date_block_num'],dtype=np.int32)\n",
    "data = grid.merge(monthly_sales_df, how='left', on=['shop_id', 'item_id', 'date_block_num'])\n",
    "data.fillna(fillna_series, inplace=True)\n",
    "del grid\n",
    "gc.collect()"
   ]
  },
  {
   "cell_type": "code",
   "execution_count": 27,
   "metadata": {
    "ExecuteTime": {
     "end_time": "2020-09-12T13:35:50.811439Z",
     "start_time": "2020-09-12T13:35:50.794062Z"
    }
   },
   "outputs": [
    {
     "data": {
      "text/html": [
       "<div>\n",
       "<style scoped>\n",
       "    .dataframe tbody tr th:only-of-type {\n",
       "        vertical-align: middle;\n",
       "    }\n",
       "\n",
       "    .dataframe tbody tr th {\n",
       "        vertical-align: top;\n",
       "    }\n",
       "\n",
       "    .dataframe thead th {\n",
       "        text-align: right;\n",
       "    }\n",
       "</style>\n",
       "<table border=\"1\" class=\"dataframe\">\n",
       "  <thead>\n",
       "    <tr style=\"text-align: right;\">\n",
       "      <th></th>\n",
       "      <th>shop_id</th>\n",
       "      <th>item_id</th>\n",
       "      <th>date_block_num</th>\n",
       "      <th>item_price</th>\n",
       "      <th>count</th>\n",
       "      <th>item_category_id</th>\n",
       "      <th>count_by_shop</th>\n",
       "      <th>count_by_item</th>\n",
       "      <th>count_by_item_cat</th>\n",
       "      <th>avg_shop_price</th>\n",
       "      <th>avg_item_price</th>\n",
       "      <th>avg_item_cat_price</th>\n",
       "      <th>shop_id_encoded</th>\n",
       "      <th>item_id_encoded</th>\n",
       "      <th>item_category_id_encoded</th>\n",
       "    </tr>\n",
       "  </thead>\n",
       "  <tbody>\n",
       "    <tr>\n",
       "      <th>0</th>\n",
       "      <td>5</td>\n",
       "      <td>5037</td>\n",
       "      <td>1</td>\n",
       "      <td>-0.50972</td>\n",
       "      <td>-0.39675</td>\n",
       "      <td>84.0</td>\n",
       "      <td>-1.356287</td>\n",
       "      <td>-0.530144</td>\n",
       "      <td>-1.090577</td>\n",
       "      <td>-3.71111</td>\n",
       "      <td>-0.506829</td>\n",
       "      <td>-0.562289</td>\n",
       "      <td>16.662641</td>\n",
       "      <td>5.015693</td>\n",
       "      <td>8.61655</td>\n",
       "    </tr>\n",
       "    <tr>\n",
       "      <th>1</th>\n",
       "      <td>5</td>\n",
       "      <td>5037</td>\n",
       "      <td>2</td>\n",
       "      <td>-0.50972</td>\n",
       "      <td>-0.39675</td>\n",
       "      <td>84.0</td>\n",
       "      <td>-1.356287</td>\n",
       "      <td>-0.530144</td>\n",
       "      <td>-1.090577</td>\n",
       "      <td>-3.71111</td>\n",
       "      <td>-0.506829</td>\n",
       "      <td>-0.562289</td>\n",
       "      <td>16.662641</td>\n",
       "      <td>5.015693</td>\n",
       "      <td>8.61655</td>\n",
       "    </tr>\n",
       "    <tr>\n",
       "      <th>2</th>\n",
       "      <td>5</td>\n",
       "      <td>5037</td>\n",
       "      <td>5</td>\n",
       "      <td>-0.50972</td>\n",
       "      <td>-0.39675</td>\n",
       "      <td>84.0</td>\n",
       "      <td>-1.356287</td>\n",
       "      <td>-0.530144</td>\n",
       "      <td>-1.090577</td>\n",
       "      <td>-3.71111</td>\n",
       "      <td>-0.506829</td>\n",
       "      <td>-0.562289</td>\n",
       "      <td>16.662641</td>\n",
       "      <td>5.015693</td>\n",
       "      <td>8.61655</td>\n",
       "    </tr>\n",
       "    <tr>\n",
       "      <th>3</th>\n",
       "      <td>5</td>\n",
       "      <td>5037</td>\n",
       "      <td>15</td>\n",
       "      <td>-0.50972</td>\n",
       "      <td>-0.39675</td>\n",
       "      <td>84.0</td>\n",
       "      <td>-1.356287</td>\n",
       "      <td>-0.530144</td>\n",
       "      <td>-1.090577</td>\n",
       "      <td>-3.71111</td>\n",
       "      <td>-0.506829</td>\n",
       "      <td>-0.562289</td>\n",
       "      <td>16.662641</td>\n",
       "      <td>5.015693</td>\n",
       "      <td>8.61655</td>\n",
       "    </tr>\n",
       "    <tr>\n",
       "      <th>4</th>\n",
       "      <td>5</td>\n",
       "      <td>5037</td>\n",
       "      <td>16</td>\n",
       "      <td>-0.50972</td>\n",
       "      <td>-0.39675</td>\n",
       "      <td>84.0</td>\n",
       "      <td>-1.356287</td>\n",
       "      <td>-0.530144</td>\n",
       "      <td>-1.090577</td>\n",
       "      <td>-3.71111</td>\n",
       "      <td>-0.506829</td>\n",
       "      <td>-0.562289</td>\n",
       "      <td>16.662641</td>\n",
       "      <td>5.015693</td>\n",
       "      <td>8.61655</td>\n",
       "    </tr>\n",
       "    <tr>\n",
       "      <th>...</th>\n",
       "      <td>...</td>\n",
       "      <td>...</td>\n",
       "      <td>...</td>\n",
       "      <td>...</td>\n",
       "      <td>...</td>\n",
       "      <td>...</td>\n",
       "      <td>...</td>\n",
       "      <td>...</td>\n",
       "      <td>...</td>\n",
       "      <td>...</td>\n",
       "      <td>...</td>\n",
       "      <td>...</td>\n",
       "      <td>...</td>\n",
       "      <td>...</td>\n",
       "      <td>...</td>\n",
       "    </tr>\n",
       "    <tr>\n",
       "      <th>7282795</th>\n",
       "      <td>45</td>\n",
       "      <td>969</td>\n",
       "      <td>28</td>\n",
       "      <td>-0.50972</td>\n",
       "      <td>-0.39675</td>\n",
       "      <td>84.0</td>\n",
       "      <td>-1.356287</td>\n",
       "      <td>-0.530144</td>\n",
       "      <td>-1.090577</td>\n",
       "      <td>-3.71111</td>\n",
       "      <td>-0.506829</td>\n",
       "      <td>-0.562289</td>\n",
       "      <td>16.662641</td>\n",
       "      <td>5.015693</td>\n",
       "      <td>8.61655</td>\n",
       "    </tr>\n",
       "    <tr>\n",
       "      <th>7282796</th>\n",
       "      <td>45</td>\n",
       "      <td>969</td>\n",
       "      <td>26</td>\n",
       "      <td>-0.50972</td>\n",
       "      <td>-0.39675</td>\n",
       "      <td>84.0</td>\n",
       "      <td>-1.356287</td>\n",
       "      <td>-0.530144</td>\n",
       "      <td>-1.090577</td>\n",
       "      <td>-3.71111</td>\n",
       "      <td>-0.506829</td>\n",
       "      <td>-0.562289</td>\n",
       "      <td>16.662641</td>\n",
       "      <td>5.015693</td>\n",
       "      <td>8.61655</td>\n",
       "    </tr>\n",
       "    <tr>\n",
       "      <th>7282797</th>\n",
       "      <td>45</td>\n",
       "      <td>969</td>\n",
       "      <td>29</td>\n",
       "      <td>-0.50972</td>\n",
       "      <td>-0.39675</td>\n",
       "      <td>84.0</td>\n",
       "      <td>-1.356287</td>\n",
       "      <td>-0.530144</td>\n",
       "      <td>-1.090577</td>\n",
       "      <td>-3.71111</td>\n",
       "      <td>-0.506829</td>\n",
       "      <td>-0.562289</td>\n",
       "      <td>16.662641</td>\n",
       "      <td>5.015693</td>\n",
       "      <td>8.61655</td>\n",
       "    </tr>\n",
       "    <tr>\n",
       "      <th>7282798</th>\n",
       "      <td>45</td>\n",
       "      <td>969</td>\n",
       "      <td>33</td>\n",
       "      <td>-0.50972</td>\n",
       "      <td>-0.39675</td>\n",
       "      <td>84.0</td>\n",
       "      <td>-1.356287</td>\n",
       "      <td>-0.530144</td>\n",
       "      <td>-1.090577</td>\n",
       "      <td>-3.71111</td>\n",
       "      <td>-0.506829</td>\n",
       "      <td>-0.562289</td>\n",
       "      <td>16.662641</td>\n",
       "      <td>5.015693</td>\n",
       "      <td>8.61655</td>\n",
       "    </tr>\n",
       "    <tr>\n",
       "      <th>7282799</th>\n",
       "      <td>45</td>\n",
       "      <td>969</td>\n",
       "      <td>0</td>\n",
       "      <td>-0.50972</td>\n",
       "      <td>-0.39675</td>\n",
       "      <td>84.0</td>\n",
       "      <td>-1.356287</td>\n",
       "      <td>-0.530144</td>\n",
       "      <td>-1.090577</td>\n",
       "      <td>-3.71111</td>\n",
       "      <td>-0.506829</td>\n",
       "      <td>-0.562289</td>\n",
       "      <td>16.662641</td>\n",
       "      <td>5.015693</td>\n",
       "      <td>8.61655</td>\n",
       "    </tr>\n",
       "  </tbody>\n",
       "</table>\n",
       "<p>7282800 rows × 15 columns</p>\n",
       "</div>"
      ],
      "text/plain": [
       "         shop_id  item_id  date_block_num  item_price    count  \\\n",
       "0              5     5037               1    -0.50972 -0.39675   \n",
       "1              5     5037               2    -0.50972 -0.39675   \n",
       "2              5     5037               5    -0.50972 -0.39675   \n",
       "3              5     5037              15    -0.50972 -0.39675   \n",
       "4              5     5037              16    -0.50972 -0.39675   \n",
       "...          ...      ...             ...         ...      ...   \n",
       "7282795       45      969              28    -0.50972 -0.39675   \n",
       "7282796       45      969              26    -0.50972 -0.39675   \n",
       "7282797       45      969              29    -0.50972 -0.39675   \n",
       "7282798       45      969              33    -0.50972 -0.39675   \n",
       "7282799       45      969               0    -0.50972 -0.39675   \n",
       "\n",
       "         item_category_id  count_by_shop  count_by_item  count_by_item_cat  \\\n",
       "0                    84.0      -1.356287      -0.530144          -1.090577   \n",
       "1                    84.0      -1.356287      -0.530144          -1.090577   \n",
       "2                    84.0      -1.356287      -0.530144          -1.090577   \n",
       "3                    84.0      -1.356287      -0.530144          -1.090577   \n",
       "4                    84.0      -1.356287      -0.530144          -1.090577   \n",
       "...                   ...            ...            ...                ...   \n",
       "7282795              84.0      -1.356287      -0.530144          -1.090577   \n",
       "7282796              84.0      -1.356287      -0.530144          -1.090577   \n",
       "7282797              84.0      -1.356287      -0.530144          -1.090577   \n",
       "7282798              84.0      -1.356287      -0.530144          -1.090577   \n",
       "7282799              84.0      -1.356287      -0.530144          -1.090577   \n",
       "\n",
       "         avg_shop_price  avg_item_price  avg_item_cat_price  shop_id_encoded  \\\n",
       "0              -3.71111       -0.506829           -0.562289        16.662641   \n",
       "1              -3.71111       -0.506829           -0.562289        16.662641   \n",
       "2              -3.71111       -0.506829           -0.562289        16.662641   \n",
       "3              -3.71111       -0.506829           -0.562289        16.662641   \n",
       "4              -3.71111       -0.506829           -0.562289        16.662641   \n",
       "...                 ...             ...                 ...              ...   \n",
       "7282795        -3.71111       -0.506829           -0.562289        16.662641   \n",
       "7282796        -3.71111       -0.506829           -0.562289        16.662641   \n",
       "7282797        -3.71111       -0.506829           -0.562289        16.662641   \n",
       "7282798        -3.71111       -0.506829           -0.562289        16.662641   \n",
       "7282799        -3.71111       -0.506829           -0.562289        16.662641   \n",
       "\n",
       "         item_id_encoded  item_category_id_encoded  \n",
       "0               5.015693                   8.61655  \n",
       "1               5.015693                   8.61655  \n",
       "2               5.015693                   8.61655  \n",
       "3               5.015693                   8.61655  \n",
       "4               5.015693                   8.61655  \n",
       "...                  ...                       ...  \n",
       "7282795         5.015693                   8.61655  \n",
       "7282796         5.015693                   8.61655  \n",
       "7282797         5.015693                   8.61655  \n",
       "7282798         5.015693                   8.61655  \n",
       "7282799         5.015693                   8.61655  \n",
       "\n",
       "[7282800 rows x 15 columns]"
      ]
     },
     "execution_count": 27,
     "metadata": {},
     "output_type": "execute_result"
    }
   ],
   "source": [
    "data"
   ]
  },
  {
   "cell_type": "markdown",
   "metadata": {},
   "source": [
    "### Generate past-features"
   ]
  },
  {
   "cell_type": "code",
   "execution_count": 34,
   "metadata": {
    "ExecuteTime": {
     "end_time": "2020-09-12T13:50:00.350102Z",
     "start_time": "2020-09-12T13:50:00.344066Z"
    }
   },
   "outputs": [],
   "source": [
    "timeserie_cols = [\n",
    "    'item_price', 'count', 'count_by_shop', 'count_by_item',\n",
    "    'count_by_item_cat', 'avg_shop_price', 'avg_item_price', 'avg_item_cat_price'\n",
    "]\n",
    "def generate_past_features(data, lookback_steps):\n",
    "    index_cols = ['shop_id', 'item_id', 'date_block_num']\n",
    "#     timeserie_cols = list(data.columns.difference(index_cols + ['item_category_id']))\n",
    "\n",
    "#     new_data = data.copy()\n",
    "    new_data = data[data['date_block_num'] >= max(lookback_steps)]\n",
    "\n",
    "    for lookback_num in tqdm(lookback_steps):\n",
    "        month_shift_df = data.copy()\n",
    "        month_shift_df['date_block_num'] = month_shift_df['date_block_num'] + lookback_num\n",
    "\n",
    "        lookback_cols = [f'p{lookback_num}_{col}' for col in timeserie_cols]\n",
    "        month_shift_df.rename(columns={old_col: new_col for old_col, new_col in zip(timeserie_cols, lookback_cols)}, inplace=True)\n",
    "        month_shift_df = month_shift_df[month_shift_df.columns.sort_values()]\n",
    "        new_data = new_data.merge(\n",
    "            month_shift_df[index_cols+lookback_cols], how='left', on=index_cols)\n",
    "    return new_data\n",
    "\n",
    "\n"
   ]
  },
  {
   "cell_type": "markdown",
   "metadata": {},
   "source": [
    "### Cross validation split"
   ]
  },
  {
   "cell_type": "code",
   "execution_count": 35,
   "metadata": {
    "ExecuteTime": {
     "end_time": "2020-09-12T13:50:10.558885Z",
     "start_time": "2020-09-12T13:50:10.556133Z"
    }
   },
   "outputs": [],
   "source": [
    "lookback_steps = np.array([1, 2, 3, 4, 5, 6, 9 ]) "
   ]
  },
  {
   "cell_type": "code",
   "execution_count": 44,
   "metadata": {
    "ExecuteTime": {
     "end_time": "2020-09-12T13:55:00.080264Z",
     "start_time": "2020-09-12T13:54:10.453760Z"
    }
   },
   "outputs": [
    {
     "name": "stderr",
     "output_type": "stream",
     "text": [
      "100%|██████████| 7/7 [00:40<00:00,  5.82s/it]\n"
     ]
    },
    {
     "data": {
      "text/plain": [
       "408"
      ]
     },
     "execution_count": 44,
     "metadata": {},
     "output_type": "execute_result"
    }
   ],
   "source": [
    "\n",
    "# val_blocks = [30, 31, 32]\n",
    "val_blocks = [32]\n",
    "\n",
    "train_val_data = generate_past_features(data, lookback_steps)\n",
    "train_data = train_val_data[(train_val_data['date_block_num'] >= 0) & (train_val_data['date_block_num'] < min(val_blocks))]\n",
    "val_data = train_val_data[train_val_data['date_block_num'].isin(val_blocks)]\n",
    "# del data\n",
    "\n",
    "target_col = 'count'\n",
    "feature_cols = train_data.columns.difference(\n",
    "    [target_col, 'date_block_num', 'item_price',\n",
    "     'count_by_shop', 'count_by_item', 'count_by_item_cat',\n",
    "     'avg_shop_price', 'avg_item_price', 'avg_item_cat_price',\n",
    "     'shop_id', 'item_id', 'item_category_id'\n",
    "    ]).sort_values().to_list()\n",
    "\n",
    "X_train = train_data[feature_cols]\n",
    "Y_train = train_data[target_col]\n",
    "\n",
    "X_val = val_data[feature_cols]\n",
    "Y_val = val_data[target_col]\n",
    "\n",
    "del train_val_data, train_data, val_data\n",
    "gc.collect()"
   ]
  },
  {
   "cell_type": "code",
   "execution_count": 48,
   "metadata": {
    "ExecuteTime": {
     "end_time": "2020-09-12T13:56:00.471872Z",
     "start_time": "2020-09-12T13:55:59.594162Z"
    }
   },
   "outputs": [
    {
     "data": {
      "text/html": [
       "<div>\n",
       "<style scoped>\n",
       "    .dataframe tbody tr th:only-of-type {\n",
       "        vertical-align: middle;\n",
       "    }\n",
       "\n",
       "    .dataframe tbody tr th {\n",
       "        vertical-align: top;\n",
       "    }\n",
       "\n",
       "    .dataframe thead th {\n",
       "        text-align: right;\n",
       "    }\n",
       "</style>\n",
       "<table border=\"1\" class=\"dataframe\">\n",
       "  <thead>\n",
       "    <tr style=\"text-align: right;\">\n",
       "      <th></th>\n",
       "      <th>item_category_id_encoded</th>\n",
       "      <th>item_id_encoded</th>\n",
       "      <th>p1_avg_item_cat_price</th>\n",
       "      <th>p1_avg_item_price</th>\n",
       "      <th>p1_avg_shop_price</th>\n",
       "      <th>p1_count</th>\n",
       "      <th>p1_count_by_item</th>\n",
       "      <th>p1_count_by_item_cat</th>\n",
       "      <th>p1_count_by_shop</th>\n",
       "      <th>p1_item_price</th>\n",
       "      <th>...</th>\n",
       "      <th>p6_item_price</th>\n",
       "      <th>p9_avg_item_cat_price</th>\n",
       "      <th>p9_avg_item_price</th>\n",
       "      <th>p9_avg_shop_price</th>\n",
       "      <th>p9_count</th>\n",
       "      <th>p9_count_by_item</th>\n",
       "      <th>p9_count_by_item_cat</th>\n",
       "      <th>p9_count_by_shop</th>\n",
       "      <th>p9_item_price</th>\n",
       "      <th>shop_id_encoded</th>\n",
       "    </tr>\n",
       "  </thead>\n",
       "  <tbody>\n",
       "    <tr>\n",
       "      <th>0</th>\n",
       "      <td>8.61655</td>\n",
       "      <td>5.015693</td>\n",
       "      <td>-0.562289</td>\n",
       "      <td>-0.506829</td>\n",
       "      <td>-3.711110</td>\n",
       "      <td>-0.39675</td>\n",
       "      <td>-0.530144</td>\n",
       "      <td>-1.090577</td>\n",
       "      <td>-1.356287</td>\n",
       "      <td>-0.509720</td>\n",
       "      <td>...</td>\n",
       "      <td>-0.50972</td>\n",
       "      <td>-0.562289</td>\n",
       "      <td>-0.506829</td>\n",
       "      <td>-3.711110</td>\n",
       "      <td>-0.396750</td>\n",
       "      <td>-0.530144</td>\n",
       "      <td>-1.090577</td>\n",
       "      <td>-1.356287</td>\n",
       "      <td>-0.509720</td>\n",
       "      <td>16.662641</td>\n",
       "    </tr>\n",
       "    <tr>\n",
       "      <th>1</th>\n",
       "      <td>8.61655</td>\n",
       "      <td>5.015693</td>\n",
       "      <td>-0.562289</td>\n",
       "      <td>-0.506829</td>\n",
       "      <td>-3.711110</td>\n",
       "      <td>-0.39675</td>\n",
       "      <td>-0.530144</td>\n",
       "      <td>-1.090577</td>\n",
       "      <td>-1.356287</td>\n",
       "      <td>-0.509720</td>\n",
       "      <td>...</td>\n",
       "      <td>-0.50972</td>\n",
       "      <td>-0.562289</td>\n",
       "      <td>-0.506829</td>\n",
       "      <td>-3.711110</td>\n",
       "      <td>-0.396750</td>\n",
       "      <td>-0.530144</td>\n",
       "      <td>-1.090577</td>\n",
       "      <td>-1.356287</td>\n",
       "      <td>-0.509720</td>\n",
       "      <td>16.662641</td>\n",
       "    </tr>\n",
       "    <tr>\n",
       "      <th>2</th>\n",
       "      <td>8.61655</td>\n",
       "      <td>5.015693</td>\n",
       "      <td>-0.562289</td>\n",
       "      <td>-0.506829</td>\n",
       "      <td>-3.711110</td>\n",
       "      <td>-0.39675</td>\n",
       "      <td>-0.530144</td>\n",
       "      <td>-1.090577</td>\n",
       "      <td>-1.356287</td>\n",
       "      <td>-0.509720</td>\n",
       "      <td>...</td>\n",
       "      <td>-0.50972</td>\n",
       "      <td>-0.562289</td>\n",
       "      <td>-0.506829</td>\n",
       "      <td>-3.711110</td>\n",
       "      <td>-0.396750</td>\n",
       "      <td>-0.530144</td>\n",
       "      <td>-1.090577</td>\n",
       "      <td>-1.356287</td>\n",
       "      <td>-0.509720</td>\n",
       "      <td>16.662641</td>\n",
       "    </tr>\n",
       "    <tr>\n",
       "      <th>3</th>\n",
       "      <td>8.61655</td>\n",
       "      <td>5.015693</td>\n",
       "      <td>-0.562289</td>\n",
       "      <td>-0.506829</td>\n",
       "      <td>-3.711110</td>\n",
       "      <td>-0.39675</td>\n",
       "      <td>-0.530144</td>\n",
       "      <td>-1.090577</td>\n",
       "      <td>-1.356287</td>\n",
       "      <td>-0.509720</td>\n",
       "      <td>...</td>\n",
       "      <td>-0.50972</td>\n",
       "      <td>-0.562289</td>\n",
       "      <td>-0.506829</td>\n",
       "      <td>-3.711110</td>\n",
       "      <td>-0.396750</td>\n",
       "      <td>-0.530144</td>\n",
       "      <td>-1.090577</td>\n",
       "      <td>-1.356287</td>\n",
       "      <td>-0.509720</td>\n",
       "      <td>16.662641</td>\n",
       "    </tr>\n",
       "    <tr>\n",
       "      <th>4</th>\n",
       "      <td>8.61655</td>\n",
       "      <td>5.015693</td>\n",
       "      <td>-0.562289</td>\n",
       "      <td>-0.506829</td>\n",
       "      <td>-3.711110</td>\n",
       "      <td>-0.39675</td>\n",
       "      <td>-0.530144</td>\n",
       "      <td>-1.090577</td>\n",
       "      <td>-1.356287</td>\n",
       "      <td>-0.509720</td>\n",
       "      <td>...</td>\n",
       "      <td>-0.50972</td>\n",
       "      <td>-0.562289</td>\n",
       "      <td>-0.506829</td>\n",
       "      <td>-3.711110</td>\n",
       "      <td>-0.396750</td>\n",
       "      <td>-0.530144</td>\n",
       "      <td>-1.090577</td>\n",
       "      <td>-1.356287</td>\n",
       "      <td>-0.509720</td>\n",
       "      <td>16.662641</td>\n",
       "    </tr>\n",
       "    <tr>\n",
       "      <th>...</th>\n",
       "      <td>...</td>\n",
       "      <td>...</td>\n",
       "      <td>...</td>\n",
       "      <td>...</td>\n",
       "      <td>...</td>\n",
       "      <td>...</td>\n",
       "      <td>...</td>\n",
       "      <td>...</td>\n",
       "      <td>...</td>\n",
       "      <td>...</td>\n",
       "      <td>...</td>\n",
       "      <td>...</td>\n",
       "      <td>...</td>\n",
       "      <td>...</td>\n",
       "      <td>...</td>\n",
       "      <td>...</td>\n",
       "      <td>...</td>\n",
       "      <td>...</td>\n",
       "      <td>...</td>\n",
       "      <td>...</td>\n",
       "      <td>...</td>\n",
       "    </tr>\n",
       "    <tr>\n",
       "      <th>5354994</th>\n",
       "      <td>8.61655</td>\n",
       "      <td>5.015693</td>\n",
       "      <td>-0.300674</td>\n",
       "      <td>-0.162328</td>\n",
       "      <td>0.172807</td>\n",
       "      <td>-0.39675</td>\n",
       "      <td>-0.166522</td>\n",
       "      <td>-0.355428</td>\n",
       "      <td>-0.812018</td>\n",
       "      <td>-0.155893</td>\n",
       "      <td>...</td>\n",
       "      <td>-0.50972</td>\n",
       "      <td>-0.562289</td>\n",
       "      <td>-0.506829</td>\n",
       "      <td>-3.711110</td>\n",
       "      <td>-0.396750</td>\n",
       "      <td>-0.530144</td>\n",
       "      <td>-1.090577</td>\n",
       "      <td>-1.356287</td>\n",
       "      <td>-0.509720</td>\n",
       "      <td>16.662641</td>\n",
       "    </tr>\n",
       "    <tr>\n",
       "      <th>5354995</th>\n",
       "      <td>8.61655</td>\n",
       "      <td>5.015693</td>\n",
       "      <td>-0.562289</td>\n",
       "      <td>-0.506829</td>\n",
       "      <td>-3.711110</td>\n",
       "      <td>-0.39675</td>\n",
       "      <td>-0.530144</td>\n",
       "      <td>-1.090577</td>\n",
       "      <td>-1.356287</td>\n",
       "      <td>-0.509720</td>\n",
       "      <td>...</td>\n",
       "      <td>-0.50972</td>\n",
       "      <td>-0.305442</td>\n",
       "      <td>-0.165775</td>\n",
       "      <td>-0.195874</td>\n",
       "      <td>-0.396750</td>\n",
       "      <td>0.163011</td>\n",
       "      <td>-0.396475</td>\n",
       "      <td>-0.827516</td>\n",
       "      <td>-0.155893</td>\n",
       "      <td>16.662641</td>\n",
       "    </tr>\n",
       "    <tr>\n",
       "      <th>5354996</th>\n",
       "      <td>8.61655</td>\n",
       "      <td>5.015693</td>\n",
       "      <td>-0.562289</td>\n",
       "      <td>-0.506829</td>\n",
       "      <td>-3.711110</td>\n",
       "      <td>-0.39675</td>\n",
       "      <td>-0.530144</td>\n",
       "      <td>-1.090577</td>\n",
       "      <td>-1.356287</td>\n",
       "      <td>-0.509720</td>\n",
       "      <td>...</td>\n",
       "      <td>-0.50972</td>\n",
       "      <td>-0.300674</td>\n",
       "      <td>-0.162328</td>\n",
       "      <td>0.172807</td>\n",
       "      <td>-0.396750</td>\n",
       "      <td>-0.166522</td>\n",
       "      <td>-0.355428</td>\n",
       "      <td>-0.812018</td>\n",
       "      <td>-0.155893</td>\n",
       "      <td>16.662641</td>\n",
       "    </tr>\n",
       "    <tr>\n",
       "      <th>5354997</th>\n",
       "      <td>8.61655</td>\n",
       "      <td>5.015693</td>\n",
       "      <td>-0.562289</td>\n",
       "      <td>-0.506829</td>\n",
       "      <td>-3.711110</td>\n",
       "      <td>-0.39675</td>\n",
       "      <td>-0.530144</td>\n",
       "      <td>-1.090577</td>\n",
       "      <td>-1.356287</td>\n",
       "      <td>-0.509720</td>\n",
       "      <td>...</td>\n",
       "      <td>-0.50972</td>\n",
       "      <td>-0.304809</td>\n",
       "      <td>-0.167392</td>\n",
       "      <td>0.021948</td>\n",
       "      <td>0.379057</td>\n",
       "      <td>0.890256</td>\n",
       "      <td>-0.330481</td>\n",
       "      <td>-0.786947</td>\n",
       "      <td>-0.155893</td>\n",
       "      <td>16.662641</td>\n",
       "    </tr>\n",
       "    <tr>\n",
       "      <th>5354998</th>\n",
       "      <td>8.61655</td>\n",
       "      <td>5.015693</td>\n",
       "      <td>-0.562289</td>\n",
       "      <td>-0.506829</td>\n",
       "      <td>-3.711110</td>\n",
       "      <td>-0.39675</td>\n",
       "      <td>-0.530144</td>\n",
       "      <td>-1.090577</td>\n",
       "      <td>-1.356287</td>\n",
       "      <td>-0.509720</td>\n",
       "      <td>...</td>\n",
       "      <td>-0.50972</td>\n",
       "      <td>-0.562289</td>\n",
       "      <td>-0.506829</td>\n",
       "      <td>-3.711110</td>\n",
       "      <td>-0.396750</td>\n",
       "      <td>-0.530144</td>\n",
       "      <td>-1.090577</td>\n",
       "      <td>-1.356287</td>\n",
       "      <td>-0.509720</td>\n",
       "      <td>16.662641</td>\n",
       "    </tr>\n",
       "  </tbody>\n",
       "</table>\n",
       "<p>4926600 rows × 59 columns</p>\n",
       "</div>"
      ],
      "text/plain": [
       "         item_category_id_encoded  item_id_encoded  p1_avg_item_cat_price  \\\n",
       "0                         8.61655         5.015693              -0.562289   \n",
       "1                         8.61655         5.015693              -0.562289   \n",
       "2                         8.61655         5.015693              -0.562289   \n",
       "3                         8.61655         5.015693              -0.562289   \n",
       "4                         8.61655         5.015693              -0.562289   \n",
       "...                           ...              ...                    ...   \n",
       "5354994                   8.61655         5.015693              -0.300674   \n",
       "5354995                   8.61655         5.015693              -0.562289   \n",
       "5354996                   8.61655         5.015693              -0.562289   \n",
       "5354997                   8.61655         5.015693              -0.562289   \n",
       "5354998                   8.61655         5.015693              -0.562289   \n",
       "\n",
       "         p1_avg_item_price  p1_avg_shop_price  p1_count  p1_count_by_item  \\\n",
       "0                -0.506829          -3.711110  -0.39675         -0.530144   \n",
       "1                -0.506829          -3.711110  -0.39675         -0.530144   \n",
       "2                -0.506829          -3.711110  -0.39675         -0.530144   \n",
       "3                -0.506829          -3.711110  -0.39675         -0.530144   \n",
       "4                -0.506829          -3.711110  -0.39675         -0.530144   \n",
       "...                    ...                ...       ...               ...   \n",
       "5354994          -0.162328           0.172807  -0.39675         -0.166522   \n",
       "5354995          -0.506829          -3.711110  -0.39675         -0.530144   \n",
       "5354996          -0.506829          -3.711110  -0.39675         -0.530144   \n",
       "5354997          -0.506829          -3.711110  -0.39675         -0.530144   \n",
       "5354998          -0.506829          -3.711110  -0.39675         -0.530144   \n",
       "\n",
       "         p1_count_by_item_cat  p1_count_by_shop  p1_item_price  ...  \\\n",
       "0                   -1.090577         -1.356287      -0.509720  ...   \n",
       "1                   -1.090577         -1.356287      -0.509720  ...   \n",
       "2                   -1.090577         -1.356287      -0.509720  ...   \n",
       "3                   -1.090577         -1.356287      -0.509720  ...   \n",
       "4                   -1.090577         -1.356287      -0.509720  ...   \n",
       "...                       ...               ...            ...  ...   \n",
       "5354994             -0.355428         -0.812018      -0.155893  ...   \n",
       "5354995             -1.090577         -1.356287      -0.509720  ...   \n",
       "5354996             -1.090577         -1.356287      -0.509720  ...   \n",
       "5354997             -1.090577         -1.356287      -0.509720  ...   \n",
       "5354998             -1.090577         -1.356287      -0.509720  ...   \n",
       "\n",
       "         p6_item_price  p9_avg_item_cat_price  p9_avg_item_price  \\\n",
       "0             -0.50972              -0.562289          -0.506829   \n",
       "1             -0.50972              -0.562289          -0.506829   \n",
       "2             -0.50972              -0.562289          -0.506829   \n",
       "3             -0.50972              -0.562289          -0.506829   \n",
       "4             -0.50972              -0.562289          -0.506829   \n",
       "...                ...                    ...                ...   \n",
       "5354994       -0.50972              -0.562289          -0.506829   \n",
       "5354995       -0.50972              -0.305442          -0.165775   \n",
       "5354996       -0.50972              -0.300674          -0.162328   \n",
       "5354997       -0.50972              -0.304809          -0.167392   \n",
       "5354998       -0.50972              -0.562289          -0.506829   \n",
       "\n",
       "         p9_avg_shop_price  p9_count  p9_count_by_item  p9_count_by_item_cat  \\\n",
       "0                -3.711110 -0.396750         -0.530144             -1.090577   \n",
       "1                -3.711110 -0.396750         -0.530144             -1.090577   \n",
       "2                -3.711110 -0.396750         -0.530144             -1.090577   \n",
       "3                -3.711110 -0.396750         -0.530144             -1.090577   \n",
       "4                -3.711110 -0.396750         -0.530144             -1.090577   \n",
       "...                    ...       ...               ...                   ...   \n",
       "5354994          -3.711110 -0.396750         -0.530144             -1.090577   \n",
       "5354995          -0.195874 -0.396750          0.163011             -0.396475   \n",
       "5354996           0.172807 -0.396750         -0.166522             -0.355428   \n",
       "5354997           0.021948  0.379057          0.890256             -0.330481   \n",
       "5354998          -3.711110 -0.396750         -0.530144             -1.090577   \n",
       "\n",
       "         p9_count_by_shop  p9_item_price  shop_id_encoded  \n",
       "0               -1.356287      -0.509720        16.662641  \n",
       "1               -1.356287      -0.509720        16.662641  \n",
       "2               -1.356287      -0.509720        16.662641  \n",
       "3               -1.356287      -0.509720        16.662641  \n",
       "4               -1.356287      -0.509720        16.662641  \n",
       "...                   ...            ...              ...  \n",
       "5354994         -1.356287      -0.509720        16.662641  \n",
       "5354995         -0.827516      -0.155893        16.662641  \n",
       "5354996         -0.812018      -0.155893        16.662641  \n",
       "5354997         -0.786947      -0.155893        16.662641  \n",
       "5354998         -1.356287      -0.509720        16.662641  \n",
       "\n",
       "[4926600 rows x 59 columns]"
      ]
     },
     "execution_count": 48,
     "metadata": {},
     "output_type": "execute_result"
    }
   ],
   "source": [
    "X_train"
   ]
  },
  {
   "cell_type": "code",
   "execution_count": 46,
   "metadata": {
    "ExecuteTime": {
     "end_time": "2020-09-12T13:55:23.644776Z",
     "start_time": "2020-09-12T13:55:11.388413Z"
    }
   },
   "outputs": [
    {
     "name": "stderr",
     "output_type": "stream",
     "text": [
      "100%|██████████| 7/7 [00:09<00:00,  1.41s/it]\n"
     ]
    }
   ],
   "source": [
    "test_lookback_steps = lookback_steps - 1\n",
    "\n",
    "test_block = data['date_block_num'].max()\n",
    "test_data = data[data['date_block_num'] >= test_block - max(test_lookback_steps)]\n",
    "test_data = generate_past_features(test_data, test_lookback_steps)\n",
    "test_data = test_data[test_data['date_block_num'] == test_block]\n",
    "test_data = test_df.merge(test_data, how='left', on=['shop_id', 'item_id'])\n"
   ]
  },
  {
   "cell_type": "code",
   "execution_count": 47,
   "metadata": {
    "ExecuteTime": {
     "end_time": "2020-09-12T13:55:29.448177Z",
     "start_time": "2020-09-12T13:55:29.340274Z"
    }
   },
   "outputs": [
    {
     "data": {
      "text/html": [
       "<div>\n",
       "<style scoped>\n",
       "    .dataframe tbody tr th:only-of-type {\n",
       "        vertical-align: middle;\n",
       "    }\n",
       "\n",
       "    .dataframe tbody tr th {\n",
       "        vertical-align: top;\n",
       "    }\n",
       "\n",
       "    .dataframe thead th {\n",
       "        text-align: right;\n",
       "    }\n",
       "</style>\n",
       "<table border=\"1\" class=\"dataframe\">\n",
       "  <thead>\n",
       "    <tr style=\"text-align: right;\">\n",
       "      <th></th>\n",
       "      <th>item_category_id_encoded</th>\n",
       "      <th>item_id_encoded</th>\n",
       "      <th>p0_avg_item_cat_price</th>\n",
       "      <th>p0_avg_item_price</th>\n",
       "      <th>p0_avg_shop_price</th>\n",
       "      <th>p0_count</th>\n",
       "      <th>p0_count_by_item</th>\n",
       "      <th>p0_count_by_item_cat</th>\n",
       "      <th>p0_count_by_shop</th>\n",
       "      <th>p0_item_price</th>\n",
       "      <th>...</th>\n",
       "      <th>p5_item_price</th>\n",
       "      <th>p8_avg_item_cat_price</th>\n",
       "      <th>p8_avg_item_price</th>\n",
       "      <th>p8_avg_shop_price</th>\n",
       "      <th>p8_count</th>\n",
       "      <th>p8_count_by_item</th>\n",
       "      <th>p8_count_by_item_cat</th>\n",
       "      <th>p8_count_by_shop</th>\n",
       "      <th>p8_item_price</th>\n",
       "      <th>shop_id_encoded</th>\n",
       "    </tr>\n",
       "  </thead>\n",
       "  <tbody>\n",
       "    <tr>\n",
       "      <th>0</th>\n",
       "      <td>8.616550</td>\n",
       "      <td>5.015693</td>\n",
       "      <td>-0.562289</td>\n",
       "      <td>-0.506829</td>\n",
       "      <td>-3.711110</td>\n",
       "      <td>-0.39675</td>\n",
       "      <td>-0.530144</td>\n",
       "      <td>-1.090577</td>\n",
       "      <td>-1.356287</td>\n",
       "      <td>-0.509720</td>\n",
       "      <td>...</td>\n",
       "      <td>0.327477</td>\n",
       "      <td>-0.562289</td>\n",
       "      <td>-0.506829</td>\n",
       "      <td>-3.711110</td>\n",
       "      <td>-0.39675</td>\n",
       "      <td>-0.530144</td>\n",
       "      <td>-1.090577</td>\n",
       "      <td>-1.356287</td>\n",
       "      <td>-0.509720</td>\n",
       "      <td>16.662641</td>\n",
       "    </tr>\n",
       "    <tr>\n",
       "      <th>1</th>\n",
       "      <td>8.616550</td>\n",
       "      <td>5.015693</td>\n",
       "      <td>-0.562289</td>\n",
       "      <td>-0.506829</td>\n",
       "      <td>-3.711110</td>\n",
       "      <td>-0.39675</td>\n",
       "      <td>-0.530144</td>\n",
       "      <td>-1.090577</td>\n",
       "      <td>-1.356287</td>\n",
       "      <td>-0.509720</td>\n",
       "      <td>...</td>\n",
       "      <td>-0.509720</td>\n",
       "      <td>-0.562289</td>\n",
       "      <td>-0.506829</td>\n",
       "      <td>-3.711110</td>\n",
       "      <td>-0.39675</td>\n",
       "      <td>-0.530144</td>\n",
       "      <td>-1.090577</td>\n",
       "      <td>-1.356287</td>\n",
       "      <td>-0.509720</td>\n",
       "      <td>16.662641</td>\n",
       "    </tr>\n",
       "    <tr>\n",
       "      <th>2</th>\n",
       "      <td>0.463176</td>\n",
       "      <td>0.464113</td>\n",
       "      <td>0.539866</td>\n",
       "      <td>0.263535</td>\n",
       "      <td>0.887503</td>\n",
       "      <td>-0.39675</td>\n",
       "      <td>-0.086979</td>\n",
       "      <td>-0.791823</td>\n",
       "      <td>-0.888143</td>\n",
       "      <td>0.263028</td>\n",
       "      <td>...</td>\n",
       "      <td>0.069680</td>\n",
       "      <td>-0.562289</td>\n",
       "      <td>-0.506829</td>\n",
       "      <td>-3.711110</td>\n",
       "      <td>-0.39675</td>\n",
       "      <td>-0.530144</td>\n",
       "      <td>-1.090577</td>\n",
       "      <td>-1.356287</td>\n",
       "      <td>-0.509720</td>\n",
       "      <td>-0.928287</td>\n",
       "    </tr>\n",
       "    <tr>\n",
       "      <th>3</th>\n",
       "      <td>8.616550</td>\n",
       "      <td>5.015693</td>\n",
       "      <td>-0.562289</td>\n",
       "      <td>-0.506829</td>\n",
       "      <td>-3.711110</td>\n",
       "      <td>-0.39675</td>\n",
       "      <td>-0.530144</td>\n",
       "      <td>-1.090577</td>\n",
       "      <td>-1.356287</td>\n",
       "      <td>-0.509720</td>\n",
       "      <td>...</td>\n",
       "      <td>-0.509720</td>\n",
       "      <td>-0.562289</td>\n",
       "      <td>-0.506829</td>\n",
       "      <td>-3.711110</td>\n",
       "      <td>-0.39675</td>\n",
       "      <td>-0.530144</td>\n",
       "      <td>-1.090577</td>\n",
       "      <td>-1.356287</td>\n",
       "      <td>-0.509720</td>\n",
       "      <td>16.662641</td>\n",
       "    </tr>\n",
       "    <tr>\n",
       "      <th>4</th>\n",
       "      <td>8.616550</td>\n",
       "      <td>5.015693</td>\n",
       "      <td>-0.562289</td>\n",
       "      <td>-0.506829</td>\n",
       "      <td>-3.711110</td>\n",
       "      <td>-0.39675</td>\n",
       "      <td>-0.530144</td>\n",
       "      <td>-1.090577</td>\n",
       "      <td>-1.356287</td>\n",
       "      <td>-0.509720</td>\n",
       "      <td>...</td>\n",
       "      <td>-0.509720</td>\n",
       "      <td>-0.562289</td>\n",
       "      <td>-0.506829</td>\n",
       "      <td>-3.711110</td>\n",
       "      <td>-0.39675</td>\n",
       "      <td>-0.530144</td>\n",
       "      <td>-1.090577</td>\n",
       "      <td>-1.356287</td>\n",
       "      <td>-0.509720</td>\n",
       "      <td>16.662641</td>\n",
       "    </tr>\n",
       "    <tr>\n",
       "      <th>...</th>\n",
       "      <td>...</td>\n",
       "      <td>...</td>\n",
       "      <td>...</td>\n",
       "      <td>...</td>\n",
       "      <td>...</td>\n",
       "      <td>...</td>\n",
       "      <td>...</td>\n",
       "      <td>...</td>\n",
       "      <td>...</td>\n",
       "      <td>...</td>\n",
       "      <td>...</td>\n",
       "      <td>...</td>\n",
       "      <td>...</td>\n",
       "      <td>...</td>\n",
       "      <td>...</td>\n",
       "      <td>...</td>\n",
       "      <td>...</td>\n",
       "      <td>...</td>\n",
       "      <td>...</td>\n",
       "      <td>...</td>\n",
       "      <td>...</td>\n",
       "    </tr>\n",
       "    <tr>\n",
       "      <th>214195</th>\n",
       "      <td>-0.670802</td>\n",
       "      <td>0.154765</td>\n",
       "      <td>-0.332383</td>\n",
       "      <td>-0.446776</td>\n",
       "      <td>1.606315</td>\n",
       "      <td>-0.39675</td>\n",
       "      <td>-0.541507</td>\n",
       "      <td>-0.377918</td>\n",
       "      <td>-1.044495</td>\n",
       "      <td>-0.445916</td>\n",
       "      <td>...</td>\n",
       "      <td>-0.509720</td>\n",
       "      <td>-0.353999</td>\n",
       "      <td>-0.385583</td>\n",
       "      <td>1.787657</td>\n",
       "      <td>-0.39675</td>\n",
       "      <td>0.503907</td>\n",
       "      <td>-0.103251</td>\n",
       "      <td>-0.996176</td>\n",
       "      <td>-0.381466</td>\n",
       "      <td>-0.861508</td>\n",
       "    </tr>\n",
       "    <tr>\n",
       "      <th>214196</th>\n",
       "      <td>8.616550</td>\n",
       "      <td>5.015693</td>\n",
       "      <td>-0.562289</td>\n",
       "      <td>-0.506829</td>\n",
       "      <td>-3.711110</td>\n",
       "      <td>-0.39675</td>\n",
       "      <td>-0.530144</td>\n",
       "      <td>-1.090577</td>\n",
       "      <td>-1.356287</td>\n",
       "      <td>-0.509720</td>\n",
       "      <td>...</td>\n",
       "      <td>-0.509720</td>\n",
       "      <td>-0.562289</td>\n",
       "      <td>-0.506829</td>\n",
       "      <td>-3.711110</td>\n",
       "      <td>-0.39675</td>\n",
       "      <td>-0.530144</td>\n",
       "      <td>-1.090577</td>\n",
       "      <td>-1.356287</td>\n",
       "      <td>-0.509720</td>\n",
       "      <td>16.662641</td>\n",
       "    </tr>\n",
       "    <tr>\n",
       "      <th>214197</th>\n",
       "      <td>8.616550</td>\n",
       "      <td>5.015693</td>\n",
       "      <td>-0.562289</td>\n",
       "      <td>-0.506829</td>\n",
       "      <td>-3.711110</td>\n",
       "      <td>-0.39675</td>\n",
       "      <td>-0.530144</td>\n",
       "      <td>-1.090577</td>\n",
       "      <td>-1.356287</td>\n",
       "      <td>-0.509720</td>\n",
       "      <td>...</td>\n",
       "      <td>-0.509720</td>\n",
       "      <td>-0.353999</td>\n",
       "      <td>-0.388301</td>\n",
       "      <td>1.787657</td>\n",
       "      <td>-0.39675</td>\n",
       "      <td>-0.427875</td>\n",
       "      <td>-0.103251</td>\n",
       "      <td>-0.996176</td>\n",
       "      <td>-0.381466</td>\n",
       "      <td>16.662641</td>\n",
       "    </tr>\n",
       "    <tr>\n",
       "      <th>214198</th>\n",
       "      <td>8.616550</td>\n",
       "      <td>5.015693</td>\n",
       "      <td>-0.562289</td>\n",
       "      <td>-0.506829</td>\n",
       "      <td>-3.711110</td>\n",
       "      <td>-0.39675</td>\n",
       "      <td>-0.530144</td>\n",
       "      <td>-1.090577</td>\n",
       "      <td>-1.356287</td>\n",
       "      <td>-0.509720</td>\n",
       "      <td>...</td>\n",
       "      <td>-0.509720</td>\n",
       "      <td>-0.562289</td>\n",
       "      <td>-0.506829</td>\n",
       "      <td>-3.711110</td>\n",
       "      <td>-0.39675</td>\n",
       "      <td>-0.530144</td>\n",
       "      <td>-1.090577</td>\n",
       "      <td>-1.356287</td>\n",
       "      <td>-0.509720</td>\n",
       "      <td>16.662641</td>\n",
       "    </tr>\n",
       "    <tr>\n",
       "      <th>214199</th>\n",
       "      <td>8.616550</td>\n",
       "      <td>5.015693</td>\n",
       "      <td>-0.562289</td>\n",
       "      <td>-0.506829</td>\n",
       "      <td>-3.711110</td>\n",
       "      <td>-0.39675</td>\n",
       "      <td>-0.530144</td>\n",
       "      <td>-1.090577</td>\n",
       "      <td>-1.356287</td>\n",
       "      <td>-0.509720</td>\n",
       "      <td>...</td>\n",
       "      <td>-0.509720</td>\n",
       "      <td>-0.562289</td>\n",
       "      <td>-0.506829</td>\n",
       "      <td>-3.711110</td>\n",
       "      <td>-0.39675</td>\n",
       "      <td>-0.530144</td>\n",
       "      <td>-1.090577</td>\n",
       "      <td>-1.356287</td>\n",
       "      <td>-0.509720</td>\n",
       "      <td>16.662641</td>\n",
       "    </tr>\n",
       "  </tbody>\n",
       "</table>\n",
       "<p>214200 rows × 59 columns</p>\n",
       "</div>"
      ],
      "text/plain": [
       "        item_category_id_encoded  item_id_encoded  p0_avg_item_cat_price  \\\n",
       "0                       8.616550         5.015693              -0.562289   \n",
       "1                       8.616550         5.015693              -0.562289   \n",
       "2                       0.463176         0.464113               0.539866   \n",
       "3                       8.616550         5.015693              -0.562289   \n",
       "4                       8.616550         5.015693              -0.562289   \n",
       "...                          ...              ...                    ...   \n",
       "214195                 -0.670802         0.154765              -0.332383   \n",
       "214196                  8.616550         5.015693              -0.562289   \n",
       "214197                  8.616550         5.015693              -0.562289   \n",
       "214198                  8.616550         5.015693              -0.562289   \n",
       "214199                  8.616550         5.015693              -0.562289   \n",
       "\n",
       "        p0_avg_item_price  p0_avg_shop_price  p0_count  p0_count_by_item  \\\n",
       "0               -0.506829          -3.711110  -0.39675         -0.530144   \n",
       "1               -0.506829          -3.711110  -0.39675         -0.530144   \n",
       "2                0.263535           0.887503  -0.39675         -0.086979   \n",
       "3               -0.506829          -3.711110  -0.39675         -0.530144   \n",
       "4               -0.506829          -3.711110  -0.39675         -0.530144   \n",
       "...                   ...                ...       ...               ...   \n",
       "214195          -0.446776           1.606315  -0.39675         -0.541507   \n",
       "214196          -0.506829          -3.711110  -0.39675         -0.530144   \n",
       "214197          -0.506829          -3.711110  -0.39675         -0.530144   \n",
       "214198          -0.506829          -3.711110  -0.39675         -0.530144   \n",
       "214199          -0.506829          -3.711110  -0.39675         -0.530144   \n",
       "\n",
       "        p0_count_by_item_cat  p0_count_by_shop  p0_item_price  ...  \\\n",
       "0                  -1.090577         -1.356287      -0.509720  ...   \n",
       "1                  -1.090577         -1.356287      -0.509720  ...   \n",
       "2                  -0.791823         -0.888143       0.263028  ...   \n",
       "3                  -1.090577         -1.356287      -0.509720  ...   \n",
       "4                  -1.090577         -1.356287      -0.509720  ...   \n",
       "...                      ...               ...            ...  ...   \n",
       "214195             -0.377918         -1.044495      -0.445916  ...   \n",
       "214196             -1.090577         -1.356287      -0.509720  ...   \n",
       "214197             -1.090577         -1.356287      -0.509720  ...   \n",
       "214198             -1.090577         -1.356287      -0.509720  ...   \n",
       "214199             -1.090577         -1.356287      -0.509720  ...   \n",
       "\n",
       "        p5_item_price  p8_avg_item_cat_price  p8_avg_item_price  \\\n",
       "0            0.327477              -0.562289          -0.506829   \n",
       "1           -0.509720              -0.562289          -0.506829   \n",
       "2            0.069680              -0.562289          -0.506829   \n",
       "3           -0.509720              -0.562289          -0.506829   \n",
       "4           -0.509720              -0.562289          -0.506829   \n",
       "...               ...                    ...                ...   \n",
       "214195      -0.509720              -0.353999          -0.385583   \n",
       "214196      -0.509720              -0.562289          -0.506829   \n",
       "214197      -0.509720              -0.353999          -0.388301   \n",
       "214198      -0.509720              -0.562289          -0.506829   \n",
       "214199      -0.509720              -0.562289          -0.506829   \n",
       "\n",
       "        p8_avg_shop_price  p8_count  p8_count_by_item  p8_count_by_item_cat  \\\n",
       "0               -3.711110  -0.39675         -0.530144             -1.090577   \n",
       "1               -3.711110  -0.39675         -0.530144             -1.090577   \n",
       "2               -3.711110  -0.39675         -0.530144             -1.090577   \n",
       "3               -3.711110  -0.39675         -0.530144             -1.090577   \n",
       "4               -3.711110  -0.39675         -0.530144             -1.090577   \n",
       "...                   ...       ...               ...                   ...   \n",
       "214195           1.787657  -0.39675          0.503907             -0.103251   \n",
       "214196          -3.711110  -0.39675         -0.530144             -1.090577   \n",
       "214197           1.787657  -0.39675         -0.427875             -0.103251   \n",
       "214198          -3.711110  -0.39675         -0.530144             -1.090577   \n",
       "214199          -3.711110  -0.39675         -0.530144             -1.090577   \n",
       "\n",
       "        p8_count_by_shop  p8_item_price  shop_id_encoded  \n",
       "0              -1.356287      -0.509720        16.662641  \n",
       "1              -1.356287      -0.509720        16.662641  \n",
       "2              -1.356287      -0.509720        -0.928287  \n",
       "3              -1.356287      -0.509720        16.662641  \n",
       "4              -1.356287      -0.509720        16.662641  \n",
       "...                  ...            ...              ...  \n",
       "214195         -0.996176      -0.381466        -0.861508  \n",
       "214196         -1.356287      -0.509720        16.662641  \n",
       "214197         -0.996176      -0.381466        16.662641  \n",
       "214198         -1.356287      -0.509720        16.662641  \n",
       "214199         -1.356287      -0.509720        16.662641  \n",
       "\n",
       "[214200 rows x 59 columns]"
      ]
     },
     "execution_count": 47,
     "metadata": {},
     "output_type": "execute_result"
    }
   ],
   "source": [
    "feature_cols = test_data.columns.difference(\n",
    "    [target_col, 'ID', 'date_block_num', 'item_price',\n",
    "     'count_by_shop', 'count_by_item', 'count_by_item_cat',\n",
    "     'avg_shop_price', 'avg_item_price', 'avg_item_cat_price',\n",
    "     'shop_id', 'item_id', 'item_category_id'\n",
    "    ]).sort_values().to_list()\n",
    "X_test = test_data[feature_cols]\n",
    "\n",
    "# del test_data\n",
    "gc.collect()\n",
    "X_test"
   ]
  },
  {
   "cell_type": "markdown",
   "metadata": {},
   "source": [
    "## Baseline Model"
   ]
  },
  {
   "cell_type": "code",
   "execution_count": 50,
   "metadata": {
    "ExecuteTime": {
     "end_time": "2020-09-12T13:56:13.550943Z",
     "start_time": "2020-09-12T13:56:13.392465Z"
    }
   },
   "outputs": [],
   "source": [
    "from sklearn.ensemble import RandomForestRegressor\n",
    "from sklearn.model_selection import GridSearchCV\n",
    "from sklearn.metrics import r2_score, mean_squared_error, make_scorer"
   ]
  },
  {
   "cell_type": "code",
   "execution_count": 51,
   "metadata": {
    "ExecuteTime": {
     "end_time": "2020-09-12T13:56:19.519485Z",
     "start_time": "2020-09-12T13:56:19.515175Z"
    }
   },
   "outputs": [],
   "source": [
    "rfr = RandomForestRegressor(n_estimators=100,\n",
    "                            max_depth=16,\n",
    "                            max_features='sqrt',\n",
    "                            min_samples_split=2,\n",
    "                            verbose=100,\n",
    "                            random_state=42,\n",
    "                            n_jobs=-1)"
   ]
  },
  {
   "cell_type": "code",
   "execution_count": 52,
   "metadata": {
    "ExecuteTime": {
     "end_time": "2020-09-12T13:58:05.588746Z",
     "start_time": "2020-09-12T13:56:25.712418Z"
    },
    "scrolled": true
   },
   "outputs": [
    {
     "name": "stdout",
     "output_type": "stream",
     "text": [
      "[Parallel(n_jobs=-1)]: Using backend ThreadingBackend with 8 concurrent workers.\n",
      "building tree 1 of 100building tree 2 of 100building tree 3 of 100\n",
      "building tree 4 of 100\n",
      "\n",
      "\n",
      "building tree 5 of 100\n",
      "building tree 6 of 100building tree 7 of 100\n",
      "building tree 8 of 100\n",
      "\n",
      "building tree 9 of 100[Parallel(n_jobs=-1)]: Done   1 tasks      | elapsed:    5.1s\n",
      "\n",
      "building tree 10 of 100[Parallel(n_jobs=-1)]: Done   2 tasks      | elapsed:    6.8s\n",
      "\n",
      "[Parallel(n_jobs=-1)]: Done   3 tasks      | elapsed:    7.0s\n",
      "building tree 11 of 100\n",
      "building tree 12 of 100[Parallel(n_jobs=-1)]: Done   4 tasks      | elapsed:    7.3s\n",
      "\n",
      "building tree 13 of 100[Parallel(n_jobs=-1)]: Done   5 tasks      | elapsed:    8.2s\n",
      "\n",
      "building tree 14 of 100[Parallel(n_jobs=-1)]: Done   6 tasks      | elapsed:    8.6s\n",
      "\n",
      "building tree 15 of 100[Parallel(n_jobs=-1)]: Done   7 tasks      | elapsed:    8.9s\n",
      "\n",
      "building tree 16 of 100[Parallel(n_jobs=-1)]: Done   8 tasks      | elapsed:    9.8s\n",
      "\n",
      "building tree 17 of 100[Parallel(n_jobs=-1)]: Done   9 tasks      | elapsed:   12.5s\n",
      "\n",
      "building tree 18 of 100[Parallel(n_jobs=-1)]: Done  10 tasks      | elapsed:   13.4s\n",
      "\n",
      "building tree 19 of 100[Parallel(n_jobs=-1)]: Done  11 tasks      | elapsed:   13.7s\n",
      "\n",
      "building tree 20 of 100[Parallel(n_jobs=-1)]: Done  12 tasks      | elapsed:   13.9s\n",
      "\n",
      "building tree 21 of 100[Parallel(n_jobs=-1)]: Done  13 tasks      | elapsed:   14.5s\n",
      "\n",
      "building tree 22 of 100[Parallel(n_jobs=-1)]: Done  14 tasks      | elapsed:   14.6s\n",
      "\n",
      "building tree 23 of 100[Parallel(n_jobs=-1)]: Done  15 tasks      | elapsed:   15.6s\n",
      "\n",
      "building tree 24 of 100[Parallel(n_jobs=-1)]: Done  16 tasks      | elapsed:   19.1s\n",
      "\n",
      "building tree 25 of 100[Parallel(n_jobs=-1)]: Done  17 tasks      | elapsed:   19.5s\n",
      "\n",
      "building tree 26 of 100[Parallel(n_jobs=-1)]: Done  18 tasks      | elapsed:   20.3s\n",
      "\n",
      "building tree 27 of 100[Parallel(n_jobs=-1)]: Done  19 tasks      | elapsed:   20.4s\n",
      "\n",
      "building tree 28 of 100[Parallel(n_jobs=-1)]: Done  20 tasks      | elapsed:   20.6s\n",
      "\n",
      "building tree 29 of 100[Parallel(n_jobs=-1)]: Done  21 tasks      | elapsed:   21.2s\n",
      "\n",
      "building tree 30 of 100[Parallel(n_jobs=-1)]: Done  22 tasks      | elapsed:   22.9s\n",
      "\n",
      "building tree 31 of 100[Parallel(n_jobs=-1)]: Done  23 tasks      | elapsed:   23.9s\n",
      "\n",
      "building tree 32 of 100[Parallel(n_jobs=-1)]: Done  24 tasks      | elapsed:   24.7s\n",
      "building tree 33 of 100[Parallel(n_jobs=-1)]: Done  25 tasks      | elapsed:   24.7s\n",
      "\n",
      "\n",
      "building tree 34 of 100[Parallel(n_jobs=-1)]: Done  26 tasks      | elapsed:   26.6s\n",
      "\n",
      "building tree 35 of 100[Parallel(n_jobs=-1)]: Done  27 tasks      | elapsed:   26.8s\n",
      "\n",
      "building tree 36 of 100[Parallel(n_jobs=-1)]: Done  28 tasks      | elapsed:   28.8s\n",
      "\n",
      "building tree 37 of 100[Parallel(n_jobs=-1)]: Done  29 tasks      | elapsed:   28.8s\n",
      "\n",
      "building tree 38 of 100[Parallel(n_jobs=-1)]: Done  30 tasks      | elapsed:   29.1s\n",
      "\n",
      "building tree 39 of 100[Parallel(n_jobs=-1)]: Done  31 tasks      | elapsed:   31.0s\n",
      "\n",
      "building tree 40 of 100[Parallel(n_jobs=-1)]: Done  32 tasks      | elapsed:   31.3s\n",
      "\n",
      "building tree 41 of 100[Parallel(n_jobs=-1)]: Done  33 tasks      | elapsed:   32.3s\n",
      "\n",
      "building tree 42 of 100[Parallel(n_jobs=-1)]: Done  34 tasks      | elapsed:   33.7s\n",
      "\n",
      "building tree 43 of 100[Parallel(n_jobs=-1)]: Done  35 tasks      | elapsed:   34.1s\n",
      "\n",
      "building tree 44 of 100[Parallel(n_jobs=-1)]: Done  36 tasks      | elapsed:   37.5s\n",
      "\n",
      "building tree 45 of 100[Parallel(n_jobs=-1)]: Done  37 tasks      | elapsed:   38.4s\n",
      "\n",
      "building tree 46 of 100[Parallel(n_jobs=-1)]: Done  38 tasks      | elapsed:   40.0s\n",
      "\n",
      "building tree 47 of 100[Parallel(n_jobs=-1)]: Done  39 tasks      | elapsed:   40.2s\n",
      "\n",
      "building tree 48 of 100[Parallel(n_jobs=-1)]: Done  40 tasks      | elapsed:   40.8s\n",
      "\n",
      "building tree 49 of 100[Parallel(n_jobs=-1)]: Done  41 tasks      | elapsed:   41.2s\n",
      "\n",
      "building tree 50 of 100[Parallel(n_jobs=-1)]: Done  42 tasks      | elapsed:   42.5s\n",
      "\n",
      "building tree 51 of 100[Parallel(n_jobs=-1)]: Done  43 tasks      | elapsed:   42.6s\n",
      "\n",
      "building tree 52 of 100[Parallel(n_jobs=-1)]: Done  44 tasks      | elapsed:   43.5s\n",
      "\n",
      "building tree 53 of 100[Parallel(n_jobs=-1)]: Done  45 tasks      | elapsed:   43.6s\n",
      "\n",
      "building tree 54 of 100[Parallel(n_jobs=-1)]: Done  46 tasks      | elapsed:   45.8s\n",
      "\n",
      "building tree 55 of 100[Parallel(n_jobs=-1)]: Done  47 tasks      | elapsed:   48.5s\n",
      "\n",
      "building tree 56 of 100[Parallel(n_jobs=-1)]: Done  48 tasks      | elapsed:   49.3s\n",
      "\n",
      "building tree 57 of 100[Parallel(n_jobs=-1)]: Done  49 tasks      | elapsed:   49.3s\n",
      "\n",
      "building tree 58 of 100[Parallel(n_jobs=-1)]: Done  50 tasks      | elapsed:   50.4s\n",
      "\n",
      "building tree 59 of 100[Parallel(n_jobs=-1)]: Done  51 tasks      | elapsed:   51.2s\n",
      "\n",
      "building tree 60 of 100\n",
      "[Parallel(n_jobs=-1)]: Done  52 tasks      | elapsed:   51.5s\n",
      "building tree 61 of 100[Parallel(n_jobs=-1)]: Done  53 tasks      | elapsed:   51.6s\n",
      "\n",
      "building tree 62 of 100[Parallel(n_jobs=-1)]: Done  54 tasks      | elapsed:   53.9s\n",
      "\n",
      "building tree 63 of 100[Parallel(n_jobs=-1)]: Done  55 tasks      | elapsed:   54.3s\n",
      "\n",
      "building tree 64 of 100[Parallel(n_jobs=-1)]: Done  56 tasks      | elapsed:   54.8s\n",
      "\n",
      "building tree 65 of 100[Parallel(n_jobs=-1)]: Done  57 tasks      | elapsed:   55.9s\n",
      "\n",
      "building tree 66 of 100[Parallel(n_jobs=-1)]: Done  58 tasks      | elapsed:   56.6s\n",
      "\n",
      "[Parallel(n_jobs=-1)]: Done  59 tasks      | elapsed:   59.8s\n",
      "building tree 67 of 100\n",
      "building tree 68 of 100[Parallel(n_jobs=-1)]: Done  60 tasks      | elapsed:  1.0min\n",
      "\n",
      "building tree 69 of 100[Parallel(n_jobs=-1)]: Done  61 tasks      | elapsed:  1.0min\n",
      "\n",
      "building tree 70 of 100[Parallel(n_jobs=-1)]: Done  62 tasks      | elapsed:  1.0min\n",
      "\n",
      "building tree 71 of 100[Parallel(n_jobs=-1)]: Done  63 tasks      | elapsed:  1.0min\n",
      "\n",
      "building tree 72 of 100[Parallel(n_jobs=-1)]: Done  64 tasks      | elapsed:  1.0min\n",
      "\n",
      "building tree 73 of 100[Parallel(n_jobs=-1)]: Done  65 tasks      | elapsed:  1.1min\n",
      "\n",
      "building tree 74 of 100[Parallel(n_jobs=-1)]: Done  66 tasks      | elapsed:  1.1min\n",
      "\n",
      "building tree 75 of 100[Parallel(n_jobs=-1)]: Done  67 tasks      | elapsed:  1.1min\n",
      "\n",
      "building tree 76 of 100[Parallel(n_jobs=-1)]: Done  68 tasks      | elapsed:  1.1min\n",
      "\n",
      "building tree 77 of 100[Parallel(n_jobs=-1)]: Done  69 tasks      | elapsed:  1.1min\n",
      "\n",
      "building tree 78 of 100[Parallel(n_jobs=-1)]: Done  70 tasks      | elapsed:  1.1min\n",
      "\n",
      "building tree 79 of 100[Parallel(n_jobs=-1)]: Done  71 tasks      | elapsed:  1.1min\n",
      "\n",
      "building tree 80 of 100[Parallel(n_jobs=-1)]: Done  72 tasks      | elapsed:  1.2min\n",
      "\n",
      "building tree 81 of 100[Parallel(n_jobs=-1)]: Done  73 tasks      | elapsed:  1.2min\n",
      "\n",
      "building tree 82 of 100[Parallel(n_jobs=-1)]: Done  74 tasks      | elapsed:  1.2min\n",
      "\n",
      "building tree 83 of 100[Parallel(n_jobs=-1)]: Done  75 tasks      | elapsed:  1.2min\n",
      "\n",
      "building tree 84 of 100[Parallel(n_jobs=-1)]: Done  76 tasks      | elapsed:  1.2min\n",
      "\n",
      "building tree 85 of 100[Parallel(n_jobs=-1)]: Done  77 tasks      | elapsed:  1.2min\n",
      "\n",
      "building tree 86 of 100[Parallel(n_jobs=-1)]: Done  78 tasks      | elapsed:  1.3min\n",
      "\n",
      "building tree 87 of 100[Parallel(n_jobs=-1)]: Done  79 tasks      | elapsed:  1.3min\n",
      "\n",
      "building tree 88 of 100[Parallel(n_jobs=-1)]: Done  80 tasks      | elapsed:  1.3min\n",
      "\n",
      "building tree 89 of 100[Parallel(n_jobs=-1)]: Done  81 tasks      | elapsed:  1.3min\n",
      "\n",
      "building tree 90 of 100[Parallel(n_jobs=-1)]: Done  82 tasks      | elapsed:  1.3min\n",
      "\n",
      "building tree 91 of 100[Parallel(n_jobs=-1)]: Done  83 tasks      | elapsed:  1.3min\n",
      "\n",
      "building tree 92 of 100[Parallel(n_jobs=-1)]: Done  84 tasks      | elapsed:  1.3min\n",
      "\n",
      "building tree 93 of 100[Parallel(n_jobs=-1)]: Done  85 tasks      | elapsed:  1.4min\n",
      "\n",
      "building tree 94 of 100\n",
      "building tree 95 of 100[Parallel(n_jobs=-1)]: Done  87 out of 100 | elapsed:  1.4min remaining:   12.7s\n",
      "\n",
      "building tree 96 of 100\n",
      "building tree 97 of 100[Parallel(n_jobs=-1)]: Done  89 out of 100 | elapsed:  1.4min remaining:   10.7s\n",
      "\n",
      "building tree 98 of 100\n",
      "building tree 99 of 100[Parallel(n_jobs=-1)]: Done  91 out of 100 | elapsed:  1.5min remaining:    8.7s\n",
      "\n",
      "building tree 100 of 100\n",
      "[Parallel(n_jobs=-1)]: Done  93 out of 100 | elapsed:  1.5min remaining:    6.8s\n",
      "[Parallel(n_jobs=-1)]: Done  95 out of 100 | elapsed:  1.6min remaining:    4.9s\n",
      "[Parallel(n_jobs=-1)]: Done  97 out of 100 | elapsed:  1.6min remaining:    2.9s\n"
     ]
    },
    {
     "name": "stdout",
     "output_type": "stream",
     "text": [
      "[Parallel(n_jobs=-1)]: Done 100 out of 100 | elapsed:  1.6min finished\n"
     ]
    },
    {
     "data": {
      "text/plain": [
       "RandomForestRegressor(max_depth=16, max_features='sqrt', n_jobs=-1,\n",
       "                      random_state=42, verbose=100)"
      ]
     },
     "execution_count": 52,
     "metadata": {},
     "output_type": "execute_result"
    }
   ],
   "source": [
    "rfr.fit(X_train, Y_train)"
   ]
  },
  {
   "cell_type": "code",
   "execution_count": 53,
   "metadata": {
    "ExecuteTime": {
     "end_time": "2020-09-12T13:58:12.659047Z",
     "start_time": "2020-09-12T13:58:12.399439Z"
    },
    "scrolled": true
   },
   "outputs": [
    {
     "name": "stdout",
     "output_type": "stream",
     "text": [
      "[Parallel(n_jobs=8)]: Using backend ThreadingBackend with 8 concurrent workers.\n",
      "[Parallel(n_jobs=8)]: Done   1 tasks      | elapsed:    0.0s\n",
      "[Parallel(n_jobs=8)]: Done   2 tasks      | elapsed:    0.0s\n",
      "[Parallel(n_jobs=8)]: Done   3 tasks      | elapsed:    0.0s\n",
      "[Parallel(n_jobs=8)]: Done   4 tasks      | elapsed:    0.0s\n",
      "[Parallel(n_jobs=8)]: Done   5 tasks      | elapsed:    0.0s\n",
      "[Parallel(n_jobs=8)]: Done   6 tasks      | elapsed:    0.0s\n",
      "[Parallel(n_jobs=8)]: Done   7 tasks      | elapsed:    0.0s\n",
      "[Parallel(n_jobs=8)]: Done   8 tasks      | elapsed:    0.0s\n",
      "[Parallel(n_jobs=8)]: Done   9 tasks      | elapsed:    0.0s\n",
      "[Parallel(n_jobs=8)]: Done  10 tasks      | elapsed:    0.0s\n",
      "[Parallel(n_jobs=8)]: Done  11 tasks      | elapsed:    0.0s\n",
      "[Parallel(n_jobs=8)]: Done  12 tasks      | elapsed:    0.0s\n",
      "[Parallel(n_jobs=8)]: Done  13 tasks      | elapsed:    0.0s\n",
      "[Parallel(n_jobs=8)]: Done  14 tasks      | elapsed:    0.0s\n",
      "[Parallel(n_jobs=8)]: Done  15 tasks      | elapsed:    0.0s\n",
      "[Parallel(n_jobs=8)]: Done  16 tasks      | elapsed:    0.0s\n",
      "[Parallel(n_jobs=8)]: Done  17 tasks      | elapsed:    0.0s\n",
      "[Parallel(n_jobs=8)]: Done  18 tasks      | elapsed:    0.1s\n",
      "[Parallel(n_jobs=8)]: Done  19 tasks      | elapsed:    0.1s\n",
      "[Parallel(n_jobs=8)]: Done  20 tasks      | elapsed:    0.1s\n",
      "[Parallel(n_jobs=8)]: Done  21 tasks      | elapsed:    0.1s\n",
      "[Parallel(n_jobs=8)]: Done  22 tasks      | elapsed:    0.1s\n",
      "[Parallel(n_jobs=8)]: Done  23 tasks      | elapsed:    0.1s\n",
      "[Parallel(n_jobs=8)]: Done  24 tasks      | elapsed:    0.1s\n",
      "[Parallel(n_jobs=8)]: Done  25 tasks      | elapsed:    0.1s\n",
      "[Parallel(n_jobs=8)]: Done  26 tasks      | elapsed:    0.1s\n",
      "[Parallel(n_jobs=8)]: Done  27 tasks      | elapsed:    0.1s\n",
      "[Parallel(n_jobs=8)]: Done  28 tasks      | elapsed:    0.1s\n",
      "[Parallel(n_jobs=8)]: Done  29 tasks      | elapsed:    0.1s\n",
      "[Parallel(n_jobs=8)]: Done  30 tasks      | elapsed:    0.1s\n",
      "[Parallel(n_jobs=8)]: Done  31 tasks      | elapsed:    0.1s\n",
      "[Parallel(n_jobs=8)]: Done  32 tasks      | elapsed:    0.1s\n",
      "[Parallel(n_jobs=8)]: Done  33 tasks      | elapsed:    0.1s\n",
      "[Parallel(n_jobs=8)]: Done  34 tasks      | elapsed:    0.1s\n",
      "[Parallel(n_jobs=8)]: Done  35 tasks      | elapsed:    0.1s\n",
      "[Parallel(n_jobs=8)]: Done  36 tasks      | elapsed:    0.1s\n",
      "[Parallel(n_jobs=8)]: Done  37 tasks      | elapsed:    0.1s\n",
      "[Parallel(n_jobs=8)]: Done  38 tasks      | elapsed:    0.1s\n",
      "[Parallel(n_jobs=8)]: Done  39 tasks      | elapsed:    0.1s\n",
      "[Parallel(n_jobs=8)]: Done  40 tasks      | elapsed:    0.1s\n",
      "[Parallel(n_jobs=8)]: Done  41 tasks      | elapsed:    0.1s\n",
      "[Parallel(n_jobs=8)]: Done  42 tasks      | elapsed:    0.1s\n",
      "[Parallel(n_jobs=8)]: Done  43 tasks      | elapsed:    0.1s\n",
      "[Parallel(n_jobs=8)]: Done  44 tasks      | elapsed:    0.1s\n",
      "[Parallel(n_jobs=8)]: Done  45 tasks      | elapsed:    0.1s\n",
      "[Parallel(n_jobs=8)]: Done  46 tasks      | elapsed:    0.1s\n",
      "[Parallel(n_jobs=8)]: Done  47 tasks      | elapsed:    0.1s\n",
      "[Parallel(n_jobs=8)]: Done  48 tasks      | elapsed:    0.1s\n",
      "[Parallel(n_jobs=8)]: Done  49 tasks      | elapsed:    0.1s\n",
      "[Parallel(n_jobs=8)]: Done  50 tasks      | elapsed:    0.1s\n",
      "[Parallel(n_jobs=8)]: Done  51 tasks      | elapsed:    0.1s\n",
      "[Parallel(n_jobs=8)]: Done  52 tasks      | elapsed:    0.1s\n",
      "[Parallel(n_jobs=8)]: Done  53 tasks      | elapsed:    0.1s\n",
      "[Parallel(n_jobs=8)]: Done  54 tasks      | elapsed:    0.1s\n",
      "[Parallel(n_jobs=8)]: Done  55 tasks      | elapsed:    0.1s\n",
      "[Parallel(n_jobs=8)]: Done  56 tasks      | elapsed:    0.1s\n",
      "[Parallel(n_jobs=8)]: Done  57 tasks      | elapsed:    0.1s\n",
      "[Parallel(n_jobs=8)]: Done  58 tasks      | elapsed:    0.1s\n",
      "[Parallel(n_jobs=8)]: Done  59 tasks      | elapsed:    0.1s\n",
      "[Parallel(n_jobs=8)]: Done  60 tasks      | elapsed:    0.1s\n",
      "[Parallel(n_jobs=8)]: Done  61 tasks      | elapsed:    0.1s\n",
      "[Parallel(n_jobs=8)]: Done  62 tasks      | elapsed:    0.1s\n",
      "[Parallel(n_jobs=8)]: Done  63 tasks      | elapsed:    0.1s\n",
      "[Parallel(n_jobs=8)]: Done  64 tasks      | elapsed:    0.1s\n",
      "[Parallel(n_jobs=8)]: Done  65 tasks      | elapsed:    0.1s\n",
      "[Parallel(n_jobs=8)]: Done  66 tasks      | elapsed:    0.1s\n",
      "[Parallel(n_jobs=8)]: Done  67 tasks      | elapsed:    0.1s\n",
      "[Parallel(n_jobs=8)]: Done  68 tasks      | elapsed:    0.1s\n",
      "[Parallel(n_jobs=8)]: Done  69 tasks      | elapsed:    0.1s\n",
      "[Parallel(n_jobs=8)]: Done  70 tasks      | elapsed:    0.1s\n",
      "[Parallel(n_jobs=8)]: Done  71 tasks      | elapsed:    0.1s\n",
      "[Parallel(n_jobs=8)]: Done  72 tasks      | elapsed:    0.1s\n",
      "[Parallel(n_jobs=8)]: Done  73 tasks      | elapsed:    0.1s\n",
      "[Parallel(n_jobs=8)]: Done  74 tasks      | elapsed:    0.1s\n",
      "[Parallel(n_jobs=8)]: Done  75 tasks      | elapsed:    0.1s\n",
      "[Parallel(n_jobs=8)]: Done  76 tasks      | elapsed:    0.1s\n",
      "[Parallel(n_jobs=8)]: Done  77 tasks      | elapsed:    0.1s\n",
      "[Parallel(n_jobs=8)]: Done  78 tasks      | elapsed:    0.1s\n",
      "[Parallel(n_jobs=8)]: Done  79 tasks      | elapsed:    0.1s\n",
      "[Parallel(n_jobs=8)]: Done  80 tasks      | elapsed:    0.1s\n",
      "[Parallel(n_jobs=8)]: Done  81 tasks      | elapsed:    0.2s\n",
      "[Parallel(n_jobs=8)]: Done  82 tasks      | elapsed:    0.2s\n",
      "[Parallel(n_jobs=8)]: Done  83 tasks      | elapsed:    0.2s\n",
      "[Parallel(n_jobs=8)]: Done  84 tasks      | elapsed:    0.2s\n",
      "[Parallel(n_jobs=8)]: Done  85 tasks      | elapsed:    0.2s\n",
      "[Parallel(n_jobs=8)]: Done  87 out of 100 | elapsed:    0.2s remaining:    0.0s\n",
      "[Parallel(n_jobs=8)]: Done  89 out of 100 | elapsed:    0.2s remaining:    0.0s\n",
      "[Parallel(n_jobs=8)]: Done  91 out of 100 | elapsed:    0.2s remaining:    0.0s\n",
      "[Parallel(n_jobs=8)]: Done  93 out of 100 | elapsed:    0.2s remaining:    0.0s\n",
      "[Parallel(n_jobs=8)]: Done  95 out of 100 | elapsed:    0.2s remaining:    0.0s\n",
      "[Parallel(n_jobs=8)]: Done  97 out of 100 | elapsed:    0.2s remaining:    0.0s\n",
      "[Parallel(n_jobs=8)]: Done 100 out of 100 | elapsed:    0.2s finished\n"
     ]
    },
    {
     "data": {
      "text/plain": [
       "array([2.3267131 , 1.00000094, 1.88693735, ..., 1.00000094, 1.00000094,\n",
       "       1.00000094])"
      ]
     },
     "execution_count": 53,
     "metadata": {},
     "output_type": "execute_result"
    }
   ],
   "source": [
    "prediction = inverse_scaling(rfr.predict(X_val), 'count')\n",
    "prediction"
   ]
  },
  {
   "cell_type": "code",
   "execution_count": 100,
   "metadata": {
    "ExecuteTime": {
     "end_time": "2020-09-12T11:45:37.949746Z",
     "start_time": "2020-09-12T11:45:37.936666Z"
    }
   },
   "outputs": [
    {
     "data": {
      "text/plain": [
       "rmse    0.723648\n",
       "r2      0.431695\n",
       "dtype: float64"
      ]
     },
     "execution_count": 100,
     "metadata": {},
     "output_type": "execute_result"
    }
   ],
   "source": [
    "metrics = {'rmse': lambda *args: mean_squared_error(*args, squared=False),\n",
    "           'r2': r2_score\n",
    "          }\n",
    "result = pd.Series({name: metric(inverse_scaling(Y_val, 'count'), prediction) for name, metric in metrics.items()})\n",
    "result"
   ]
  },
  {
   "cell_type": "code",
   "execution_count": 54,
   "metadata": {
    "ExecuteTime": {
     "end_time": "2020-09-12T13:58:19.118039Z",
     "start_time": "2020-09-12T13:58:19.106480Z"
    }
   },
   "outputs": [
    {
     "data": {
      "text/plain": [
       "rmse    0.594838\n",
       "r2      0.616006\n",
       "dtype: float64"
      ]
     },
     "execution_count": 54,
     "metadata": {},
     "output_type": "execute_result"
    }
   ],
   "source": [
    "metrics = {'rmse': lambda *args: mean_squared_error(*args, squared=False),\n",
    "           'r2': r2_score\n",
    "          }\n",
    "result = pd.Series({name: metric(inverse_scaling(Y_val, 'count'), prediction) for name, metric in metrics.items()})\n",
    "result"
   ]
  },
  {
   "cell_type": "code",
   "execution_count": 55,
   "metadata": {
    "ExecuteTime": {
     "end_time": "2020-09-12T13:58:31.662549Z",
     "start_time": "2020-09-12T13:58:30.221740Z"
    }
   },
   "outputs": [
    {
     "data": {
      "text/plain": [
       "<AxesSubplot:>"
      ]
     },
     "execution_count": 55,
     "metadata": {},
     "output_type": "execute_result"
    },
    {
     "data": {
      "image/png": "[encoded data removed]",
      "text/plain": [
       "<Figure size 1152x576 with 1 Axes>"
      ]
     },
     "metadata": {
      "needs_background": "light"
     },
     "output_type": "display_data"
    }
   ],
   "source": [
    "\n",
    "pd.Series(rfr.feature_importances_, index=X_train.columns).plot.bar(figsize=(16, 8))"
   ]
  },
  {
   "cell_type": "code",
   "execution_count": 101,
   "metadata": {
    "ExecuteTime": {
     "end_time": "2020-09-12T11:45:46.920169Z",
     "start_time": "2020-09-12T11:45:45.495678Z"
    }
   },
   "outputs": [
    {
     "data": {
      "text/plain": [
       "<AxesSubplot:>"
      ]
     },
     "execution_count": 101,
     "metadata": {},
     "output_type": "execute_result"
    },
    {
     "data": {
      "image/png": "[encoded data removed]",
      "text/plain": [
       "<Figure size 1152x576 with 1 Axes>"
      ]
     },
     "metadata": {
      "needs_background": "light"
     },
     "output_type": "display_data"
    }
   ],
   "source": [
    "\n",
    "pd.Series(rfr.feature_importances_, index=X_train.columns).plot.bar(figsize=(16, 8))"
   ]
  },
  {
   "cell_type": "markdown",
   "metadata": {},
   "source": [
    "### LightGBM"
   ]
  },
  {
   "cell_type": "code",
   "execution_count": 56,
   "metadata": {
    "ExecuteTime": {
     "end_time": "2020-09-12T14:01:54.437255Z",
     "start_time": "2020-09-12T14:01:54.413310Z"
    }
   },
   "outputs": [],
   "source": [
    "import lightgbm as lgb"
   ]
  },
  {
   "cell_type": "code",
   "execution_count": 58,
   "metadata": {
    "ExecuteTime": {
     "end_time": "2020-09-12T14:03:09.541851Z",
     "start_time": "2020-09-12T14:02:16.876089Z"
    },
    "scrolled": true
   },
   "outputs": [
    {
     "name": "stdout",
     "output_type": "stream",
     "text": [
      "[LightGBM] [Warning] Auto-choosing col-wise multi-threading, the overhead of testing was 0.417034 seconds.\n",
      "You can set `force_col_wise=true` to remove the overhead.\n",
      "[LightGBM] [Info] Total Bins 12959\n",
      "[LightGBM] [Info] Number of data points in the train set: 4926600, number of used features: 59\n",
      "[LightGBM] [Info] Start training from score -0.350164\n"
     ]
    }
   ],
   "source": [
    "\n",
    "\n",
    "# categorical_features = ['shop_id', 'item_id', 'item_category_id']\n",
    "train_lgb_data = lgb.Dataset(X_train, label=Y_train, )\n",
    "params = {\n",
    "    'max_depth': -1,\n",
    "    'learning_rate': 0.1,\n",
    "    'num_leaves': 900,\n",
    "    'n_estimators': 100,\n",
    "    'sub_feature': 0.2,\n",
    "    'metric': 'mse'\n",
    "    \n",
    "}\n",
    "lgb_model = lgb.train(params, train_lgb_data, )\n",
    "\n"
   ]
  },
  {
   "cell_type": "code",
   "execution_count": 59,
   "metadata": {
    "ExecuteTime": {
     "end_time": "2020-09-12T14:03:15.837842Z",
     "start_time": "2020-09-12T14:03:15.179043Z"
    }
   },
   "outputs": [
    {
     "data": {
      "text/plain": [
       "rmse    0.618550\n",
       "r2      0.584782\n",
       "dtype: float64"
      ]
     },
     "execution_count": 59,
     "metadata": {},
     "output_type": "execute_result"
    }
   ],
   "source": [
    "prediction = lgb_model.predict(X_val, )\n",
    "prediction = inverse_scaling(prediction, 'count')\n",
    "metrics = {'rmse': lambda *args: mean_squared_error(*args, squared=False),\n",
    "           'r2': r2_score\n",
    "          }\n",
    "result = pd.Series({name: metric(inverse_scaling(Y_val, 'count'), prediction) for name, metric in metrics.items()})\n",
    "result"
   ]
  },
  {
   "cell_type": "code",
   "execution_count": 60,
   "metadata": {
    "ExecuteTime": {
     "end_time": "2020-09-12T14:04:37.839175Z",
     "start_time": "2020-09-12T14:04:36.400758Z"
    }
   },
   "outputs": [
    {
     "data": {
      "text/plain": [
       "<AxesSubplot:>"
      ]
     },
     "execution_count": 60,
     "metadata": {},
     "output_type": "execute_result"
    },
    {
     "data": {
      "image/png": "[encoded data removed]",
      "text/plain": [
       "<Figure size 1152x576 with 1 Axes>"
      ]
     },
     "metadata": {
      "needs_background": "light"
     },
     "output_type": "display_data"
    }
   ],
   "source": [
    "\n",
    "pd.Series(lgb_model.feature_importance(), index=X_train.columns).plot.bar(figsize=(16, 8))\n",
    "\n"
   ]
  },
  {
   "cell_type": "markdown",
   "metadata": {
    "heading_collapsed": true
   },
   "source": [
    "### Lightgbm Hyper parameter search"
   ]
  },
  {
   "cell_type": "code",
   "execution_count": 187,
   "metadata": {
    "ExecuteTime": {
     "end_time": "2020-09-10T17:04:59.442540Z",
     "start_time": "2020-09-10T17:04:59.427186Z"
    },
    "hidden": true
   },
   "outputs": [],
   "source": [
    "params = {\n",
    "    'max_depth': [16, 64,  -1],\n",
    "    'learning_rate': [0.01, 0.1],\n",
    "    'num_leaves': [16, 50, 100,],\n",
    "    'n_estimators': [40, 100],\n",
    "    'subsample': [1],\n",
    "    'subsample_freq': [1],\n",
    "    'metric': ['mse']\n",
    "}\n",
    "\n",
    "def score_func(y_true, y_pred):\n",
    "    y_true = inverse_scaling(y_true, 'count')\n",
    "    y_pred = inverse_scaling(y_pred, 'count')\n",
    "    return mean_squared_error(y_true, y_pred, squared=False)\n",
    "\n",
    "lgb_model = lgb.LGBMRegressor(silent=False)\n",
    "gs = GridSearchCV(lgb_model,\n",
    "                  param_grid=params,\n",
    "                  cv=5,\n",
    "                  n_jobs=-1,\n",
    "                  verbose=10,\n",
    "                  scoring=make_scorer(score_func, greater_is_better=False)\n",
    "                 )\n"
   ]
  },
  {
   "cell_type": "code",
   "execution_count": 188,
   "metadata": {
    "ExecuteTime": {
     "end_time": "2020-09-10T18:01:13.871114Z",
     "start_time": "2020-09-10T17:05:04.992967Z"
    },
    "hidden": true
   },
   "outputs": [
    {
     "name": "stdout",
     "output_type": "stream",
     "text": [
      "Fitting 5 folds for each of 36 candidates, totalling 180 fits\n"
     ]
    },
    {
     "name": "stderr",
     "output_type": "stream",
     "text": [
      "[Parallel(n_jobs=-1)]: Using backend LokyBackend with 8 concurrent workers.\n",
      "[Parallel(n_jobs=-1)]: Done   2 tasks      | elapsed:  2.9min\n",
      "[Parallel(n_jobs=-1)]: Done   9 tasks      | elapsed:  5.6min\n",
      "[Parallel(n_jobs=-1)]: Done  16 tasks      | elapsed:  5.9min\n",
      "[Parallel(n_jobs=-1)]: Done  25 tasks      | elapsed: 11.3min\n",
      "[Parallel(n_jobs=-1)]: Done  34 tasks      | elapsed: 13.5min\n",
      "[Parallel(n_jobs=-1)]: Done  45 tasks      | elapsed: 16.2min\n",
      "[Parallel(n_jobs=-1)]: Done  56 tasks      | elapsed: 20.1min\n",
      "[Parallel(n_jobs=-1)]: Done  69 tasks      | elapsed: 23.1min\n",
      "[Parallel(n_jobs=-1)]: Done  82 tasks      | elapsed: 27.1min\n",
      "[Parallel(n_jobs=-1)]: Done  97 tasks      | elapsed: 32.5min\n",
      "[Parallel(n_jobs=-1)]: Done 112 tasks      | elapsed: 37.4min\n",
      "[Parallel(n_jobs=-1)]: Done 129 tasks      | elapsed: 42.2min\n",
      "[Parallel(n_jobs=-1)]: Done 146 tasks      | elapsed: 47.4min\n",
      "[Parallel(n_jobs=-1)]: Done 165 tasks      | elapsed: 51.8min\n",
      "[Parallel(n_jobs=-1)]: Done 180 out of 180 | elapsed: 55.8min finished\n"
     ]
    },
    {
     "name": "stdout",
     "output_type": "stream",
     "text": [
      "[LightGBM] [Warning] Auto-choosing row-wise multi-threading, the overhead of testing was 0.548128 seconds.\n",
      "You can set `force_row_wise=true` to remove the overhead.\n",
      "And if memory is not enough, you can set `force_col_wise=true`.\n",
      "[LightGBM] [Info] Total Bins 13264\n",
      "[LightGBM] [Info] Number of data points in the train set: 4498200, number of used features: 59\n",
      "[LightGBM] [Info] Start training from score -0.135977\n"
     ]
    },
    {
     "data": {
      "text/plain": [
       "GridSearchCV(cv=5, estimator=LGBMRegressor(silent=False), n_jobs=-1,\n",
       "             param_grid={'learning_rate': [0.01, 0.1],\n",
       "                         'max_depth': [16, 64, -1], 'metric': ['mse'],\n",
       "                         'n_estimators': [40, 100], 'num_leaves': [16, 50, 100],\n",
       "                         'subsample': [1], 'subsample_freq': [1]},\n",
       "             scoring=make_scorer(score_func, greater_is_better=False),\n",
       "             verbose=10)"
      ]
     },
     "execution_count": 188,
     "metadata": {},
     "output_type": "execute_result"
    }
   ],
   "source": [
    "gs.fit(X_train, Y_train)"
   ]
  },
  {
   "cell_type": "code",
   "execution_count": 190,
   "metadata": {
    "ExecuteTime": {
     "end_time": "2020-09-10T18:03:26.018520Z",
     "start_time": "2020-09-10T18:03:26.012367Z"
    },
    "hidden": true
   },
   "outputs": [
    {
     "data": {
      "text/plain": [
       "LGBMRegressor(max_depth=64, metric='mse', num_leaves=50, silent=False,\n",
       "              subsample=1, subsample_freq=1)"
      ]
     },
     "execution_count": 190,
     "metadata": {},
     "output_type": "execute_result"
    }
   ],
   "source": [
    "gs.best_estimator_"
   ]
  },
  {
   "cell_type": "code",
   "execution_count": 196,
   "metadata": {
    "ExecuteTime": {
     "end_time": "2020-09-10T18:06:46.090412Z",
     "start_time": "2020-09-10T18:06:46.082769Z"
    },
    "hidden": true
   },
   "outputs": [
    {
     "data": {
      "text/plain": [
       "{'learning_rate': 0.1,\n",
       " 'max_depth': -1,\n",
       " 'metric': 'mse',\n",
       " 'n_estimators': 100,\n",
       " 'num_leaves': 50,\n",
       " 'subsample': 1,\n",
       " 'subsample_freq': 1}"
      ]
     },
     "execution_count": 196,
     "metadata": {},
     "output_type": "execute_result"
    }
   ],
   "source": [
    "best_param = pd.DataFrame(gs.cv_results_).sort_values('rank_test_score').iloc[0]['params']\n",
    "best_param"
   ]
  },
  {
   "cell_type": "code",
   "execution_count": 189,
   "metadata": {
    "ExecuteTime": {
     "end_time": "2020-09-10T18:01:18.997498Z",
     "start_time": "2020-09-10T18:01:18.964730Z"
    },
    "hidden": true
   },
   "outputs": [
    {
     "data": {
      "text/plain": [
       "['lgb_gridsearch.pickle']"
      ]
     },
     "execution_count": 189,
     "metadata": {},
     "output_type": "execute_result"
    }
   ],
   "source": [
    "import joblib\n",
    "joblib.dump(gs, 'lgb_gridsearch.pickle')"
   ]
  },
  {
   "cell_type": "code",
   "execution_count": 199,
   "metadata": {
    "ExecuteTime": {
     "end_time": "2020-09-10T18:08:06.980701Z",
     "start_time": "2020-09-10T18:07:51.264184Z"
    },
    "hidden": true
   },
   "outputs": [
    {
     "name": "stderr",
     "output_type": "stream",
     "text": [
      "/usr/local/lib/python3.8/site-packages/lightgbm/engine.py:151: UserWarning: Found `n_estimators` in params. Will use it instead of argument\n",
      "  warnings.warn(\"Found `{}` in params. Will use it instead of argument\".format(alias))\n",
      "/usr/local/lib/python3.8/site-packages/lightgbm/basic.py:1551: UserWarning: Using categorical_feature in Dataset.\n",
      "  warnings.warn('Using categorical_feature in Dataset.')\n"
     ]
    },
    {
     "name": "stdout",
     "output_type": "stream",
     "text": [
      "[LightGBM] [Warning] Auto-choosing row-wise multi-threading, the overhead of testing was 0.416888 seconds.\n",
      "You can set `force_row_wise=true` to remove the overhead.\n",
      "And if memory is not enough, you can set `force_col_wise=true`.\n",
      "[LightGBM] [Info] Total Bins 18031\n",
      "[LightGBM] [Info] Number of data points in the train set: 4498200, number of used features: 59\n",
      "[LightGBM] [Info] Start training from score -0.135977\n"
     ]
    }
   ],
   "source": [
    "categorical_features = ['shop_id', 'item_id', 'item_category_id']\n",
    "train_lgb_data = lgb.Dataset(X_train, label=Y_train, categorical_feature=categorical_features)\n",
    "lgb_model = lgb.train(best_param, train_lgb_data, )\n"
   ]
  },
  {
   "cell_type": "code",
   "execution_count": 200,
   "metadata": {
    "ExecuteTime": {
     "end_time": "2020-09-10T18:08:22.345495Z",
     "start_time": "2020-09-10T18:08:20.550437Z"
    },
    "hidden": true
   },
   "outputs": [
    {
     "data": {
      "text/plain": [
       "rmse    1.376958\n",
       "r2      0.605059\n",
       "dtype: float64"
      ]
     },
     "execution_count": 200,
     "metadata": {},
     "output_type": "execute_result"
    }
   ],
   "source": [
    "prediction = lgb_model.predict(X_val, categorical_feature=categorical_features)\n",
    "prediction = inverse_scaling(prediction, 'count')\n",
    "metrics = {'rmse': lambda *args: mean_squared_error(*args, squared=False),\n",
    "           'r2': r2_score\n",
    "          }\n",
    "result = pd.Series({name: metric(inverse_scaling(Y_val, 'count'), prediction) for name, metric in metrics.items()})\n",
    "result"
   ]
  },
  {
   "cell_type": "markdown",
   "metadata": {},
   "source": [
    "### Predict"
   ]
  },
  {
   "cell_type": "code",
   "execution_count": 61,
   "metadata": {
    "ExecuteTime": {
     "end_time": "2020-09-12T14:08:04.588144Z",
     "start_time": "2020-09-12T14:08:04.310371Z"
    },
    "scrolled": true
   },
   "outputs": [
    {
     "name": "stdout",
     "output_type": "stream",
     "text": [
      "[Parallel(n_jobs=8)]: Using backend ThreadingBackend with 8 concurrent workers.\n",
      "[Parallel(n_jobs=8)]: Done   1 tasks      | elapsed:    0.0s\n",
      "[Parallel(n_jobs=8)]: Done   2 tasks      | elapsed:    0.0s\n",
      "[Parallel(n_jobs=8)]: Done   3 tasks      | elapsed:    0.0s\n",
      "[Parallel(n_jobs=8)]: Done   4 tasks      | elapsed:    0.0s\n",
      "[Parallel(n_jobs=8)]: Done   5 tasks      | elapsed:    0.0s\n",
      "[Parallel(n_jobs=8)]: Done   6 tasks      | elapsed:    0.0s\n",
      "[Parallel(n_jobs=8)]: Done   7 tasks      | elapsed:    0.0s\n",
      "[Parallel(n_jobs=8)]: Done   8 tasks      | elapsed:    0.0s\n",
      "[Parallel(n_jobs=8)]: Done   9 tasks      | elapsed:    0.0s\n",
      "[Parallel(n_jobs=8)]: Done  10 tasks      | elapsed:    0.1s\n",
      "[Parallel(n_jobs=8)]: Done  11 tasks      | elapsed:    0.1s\n",
      "[Parallel(n_jobs=8)]: Done  12 tasks      | elapsed:    0.1s\n",
      "[Parallel(n_jobs=8)]: Done  13 tasks      | elapsed:    0.1s\n",
      "[Parallel(n_jobs=8)]: Done  14 tasks      | elapsed:    0.1s\n",
      "[Parallel(n_jobs=8)]: Done  15 tasks      | elapsed:    0.1s\n",
      "[Parallel(n_jobs=8)]: Done  16 tasks      | elapsed:    0.1s\n",
      "[Parallel(n_jobs=8)]: Done  17 tasks      | elapsed:    0.1s\n",
      "[Parallel(n_jobs=8)]: Done  18 tasks      | elapsed:    0.1s\n",
      "[Parallel(n_jobs=8)]: Done  19 tasks      | elapsed:    0.1s\n",
      "[Parallel(n_jobs=8)]: Done  20 tasks      | elapsed:    0.1s\n",
      "[Parallel(n_jobs=8)]: Done  21 tasks      | elapsed:    0.1s\n",
      "[Parallel(n_jobs=8)]: Done  22 tasks      | elapsed:    0.1s\n",
      "[Parallel(n_jobs=8)]: Done  23 tasks      | elapsed:    0.1s\n",
      "[Parallel(n_jobs=8)]: Done  24 tasks      | elapsed:    0.1s\n",
      "[Parallel(n_jobs=8)]: Done  25 tasks      | elapsed:    0.1s\n",
      "[Parallel(n_jobs=8)]: Done  26 tasks      | elapsed:    0.1s\n",
      "[Parallel(n_jobs=8)]: Done  27 tasks      | elapsed:    0.1s\n",
      "[Parallel(n_jobs=8)]: Done  28 tasks      | elapsed:    0.1s\n",
      "[Parallel(n_jobs=8)]: Done  29 tasks      | elapsed:    0.1s\n",
      "[Parallel(n_jobs=8)]: Done  30 tasks      | elapsed:    0.1s\n",
      "[Parallel(n_jobs=8)]: Done  31 tasks      | elapsed:    0.1s\n",
      "[Parallel(n_jobs=8)]: Done  32 tasks      | elapsed:    0.1s\n",
      "[Parallel(n_jobs=8)]: Done  33 tasks      | elapsed:    0.1s\n",
      "[Parallel(n_jobs=8)]: Done  34 tasks      | elapsed:    0.1s\n",
      "[Parallel(n_jobs=8)]: Done  35 tasks      | elapsed:    0.1s\n",
      "[Parallel(n_jobs=8)]: Done  36 tasks      | elapsed:    0.1s\n",
      "[Parallel(n_jobs=8)]: Done  37 tasks      | elapsed:    0.1s\n",
      "[Parallel(n_jobs=8)]: Done  38 tasks      | elapsed:    0.1s\n",
      "[Parallel(n_jobs=8)]: Done  39 tasks      | elapsed:    0.1s\n",
      "[Parallel(n_jobs=8)]: Done  40 tasks      | elapsed:    0.1s\n",
      "[Parallel(n_jobs=8)]: Done  41 tasks      | elapsed:    0.1s\n",
      "[Parallel(n_jobs=8)]: Done  42 tasks      | elapsed:    0.1s\n",
      "[Parallel(n_jobs=8)]: Done  43 tasks      | elapsed:    0.1s\n",
      "[Parallel(n_jobs=8)]: Done  44 tasks      | elapsed:    0.1s\n",
      "[Parallel(n_jobs=8)]: Done  45 tasks      | elapsed:    0.1s\n",
      "[Parallel(n_jobs=8)]: Done  46 tasks      | elapsed:    0.1s\n",
      "[Parallel(n_jobs=8)]: Done  47 tasks      | elapsed:    0.1s\n",
      "[Parallel(n_jobs=8)]: Done  48 tasks      | elapsed:    0.1s\n",
      "[Parallel(n_jobs=8)]: Done  49 tasks      | elapsed:    0.1s\n",
      "[Parallel(n_jobs=8)]: Done  50 tasks      | elapsed:    0.1s\n",
      "[Parallel(n_jobs=8)]: Done  51 tasks      | elapsed:    0.1s\n",
      "[Parallel(n_jobs=8)]: Done  52 tasks      | elapsed:    0.1s\n",
      "[Parallel(n_jobs=8)]: Done  53 tasks      | elapsed:    0.1s\n",
      "[Parallel(n_jobs=8)]: Done  54 tasks      | elapsed:    0.1s\n",
      "[Parallel(n_jobs=8)]: Done  55 tasks      | elapsed:    0.1s\n",
      "[Parallel(n_jobs=8)]: Done  56 tasks      | elapsed:    0.1s\n",
      "[Parallel(n_jobs=8)]: Done  57 tasks      | elapsed:    0.1s\n",
      "[Parallel(n_jobs=8)]: Done  58 tasks      | elapsed:    0.1s\n",
      "[Parallel(n_jobs=8)]: Done  59 tasks      | elapsed:    0.1s\n",
      "[Parallel(n_jobs=8)]: Done  60 tasks      | elapsed:    0.1s\n",
      "[Parallel(n_jobs=8)]: Done  61 tasks      | elapsed:    0.1s\n",
      "[Parallel(n_jobs=8)]: Done  62 tasks      | elapsed:    0.1s\n",
      "[Parallel(n_jobs=8)]: Done  63 tasks      | elapsed:    0.1s\n",
      "[Parallel(n_jobs=8)]: Done  64 tasks      | elapsed:    0.1s\n",
      "[Parallel(n_jobs=8)]: Done  65 tasks      | elapsed:    0.1s\n",
      "[Parallel(n_jobs=8)]: Done  66 tasks      | elapsed:    0.1s\n",
      "[Parallel(n_jobs=8)]: Done  67 tasks      | elapsed:    0.2s\n",
      "[Parallel(n_jobs=8)]: Done  68 tasks      | elapsed:    0.2s\n",
      "[Parallel(n_jobs=8)]: Done  69 tasks      | elapsed:    0.2s\n",
      "[Parallel(n_jobs=8)]: Done  70 tasks      | elapsed:    0.2s\n",
      "[Parallel(n_jobs=8)]: Done  71 tasks      | elapsed:    0.2s\n",
      "[Parallel(n_jobs=8)]: Done  72 tasks      | elapsed:    0.2s\n",
      "[Parallel(n_jobs=8)]: Done  73 tasks      | elapsed:    0.2s\n",
      "[Parallel(n_jobs=8)]: Done  74 tasks      | elapsed:    0.2s\n",
      "[Parallel(n_jobs=8)]: Done  75 tasks      | elapsed:    0.2s\n",
      "[Parallel(n_jobs=8)]: Done  76 tasks      | elapsed:    0.2s\n",
      "[Parallel(n_jobs=8)]: Done  77 tasks      | elapsed:    0.2s\n",
      "[Parallel(n_jobs=8)]: Done  78 tasks      | elapsed:    0.2s\n",
      "[Parallel(n_jobs=8)]: Done  79 tasks      | elapsed:    0.2s\n",
      "[Parallel(n_jobs=8)]: Done  80 tasks      | elapsed:    0.2s\n",
      "[Parallel(n_jobs=8)]: Done  81 tasks      | elapsed:    0.2s\n",
      "[Parallel(n_jobs=8)]: Done  82 tasks      | elapsed:    0.2s\n",
      "[Parallel(n_jobs=8)]: Done  83 tasks      | elapsed:    0.2s\n",
      "[Parallel(n_jobs=8)]: Done  84 tasks      | elapsed:    0.2s\n",
      "[Parallel(n_jobs=8)]: Done  85 tasks      | elapsed:    0.2s\n",
      "[Parallel(n_jobs=8)]: Done  87 out of 100 | elapsed:    0.2s remaining:    0.0s\n",
      "[Parallel(n_jobs=8)]: Done  89 out of 100 | elapsed:    0.2s remaining:    0.0s\n",
      "[Parallel(n_jobs=8)]: Done  91 out of 100 | elapsed:    0.2s remaining:    0.0s\n",
      "[Parallel(n_jobs=8)]: Done  93 out of 100 | elapsed:    0.2s remaining:    0.0s\n",
      "[Parallel(n_jobs=8)]: Done  95 out of 100 | elapsed:    0.2s remaining:    0.0s\n",
      "[Parallel(n_jobs=8)]: Done  97 out of 100 | elapsed:    0.2s remaining:    0.0s\n",
      "[Parallel(n_jobs=8)]: Done 100 out of 100 | elapsed:    0.2s finished\n"
     ]
    }
   ],
   "source": [
    "\n",
    "\n",
    "prediction = rfr.predict(X_test) \n",
    "prediction = inverse_scaling(prediction, 'count')\n",
    "\n"
   ]
  },
  {
   "cell_type": "code",
   "execution_count": 63,
   "metadata": {
    "ExecuteTime": {
     "end_time": "2020-09-12T14:08:12.992231Z",
     "start_time": "2020-09-12T14:08:12.979633Z"
    }
   },
   "outputs": [
    {
     "data": {
      "text/html": [
       "<div>\n",
       "<style scoped>\n",
       "    .dataframe tbody tr th:only-of-type {\n",
       "        vertical-align: middle;\n",
       "    }\n",
       "\n",
       "    .dataframe tbody tr th {\n",
       "        vertical-align: top;\n",
       "    }\n",
       "\n",
       "    .dataframe thead th {\n",
       "        text-align: right;\n",
       "    }\n",
       "</style>\n",
       "<table border=\"1\" class=\"dataframe\">\n",
       "  <thead>\n",
       "    <tr style=\"text-align: right;\">\n",
       "      <th></th>\n",
       "      <th>ID</th>\n",
       "      <th>item_cnt_month</th>\n",
       "    </tr>\n",
       "  </thead>\n",
       "  <tbody>\n",
       "    <tr>\n",
       "      <th>0</th>\n",
       "      <td>0</td>\n",
       "      <td>1.000000</td>\n",
       "    </tr>\n",
       "    <tr>\n",
       "      <th>1</th>\n",
       "      <td>1</td>\n",
       "      <td>1.000001</td>\n",
       "    </tr>\n",
       "    <tr>\n",
       "      <th>2</th>\n",
       "      <td>2</td>\n",
       "      <td>1.782149</td>\n",
       "    </tr>\n",
       "    <tr>\n",
       "      <th>3</th>\n",
       "      <td>3</td>\n",
       "      <td>1.000000</td>\n",
       "    </tr>\n",
       "    <tr>\n",
       "      <th>4</th>\n",
       "      <td>4</td>\n",
       "      <td>1.000001</td>\n",
       "    </tr>\n",
       "    <tr>\n",
       "      <th>...</th>\n",
       "      <td>...</td>\n",
       "      <td>...</td>\n",
       "    </tr>\n",
       "    <tr>\n",
       "      <th>214195</th>\n",
       "      <td>214195</td>\n",
       "      <td>1.360664</td>\n",
       "    </tr>\n",
       "    <tr>\n",
       "      <th>214196</th>\n",
       "      <td>214196</td>\n",
       "      <td>1.000001</td>\n",
       "    </tr>\n",
       "    <tr>\n",
       "      <th>214197</th>\n",
       "      <td>214197</td>\n",
       "      <td>1.000000</td>\n",
       "    </tr>\n",
       "    <tr>\n",
       "      <th>214198</th>\n",
       "      <td>214198</td>\n",
       "      <td>1.000001</td>\n",
       "    </tr>\n",
       "    <tr>\n",
       "      <th>214199</th>\n",
       "      <td>214199</td>\n",
       "      <td>1.000001</td>\n",
       "    </tr>\n",
       "  </tbody>\n",
       "</table>\n",
       "<p>214200 rows × 2 columns</p>\n",
       "</div>"
      ],
      "text/plain": [
       "            ID  item_cnt_month\n",
       "0            0        1.000000\n",
       "1            1        1.000001\n",
       "2            2        1.782149\n",
       "3            3        1.000000\n",
       "4            4        1.000001\n",
       "...        ...             ...\n",
       "214195  214195        1.360664\n",
       "214196  214196        1.000001\n",
       "214197  214197        1.000000\n",
       "214198  214198        1.000001\n",
       "214199  214199        1.000001\n",
       "\n",
       "[214200 rows x 2 columns]"
      ]
     },
     "execution_count": 63,
     "metadata": {},
     "output_type": "execute_result"
    }
   ],
   "source": [
    "submission_df = pd.DataFrame(np.array([test_data['ID'].values, prediction]).T,\n",
    "                             columns=['ID', 'item_cnt_month'], )\n",
    "submission_df['ID'] = submission_df['ID'].astype(int)\n",
    "submission_df"
   ]
  },
  {
   "cell_type": "code",
   "execution_count": 69,
   "metadata": {
    "ExecuteTime": {
     "end_time": "2020-09-12T14:13:40.340728Z",
     "start_time": "2020-09-12T14:13:39.880641Z"
    }
   },
   "outputs": [
    {
     "data": {
      "text/plain": [
       "<AxesSubplot:>"
      ]
     },
     "execution_count": 69,
     "metadata": {},
     "output_type": "execute_result"
    },
    {
     "data": {
      "image/png": "[encoded data removed]",
      "text/plain": [
       "<Figure size 1152x576 with 1 Axes>"
      ]
     },
     "metadata": {
      "needs_background": "light"
     },
     "output_type": "display_data"
    }
   ],
   "source": [
    "inverse_scaling(Y_val, 'count').hist(bins=100, figsize=(16, 8))"
   ]
  },
  {
   "cell_type": "code",
   "execution_count": 66,
   "metadata": {
    "ExecuteTime": {
     "end_time": "2020-09-12T14:12:40.953360Z",
     "start_time": "2020-09-12T14:12:40.503888Z"
    }
   },
   "outputs": [
    {
     "data": {
      "text/plain": [
       "<AxesSubplot:>"
      ]
     },
     "execution_count": 66,
     "metadata": {},
     "output_type": "execute_result"
    },
    {
     "data": {
      "image/png": "[encoded data removed]",
      "text/plain": [
       "<Figure size 1152x576 with 1 Axes>"
      ]
     },
     "metadata": {
      "needs_background": "light"
     },
     "output_type": "display_data"
    }
   ],
   "source": [
    "submission_df['item_cnt_month'].hist(bins=100, figsize=(16, 8))"
   ]
  },
  {
   "cell_type": "code",
   "execution_count": 64,
   "metadata": {
    "ExecuteTime": {
     "end_time": "2020-09-12T14:08:19.492919Z",
     "start_time": "2020-09-12T14:08:18.944625Z"
    }
   },
   "outputs": [],
   "source": [
    "submission_df.to_csv('submission/outputv3_mean_encoding.csv', index=False)"
   ]
  },
  {
   "cell_type": "code",
   "execution_count": null,
   "metadata": {},
   "outputs": [],
   "source": []
  }
 ],
 "metadata": {
  "kernelspec": {
   "display_name": "Python 3",
   "language": "python",
   "name": "python3"
  },
  "varInspector": {
   "cols": {
    "lenName": 16,
    "lenType": 16,
    "lenVar": 40
   },
   "kernels_config": {
    "python": {
     "delete_cmd_postfix": "",
     "delete_cmd_prefix": "del ",
     "library": "var_list.py",
     "varRefreshCmd": "print(var_dic_list())"
    },
    "r": {
     "delete_cmd_postfix": ") ",
     "delete_cmd_prefix": "rm(",
     "library": "var_list.r",
     "varRefreshCmd": "cat(var_dic_list()) "
    }
   },
   "types_to_exclude": [
    "module",
    "function",
    "builtin_function_or_method",
    "instance",
    "_Feature"
   ],
   "window_display": false
  }
 },
 "nbformat": 4,
 "nbformat_minor": 4
}
