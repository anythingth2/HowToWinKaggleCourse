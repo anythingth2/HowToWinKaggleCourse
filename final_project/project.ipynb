{
 "cells": [
  {
   "cell_type": "code",
   "execution_count": 1,
   "metadata": {
    "ExecuteTime": {
     "end_time": "2020-09-26T04:17:52.117085Z",
     "start_time": "2020-09-26T04:17:50.857011Z"
    }
   },
   "outputs": [
    {
     "name": "stderr",
     "output_type": "stream",
     "text": [
      "/usr/local/lib/python3.8/site-packages/tqdm/std.py:668: FutureWarning: The Panel class is removed from pandas. Accessing it from the top-level namespace will also be removed in the next version\n",
      "  from pandas import Panel\n"
     ]
    }
   ],
   "source": [
    "from pathlib import Path\n",
    "import numpy as np\n",
    "import pandas as pd\n",
    "import matplotlib.pyplot as plt\n",
    "import seaborn as sns\n",
    "from tqdm import tqdm, trange\n",
    "tqdm.pandas()\n",
    "from multiprocessing import Pool\n",
    "import pickle\n",
    "from sklearn.preprocessing import StandardScaler\n",
    "import time\n",
    "from sklearn.model_selection import GridSearchCV\n",
    "from sklearn.metrics import r2_score, mean_squared_error, make_scorer\n",
    "import gc"
   ]
  },
  {
   "cell_type": "code",
   "execution_count": 2,
   "metadata": {
    "ExecuteTime": {
     "end_time": "2020-09-26T04:17:52.188695Z",
     "start_time": "2020-09-26T04:17:52.119162Z"
    }
   },
   "outputs": [
    {
     "data": {
      "text/html": [
       "<div>\n",
       "<style scoped>\n",
       "    .dataframe tbody tr th:only-of-type {\n",
       "        vertical-align: middle;\n",
       "    }\n",
       "\n",
       "    .dataframe tbody tr th {\n",
       "        vertical-align: top;\n",
       "    }\n",
       "\n",
       "    .dataframe thead th {\n",
       "        text-align: right;\n",
       "    }\n",
       "</style>\n",
       "<table border=\"1\" class=\"dataframe\">\n",
       "  <thead>\n",
       "    <tr style=\"text-align: right;\">\n",
       "      <th></th>\n",
       "      <th>ID</th>\n",
       "      <th>shop_id</th>\n",
       "      <th>item_id</th>\n",
       "    </tr>\n",
       "  </thead>\n",
       "  <tbody>\n",
       "    <tr>\n",
       "      <th>0</th>\n",
       "      <td>0</td>\n",
       "      <td>5</td>\n",
       "      <td>5037</td>\n",
       "    </tr>\n",
       "    <tr>\n",
       "      <th>1</th>\n",
       "      <td>1</td>\n",
       "      <td>5</td>\n",
       "      <td>5320</td>\n",
       "    </tr>\n",
       "    <tr>\n",
       "      <th>2</th>\n",
       "      <td>2</td>\n",
       "      <td>5</td>\n",
       "      <td>5233</td>\n",
       "    </tr>\n",
       "    <tr>\n",
       "      <th>3</th>\n",
       "      <td>3</td>\n",
       "      <td>5</td>\n",
       "      <td>5232</td>\n",
       "    </tr>\n",
       "    <tr>\n",
       "      <th>4</th>\n",
       "      <td>4</td>\n",
       "      <td>5</td>\n",
       "      <td>5268</td>\n",
       "    </tr>\n",
       "    <tr>\n",
       "      <th>...</th>\n",
       "      <td>...</td>\n",
       "      <td>...</td>\n",
       "      <td>...</td>\n",
       "    </tr>\n",
       "    <tr>\n",
       "      <th>214195</th>\n",
       "      <td>214195</td>\n",
       "      <td>45</td>\n",
       "      <td>18454</td>\n",
       "    </tr>\n",
       "    <tr>\n",
       "      <th>214196</th>\n",
       "      <td>214196</td>\n",
       "      <td>45</td>\n",
       "      <td>16188</td>\n",
       "    </tr>\n",
       "    <tr>\n",
       "      <th>214197</th>\n",
       "      <td>214197</td>\n",
       "      <td>45</td>\n",
       "      <td>15757</td>\n",
       "    </tr>\n",
       "    <tr>\n",
       "      <th>214198</th>\n",
       "      <td>214198</td>\n",
       "      <td>45</td>\n",
       "      <td>19648</td>\n",
       "    </tr>\n",
       "    <tr>\n",
       "      <th>214199</th>\n",
       "      <td>214199</td>\n",
       "      <td>45</td>\n",
       "      <td>969</td>\n",
       "    </tr>\n",
       "  </tbody>\n",
       "</table>\n",
       "<p>214200 rows × 3 columns</p>\n",
       "</div>"
      ],
      "text/plain": [
       "            ID  shop_id  item_id\n",
       "0            0        5     5037\n",
       "1            1        5     5320\n",
       "2            2        5     5233\n",
       "3            3        5     5232\n",
       "4            4        5     5268\n",
       "...        ...      ...      ...\n",
       "214195  214195       45    18454\n",
       "214196  214196       45    16188\n",
       "214197  214197       45    15757\n",
       "214198  214198       45    19648\n",
       "214199  214199       45      969\n",
       "\n",
       "[214200 rows x 3 columns]"
      ]
     },
     "execution_count": 2,
     "metadata": {},
     "output_type": "execute_result"
    }
   ],
   "source": [
    "test_df = pd.read_csv('datasets/test.csv.gz', dtype={'ID': np.int32,\n",
    "                                                    'shop_id': np.int32,\n",
    "                                                    'item_id': np.int32})\n",
    "test_df"
   ]
  },
  {
   "cell_type": "code",
   "execution_count": 3,
   "metadata": {
    "ExecuteTime": {
     "end_time": "2020-09-26T04:17:52.262751Z",
     "start_time": "2020-09-26T04:17:52.221518Z"
    }
   },
   "outputs": [
    {
     "data": {
      "text/html": [
       "<div>\n",
       "<style scoped>\n",
       "    .dataframe tbody tr th:only-of-type {\n",
       "        vertical-align: middle;\n",
       "    }\n",
       "\n",
       "    .dataframe tbody tr th {\n",
       "        vertical-align: top;\n",
       "    }\n",
       "\n",
       "    .dataframe thead th {\n",
       "        text-align: right;\n",
       "    }\n",
       "</style>\n",
       "<table border=\"1\" class=\"dataframe\">\n",
       "  <thead>\n",
       "    <tr style=\"text-align: right;\">\n",
       "      <th></th>\n",
       "      <th>Unnamed: 0</th>\n",
       "      <th>item_name</th>\n",
       "      <th>item_id</th>\n",
       "      <th>item_category_id</th>\n",
       "      <th>tag</th>\n",
       "    </tr>\n",
       "  </thead>\n",
       "  <tbody>\n",
       "    <tr>\n",
       "      <th>0</th>\n",
       "      <td>0</td>\n",
       "      <td>! ВО ВЛАСТИ НАВАЖДЕНИЯ (ПЛАСТ.)         D</td>\n",
       "      <td>0</td>\n",
       "      <td>40</td>\n",
       "      <td>-1</td>\n",
       "    </tr>\n",
       "    <tr>\n",
       "      <th>1</th>\n",
       "      <td>1</td>\n",
       "      <td>!ABBYY FineReader 12 Professional Edition Full...</td>\n",
       "      <td>1</td>\n",
       "      <td>76</td>\n",
       "      <td>0</td>\n",
       "    </tr>\n",
       "    <tr>\n",
       "      <th>2</th>\n",
       "      <td>2</td>\n",
       "      <td>***В ЛУЧАХ СЛАВЫ   (UNV)                    D</td>\n",
       "      <td>2</td>\n",
       "      <td>40</td>\n",
       "      <td>-1</td>\n",
       "    </tr>\n",
       "    <tr>\n",
       "      <th>3</th>\n",
       "      <td>3</td>\n",
       "      <td>***ГОЛУБАЯ ВОЛНА  (Univ)                      D</td>\n",
       "      <td>3</td>\n",
       "      <td>40</td>\n",
       "      <td>-1</td>\n",
       "    </tr>\n",
       "    <tr>\n",
       "      <th>4</th>\n",
       "      <td>4</td>\n",
       "      <td>***КОРОБКА (СТЕКЛО)                       D</td>\n",
       "      <td>4</td>\n",
       "      <td>40</td>\n",
       "      <td>1</td>\n",
       "    </tr>\n",
       "    <tr>\n",
       "      <th>...</th>\n",
       "      <td>...</td>\n",
       "      <td>...</td>\n",
       "      <td>...</td>\n",
       "      <td>...</td>\n",
       "      <td>...</td>\n",
       "    </tr>\n",
       "    <tr>\n",
       "      <th>22165</th>\n",
       "      <td>22165</td>\n",
       "      <td>Ядерный титбит 2 [PC, Цифровая версия]</td>\n",
       "      <td>22165</td>\n",
       "      <td>31</td>\n",
       "      <td>6</td>\n",
       "    </tr>\n",
       "    <tr>\n",
       "      <th>22166</th>\n",
       "      <td>22166</td>\n",
       "      <td>Язык запросов 1С:Предприятия  [Цифровая версия]</td>\n",
       "      <td>22166</td>\n",
       "      <td>54</td>\n",
       "      <td>-1</td>\n",
       "    </tr>\n",
       "    <tr>\n",
       "      <th>22167</th>\n",
       "      <td>22167</td>\n",
       "      <td>Язык запросов 1С:Предприятия 8 (+CD). Хрустале...</td>\n",
       "      <td>22167</td>\n",
       "      <td>49</td>\n",
       "      <td>-1</td>\n",
       "    </tr>\n",
       "    <tr>\n",
       "      <th>22168</th>\n",
       "      <td>22168</td>\n",
       "      <td>Яйцо для Little Inu</td>\n",
       "      <td>22168</td>\n",
       "      <td>62</td>\n",
       "      <td>547</td>\n",
       "    </tr>\n",
       "    <tr>\n",
       "      <th>22169</th>\n",
       "      <td>22169</td>\n",
       "      <td>Яйцо дракона (Игра престолов)</td>\n",
       "      <td>22169</td>\n",
       "      <td>69</td>\n",
       "      <td>-1</td>\n",
       "    </tr>\n",
       "  </tbody>\n",
       "</table>\n",
       "<p>22170 rows × 5 columns</p>\n",
       "</div>"
      ],
      "text/plain": [
       "       Unnamed: 0                                          item_name  item_id  \\\n",
       "0               0          ! ВО ВЛАСТИ НАВАЖДЕНИЯ (ПЛАСТ.)         D        0   \n",
       "1               1  !ABBYY FineReader 12 Professional Edition Full...        1   \n",
       "2               2      ***В ЛУЧАХ СЛАВЫ   (UNV)                    D        2   \n",
       "3               3    ***ГОЛУБАЯ ВОЛНА  (Univ)                      D        3   \n",
       "4               4        ***КОРОБКА (СТЕКЛО)                       D        4   \n",
       "...           ...                                                ...      ...   \n",
       "22165       22165             Ядерный титбит 2 [PC, Цифровая версия]    22165   \n",
       "22166       22166    Язык запросов 1С:Предприятия  [Цифровая версия]    22166   \n",
       "22167       22167  Язык запросов 1С:Предприятия 8 (+CD). Хрустале...    22167   \n",
       "22168       22168                                Яйцо для Little Inu    22168   \n",
       "22169       22169                      Яйцо дракона (Игра престолов)    22169   \n",
       "\n",
       "       item_category_id  tag  \n",
       "0                    40   -1  \n",
       "1                    76    0  \n",
       "2                    40   -1  \n",
       "3                    40   -1  \n",
       "4                    40    1  \n",
       "...                 ...  ...  \n",
       "22165                31    6  \n",
       "22166                54   -1  \n",
       "22167                49   -1  \n",
       "22168                62  547  \n",
       "22169                69   -1  \n",
       "\n",
       "[22170 rows x 5 columns]"
      ]
     },
     "execution_count": 3,
     "metadata": {},
     "output_type": "execute_result"
    }
   ],
   "source": [
    "item_df = pd.read_csv('datasets/items_with_tag.csv')\n",
    "item_df"
   ]
  },
  {
   "cell_type": "code",
   "execution_count": 4,
   "metadata": {
    "ExecuteTime": {
     "end_time": "2020-09-26T04:17:53.852887Z",
     "start_time": "2020-09-26T04:17:52.300882Z"
    }
   },
   "outputs": [
    {
     "data": {
      "text/html": [
       "<div>\n",
       "<style scoped>\n",
       "    .dataframe tbody tr th:only-of-type {\n",
       "        vertical-align: middle;\n",
       "    }\n",
       "\n",
       "    .dataframe tbody tr th {\n",
       "        vertical-align: top;\n",
       "    }\n",
       "\n",
       "    .dataframe thead th {\n",
       "        text-align: right;\n",
       "    }\n",
       "</style>\n",
       "<table border=\"1\" class=\"dataframe\">\n",
       "  <thead>\n",
       "    <tr style=\"text-align: right;\">\n",
       "      <th></th>\n",
       "      <th>date</th>\n",
       "      <th>date_block_num</th>\n",
       "      <th>shop_id</th>\n",
       "      <th>item_id</th>\n",
       "      <th>item_price</th>\n",
       "      <th>item_cnt_day</th>\n",
       "    </tr>\n",
       "  </thead>\n",
       "  <tbody>\n",
       "    <tr>\n",
       "      <th>0</th>\n",
       "      <td>2013-01-02</td>\n",
       "      <td>0</td>\n",
       "      <td>59</td>\n",
       "      <td>22154</td>\n",
       "      <td>999.00</td>\n",
       "      <td>1.0</td>\n",
       "    </tr>\n",
       "    <tr>\n",
       "      <th>1</th>\n",
       "      <td>2013-01-03</td>\n",
       "      <td>0</td>\n",
       "      <td>25</td>\n",
       "      <td>2552</td>\n",
       "      <td>899.00</td>\n",
       "      <td>1.0</td>\n",
       "    </tr>\n",
       "    <tr>\n",
       "      <th>2</th>\n",
       "      <td>2013-01-05</td>\n",
       "      <td>0</td>\n",
       "      <td>25</td>\n",
       "      <td>2552</td>\n",
       "      <td>899.00</td>\n",
       "      <td>-1.0</td>\n",
       "    </tr>\n",
       "    <tr>\n",
       "      <th>3</th>\n",
       "      <td>2013-01-06</td>\n",
       "      <td>0</td>\n",
       "      <td>25</td>\n",
       "      <td>2554</td>\n",
       "      <td>1709.05</td>\n",
       "      <td>1.0</td>\n",
       "    </tr>\n",
       "    <tr>\n",
       "      <th>4</th>\n",
       "      <td>2013-01-15</td>\n",
       "      <td>0</td>\n",
       "      <td>25</td>\n",
       "      <td>2555</td>\n",
       "      <td>1099.00</td>\n",
       "      <td>1.0</td>\n",
       "    </tr>\n",
       "    <tr>\n",
       "      <th>...</th>\n",
       "      <td>...</td>\n",
       "      <td>...</td>\n",
       "      <td>...</td>\n",
       "      <td>...</td>\n",
       "      <td>...</td>\n",
       "      <td>...</td>\n",
       "    </tr>\n",
       "    <tr>\n",
       "      <th>2935844</th>\n",
       "      <td>2015-10-10</td>\n",
       "      <td>33</td>\n",
       "      <td>25</td>\n",
       "      <td>7409</td>\n",
       "      <td>299.00</td>\n",
       "      <td>1.0</td>\n",
       "    </tr>\n",
       "    <tr>\n",
       "      <th>2935845</th>\n",
       "      <td>2015-10-09</td>\n",
       "      <td>33</td>\n",
       "      <td>25</td>\n",
       "      <td>7460</td>\n",
       "      <td>299.00</td>\n",
       "      <td>1.0</td>\n",
       "    </tr>\n",
       "    <tr>\n",
       "      <th>2935846</th>\n",
       "      <td>2015-10-14</td>\n",
       "      <td>33</td>\n",
       "      <td>25</td>\n",
       "      <td>7459</td>\n",
       "      <td>349.00</td>\n",
       "      <td>1.0</td>\n",
       "    </tr>\n",
       "    <tr>\n",
       "      <th>2935847</th>\n",
       "      <td>2015-10-22</td>\n",
       "      <td>33</td>\n",
       "      <td>25</td>\n",
       "      <td>7440</td>\n",
       "      <td>299.00</td>\n",
       "      <td>1.0</td>\n",
       "    </tr>\n",
       "    <tr>\n",
       "      <th>2935848</th>\n",
       "      <td>2015-10-03</td>\n",
       "      <td>33</td>\n",
       "      <td>25</td>\n",
       "      <td>7460</td>\n",
       "      <td>299.00</td>\n",
       "      <td>1.0</td>\n",
       "    </tr>\n",
       "  </tbody>\n",
       "</table>\n",
       "<p>2935849 rows × 6 columns</p>\n",
       "</div>"
      ],
      "text/plain": [
       "              date  date_block_num  shop_id  item_id  item_price  item_cnt_day\n",
       "0       2013-01-02               0       59    22154      999.00           1.0\n",
       "1       2013-01-03               0       25     2552      899.00           1.0\n",
       "2       2013-01-05               0       25     2552      899.00          -1.0\n",
       "3       2013-01-06               0       25     2554     1709.05           1.0\n",
       "4       2013-01-15               0       25     2555     1099.00           1.0\n",
       "...            ...             ...      ...      ...         ...           ...\n",
       "2935844 2015-10-10              33       25     7409      299.00           1.0\n",
       "2935845 2015-10-09              33       25     7460      299.00           1.0\n",
       "2935846 2015-10-14              33       25     7459      349.00           1.0\n",
       "2935847 2015-10-22              33       25     7440      299.00           1.0\n",
       "2935848 2015-10-03              33       25     7460      299.00           1.0\n",
       "\n",
       "[2935849 rows x 6 columns]"
      ]
     },
     "execution_count": 4,
     "metadata": {},
     "output_type": "execute_result"
    }
   ],
   "source": [
    "sales_df = pd.read_csv('datasets/sales_train.csv.gz')\n",
    "sales_df['date'] = pd.to_datetime(sales_df['date'], format='%d.%m.%Y')\n",
    "sales_df"
   ]
  },
  {
   "cell_type": "code",
   "execution_count": 5,
   "metadata": {
    "ExecuteTime": {
     "end_time": "2020-09-26T04:17:53.941274Z",
     "start_time": "2020-09-26T04:17:53.900474Z"
    }
   },
   "outputs": [
    {
     "data": {
      "text/plain": [
       "date              0\n",
       "date_block_num    0\n",
       "shop_id           0\n",
       "item_id           0\n",
       "item_price        0\n",
       "item_cnt_day      0\n",
       "dtype: int64"
      ]
     },
     "execution_count": 5,
     "metadata": {},
     "output_type": "execute_result"
    }
   ],
   "source": [
    "sales_df.isna().sum(axis=0)"
   ]
  },
  {
   "cell_type": "code",
   "execution_count": 6,
   "metadata": {
    "ExecuteTime": {
     "end_time": "2020-09-26T04:17:54.402149Z",
     "start_time": "2020-09-26T04:17:53.997795Z"
    }
   },
   "outputs": [
    {
     "name": "stderr",
     "output_type": "stream",
     "text": [
      "/usr/local/lib/python3.8/site-packages/pandas/plotting/_matplotlib/converter.py:256: MatplotlibDeprecationWarning: \n",
      "The epoch2num function was deprecated in Matplotlib 3.3 and will be removed two minor releases later.\n",
      "  base = dates.epoch2num(dt.asi8 / 1.0e9)\n"
     ]
    },
    {
     "data": {
      "text/plain": [
       "<AxesSubplot:xlabel='date'>"
      ]
     },
     "execution_count": 6,
     "metadata": {},
     "output_type": "execute_result"
    },
    {
     "data": {
      "image/png": "[encoded data removed]",
      "text/plain": [
       "<Figure size 432x288 with 1 Axes>"
      ]
     },
     "metadata": {
      "needs_background": "light"
     },
     "output_type": "display_data"
    }
   ],
   "source": [
    "sample_item = sales_df.sample(1, random_state=123)\n",
    "shop_id = sample_item['shop_id'].values[0]\n",
    "item_id = sample_item['item_id'].values[0]\n",
    "item_sales_df = sales_df[(sales_df['shop_id'] == shop_id) & (sales_df['item_id'] == item_id)].sort_values('date')\n",
    "item_sales_df.plot(x='date', y='item_price')"
   ]
  },
  {
   "cell_type": "code",
   "execution_count": 7,
   "metadata": {
    "ExecuteTime": {
     "end_time": "2020-09-26T04:17:54.474986Z",
     "start_time": "2020-09-26T04:17:54.471655Z"
    }
   },
   "outputs": [],
   "source": [
    "\n",
    "def downcast_dataframe(df):\n",
    "    dtype_mapper = {\n",
    "        'int64': 'int32',\n",
    "        'float64': 'float32'\n",
    "    }\n",
    "    dtypes = df.dtypes.to_dict()\n",
    "\n",
    "    new_dtypes = {col: dtype_mapper.get(str(dtype), str(dtype)) for col, dtype in dtypes.items()}\n",
    "    return df.astype(new_dtypes)"
   ]
  },
  {
   "cell_type": "code",
   "execution_count": 8,
   "metadata": {
    "ExecuteTime": {
     "end_time": "2020-09-26T04:17:55.578802Z",
     "start_time": "2020-09-26T04:17:54.633266Z"
    }
   },
   "outputs": [
    {
     "data": {
      "text/html": [
       "<div>\n",
       "<style scoped>\n",
       "    .dataframe tbody tr th:only-of-type {\n",
       "        vertical-align: middle;\n",
       "    }\n",
       "\n",
       "    .dataframe tbody tr th {\n",
       "        vertical-align: top;\n",
       "    }\n",
       "\n",
       "    .dataframe thead th {\n",
       "        text-align: right;\n",
       "    }\n",
       "</style>\n",
       "<table border=\"1\" class=\"dataframe\">\n",
       "  <thead>\n",
       "    <tr style=\"text-align: right;\">\n",
       "      <th></th>\n",
       "      <th>shop_id</th>\n",
       "      <th>item_id</th>\n",
       "      <th>date_block_num</th>\n",
       "      <th>item_price</th>\n",
       "      <th>count</th>\n",
       "    </tr>\n",
       "  </thead>\n",
       "  <tbody>\n",
       "    <tr>\n",
       "      <th>0</th>\n",
       "      <td>0</td>\n",
       "      <td>30</td>\n",
       "      <td>1</td>\n",
       "      <td>265.0</td>\n",
       "      <td>31.0</td>\n",
       "    </tr>\n",
       "    <tr>\n",
       "      <th>1</th>\n",
       "      <td>0</td>\n",
       "      <td>31</td>\n",
       "      <td>1</td>\n",
       "      <td>434.0</td>\n",
       "      <td>11.0</td>\n",
       "    </tr>\n",
       "    <tr>\n",
       "      <th>2</th>\n",
       "      <td>0</td>\n",
       "      <td>32</td>\n",
       "      <td>0</td>\n",
       "      <td>221.0</td>\n",
       "      <td>6.0</td>\n",
       "    </tr>\n",
       "    <tr>\n",
       "      <th>3</th>\n",
       "      <td>0</td>\n",
       "      <td>32</td>\n",
       "      <td>1</td>\n",
       "      <td>221.0</td>\n",
       "      <td>10.0</td>\n",
       "    </tr>\n",
       "    <tr>\n",
       "      <th>4</th>\n",
       "      <td>0</td>\n",
       "      <td>33</td>\n",
       "      <td>0</td>\n",
       "      <td>347.0</td>\n",
       "      <td>3.0</td>\n",
       "    </tr>\n",
       "    <tr>\n",
       "      <th>...</th>\n",
       "      <td>...</td>\n",
       "      <td>...</td>\n",
       "      <td>...</td>\n",
       "      <td>...</td>\n",
       "      <td>...</td>\n",
       "    </tr>\n",
       "    <tr>\n",
       "      <th>1609119</th>\n",
       "      <td>59</td>\n",
       "      <td>22164</td>\n",
       "      <td>27</td>\n",
       "      <td>699.0</td>\n",
       "      <td>2.0</td>\n",
       "    </tr>\n",
       "    <tr>\n",
       "      <th>1609120</th>\n",
       "      <td>59</td>\n",
       "      <td>22164</td>\n",
       "      <td>30</td>\n",
       "      <td>699.0</td>\n",
       "      <td>1.0</td>\n",
       "    </tr>\n",
       "    <tr>\n",
       "      <th>1609121</th>\n",
       "      <td>59</td>\n",
       "      <td>22167</td>\n",
       "      <td>9</td>\n",
       "      <td>299.0</td>\n",
       "      <td>1.0</td>\n",
       "    </tr>\n",
       "    <tr>\n",
       "      <th>1609122</th>\n",
       "      <td>59</td>\n",
       "      <td>22167</td>\n",
       "      <td>11</td>\n",
       "      <td>299.0</td>\n",
       "      <td>2.0</td>\n",
       "    </tr>\n",
       "    <tr>\n",
       "      <th>1609123</th>\n",
       "      <td>59</td>\n",
       "      <td>22167</td>\n",
       "      <td>17</td>\n",
       "      <td>299.0</td>\n",
       "      <td>1.0</td>\n",
       "    </tr>\n",
       "  </tbody>\n",
       "</table>\n",
       "<p>1609124 rows × 5 columns</p>\n",
       "</div>"
      ],
      "text/plain": [
       "         shop_id  item_id  date_block_num  item_price  count\n",
       "0              0       30               1       265.0   31.0\n",
       "1              0       31               1       434.0   11.0\n",
       "2              0       32               0       221.0    6.0\n",
       "3              0       32               1       221.0   10.0\n",
       "4              0       33               0       347.0    3.0\n",
       "...          ...      ...             ...         ...    ...\n",
       "1609119       59    22164              27       699.0    2.0\n",
       "1609120       59    22164              30       699.0    1.0\n",
       "1609121       59    22167               9       299.0    1.0\n",
       "1609122       59    22167              11       299.0    2.0\n",
       "1609123       59    22167              17       299.0    1.0\n",
       "\n",
       "[1609124 rows x 5 columns]"
      ]
     },
     "execution_count": 8,
     "metadata": {},
     "output_type": "execute_result"
    }
   ],
   "source": [
    "monthly_sales_df = sales_df.groupby(['shop_id', 'item_id', 'date_block_num'], as_index=False) \\\n",
    "                            .agg({'item_price': 'mean', 'item_cnt_day': 'sum'})\n",
    "monthly_sales_df.rename(columns={'item_cnt_day': 'count'}, inplace=True)\n",
    "del sales_df, item_sales_df\n",
    "gc.collect()\n",
    "monthly_sales_df"
   ]
  },
  {
   "cell_type": "code",
   "execution_count": 9,
   "metadata": {
    "ExecuteTime": {
     "end_time": "2020-09-26T04:17:57.189531Z",
     "start_time": "2020-09-26T04:17:55.642631Z"
    }
   },
   "outputs": [
    {
     "data": {
      "text/plain": [
       "<AxesSubplot:xlabel='item_price', ylabel='count'>"
      ]
     },
     "execution_count": 9,
     "metadata": {},
     "output_type": "execute_result"
    },
    {
     "data": {
      "image/png": "[encoded data removed]",
      "text/plain": [
       "<Figure size 432x288 with 1 Axes>"
      ]
     },
     "metadata": {
      "needs_background": "light"
     },
     "output_type": "display_data"
    }
   ],
   "source": [
    "# prices = resampled_sales_df['item_price']\n",
    "# counts = resampled_sales_df['item_cnt_day']\n",
    "\n",
    "# resampled_sales_df = resampled_sales_df[((prices > prices.quantile(0.01)) & (prices < prices.quantile(0.99))) &\n",
    "#                                         ((counts > counts.quantile(0.01)) & (counts < counts.quantile(0.99)))]\n",
    "monthly_sales_df.plot.scatter(x='item_price', y='count')"
   ]
  },
  {
   "cell_type": "code",
   "execution_count": 10,
   "metadata": {
    "ExecuteTime": {
     "end_time": "2020-09-26T04:17:57.434986Z",
     "start_time": "2020-09-26T04:17:57.251048Z"
    }
   },
   "outputs": [
    {
     "data": {
      "text/html": [
       "<div>\n",
       "<style scoped>\n",
       "    .dataframe tbody tr th:only-of-type {\n",
       "        vertical-align: middle;\n",
       "    }\n",
       "\n",
       "    .dataframe tbody tr th {\n",
       "        vertical-align: top;\n",
       "    }\n",
       "\n",
       "    .dataframe thead th {\n",
       "        text-align: right;\n",
       "    }\n",
       "</style>\n",
       "<table border=\"1\" class=\"dataframe\">\n",
       "  <thead>\n",
       "    <tr style=\"text-align: right;\">\n",
       "      <th></th>\n",
       "      <th>shop_id</th>\n",
       "      <th>item_id</th>\n",
       "      <th>date_block_num</th>\n",
       "      <th>item_price</th>\n",
       "      <th>count</th>\n",
       "      <th>item_category_id</th>\n",
       "    </tr>\n",
       "  </thead>\n",
       "  <tbody>\n",
       "    <tr>\n",
       "      <th>0</th>\n",
       "      <td>0</td>\n",
       "      <td>30</td>\n",
       "      <td>1</td>\n",
       "      <td>265.0</td>\n",
       "      <td>31.0</td>\n",
       "      <td>40</td>\n",
       "    </tr>\n",
       "    <tr>\n",
       "      <th>1</th>\n",
       "      <td>1</td>\n",
       "      <td>30</td>\n",
       "      <td>1</td>\n",
       "      <td>265.0</td>\n",
       "      <td>10.0</td>\n",
       "      <td>40</td>\n",
       "    </tr>\n",
       "    <tr>\n",
       "      <th>2</th>\n",
       "      <td>2</td>\n",
       "      <td>30</td>\n",
       "      <td>2</td>\n",
       "      <td>359.0</td>\n",
       "      <td>1.0</td>\n",
       "      <td>40</td>\n",
       "    </tr>\n",
       "    <tr>\n",
       "      <th>3</th>\n",
       "      <td>2</td>\n",
       "      <td>30</td>\n",
       "      <td>5</td>\n",
       "      <td>399.0</td>\n",
       "      <td>1.0</td>\n",
       "      <td>40</td>\n",
       "    </tr>\n",
       "    <tr>\n",
       "      <th>4</th>\n",
       "      <td>2</td>\n",
       "      <td>30</td>\n",
       "      <td>15</td>\n",
       "      <td>169.0</td>\n",
       "      <td>1.0</td>\n",
       "      <td>40</td>\n",
       "    </tr>\n",
       "    <tr>\n",
       "      <th>...</th>\n",
       "      <td>...</td>\n",
       "      <td>...</td>\n",
       "      <td>...</td>\n",
       "      <td>...</td>\n",
       "      <td>...</td>\n",
       "      <td>...</td>\n",
       "    </tr>\n",
       "    <tr>\n",
       "      <th>1609119</th>\n",
       "      <td>59</td>\n",
       "      <td>9760</td>\n",
       "      <td>12</td>\n",
       "      <td>179.0</td>\n",
       "      <td>1.0</td>\n",
       "      <td>37</td>\n",
       "    </tr>\n",
       "    <tr>\n",
       "      <th>1609120</th>\n",
       "      <td>59</td>\n",
       "      <td>12846</td>\n",
       "      <td>10</td>\n",
       "      <td>149.0</td>\n",
       "      <td>1.0</td>\n",
       "      <td>37</td>\n",
       "    </tr>\n",
       "    <tr>\n",
       "      <th>1609121</th>\n",
       "      <td>59</td>\n",
       "      <td>16270</td>\n",
       "      <td>6</td>\n",
       "      <td>1000.0</td>\n",
       "      <td>1.0</td>\n",
       "      <td>75</td>\n",
       "    </tr>\n",
       "    <tr>\n",
       "      <th>1609122</th>\n",
       "      <td>59</td>\n",
       "      <td>17732</td>\n",
       "      <td>9</td>\n",
       "      <td>198.0</td>\n",
       "      <td>1.0</td>\n",
       "      <td>28</td>\n",
       "    </tr>\n",
       "    <tr>\n",
       "      <th>1609123</th>\n",
       "      <td>59</td>\n",
       "      <td>18018</td>\n",
       "      <td>0</td>\n",
       "      <td>28.0</td>\n",
       "      <td>1.0</td>\n",
       "      <td>57</td>\n",
       "    </tr>\n",
       "  </tbody>\n",
       "</table>\n",
       "<p>1609124 rows × 6 columns</p>\n",
       "</div>"
      ],
      "text/plain": [
       "         shop_id  item_id  date_block_num  item_price  count  item_category_id\n",
       "0              0       30               1       265.0   31.0                40\n",
       "1              1       30               1       265.0   10.0                40\n",
       "2              2       30               2       359.0    1.0                40\n",
       "3              2       30               5       399.0    1.0                40\n",
       "4              2       30              15       169.0    1.0                40\n",
       "...          ...      ...             ...         ...    ...               ...\n",
       "1609119       59     9760              12       179.0    1.0                37\n",
       "1609120       59    12846              10       149.0    1.0                37\n",
       "1609121       59    16270               6      1000.0    1.0                75\n",
       "1609122       59    17732               9       198.0    1.0                28\n",
       "1609123       59    18018               0        28.0    1.0                57\n",
       "\n",
       "[1609124 rows x 6 columns]"
      ]
     },
     "execution_count": 10,
     "metadata": {},
     "output_type": "execute_result"
    }
   ],
   "source": [
    "monthly_sales_df = monthly_sales_df.merge(item_df[['item_id', 'item_category_id']], on='item_id')\n",
    "monthly_sales_df"
   ]
  },
  {
   "cell_type": "code",
   "execution_count": 11,
   "metadata": {
    "ExecuteTime": {
     "end_time": "2020-09-26T04:17:57.534216Z",
     "start_time": "2020-09-26T04:17:57.496594Z"
    }
   },
   "outputs": [],
   "source": [
    "\n",
    "monthly_sales_df = downcast_dataframe(monthly_sales_df)"
   ]
  },
  {
   "cell_type": "code",
   "execution_count": 12,
   "metadata": {
    "ExecuteTime": {
     "end_time": "2020-09-26T04:17:57.819328Z",
     "start_time": "2020-09-26T04:17:57.601655Z"
    }
   },
   "outputs": [
    {
     "data": {
      "text/html": [
       "<div>\n",
       "<style scoped>\n",
       "    .dataframe tbody tr th:only-of-type {\n",
       "        vertical-align: middle;\n",
       "    }\n",
       "\n",
       "    .dataframe tbody tr th {\n",
       "        vertical-align: top;\n",
       "    }\n",
       "\n",
       "    .dataframe thead th {\n",
       "        text-align: right;\n",
       "    }\n",
       "</style>\n",
       "<table border=\"1\" class=\"dataframe\">\n",
       "  <thead>\n",
       "    <tr style=\"text-align: right;\">\n",
       "      <th></th>\n",
       "      <th>shop_id</th>\n",
       "      <th>item_id</th>\n",
       "      <th>date_block_num</th>\n",
       "      <th>item_price</th>\n",
       "      <th>count</th>\n",
       "      <th>item_category_id</th>\n",
       "    </tr>\n",
       "  </thead>\n",
       "  <tbody>\n",
       "    <tr>\n",
       "      <th>count</th>\n",
       "      <td>1.609124e+06</td>\n",
       "      <td>1.609124e+06</td>\n",
       "      <td>1.609124e+06</td>\n",
       "      <td>1.609124e+06</td>\n",
       "      <td>1.609124e+06</td>\n",
       "      <td>1.609124e+06</td>\n",
       "    </tr>\n",
       "    <tr>\n",
       "      <th>mean</th>\n",
       "      <td>3.280585e+01</td>\n",
       "      <td>1.068099e+04</td>\n",
       "      <td>1.466479e+01</td>\n",
       "      <td>7.908846e+02</td>\n",
       "      <td>2.267200e+00</td>\n",
       "      <td>4.154192e+01</td>\n",
       "    </tr>\n",
       "    <tr>\n",
       "      <th>std</th>\n",
       "      <td>1.653701e+01</td>\n",
       "      <td>6.238883e+03</td>\n",
       "      <td>9.542322e+00</td>\n",
       "      <td>1.551605e+03</td>\n",
       "      <td>8.649882e+00</td>\n",
       "      <td>1.632365e+01</td>\n",
       "    </tr>\n",
       "    <tr>\n",
       "      <th>min</th>\n",
       "      <td>0.000000e+00</td>\n",
       "      <td>0.000000e+00</td>\n",
       "      <td>0.000000e+00</td>\n",
       "      <td>9.000000e-02</td>\n",
       "      <td>-2.200000e+01</td>\n",
       "      <td>0.000000e+00</td>\n",
       "    </tr>\n",
       "    <tr>\n",
       "      <th>25%</th>\n",
       "      <td>2.100000e+01</td>\n",
       "      <td>5.045000e+03</td>\n",
       "      <td>6.000000e+00</td>\n",
       "      <td>1.990000e+02</td>\n",
       "      <td>1.000000e+00</td>\n",
       "      <td>3.000000e+01</td>\n",
       "    </tr>\n",
       "    <tr>\n",
       "      <th>50%</th>\n",
       "      <td>3.100000e+01</td>\n",
       "      <td>1.049700e+04</td>\n",
       "      <td>1.400000e+01</td>\n",
       "      <td>3.990000e+02</td>\n",
       "      <td>1.000000e+00</td>\n",
       "      <td>4.000000e+01</td>\n",
       "    </tr>\n",
       "    <tr>\n",
       "      <th>75%</th>\n",
       "      <td>4.700000e+01</td>\n",
       "      <td>1.606000e+04</td>\n",
       "      <td>2.300000e+01</td>\n",
       "      <td>8.985000e+02</td>\n",
       "      <td>2.000000e+00</td>\n",
       "      <td>5.500000e+01</td>\n",
       "    </tr>\n",
       "    <tr>\n",
       "      <th>max</th>\n",
       "      <td>5.900000e+01</td>\n",
       "      <td>2.216900e+04</td>\n",
       "      <td>3.300000e+01</td>\n",
       "      <td>3.079800e+05</td>\n",
       "      <td>2.253000e+03</td>\n",
       "      <td>8.300000e+01</td>\n",
       "    </tr>\n",
       "  </tbody>\n",
       "</table>\n",
       "</div>"
      ],
      "text/plain": [
       "            shop_id       item_id  date_block_num    item_price         count  \\\n",
       "count  1.609124e+06  1.609124e+06    1.609124e+06  1.609124e+06  1.609124e+06   \n",
       "mean   3.280585e+01  1.068099e+04    1.466479e+01  7.908846e+02  2.267200e+00   \n",
       "std    1.653701e+01  6.238883e+03    9.542322e+00  1.551605e+03  8.649882e+00   \n",
       "min    0.000000e+00  0.000000e+00    0.000000e+00  9.000000e-02 -2.200000e+01   \n",
       "25%    2.100000e+01  5.045000e+03    6.000000e+00  1.990000e+02  1.000000e+00   \n",
       "50%    3.100000e+01  1.049700e+04    1.400000e+01  3.990000e+02  1.000000e+00   \n",
       "75%    4.700000e+01  1.606000e+04    2.300000e+01  8.985000e+02  2.000000e+00   \n",
       "max    5.900000e+01  2.216900e+04    3.300000e+01  3.079800e+05  2.253000e+03   \n",
       "\n",
       "       item_category_id  \n",
       "count      1.609124e+06  \n",
       "mean       4.154192e+01  \n",
       "std        1.632365e+01  \n",
       "min        0.000000e+00  \n",
       "25%        3.000000e+01  \n",
       "50%        4.000000e+01  \n",
       "75%        5.500000e+01  \n",
       "max        8.300000e+01  "
      ]
     },
     "execution_count": 12,
     "metadata": {},
     "output_type": "execute_result"
    }
   ],
   "source": [
    "monthly_sales_df.describe()"
   ]
  },
  {
   "cell_type": "markdown",
   "metadata": {
    "heading_collapsed": true
   },
   "source": [
    "### Prove the sales of any shop are different and unique"
   ]
  },
  {
   "cell_type": "code",
   "execution_count": 13,
   "metadata": {
    "ExecuteTime": {
     "end_time": "2020-09-26T04:17:59.200452Z",
     "start_time": "2020-09-26T04:17:57.884100Z"
    },
    "hidden": true
   },
   "outputs": [
    {
     "data": {
      "text/plain": [
       "Text(0, 0.5, 'item_count')"
      ]
     },
     "execution_count": 13,
     "metadata": {},
     "output_type": "execute_result"
    },
    {
     "data": {
      "image/png": "[encoded data removed]",
      "text/plain": [
       "<Figure size 864x576 with 1 Axes>"
      ]
     },
     "metadata": {
      "needs_background": "light"
     },
     "output_type": "display_data"
    }
   ],
   "source": [
    "shop_ids = monthly_sales_df['shop_id']\n",
    "selected_shop_ids = shop_ids.drop_duplicates().sample(8, random_state=99)\n",
    "\n",
    "ax = monthly_sales_df[shop_ids.isin(selected_shop_ids)].groupby(['date_block_num', 'shop_id']).agg(\n",
    "    {'count': 'sum'}).unstack().plot.bar(y='count', stacked=True, figsize=(12, 8))\n",
    "ax.set_ylabel('item_count')"
   ]
  },
  {
   "cell_type": "markdown",
   "metadata": {},
   "source": [
    "### Prove the sales of any item categories are different"
   ]
  },
  {
   "cell_type": "code",
   "execution_count": 14,
   "metadata": {
    "ExecuteTime": {
     "end_time": "2020-09-16T16:03:17.450259Z",
     "start_time": "2020-09-16T16:03:16.964829Z"
    }
   },
   "outputs": [
    {
     "data": {
      "text/plain": [
       "<matplotlib.axes._subplots.AxesSubplot at 0x24c30e00e80>"
      ]
     },
     "execution_count": 14,
     "metadata": {},
     "output_type": "execute_result"
    },
    {
     "data": {
      "image/png": "[encoded data removed]",
      "text/plain": [
       "<Figure size 864x576 with 1 Axes>"
      ]
     },
     "metadata": {
      "needs_background": "light"
     },
     "output_type": "display_data"
    }
   ],
   "source": [
    "categories = monthly_sales_df['item_category_id']\n",
    "selected_categories = categories.drop_duplicates().sample(8, random_state=1)\n",
    "monthly_sales_df[categories.isin(selected_categories)].groupby(['date_block_num', 'item_category_id']).agg(\n",
    "    {'count': 'sum'}).unstack().plot.bar(y='count', stacked=True, figsize=(12, 8))"
   ]
  },
  {
   "cell_type": "markdown",
   "metadata": {
    "heading_collapsed": true
   },
   "source": [
    "### Distribution"
   ]
  },
  {
   "cell_type": "code",
   "execution_count": 15,
   "metadata": {
    "ExecuteTime": {
     "end_time": "2020-09-16T16:03:17.466258Z",
     "start_time": "2020-09-16T16:03:17.451259Z"
    },
    "hidden": true
   },
   "outputs": [],
   "source": [
    "def IQR(data, lower, upper):\n",
    "    return data[(data > data.quantile(lower)) & (data < data.quantile(upper))]\n"
   ]
  },
  {
   "cell_type": "code",
   "execution_count": 16,
   "metadata": {
    "ExecuteTime": {
     "end_time": "2020-09-16T16:03:17.750272Z",
     "start_time": "2020-09-16T16:03:17.468259Z"
    },
    "hidden": true
   },
   "outputs": [
    {
     "data": {
      "text/plain": [
       "<matplotlib.axes._subplots.AxesSubplot at 0x24c30b2d550>"
      ]
     },
     "execution_count": 16,
     "metadata": {},
     "output_type": "execute_result"
    },
    {
     "data": {
      "image/png": "[encoded data removed]",
      "text/plain": [
       "<Figure size 1152x576 with 1 Axes>"
      ]
     },
     "metadata": {
      "needs_background": "light"
     },
     "output_type": "display_data"
    }
   ],
   "source": [
    "alpha = 0.0027\n",
    "IQR(monthly_sales_df['count'], alpha, 1-alpha).hist(bins=100, figsize=(16, 8))"
   ]
  },
  {
   "cell_type": "code",
   "execution_count": 61,
   "metadata": {
    "ExecuteTime": {
     "end_time": "2020-09-12T06:19:30.692325Z",
     "start_time": "2020-09-12T06:19:30.180500Z"
    },
    "hidden": true
   },
   "outputs": [
    {
     "data": {
      "text/plain": [
       "<AxesSubplot:>"
      ]
     },
     "execution_count": 61,
     "metadata": {},
     "output_type": "execute_result"
    },
    {
     "data": {
      "image/png": "[encoded data removed]",
      "text/plain": [
       "<Figure size 1152x576 with 1 Axes>"
      ]
     },
     "metadata": {
      "needs_background": "light"
     },
     "output_type": "display_data"
    }
   ],
   "source": [
    "alpha = 0.008\n",
    "IQR(monthly_sales_df['item_price'], alpha, 1-alpha).hist( bins=100, figsize=(16, 8))"
   ]
  },
  {
   "cell_type": "code",
   "execution_count": 62,
   "metadata": {
    "ExecuteTime": {
     "end_time": "2020-09-12T06:19:33.034882Z",
     "start_time": "2020-09-12T06:19:32.817388Z"
    },
    "hidden": true
   },
   "outputs": [
    {
     "data": {
      "text/html": [
       "<div>\n",
       "<style scoped>\n",
       "    .dataframe tbody tr th:only-of-type {\n",
       "        vertical-align: middle;\n",
       "    }\n",
       "\n",
       "    .dataframe tbody tr th {\n",
       "        vertical-align: top;\n",
       "    }\n",
       "\n",
       "    .dataframe thead th {\n",
       "        text-align: right;\n",
       "    }\n",
       "</style>\n",
       "<table border=\"1\" class=\"dataframe\">\n",
       "  <thead>\n",
       "    <tr style=\"text-align: right;\">\n",
       "      <th></th>\n",
       "      <th></th>\n",
       "      <th></th>\n",
       "      <th>item_price</th>\n",
       "      <th>count</th>\n",
       "      <th>item_category_id</th>\n",
       "    </tr>\n",
       "    <tr>\n",
       "      <th>shop_id</th>\n",
       "      <th>item_id</th>\n",
       "      <th>date_block_num</th>\n",
       "      <th></th>\n",
       "      <th></th>\n",
       "      <th></th>\n",
       "    </tr>\n",
       "  </thead>\n",
       "  <tbody>\n",
       "    <tr>\n",
       "      <th>0</th>\n",
       "      <th>30</th>\n",
       "      <th>1</th>\n",
       "      <td>265.0</td>\n",
       "      <td>31.0</td>\n",
       "      <td>40</td>\n",
       "    </tr>\n",
       "    <tr>\n",
       "      <th>1</th>\n",
       "      <th>30</th>\n",
       "      <th>1</th>\n",
       "      <td>265.0</td>\n",
       "      <td>10.0</td>\n",
       "      <td>40</td>\n",
       "    </tr>\n",
       "    <tr>\n",
       "      <th rowspan=\"4\" valign=\"top\">2</th>\n",
       "      <th rowspan=\"4\" valign=\"top\">30</th>\n",
       "      <th>2</th>\n",
       "      <td>359.0</td>\n",
       "      <td>1.0</td>\n",
       "      <td>40</td>\n",
       "    </tr>\n",
       "    <tr>\n",
       "      <th>5</th>\n",
       "      <td>399.0</td>\n",
       "      <td>1.0</td>\n",
       "      <td>40</td>\n",
       "    </tr>\n",
       "    <tr>\n",
       "      <th>15</th>\n",
       "      <td>169.0</td>\n",
       "      <td>1.0</td>\n",
       "      <td>40</td>\n",
       "    </tr>\n",
       "    <tr>\n",
       "      <th>16</th>\n",
       "      <td>169.0</td>\n",
       "      <td>1.0</td>\n",
       "      <td>40</td>\n",
       "    </tr>\n",
       "    <tr>\n",
       "      <th rowspan=\"10\" valign=\"top\">3</th>\n",
       "      <th rowspan=\"10\" valign=\"top\">30</th>\n",
       "      <th>1</th>\n",
       "      <td>399.0</td>\n",
       "      <td>4.0</td>\n",
       "      <td>40</td>\n",
       "    </tr>\n",
       "    <tr>\n",
       "      <th>2</th>\n",
       "      <td>399.0</td>\n",
       "      <td>5.0</td>\n",
       "      <td>40</td>\n",
       "    </tr>\n",
       "    <tr>\n",
       "      <th>3</th>\n",
       "      <td>399.0</td>\n",
       "      <td>2.0</td>\n",
       "      <td>40</td>\n",
       "    </tr>\n",
       "    <tr>\n",
       "      <th>4</th>\n",
       "      <td>399.0</td>\n",
       "      <td>2.0</td>\n",
       "      <td>40</td>\n",
       "    </tr>\n",
       "    <tr>\n",
       "      <th>5</th>\n",
       "      <td>399.0</td>\n",
       "      <td>1.0</td>\n",
       "      <td>40</td>\n",
       "    </tr>\n",
       "    <tr>\n",
       "      <th>9</th>\n",
       "      <td>169.0</td>\n",
       "      <td>1.0</td>\n",
       "      <td>40</td>\n",
       "    </tr>\n",
       "    <tr>\n",
       "      <th>10</th>\n",
       "      <td>169.0</td>\n",
       "      <td>1.0</td>\n",
       "      <td>40</td>\n",
       "    </tr>\n",
       "    <tr>\n",
       "      <th>11</th>\n",
       "      <td>169.0</td>\n",
       "      <td>2.0</td>\n",
       "      <td>40</td>\n",
       "    </tr>\n",
       "    <tr>\n",
       "      <th>12</th>\n",
       "      <td>169.0</td>\n",
       "      <td>1.0</td>\n",
       "      <td>40</td>\n",
       "    </tr>\n",
       "    <tr>\n",
       "      <th>30</th>\n",
       "      <td>129.0</td>\n",
       "      <td>1.0</td>\n",
       "      <td>40</td>\n",
       "    </tr>\n",
       "    <tr>\n",
       "      <th rowspan=\"3\" valign=\"top\">4</th>\n",
       "      <th rowspan=\"3\" valign=\"top\">30</th>\n",
       "      <th>1</th>\n",
       "      <td>399.0</td>\n",
       "      <td>7.0</td>\n",
       "      <td>40</td>\n",
       "    </tr>\n",
       "    <tr>\n",
       "      <th>2</th>\n",
       "      <td>399.0</td>\n",
       "      <td>3.0</td>\n",
       "      <td>40</td>\n",
       "    </tr>\n",
       "    <tr>\n",
       "      <th>7</th>\n",
       "      <td>399.0</td>\n",
       "      <td>1.0</td>\n",
       "      <td>40</td>\n",
       "    </tr>\n",
       "    <tr>\n",
       "      <th>5</th>\n",
       "      <th>30</th>\n",
       "      <th>1</th>\n",
       "      <td>399.0</td>\n",
       "      <td>5.0</td>\n",
       "      <td>40</td>\n",
       "    </tr>\n",
       "  </tbody>\n",
       "</table>\n",
       "</div>"
      ],
      "text/plain": [
       "                                item_price  count  item_category_id\n",
       "shop_id item_id date_block_num                                     \n",
       "0       30      1                    265.0   31.0                40\n",
       "1       30      1                    265.0   10.0                40\n",
       "2       30      2                    359.0    1.0                40\n",
       "                5                    399.0    1.0                40\n",
       "                15                   169.0    1.0                40\n",
       "                16                   169.0    1.0                40\n",
       "3       30      1                    399.0    4.0                40\n",
       "                2                    399.0    5.0                40\n",
       "                3                    399.0    2.0                40\n",
       "                4                    399.0    2.0                40\n",
       "                5                    399.0    1.0                40\n",
       "                9                    169.0    1.0                40\n",
       "                10                   169.0    1.0                40\n",
       "                11                   169.0    2.0                40\n",
       "                12                   169.0    1.0                40\n",
       "                30                   129.0    1.0                40\n",
       "4       30      1                    399.0    7.0                40\n",
       "                2                    399.0    3.0                40\n",
       "                7                    399.0    1.0                40\n",
       "5       30      1                    399.0    5.0                40"
      ]
     },
     "execution_count": 62,
     "metadata": {},
     "output_type": "execute_result"
    }
   ],
   "source": [
    "monthly_sales_df.set_index(['shop_id', 'item_id', 'date_block_num']).head(20)"
   ]
  },
  {
   "cell_type": "code",
   "execution_count": 63,
   "metadata": {
    "ExecuteTime": {
     "end_time": "2020-09-12T06:19:35.433613Z",
     "start_time": "2020-09-12T06:19:35.304796Z"
    },
    "hidden": true
   },
   "outputs": [
    {
     "data": {
      "text/plain": [
       "shop_id                60\n",
       "item_id             21807\n",
       "date_block_num         34\n",
       "item_price          41464\n",
       "count                 446\n",
       "item_category_id       84\n",
       "dtype: int64"
      ]
     },
     "execution_count": 63,
     "metadata": {},
     "output_type": "execute_result"
    }
   ],
   "source": [
    "monthly_sales_df.nunique()"
   ]
  },
  {
   "cell_type": "code",
   "execution_count": 64,
   "metadata": {
    "ExecuteTime": {
     "end_time": "2020-09-12T06:19:35.887803Z",
     "start_time": "2020-09-12T06:19:35.859285Z"
    },
    "hidden": true
   },
   "outputs": [
    {
     "data": {
      "text/plain": [
       "ID         214200\n",
       "shop_id        42\n",
       "item_id      5100\n",
       "dtype: int64"
      ]
     },
     "execution_count": 64,
     "metadata": {},
     "output_type": "execute_result"
    }
   ],
   "source": [
    "test_df.nunique()"
   ]
  },
  {
   "cell_type": "code",
   "execution_count": 65,
   "metadata": {
    "ExecuteTime": {
     "end_time": "2020-09-12T06:19:36.545777Z",
     "start_time": "2020-09-12T06:19:36.414802Z"
    },
    "hidden": true
   },
   "outputs": [
    {
     "data": {
      "text/plain": [
       "122"
      ]
     },
     "execution_count": 65,
     "metadata": {},
     "output_type": "execute_result"
    }
   ],
   "source": [
    "gc.collect()"
   ]
  },
  {
   "cell_type": "markdown",
   "metadata": {},
   "source": [
    "### Clip count"
   ]
  },
  {
   "cell_type": "code",
   "execution_count": 14,
   "metadata": {
    "ExecuteTime": {
     "end_time": "2020-09-26T04:17:59.573794Z",
     "start_time": "2020-09-26T04:17:59.268126Z"
    }
   },
   "outputs": [
    {
     "data": {
      "text/plain": [
       "<AxesSubplot:ylabel='Frequency'>"
      ]
     },
     "execution_count": 14,
     "metadata": {},
     "output_type": "execute_result"
    },
    {
     "data": {
      "image/png": "[encoded data removed]",
      "text/plain": [
       "<Figure size 432x288 with 1 Axes>"
      ]
     },
     "metadata": {
      "needs_background": "light"
     },
     "output_type": "display_data"
    }
   ],
   "source": [
    "monthly_sales_df['count'].plot.hist()"
   ]
  },
  {
   "cell_type": "code",
   "execution_count": 15,
   "metadata": {
    "ExecuteTime": {
     "end_time": "2020-09-26T04:17:59.949754Z",
     "start_time": "2020-09-26T04:17:59.638087Z"
    }
   },
   "outputs": [
    {
     "data": {
      "text/plain": [
       "<AxesSubplot:ylabel='Frequency'>"
      ]
     },
     "execution_count": 15,
     "metadata": {},
     "output_type": "execute_result"
    },
    {
     "data": {
      "image/png": "[encoded data removed]",
      "text/plain": [
       "<Figure size 432x288 with 1 Axes>"
      ]
     },
     "metadata": {
      "needs_background": "light"
     },
     "output_type": "display_data"
    }
   ],
   "source": [
    "monthly_sales_df['count'].clip(0, 20, inplace=True)\n",
    "monthly_sales_df['count'].plot.hist()"
   ]
  },
  {
   "cell_type": "markdown",
   "metadata": {},
   "source": [
    "### Create monthly_sales_df backup "
   ]
  },
  {
   "cell_type": "code",
   "execution_count": 16,
   "metadata": {
    "ExecuteTime": {
     "end_time": "2020-09-26T04:18:00.031933Z",
     "start_time": "2020-09-26T04:18:00.015231Z"
    }
   },
   "outputs": [],
   "source": [
    "_monthly_sales_df = monthly_sales_df.copy()"
   ]
  },
  {
   "cell_type": "code",
   "execution_count": 17,
   "metadata": {
    "ExecuteTime": {
     "end_time": "2020-09-26T04:18:00.115268Z",
     "start_time": "2020-09-26T04:18:00.096226Z"
    }
   },
   "outputs": [
    {
     "data": {
      "text/html": [
       "<div>\n",
       "<style scoped>\n",
       "    .dataframe tbody tr th:only-of-type {\n",
       "        vertical-align: middle;\n",
       "    }\n",
       "\n",
       "    .dataframe tbody tr th {\n",
       "        vertical-align: top;\n",
       "    }\n",
       "\n",
       "    .dataframe thead th {\n",
       "        text-align: right;\n",
       "    }\n",
       "</style>\n",
       "<table border=\"1\" class=\"dataframe\">\n",
       "  <thead>\n",
       "    <tr style=\"text-align: right;\">\n",
       "      <th></th>\n",
       "      <th>shop_id</th>\n",
       "      <th>item_id</th>\n",
       "      <th>date_block_num</th>\n",
       "      <th>item_price</th>\n",
       "      <th>count</th>\n",
       "      <th>item_category_id</th>\n",
       "    </tr>\n",
       "  </thead>\n",
       "  <tbody>\n",
       "    <tr>\n",
       "      <th>0</th>\n",
       "      <td>0</td>\n",
       "      <td>30</td>\n",
       "      <td>1</td>\n",
       "      <td>265.0</td>\n",
       "      <td>20.0</td>\n",
       "      <td>40</td>\n",
       "    </tr>\n",
       "    <tr>\n",
       "      <th>1</th>\n",
       "      <td>1</td>\n",
       "      <td>30</td>\n",
       "      <td>1</td>\n",
       "      <td>265.0</td>\n",
       "      <td>10.0</td>\n",
       "      <td>40</td>\n",
       "    </tr>\n",
       "    <tr>\n",
       "      <th>2</th>\n",
       "      <td>2</td>\n",
       "      <td>30</td>\n",
       "      <td>2</td>\n",
       "      <td>359.0</td>\n",
       "      <td>1.0</td>\n",
       "      <td>40</td>\n",
       "    </tr>\n",
       "    <tr>\n",
       "      <th>3</th>\n",
       "      <td>2</td>\n",
       "      <td>30</td>\n",
       "      <td>5</td>\n",
       "      <td>399.0</td>\n",
       "      <td>1.0</td>\n",
       "      <td>40</td>\n",
       "    </tr>\n",
       "    <tr>\n",
       "      <th>4</th>\n",
       "      <td>2</td>\n",
       "      <td>30</td>\n",
       "      <td>15</td>\n",
       "      <td>169.0</td>\n",
       "      <td>1.0</td>\n",
       "      <td>40</td>\n",
       "    </tr>\n",
       "    <tr>\n",
       "      <th>...</th>\n",
       "      <td>...</td>\n",
       "      <td>...</td>\n",
       "      <td>...</td>\n",
       "      <td>...</td>\n",
       "      <td>...</td>\n",
       "      <td>...</td>\n",
       "    </tr>\n",
       "    <tr>\n",
       "      <th>1609119</th>\n",
       "      <td>59</td>\n",
       "      <td>9760</td>\n",
       "      <td>12</td>\n",
       "      <td>179.0</td>\n",
       "      <td>1.0</td>\n",
       "      <td>37</td>\n",
       "    </tr>\n",
       "    <tr>\n",
       "      <th>1609120</th>\n",
       "      <td>59</td>\n",
       "      <td>12846</td>\n",
       "      <td>10</td>\n",
       "      <td>149.0</td>\n",
       "      <td>1.0</td>\n",
       "      <td>37</td>\n",
       "    </tr>\n",
       "    <tr>\n",
       "      <th>1609121</th>\n",
       "      <td>59</td>\n",
       "      <td>16270</td>\n",
       "      <td>6</td>\n",
       "      <td>1000.0</td>\n",
       "      <td>1.0</td>\n",
       "      <td>75</td>\n",
       "    </tr>\n",
       "    <tr>\n",
       "      <th>1609122</th>\n",
       "      <td>59</td>\n",
       "      <td>17732</td>\n",
       "      <td>9</td>\n",
       "      <td>198.0</td>\n",
       "      <td>1.0</td>\n",
       "      <td>28</td>\n",
       "    </tr>\n",
       "    <tr>\n",
       "      <th>1609123</th>\n",
       "      <td>59</td>\n",
       "      <td>18018</td>\n",
       "      <td>0</td>\n",
       "      <td>28.0</td>\n",
       "      <td>1.0</td>\n",
       "      <td>57</td>\n",
       "    </tr>\n",
       "  </tbody>\n",
       "</table>\n",
       "<p>1609124 rows × 6 columns</p>\n",
       "</div>"
      ],
      "text/plain": [
       "         shop_id  item_id  date_block_num  item_price  count  item_category_id\n",
       "0              0       30               1       265.0   20.0                40\n",
       "1              1       30               1       265.0   10.0                40\n",
       "2              2       30               2       359.0    1.0                40\n",
       "3              2       30               5       399.0    1.0                40\n",
       "4              2       30              15       169.0    1.0                40\n",
       "...          ...      ...             ...         ...    ...               ...\n",
       "1609119       59     9760              12       179.0    1.0                37\n",
       "1609120       59    12846              10       149.0    1.0                37\n",
       "1609121       59    16270               6      1000.0    1.0                75\n",
       "1609122       59    17732               9       198.0    1.0                28\n",
       "1609123       59    18018               0        28.0    1.0                57\n",
       "\n",
       "[1609124 rows x 6 columns]"
      ]
     },
     "execution_count": 17,
     "metadata": {},
     "output_type": "execute_result"
    }
   ],
   "source": [
    "_monthly_sales_df"
   ]
  },
  {
   "cell_type": "code",
   "execution_count": 18,
   "metadata": {
    "ExecuteTime": {
     "end_time": "2020-09-26T04:18:00.185540Z",
     "start_time": "2020-09-26T04:18:00.181406Z"
    }
   },
   "outputs": [
    {
     "data": {
      "text/plain": [
       "0          5037\n",
       "1          5320\n",
       "2          5233\n",
       "3          5232\n",
       "4          5268\n",
       "          ...  \n",
       "214195    18454\n",
       "214196    16188\n",
       "214197    15757\n",
       "214198    19648\n",
       "214199      969\n",
       "Name: item_id, Length: 214200, dtype: int32"
      ]
     },
     "execution_count": 18,
     "metadata": {},
     "output_type": "execute_result"
    }
   ],
   "source": [
    "test_df['item_id']"
   ]
  },
  {
   "cell_type": "markdown",
   "metadata": {},
   "source": [
    "## Feature Engineering"
   ]
  },
  {
   "cell_type": "markdown",
   "metadata": {},
   "source": [
    "### Generate Grid features\n"
   ]
  },
  {
   "cell_type": "code",
   "execution_count": 19,
   "metadata": {
    "ExecuteTime": {
     "end_time": "2020-09-26T04:18:00.556265Z",
     "start_time": "2020-09-26T04:18:00.553706Z"
    }
   },
   "outputs": [],
   "source": [
    "from itertools import product"
   ]
  },
  {
   "cell_type": "code",
   "execution_count": 20,
   "metadata": {
    "ExecuteTime": {
     "end_time": "2020-09-26T04:18:11.427904Z",
     "start_time": "2020-09-26T04:18:00.739179Z"
    }
   },
   "outputs": [
    {
     "data": {
      "text/plain": [
       "0"
      ]
     },
     "execution_count": 20,
     "metadata": {},
     "output_type": "execute_result"
    }
   ],
   "source": [
    "monthly_sales_df = _monthly_sales_df.copy()\n",
    "grid = [] \n",
    "\n",
    "unique_shops = test_df['shop_id'].unique()\n",
    "unique_items = test_df['item_id'].unique()\n",
    "\n",
    "# unique_shops = monthly_sales_df['shop_id'].unique()\n",
    "# unique_items = monthly_sales_df['item_id'].unique()\n",
    "\n",
    "unique_block_nums = monthly_sales_df['date_block_num'].unique()\n",
    "\n",
    "grid.append(np.array(list(product(*[unique_shops, unique_items, unique_block_nums])),dtype='int32'))\n",
    "# Turn the grid into a dataframe\n",
    "grid = pd.DataFrame(np.vstack(grid), columns=['shop_id', 'item_id', 'date_block_num'],dtype=np.int32)\n",
    "data = grid.merge(monthly_sales_df, how='left', on=['shop_id', 'item_id', 'date_block_num'])\n",
    "# data.fillna(fillna_series, inplace=True)\n",
    "del grid, monthly_sales_df\n",
    "gc.collect()"
   ]
  },
  {
   "cell_type": "code",
   "execution_count": 21,
   "metadata": {
    "ExecuteTime": {
     "end_time": "2020-09-26T04:18:11.620256Z",
     "start_time": "2020-09-26T04:18:11.494781Z"
    }
   },
   "outputs": [],
   "source": [
    "data = downcast_dataframe(data)"
   ]
  },
  {
   "cell_type": "code",
   "execution_count": 22,
   "metadata": {
    "ExecuteTime": {
     "end_time": "2020-09-26T04:20:51.077593Z",
     "start_time": "2020-09-26T04:18:11.685298Z"
    }
   },
   "outputs": [
    {
     "name": "stderr",
     "output_type": "stream",
     "text": [
      "100%|██████████| 214200/214200 [02:37<00:00, 1357.53it/s]\n"
     ]
    }
   ],
   "source": [
    "# Fill item price\n",
    "def fill_nan_by_date_block( df):\n",
    "    df['item_price'] = df['item_price'].ffill().bfill().fillna(0)\n",
    "    return df\n",
    "data = data.sort_values('date_block_num')\n",
    "data = data.groupby(['shop_id', 'item_id'], as_index=False).progress_apply(lambda group: fill_nan_by_date_block(group))\n",
    "\n",
    "data.fillna({'count': 0, 'item_category_id': data['item_category_id'].max()+1}, inplace=True)\n"
   ]
  },
  {
   "cell_type": "markdown",
   "metadata": {},
   "source": [
    "### Item name clustering"
   ]
  },
  {
   "cell_type": "code",
   "execution_count": 23,
   "metadata": {
    "ExecuteTime": {
     "end_time": "2020-09-26T04:20:51.281193Z",
     "start_time": "2020-09-26T04:20:51.147856Z"
    }
   },
   "outputs": [],
   "source": [
    "from sklearn.feature_extraction.text import CountVectorizer\n",
    "from sklearn.cluster import AgglomerativeClustering, DBSCAN\n",
    "\n",
    "from scipy.cluster.hierarchy import dendrogram"
   ]
  },
  {
   "cell_type": "code",
   "execution_count": 24,
   "metadata": {
    "ExecuteTime": {
     "end_time": "2020-09-26T04:20:51.350318Z",
     "start_time": "2020-09-26T04:20:51.345453Z"
    }
   },
   "outputs": [],
   "source": [
    "pre_assign_tag = True\n",
    "if not pre_assign_tag:\n",
    "    vectorizer = CountVectorizer()\n",
    "    bow = vectorizer.fit_transform(item_df['item_name'])\n",
    "    bow[bow.sum(axis=1)==0] = 99\n",
    "    X = bow.toarray()\n",
    "\n",
    "    clustering = DBSCAN(eps=2, metric='l1', min_samples=2, n_jobs=8)\n",
    "    clustering.fit(X)\n",
    "\n",
    "    item_df['tag'] = clustering.labels_\n",
    "    clustered_df = item_df.groupby('tag').agg(children=('item_name', lambda names: '\\n'.join(names)), count=('item_name', 'count'))\n",
    "    clustered_df.sort_values('count', ascending=False).head(20)"
   ]
  },
  {
   "cell_type": "code",
   "execution_count": 25,
   "metadata": {
    "ExecuteTime": {
     "end_time": "2020-09-26T04:20:52.241521Z",
     "start_time": "2020-09-26T04:20:51.417980Z"
    }
   },
   "outputs": [],
   "source": [
    "data = data.merge(item_df[['item_id', 'tag']], how='left', on='item_id')"
   ]
  },
  {
   "cell_type": "code",
   "execution_count": 26,
   "metadata": {
    "ExecuteTime": {
     "end_time": "2020-09-26T04:20:52.318543Z",
     "start_time": "2020-09-26T04:20:52.309586Z"
    }
   },
   "outputs": [
    {
     "data": {
      "text/html": [
       "<div>\n",
       "<style scoped>\n",
       "    .dataframe tbody tr th:only-of-type {\n",
       "        vertical-align: middle;\n",
       "    }\n",
       "\n",
       "    .dataframe tbody tr th {\n",
       "        vertical-align: top;\n",
       "    }\n",
       "\n",
       "    .dataframe thead th {\n",
       "        text-align: right;\n",
       "    }\n",
       "</style>\n",
       "<table border=\"1\" class=\"dataframe\">\n",
       "  <thead>\n",
       "    <tr style=\"text-align: right;\">\n",
       "      <th></th>\n",
       "      <th>shop_id</th>\n",
       "      <th>item_id</th>\n",
       "      <th>date_block_num</th>\n",
       "      <th>item_price</th>\n",
       "      <th>count</th>\n",
       "      <th>item_category_id</th>\n",
       "      <th>tag</th>\n",
       "    </tr>\n",
       "  </thead>\n",
       "  <tbody>\n",
       "    <tr>\n",
       "      <th>0</th>\n",
       "      <td>42</td>\n",
       "      <td>969</td>\n",
       "      <td>0</td>\n",
       "      <td>549.0</td>\n",
       "      <td>0.0</td>\n",
       "      <td>84.0</td>\n",
       "      <td>105</td>\n",
       "    </tr>\n",
       "    <tr>\n",
       "      <th>1</th>\n",
       "      <td>21</td>\n",
       "      <td>9894</td>\n",
       "      <td>0</td>\n",
       "      <td>349.0</td>\n",
       "      <td>0.0</td>\n",
       "      <td>84.0</td>\n",
       "      <td>-1</td>\n",
       "    </tr>\n",
       "    <tr>\n",
       "      <th>2</th>\n",
       "      <td>21</td>\n",
       "      <td>8391</td>\n",
       "      <td>0</td>\n",
       "      <td>449.0</td>\n",
       "      <td>0.0</td>\n",
       "      <td>84.0</td>\n",
       "      <td>989</td>\n",
       "    </tr>\n",
       "    <tr>\n",
       "      <th>3</th>\n",
       "      <td>21</td>\n",
       "      <td>9425</td>\n",
       "      <td>0</td>\n",
       "      <td>349.0</td>\n",
       "      <td>0.0</td>\n",
       "      <td>84.0</td>\n",
       "      <td>-1</td>\n",
       "    </tr>\n",
       "    <tr>\n",
       "      <th>4</th>\n",
       "      <td>21</td>\n",
       "      <td>3344</td>\n",
       "      <td>0</td>\n",
       "      <td>2999.0</td>\n",
       "      <td>0.0</td>\n",
       "      <td>84.0</td>\n",
       "      <td>402</td>\n",
       "    </tr>\n",
       "  </tbody>\n",
       "</table>\n",
       "</div>"
      ],
      "text/plain": [
       "   shop_id  item_id  date_block_num  item_price  count  item_category_id  tag\n",
       "0       42      969               0       549.0    0.0              84.0  105\n",
       "1       21     9894               0       349.0    0.0              84.0   -1\n",
       "2       21     8391               0       449.0    0.0              84.0  989\n",
       "3       21     9425               0       349.0    0.0              84.0   -1\n",
       "4       21     3344               0      2999.0    0.0              84.0  402"
      ]
     },
     "execution_count": 26,
     "metadata": {},
     "output_type": "execute_result"
    }
   ],
   "source": [
    "\n",
    "data.head()"
   ]
  },
  {
   "cell_type": "code",
   "execution_count": 27,
   "metadata": {
    "ExecuteTime": {
     "end_time": "2020-09-26T04:20:52.446882Z",
     "start_time": "2020-09-26T04:20:52.379918Z"
    },
    "scrolled": true
   },
   "outputs": [
    {
     "data": {
      "text/html": [
       "<div>\n",
       "<style scoped>\n",
       "    .dataframe tbody tr th:only-of-type {\n",
       "        vertical-align: middle;\n",
       "    }\n",
       "\n",
       "    .dataframe tbody tr th {\n",
       "        vertical-align: top;\n",
       "    }\n",
       "\n",
       "    .dataframe thead th {\n",
       "        text-align: right;\n",
       "    }\n",
       "</style>\n",
       "<table border=\"1\" class=\"dataframe\">\n",
       "  <thead>\n",
       "    <tr style=\"text-align: right;\">\n",
       "      <th></th>\n",
       "      <th>shop_id</th>\n",
       "      <th>item_id</th>\n",
       "      <th>date_block_num</th>\n",
       "      <th>item_price</th>\n",
       "      <th>count</th>\n",
       "      <th>item_category_id</th>\n",
       "      <th>tag</th>\n",
       "    </tr>\n",
       "  </thead>\n",
       "  <tbody>\n",
       "    <tr>\n",
       "      <th>0</th>\n",
       "      <td>42</td>\n",
       "      <td>969</td>\n",
       "      <td>0</td>\n",
       "      <td>549.0</td>\n",
       "      <td>0.0</td>\n",
       "      <td>84.0</td>\n",
       "      <td>105</td>\n",
       "    </tr>\n",
       "    <tr>\n",
       "      <th>1</th>\n",
       "      <td>21</td>\n",
       "      <td>9894</td>\n",
       "      <td>0</td>\n",
       "      <td>349.0</td>\n",
       "      <td>0.0</td>\n",
       "      <td>84.0</td>\n",
       "      <td>-1</td>\n",
       "    </tr>\n",
       "    <tr>\n",
       "      <th>2</th>\n",
       "      <td>21</td>\n",
       "      <td>8391</td>\n",
       "      <td>0</td>\n",
       "      <td>449.0</td>\n",
       "      <td>0.0</td>\n",
       "      <td>84.0</td>\n",
       "      <td>989</td>\n",
       "    </tr>\n",
       "    <tr>\n",
       "      <th>3</th>\n",
       "      <td>21</td>\n",
       "      <td>9425</td>\n",
       "      <td>0</td>\n",
       "      <td>349.0</td>\n",
       "      <td>0.0</td>\n",
       "      <td>84.0</td>\n",
       "      <td>-1</td>\n",
       "    </tr>\n",
       "    <tr>\n",
       "      <th>4</th>\n",
       "      <td>21</td>\n",
       "      <td>3344</td>\n",
       "      <td>0</td>\n",
       "      <td>2999.0</td>\n",
       "      <td>0.0</td>\n",
       "      <td>84.0</td>\n",
       "      <td>402</td>\n",
       "    </tr>\n",
       "  </tbody>\n",
       "</table>\n",
       "</div>"
      ],
      "text/plain": [
       "   shop_id  item_id  date_block_num  item_price  count  item_category_id  tag\n",
       "0       42      969               0       549.0    0.0              84.0  105\n",
       "1       21     9894               0       349.0    0.0              84.0   -1\n",
       "2       21     8391               0       449.0    0.0              84.0  989\n",
       "3       21     9425               0       349.0    0.0              84.0   -1\n",
       "4       21     3344               0      2999.0    0.0              84.0  402"
      ]
     },
     "execution_count": 27,
     "metadata": {},
     "output_type": "execute_result"
    }
   ],
   "source": [
    "_data = data.copy()\n",
    "_data.head()"
   ]
  },
  {
   "cell_type": "markdown",
   "metadata": {},
   "source": [
    "### Create date block feature"
   ]
  },
  {
   "cell_type": "code",
   "execution_count": 28,
   "metadata": {
    "ExecuteTime": {
     "end_time": "2020-09-26T04:20:52.511610Z",
     "start_time": "2020-09-26T04:20:52.508099Z"
    }
   },
   "outputs": [],
   "source": [
    "def generate_feature(df, by, base_col, output_col, agg_func):\n",
    "    agg_df = df.groupby(by, as_index=False).agg({base_col: agg_func})\n",
    "    agg_df.rename(columns={base_col: output_col}, inplace=True)\n",
    "    return df.merge(agg_df, how='left', on=by)"
   ]
  },
  {
   "cell_type": "code",
   "execution_count": 238,
   "metadata": {
    "ExecuteTime": {
     "end_time": "2020-09-26T14:46:42.128481Z",
     "start_time": "2020-09-26T14:46:18.255277Z"
    }
   },
   "outputs": [
    {
     "data": {
      "text/html": [
       "<div>\n",
       "<style scoped>\n",
       "    .dataframe tbody tr th:only-of-type {\n",
       "        vertical-align: middle;\n",
       "    }\n",
       "\n",
       "    .dataframe tbody tr th {\n",
       "        vertical-align: top;\n",
       "    }\n",
       "\n",
       "    .dataframe thead th {\n",
       "        text-align: right;\n",
       "    }\n",
       "</style>\n",
       "<table border=\"1\" class=\"dataframe\">\n",
       "  <thead>\n",
       "    <tr style=\"text-align: right;\">\n",
       "      <th></th>\n",
       "      <th>shop_id</th>\n",
       "      <th>item_id</th>\n",
       "      <th>date_block_num</th>\n",
       "      <th>item_price</th>\n",
       "      <th>count</th>\n",
       "      <th>item_category_id</th>\n",
       "      <th>tag</th>\n",
       "      <th>count_by_shop</th>\n",
       "      <th>count_by_item</th>\n",
       "      <th>count_by_item_cat</th>\n",
       "      <th>count_by_tag</th>\n",
       "      <th>count_avg_by_shop</th>\n",
       "      <th>count_avg_by_item</th>\n",
       "      <th>count_avg_by_item_cat</th>\n",
       "      <th>count_avg_by_tag</th>\n",
       "      <th>avg_shop_price</th>\n",
       "      <th>avg_item_price</th>\n",
       "      <th>avg_item_cat_price</th>\n",
       "      <th>avg_tag_price</th>\n",
       "    </tr>\n",
       "  </thead>\n",
       "  <tbody>\n",
       "    <tr>\n",
       "      <th>0</th>\n",
       "      <td>42</td>\n",
       "      <td>969</td>\n",
       "      <td>0</td>\n",
       "      <td>549.0</td>\n",
       "      <td>0.0</td>\n",
       "      <td>84.0</td>\n",
       "      <td>105</td>\n",
       "      <td>864.0</td>\n",
       "      <td>0.0</td>\n",
       "      <td>0.0</td>\n",
       "      <td>0.0</td>\n",
       "      <td>0.169412</td>\n",
       "      <td>0.000000</td>\n",
       "      <td>0.0</td>\n",
       "      <td>0.000000</td>\n",
       "      <td>759.885376</td>\n",
       "      <td>479.715179</td>\n",
       "      <td>532.315430</td>\n",
       "      <td>403.214722</td>\n",
       "    </tr>\n",
       "    <tr>\n",
       "      <th>1</th>\n",
       "      <td>21</td>\n",
       "      <td>9894</td>\n",
       "      <td>0</td>\n",
       "      <td>349.0</td>\n",
       "      <td>0.0</td>\n",
       "      <td>84.0</td>\n",
       "      <td>-1</td>\n",
       "      <td>335.0</td>\n",
       "      <td>0.0</td>\n",
       "      <td>0.0</td>\n",
       "      <td>9051.0</td>\n",
       "      <td>0.065686</td>\n",
       "      <td>0.000000</td>\n",
       "      <td>0.0</td>\n",
       "      <td>0.090928</td>\n",
       "      <td>661.685608</td>\n",
       "      <td>265.904755</td>\n",
       "      <td>532.315430</td>\n",
       "      <td>546.889038</td>\n",
       "    </tr>\n",
       "    <tr>\n",
       "      <th>2</th>\n",
       "      <td>21</td>\n",
       "      <td>8391</td>\n",
       "      <td>0</td>\n",
       "      <td>449.0</td>\n",
       "      <td>0.0</td>\n",
       "      <td>84.0</td>\n",
       "      <td>989</td>\n",
       "      <td>335.0</td>\n",
       "      <td>0.0</td>\n",
       "      <td>0.0</td>\n",
       "      <td>0.0</td>\n",
       "      <td>0.065686</td>\n",
       "      <td>0.000000</td>\n",
       "      <td>0.0</td>\n",
       "      <td>0.000000</td>\n",
       "      <td>661.685608</td>\n",
       "      <td>351.595245</td>\n",
       "      <td>532.315430</td>\n",
       "      <td>351.595245</td>\n",
       "    </tr>\n",
       "    <tr>\n",
       "      <th>3</th>\n",
       "      <td>21</td>\n",
       "      <td>9425</td>\n",
       "      <td>0</td>\n",
       "      <td>349.0</td>\n",
       "      <td>0.0</td>\n",
       "      <td>84.0</td>\n",
       "      <td>-1</td>\n",
       "      <td>335.0</td>\n",
       "      <td>0.0</td>\n",
       "      <td>0.0</td>\n",
       "      <td>9051.0</td>\n",
       "      <td>0.065686</td>\n",
       "      <td>0.000000</td>\n",
       "      <td>0.0</td>\n",
       "      <td>0.090928</td>\n",
       "      <td>661.685608</td>\n",
       "      <td>24.928572</td>\n",
       "      <td>532.315430</td>\n",
       "      <td>546.889038</td>\n",
       "    </tr>\n",
       "    <tr>\n",
       "      <th>4</th>\n",
       "      <td>21</td>\n",
       "      <td>3344</td>\n",
       "      <td>0</td>\n",
       "      <td>2999.0</td>\n",
       "      <td>0.0</td>\n",
       "      <td>84.0</td>\n",
       "      <td>402</td>\n",
       "      <td>335.0</td>\n",
       "      <td>0.0</td>\n",
       "      <td>0.0</td>\n",
       "      <td>131.0</td>\n",
       "      <td>0.065686</td>\n",
       "      <td>0.000000</td>\n",
       "      <td>0.0</td>\n",
       "      <td>0.519841</td>\n",
       "      <td>661.685608</td>\n",
       "      <td>2654.801270</td>\n",
       "      <td>532.315430</td>\n",
       "      <td>2576.590088</td>\n",
       "    </tr>\n",
       "    <tr>\n",
       "      <th>...</th>\n",
       "      <td>...</td>\n",
       "      <td>...</td>\n",
       "      <td>...</td>\n",
       "      <td>...</td>\n",
       "      <td>...</td>\n",
       "      <td>...</td>\n",
       "      <td>...</td>\n",
       "      <td>...</td>\n",
       "      <td>...</td>\n",
       "      <td>...</td>\n",
       "      <td>...</td>\n",
       "      <td>...</td>\n",
       "      <td>...</td>\n",
       "      <td>...</td>\n",
       "      <td>...</td>\n",
       "      <td>...</td>\n",
       "      <td>...</td>\n",
       "      <td>...</td>\n",
       "      <td>...</td>\n",
       "    </tr>\n",
       "    <tr>\n",
       "      <th>7282795</th>\n",
       "      <td>10</td>\n",
       "      <td>11575</td>\n",
       "      <td>33</td>\n",
       "      <td>75.0</td>\n",
       "      <td>0.0</td>\n",
       "      <td>84.0</td>\n",
       "      <td>6</td>\n",
       "      <td>417.0</td>\n",
       "      <td>22.0</td>\n",
       "      <td>0.0</td>\n",
       "      <td>10549.0</td>\n",
       "      <td>0.081765</td>\n",
       "      <td>0.523810</td>\n",
       "      <td>0.0</td>\n",
       "      <td>0.277839</td>\n",
       "      <td>297.520966</td>\n",
       "      <td>115.142860</td>\n",
       "      <td>393.984467</td>\n",
       "      <td>274.194641</td>\n",
       "    </tr>\n",
       "    <tr>\n",
       "      <th>7282796</th>\n",
       "      <td>38</td>\n",
       "      <td>11113</td>\n",
       "      <td>33</td>\n",
       "      <td>0.0</td>\n",
       "      <td>0.0</td>\n",
       "      <td>84.0</td>\n",
       "      <td>1236</td>\n",
       "      <td>1017.0</td>\n",
       "      <td>6.0</td>\n",
       "      <td>0.0</td>\n",
       "      <td>6.0</td>\n",
       "      <td>0.199412</td>\n",
       "      <td>0.142857</td>\n",
       "      <td>0.0</td>\n",
       "      <td>0.142857</td>\n",
       "      <td>521.088074</td>\n",
       "      <td>177.071426</td>\n",
       "      <td>393.984467</td>\n",
       "      <td>177.071426</td>\n",
       "    </tr>\n",
       "    <tr>\n",
       "      <th>7282797</th>\n",
       "      <td>39</td>\n",
       "      <td>7541</td>\n",
       "      <td>33</td>\n",
       "      <td>0.0</td>\n",
       "      <td>0.0</td>\n",
       "      <td>84.0</td>\n",
       "      <td>-1</td>\n",
       "      <td>827.0</td>\n",
       "      <td>1.0</td>\n",
       "      <td>0.0</td>\n",
       "      <td>21363.0</td>\n",
       "      <td>0.162157</td>\n",
       "      <td>0.023810</td>\n",
       "      <td>0.0</td>\n",
       "      <td>0.214617</td>\n",
       "      <td>467.732544</td>\n",
       "      <td>16.642857</td>\n",
       "      <td>393.984467</td>\n",
       "      <td>545.899170</td>\n",
       "    </tr>\n",
       "    <tr>\n",
       "      <th>7282798</th>\n",
       "      <td>31</td>\n",
       "      <td>15374</td>\n",
       "      <td>33</td>\n",
       "      <td>98.0</td>\n",
       "      <td>0.0</td>\n",
       "      <td>84.0</td>\n",
       "      <td>-1</td>\n",
       "      <td>5022.0</td>\n",
       "      <td>0.0</td>\n",
       "      <td>0.0</td>\n",
       "      <td>21363.0</td>\n",
       "      <td>0.984706</td>\n",
       "      <td>0.000000</td>\n",
       "      <td>0.0</td>\n",
       "      <td>0.214617</td>\n",
       "      <td>747.882202</td>\n",
       "      <td>223.361908</td>\n",
       "      <td>393.984467</td>\n",
       "      <td>545.899170</td>\n",
       "    </tr>\n",
       "    <tr>\n",
       "      <th>7282799</th>\n",
       "      <td>56</td>\n",
       "      <td>4424</td>\n",
       "      <td>33</td>\n",
       "      <td>299.0</td>\n",
       "      <td>0.0</td>\n",
       "      <td>84.0</td>\n",
       "      <td>539</td>\n",
       "      <td>1141.0</td>\n",
       "      <td>15.0</td>\n",
       "      <td>0.0</td>\n",
       "      <td>20.0</td>\n",
       "      <td>0.223725</td>\n",
       "      <td>0.357143</td>\n",
       "      <td>0.0</td>\n",
       "      <td>0.238095</td>\n",
       "      <td>561.419495</td>\n",
       "      <td>254.142853</td>\n",
       "      <td>393.984467</td>\n",
       "      <td>260.892853</td>\n",
       "    </tr>\n",
       "  </tbody>\n",
       "</table>\n",
       "<p>7282800 rows × 19 columns</p>\n",
       "</div>"
      ],
      "text/plain": [
       "         shop_id  item_id  date_block_num  item_price  count  \\\n",
       "0             42      969               0       549.0    0.0   \n",
       "1             21     9894               0       349.0    0.0   \n",
       "2             21     8391               0       449.0    0.0   \n",
       "3             21     9425               0       349.0    0.0   \n",
       "4             21     3344               0      2999.0    0.0   \n",
       "...          ...      ...             ...         ...    ...   \n",
       "7282795       10    11575              33        75.0    0.0   \n",
       "7282796       38    11113              33         0.0    0.0   \n",
       "7282797       39     7541              33         0.0    0.0   \n",
       "7282798       31    15374              33        98.0    0.0   \n",
       "7282799       56     4424              33       299.0    0.0   \n",
       "\n",
       "         item_category_id   tag  count_by_shop  count_by_item  \\\n",
       "0                    84.0   105          864.0            0.0   \n",
       "1                    84.0    -1          335.0            0.0   \n",
       "2                    84.0   989          335.0            0.0   \n",
       "3                    84.0    -1          335.0            0.0   \n",
       "4                    84.0   402          335.0            0.0   \n",
       "...                   ...   ...            ...            ...   \n",
       "7282795              84.0     6          417.0           22.0   \n",
       "7282796              84.0  1236         1017.0            6.0   \n",
       "7282797              84.0    -1          827.0            1.0   \n",
       "7282798              84.0    -1         5022.0            0.0   \n",
       "7282799              84.0   539         1141.0           15.0   \n",
       "\n",
       "         count_by_item_cat  count_by_tag  count_avg_by_shop  \\\n",
       "0                      0.0           0.0           0.169412   \n",
       "1                      0.0        9051.0           0.065686   \n",
       "2                      0.0           0.0           0.065686   \n",
       "3                      0.0        9051.0           0.065686   \n",
       "4                      0.0         131.0           0.065686   \n",
       "...                    ...           ...                ...   \n",
       "7282795                0.0       10549.0           0.081765   \n",
       "7282796                0.0           6.0           0.199412   \n",
       "7282797                0.0       21363.0           0.162157   \n",
       "7282798                0.0       21363.0           0.984706   \n",
       "7282799                0.0          20.0           0.223725   \n",
       "\n",
       "         count_avg_by_item  count_avg_by_item_cat  count_avg_by_tag  \\\n",
       "0                 0.000000                    0.0          0.000000   \n",
       "1                 0.000000                    0.0          0.090928   \n",
       "2                 0.000000                    0.0          0.000000   \n",
       "3                 0.000000                    0.0          0.090928   \n",
       "4                 0.000000                    0.0          0.519841   \n",
       "...                    ...                    ...               ...   \n",
       "7282795           0.523810                    0.0          0.277839   \n",
       "7282796           0.142857                    0.0          0.142857   \n",
       "7282797           0.023810                    0.0          0.214617   \n",
       "7282798           0.000000                    0.0          0.214617   \n",
       "7282799           0.357143                    0.0          0.238095   \n",
       "\n",
       "         avg_shop_price  avg_item_price  avg_item_cat_price  avg_tag_price  \n",
       "0            759.885376      479.715179          532.315430     403.214722  \n",
       "1            661.685608      265.904755          532.315430     546.889038  \n",
       "2            661.685608      351.595245          532.315430     351.595245  \n",
       "3            661.685608       24.928572          532.315430     546.889038  \n",
       "4            661.685608     2654.801270          532.315430    2576.590088  \n",
       "...                 ...             ...                 ...            ...  \n",
       "7282795      297.520966      115.142860          393.984467     274.194641  \n",
       "7282796      521.088074      177.071426          393.984467     177.071426  \n",
       "7282797      467.732544       16.642857          393.984467     545.899170  \n",
       "7282798      747.882202      223.361908          393.984467     545.899170  \n",
       "7282799      561.419495      254.142853          393.984467     260.892853  \n",
       "\n",
       "[7282800 rows x 19 columns]"
      ]
     },
     "execution_count": 238,
     "metadata": {},
     "output_type": "execute_result"
    }
   ],
   "source": [
    "data = _data.copy()\n",
    "data = generate_feature(data, by=[\n",
    "    'shop_id', 'date_block_num'], base_col='count', output_col='count_by_shop', agg_func='sum')\n",
    "data = generate_feature(data, by=[\n",
    "    'item_id', 'date_block_num'], base_col='count', output_col='count_by_item', agg_func='sum')\n",
    "data = generate_feature(data, by=[\n",
    "    'item_category_id', 'date_block_num'], base_col='count', output_col='count_by_item_cat', agg_func='sum')\n",
    "data = generate_feature(data, by=[\n",
    "    'tag', 'date_block_num'], base_col='count', output_col='count_by_tag', agg_func='sum')\n",
    "\n",
    "data = generate_feature(data, by=[\n",
    "    'shop_id', 'date_block_num'], base_col='count', output_col='count_avg_by_shop', agg_func='mean')\n",
    "data = generate_feature(data, by=[\n",
    "    'item_id', 'date_block_num'], base_col='count', output_col='count_avg_by_item', agg_func='mean')\n",
    "data = generate_feature(data, by=[\n",
    "    'item_category_id', 'date_block_num'], base_col='count', output_col='count_avg_by_item_cat', agg_func='mean')\n",
    "data = generate_feature(data, by=[\n",
    "    'tag', 'date_block_num'], base_col='count', output_col='count_avg_by_tag', agg_func='mean')\n",
    "\n",
    "data = generate_feature(data, by=[\n",
    "    'shop_id', 'date_block_num'], base_col='item_price', output_col='avg_shop_price', agg_func='mean')\n",
    "data = generate_feature(data, by=[\n",
    "    'item_id', 'date_block_num'], base_col='item_price', output_col='avg_item_price', agg_func='mean')\n",
    "data = generate_feature(data, by=[\n",
    "    'item_category_id', 'date_block_num'], base_col='item_price', output_col='avg_item_cat_price', agg_func='mean')\n",
    "data = generate_feature(data, by=[\n",
    "    'tag', 'date_block_num'], base_col='item_price', output_col='avg_tag_price', agg_func='mean')\n",
    "data"
   ]
  },
  {
   "cell_type": "markdown",
   "metadata": {},
   "source": [
    "### Create month feature"
   ]
  },
  {
   "cell_type": "code",
   "execution_count": 239,
   "metadata": {
    "ExecuteTime": {
     "end_time": "2020-09-26T14:46:46.024209Z",
     "start_time": "2020-09-26T14:46:45.978490Z"
    }
   },
   "outputs": [],
   "source": [
    "data['month'] = data['date_block_num'] % 12"
   ]
  },
  {
   "cell_type": "code",
   "execution_count": 240,
   "metadata": {
    "ExecuteTime": {
     "end_time": "2020-09-26T14:46:49.851838Z",
     "start_time": "2020-09-26T14:46:49.824229Z"
    }
   },
   "outputs": [
    {
     "data": {
      "text/html": [
       "<div>\n",
       "<style scoped>\n",
       "    .dataframe tbody tr th:only-of-type {\n",
       "        vertical-align: middle;\n",
       "    }\n",
       "\n",
       "    .dataframe tbody tr th {\n",
       "        vertical-align: top;\n",
       "    }\n",
       "\n",
       "    .dataframe thead th {\n",
       "        text-align: right;\n",
       "    }\n",
       "</style>\n",
       "<table border=\"1\" class=\"dataframe\">\n",
       "  <thead>\n",
       "    <tr style=\"text-align: right;\">\n",
       "      <th></th>\n",
       "      <th>shop_id</th>\n",
       "      <th>item_id</th>\n",
       "      <th>date_block_num</th>\n",
       "      <th>item_price</th>\n",
       "      <th>count</th>\n",
       "      <th>item_category_id</th>\n",
       "      <th>tag</th>\n",
       "      <th>count_by_shop</th>\n",
       "      <th>count_by_item</th>\n",
       "      <th>count_by_item_cat</th>\n",
       "      <th>count_by_tag</th>\n",
       "      <th>count_avg_by_shop</th>\n",
       "      <th>count_avg_by_item</th>\n",
       "      <th>count_avg_by_item_cat</th>\n",
       "      <th>count_avg_by_tag</th>\n",
       "      <th>avg_shop_price</th>\n",
       "      <th>avg_item_price</th>\n",
       "      <th>avg_item_cat_price</th>\n",
       "      <th>avg_tag_price</th>\n",
       "      <th>month</th>\n",
       "    </tr>\n",
       "  </thead>\n",
       "  <tbody>\n",
       "    <tr>\n",
       "      <th>0</th>\n",
       "      <td>42</td>\n",
       "      <td>969</td>\n",
       "      <td>0</td>\n",
       "      <td>549.0</td>\n",
       "      <td>0.0</td>\n",
       "      <td>84.0</td>\n",
       "      <td>105</td>\n",
       "      <td>864.0</td>\n",
       "      <td>0.0</td>\n",
       "      <td>0.0</td>\n",
       "      <td>0.0</td>\n",
       "      <td>0.169412</td>\n",
       "      <td>0.000000</td>\n",
       "      <td>0.0</td>\n",
       "      <td>0.000000</td>\n",
       "      <td>759.885376</td>\n",
       "      <td>479.715179</td>\n",
       "      <td>532.315430</td>\n",
       "      <td>403.214722</td>\n",
       "      <td>0</td>\n",
       "    </tr>\n",
       "    <tr>\n",
       "      <th>1</th>\n",
       "      <td>21</td>\n",
       "      <td>9894</td>\n",
       "      <td>0</td>\n",
       "      <td>349.0</td>\n",
       "      <td>0.0</td>\n",
       "      <td>84.0</td>\n",
       "      <td>-1</td>\n",
       "      <td>335.0</td>\n",
       "      <td>0.0</td>\n",
       "      <td>0.0</td>\n",
       "      <td>9051.0</td>\n",
       "      <td>0.065686</td>\n",
       "      <td>0.000000</td>\n",
       "      <td>0.0</td>\n",
       "      <td>0.090928</td>\n",
       "      <td>661.685608</td>\n",
       "      <td>265.904755</td>\n",
       "      <td>532.315430</td>\n",
       "      <td>546.889038</td>\n",
       "      <td>0</td>\n",
       "    </tr>\n",
       "    <tr>\n",
       "      <th>2</th>\n",
       "      <td>21</td>\n",
       "      <td>8391</td>\n",
       "      <td>0</td>\n",
       "      <td>449.0</td>\n",
       "      <td>0.0</td>\n",
       "      <td>84.0</td>\n",
       "      <td>989</td>\n",
       "      <td>335.0</td>\n",
       "      <td>0.0</td>\n",
       "      <td>0.0</td>\n",
       "      <td>0.0</td>\n",
       "      <td>0.065686</td>\n",
       "      <td>0.000000</td>\n",
       "      <td>0.0</td>\n",
       "      <td>0.000000</td>\n",
       "      <td>661.685608</td>\n",
       "      <td>351.595245</td>\n",
       "      <td>532.315430</td>\n",
       "      <td>351.595245</td>\n",
       "      <td>0</td>\n",
       "    </tr>\n",
       "    <tr>\n",
       "      <th>3</th>\n",
       "      <td>21</td>\n",
       "      <td>9425</td>\n",
       "      <td>0</td>\n",
       "      <td>349.0</td>\n",
       "      <td>0.0</td>\n",
       "      <td>84.0</td>\n",
       "      <td>-1</td>\n",
       "      <td>335.0</td>\n",
       "      <td>0.0</td>\n",
       "      <td>0.0</td>\n",
       "      <td>9051.0</td>\n",
       "      <td>0.065686</td>\n",
       "      <td>0.000000</td>\n",
       "      <td>0.0</td>\n",
       "      <td>0.090928</td>\n",
       "      <td>661.685608</td>\n",
       "      <td>24.928572</td>\n",
       "      <td>532.315430</td>\n",
       "      <td>546.889038</td>\n",
       "      <td>0</td>\n",
       "    </tr>\n",
       "    <tr>\n",
       "      <th>4</th>\n",
       "      <td>21</td>\n",
       "      <td>3344</td>\n",
       "      <td>0</td>\n",
       "      <td>2999.0</td>\n",
       "      <td>0.0</td>\n",
       "      <td>84.0</td>\n",
       "      <td>402</td>\n",
       "      <td>335.0</td>\n",
       "      <td>0.0</td>\n",
       "      <td>0.0</td>\n",
       "      <td>131.0</td>\n",
       "      <td>0.065686</td>\n",
       "      <td>0.000000</td>\n",
       "      <td>0.0</td>\n",
       "      <td>0.519841</td>\n",
       "      <td>661.685608</td>\n",
       "      <td>2654.801270</td>\n",
       "      <td>532.315430</td>\n",
       "      <td>2576.590088</td>\n",
       "      <td>0</td>\n",
       "    </tr>\n",
       "    <tr>\n",
       "      <th>...</th>\n",
       "      <td>...</td>\n",
       "      <td>...</td>\n",
       "      <td>...</td>\n",
       "      <td>...</td>\n",
       "      <td>...</td>\n",
       "      <td>...</td>\n",
       "      <td>...</td>\n",
       "      <td>...</td>\n",
       "      <td>...</td>\n",
       "      <td>...</td>\n",
       "      <td>...</td>\n",
       "      <td>...</td>\n",
       "      <td>...</td>\n",
       "      <td>...</td>\n",
       "      <td>...</td>\n",
       "      <td>...</td>\n",
       "      <td>...</td>\n",
       "      <td>...</td>\n",
       "      <td>...</td>\n",
       "      <td>...</td>\n",
       "    </tr>\n",
       "    <tr>\n",
       "      <th>7282795</th>\n",
       "      <td>10</td>\n",
       "      <td>11575</td>\n",
       "      <td>33</td>\n",
       "      <td>75.0</td>\n",
       "      <td>0.0</td>\n",
       "      <td>84.0</td>\n",
       "      <td>6</td>\n",
       "      <td>417.0</td>\n",
       "      <td>22.0</td>\n",
       "      <td>0.0</td>\n",
       "      <td>10549.0</td>\n",
       "      <td>0.081765</td>\n",
       "      <td>0.523810</td>\n",
       "      <td>0.0</td>\n",
       "      <td>0.277839</td>\n",
       "      <td>297.520966</td>\n",
       "      <td>115.142860</td>\n",
       "      <td>393.984467</td>\n",
       "      <td>274.194641</td>\n",
       "      <td>9</td>\n",
       "    </tr>\n",
       "    <tr>\n",
       "      <th>7282796</th>\n",
       "      <td>38</td>\n",
       "      <td>11113</td>\n",
       "      <td>33</td>\n",
       "      <td>0.0</td>\n",
       "      <td>0.0</td>\n",
       "      <td>84.0</td>\n",
       "      <td>1236</td>\n",
       "      <td>1017.0</td>\n",
       "      <td>6.0</td>\n",
       "      <td>0.0</td>\n",
       "      <td>6.0</td>\n",
       "      <td>0.199412</td>\n",
       "      <td>0.142857</td>\n",
       "      <td>0.0</td>\n",
       "      <td>0.142857</td>\n",
       "      <td>521.088074</td>\n",
       "      <td>177.071426</td>\n",
       "      <td>393.984467</td>\n",
       "      <td>177.071426</td>\n",
       "      <td>9</td>\n",
       "    </tr>\n",
       "    <tr>\n",
       "      <th>7282797</th>\n",
       "      <td>39</td>\n",
       "      <td>7541</td>\n",
       "      <td>33</td>\n",
       "      <td>0.0</td>\n",
       "      <td>0.0</td>\n",
       "      <td>84.0</td>\n",
       "      <td>-1</td>\n",
       "      <td>827.0</td>\n",
       "      <td>1.0</td>\n",
       "      <td>0.0</td>\n",
       "      <td>21363.0</td>\n",
       "      <td>0.162157</td>\n",
       "      <td>0.023810</td>\n",
       "      <td>0.0</td>\n",
       "      <td>0.214617</td>\n",
       "      <td>467.732544</td>\n",
       "      <td>16.642857</td>\n",
       "      <td>393.984467</td>\n",
       "      <td>545.899170</td>\n",
       "      <td>9</td>\n",
       "    </tr>\n",
       "    <tr>\n",
       "      <th>7282798</th>\n",
       "      <td>31</td>\n",
       "      <td>15374</td>\n",
       "      <td>33</td>\n",
       "      <td>98.0</td>\n",
       "      <td>0.0</td>\n",
       "      <td>84.0</td>\n",
       "      <td>-1</td>\n",
       "      <td>5022.0</td>\n",
       "      <td>0.0</td>\n",
       "      <td>0.0</td>\n",
       "      <td>21363.0</td>\n",
       "      <td>0.984706</td>\n",
       "      <td>0.000000</td>\n",
       "      <td>0.0</td>\n",
       "      <td>0.214617</td>\n",
       "      <td>747.882202</td>\n",
       "      <td>223.361908</td>\n",
       "      <td>393.984467</td>\n",
       "      <td>545.899170</td>\n",
       "      <td>9</td>\n",
       "    </tr>\n",
       "    <tr>\n",
       "      <th>7282799</th>\n",
       "      <td>56</td>\n",
       "      <td>4424</td>\n",
       "      <td>33</td>\n",
       "      <td>299.0</td>\n",
       "      <td>0.0</td>\n",
       "      <td>84.0</td>\n",
       "      <td>539</td>\n",
       "      <td>1141.0</td>\n",
       "      <td>15.0</td>\n",
       "      <td>0.0</td>\n",
       "      <td>20.0</td>\n",
       "      <td>0.223725</td>\n",
       "      <td>0.357143</td>\n",
       "      <td>0.0</td>\n",
       "      <td>0.238095</td>\n",
       "      <td>561.419495</td>\n",
       "      <td>254.142853</td>\n",
       "      <td>393.984467</td>\n",
       "      <td>260.892853</td>\n",
       "      <td>9</td>\n",
       "    </tr>\n",
       "  </tbody>\n",
       "</table>\n",
       "<p>7282800 rows × 20 columns</p>\n",
       "</div>"
      ],
      "text/plain": [
       "         shop_id  item_id  date_block_num  item_price  count  \\\n",
       "0             42      969               0       549.0    0.0   \n",
       "1             21     9894               0       349.0    0.0   \n",
       "2             21     8391               0       449.0    0.0   \n",
       "3             21     9425               0       349.0    0.0   \n",
       "4             21     3344               0      2999.0    0.0   \n",
       "...          ...      ...             ...         ...    ...   \n",
       "7282795       10    11575              33        75.0    0.0   \n",
       "7282796       38    11113              33         0.0    0.0   \n",
       "7282797       39     7541              33         0.0    0.0   \n",
       "7282798       31    15374              33        98.0    0.0   \n",
       "7282799       56     4424              33       299.0    0.0   \n",
       "\n",
       "         item_category_id   tag  count_by_shop  count_by_item  \\\n",
       "0                    84.0   105          864.0            0.0   \n",
       "1                    84.0    -1          335.0            0.0   \n",
       "2                    84.0   989          335.0            0.0   \n",
       "3                    84.0    -1          335.0            0.0   \n",
       "4                    84.0   402          335.0            0.0   \n",
       "...                   ...   ...            ...            ...   \n",
       "7282795              84.0     6          417.0           22.0   \n",
       "7282796              84.0  1236         1017.0            6.0   \n",
       "7282797              84.0    -1          827.0            1.0   \n",
       "7282798              84.0    -1         5022.0            0.0   \n",
       "7282799              84.0   539         1141.0           15.0   \n",
       "\n",
       "         count_by_item_cat  count_by_tag  count_avg_by_shop  \\\n",
       "0                      0.0           0.0           0.169412   \n",
       "1                      0.0        9051.0           0.065686   \n",
       "2                      0.0           0.0           0.065686   \n",
       "3                      0.0        9051.0           0.065686   \n",
       "4                      0.0         131.0           0.065686   \n",
       "...                    ...           ...                ...   \n",
       "7282795                0.0       10549.0           0.081765   \n",
       "7282796                0.0           6.0           0.199412   \n",
       "7282797                0.0       21363.0           0.162157   \n",
       "7282798                0.0       21363.0           0.984706   \n",
       "7282799                0.0          20.0           0.223725   \n",
       "\n",
       "         count_avg_by_item  count_avg_by_item_cat  count_avg_by_tag  \\\n",
       "0                 0.000000                    0.0          0.000000   \n",
       "1                 0.000000                    0.0          0.090928   \n",
       "2                 0.000000                    0.0          0.000000   \n",
       "3                 0.000000                    0.0          0.090928   \n",
       "4                 0.000000                    0.0          0.519841   \n",
       "...                    ...                    ...               ...   \n",
       "7282795           0.523810                    0.0          0.277839   \n",
       "7282796           0.142857                    0.0          0.142857   \n",
       "7282797           0.023810                    0.0          0.214617   \n",
       "7282798           0.000000                    0.0          0.214617   \n",
       "7282799           0.357143                    0.0          0.238095   \n",
       "\n",
       "         avg_shop_price  avg_item_price  avg_item_cat_price  avg_tag_price  \\\n",
       "0            759.885376      479.715179          532.315430     403.214722   \n",
       "1            661.685608      265.904755          532.315430     546.889038   \n",
       "2            661.685608      351.595245          532.315430     351.595245   \n",
       "3            661.685608       24.928572          532.315430     546.889038   \n",
       "4            661.685608     2654.801270          532.315430    2576.590088   \n",
       "...                 ...             ...                 ...            ...   \n",
       "7282795      297.520966      115.142860          393.984467     274.194641   \n",
       "7282796      521.088074      177.071426          393.984467     177.071426   \n",
       "7282797      467.732544       16.642857          393.984467     545.899170   \n",
       "7282798      747.882202      223.361908          393.984467     545.899170   \n",
       "7282799      561.419495      254.142853          393.984467     260.892853   \n",
       "\n",
       "         month  \n",
       "0            0  \n",
       "1            0  \n",
       "2            0  \n",
       "3            0  \n",
       "4            0  \n",
       "...        ...  \n",
       "7282795      9  \n",
       "7282796      9  \n",
       "7282797      9  \n",
       "7282798      9  \n",
       "7282799      9  \n",
       "\n",
       "[7282800 rows x 20 columns]"
      ]
     },
     "execution_count": 240,
     "metadata": {},
     "output_type": "execute_result"
    }
   ],
   "source": [
    "data"
   ]
  },
  {
   "cell_type": "markdown",
   "metadata": {},
   "source": [
    "### Mean Encoding"
   ]
  },
  {
   "cell_type": "code",
   "execution_count": 241,
   "metadata": {
    "ExecuteTime": {
     "end_time": "2020-09-26T14:46:59.827615Z",
     "start_time": "2020-09-26T14:46:53.619195Z"
    }
   },
   "outputs": [
    {
     "data": {
      "text/html": [
       "<div>\n",
       "<style scoped>\n",
       "    .dataframe tbody tr th:only-of-type {\n",
       "        vertical-align: middle;\n",
       "    }\n",
       "\n",
       "    .dataframe tbody tr th {\n",
       "        vertical-align: top;\n",
       "    }\n",
       "\n",
       "    .dataframe thead th {\n",
       "        text-align: right;\n",
       "    }\n",
       "</style>\n",
       "<table border=\"1\" class=\"dataframe\">\n",
       "  <thead>\n",
       "    <tr style=\"text-align: right;\">\n",
       "      <th></th>\n",
       "      <th>shop_id</th>\n",
       "      <th>item_id</th>\n",
       "      <th>date_block_num</th>\n",
       "      <th>item_price</th>\n",
       "      <th>count</th>\n",
       "      <th>item_category_id</th>\n",
       "      <th>tag</th>\n",
       "      <th>count_by_shop</th>\n",
       "      <th>count_by_item</th>\n",
       "      <th>count_by_item_cat</th>\n",
       "      <th>...</th>\n",
       "      <th>avg_shop_price</th>\n",
       "      <th>avg_item_price</th>\n",
       "      <th>avg_item_cat_price</th>\n",
       "      <th>avg_tag_price</th>\n",
       "      <th>month</th>\n",
       "      <th>shop_id_encoded</th>\n",
       "      <th>item_id_encoded</th>\n",
       "      <th>item_category_id_encoded</th>\n",
       "      <th>month_encoded</th>\n",
       "      <th>tag_encoded</th>\n",
       "    </tr>\n",
       "  </thead>\n",
       "  <tbody>\n",
       "    <tr>\n",
       "      <th>0</th>\n",
       "      <td>42</td>\n",
       "      <td>969</td>\n",
       "      <td>0</td>\n",
       "      <td>549.0</td>\n",
       "      <td>0.0</td>\n",
       "      <td>84.0</td>\n",
       "      <td>105</td>\n",
       "      <td>864.0</td>\n",
       "      <td>0.0</td>\n",
       "      <td>0.0</td>\n",
       "      <td>...</td>\n",
       "      <td>759.885376</td>\n",
       "      <td>479.715179</td>\n",
       "      <td>532.315430</td>\n",
       "      <td>403.214722</td>\n",
       "      <td>0</td>\n",
       "      <td>0.368899</td>\n",
       "      <td>0.158263</td>\n",
       "      <td>0.0</td>\n",
       "      <td>0.177745</td>\n",
       "      <td>0.258053</td>\n",
       "    </tr>\n",
       "    <tr>\n",
       "      <th>1</th>\n",
       "      <td>21</td>\n",
       "      <td>9894</td>\n",
       "      <td>0</td>\n",
       "      <td>349.0</td>\n",
       "      <td>0.0</td>\n",
       "      <td>84.0</td>\n",
       "      <td>-1</td>\n",
       "      <td>335.0</td>\n",
       "      <td>0.0</td>\n",
       "      <td>0.0</td>\n",
       "      <td>...</td>\n",
       "      <td>661.685608</td>\n",
       "      <td>265.904755</td>\n",
       "      <td>532.315430</td>\n",
       "      <td>546.889038</td>\n",
       "      <td>0</td>\n",
       "      <td>0.193310</td>\n",
       "      <td>0.054622</td>\n",
       "      <td>0.0</td>\n",
       "      <td>0.177745</td>\n",
       "      <td>0.170492</td>\n",
       "    </tr>\n",
       "    <tr>\n",
       "      <th>2</th>\n",
       "      <td>21</td>\n",
       "      <td>8391</td>\n",
       "      <td>0</td>\n",
       "      <td>449.0</td>\n",
       "      <td>0.0</td>\n",
       "      <td>84.0</td>\n",
       "      <td>989</td>\n",
       "      <td>335.0</td>\n",
       "      <td>0.0</td>\n",
       "      <td>0.0</td>\n",
       "      <td>...</td>\n",
       "      <td>661.685608</td>\n",
       "      <td>351.595245</td>\n",
       "      <td>532.315430</td>\n",
       "      <td>351.595245</td>\n",
       "      <td>0</td>\n",
       "      <td>0.193310</td>\n",
       "      <td>0.158263</td>\n",
       "      <td>0.0</td>\n",
       "      <td>0.177745</td>\n",
       "      <td>0.158263</td>\n",
       "    </tr>\n",
       "    <tr>\n",
       "      <th>3</th>\n",
       "      <td>21</td>\n",
       "      <td>9425</td>\n",
       "      <td>0</td>\n",
       "      <td>349.0</td>\n",
       "      <td>0.0</td>\n",
       "      <td>84.0</td>\n",
       "      <td>-1</td>\n",
       "      <td>335.0</td>\n",
       "      <td>0.0</td>\n",
       "      <td>0.0</td>\n",
       "      <td>...</td>\n",
       "      <td>661.685608</td>\n",
       "      <td>24.928572</td>\n",
       "      <td>532.315430</td>\n",
       "      <td>546.889038</td>\n",
       "      <td>0</td>\n",
       "      <td>0.193310</td>\n",
       "      <td>0.002101</td>\n",
       "      <td>0.0</td>\n",
       "      <td>0.177745</td>\n",
       "      <td>0.170492</td>\n",
       "    </tr>\n",
       "    <tr>\n",
       "      <th>4</th>\n",
       "      <td>21</td>\n",
       "      <td>3344</td>\n",
       "      <td>0</td>\n",
       "      <td>2999.0</td>\n",
       "      <td>0.0</td>\n",
       "      <td>84.0</td>\n",
       "      <td>402</td>\n",
       "      <td>335.0</td>\n",
       "      <td>0.0</td>\n",
       "      <td>0.0</td>\n",
       "      <td>...</td>\n",
       "      <td>661.685608</td>\n",
       "      <td>2654.801270</td>\n",
       "      <td>532.315430</td>\n",
       "      <td>2576.590088</td>\n",
       "      <td>0</td>\n",
       "      <td>0.193310</td>\n",
       "      <td>0.240896</td>\n",
       "      <td>0.0</td>\n",
       "      <td>0.177745</td>\n",
       "      <td>1.151494</td>\n",
       "    </tr>\n",
       "    <tr>\n",
       "      <th>...</th>\n",
       "      <td>...</td>\n",
       "      <td>...</td>\n",
       "      <td>...</td>\n",
       "      <td>...</td>\n",
       "      <td>...</td>\n",
       "      <td>...</td>\n",
       "      <td>...</td>\n",
       "      <td>...</td>\n",
       "      <td>...</td>\n",
       "      <td>...</td>\n",
       "      <td>...</td>\n",
       "      <td>...</td>\n",
       "      <td>...</td>\n",
       "      <td>...</td>\n",
       "      <td>...</td>\n",
       "      <td>...</td>\n",
       "      <td>...</td>\n",
       "      <td>...</td>\n",
       "      <td>...</td>\n",
       "      <td>...</td>\n",
       "      <td>...</td>\n",
       "    </tr>\n",
       "    <tr>\n",
       "      <th>7282795</th>\n",
       "      <td>10</td>\n",
       "      <td>11575</td>\n",
       "      <td>33</td>\n",
       "      <td>75.0</td>\n",
       "      <td>0.0</td>\n",
       "      <td>84.0</td>\n",
       "      <td>6</td>\n",
       "      <td>417.0</td>\n",
       "      <td>22.0</td>\n",
       "      <td>0.0</td>\n",
       "      <td>...</td>\n",
       "      <td>297.520966</td>\n",
       "      <td>115.142860</td>\n",
       "      <td>393.984467</td>\n",
       "      <td>274.194641</td>\n",
       "      <td>9</td>\n",
       "      <td>0.071073</td>\n",
       "      <td>0.317227</td>\n",
       "      <td>0.0</td>\n",
       "      <td>0.201570</td>\n",
       "      <td>0.193674</td>\n",
       "    </tr>\n",
       "    <tr>\n",
       "      <th>7282796</th>\n",
       "      <td>38</td>\n",
       "      <td>11113</td>\n",
       "      <td>33</td>\n",
       "      <td>0.0</td>\n",
       "      <td>0.0</td>\n",
       "      <td>84.0</td>\n",
       "      <td>1236</td>\n",
       "      <td>1017.0</td>\n",
       "      <td>6.0</td>\n",
       "      <td>0.0</td>\n",
       "      <td>...</td>\n",
       "      <td>521.088074</td>\n",
       "      <td>177.071426</td>\n",
       "      <td>393.984467</td>\n",
       "      <td>177.071426</td>\n",
       "      <td>9</td>\n",
       "      <td>0.168408</td>\n",
       "      <td>0.061625</td>\n",
       "      <td>0.0</td>\n",
       "      <td>0.201570</td>\n",
       "      <td>0.061625</td>\n",
       "    </tr>\n",
       "    <tr>\n",
       "      <th>7282797</th>\n",
       "      <td>39</td>\n",
       "      <td>7541</td>\n",
       "      <td>33</td>\n",
       "      <td>0.0</td>\n",
       "      <td>0.0</td>\n",
       "      <td>84.0</td>\n",
       "      <td>-1</td>\n",
       "      <td>827.0</td>\n",
       "      <td>1.0</td>\n",
       "      <td>0.0</td>\n",
       "      <td>...</td>\n",
       "      <td>467.732544</td>\n",
       "      <td>16.642857</td>\n",
       "      <td>393.984467</td>\n",
       "      <td>545.899170</td>\n",
       "      <td>9</td>\n",
       "      <td>0.062278</td>\n",
       "      <td>0.028011</td>\n",
       "      <td>0.0</td>\n",
       "      <td>0.201570</td>\n",
       "      <td>0.170492</td>\n",
       "    </tr>\n",
       "    <tr>\n",
       "      <th>7282798</th>\n",
       "      <td>31</td>\n",
       "      <td>15374</td>\n",
       "      <td>33</td>\n",
       "      <td>98.0</td>\n",
       "      <td>0.0</td>\n",
       "      <td>84.0</td>\n",
       "      <td>-1</td>\n",
       "      <td>5022.0</td>\n",
       "      <td>0.0</td>\n",
       "      <td>0.0</td>\n",
       "      <td>...</td>\n",
       "      <td>747.882202</td>\n",
       "      <td>223.361908</td>\n",
       "      <td>393.984467</td>\n",
       "      <td>545.899170</td>\n",
       "      <td>9</td>\n",
       "      <td>0.715461</td>\n",
       "      <td>0.115546</td>\n",
       "      <td>0.0</td>\n",
       "      <td>0.201570</td>\n",
       "      <td>0.170492</td>\n",
       "    </tr>\n",
       "    <tr>\n",
       "      <th>7282799</th>\n",
       "      <td>56</td>\n",
       "      <td>4424</td>\n",
       "      <td>33</td>\n",
       "      <td>299.0</td>\n",
       "      <td>0.0</td>\n",
       "      <td>84.0</td>\n",
       "      <td>539</td>\n",
       "      <td>1141.0</td>\n",
       "      <td>15.0</td>\n",
       "      <td>0.0</td>\n",
       "      <td>...</td>\n",
       "      <td>561.419495</td>\n",
       "      <td>254.142853</td>\n",
       "      <td>393.984467</td>\n",
       "      <td>260.892853</td>\n",
       "      <td>9</td>\n",
       "      <td>0.194273</td>\n",
       "      <td>0.208683</td>\n",
       "      <td>0.0</td>\n",
       "      <td>0.201570</td>\n",
       "      <td>0.262255</td>\n",
       "    </tr>\n",
       "  </tbody>\n",
       "</table>\n",
       "<p>7282800 rows × 25 columns</p>\n",
       "</div>"
      ],
      "text/plain": [
       "         shop_id  item_id  date_block_num  item_price  count  \\\n",
       "0             42      969               0       549.0    0.0   \n",
       "1             21     9894               0       349.0    0.0   \n",
       "2             21     8391               0       449.0    0.0   \n",
       "3             21     9425               0       349.0    0.0   \n",
       "4             21     3344               0      2999.0    0.0   \n",
       "...          ...      ...             ...         ...    ...   \n",
       "7282795       10    11575              33        75.0    0.0   \n",
       "7282796       38    11113              33         0.0    0.0   \n",
       "7282797       39     7541              33         0.0    0.0   \n",
       "7282798       31    15374              33        98.0    0.0   \n",
       "7282799       56     4424              33       299.0    0.0   \n",
       "\n",
       "         item_category_id   tag  count_by_shop  count_by_item  \\\n",
       "0                    84.0   105          864.0            0.0   \n",
       "1                    84.0    -1          335.0            0.0   \n",
       "2                    84.0   989          335.0            0.0   \n",
       "3                    84.0    -1          335.0            0.0   \n",
       "4                    84.0   402          335.0            0.0   \n",
       "...                   ...   ...            ...            ...   \n",
       "7282795              84.0     6          417.0           22.0   \n",
       "7282796              84.0  1236         1017.0            6.0   \n",
       "7282797              84.0    -1          827.0            1.0   \n",
       "7282798              84.0    -1         5022.0            0.0   \n",
       "7282799              84.0   539         1141.0           15.0   \n",
       "\n",
       "         count_by_item_cat  ...  avg_shop_price  avg_item_price  \\\n",
       "0                      0.0  ...      759.885376      479.715179   \n",
       "1                      0.0  ...      661.685608      265.904755   \n",
       "2                      0.0  ...      661.685608      351.595245   \n",
       "3                      0.0  ...      661.685608       24.928572   \n",
       "4                      0.0  ...      661.685608     2654.801270   \n",
       "...                    ...  ...             ...             ...   \n",
       "7282795                0.0  ...      297.520966      115.142860   \n",
       "7282796                0.0  ...      521.088074      177.071426   \n",
       "7282797                0.0  ...      467.732544       16.642857   \n",
       "7282798                0.0  ...      747.882202      223.361908   \n",
       "7282799                0.0  ...      561.419495      254.142853   \n",
       "\n",
       "         avg_item_cat_price  avg_tag_price  month  shop_id_encoded  \\\n",
       "0                532.315430     403.214722      0         0.368899   \n",
       "1                532.315430     546.889038      0         0.193310   \n",
       "2                532.315430     351.595245      0         0.193310   \n",
       "3                532.315430     546.889038      0         0.193310   \n",
       "4                532.315430    2576.590088      0         0.193310   \n",
       "...                     ...            ...    ...              ...   \n",
       "7282795          393.984467     274.194641      9         0.071073   \n",
       "7282796          393.984467     177.071426      9         0.168408   \n",
       "7282797          393.984467     545.899170      9         0.062278   \n",
       "7282798          393.984467     545.899170      9         0.715461   \n",
       "7282799          393.984467     260.892853      9         0.194273   \n",
       "\n",
       "         item_id_encoded  item_category_id_encoded  month_encoded  tag_encoded  \n",
       "0               0.158263                       0.0       0.177745     0.258053  \n",
       "1               0.054622                       0.0       0.177745     0.170492  \n",
       "2               0.158263                       0.0       0.177745     0.158263  \n",
       "3               0.002101                       0.0       0.177745     0.170492  \n",
       "4               0.240896                       0.0       0.177745     1.151494  \n",
       "...                  ...                       ...            ...          ...  \n",
       "7282795         0.317227                       0.0       0.201570     0.193674  \n",
       "7282796         0.061625                       0.0       0.201570     0.061625  \n",
       "7282797         0.028011                       0.0       0.201570     0.170492  \n",
       "7282798         0.115546                       0.0       0.201570     0.170492  \n",
       "7282799         0.208683                       0.0       0.201570     0.262255  \n",
       "\n",
       "[7282800 rows x 25 columns]"
      ]
     },
     "execution_count": 241,
     "metadata": {},
     "output_type": "execute_result"
    }
   ],
   "source": [
    "def mean_encoding(df, cat_col, target_col):\n",
    "    encoder = df.groupby(cat_col)[target_col].mean()\n",
    "    return df[cat_col].map(encoder)\n",
    "data['shop_id_encoded'] = mean_encoding(data, 'shop_id', 'count')\n",
    "data['item_id_encoded'] = mean_encoding(data, 'item_id', 'count')\n",
    "data['item_category_id_encoded'] = mean_encoding(data, 'item_category_id', 'count')\n",
    "data['month_encoded'] = mean_encoding(data, 'month', 'count')\n",
    "data['tag_encoded'] = mean_encoding(data, 'tag', 'count')\n",
    "data"
   ]
  },
  {
   "cell_type": "markdown",
   "metadata": {},
   "source": [
    "### Generate comparion features"
   ]
  },
  {
   "cell_type": "code",
   "execution_count": 242,
   "metadata": {
    "ExecuteTime": {
     "end_time": "2020-09-26T14:47:18.988018Z",
     "start_time": "2020-09-26T14:47:08.981933Z"
    }
   },
   "outputs": [
    {
     "data": {
      "text/plain": [
       "143"
      ]
     },
     "execution_count": 242,
     "metadata": {},
     "output_type": "execute_result"
    }
   ],
   "source": [
    "lookback_num = 1\n",
    "comparison_cols = ['count']\n",
    "\n",
    "index_cols = ['shop_id', 'item_id', 'date_block_num']\n",
    "\n",
    "new_data = data[data['date_block_num'] >= lookback_num].sort_values(index_cols)\n",
    "\n",
    "month_shift_df = data[index_cols+comparison_cols].copy()\n",
    "month_shift_df['date_block_num'] = month_shift_df['date_block_num'] + lookback_num\n",
    "month_shift_df = month_shift_df[month_shift_df['date_block_num'] <= new_data['date_block_num'].max()]\n",
    "month_shift_df.sort_values(index_cols, inplace=True)\n",
    "\n",
    "diff_cols = [f'd{lookback_num}_{col}' for col in comparison_cols]\n",
    "diff_mat = new_data[comparison_cols].values - month_shift_df[comparison_cols].values\n",
    "\n",
    "new_data[diff_cols] = pd.DataFrame(diff_mat, columns=diff_cols, index=new_data.index)\n",
    "\n",
    "data = new_data\n",
    "del new_data, month_shift_df, diff_mat\n",
    "gc.collect()"
   ]
  },
  {
   "cell_type": "code",
   "execution_count": null,
   "metadata": {
    "ExecuteTime": {
     "end_time": "2020-09-26T12:29:04.767177Z",
     "start_time": "2020-09-26T12:29:04.360419Z"
    }
   },
   "outputs": [],
   "source": []
  },
  {
   "cell_type": "markdown",
   "metadata": {},
   "source": [
    "### Define categorical columns"
   ]
  },
  {
   "cell_type": "code",
   "execution_count": 243,
   "metadata": {
    "ExecuteTime": {
     "end_time": "2020-09-26T14:47:28.423531Z",
     "start_time": "2020-09-26T14:47:28.420725Z"
    }
   },
   "outputs": [],
   "source": [
    "category_cols = ['shop_id', 'item_id', 'date_block_num', 'item_category_id', 'month', 'tag']"
   ]
  },
  {
   "cell_type": "markdown",
   "metadata": {},
   "source": [
    "### Reduce outlier"
   ]
  },
  {
   "cell_type": "code",
   "execution_count": 244,
   "metadata": {
    "ExecuteTime": {
     "end_time": "2020-09-26T14:47:38.817205Z",
     "start_time": "2020-09-26T14:47:37.329526Z"
    }
   },
   "outputs": [],
   "source": [
    "# _data = data.copy()\n",
    "cols = ['avg_item_price', 'avg_item_price', 'count_by_item',\n",
    "        'count_by_item_cat', 'item_category_id_encoded', 'item_id_encoded',\n",
    "        'item_price']\n",
    "data[cols] = np.log1p(data[cols])"
   ]
  },
  {
   "cell_type": "markdown",
   "metadata": {},
   "source": [
    "### Standardization"
   ]
  },
  {
   "cell_type": "code",
   "execution_count": 245,
   "metadata": {
    "ExecuteTime": {
     "end_time": "2020-09-26T14:47:45.749199Z",
     "start_time": "2020-09-26T14:47:45.745634Z"
    }
   },
   "outputs": [],
   "source": [
    "# standard_cols = ['item_price', 'count', 'count_by_shop', 'count_by_item',\n",
    "#                  'count_by_item_cat', 'avg_shop_price', 'avg_item_price', 'avg_item_cat_price',\n",
    "#                  'shop_id_encoded', 'item_id_encoded', 'item_category_id_encoded', 'month_encoded'\n",
    "#                  ]\n",
    "standard_cols = list(data.columns.difference(category_cols)) + diff_cols\n",
    "standard_cols = list(filter(lambda col: col in data.columns, standard_cols))"
   ]
  },
  {
   "cell_type": "code",
   "execution_count": 246,
   "metadata": {
    "ExecuteTime": {
     "end_time": "2020-09-26T14:48:35.139662Z",
     "start_time": "2020-09-26T14:47:52.633531Z"
    }
   },
   "outputs": [
    {
     "data": {
      "text/html": [
       "<div>\n",
       "<style scoped>\n",
       "    .dataframe tbody tr th:only-of-type {\n",
       "        vertical-align: middle;\n",
       "    }\n",
       "\n",
       "    .dataframe tbody tr th {\n",
       "        vertical-align: top;\n",
       "    }\n",
       "\n",
       "    .dataframe thead th {\n",
       "        text-align: right;\n",
       "    }\n",
       "</style>\n",
       "<table border=\"1\" class=\"dataframe\">\n",
       "  <thead>\n",
       "    <tr style=\"text-align: right;\">\n",
       "      <th></th>\n",
       "      <th>shop_id</th>\n",
       "      <th>item_id</th>\n",
       "      <th>date_block_num</th>\n",
       "      <th>item_price</th>\n",
       "      <th>count</th>\n",
       "      <th>item_category_id</th>\n",
       "      <th>tag</th>\n",
       "      <th>count_by_shop</th>\n",
       "      <th>count_by_item</th>\n",
       "      <th>count_by_item_cat</th>\n",
       "      <th>...</th>\n",
       "      <th>avg_item_cat_price</th>\n",
       "      <th>avg_tag_price</th>\n",
       "      <th>month</th>\n",
       "      <th>shop_id_encoded</th>\n",
       "      <th>item_id_encoded</th>\n",
       "      <th>item_category_id_encoded</th>\n",
       "      <th>month_encoded</th>\n",
       "      <th>tag_encoded</th>\n",
       "      <th>d1_count</th>\n",
       "      <th>d1_item_price</th>\n",
       "    </tr>\n",
       "  </thead>\n",
       "  <tbody>\n",
       "    <tr>\n",
       "      <th>283985</th>\n",
       "      <td>2</td>\n",
       "      <td>30</td>\n",
       "      <td>1</td>\n",
       "      <td>0.795420</td>\n",
       "      <td>-0.181299</td>\n",
       "      <td>84.0</td>\n",
       "      <td>11</td>\n",
       "      <td>-1.029350</td>\n",
       "      <td>3.880895</td>\n",
       "      <td>-0.298502</td>\n",
       "      <td>...</td>\n",
       "      <td>0.013194</td>\n",
       "      <td>-0.082234</td>\n",
       "      <td>1</td>\n",
       "      <td>-0.664452</td>\n",
       "      <td>2.286491</td>\n",
       "      <td>-0.294470</td>\n",
       "      <td>-0.531336</td>\n",
       "      <td>2.572791</td>\n",
       "      <td>-0.005587</td>\n",
       "      <td>0.015983</td>\n",
       "    </tr>\n",
       "    <tr>\n",
       "      <th>503944</th>\n",
       "      <td>2</td>\n",
       "      <td>30</td>\n",
       "      <td>2</td>\n",
       "      <td>0.795420</td>\n",
       "      <td>0.769520</td>\n",
       "      <td>40.0</td>\n",
       "      <td>11</td>\n",
       "      <td>-0.907519</td>\n",
       "      <td>3.657884</td>\n",
       "      <td>3.468546</td>\n",
       "      <td>...</td>\n",
       "      <td>-0.705369</td>\n",
       "      <td>-0.072971</td>\n",
       "      <td>2</td>\n",
       "      <td>-0.664452</td>\n",
       "      <td>2.286491</td>\n",
       "      <td>3.095967</td>\n",
       "      <td>-0.112107</td>\n",
       "      <td>2.572791</td>\n",
       "      <td>1.113498</td>\n",
       "      <td>0.015983</td>\n",
       "    </tr>\n",
       "    <tr>\n",
       "      <th>818932</th>\n",
       "      <td>2</td>\n",
       "      <td>30</td>\n",
       "      <td>3</td>\n",
       "      <td>0.795420</td>\n",
       "      <td>-0.181299</td>\n",
       "      <td>84.0</td>\n",
       "      <td>11</td>\n",
       "      <td>-0.988740</td>\n",
       "      <td>2.875933</td>\n",
       "      <td>-0.298502</td>\n",
       "      <td>...</td>\n",
       "      <td>0.012144</td>\n",
       "      <td>-0.072760</td>\n",
       "      <td>3</td>\n",
       "      <td>-0.664452</td>\n",
       "      <td>2.286491</td>\n",
       "      <td>-0.294470</td>\n",
       "      <td>-0.913039</td>\n",
       "      <td>2.572791</td>\n",
       "      <td>-1.124672</td>\n",
       "      <td>0.015983</td>\n",
       "    </tr>\n",
       "    <tr>\n",
       "      <th>986319</th>\n",
       "      <td>2</td>\n",
       "      <td>30</td>\n",
       "      <td>4</td>\n",
       "      <td>0.795420</td>\n",
       "      <td>-0.181299</td>\n",
       "      <td>84.0</td>\n",
       "      <td>11</td>\n",
       "      <td>-1.001046</td>\n",
       "      <td>2.238173</td>\n",
       "      <td>-0.298502</td>\n",
       "      <td>...</td>\n",
       "      <td>0.013452</td>\n",
       "      <td>-0.072650</td>\n",
       "      <td>4</td>\n",
       "      <td>-0.664452</td>\n",
       "      <td>2.286491</td>\n",
       "      <td>-0.294470</td>\n",
       "      <td>-0.775432</td>\n",
       "      <td>2.572791</td>\n",
       "      <td>-0.005587</td>\n",
       "      <td>0.015983</td>\n",
       "    </tr>\n",
       "    <tr>\n",
       "      <th>1185051</th>\n",
       "      <td>2</td>\n",
       "      <td>30</td>\n",
       "      <td>5</td>\n",
       "      <td>0.827835</td>\n",
       "      <td>0.769520</td>\n",
       "      <td>40.0</td>\n",
       "      <td>11</td>\n",
       "      <td>-0.912442</td>\n",
       "      <td>2.254603</td>\n",
       "      <td>3.425041</td>\n",
       "      <td>...</td>\n",
       "      <td>-0.755266</td>\n",
       "      <td>-0.071772</td>\n",
       "      <td>5</td>\n",
       "      <td>-0.664452</td>\n",
       "      <td>2.286491</td>\n",
       "      <td>3.095967</td>\n",
       "      <td>-0.491343</td>\n",
       "      <td>2.572791</td>\n",
       "      <td>1.113498</td>\n",
       "      <td>0.574144</td>\n",
       "    </tr>\n",
       "    <tr>\n",
       "      <th>...</th>\n",
       "      <td>...</td>\n",
       "      <td>...</td>\n",
       "      <td>...</td>\n",
       "      <td>...</td>\n",
       "      <td>...</td>\n",
       "      <td>...</td>\n",
       "      <td>...</td>\n",
       "      <td>...</td>\n",
       "      <td>...</td>\n",
       "      <td>...</td>\n",
       "      <td>...</td>\n",
       "      <td>...</td>\n",
       "      <td>...</td>\n",
       "      <td>...</td>\n",
       "      <td>...</td>\n",
       "      <td>...</td>\n",
       "      <td>...</td>\n",
       "      <td>...</td>\n",
       "      <td>...</td>\n",
       "      <td>...</td>\n",
       "      <td>...</td>\n",
       "    </tr>\n",
       "    <tr>\n",
       "      <th>6288340</th>\n",
       "      <td>59</td>\n",
       "      <td>22167</td>\n",
       "      <td>29</td>\n",
       "      <td>0.739328</td>\n",
       "      <td>-0.181299</td>\n",
       "      <td>84.0</td>\n",
       "      <td>-1</td>\n",
       "      <td>-0.222068</td>\n",
       "      <td>1.936669</td>\n",
       "      <td>-0.298502</td>\n",
       "      <td>...</td>\n",
       "      <td>-0.174684</td>\n",
       "      <td>0.044558</td>\n",
       "      <td>5</td>\n",
       "      <td>-0.357416</td>\n",
       "      <td>1.935428</td>\n",
       "      <td>-0.294470</td>\n",
       "      <td>-0.491343</td>\n",
       "      <td>-0.070822</td>\n",
       "      <td>-0.005587</td>\n",
       "      <td>0.015983</td>\n",
       "    </tr>\n",
       "    <tr>\n",
       "      <th>6508130</th>\n",
       "      <td>59</td>\n",
       "      <td>22167</td>\n",
       "      <td>30</td>\n",
       "      <td>0.739328</td>\n",
       "      <td>-0.181299</td>\n",
       "      <td>84.0</td>\n",
       "      <td>-1</td>\n",
       "      <td>-0.118696</td>\n",
       "      <td>2.007239</td>\n",
       "      <td>-0.298502</td>\n",
       "      <td>...</td>\n",
       "      <td>-0.175949</td>\n",
       "      <td>0.045271</td>\n",
       "      <td>6</td>\n",
       "      <td>-0.357416</td>\n",
       "      <td>1.935428</td>\n",
       "      <td>-0.294470</td>\n",
       "      <td>-0.403757</td>\n",
       "      <td>-0.070822</td>\n",
       "      <td>-0.005587</td>\n",
       "      <td>0.015983</td>\n",
       "    </tr>\n",
       "    <tr>\n",
       "      <th>6730451</th>\n",
       "      <td>59</td>\n",
       "      <td>22167</td>\n",
       "      <td>31</td>\n",
       "      <td>0.739328</td>\n",
       "      <td>-0.181299</td>\n",
       "      <td>84.0</td>\n",
       "      <td>-1</td>\n",
       "      <td>0.113889</td>\n",
       "      <td>1.911619</td>\n",
       "      <td>-0.298502</td>\n",
       "      <td>...</td>\n",
       "      <td>-0.213055</td>\n",
       "      <td>0.039897</td>\n",
       "      <td>7</td>\n",
       "      <td>-0.357416</td>\n",
       "      <td>1.935428</td>\n",
       "      <td>-0.294470</td>\n",
       "      <td>0.314206</td>\n",
       "      <td>-0.070822</td>\n",
       "      <td>-0.005587</td>\n",
       "      <td>0.015983</td>\n",
       "    </tr>\n",
       "    <tr>\n",
       "      <th>6953903</th>\n",
       "      <td>59</td>\n",
       "      <td>22167</td>\n",
       "      <td>32</td>\n",
       "      <td>0.739328</td>\n",
       "      <td>-0.181299</td>\n",
       "      <td>84.0</td>\n",
       "      <td>-1</td>\n",
       "      <td>-0.142078</td>\n",
       "      <td>1.674670</td>\n",
       "      <td>-0.298502</td>\n",
       "      <td>...</td>\n",
       "      <td>-0.253714</td>\n",
       "      <td>0.036288</td>\n",
       "      <td>8</td>\n",
       "      <td>-0.357416</td>\n",
       "      <td>1.935428</td>\n",
       "      <td>-0.294470</td>\n",
       "      <td>0.069234</td>\n",
       "      <td>-0.070822</td>\n",
       "      <td>-0.005587</td>\n",
       "      <td>0.015983</td>\n",
       "    </tr>\n",
       "    <tr>\n",
       "      <th>7254217</th>\n",
       "      <td>59</td>\n",
       "      <td>22167</td>\n",
       "      <td>33</td>\n",
       "      <td>0.739328</td>\n",
       "      <td>-0.181299</td>\n",
       "      <td>84.0</td>\n",
       "      <td>-1</td>\n",
       "      <td>-0.250372</td>\n",
       "      <td>2.092212</td>\n",
       "      <td>-0.298502</td>\n",
       "      <td>...</td>\n",
       "      <td>-0.300506</td>\n",
       "      <td>0.037931</td>\n",
       "      <td>9</td>\n",
       "      <td>-0.357416</td>\n",
       "      <td>1.935428</td>\n",
       "      <td>-0.294470</td>\n",
       "      <td>0.345842</td>\n",
       "      <td>-0.070822</td>\n",
       "      <td>-0.005587</td>\n",
       "      <td>0.015983</td>\n",
       "    </tr>\n",
       "  </tbody>\n",
       "</table>\n",
       "<p>7068600 rows × 27 columns</p>\n",
       "</div>"
      ],
      "text/plain": [
       "         shop_id  item_id  date_block_num  item_price     count  \\\n",
       "283985         2       30               1    0.795420 -0.181299   \n",
       "503944         2       30               2    0.795420  0.769520   \n",
       "818932         2       30               3    0.795420 -0.181299   \n",
       "986319         2       30               4    0.795420 -0.181299   \n",
       "1185051        2       30               5    0.827835  0.769520   \n",
       "...          ...      ...             ...         ...       ...   \n",
       "6288340       59    22167              29    0.739328 -0.181299   \n",
       "6508130       59    22167              30    0.739328 -0.181299   \n",
       "6730451       59    22167              31    0.739328 -0.181299   \n",
       "6953903       59    22167              32    0.739328 -0.181299   \n",
       "7254217       59    22167              33    0.739328 -0.181299   \n",
       "\n",
       "         item_category_id  tag  count_by_shop  count_by_item  \\\n",
       "283985               84.0   11      -1.029350       3.880895   \n",
       "503944               40.0   11      -0.907519       3.657884   \n",
       "818932               84.0   11      -0.988740       2.875933   \n",
       "986319               84.0   11      -1.001046       2.238173   \n",
       "1185051              40.0   11      -0.912442       2.254603   \n",
       "...                   ...  ...            ...            ...   \n",
       "6288340              84.0   -1      -0.222068       1.936669   \n",
       "6508130              84.0   -1      -0.118696       2.007239   \n",
       "6730451              84.0   -1       0.113889       1.911619   \n",
       "6953903              84.0   -1      -0.142078       1.674670   \n",
       "7254217              84.0   -1      -0.250372       2.092212   \n",
       "\n",
       "         count_by_item_cat  ...  avg_item_cat_price  avg_tag_price  month  \\\n",
       "283985           -0.298502  ...            0.013194      -0.082234      1   \n",
       "503944            3.468546  ...           -0.705369      -0.072971      2   \n",
       "818932           -0.298502  ...            0.012144      -0.072760      3   \n",
       "986319           -0.298502  ...            0.013452      -0.072650      4   \n",
       "1185051           3.425041  ...           -0.755266      -0.071772      5   \n",
       "...                    ...  ...                 ...            ...    ...   \n",
       "6288340          -0.298502  ...           -0.174684       0.044558      5   \n",
       "6508130          -0.298502  ...           -0.175949       0.045271      6   \n",
       "6730451          -0.298502  ...           -0.213055       0.039897      7   \n",
       "6953903          -0.298502  ...           -0.253714       0.036288      8   \n",
       "7254217          -0.298502  ...           -0.300506       0.037931      9   \n",
       "\n",
       "         shop_id_encoded  item_id_encoded  item_category_id_encoded  \\\n",
       "283985         -0.664452         2.286491                 -0.294470   \n",
       "503944         -0.664452         2.286491                  3.095967   \n",
       "818932         -0.664452         2.286491                 -0.294470   \n",
       "986319         -0.664452         2.286491                 -0.294470   \n",
       "1185051        -0.664452         2.286491                  3.095967   \n",
       "...                  ...              ...                       ...   \n",
       "6288340        -0.357416         1.935428                 -0.294470   \n",
       "6508130        -0.357416         1.935428                 -0.294470   \n",
       "6730451        -0.357416         1.935428                 -0.294470   \n",
       "6953903        -0.357416         1.935428                 -0.294470   \n",
       "7254217        -0.357416         1.935428                 -0.294470   \n",
       "\n",
       "         month_encoded  tag_encoded  d1_count  d1_item_price  \n",
       "283985       -0.531336     2.572791 -0.005587       0.015983  \n",
       "503944       -0.112107     2.572791  1.113498       0.015983  \n",
       "818932       -0.913039     2.572791 -1.124672       0.015983  \n",
       "986319       -0.775432     2.572791 -0.005587       0.015983  \n",
       "1185051      -0.491343     2.572791  1.113498       0.574144  \n",
       "...                ...          ...       ...            ...  \n",
       "6288340      -0.491343    -0.070822 -0.005587       0.015983  \n",
       "6508130      -0.403757    -0.070822 -0.005587       0.015983  \n",
       "6730451       0.314206    -0.070822 -0.005587       0.015983  \n",
       "6953903       0.069234    -0.070822 -0.005587       0.015983  \n",
       "7254217       0.345842    -0.070822 -0.005587       0.015983  \n",
       "\n",
       "[7068600 rows x 27 columns]"
      ]
     },
     "execution_count": 246,
     "metadata": {},
     "output_type": "execute_result"
    }
   ],
   "source": [
    "scaler = StandardScaler()\n",
    "data.loc[:, standard_cols] = scaler.fit_transform(data[standard_cols])\n",
    "data = downcast_dataframe(data)\n",
    "data"
   ]
  },
  {
   "cell_type": "code",
   "execution_count": 247,
   "metadata": {
    "ExecuteTime": {
     "end_time": "2020-09-26T14:48:43.815126Z",
     "start_time": "2020-09-26T14:48:43.798660Z"
    }
   },
   "outputs": [
    {
     "data": {
      "text/html": [
       "<div>\n",
       "<style scoped>\n",
       "    .dataframe tbody tr th:only-of-type {\n",
       "        vertical-align: middle;\n",
       "    }\n",
       "\n",
       "    .dataframe tbody tr th {\n",
       "        vertical-align: top;\n",
       "    }\n",
       "\n",
       "    .dataframe thead th {\n",
       "        text-align: right;\n",
       "    }\n",
       "</style>\n",
       "<table border=\"1\" class=\"dataframe\">\n",
       "  <thead>\n",
       "    <tr style=\"text-align: right;\">\n",
       "      <th></th>\n",
       "      <th>mean</th>\n",
       "      <th>var</th>\n",
       "    </tr>\n",
       "  </thead>\n",
       "  <tbody>\n",
       "    <tr>\n",
       "      <th>avg_item_cat_price</th>\n",
       "      <td>525.220528</td>\n",
       "      <td>1.907219e+05</td>\n",
       "    </tr>\n",
       "    <tr>\n",
       "      <th>avg_item_price</th>\n",
       "      <td>4.977768</td>\n",
       "      <td>4.169907e+00</td>\n",
       "    </tr>\n",
       "    <tr>\n",
       "      <th>avg_shop_price</th>\n",
       "      <td>525.220527</td>\n",
       "      <td>2.193467e+04</td>\n",
       "    </tr>\n",
       "    <tr>\n",
       "      <th>avg_tag_price</th>\n",
       "      <td>525.220526</td>\n",
       "      <td>2.971982e+05</td>\n",
       "    </tr>\n",
       "    <tr>\n",
       "      <th>count</th>\n",
       "      <td>0.190677</td>\n",
       "      <td>1.106124e+00</td>\n",
       "    </tr>\n",
       "    <tr>\n",
       "      <th>count_avg_by_item</th>\n",
       "      <td>0.190677</td>\n",
       "      <td>5.623970e-01</td>\n",
       "    </tr>\n",
       "    <tr>\n",
       "      <th>count_avg_by_item_cat</th>\n",
       "      <td>0.190677</td>\n",
       "      <td>5.625722e-01</td>\n",
       "    </tr>\n",
       "    <tr>\n",
       "      <th>count_avg_by_shop</th>\n",
       "      <td>0.190677</td>\n",
       "      <td>2.538731e-02</td>\n",
       "    </tr>\n",
       "    <tr>\n",
       "      <th>count_avg_by_tag</th>\n",
       "      <td>0.190677</td>\n",
       "      <td>1.502909e-01</td>\n",
       "    </tr>\n",
       "    <tr>\n",
       "      <th>count_by_item</th>\n",
       "      <td>0.898980</td>\n",
       "      <td>1.713355e+00</td>\n",
       "    </tr>\n",
       "    <tr>\n",
       "      <th>count_by_item_cat</th>\n",
       "      <td>0.635764</td>\n",
       "      <td>4.536235e+00</td>\n",
       "    </tr>\n",
       "    <tr>\n",
       "      <th>count_by_shop</th>\n",
       "      <td>972.453102</td>\n",
       "      <td>6.603239e+05</td>\n",
       "    </tr>\n",
       "    <tr>\n",
       "      <th>count_by_tag</th>\n",
       "      <td>9332.931212</td>\n",
       "      <td>7.616154e+07</td>\n",
       "    </tr>\n",
       "    <tr>\n",
       "      <th>d1_count</th>\n",
       "      <td>0.004992</td>\n",
       "      <td>7.984980e-01</td>\n",
       "    </tr>\n",
       "    <tr>\n",
       "      <th>d1_item_price</th>\n",
       "      <td>-1.145392</td>\n",
       "      <td>5.135705e+03</td>\n",
       "    </tr>\n",
       "    <tr>\n",
       "      <th>item_category_id_encoded</th>\n",
       "      <td>0.096251</td>\n",
       "      <td>1.068373e-01</td>\n",
       "    </tr>\n",
       "    <tr>\n",
       "      <th>item_id_encoded</th>\n",
       "      <td>0.138617</td>\n",
       "      <td>4.885224e-02</td>\n",
       "    </tr>\n",
       "    <tr>\n",
       "      <th>item_price</th>\n",
       "      <td>3.300684</td>\n",
       "      <td>1.056498e+01</td>\n",
       "    </tr>\n",
       "    <tr>\n",
       "      <th>month_encoded</th>\n",
       "      <td>0.188046</td>\n",
       "      <td>1.529273e-03</td>\n",
       "    </tr>\n",
       "    <tr>\n",
       "      <th>shop_id_encoded</th>\n",
       "      <td>0.187743</td>\n",
       "      <td>1.731666e-02</td>\n",
       "    </tr>\n",
       "    <tr>\n",
       "      <th>tag_encoded</th>\n",
       "      <td>0.187743</td>\n",
       "      <td>5.933170e-02</td>\n",
       "    </tr>\n",
       "    <tr>\n",
       "      <th>d1_count</th>\n",
       "      <td>0.004992</td>\n",
       "      <td>7.984980e-01</td>\n",
       "    </tr>\n",
       "    <tr>\n",
       "      <th>d1_item_price</th>\n",
       "      <td>-1.145392</td>\n",
       "      <td>5.135705e+03</td>\n",
       "    </tr>\n",
       "  </tbody>\n",
       "</table>\n",
       "</div>"
      ],
      "text/plain": [
       "                                 mean           var\n",
       "avg_item_cat_price         525.220528  1.907219e+05\n",
       "avg_item_price               4.977768  4.169907e+00\n",
       "avg_shop_price             525.220527  2.193467e+04\n",
       "avg_tag_price              525.220526  2.971982e+05\n",
       "count                        0.190677  1.106124e+00\n",
       "count_avg_by_item            0.190677  5.623970e-01\n",
       "count_avg_by_item_cat        0.190677  5.625722e-01\n",
       "count_avg_by_shop            0.190677  2.538731e-02\n",
       "count_avg_by_tag             0.190677  1.502909e-01\n",
       "count_by_item                0.898980  1.713355e+00\n",
       "count_by_item_cat            0.635764  4.536235e+00\n",
       "count_by_shop              972.453102  6.603239e+05\n",
       "count_by_tag              9332.931212  7.616154e+07\n",
       "d1_count                     0.004992  7.984980e-01\n",
       "d1_item_price               -1.145392  5.135705e+03\n",
       "item_category_id_encoded     0.096251  1.068373e-01\n",
       "item_id_encoded              0.138617  4.885224e-02\n",
       "item_price                   3.300684  1.056498e+01\n",
       "month_encoded                0.188046  1.529273e-03\n",
       "shop_id_encoded              0.187743  1.731666e-02\n",
       "tag_encoded                  0.187743  5.933170e-02\n",
       "d1_count                     0.004992  7.984980e-01\n",
       "d1_item_price               -1.145392  5.135705e+03"
      ]
     },
     "execution_count": 247,
     "metadata": {},
     "output_type": "execute_result"
    }
   ],
   "source": [
    "def inverse_scaling(prediction, col):\n",
    "    mean, var = scaler_params.loc[col].tolist()\n",
    "    prediction = prediction * np.sqrt(var) + mean\n",
    "    return prediction\n",
    "scaler_params = pd.DataFrame([scaler.mean_, scaler.var_], columns=standard_cols, index=['mean', 'var']).T\n",
    "scaler_params"
   ]
  },
  {
   "cell_type": "markdown",
   "metadata": {},
   "source": [
    "### Generate past-features"
   ]
  },
  {
   "cell_type": "code",
   "execution_count": 248,
   "metadata": {
    "ExecuteTime": {
     "end_time": "2020-09-26T14:48:50.505137Z",
     "start_time": "2020-09-26T14:48:50.502205Z"
    }
   },
   "outputs": [],
   "source": [
    "timeserie_cols = [\n",
    "    'item_price', 'count', \n",
    "    'count_by_shop', 'count_by_item', 'count_by_item_cat', 'count_by_tag',\n",
    "    'count_avg_by_shop', 'count_avg_by_item', 'count_avg_by_item_cat', 'count_avg_by_tag',\n",
    "    'avg_shop_price', 'avg_item_price', 'avg_item_cat_price', 'avg_tag_price',\n",
    "    'month_encoded'\n",
    "] + diff_cols"
   ]
  },
  {
   "cell_type": "code",
   "execution_count": 249,
   "metadata": {
    "ExecuteTime": {
     "end_time": "2020-09-26T14:48:56.900569Z",
     "start_time": "2020-09-26T14:48:56.892888Z"
    }
   },
   "outputs": [],
   "source": [
    "\n",
    "def generate_past_features(data, lookback_steps):\n",
    "    index_cols = ['shop_id', 'item_id', 'date_block_num']\n",
    "\n",
    "    new_data = data[data['date_block_num'] >= max(lookback_steps)+data['date_block_num'].min()]\n",
    "\n",
    "    for lookback_num in tqdm(lookback_steps):\n",
    "        month_shift_df = data.copy()\n",
    "        month_shift_df['date_block_num'] = month_shift_df['date_block_num'] + lookback_num\n",
    "\n",
    "        lookback_cols = [f'p{lookback_num}_{col}' for col in timeserie_cols]\n",
    "        month_shift_df.rename(columns={old_col: new_col for old_col, new_col in zip(timeserie_cols, lookback_cols)}, inplace=True)\n",
    "        month_shift_df = month_shift_df[month_shift_df.columns.sort_values()]\n",
    "        new_data = new_data.merge(\n",
    "            month_shift_df[index_cols+lookback_cols], how='left', on=index_cols)\n",
    "    return new_data"
   ]
  },
  {
   "cell_type": "markdown",
   "metadata": {},
   "source": [
    "### Cross validation split"
   ]
  },
  {
   "cell_type": "code",
   "execution_count": 282,
   "metadata": {
    "ExecuteTime": {
     "end_time": "2020-09-26T15:28:46.453815Z",
     "start_time": "2020-09-26T15:28:07.078626Z"
    }
   },
   "outputs": [
    {
     "name": "stderr",
     "output_type": "stream",
     "text": [
      "100%|██████████| 5/5 [00:33<00:00,  6.76s/it]\n"
     ]
    }
   ],
   "source": [
    "\n",
    "lookback_steps = np.array([1, 2, 3, 4, 5,])\n",
    "# lookback_steps = np.array([1, 2, 3, 6, 9,])\n",
    "train_data = generate_past_features(data, lookback_steps)\n",
    "target_col = 'count'\n",
    "feature_cols = train_data.columns.difference(\n",
    "    [target_col, 'date_block_num', 'item_price',\n",
    "     'count_by_shop', 'count_by_item', 'count_by_item_cat', 'count_by_tag',\n",
    "     'count_avg_by_shop', 'count_avg_by_item', 'count_avg_by_item_cat', 'count_avg_by_tag',\n",
    "     'avg_shop_price', 'avg_item_price', 'avg_item_cat_price', 'avg_tag_price',\n",
    "     'shop_id', 'item_id', 'item_category_id', 'month', 'tag',\n",
    "#      'shop_id_encoded', 'item_id_encoded', 'item_category_id_encoded', 'month_encoded'\n",
    "    ]+diff_cols).sort_values().to_list()\n",
    "\n",
    "X = train_data[feature_cols]\n",
    "Y = train_data[target_col]\n",
    "\n",
    "\n"
   ]
  },
  {
   "cell_type": "code",
   "execution_count": 283,
   "metadata": {
    "ExecuteTime": {
     "end_time": "2020-09-26T15:29:03.421182Z",
     "start_time": "2020-09-26T15:28:57.098980Z"
    }
   },
   "outputs": [],
   "source": [
    "val_blocks = [33]\n",
    "\n",
    "train_indice = (train_data['date_block_num'] >= 0) & (train_data['date_block_num'] < min(val_blocks))\n",
    "val_indice = train_data['date_block_num'].isin(val_blocks)\n",
    "\n",
    "\n",
    "X_train = train_data.loc[train_indice, feature_cols]\n",
    "Y_train = train_data.loc[train_indice, target_col]\n",
    "\n",
    "X_val = train_data.loc[val_indice, feature_cols]\n",
    "Y_val = train_data.loc[val_indice, target_col]\n"
   ]
  },
  {
   "cell_type": "code",
   "execution_count": 284,
   "metadata": {
    "ExecuteTime": {
     "end_time": "2020-09-26T15:29:22.341338Z",
     "start_time": "2020-09-26T15:29:13.302346Z"
    }
   },
   "outputs": [
    {
     "name": "stdout",
     "output_type": "stream",
     "text": [
      "fold 1 train [ 6  7  8  9 10]\n",
      "fold 1 val [11 12 13 14 15]\n",
      "fold 2 train [ 6  7  8  9 10 11 12 13 14 15]\n",
      "fold 2 val [16 17 18 19 20]\n",
      "fold 3 train [ 6  7  8  9 10 11 12 13 14 15 16 17 18 19 20]\n",
      "fold 3 val [21 22 23 24 25]\n",
      "fold 4 train [ 6  7  8  9 10 11 12 13 14 15 16 17 18 19 20 21 22 23 24 25]\n",
      "fold 4 val [26 27 28 29 30]\n",
      "fold 5 train [ 6  7  8  9 10 11 12 13 14 15 16 17 18 19 20 21 22 23 24 25 26 27 28 29\n",
      " 30]\n",
      "fold 5 val [31 32 33]\n"
     ]
    }
   ],
   "source": [
    "K = 5\n",
    "\n",
    "fold_size = (train_data['date_block_num'].max() - train_data['date_block_num'].min()) // K\n",
    "\n",
    "train_indices = []\n",
    "val_indicies = []\n",
    "\n",
    "start_date_num = train_data['date_block_num'].min()\n",
    "for i in range(1, K+1):\n",
    "    train_indice = np.where(train_data['date_block_num'] < start_date_num + i*fold_size)[0]\n",
    "    print('fold', i, 'train', train_data.iloc[train_indice]['date_block_num'].unique())\n",
    "    val_indice = np.where(train_data['date_block_num'].isin(start_date_num + np.arange(i*fold_size, (i+1)*fold_size)))[0]\n",
    "    print('fold', i, 'val', train_data.iloc[val_indice]['date_block_num'].unique())\n",
    "    \n",
    "    train_indices.append(train_indice)\n",
    "    val_indicies.append(val_indice)\n",
    "Kfold = list(zip(train_indices, val_indicies))"
   ]
  },
  {
   "cell_type": "code",
   "execution_count": 285,
   "metadata": {
    "ExecuteTime": {
     "end_time": "2020-09-26T15:29:33.754260Z",
     "start_time": "2020-09-26T15:29:32.531427Z"
    }
   },
   "outputs": [
    {
     "data": {
      "text/plain": [
       "7758"
      ]
     },
     "execution_count": 285,
     "metadata": {},
     "output_type": "execute_result"
    }
   ],
   "source": [
    "del train_data\n",
    "gc.collect()"
   ]
  },
  {
   "cell_type": "code",
   "execution_count": 286,
   "metadata": {
    "ExecuteTime": {
     "end_time": "2020-09-26T15:29:43.293053Z",
     "start_time": "2020-09-26T15:29:40.665291Z"
    }
   },
   "outputs": [
    {
     "name": "stderr",
     "output_type": "stream",
     "text": [
      "100%|██████████| 5/5 [00:01<00:00,  2.65it/s]\n"
     ]
    }
   ],
   "source": [
    "test_lookback_steps = lookback_steps - 1\n",
    "\n",
    "test_block = data['date_block_num'].max()\n",
    "test_data = data[data['date_block_num'] >= test_block - max(test_lookback_steps)]\n",
    "test_data = generate_past_features(test_data, test_lookback_steps)\n",
    "test_data = test_data[test_data['date_block_num'] == test_block]\n",
    "test_data = test_df.merge(test_data, how='left', on=['shop_id', 'item_id'])\n"
   ]
  },
  {
   "cell_type": "code",
   "execution_count": 287,
   "metadata": {
    "ExecuteTime": {
     "end_time": "2020-09-26T15:29:51.317559Z",
     "start_time": "2020-09-26T15:29:50.951707Z"
    }
   },
   "outputs": [
    {
     "data": {
      "text/html": [
       "<div>\n",
       "<style scoped>\n",
       "    .dataframe tbody tr th:only-of-type {\n",
       "        vertical-align: middle;\n",
       "    }\n",
       "\n",
       "    .dataframe tbody tr th {\n",
       "        vertical-align: top;\n",
       "    }\n",
       "\n",
       "    .dataframe thead th {\n",
       "        text-align: right;\n",
       "    }\n",
       "</style>\n",
       "<table border=\"1\" class=\"dataframe\">\n",
       "  <thead>\n",
       "    <tr style=\"text-align: right;\">\n",
       "      <th></th>\n",
       "      <th>item_category_id_encoded</th>\n",
       "      <th>item_id_encoded</th>\n",
       "      <th>month_encoded</th>\n",
       "      <th>p0_avg_item_cat_price</th>\n",
       "      <th>p0_avg_item_price</th>\n",
       "      <th>p0_avg_shop_price</th>\n",
       "      <th>p0_avg_tag_price</th>\n",
       "      <th>p0_count</th>\n",
       "      <th>p0_count_avg_by_item</th>\n",
       "      <th>p0_count_avg_by_item_cat</th>\n",
       "      <th>...</th>\n",
       "      <th>p4_count_by_item</th>\n",
       "      <th>p4_count_by_item_cat</th>\n",
       "      <th>p4_count_by_shop</th>\n",
       "      <th>p4_count_by_tag</th>\n",
       "      <th>p4_d1_count</th>\n",
       "      <th>p4_d1_item_price</th>\n",
       "      <th>p4_item_price</th>\n",
       "      <th>p4_month_encoded</th>\n",
       "      <th>shop_id_encoded</th>\n",
       "      <th>tag_encoded</th>\n",
       "    </tr>\n",
       "  </thead>\n",
       "  <tbody>\n",
       "    <tr>\n",
       "      <th>0</th>\n",
       "      <td>-0.294470</td>\n",
       "      <td>2.020930</td>\n",
       "      <td>0.345842</td>\n",
       "      <td>-0.300506</td>\n",
       "      <td>1.008611</td>\n",
       "      <td>-0.413667</td>\n",
       "      <td>2.228174</td>\n",
       "      <td>-0.181299</td>\n",
       "      <td>0.539464</td>\n",
       "      <td>-0.254220</td>\n",
       "      <td>...</td>\n",
       "      <td>2.800231</td>\n",
       "      <td>3.471154</td>\n",
       "      <td>-0.167921</td>\n",
       "      <td>-1.041924</td>\n",
       "      <td>-0.005587</td>\n",
       "      <td>2.806791</td>\n",
       "      <td>1.234482</td>\n",
       "      <td>-0.491343</td>\n",
       "      <td>-0.432006</td>\n",
       "      <td>2.816442</td>\n",
       "    </tr>\n",
       "    <tr>\n",
       "      <th>1</th>\n",
       "      <td>-0.294470</td>\n",
       "      <td>-0.627153</td>\n",
       "      <td>0.345842</td>\n",
       "      <td>-0.300506</td>\n",
       "      <td>-2.437651</td>\n",
       "      <td>-0.413667</td>\n",
       "      <td>0.037931</td>\n",
       "      <td>-0.181299</td>\n",
       "      <td>-0.254259</td>\n",
       "      <td>-0.254220</td>\n",
       "      <td>...</td>\n",
       "      <td>-0.686794</td>\n",
       "      <td>-0.298502</td>\n",
       "      <td>-0.167921</td>\n",
       "      <td>1.002407</td>\n",
       "      <td>-0.005587</td>\n",
       "      <td>0.015983</td>\n",
       "      <td>-1.015476</td>\n",
       "      <td>-0.491343</td>\n",
       "      <td>-0.432006</td>\n",
       "      <td>-0.070822</td>\n",
       "    </tr>\n",
       "    <tr>\n",
       "      <th>2</th>\n",
       "      <td>3.707998</td>\n",
       "      <td>0.702852</td>\n",
       "      <td>0.345842</td>\n",
       "      <td>2.363796</td>\n",
       "      <td>0.944868</td>\n",
       "      <td>-0.413667</td>\n",
       "      <td>0.417354</td>\n",
       "      <td>0.769520</td>\n",
       "      <td>1.079196</td>\n",
       "      <td>1.951194</td>\n",
       "      <td>...</td>\n",
       "      <td>2.897255</td>\n",
       "      <td>3.471154</td>\n",
       "      <td>-0.167921</td>\n",
       "      <td>-1.048799</td>\n",
       "      <td>-1.124672</td>\n",
       "      <td>-4.170229</td>\n",
       "      <td>0.952579</td>\n",
       "      <td>-0.491343</td>\n",
       "      <td>-0.432006</td>\n",
       "      <td>1.924972</td>\n",
       "    </tr>\n",
       "    <tr>\n",
       "      <th>3</th>\n",
       "      <td>-0.294470</td>\n",
       "      <td>-0.204007</td>\n",
       "      <td>0.345842</td>\n",
       "      <td>-0.300506</td>\n",
       "      <td>0.868955</td>\n",
       "      <td>-0.413667</td>\n",
       "      <td>-0.179302</td>\n",
       "      <td>-0.181299</td>\n",
       "      <td>0.634711</td>\n",
       "      <td>-0.254220</td>\n",
       "      <td>...</td>\n",
       "      <td>-0.686794</td>\n",
       "      <td>-0.298502</td>\n",
       "      <td>-0.167921</td>\n",
       "      <td>-1.069425</td>\n",
       "      <td>-0.005587</td>\n",
       "      <td>0.015983</td>\n",
       "      <td>0.952579</td>\n",
       "      <td>-0.491343</td>\n",
       "      <td>-0.432006</td>\n",
       "      <td>-0.569516</td>\n",
       "    </tr>\n",
       "    <tr>\n",
       "      <th>4</th>\n",
       "      <td>-0.294470</td>\n",
       "      <td>-0.627153</td>\n",
       "      <td>0.345842</td>\n",
       "      <td>-0.300506</td>\n",
       "      <td>-2.437651</td>\n",
       "      <td>-0.413667</td>\n",
       "      <td>0.037931</td>\n",
       "      <td>-0.181299</td>\n",
       "      <td>-0.254259</td>\n",
       "      <td>-0.254220</td>\n",
       "      <td>...</td>\n",
       "      <td>-0.686794</td>\n",
       "      <td>-0.298502</td>\n",
       "      <td>-0.167921</td>\n",
       "      <td>1.002407</td>\n",
       "      <td>-0.005587</td>\n",
       "      <td>0.015983</td>\n",
       "      <td>-1.015476</td>\n",
       "      <td>-0.491343</td>\n",
       "      <td>-0.432006</td>\n",
       "      <td>-0.070822</td>\n",
       "    </tr>\n",
       "    <tr>\n",
       "      <th>...</th>\n",
       "      <td>...</td>\n",
       "      <td>...</td>\n",
       "      <td>...</td>\n",
       "      <td>...</td>\n",
       "      <td>...</td>\n",
       "      <td>...</td>\n",
       "      <td>...</td>\n",
       "      <td>...</td>\n",
       "      <td>...</td>\n",
       "      <td>...</td>\n",
       "      <td>...</td>\n",
       "      <td>...</td>\n",
       "      <td>...</td>\n",
       "      <td>...</td>\n",
       "      <td>...</td>\n",
       "      <td>...</td>\n",
       "      <td>...</td>\n",
       "      <td>...</td>\n",
       "      <td>...</td>\n",
       "      <td>...</td>\n",
       "      <td>...</td>\n",
       "    </tr>\n",
       "    <tr>\n",
       "      <th>214195</th>\n",
       "      <td>2.492778</td>\n",
       "      <td>0.633849</td>\n",
       "      <td>0.345842</td>\n",
       "      <td>-0.449540</td>\n",
       "      <td>-0.169122</td>\n",
       "      <td>-0.535607</td>\n",
       "      <td>-0.682047</td>\n",
       "      <td>0.769520</td>\n",
       "      <td>-0.190762</td>\n",
       "      <td>1.558729</td>\n",
       "      <td>...</td>\n",
       "      <td>1.562669</td>\n",
       "      <td>-0.298502</td>\n",
       "      <td>-0.540797</td>\n",
       "      <td>-1.054872</td>\n",
       "      <td>-0.005587</td>\n",
       "      <td>0.015983</td>\n",
       "      <td>0.614584</td>\n",
       "      <td>-0.491343</td>\n",
       "      <td>-0.542181</td>\n",
       "      <td>0.249842</td>\n",
       "    </tr>\n",
       "    <tr>\n",
       "      <th>214196</th>\n",
       "      <td>-0.294470</td>\n",
       "      <td>-0.614497</td>\n",
       "      <td>0.345842</td>\n",
       "      <td>-0.300506</td>\n",
       "      <td>-0.090283</td>\n",
       "      <td>-0.535607</td>\n",
       "      <td>-0.518292</td>\n",
       "      <td>-0.181299</td>\n",
       "      <td>-0.222510</td>\n",
       "      <td>-0.254220</td>\n",
       "      <td>...</td>\n",
       "      <td>-0.686794</td>\n",
       "      <td>-0.298502</td>\n",
       "      <td>-0.540797</td>\n",
       "      <td>-1.069425</td>\n",
       "      <td>-0.005587</td>\n",
       "      <td>0.015983</td>\n",
       "      <td>-1.015476</td>\n",
       "      <td>-0.491343</td>\n",
       "      <td>-0.542181</td>\n",
       "      <td>-0.742012</td>\n",
       "    </tr>\n",
       "    <tr>\n",
       "      <th>214197</th>\n",
       "      <td>-0.294470</td>\n",
       "      <td>0.232979</td>\n",
       "      <td>0.345842</td>\n",
       "      <td>-0.300506</td>\n",
       "      <td>0.137349</td>\n",
       "      <td>-0.535607</td>\n",
       "      <td>-0.612808</td>\n",
       "      <td>-0.181299</td>\n",
       "      <td>-0.095515</td>\n",
       "      <td>-0.254220</td>\n",
       "      <td>...</td>\n",
       "      <td>0.991820</td>\n",
       "      <td>-0.298502</td>\n",
       "      <td>-0.540797</td>\n",
       "      <td>-1.068508</td>\n",
       "      <td>-0.005587</td>\n",
       "      <td>0.015983</td>\n",
       "      <td>0.614584</td>\n",
       "      <td>-0.491343</td>\n",
       "      <td>-0.542181</td>\n",
       "      <td>0.088845</td>\n",
       "    </tr>\n",
       "    <tr>\n",
       "      <th>214198</th>\n",
       "      <td>-0.294470</td>\n",
       "      <td>-0.474509</td>\n",
       "      <td>0.345842</td>\n",
       "      <td>-0.300506</td>\n",
       "      <td>-0.653177</td>\n",
       "      <td>-0.535607</td>\n",
       "      <td>0.037931</td>\n",
       "      <td>-0.181299</td>\n",
       "      <td>-0.190762</td>\n",
       "      <td>-0.254220</td>\n",
       "      <td>...</td>\n",
       "      <td>0.542768</td>\n",
       "      <td>-0.298502</td>\n",
       "      <td>-0.540797</td>\n",
       "      <td>1.002407</td>\n",
       "      <td>-0.005587</td>\n",
       "      <td>0.015983</td>\n",
       "      <td>-1.015476</td>\n",
       "      <td>-0.491343</td>\n",
       "      <td>-0.542181</td>\n",
       "      <td>-0.070822</td>\n",
       "    </tr>\n",
       "    <tr>\n",
       "      <th>214199</th>\n",
       "      <td>-0.294470</td>\n",
       "      <td>0.037575</td>\n",
       "      <td>0.345842</td>\n",
       "      <td>-0.300506</td>\n",
       "      <td>0.381127</td>\n",
       "      <td>-0.535607</td>\n",
       "      <td>-0.560136</td>\n",
       "      <td>-0.181299</td>\n",
       "      <td>-0.159013</td>\n",
       "      <td>-0.254220</td>\n",
       "      <td>...</td>\n",
       "      <td>-0.157250</td>\n",
       "      <td>-0.298502</td>\n",
       "      <td>-0.540797</td>\n",
       "      <td>-1.069196</td>\n",
       "      <td>-0.005587</td>\n",
       "      <td>0.015983</td>\n",
       "      <td>0.925810</td>\n",
       "      <td>-0.491343</td>\n",
       "      <td>-0.542181</td>\n",
       "      <td>0.288653</td>\n",
       "    </tr>\n",
       "  </tbody>\n",
       "</table>\n",
       "<p>214200 rows × 90 columns</p>\n",
       "</div>"
      ],
      "text/plain": [
       "        item_category_id_encoded  item_id_encoded  month_encoded  \\\n",
       "0                      -0.294470         2.020930       0.345842   \n",
       "1                      -0.294470        -0.627153       0.345842   \n",
       "2                       3.707998         0.702852       0.345842   \n",
       "3                      -0.294470        -0.204007       0.345842   \n",
       "4                      -0.294470        -0.627153       0.345842   \n",
       "...                          ...              ...            ...   \n",
       "214195                  2.492778         0.633849       0.345842   \n",
       "214196                 -0.294470        -0.614497       0.345842   \n",
       "214197                 -0.294470         0.232979       0.345842   \n",
       "214198                 -0.294470        -0.474509       0.345842   \n",
       "214199                 -0.294470         0.037575       0.345842   \n",
       "\n",
       "        p0_avg_item_cat_price  p0_avg_item_price  p0_avg_shop_price  \\\n",
       "0                   -0.300506           1.008611          -0.413667   \n",
       "1                   -0.300506          -2.437651          -0.413667   \n",
       "2                    2.363796           0.944868          -0.413667   \n",
       "3                   -0.300506           0.868955          -0.413667   \n",
       "4                   -0.300506          -2.437651          -0.413667   \n",
       "...                       ...                ...                ...   \n",
       "214195              -0.449540          -0.169122          -0.535607   \n",
       "214196              -0.300506          -0.090283          -0.535607   \n",
       "214197              -0.300506           0.137349          -0.535607   \n",
       "214198              -0.300506          -0.653177          -0.535607   \n",
       "214199              -0.300506           0.381127          -0.535607   \n",
       "\n",
       "        p0_avg_tag_price  p0_count  p0_count_avg_by_item  \\\n",
       "0               2.228174 -0.181299              0.539464   \n",
       "1               0.037931 -0.181299             -0.254259   \n",
       "2               0.417354  0.769520              1.079196   \n",
       "3              -0.179302 -0.181299              0.634711   \n",
       "4               0.037931 -0.181299             -0.254259   \n",
       "...                  ...       ...                   ...   \n",
       "214195         -0.682047  0.769520             -0.190762   \n",
       "214196         -0.518292 -0.181299             -0.222510   \n",
       "214197         -0.612808 -0.181299             -0.095515   \n",
       "214198          0.037931 -0.181299             -0.190762   \n",
       "214199         -0.560136 -0.181299             -0.159013   \n",
       "\n",
       "        p0_count_avg_by_item_cat  ...  p4_count_by_item  p4_count_by_item_cat  \\\n",
       "0                      -0.254220  ...          2.800231              3.471154   \n",
       "1                      -0.254220  ...         -0.686794             -0.298502   \n",
       "2                       1.951194  ...          2.897255              3.471154   \n",
       "3                      -0.254220  ...         -0.686794             -0.298502   \n",
       "4                      -0.254220  ...         -0.686794             -0.298502   \n",
       "...                          ...  ...               ...                   ...   \n",
       "214195                  1.558729  ...          1.562669             -0.298502   \n",
       "214196                 -0.254220  ...         -0.686794             -0.298502   \n",
       "214197                 -0.254220  ...          0.991820             -0.298502   \n",
       "214198                 -0.254220  ...          0.542768             -0.298502   \n",
       "214199                 -0.254220  ...         -0.157250             -0.298502   \n",
       "\n",
       "        p4_count_by_shop  p4_count_by_tag  p4_d1_count  p4_d1_item_price  \\\n",
       "0              -0.167921        -1.041924    -0.005587          2.806791   \n",
       "1              -0.167921         1.002407    -0.005587          0.015983   \n",
       "2              -0.167921        -1.048799    -1.124672         -4.170229   \n",
       "3              -0.167921        -1.069425    -0.005587          0.015983   \n",
       "4              -0.167921         1.002407    -0.005587          0.015983   \n",
       "...                  ...              ...          ...               ...   \n",
       "214195         -0.540797        -1.054872    -0.005587          0.015983   \n",
       "214196         -0.540797        -1.069425    -0.005587          0.015983   \n",
       "214197         -0.540797        -1.068508    -0.005587          0.015983   \n",
       "214198         -0.540797         1.002407    -0.005587          0.015983   \n",
       "214199         -0.540797        -1.069196    -0.005587          0.015983   \n",
       "\n",
       "        p4_item_price  p4_month_encoded  shop_id_encoded  tag_encoded  \n",
       "0            1.234482         -0.491343        -0.432006     2.816442  \n",
       "1           -1.015476         -0.491343        -0.432006    -0.070822  \n",
       "2            0.952579         -0.491343        -0.432006     1.924972  \n",
       "3            0.952579         -0.491343        -0.432006    -0.569516  \n",
       "4           -1.015476         -0.491343        -0.432006    -0.070822  \n",
       "...               ...               ...              ...          ...  \n",
       "214195       0.614584         -0.491343        -0.542181     0.249842  \n",
       "214196      -1.015476         -0.491343        -0.542181    -0.742012  \n",
       "214197       0.614584         -0.491343        -0.542181     0.088845  \n",
       "214198      -1.015476         -0.491343        -0.542181    -0.070822  \n",
       "214199       0.925810         -0.491343        -0.542181     0.288653  \n",
       "\n",
       "[214200 rows x 90 columns]"
      ]
     },
     "execution_count": 287,
     "metadata": {},
     "output_type": "execute_result"
    }
   ],
   "source": [
    "feature_cols = test_data.columns.difference(\n",
    "    [target_col, 'ID', 'date_block_num', 'item_price',\n",
    "     'count_by_shop', 'count_by_item', 'count_by_item_cat', 'count_by_tag',\n",
    "     'count_avg_by_shop', 'count_avg_by_item', 'count_avg_by_item_cat', 'count_avg_by_tag',\n",
    "     'avg_shop_price', 'avg_item_price', 'avg_item_cat_price', 'avg_tag_price',\n",
    "     'shop_id', 'item_id', 'item_category_id', 'month', 'tag',\n",
    "#      'shop_id_encoded', 'item_id_encoded', 'item_category_id_encoded', 'month_encoded'\n",
    "    ]+diff_cols).sort_values().to_list()\n",
    "X_test = test_data[feature_cols]\n",
    "\n",
    "# del test_data\n",
    "gc.collect()\n",
    "X_test"
   ]
  },
  {
   "cell_type": "code",
   "execution_count": 148,
   "metadata": {
    "ExecuteTime": {
     "end_time": "2020-09-26T12:21:22.118228Z",
     "start_time": "2020-09-26T12:21:21.956913Z"
    }
   },
   "outputs": [
    {
     "data": {
      "text/plain": [
       "20"
      ]
     },
     "execution_count": 148,
     "metadata": {},
     "output_type": "execute_result"
    }
   ],
   "source": [
    "del data\n",
    "gc.collect()"
   ]
  },
  {
   "cell_type": "markdown",
   "metadata": {},
   "source": [
    "## Model Building"
   ]
  },
  {
   "cell_type": "code",
   "execution_count": 182,
   "metadata": {
    "ExecuteTime": {
     "end_time": "2020-09-26T13:07:26.052366Z",
     "start_time": "2020-09-26T13:07:26.049606Z"
    }
   },
   "outputs": [],
   "source": [
    "from sklearn.model_selection import cross_validate"
   ]
  },
  {
   "cell_type": "code",
   "execution_count": 183,
   "metadata": {
    "ExecuteTime": {
     "end_time": "2020-09-26T13:07:33.424239Z",
     "start_time": "2020-09-26T13:07:33.417745Z"
    }
   },
   "outputs": [],
   "source": [
    "metrics = {'rmse': lambda *args: mean_squared_error(*args, squared=False),\n",
    "           'r2': r2_score\n",
    "          }\n",
    "scoring = {'rmse': make_scorer(metrics['rmse'], greater_is_better=False),\n",
    "           'r2': make_scorer(metrics['r2'], greater_is_better=True)\n",
    "          }\n",
    "def evaluate(y_true, y_pred, inverse_normalize=True):\n",
    "    if inverse_normalize:\n",
    "        y_true = inverse_scaling(y_true, 'count')\n",
    "        y_pred = inverse_scaling(y_pred, 'count')\n",
    "    return {name: metric(y_true, y_pred) for name, metric in metrics.items()}\n",
    "def plot_feature_importance(feature_importances, columns):\n",
    "    return pd.Series(feature_importances, index=columns).plot.bar(figsize=(16, 8))"
   ]
  },
  {
   "cell_type": "markdown",
   "metadata": {},
   "source": [
    "### Random Forest"
   ]
  },
  {
   "cell_type": "code",
   "execution_count": 184,
   "metadata": {
    "ExecuteTime": {
     "end_time": "2020-09-26T13:07:40.831134Z",
     "start_time": "2020-09-26T13:07:40.828436Z"
    }
   },
   "outputs": [],
   "source": [
    "from sklearn.ensemble import RandomForestRegressor"
   ]
  },
  {
   "cell_type": "code",
   "execution_count": 279,
   "metadata": {
    "ExecuteTime": {
     "end_time": "2020-09-26T15:24:23.449520Z",
     "start_time": "2020-09-26T15:18:55.212636Z"
    },
    "scrolled": true
   },
   "outputs": [
    {
     "name": "stdout",
     "output_type": "stream",
     "text": [
      "[Parallel(n_jobs=-1)]: Using backend ThreadingBackend with 8 concurrent workers.\n",
      "building tree 1 of 100\n",
      "building tree 2 of 100\n",
      "building tree 3 of 100building tree 4 of 100\n",
      "building tree 5 of 100building tree 6 of 100\n",
      "building tree 7 of 100\n",
      "\n",
      "\n",
      "building tree 8 of 100\n",
      "building tree 9 of 100[Parallel(n_jobs=-1)]: Done   1 tasks      | elapsed:   19.1s\n",
      "\n",
      "building tree 10 of 100[Parallel(n_jobs=-1)]: Done   2 tasks      | elapsed:   20.7s\n",
      "\n",
      "building tree 11 of 100[Parallel(n_jobs=-1)]: Done   3 tasks      | elapsed:   22.4s\n",
      "\n",
      "building tree 12 of 100[Parallel(n_jobs=-1)]: Done   4 tasks      | elapsed:   23.6s\n",
      "\n",
      "building tree 13 of 100[Parallel(n_jobs=-1)]: Done   5 tasks      | elapsed:   24.5s\n",
      "\n",
      "building tree 14 of 100[Parallel(n_jobs=-1)]: Done   6 tasks      | elapsed:   25.4s\n",
      "\n",
      "building tree 15 of 100[Parallel(n_jobs=-1)]: Done   7 tasks      | elapsed:   26.5s\n",
      "\n",
      "building tree 16 of 100[Parallel(n_jobs=-1)]: Done   8 tasks      | elapsed:   28.0s\n",
      "\n",
      "building tree 17 of 100[Parallel(n_jobs=-1)]: Done   9 tasks      | elapsed:   35.5s\n",
      "\n",
      "building tree 18 of 100[Parallel(n_jobs=-1)]: Done  10 tasks      | elapsed:   43.3s\n",
      "\n",
      "building tree 19 of 100[Parallel(n_jobs=-1)]: Done  11 tasks      | elapsed:   46.1s\n",
      "\n",
      "building tree 20 of 100[Parallel(n_jobs=-1)]: Done  12 tasks      | elapsed:   46.7s\n",
      "\n",
      "building tree 21 of 100[Parallel(n_jobs=-1)]: Done  13 tasks      | elapsed:   47.6s\n",
      "\n",
      "building tree 22 of 100[Parallel(n_jobs=-1)]: Done  14 tasks      | elapsed:   48.0s\n",
      "\n",
      "building tree 23 of 100[Parallel(n_jobs=-1)]: Done  15 tasks      | elapsed:   51.1s\n",
      "\n",
      "building tree 24 of 100[Parallel(n_jobs=-1)]: Done  16 tasks      | elapsed:   58.3s\n",
      "\n",
      "building tree 25 of 100[Parallel(n_jobs=-1)]: Done  17 tasks      | elapsed:   59.1s\n",
      "\n",
      "building tree 26 of 100[Parallel(n_jobs=-1)]: Done  18 tasks      | elapsed:  1.0min\n",
      "\n",
      "building tree 27 of 100[Parallel(n_jobs=-1)]: Done  19 tasks      | elapsed:  1.1min\n",
      "\n",
      "building tree 28 of 100[Parallel(n_jobs=-1)]: Done  20 tasks      | elapsed:  1.1min\n",
      "\n",
      "building tree 29 of 100[Parallel(n_jobs=-1)]: Done  21 tasks      | elapsed:  1.2min\n",
      "\n",
      "building tree 30 of 100[Parallel(n_jobs=-1)]: Done  22 tasks      | elapsed:  1.2min\n",
      "\n",
      "building tree 31 of 100[Parallel(n_jobs=-1)]: Done  23 tasks      | elapsed:  1.3min\n",
      "\n",
      "building tree 32 of 100[Parallel(n_jobs=-1)]: Done  24 tasks      | elapsed:  1.4min\n",
      "\n",
      "building tree 33 of 100[Parallel(n_jobs=-1)]: Done  25 tasks      | elapsed:  1.5min\n",
      "\n",
      "building tree 34 of 100[Parallel(n_jobs=-1)]: Done  26 tasks      | elapsed:  1.5min\n",
      "\n",
      "building tree 35 of 100\n",
      "[Parallel(n_jobs=-1)]: Done  27 tasks      | elapsed:  1.5min\n",
      "building tree 36 of 100[Parallel(n_jobs=-1)]: Done  28 tasks      | elapsed:  1.5min\n",
      "\n",
      "building tree 37 of 100[Parallel(n_jobs=-1)]: Done  29 tasks      | elapsed:  1.6min\n",
      "\n",
      "building tree 38 of 100[Parallel(n_jobs=-1)]: Done  30 tasks      | elapsed:  1.7min\n",
      "\n",
      "building tree 39 of 100[Parallel(n_jobs=-1)]: Done  31 tasks      | elapsed:  1.7min\n",
      "\n",
      "building tree 40 of 100[Parallel(n_jobs=-1)]: Done  32 tasks      | elapsed:  1.9min\n",
      "\n",
      "building tree 41 of 100[Parallel(n_jobs=-1)]: Done  33 tasks      | elapsed:  1.9min\n",
      "\n",
      "building tree 42 of 100[Parallel(n_jobs=-1)]: Done  34 tasks      | elapsed:  1.9min\n",
      "\n",
      "building tree 43 of 100[Parallel(n_jobs=-1)]: Done  35 tasks      | elapsed:  2.0min\n",
      "\n",
      "building tree 44 of 100[Parallel(n_jobs=-1)]: Done  36 tasks      | elapsed:  2.0min\n",
      "\n",
      "building tree 45 of 100[Parallel(n_jobs=-1)]: Done  37 tasks      | elapsed:  2.1min\n",
      "\n",
      "building tree 46 of 100[Parallel(n_jobs=-1)]: Done  38 tasks      | elapsed:  2.1min\n",
      "\n",
      "building tree 47 of 100[Parallel(n_jobs=-1)]: Done  39 tasks      | elapsed:  2.2min\n",
      "\n",
      "building tree 48 of 100[Parallel(n_jobs=-1)]: Done  40 tasks      | elapsed:  2.3min\n",
      "\n",
      "building tree 49 of 100[Parallel(n_jobs=-1)]: Done  41 tasks      | elapsed:  2.4min\n",
      "\n",
      "building tree 50 of 100[Parallel(n_jobs=-1)]: Done  42 tasks      | elapsed:  2.4min\n",
      "\n",
      "building tree 51 of 100[Parallel(n_jobs=-1)]: Done  43 tasks      | elapsed:  2.4min\n",
      "\n",
      "building tree 52 of 100[Parallel(n_jobs=-1)]: Done  44 tasks      | elapsed:  2.4min\n",
      "\n",
      "building tree 53 of 100[Parallel(n_jobs=-1)]: Done  45 tasks      | elapsed:  2.5min\n",
      "\n",
      "building tree 54 of 100[Parallel(n_jobs=-1)]: Done  46 tasks      | elapsed:  2.5min\n",
      "\n",
      "building tree 55 of 100[Parallel(n_jobs=-1)]: Done  47 tasks      | elapsed:  2.6min\n",
      "\n",
      "building tree 56 of 100[Parallel(n_jobs=-1)]: Done  48 tasks      | elapsed:  2.8min\n",
      "\n",
      "building tree 57 of 100[Parallel(n_jobs=-1)]: Done  49 tasks      | elapsed:  2.9min\n",
      "\n",
      "building tree 58 of 100[Parallel(n_jobs=-1)]: Done  50 tasks      | elapsed:  3.0min\n",
      "\n",
      "building tree 59 of 100[Parallel(n_jobs=-1)]: Done  51 tasks      | elapsed:  3.0min\n",
      "\n",
      "building tree 60 of 100[Parallel(n_jobs=-1)]: Done  52 tasks      | elapsed:  3.0min\n",
      "\n",
      "building tree 61 of 100[Parallel(n_jobs=-1)]: Done  53 tasks      | elapsed:  3.0min\n",
      "\n",
      "building tree 62 of 100[Parallel(n_jobs=-1)]: Done  54 tasks      | elapsed:  3.0min\n",
      "\n",
      "building tree 63 of 100[Parallel(n_jobs=-1)]: Done  55 tasks      | elapsed:  3.0min\n",
      "\n",
      "building tree 64 of 100[Parallel(n_jobs=-1)]: Done  56 tasks      | elapsed:  3.3min\n",
      "\n",
      "building tree 65 of 100[Parallel(n_jobs=-1)]: Done  57 tasks      | elapsed:  3.3min\n",
      "\n",
      "building tree 66 of 100[Parallel(n_jobs=-1)]: Done  58 tasks      | elapsed:  3.3min\n",
      "\n",
      "building tree 67 of 100[Parallel(n_jobs=-1)]: Done  59 tasks      | elapsed:  3.4min\n",
      "\n",
      "building tree 68 of 100[Parallel(n_jobs=-1)]: Done  60 tasks      | elapsed:  3.4min\n",
      "\n",
      "building tree 69 of 100[Parallel(n_jobs=-1)]: Done  61 tasks      | elapsed:  3.4min\n",
      "\n",
      "building tree 70 of 100[Parallel(n_jobs=-1)]: Done  62 tasks      | elapsed:  3.6min\n",
      "\n",
      "building tree 71 of 100[Parallel(n_jobs=-1)]: Done  63 tasks      | elapsed:  3.7min\n",
      "\n",
      "building tree 72 of 100[Parallel(n_jobs=-1)]: Done  64 tasks      | elapsed:  3.7min\n",
      "\n",
      "building tree 73 of 100[Parallel(n_jobs=-1)]: Done  65 tasks      | elapsed:  3.7min\n",
      "\n",
      "building tree 74 of 100[Parallel(n_jobs=-1)]: Done  66 tasks      | elapsed:  3.7min\n",
      "\n",
      "building tree 75 of 100[Parallel(n_jobs=-1)]: Done  67 tasks      | elapsed:  3.8min\n",
      "\n",
      "building tree 76 of 100[Parallel(n_jobs=-1)]: Done  68 tasks      | elapsed:  3.9min\n",
      "\n",
      "building tree 77 of 100[Parallel(n_jobs=-1)]: Done  69 tasks      | elapsed:  3.9min\n",
      "\n",
      "building tree 78 of 100[Parallel(n_jobs=-1)]: Done  70 tasks      | elapsed:  4.0min\n",
      "\n",
      "building tree 79 of 100[Parallel(n_jobs=-1)]: Done  71 tasks      | elapsed:  4.0min\n",
      "\n",
      "[Parallel(n_jobs=-1)]: Done  72 tasks      | elapsed:  4.1min\n",
      "building tree 80 of 100\n",
      "building tree 81 of 100[Parallel(n_jobs=-1)]: Done  73 tasks      | elapsed:  4.1min\n",
      "\n",
      "building tree 82 of 100[Parallel(n_jobs=-1)]: Done  74 tasks      | elapsed:  4.1min\n",
      "\n",
      "building tree 83 of 100[Parallel(n_jobs=-1)]: Done  75 tasks      | elapsed:  4.2min\n",
      "\n",
      "building tree 84 of 100[Parallel(n_jobs=-1)]: Done  76 tasks      | elapsed:  4.3min\n",
      "\n",
      "building tree 85 of 100[Parallel(n_jobs=-1)]: Done  77 tasks      | elapsed:  4.3min\n",
      "\n",
      "building tree 86 of 100[Parallel(n_jobs=-1)]: Done  78 tasks      | elapsed:  4.4min\n",
      "\n",
      "building tree 87 of 100[Parallel(n_jobs=-1)]: Done  79 tasks      | elapsed:  4.4min\n",
      "\n",
      "building tree 88 of 100[Parallel(n_jobs=-1)]: Done  80 tasks      | elapsed:  4.5min\n",
      "\n",
      "building tree 89 of 100[Parallel(n_jobs=-1)]: Done  81 tasks      | elapsed:  4.5min\n",
      "\n",
      "building tree 90 of 100[Parallel(n_jobs=-1)]: Done  82 tasks      | elapsed:  4.5min\n",
      "\n",
      "building tree 91 of 100[Parallel(n_jobs=-1)]: Done  83 tasks      | elapsed:  4.6min\n",
      "\n",
      "building tree 92 of 100[Parallel(n_jobs=-1)]: Done  84 tasks      | elapsed:  4.7min\n",
      "\n",
      "building tree 93 of 100[Parallel(n_jobs=-1)]: Done  85 tasks      | elapsed:  4.7min\n",
      "\n",
      "building tree 94 of 100\n",
      "building tree 95 of 100[Parallel(n_jobs=-1)]: Done  87 out of 100 | elapsed:  4.9min remaining:   44.3s\n",
      "\n",
      "building tree 96 of 100\n",
      "building tree 97 of 100[Parallel(n_jobs=-1)]: Done  89 out of 100 | elapsed:  4.9min remaining:   36.7s\n",
      "\n",
      "building tree 98 of 100\n",
      "building tree 99 of 100[Parallel(n_jobs=-1)]: Done  91 out of 100 | elapsed:  5.0min remaining:   29.6s\n",
      "\n",
      "building tree 100 of 100\n",
      "[Parallel(n_jobs=-1)]: Done  93 out of 100 | elapsed:  5.1min remaining:   23.1s\n",
      "[Parallel(n_jobs=-1)]: Done  95 out of 100 | elapsed:  5.2min remaining:   16.4s\n",
      "[Parallel(n_jobs=-1)]: Done  97 out of 100 | elapsed:  5.3min remaining:    9.8s\n"
     ]
    },
    {
     "name": "stdout",
     "output_type": "stream",
     "text": [
      "[Parallel(n_jobs=-1)]: Done 100 out of 100 | elapsed:  5.5min finished\n"
     ]
    },
    {
     "data": {
      "text/plain": [
       "RandomForestRegressor(max_depth=16, max_features='sqrt', n_jobs=-1,\n",
       "                      random_state=42, verbose=100)"
      ]
     },
     "execution_count": 279,
     "metadata": {},
     "output_type": "execute_result"
    }
   ],
   "source": [
    "rfr = RandomForestRegressor(n_estimators=100,\n",
    "                            max_depth=16,\n",
    "                            max_features='sqrt',\n",
    "                            min_samples_split=2,\n",
    "                            verbose=100,\n",
    "                            random_state=42,\n",
    "                            n_jobs=-1)\n",
    "rfr.fit(X_train, Y_train,\n",
    "        )"
   ]
  },
  {
   "cell_type": "code",
   "execution_count": 280,
   "metadata": {
    "ExecuteTime": {
     "end_time": "2020-09-26T15:24:32.929467Z",
     "start_time": "2020-09-26T15:24:32.452636Z"
    },
    "scrolled": true
   },
   "outputs": [
    {
     "name": "stdout",
     "output_type": "stream",
     "text": [
      "[Parallel(n_jobs=8)]: Using backend ThreadingBackend with 8 concurrent workers.\n",
      "[Parallel(n_jobs=8)]: Done   1 tasks      | elapsed:    0.0s\n",
      "[Parallel(n_jobs=8)]: Done   2 tasks      | elapsed:    0.0s\n",
      "[Parallel(n_jobs=8)]: Done   3 tasks      | elapsed:    0.0s\n",
      "[Parallel(n_jobs=8)]: Done   4 tasks      | elapsed:    0.0s\n",
      "[Parallel(n_jobs=8)]: Done   5 tasks      | elapsed:    0.1s\n",
      "[Parallel(n_jobs=8)]: Done   6 tasks      | elapsed:    0.1s\n",
      "[Parallel(n_jobs=8)]: Done   7 tasks      | elapsed:    0.1s\n",
      "[Parallel(n_jobs=8)]: Done   8 tasks      | elapsed:    0.1s\n",
      "[Parallel(n_jobs=8)]: Done   9 tasks      | elapsed:    0.1s\n",
      "[Parallel(n_jobs=8)]: Done  10 tasks      | elapsed:    0.1s\n",
      "[Parallel(n_jobs=8)]: Done  11 tasks      | elapsed:    0.1s\n",
      "[Parallel(n_jobs=8)]: Done  12 tasks      | elapsed:    0.1s\n",
      "[Parallel(n_jobs=8)]: Done  13 tasks      | elapsed:    0.1s\n",
      "[Parallel(n_jobs=8)]: Done  14 tasks      | elapsed:    0.1s\n",
      "[Parallel(n_jobs=8)]: Done  15 tasks      | elapsed:    0.1s\n",
      "[Parallel(n_jobs=8)]: Done  16 tasks      | elapsed:    0.1s\n",
      "[Parallel(n_jobs=8)]: Done  17 tasks      | elapsed:    0.1s\n",
      "[Parallel(n_jobs=8)]: Done  18 tasks      | elapsed:    0.1s\n",
      "[Parallel(n_jobs=8)]: Done  19 tasks      | elapsed:    0.1s\n",
      "[Parallel(n_jobs=8)]: Done  20 tasks      | elapsed:    0.1s\n",
      "[Parallel(n_jobs=8)]: Done  21 tasks      | elapsed:    0.1s\n",
      "[Parallel(n_jobs=8)]: Done  22 tasks      | elapsed:    0.1s\n",
      "[Parallel(n_jobs=8)]: Done  23 tasks      | elapsed:    0.1s\n",
      "[Parallel(n_jobs=8)]: Done  24 tasks      | elapsed:    0.1s\n",
      "[Parallel(n_jobs=8)]: Done  25 tasks      | elapsed:    0.1s\n",
      "[Parallel(n_jobs=8)]: Done  26 tasks      | elapsed:    0.1s\n",
      "[Parallel(n_jobs=8)]: Done  27 tasks      | elapsed:    0.1s\n",
      "[Parallel(n_jobs=8)]: Done  28 tasks      | elapsed:    0.1s\n",
      "[Parallel(n_jobs=8)]: Done  29 tasks      | elapsed:    0.2s\n",
      "[Parallel(n_jobs=8)]: Done  30 tasks      | elapsed:    0.2s\n",
      "[Parallel(n_jobs=8)]: Done  31 tasks      | elapsed:    0.2s\n",
      "[Parallel(n_jobs=8)]: Done  32 tasks      | elapsed:    0.2s\n",
      "[Parallel(n_jobs=8)]: Done  33 tasks      | elapsed:    0.2s\n",
      "[Parallel(n_jobs=8)]: Done  34 tasks      | elapsed:    0.2s\n",
      "[Parallel(n_jobs=8)]: Done  35 tasks      | elapsed:    0.2s\n",
      "[Parallel(n_jobs=8)]: Done  36 tasks      | elapsed:    0.2s\n",
      "[Parallel(n_jobs=8)]: Done  37 tasks      | elapsed:    0.2s\n",
      "[Parallel(n_jobs=8)]: Done  38 tasks      | elapsed:    0.2s\n",
      "[Parallel(n_jobs=8)]: Done  39 tasks      | elapsed:    0.2s\n",
      "[Parallel(n_jobs=8)]: Done  40 tasks      | elapsed:    0.2s\n",
      "[Parallel(n_jobs=8)]: Done  41 tasks      | elapsed:    0.2s\n",
      "[Parallel(n_jobs=8)]: Done  42 tasks      | elapsed:    0.2s\n",
      "[Parallel(n_jobs=8)]: Done  43 tasks      | elapsed:    0.2s\n",
      "[Parallel(n_jobs=8)]: Done  44 tasks      | elapsed:    0.2s\n",
      "[Parallel(n_jobs=8)]: Done  45 tasks      | elapsed:    0.2s\n",
      "[Parallel(n_jobs=8)]: Done  46 tasks      | elapsed:    0.2s\n",
      "[Parallel(n_jobs=8)]: Done  47 tasks      | elapsed:    0.2s\n",
      "[Parallel(n_jobs=8)]: Done  48 tasks      | elapsed:    0.2s\n",
      "[Parallel(n_jobs=8)]: Done  49 tasks      | elapsed:    0.2s\n",
      "[Parallel(n_jobs=8)]: Done  50 tasks      | elapsed:    0.3s\n",
      "[Parallel(n_jobs=8)]: Done  51 tasks      | elapsed:    0.3s\n",
      "[Parallel(n_jobs=8)]: Done  52 tasks      | elapsed:    0.3s\n",
      "[Parallel(n_jobs=8)]: Done  53 tasks      | elapsed:    0.3s\n",
      "[Parallel(n_jobs=8)]: Done  54 tasks      | elapsed:    0.3s\n",
      "[Parallel(n_jobs=8)]: Done  55 tasks      | elapsed:    0.3s\n",
      "[Parallel(n_jobs=8)]: Done  56 tasks      | elapsed:    0.3s\n",
      "[Parallel(n_jobs=8)]: Done  57 tasks      | elapsed:    0.3s\n",
      "[Parallel(n_jobs=8)]: Done  58 tasks      | elapsed:    0.3s\n",
      "[Parallel(n_jobs=8)]: Done  59 tasks      | elapsed:    0.3s\n",
      "[Parallel(n_jobs=8)]: Done  60 tasks      | elapsed:    0.3s\n",
      "[Parallel(n_jobs=8)]: Done  61 tasks      | elapsed:    0.3s\n",
      "[Parallel(n_jobs=8)]: Done  62 tasks      | elapsed:    0.3s\n",
      "[Parallel(n_jobs=8)]: Done  63 tasks      | elapsed:    0.3s\n",
      "[Parallel(n_jobs=8)]: Done  64 tasks      | elapsed:    0.3s\n",
      "[Parallel(n_jobs=8)]: Done  65 tasks      | elapsed:    0.3s\n",
      "[Parallel(n_jobs=8)]: Done  66 tasks      | elapsed:    0.3s\n",
      "[Parallel(n_jobs=8)]: Done  67 tasks      | elapsed:    0.3s\n",
      "[Parallel(n_jobs=8)]: Done  68 tasks      | elapsed:    0.3s\n",
      "[Parallel(n_jobs=8)]: Done  69 tasks      | elapsed:    0.3s\n",
      "[Parallel(n_jobs=8)]: Done  70 tasks      | elapsed:    0.3s\n",
      "[Parallel(n_jobs=8)]: Done  71 tasks      | elapsed:    0.3s\n",
      "[Parallel(n_jobs=8)]: Done  72 tasks      | elapsed:    0.3s\n",
      "[Parallel(n_jobs=8)]: Done  73 tasks      | elapsed:    0.3s\n",
      "[Parallel(n_jobs=8)]: Done  74 tasks      | elapsed:    0.3s\n",
      "[Parallel(n_jobs=8)]: Done  75 tasks      | elapsed:    0.3s\n",
      "[Parallel(n_jobs=8)]: Done  76 tasks      | elapsed:    0.3s\n",
      "[Parallel(n_jobs=8)]: Done  77 tasks      | elapsed:    0.3s\n",
      "[Parallel(n_jobs=8)]: Done  78 tasks      | elapsed:    0.3s\n",
      "[Parallel(n_jobs=8)]: Done  79 tasks      | elapsed:    0.3s\n",
      "[Parallel(n_jobs=8)]: Done  80 tasks      | elapsed:    0.4s\n",
      "[Parallel(n_jobs=8)]: Done  81 tasks      | elapsed:    0.4s\n",
      "[Parallel(n_jobs=8)]: Done  82 tasks      | elapsed:    0.4s\n",
      "[Parallel(n_jobs=8)]: Done  83 tasks      | elapsed:    0.4s\n",
      "[Parallel(n_jobs=8)]: Done  84 tasks      | elapsed:    0.4s\n",
      "[Parallel(n_jobs=8)]: Done  85 tasks      | elapsed:    0.4s\n",
      "[Parallel(n_jobs=8)]: Done  87 out of 100 | elapsed:    0.4s remaining:    0.1s\n",
      "[Parallel(n_jobs=8)]: Done  89 out of 100 | elapsed:    0.4s remaining:    0.0s\n",
      "[Parallel(n_jobs=8)]: Done  91 out of 100 | elapsed:    0.4s remaining:    0.0s\n",
      "[Parallel(n_jobs=8)]: Done  93 out of 100 | elapsed:    0.4s remaining:    0.0s\n",
      "[Parallel(n_jobs=8)]: Done  95 out of 100 | elapsed:    0.4s remaining:    0.0s\n",
      "[Parallel(n_jobs=8)]: Done  97 out of 100 | elapsed:    0.4s remaining:    0.0s\n",
      "[Parallel(n_jobs=8)]: Done 100 out of 100 | elapsed:    0.4s finished\n"
     ]
    },
    {
     "data": {
      "text/plain": [
       "rmse    0.644612\n",
       "r2      0.650167\n",
       "dtype: float64"
      ]
     },
     "execution_count": 280,
     "metadata": {},
     "output_type": "execute_result"
    }
   ],
   "source": [
    "prediction = rfr.predict(X_val)\n",
    "\n",
    "result = pd.Series(evaluate(Y_val, prediction, inverse_normalize=True))\n",
    "result"
   ]
  },
  {
   "cell_type": "code",
   "execution_count": 177,
   "metadata": {
    "ExecuteTime": {
     "end_time": "2020-09-20T16:13:07.725501Z",
     "start_time": "2020-09-20T16:13:07.205726Z"
    },
    "scrolled": true
   },
   "outputs": [
    {
     "name": "stdout",
     "output_type": "stream",
     "text": [
      "[Parallel(n_jobs=8)]: Using backend ThreadingBackend with 8 concurrent workers.\n",
      "[Parallel(n_jobs=8)]: Done   1 tasks      | elapsed:    0.0s\n",
      "[Parallel(n_jobs=8)]: Done   2 tasks      | elapsed:    0.0s\n",
      "[Parallel(n_jobs=8)]: Done   3 tasks      | elapsed:    0.0s\n",
      "[Parallel(n_jobs=8)]: Done   4 tasks      | elapsed:    0.0s\n",
      "[Parallel(n_jobs=8)]: Done   5 tasks      | elapsed:    0.0s\n",
      "[Parallel(n_jobs=8)]: Done   6 tasks      | elapsed:    0.0s\n",
      "[Parallel(n_jobs=8)]: Done   7 tasks      | elapsed:    0.0s\n",
      "[Parallel(n_jobs=8)]: Done   8 tasks      | elapsed:    0.1s\n",
      "[Parallel(n_jobs=8)]: Done   9 tasks      | elapsed:    0.1s\n",
      "[Parallel(n_jobs=8)]: Done  10 tasks      | elapsed:    0.1s\n",
      "[Parallel(n_jobs=8)]: Done  11 tasks      | elapsed:    0.1s\n",
      "[Parallel(n_jobs=8)]: Done  12 tasks      | elapsed:    0.1s\n",
      "[Parallel(n_jobs=8)]: Done  13 tasks      | elapsed:    0.1s\n",
      "[Parallel(n_jobs=8)]: Done  14 tasks      | elapsed:    0.1s\n",
      "[Parallel(n_jobs=8)]: Done  15 tasks      | elapsed:    0.1s\n",
      "[Parallel(n_jobs=8)]: Done  16 tasks      | elapsed:    0.1s\n",
      "[Parallel(n_jobs=8)]: Done  17 tasks      | elapsed:    0.1s\n",
      "[Parallel(n_jobs=8)]: Done  18 tasks      | elapsed:    0.1s\n",
      "[Parallel(n_jobs=8)]: Done  19 tasks      | elapsed:    0.1s\n",
      "[Parallel(n_jobs=8)]: Done  20 tasks      | elapsed:    0.1s\n",
      "[Parallel(n_jobs=8)]: Done  21 tasks      | elapsed:    0.1s\n",
      "[Parallel(n_jobs=8)]: Done  22 tasks      | elapsed:    0.1s\n",
      "[Parallel(n_jobs=8)]: Done  23 tasks      | elapsed:    0.1s\n",
      "[Parallel(n_jobs=8)]: Done  24 tasks      | elapsed:    0.1s\n",
      "[Parallel(n_jobs=8)]: Done  25 tasks      | elapsed:    0.1s\n",
      "[Parallel(n_jobs=8)]: Done  26 tasks      | elapsed:    0.1s\n",
      "[Parallel(n_jobs=8)]: Done  27 tasks      | elapsed:    0.1s\n",
      "[Parallel(n_jobs=8)]: Done  28 tasks      | elapsed:    0.1s\n",
      "[Parallel(n_jobs=8)]: Done  29 tasks      | elapsed:    0.1s\n",
      "[Parallel(n_jobs=8)]: Done  30 tasks      | elapsed:    0.2s\n",
      "[Parallel(n_jobs=8)]: Done  31 tasks      | elapsed:    0.2s\n",
      "[Parallel(n_jobs=8)]: Done  32 tasks      | elapsed:    0.2s\n",
      "[Parallel(n_jobs=8)]: Done  33 tasks      | elapsed:    0.2s\n",
      "[Parallel(n_jobs=8)]: Done  34 tasks      | elapsed:    0.2s\n",
      "[Parallel(n_jobs=8)]: Done  35 tasks      | elapsed:    0.2s\n",
      "[Parallel(n_jobs=8)]: Done  36 tasks      | elapsed:    0.2s\n",
      "[Parallel(n_jobs=8)]: Done  37 tasks      | elapsed:    0.2s\n",
      "[Parallel(n_jobs=8)]: Done  38 tasks      | elapsed:    0.2s\n",
      "[Parallel(n_jobs=8)]: Done  39 tasks      | elapsed:    0.2s\n",
      "[Parallel(n_jobs=8)]: Done  40 tasks      | elapsed:    0.2s\n",
      "[Parallel(n_jobs=8)]: Done  41 tasks      | elapsed:    0.2s\n",
      "[Parallel(n_jobs=8)]: Done  42 tasks      | elapsed:    0.2s\n",
      "[Parallel(n_jobs=8)]: Done  43 tasks      | elapsed:    0.2s\n",
      "[Parallel(n_jobs=8)]: Done  44 tasks      | elapsed:    0.2s\n",
      "[Parallel(n_jobs=8)]: Done  45 tasks      | elapsed:    0.2s\n",
      "[Parallel(n_jobs=8)]: Done  46 tasks      | elapsed:    0.2s\n",
      "[Parallel(n_jobs=8)]: Done  47 tasks      | elapsed:    0.2s\n",
      "[Parallel(n_jobs=8)]: Done  48 tasks      | elapsed:    0.2s\n",
      "[Parallel(n_jobs=8)]: Done  49 tasks      | elapsed:    0.2s\n",
      "[Parallel(n_jobs=8)]: Done  50 tasks      | elapsed:    0.3s\n",
      "[Parallel(n_jobs=8)]: Done  51 tasks      | elapsed:    0.3s\n",
      "[Parallel(n_jobs=8)]: Done  52 tasks      | elapsed:    0.3s\n",
      "[Parallel(n_jobs=8)]: Done  53 tasks      | elapsed:    0.3s\n",
      "[Parallel(n_jobs=8)]: Done  54 tasks      | elapsed:    0.3s\n",
      "[Parallel(n_jobs=8)]: Done  55 tasks      | elapsed:    0.3s\n",
      "[Parallel(n_jobs=8)]: Done  56 tasks      | elapsed:    0.3s\n",
      "[Parallel(n_jobs=8)]: Done  57 tasks      | elapsed:    0.3s\n",
      "[Parallel(n_jobs=8)]: Done  58 tasks      | elapsed:    0.3s\n",
      "[Parallel(n_jobs=8)]: Done  59 tasks      | elapsed:    0.3s\n",
      "[Parallel(n_jobs=8)]: Done  60 tasks      | elapsed:    0.3s\n",
      "[Parallel(n_jobs=8)]: Done  61 tasks      | elapsed:    0.3s\n",
      "[Parallel(n_jobs=8)]: Done  62 tasks      | elapsed:    0.3s\n",
      "[Parallel(n_jobs=8)]: Done  63 tasks      | elapsed:    0.3s\n",
      "[Parallel(n_jobs=8)]: Done  64 tasks      | elapsed:    0.3s\n",
      "[Parallel(n_jobs=8)]: Done  65 tasks      | elapsed:    0.3s\n",
      "[Parallel(n_jobs=8)]: Done  66 tasks      | elapsed:    0.3s\n",
      "[Parallel(n_jobs=8)]: Done  67 tasks      | elapsed:    0.3s\n",
      "[Parallel(n_jobs=8)]: Done  68 tasks      | elapsed:    0.3s\n",
      "[Parallel(n_jobs=8)]: Done  69 tasks      | elapsed:    0.3s\n",
      "[Parallel(n_jobs=8)]: Done  70 tasks      | elapsed:    0.3s\n",
      "[Parallel(n_jobs=8)]: Done  71 tasks      | elapsed:    0.4s\n",
      "[Parallel(n_jobs=8)]: Done  72 tasks      | elapsed:    0.4s\n",
      "[Parallel(n_jobs=8)]: Done  73 tasks      | elapsed:    0.4s\n",
      "[Parallel(n_jobs=8)]: Done  74 tasks      | elapsed:    0.4s\n",
      "[Parallel(n_jobs=8)]: Done  75 tasks      | elapsed:    0.4s\n",
      "[Parallel(n_jobs=8)]: Done  76 tasks      | elapsed:    0.4s\n",
      "[Parallel(n_jobs=8)]: Done  77 tasks      | elapsed:    0.4s\n",
      "[Parallel(n_jobs=8)]: Done  78 tasks      | elapsed:    0.4s\n",
      "[Parallel(n_jobs=8)]: Done  79 tasks      | elapsed:    0.4s\n",
      "[Parallel(n_jobs=8)]: Done  80 tasks      | elapsed:    0.4s\n",
      "[Parallel(n_jobs=8)]: Done  81 tasks      | elapsed:    0.4s\n",
      "[Parallel(n_jobs=8)]: Done  82 tasks      | elapsed:    0.4s\n",
      "[Parallel(n_jobs=8)]: Done  83 tasks      | elapsed:    0.4s\n",
      "[Parallel(n_jobs=8)]: Done  84 tasks      | elapsed:    0.4s\n",
      "[Parallel(n_jobs=8)]: Done  85 tasks      | elapsed:    0.4s\n",
      "[Parallel(n_jobs=8)]: Done  87 out of 100 | elapsed:    0.4s remaining:    0.1s\n",
      "[Parallel(n_jobs=8)]: Done  89 out of 100 | elapsed:    0.4s remaining:    0.1s\n",
      "[Parallel(n_jobs=8)]: Done  91 out of 100 | elapsed:    0.4s remaining:    0.0s\n",
      "[Parallel(n_jobs=8)]: Done  93 out of 100 | elapsed:    0.4s remaining:    0.0s\n",
      "[Parallel(n_jobs=8)]: Done  95 out of 100 | elapsed:    0.5s remaining:    0.0s\n",
      "[Parallel(n_jobs=8)]: Done  97 out of 100 | elapsed:    0.5s remaining:    0.0s\n",
      "[Parallel(n_jobs=8)]: Done 100 out of 100 | elapsed:    0.5s finished\n"
     ]
    },
    {
     "data": {
      "text/plain": [
       "rmse    0.620860\n",
       "r2      0.675473\n",
       "dtype: float64"
      ]
     },
     "execution_count": 177,
     "metadata": {},
     "output_type": "execute_result"
    }
   ],
   "source": [
    "prediction = rfr.predict(X_val)\n",
    "\n",
    "result = pd.Series(evaluate(Y_val, prediction))\n",
    "result"
   ]
  },
  {
   "cell_type": "code",
   "execution_count": 281,
   "metadata": {
    "ExecuteTime": {
     "end_time": "2020-09-26T15:24:49.999027Z",
     "start_time": "2020-09-26T15:24:47.929946Z"
    }
   },
   "outputs": [
    {
     "data": {
      "text/plain": [
       "<AxesSubplot:>"
      ]
     },
     "execution_count": 281,
     "metadata": {},
     "output_type": "execute_result"
    },
    {
     "data": {
      "image/png": "[encoded data removed]",
      "text/plain": [
       "<Figure size 1152x576 with 1 Axes>"
      ]
     },
     "metadata": {
      "needs_background": "light"
     },
     "output_type": "display_data"
    }
   ],
   "source": [
    "\n",
    "plot_feature_importance(rfr.feature_importances_, X_train.columns)"
   ]
  },
  {
   "cell_type": "code",
   "execution_count": 232,
   "metadata": {
    "ExecuteTime": {
     "end_time": "2020-09-26T14:24:08.132180Z",
     "start_time": "2020-09-26T14:24:06.225688Z"
    }
   },
   "outputs": [
    {
     "data": {
      "text/plain": [
       "<AxesSubplot:>"
      ]
     },
     "execution_count": 232,
     "metadata": {},
     "output_type": "execute_result"
    },
    {
     "data": {
      "image/png": "[encoded data removed]",
      "text/plain": [
       "<Figure size 1152x576 with 1 Axes>"
      ]
     },
     "metadata": {
      "needs_background": "light"
     },
     "output_type": "display_data"
    }
   ],
   "source": [
    "\n",
    "plot_feature_importance(rfr.feature_importances_, X_train.columns)"
   ]
  },
  {
   "cell_type": "code",
   "execution_count": 92,
   "metadata": {
    "ExecuteTime": {
     "end_time": "2020-09-19T18:04:56.048382Z",
     "start_time": "2020-09-19T18:04:56.044871Z"
    }
   },
   "outputs": [],
   "source": [
    "rfr = RandomForestRegressor(n_estimators=100,\n",
    "                            max_depth=16,\n",
    "                            max_features='sqrt',\n",
    "                            min_samples_split=2,\n",
    "                            verbose=100,\n",
    "                            random_state=42,)\n"
   ]
  },
  {
   "cell_type": "code",
   "execution_count": 209,
   "metadata": {
    "ExecuteTime": {
     "end_time": "2020-09-20T10:23:50.378758Z",
     "start_time": "2020-09-20T10:11:15.372527Z"
    }
   },
   "outputs": [
    {
     "name": "stderr",
     "output_type": "stream",
     "text": [
      "[Parallel(n_jobs=-1)]: Using backend LokyBackend with 8 concurrent workers.\n",
      "[Parallel(n_jobs=-1)]: Done   2 out of   5 | elapsed: 11.7min remaining: 17.5min\n",
      "[Parallel(n_jobs=-1)]: Done   3 out of   5 | elapsed: 12.6min remaining:  8.4min\n",
      "[Parallel(n_jobs=-1)]: Done   5 out of   5 | elapsed: 12.6min remaining:    0.0s\n"
     ]
    },
    {
     "ename": "KeyboardInterrupt",
     "evalue": "",
     "output_type": "error",
     "traceback": [
      "\u001b[0;31m---------------------------------------------------------------------------\u001b[0m",
      "\u001b[0;31mKeyboardInterrupt\u001b[0m                         Traceback (most recent call last)",
      "\u001b[0;32m/usr/local/lib/python3.8/site-packages/joblib/parallel.py\u001b[0m in \u001b[0;36mretrieve\u001b[0;34m(self)\u001b[0m\n\u001b[1;32m    920\u001b[0m                 \u001b[0;32mif\u001b[0m \u001b[0mgetattr\u001b[0m\u001b[0;34m(\u001b[0m\u001b[0mself\u001b[0m\u001b[0;34m.\u001b[0m\u001b[0m_backend\u001b[0m\u001b[0;34m,\u001b[0m \u001b[0;34m'supports_timeout'\u001b[0m\u001b[0;34m,\u001b[0m \u001b[0;32mFalse\u001b[0m\u001b[0;34m)\u001b[0m\u001b[0;34m:\u001b[0m\u001b[0;34m\u001b[0m\u001b[0;34m\u001b[0m\u001b[0m\n\u001b[0;32m--> 921\u001b[0;31m                     \u001b[0mself\u001b[0m\u001b[0;34m.\u001b[0m\u001b[0m_output\u001b[0m\u001b[0;34m.\u001b[0m\u001b[0mextend\u001b[0m\u001b[0;34m(\u001b[0m\u001b[0mjob\u001b[0m\u001b[0;34m.\u001b[0m\u001b[0mget\u001b[0m\u001b[0;34m(\u001b[0m\u001b[0mtimeout\u001b[0m\u001b[0;34m=\u001b[0m\u001b[0mself\u001b[0m\u001b[0;34m.\u001b[0m\u001b[0mtimeout\u001b[0m\u001b[0;34m)\u001b[0m\u001b[0;34m)\u001b[0m\u001b[0;34m\u001b[0m\u001b[0;34m\u001b[0m\u001b[0m\n\u001b[0m\u001b[1;32m    922\u001b[0m                 \u001b[0;32melse\u001b[0m\u001b[0;34m:\u001b[0m\u001b[0;34m\u001b[0m\u001b[0;34m\u001b[0m\u001b[0m\n",
      "\u001b[0;32m/usr/local/lib/python3.8/site-packages/joblib/_parallel_backends.py\u001b[0m in \u001b[0;36mwrap_future_result\u001b[0;34m(future, timeout)\u001b[0m\n\u001b[1;32m    541\u001b[0m         \u001b[0;32mtry\u001b[0m\u001b[0;34m:\u001b[0m\u001b[0;34m\u001b[0m\u001b[0;34m\u001b[0m\u001b[0m\n\u001b[0;32m--> 542\u001b[0;31m             \u001b[0;32mreturn\u001b[0m \u001b[0mfuture\u001b[0m\u001b[0;34m.\u001b[0m\u001b[0mresult\u001b[0m\u001b[0;34m(\u001b[0m\u001b[0mtimeout\u001b[0m\u001b[0;34m=\u001b[0m\u001b[0mtimeout\u001b[0m\u001b[0;34m)\u001b[0m\u001b[0;34m\u001b[0m\u001b[0;34m\u001b[0m\u001b[0m\n\u001b[0m\u001b[1;32m    543\u001b[0m         \u001b[0;32mexcept\u001b[0m \u001b[0mCfTimeoutError\u001b[0m \u001b[0;32mas\u001b[0m \u001b[0me\u001b[0m\u001b[0;34m:\u001b[0m\u001b[0;34m\u001b[0m\u001b[0;34m\u001b[0m\u001b[0m\n",
      "\u001b[0;32m/usr/local/Cellar/python@3.8/3.8.5/Frameworks/Python.framework/Versions/3.8/lib/python3.8/concurrent/futures/_base.py\u001b[0m in \u001b[0;36mresult\u001b[0;34m(self, timeout)\u001b[0m\n\u001b[1;32m    433\u001b[0m \u001b[0;34m\u001b[0m\u001b[0m\n\u001b[0;32m--> 434\u001b[0;31m             \u001b[0mself\u001b[0m\u001b[0;34m.\u001b[0m\u001b[0m_condition\u001b[0m\u001b[0;34m.\u001b[0m\u001b[0mwait\u001b[0m\u001b[0;34m(\u001b[0m\u001b[0mtimeout\u001b[0m\u001b[0;34m)\u001b[0m\u001b[0;34m\u001b[0m\u001b[0;34m\u001b[0m\u001b[0m\n\u001b[0m\u001b[1;32m    435\u001b[0m \u001b[0;34m\u001b[0m\u001b[0m\n",
      "\u001b[0;32m/usr/local/Cellar/python@3.8/3.8.5/Frameworks/Python.framework/Versions/3.8/lib/python3.8/threading.py\u001b[0m in \u001b[0;36mwait\u001b[0;34m(self, timeout)\u001b[0m\n\u001b[1;32m    301\u001b[0m             \u001b[0;32mif\u001b[0m \u001b[0mtimeout\u001b[0m \u001b[0;32mis\u001b[0m \u001b[0;32mNone\u001b[0m\u001b[0;34m:\u001b[0m\u001b[0;34m\u001b[0m\u001b[0;34m\u001b[0m\u001b[0m\n\u001b[0;32m--> 302\u001b[0;31m                 \u001b[0mwaiter\u001b[0m\u001b[0;34m.\u001b[0m\u001b[0macquire\u001b[0m\u001b[0;34m(\u001b[0m\u001b[0;34m)\u001b[0m\u001b[0;34m\u001b[0m\u001b[0;34m\u001b[0m\u001b[0m\n\u001b[0m\u001b[1;32m    303\u001b[0m                 \u001b[0mgotit\u001b[0m \u001b[0;34m=\u001b[0m \u001b[0;32mTrue\u001b[0m\u001b[0;34m\u001b[0m\u001b[0;34m\u001b[0m\u001b[0m\n",
      "\u001b[0;31mKeyboardInterrupt\u001b[0m: ",
      "\nDuring handling of the above exception, another exception occurred:\n",
      "\u001b[0;31mKeyboardInterrupt\u001b[0m                         Traceback (most recent call last)",
      "\u001b[0;32m<ipython-input-209-42ea1861d868>\u001b[0m in \u001b[0;36m<module>\u001b[0;34m\u001b[0m\n\u001b[0;32m----> 1\u001b[0;31m \u001b[0mresults\u001b[0m \u001b[0;34m=\u001b[0m \u001b[0mcross_validate\u001b[0m\u001b[0;34m(\u001b[0m\u001b[0mrfr\u001b[0m\u001b[0;34m,\u001b[0m \u001b[0mX\u001b[0m\u001b[0;34m,\u001b[0m \u001b[0mY\u001b[0m\u001b[0;34m,\u001b[0m \u001b[0mcv\u001b[0m\u001b[0;34m=\u001b[0m\u001b[0mKfold\u001b[0m\u001b[0;34m,\u001b[0m \u001b[0mscoring\u001b[0m\u001b[0;34m=\u001b[0m\u001b[0mscoring\u001b[0m\u001b[0;34m,\u001b[0m \u001b[0mn_jobs\u001b[0m\u001b[0;34m=\u001b[0m\u001b[0;34m-\u001b[0m\u001b[0;36m1\u001b[0m\u001b[0;34m,\u001b[0m \u001b[0mverbose\u001b[0m\u001b[0;34m=\u001b[0m\u001b[0;36m10\u001b[0m\u001b[0;34m)\u001b[0m\u001b[0;34m\u001b[0m\u001b[0;34m\u001b[0m\u001b[0m\n\u001b[0m",
      "\u001b[0;32m/usr/local/lib/python3.8/site-packages/sklearn/utils/validation.py\u001b[0m in \u001b[0;36minner_f\u001b[0;34m(*args, **kwargs)\u001b[0m\n\u001b[1;32m     71\u001b[0m                           FutureWarning)\n\u001b[1;32m     72\u001b[0m         \u001b[0mkwargs\u001b[0m\u001b[0;34m.\u001b[0m\u001b[0mupdate\u001b[0m\u001b[0;34m(\u001b[0m\u001b[0;34m{\u001b[0m\u001b[0mk\u001b[0m\u001b[0;34m:\u001b[0m \u001b[0marg\u001b[0m \u001b[0;32mfor\u001b[0m \u001b[0mk\u001b[0m\u001b[0;34m,\u001b[0m \u001b[0marg\u001b[0m \u001b[0;32min\u001b[0m \u001b[0mzip\u001b[0m\u001b[0;34m(\u001b[0m\u001b[0msig\u001b[0m\u001b[0;34m.\u001b[0m\u001b[0mparameters\u001b[0m\u001b[0;34m,\u001b[0m \u001b[0margs\u001b[0m\u001b[0;34m)\u001b[0m\u001b[0;34m}\u001b[0m\u001b[0;34m)\u001b[0m\u001b[0;34m\u001b[0m\u001b[0;34m\u001b[0m\u001b[0m\n\u001b[0;32m---> 73\u001b[0;31m         \u001b[0;32mreturn\u001b[0m \u001b[0mf\u001b[0m\u001b[0;34m(\u001b[0m\u001b[0;34m**\u001b[0m\u001b[0mkwargs\u001b[0m\u001b[0;34m)\u001b[0m\u001b[0;34m\u001b[0m\u001b[0;34m\u001b[0m\u001b[0m\n\u001b[0m\u001b[1;32m     74\u001b[0m     \u001b[0;32mreturn\u001b[0m \u001b[0minner_f\u001b[0m\u001b[0;34m\u001b[0m\u001b[0;34m\u001b[0m\u001b[0m\n\u001b[1;32m     75\u001b[0m \u001b[0;34m\u001b[0m\u001b[0m\n",
      "\u001b[0;32m/usr/local/lib/python3.8/site-packages/sklearn/model_selection/_validation.py\u001b[0m in \u001b[0;36mcross_validate\u001b[0;34m(estimator, X, y, groups, scoring, cv, n_jobs, verbose, fit_params, pre_dispatch, return_train_score, return_estimator, error_score)\u001b[0m\n\u001b[1;32m    240\u001b[0m     parallel = Parallel(n_jobs=n_jobs, verbose=verbose,\n\u001b[1;32m    241\u001b[0m                         pre_dispatch=pre_dispatch)\n\u001b[0;32m--> 242\u001b[0;31m     scores = parallel(\n\u001b[0m\u001b[1;32m    243\u001b[0m         delayed(_fit_and_score)(\n\u001b[1;32m    244\u001b[0m             \u001b[0mclone\u001b[0m\u001b[0;34m(\u001b[0m\u001b[0mestimator\u001b[0m\u001b[0;34m)\u001b[0m\u001b[0;34m,\u001b[0m \u001b[0mX\u001b[0m\u001b[0;34m,\u001b[0m \u001b[0my\u001b[0m\u001b[0;34m,\u001b[0m \u001b[0mscorers\u001b[0m\u001b[0;34m,\u001b[0m \u001b[0mtrain\u001b[0m\u001b[0;34m,\u001b[0m \u001b[0mtest\u001b[0m\u001b[0;34m,\u001b[0m \u001b[0mverbose\u001b[0m\u001b[0;34m,\u001b[0m \u001b[0;32mNone\u001b[0m\u001b[0;34m,\u001b[0m\u001b[0;34m\u001b[0m\u001b[0;34m\u001b[0m\u001b[0m\n",
      "\u001b[0;32m/usr/local/lib/python3.8/site-packages/joblib/parallel.py\u001b[0m in \u001b[0;36m__call__\u001b[0;34m(self, iterable)\u001b[0m\n\u001b[1;32m   1040\u001b[0m \u001b[0;34m\u001b[0m\u001b[0m\n\u001b[1;32m   1041\u001b[0m             \u001b[0;32mwith\u001b[0m \u001b[0mself\u001b[0m\u001b[0;34m.\u001b[0m\u001b[0m_backend\u001b[0m\u001b[0;34m.\u001b[0m\u001b[0mretrieval_context\u001b[0m\u001b[0;34m(\u001b[0m\u001b[0;34m)\u001b[0m\u001b[0;34m:\u001b[0m\u001b[0;34m\u001b[0m\u001b[0;34m\u001b[0m\u001b[0m\n\u001b[0;32m-> 1042\u001b[0;31m                 \u001b[0mself\u001b[0m\u001b[0;34m.\u001b[0m\u001b[0mretrieve\u001b[0m\u001b[0;34m(\u001b[0m\u001b[0;34m)\u001b[0m\u001b[0;34m\u001b[0m\u001b[0;34m\u001b[0m\u001b[0m\n\u001b[0m\u001b[1;32m   1043\u001b[0m             \u001b[0;31m# Make sure that we get a last message telling us we are done\u001b[0m\u001b[0;34m\u001b[0m\u001b[0;34m\u001b[0m\u001b[0;34m\u001b[0m\u001b[0m\n\u001b[1;32m   1044\u001b[0m             \u001b[0melapsed_time\u001b[0m \u001b[0;34m=\u001b[0m \u001b[0mtime\u001b[0m\u001b[0;34m.\u001b[0m\u001b[0mtime\u001b[0m\u001b[0;34m(\u001b[0m\u001b[0;34m)\u001b[0m \u001b[0;34m-\u001b[0m \u001b[0mself\u001b[0m\u001b[0;34m.\u001b[0m\u001b[0m_start_time\u001b[0m\u001b[0;34m\u001b[0m\u001b[0;34m\u001b[0m\u001b[0m\n",
      "\u001b[0;32m/usr/local/lib/python3.8/site-packages/joblib/parallel.py\u001b[0m in \u001b[0;36mretrieve\u001b[0;34m(self)\u001b[0m\n\u001b[1;32m    941\u001b[0m                     \u001b[0;31m# scheduling.\u001b[0m\u001b[0;34m\u001b[0m\u001b[0;34m\u001b[0m\u001b[0;34m\u001b[0m\u001b[0m\n\u001b[1;32m    942\u001b[0m                     \u001b[0mensure_ready\u001b[0m \u001b[0;34m=\u001b[0m \u001b[0mself\u001b[0m\u001b[0;34m.\u001b[0m\u001b[0m_managed_backend\u001b[0m\u001b[0;34m\u001b[0m\u001b[0;34m\u001b[0m\u001b[0m\n\u001b[0;32m--> 943\u001b[0;31m                     \u001b[0mbackend\u001b[0m\u001b[0;34m.\u001b[0m\u001b[0mabort_everything\u001b[0m\u001b[0;34m(\u001b[0m\u001b[0mensure_ready\u001b[0m\u001b[0;34m=\u001b[0m\u001b[0mensure_ready\u001b[0m\u001b[0;34m)\u001b[0m\u001b[0;34m\u001b[0m\u001b[0;34m\u001b[0m\u001b[0m\n\u001b[0m\u001b[1;32m    944\u001b[0m                 \u001b[0;32mraise\u001b[0m\u001b[0;34m\u001b[0m\u001b[0;34m\u001b[0m\u001b[0m\n\u001b[1;32m    945\u001b[0m \u001b[0;34m\u001b[0m\u001b[0m\n",
      "\u001b[0;32m/usr/local/lib/python3.8/site-packages/joblib/_parallel_backends.py\u001b[0m in \u001b[0;36mabort_everything\u001b[0;34m(self, ensure_ready)\u001b[0m\n\u001b[1;32m    559\u001b[0m         \"\"\"Shutdown the workers and restart a new one with the same parameters\n\u001b[1;32m    560\u001b[0m         \"\"\"\n\u001b[0;32m--> 561\u001b[0;31m         \u001b[0mself\u001b[0m\u001b[0;34m.\u001b[0m\u001b[0m_workers\u001b[0m\u001b[0;34m.\u001b[0m\u001b[0mterminate\u001b[0m\u001b[0;34m(\u001b[0m\u001b[0mkill_workers\u001b[0m\u001b[0;34m=\u001b[0m\u001b[0;32mTrue\u001b[0m\u001b[0;34m)\u001b[0m\u001b[0;34m\u001b[0m\u001b[0;34m\u001b[0m\u001b[0m\n\u001b[0m\u001b[1;32m    562\u001b[0m         \u001b[0mself\u001b[0m\u001b[0;34m.\u001b[0m\u001b[0m_workers\u001b[0m \u001b[0;34m=\u001b[0m \u001b[0;32mNone\u001b[0m\u001b[0;34m\u001b[0m\u001b[0;34m\u001b[0m\u001b[0m\n\u001b[1;32m    563\u001b[0m \u001b[0;34m\u001b[0m\u001b[0m\n",
      "\u001b[0;32m/usr/local/lib/python3.8/site-packages/joblib/executor.py\u001b[0m in \u001b[0;36mterminate\u001b[0;34m(self, kill_workers)\u001b[0m\n\u001b[1;32m     72\u001b[0m \u001b[0;34m\u001b[0m\u001b[0m\n\u001b[1;32m     73\u001b[0m     \u001b[0;32mdef\u001b[0m \u001b[0mterminate\u001b[0m\u001b[0;34m(\u001b[0m\u001b[0mself\u001b[0m\u001b[0;34m,\u001b[0m \u001b[0mkill_workers\u001b[0m\u001b[0;34m=\u001b[0m\u001b[0;32mFalse\u001b[0m\u001b[0;34m)\u001b[0m\u001b[0;34m:\u001b[0m\u001b[0;34m\u001b[0m\u001b[0;34m\u001b[0m\u001b[0m\n\u001b[0;32m---> 74\u001b[0;31m         \u001b[0mself\u001b[0m\u001b[0;34m.\u001b[0m\u001b[0mshutdown\u001b[0m\u001b[0;34m(\u001b[0m\u001b[0mkill_workers\u001b[0m\u001b[0;34m=\u001b[0m\u001b[0mkill_workers\u001b[0m\u001b[0;34m)\u001b[0m\u001b[0;34m\u001b[0m\u001b[0;34m\u001b[0m\u001b[0m\n\u001b[0m\u001b[1;32m     75\u001b[0m         \u001b[0;32mif\u001b[0m \u001b[0mkill_workers\u001b[0m\u001b[0;34m:\u001b[0m\u001b[0;34m\u001b[0m\u001b[0;34m\u001b[0m\u001b[0m\n\u001b[1;32m     76\u001b[0m             \u001b[0;31m# When workers are killed in such a brutal manner, they cannot\u001b[0m\u001b[0;34m\u001b[0m\u001b[0;34m\u001b[0m\u001b[0;34m\u001b[0m\u001b[0m\n",
      "\u001b[0;32m/usr/local/lib/python3.8/site-packages/joblib/externals/loky/process_executor.py\u001b[0m in \u001b[0;36mshutdown\u001b[0;34m(self, wait, kill_workers)\u001b[0m\n\u001b[1;32m   1169\u001b[0m \u001b[0;34m\u001b[0m\u001b[0m\n\u001b[1;32m   1170\u001b[0m         \u001b[0;32mif\u001b[0m \u001b[0mexecutor_manager_thread\u001b[0m \u001b[0;32mis\u001b[0m \u001b[0;32mnot\u001b[0m \u001b[0;32mNone\u001b[0m \u001b[0;32mand\u001b[0m \u001b[0mwait\u001b[0m\u001b[0;34m:\u001b[0m\u001b[0;34m\u001b[0m\u001b[0;34m\u001b[0m\u001b[0m\n\u001b[0;32m-> 1171\u001b[0;31m             \u001b[0mexecutor_manager_thread\u001b[0m\u001b[0;34m.\u001b[0m\u001b[0mjoin\u001b[0m\u001b[0;34m(\u001b[0m\u001b[0;34m)\u001b[0m\u001b[0;34m\u001b[0m\u001b[0;34m\u001b[0m\u001b[0m\n\u001b[0m\u001b[1;32m   1172\u001b[0m \u001b[0;34m\u001b[0m\u001b[0m\n\u001b[1;32m   1173\u001b[0m         \u001b[0;31m# To reduce the risk of opening too many files, remove references to\u001b[0m\u001b[0;34m\u001b[0m\u001b[0;34m\u001b[0m\u001b[0;34m\u001b[0m\u001b[0m\n",
      "\u001b[0;32m/usr/local/Cellar/python@3.8/3.8.5/Frameworks/Python.framework/Versions/3.8/lib/python3.8/threading.py\u001b[0m in \u001b[0;36mjoin\u001b[0;34m(self, timeout)\u001b[0m\n\u001b[1;32m   1009\u001b[0m \u001b[0;34m\u001b[0m\u001b[0m\n\u001b[1;32m   1010\u001b[0m         \u001b[0;32mif\u001b[0m \u001b[0mtimeout\u001b[0m \u001b[0;32mis\u001b[0m \u001b[0;32mNone\u001b[0m\u001b[0;34m:\u001b[0m\u001b[0;34m\u001b[0m\u001b[0;34m\u001b[0m\u001b[0m\n\u001b[0;32m-> 1011\u001b[0;31m             \u001b[0mself\u001b[0m\u001b[0;34m.\u001b[0m\u001b[0m_wait_for_tstate_lock\u001b[0m\u001b[0;34m(\u001b[0m\u001b[0;34m)\u001b[0m\u001b[0;34m\u001b[0m\u001b[0;34m\u001b[0m\u001b[0m\n\u001b[0m\u001b[1;32m   1012\u001b[0m         \u001b[0;32melse\u001b[0m\u001b[0;34m:\u001b[0m\u001b[0;34m\u001b[0m\u001b[0;34m\u001b[0m\u001b[0m\n\u001b[1;32m   1013\u001b[0m             \u001b[0;31m# the behavior of a negative timeout isn't documented, but\u001b[0m\u001b[0;34m\u001b[0m\u001b[0;34m\u001b[0m\u001b[0;34m\u001b[0m\u001b[0m\n",
      "\u001b[0;32m/usr/local/Cellar/python@3.8/3.8.5/Frameworks/Python.framework/Versions/3.8/lib/python3.8/threading.py\u001b[0m in \u001b[0;36m_wait_for_tstate_lock\u001b[0;34m(self, block, timeout)\u001b[0m\n\u001b[1;32m   1025\u001b[0m         \u001b[0;32mif\u001b[0m \u001b[0mlock\u001b[0m \u001b[0;32mis\u001b[0m \u001b[0;32mNone\u001b[0m\u001b[0;34m:\u001b[0m  \u001b[0;31m# already determined that the C code is done\u001b[0m\u001b[0;34m\u001b[0m\u001b[0;34m\u001b[0m\u001b[0m\n\u001b[1;32m   1026\u001b[0m             \u001b[0;32massert\u001b[0m \u001b[0mself\u001b[0m\u001b[0;34m.\u001b[0m\u001b[0m_is_stopped\u001b[0m\u001b[0;34m\u001b[0m\u001b[0;34m\u001b[0m\u001b[0m\n\u001b[0;32m-> 1027\u001b[0;31m         \u001b[0;32melif\u001b[0m \u001b[0mlock\u001b[0m\u001b[0;34m.\u001b[0m\u001b[0macquire\u001b[0m\u001b[0;34m(\u001b[0m\u001b[0mblock\u001b[0m\u001b[0;34m,\u001b[0m \u001b[0mtimeout\u001b[0m\u001b[0;34m)\u001b[0m\u001b[0;34m:\u001b[0m\u001b[0;34m\u001b[0m\u001b[0;34m\u001b[0m\u001b[0m\n\u001b[0m\u001b[1;32m   1028\u001b[0m             \u001b[0mlock\u001b[0m\u001b[0;34m.\u001b[0m\u001b[0mrelease\u001b[0m\u001b[0;34m(\u001b[0m\u001b[0;34m)\u001b[0m\u001b[0;34m\u001b[0m\u001b[0;34m\u001b[0m\u001b[0m\n\u001b[1;32m   1029\u001b[0m             \u001b[0mself\u001b[0m\u001b[0;34m.\u001b[0m\u001b[0m_stop\u001b[0m\u001b[0;34m(\u001b[0m\u001b[0;34m)\u001b[0m\u001b[0;34m\u001b[0m\u001b[0;34m\u001b[0m\u001b[0m\n",
      "\u001b[0;31mKeyboardInterrupt\u001b[0m: "
     ]
    }
   ],
   "source": [
    "results = cross_validate(rfr, X, Y, cv=Kfold, scoring=scoring, n_jobs=4, verbose=10)"
   ]
  },
  {
   "cell_type": "code",
   "execution_count": 100,
   "metadata": {
    "ExecuteTime": {
     "end_time": "2020-09-19T19:06:39.468810Z",
     "start_time": "2020-09-19T19:06:39.461357Z"
    }
   },
   "outputs": [
    {
     "data": {
      "text/html": [
       "<div>\n",
       "<style scoped>\n",
       "    .dataframe tbody tr th:only-of-type {\n",
       "        vertical-align: middle;\n",
       "    }\n",
       "\n",
       "    .dataframe tbody tr th {\n",
       "        vertical-align: top;\n",
       "    }\n",
       "\n",
       "    .dataframe thead th {\n",
       "        text-align: right;\n",
       "    }\n",
       "</style>\n",
       "<table border=\"1\" class=\"dataframe\">\n",
       "  <thead>\n",
       "    <tr style=\"text-align: right;\">\n",
       "      <th></th>\n",
       "      <th>rmse</th>\n",
       "      <th>r2</th>\n",
       "    </tr>\n",
       "  </thead>\n",
       "  <tbody>\n",
       "    <tr>\n",
       "      <th>0</th>\n",
       "      <td>0.686071</td>\n",
       "      <td>0.642683</td>\n",
       "    </tr>\n",
       "    <tr>\n",
       "      <th>1</th>\n",
       "      <td>0.540569</td>\n",
       "      <td>0.707159</td>\n",
       "    </tr>\n",
       "    <tr>\n",
       "      <th>2</th>\n",
       "      <td>0.695557</td>\n",
       "      <td>0.709193</td>\n",
       "    </tr>\n",
       "    <tr>\n",
       "      <th>3</th>\n",
       "      <td>0.593505</td>\n",
       "      <td>0.677166</td>\n",
       "    </tr>\n",
       "    <tr>\n",
       "      <th>4</th>\n",
       "      <td>0.582306</td>\n",
       "      <td>0.691719</td>\n",
       "    </tr>\n",
       "  </tbody>\n",
       "</table>\n",
       "</div>"
      ],
      "text/plain": [
       "       rmse        r2\n",
       "0  0.686071  0.642683\n",
       "1  0.540569  0.707159\n",
       "2  0.695557  0.709193\n",
       "3  0.593505  0.677166\n",
       "4  0.582306  0.691719"
      ]
     },
     "execution_count": 100,
     "metadata": {},
     "output_type": "execute_result"
    }
   ],
   "source": [
    "pd.DataFrame(scores)"
   ]
  },
  {
   "cell_type": "markdown",
   "metadata": {
    "heading_collapsed": true
   },
   "source": [
    "### Random forest hyperparam search"
   ]
  },
  {
   "cell_type": "code",
   "execution_count": 154,
   "metadata": {
    "ExecuteTime": {
     "end_time": "2020-09-17T18:08:41.645532Z",
     "start_time": "2020-09-17T18:08:41.632532Z"
    },
    "hidden": true
   },
   "outputs": [],
   "source": [
    "from sklearn.model_selection import RandomizedSearchCV"
   ]
  },
  {
   "cell_type": "code",
   "execution_count": 157,
   "metadata": {
    "ExecuteTime": {
     "end_time": "2020-09-17T19:05:45.589048Z",
     "start_time": "2020-09-17T18:19:23.865620Z"
    },
    "hidden": true
   },
   "outputs": [
    {
     "name": "stdout",
     "output_type": "stream",
     "text": [
      "Fitting 2 folds for each of 20 candidates, totalling 40 fits\n"
     ]
    },
    {
     "name": "stderr",
     "output_type": "stream",
     "text": [
      "[Parallel(n_jobs=-1)]: Using backend LokyBackend with 12 concurrent workers.\n",
      "[Parallel(n_jobs=-1)]: Done   1 tasks      | elapsed:   26.4s\n",
      "[Parallel(n_jobs=-1)]: Done   8 tasks      | elapsed:  1.7min\n",
      "[Parallel(n_jobs=-1)]: Done  17 tasks      | elapsed:  5.9min\n",
      "[Parallel(n_jobs=-1)]: Done  22 out of  40 | elapsed: 10.0min remaining:  8.2min\n",
      "[Parallel(n_jobs=-1)]: Done  27 out of  40 | elapsed: 13.9min remaining:  6.7min\n",
      "[Parallel(n_jobs=-1)]: Done  32 out of  40 | elapsed: 17.5min remaining:  4.4min\n",
      "[Parallel(n_jobs=-1)]: Done  37 out of  40 | elapsed: 26.2min remaining:  2.1min\n",
      "[Parallel(n_jobs=-1)]: Done  40 out of  40 | elapsed: 31.3min finished\n"
     ]
    },
    {
     "data": {
      "text/plain": [
       "RandomizedSearchCV(cv=2, error_score=nan,\n",
       "                   estimator=RandomForestRegressor(bootstrap=True,\n",
       "                                                   ccp_alpha=0.0,\n",
       "                                                   criterion='mse',\n",
       "                                                   max_depth=None,\n",
       "                                                   max_features='auto',\n",
       "                                                   max_leaf_nodes=None,\n",
       "                                                   max_samples=None,\n",
       "                                                   min_impurity_decrease=0.0,\n",
       "                                                   min_impurity_split=None,\n",
       "                                                   min_samples_leaf=1,\n",
       "                                                   min_samples_split=2,\n",
       "                                                   min_weight_fraction_leaf=0.0,\n",
       "                                                   n_estimators=100,\n",
       "                                                   n_jobs=None, oob_score=False,\n",
       "                                                   random_state=42, verbose=0,\n",
       "                                                   warm_start=False),\n",
       "                   iid='deprecated', n_iter=20, n_jobs=-1,\n",
       "                   param_distributions={'max_depth': [16, 50, 100, 200, 500],\n",
       "                                        'max_features': ['sqrt', 0.2, 0.5, 1],\n",
       "                                        'max_samples': [1, 0.5, 0.2, 0.03125],\n",
       "                                        'min_samples_split': [2, 100, 1000],\n",
       "                                        'n_estimators': [32, 50, 100, 200,\n",
       "                                                         500]},\n",
       "                   pre_dispatch='2*n_jobs', random_state=101, refit=True,\n",
       "                   return_train_score=False, scoring=None, verbose=10)"
      ]
     },
     "execution_count": 157,
     "metadata": {},
     "output_type": "execute_result"
    }
   ],
   "source": [
    "param_space = {\n",
    "    'n_estimators': [32, 50, 100, 200, 500],\n",
    "    'max_depth': [16, 50, 100, 200, 500],\n",
    "    'max_features': ['sqrt', 0.2, 0.5, 1],\n",
    "    'min_samples_split': [2, 100, 1000, ],\n",
    "    'max_samples': [1, 0.5, 0.2, 1/32]\n",
    "    \n",
    "}\n",
    "\n",
    "rs = RandomizedSearchCV(RandomForestRegressor(random_state=42),\n",
    "                        param_distributions=param_space,\n",
    "                        verbose=10,\n",
    "                        cv=2,\n",
    "                        n_iter=20,\n",
    "                        random_state= 101,\n",
    "                       n_jobs=-1)\n",
    "rs.fit(X_train, Y_train)"
   ]
  },
  {
   "cell_type": "code",
   "execution_count": 161,
   "metadata": {
    "ExecuteTime": {
     "end_time": "2020-09-18T03:27:45.287490Z",
     "start_time": "2020-09-18T03:27:45.262488Z"
    },
    "hidden": true
   },
   "outputs": [
    {
     "data": {
      "text/html": [
       "<div>\n",
       "<style scoped>\n",
       "    .dataframe tbody tr th:only-of-type {\n",
       "        vertical-align: middle;\n",
       "    }\n",
       "\n",
       "    .dataframe tbody tr th {\n",
       "        vertical-align: top;\n",
       "    }\n",
       "\n",
       "    .dataframe thead th {\n",
       "        text-align: right;\n",
       "    }\n",
       "</style>\n",
       "<table border=\"1\" class=\"dataframe\">\n",
       "  <thead>\n",
       "    <tr style=\"text-align: right;\">\n",
       "      <th></th>\n",
       "      <th>mean_fit_time</th>\n",
       "      <th>std_fit_time</th>\n",
       "      <th>mean_score_time</th>\n",
       "      <th>std_score_time</th>\n",
       "      <th>param_n_estimators</th>\n",
       "      <th>param_min_samples_split</th>\n",
       "      <th>param_max_samples</th>\n",
       "      <th>param_max_features</th>\n",
       "      <th>param_max_depth</th>\n",
       "      <th>params</th>\n",
       "      <th>split0_test_score</th>\n",
       "      <th>split1_test_score</th>\n",
       "      <th>mean_test_score</th>\n",
       "      <th>std_test_score</th>\n",
       "      <th>rank_test_score</th>\n",
       "    </tr>\n",
       "  </thead>\n",
       "  <tbody>\n",
       "    <tr>\n",
       "      <th>16</th>\n",
       "      <td>806.843132</td>\n",
       "      <td>15.826852</td>\n",
       "      <td>13.982409</td>\n",
       "      <td>2.281501</td>\n",
       "      <td>100</td>\n",
       "      <td>2</td>\n",
       "      <td>0.5</td>\n",
       "      <td>0.5</td>\n",
       "      <td>16</td>\n",
       "      <td>{'n_estimators': 100, 'min_samples_split': 2, ...</td>\n",
       "      <td>0.744811</td>\n",
       "      <td>0.716152</td>\n",
       "      <td>0.730482</td>\n",
       "      <td>0.014329</td>\n",
       "      <td>1</td>\n",
       "    </tr>\n",
       "    <tr>\n",
       "      <th>1</th>\n",
       "      <td>683.165437</td>\n",
       "      <td>25.975372</td>\n",
       "      <td>113.086752</td>\n",
       "      <td>10.637078</td>\n",
       "      <td>200</td>\n",
       "      <td>2</td>\n",
       "      <td>0.2</td>\n",
       "      <td>sqrt</td>\n",
       "      <td>200</td>\n",
       "      <td>{'n_estimators': 200, 'min_samples_split': 2, ...</td>\n",
       "      <td>0.725273</td>\n",
       "      <td>0.699259</td>\n",
       "      <td>0.712266</td>\n",
       "      <td>0.013007</td>\n",
       "      <td>2</td>\n",
       "    </tr>\n",
       "    <tr>\n",
       "      <th>19</th>\n",
       "      <td>935.684581</td>\n",
       "      <td>25.248265</td>\n",
       "      <td>59.881281</td>\n",
       "      <td>7.285805</td>\n",
       "      <td>500</td>\n",
       "      <td>100</td>\n",
       "      <td>0.2</td>\n",
       "      <td>0.2</td>\n",
       "      <td>16</td>\n",
       "      <td>{'n_estimators': 500, 'min_samples_split': 100...</td>\n",
       "      <td>0.726455</td>\n",
       "      <td>0.697856</td>\n",
       "      <td>0.712155</td>\n",
       "      <td>0.014299</td>\n",
       "      <td>3</td>\n",
       "    </tr>\n",
       "    <tr>\n",
       "      <th>0</th>\n",
       "      <td>1222.029005</td>\n",
       "      <td>51.409223</td>\n",
       "      <td>53.722193</td>\n",
       "      <td>2.687793</td>\n",
       "      <td>200</td>\n",
       "      <td>100</td>\n",
       "      <td>0.5</td>\n",
       "      <td>sqrt</td>\n",
       "      <td>500</td>\n",
       "      <td>{'n_estimators': 200, 'min_samples_split': 100...</td>\n",
       "      <td>0.708576</td>\n",
       "      <td>0.696385</td>\n",
       "      <td>0.702480</td>\n",
       "      <td>0.006096</td>\n",
       "      <td>4</td>\n",
       "    </tr>\n",
       "    <tr>\n",
       "      <th>8</th>\n",
       "      <td>1526.964338</td>\n",
       "      <td>32.744299</td>\n",
       "      <td>16.401848</td>\n",
       "      <td>2.107711</td>\n",
       "      <td>200</td>\n",
       "      <td>1000</td>\n",
       "      <td>0.5</td>\n",
       "      <td>0.5</td>\n",
       "      <td>200</td>\n",
       "      <td>{'n_estimators': 200, 'min_samples_split': 100...</td>\n",
       "      <td>0.717510</td>\n",
       "      <td>0.685622</td>\n",
       "      <td>0.701566</td>\n",
       "      <td>0.015944</td>\n",
       "      <td>5</td>\n",
       "    </tr>\n",
       "    <tr>\n",
       "      <th>10</th>\n",
       "      <td>89.413093</td>\n",
       "      <td>2.205078</td>\n",
       "      <td>18.424968</td>\n",
       "      <td>2.221946</td>\n",
       "      <td>100</td>\n",
       "      <td>100</td>\n",
       "      <td>0.03125</td>\n",
       "      <td>0.5</td>\n",
       "      <td>16</td>\n",
       "      <td>{'n_estimators': 100, 'min_samples_split': 100...</td>\n",
       "      <td>0.716219</td>\n",
       "      <td>0.682213</td>\n",
       "      <td>0.699216</td>\n",
       "      <td>0.017003</td>\n",
       "      <td>6</td>\n",
       "    </tr>\n",
       "    <tr>\n",
       "      <th>15</th>\n",
       "      <td>360.526446</td>\n",
       "      <td>36.563944</td>\n",
       "      <td>25.972757</td>\n",
       "      <td>4.428227</td>\n",
       "      <td>50</td>\n",
       "      <td>2</td>\n",
       "      <td>0.5</td>\n",
       "      <td>sqrt</td>\n",
       "      <td>50</td>\n",
       "      <td>{'n_estimators': 50, 'min_samples_split': 2, '...</td>\n",
       "      <td>0.723778</td>\n",
       "      <td>0.673631</td>\n",
       "      <td>0.698705</td>\n",
       "      <td>0.025074</td>\n",
       "      <td>7</td>\n",
       "    </tr>\n",
       "    <tr>\n",
       "      <th>11</th>\n",
       "      <td>143.395227</td>\n",
       "      <td>2.414826</td>\n",
       "      <td>5.597195</td>\n",
       "      <td>0.189515</td>\n",
       "      <td>32</td>\n",
       "      <td>1000</td>\n",
       "      <td>0.2</td>\n",
       "      <td>0.5</td>\n",
       "      <td>100</td>\n",
       "      <td>{'n_estimators': 32, 'min_samples_split': 1000...</td>\n",
       "      <td>0.702689</td>\n",
       "      <td>0.663473</td>\n",
       "      <td>0.683081</td>\n",
       "      <td>0.019608</td>\n",
       "      <td>8</td>\n",
       "    </tr>\n",
       "    <tr>\n",
       "      <th>14</th>\n",
       "      <td>210.065117</td>\n",
       "      <td>1.784000</td>\n",
       "      <td>8.534146</td>\n",
       "      <td>0.787572</td>\n",
       "      <td>32</td>\n",
       "      <td>1000</td>\n",
       "      <td>0.5</td>\n",
       "      <td>0.2</td>\n",
       "      <td>200</td>\n",
       "      <td>{'n_estimators': 32, 'min_samples_split': 1000...</td>\n",
       "      <td>0.701340</td>\n",
       "      <td>0.661766</td>\n",
       "      <td>0.681553</td>\n",
       "      <td>0.019787</td>\n",
       "      <td>9</td>\n",
       "    </tr>\n",
       "    <tr>\n",
       "      <th>18</th>\n",
       "      <td>29.495528</td>\n",
       "      <td>1.416485</td>\n",
       "      <td>15.190345</td>\n",
       "      <td>0.875552</td>\n",
       "      <td>50</td>\n",
       "      <td>100</td>\n",
       "      <td>0.03125</td>\n",
       "      <td>sqrt</td>\n",
       "      <td>50</td>\n",
       "      <td>{'n_estimators': 50, 'min_samples_split': 100,...</td>\n",
       "      <td>0.647065</td>\n",
       "      <td>0.640476</td>\n",
       "      <td>0.643770</td>\n",
       "      <td>0.003294</td>\n",
       "      <td>10</td>\n",
       "    </tr>\n",
       "    <tr>\n",
       "      <th>4</th>\n",
       "      <td>43.583104</td>\n",
       "      <td>5.309030</td>\n",
       "      <td>6.361866</td>\n",
       "      <td>0.349159</td>\n",
       "      <td>32</td>\n",
       "      <td>1000</td>\n",
       "      <td>0.03125</td>\n",
       "      <td>sqrt</td>\n",
       "      <td>50</td>\n",
       "      <td>{'n_estimators': 32, 'min_samples_split': 1000...</td>\n",
       "      <td>0.581395</td>\n",
       "      <td>0.533342</td>\n",
       "      <td>0.557369</td>\n",
       "      <td>0.024027</td>\n",
       "      <td>11</td>\n",
       "    </tr>\n",
       "    <tr>\n",
       "      <th>7</th>\n",
       "      <td>21.639971</td>\n",
       "      <td>1.308531</td>\n",
       "      <td>34.494959</td>\n",
       "      <td>0.185532</td>\n",
       "      <td>50</td>\n",
       "      <td>2</td>\n",
       "      <td>0.03125</td>\n",
       "      <td>1</td>\n",
       "      <td>500</td>\n",
       "      <td>{'n_estimators': 50, 'min_samples_split': 2, '...</td>\n",
       "      <td>0.487955</td>\n",
       "      <td>0.507128</td>\n",
       "      <td>0.497541</td>\n",
       "      <td>0.009586</td>\n",
       "      <td>12</td>\n",
       "    </tr>\n",
       "    <tr>\n",
       "      <th>9</th>\n",
       "      <td>806.168673</td>\n",
       "      <td>34.952445</td>\n",
       "      <td>109.005349</td>\n",
       "      <td>2.035587</td>\n",
       "      <td>200</td>\n",
       "      <td>100</td>\n",
       "      <td>0.5</td>\n",
       "      <td>1</td>\n",
       "      <td>500</td>\n",
       "      <td>{'n_estimators': 200, 'min_samples_split': 100...</td>\n",
       "      <td>0.445773</td>\n",
       "      <td>0.469054</td>\n",
       "      <td>0.457413</td>\n",
       "      <td>0.011640</td>\n",
       "      <td>13</td>\n",
       "    </tr>\n",
       "    <tr>\n",
       "      <th>3</th>\n",
       "      <td>207.332803</td>\n",
       "      <td>1.645578</td>\n",
       "      <td>63.526791</td>\n",
       "      <td>1.041578</td>\n",
       "      <td>100</td>\n",
       "      <td>100</td>\n",
       "      <td>0.2</td>\n",
       "      <td>1</td>\n",
       "      <td>200</td>\n",
       "      <td>{'n_estimators': 100, 'min_samples_split': 100...</td>\n",
       "      <td>0.378385</td>\n",
       "      <td>0.465080</td>\n",
       "      <td>0.421732</td>\n",
       "      <td>0.043347</td>\n",
       "      <td>14</td>\n",
       "    </tr>\n",
       "    <tr>\n",
       "      <th>2</th>\n",
       "      <td>159.919840</td>\n",
       "      <td>3.811347</td>\n",
       "      <td>31.321220</td>\n",
       "      <td>0.353992</td>\n",
       "      <td>32</td>\n",
       "      <td>2</td>\n",
       "      <td>0.5</td>\n",
       "      <td>1</td>\n",
       "      <td>50</td>\n",
       "      <td>{'n_estimators': 32, 'min_samples_split': 2, '...</td>\n",
       "      <td>0.345100</td>\n",
       "      <td>0.416865</td>\n",
       "      <td>0.380982</td>\n",
       "      <td>0.035883</td>\n",
       "      <td>15</td>\n",
       "    </tr>\n",
       "    <tr>\n",
       "      <th>6</th>\n",
       "      <td>12.079536</td>\n",
       "      <td>0.318504</td>\n",
       "      <td>4.904532</td>\n",
       "      <td>0.355502</td>\n",
       "      <td>100</td>\n",
       "      <td>2</td>\n",
       "      <td>1</td>\n",
       "      <td>sqrt</td>\n",
       "      <td>16</td>\n",
       "      <td>{'n_estimators': 100, 'min_samples_split': 2, ...</td>\n",
       "      <td>-0.003875</td>\n",
       "      <td>-0.000257</td>\n",
       "      <td>-0.002066</td>\n",
       "      <td>0.001809</td>\n",
       "      <td>16</td>\n",
       "    </tr>\n",
       "    <tr>\n",
       "      <th>12</th>\n",
       "      <td>19.590514</td>\n",
       "      <td>1.856210</td>\n",
       "      <td>12.159888</td>\n",
       "      <td>6.308738</td>\n",
       "      <td>100</td>\n",
       "      <td>1000</td>\n",
       "      <td>1</td>\n",
       "      <td>0.5</td>\n",
       "      <td>16</td>\n",
       "      <td>{'n_estimators': 100, 'min_samples_split': 100...</td>\n",
       "      <td>-0.003875</td>\n",
       "      <td>-0.000257</td>\n",
       "      <td>-0.002066</td>\n",
       "      <td>0.001809</td>\n",
       "      <td>16</td>\n",
       "    </tr>\n",
       "    <tr>\n",
       "      <th>13</th>\n",
       "      <td>23.955646</td>\n",
       "      <td>6.492173</td>\n",
       "      <td>8.673800</td>\n",
       "      <td>0.112962</td>\n",
       "      <td>200</td>\n",
       "      <td>2</td>\n",
       "      <td>1</td>\n",
       "      <td>0.2</td>\n",
       "      <td>100</td>\n",
       "      <td>{'n_estimators': 200, 'min_samples_split': 2, ...</td>\n",
       "      <td>-0.008441</td>\n",
       "      <td>-0.000553</td>\n",
       "      <td>-0.004497</td>\n",
       "      <td>0.003944</td>\n",
       "      <td>18</td>\n",
       "    </tr>\n",
       "    <tr>\n",
       "      <th>17</th>\n",
       "      <td>32.397514</td>\n",
       "      <td>0.018961</td>\n",
       "      <td>22.897868</td>\n",
       "      <td>0.371442</td>\n",
       "      <td>500</td>\n",
       "      <td>1000</td>\n",
       "      <td>1</td>\n",
       "      <td>1</td>\n",
       "      <td>200</td>\n",
       "      <td>{'n_estimators': 500, 'min_samples_split': 100...</td>\n",
       "      <td>-0.000283</td>\n",
       "      <td>-0.009638</td>\n",
       "      <td>-0.004961</td>\n",
       "      <td>0.004677</td>\n",
       "      <td>19</td>\n",
       "    </tr>\n",
       "    <tr>\n",
       "      <th>5</th>\n",
       "      <td>22.308529</td>\n",
       "      <td>2.950500</td>\n",
       "      <td>3.564518</td>\n",
       "      <td>0.690483</td>\n",
       "      <td>50</td>\n",
       "      <td>2</td>\n",
       "      <td>1</td>\n",
       "      <td>1</td>\n",
       "      <td>200</td>\n",
       "      <td>{'n_estimators': 50, 'min_samples_split': 2, '...</td>\n",
       "      <td>-0.000280</td>\n",
       "      <td>-0.019322</td>\n",
       "      <td>-0.009801</td>\n",
       "      <td>0.009521</td>\n",
       "      <td>20</td>\n",
       "    </tr>\n",
       "  </tbody>\n",
       "</table>\n",
       "</div>"
      ],
      "text/plain": [
       "    mean_fit_time  std_fit_time  mean_score_time  std_score_time  \\\n",
       "16     806.843132     15.826852        13.982409        2.281501   \n",
       "1      683.165437     25.975372       113.086752       10.637078   \n",
       "19     935.684581     25.248265        59.881281        7.285805   \n",
       "0     1222.029005     51.409223        53.722193        2.687793   \n",
       "8     1526.964338     32.744299        16.401848        2.107711   \n",
       "10      89.413093      2.205078        18.424968        2.221946   \n",
       "15     360.526446     36.563944        25.972757        4.428227   \n",
       "11     143.395227      2.414826         5.597195        0.189515   \n",
       "14     210.065117      1.784000         8.534146        0.787572   \n",
       "18      29.495528      1.416485        15.190345        0.875552   \n",
       "4       43.583104      5.309030         6.361866        0.349159   \n",
       "7       21.639971      1.308531        34.494959        0.185532   \n",
       "9      806.168673     34.952445       109.005349        2.035587   \n",
       "3      207.332803      1.645578        63.526791        1.041578   \n",
       "2      159.919840      3.811347        31.321220        0.353992   \n",
       "6       12.079536      0.318504         4.904532        0.355502   \n",
       "12      19.590514      1.856210        12.159888        6.308738   \n",
       "13      23.955646      6.492173         8.673800        0.112962   \n",
       "17      32.397514      0.018961        22.897868        0.371442   \n",
       "5       22.308529      2.950500         3.564518        0.690483   \n",
       "\n",
       "   param_n_estimators param_min_samples_split param_max_samples  \\\n",
       "16                100                       2               0.5   \n",
       "1                 200                       2               0.2   \n",
       "19                500                     100               0.2   \n",
       "0                 200                     100               0.5   \n",
       "8                 200                    1000               0.5   \n",
       "10                100                     100           0.03125   \n",
       "15                 50                       2               0.5   \n",
       "11                 32                    1000               0.2   \n",
       "14                 32                    1000               0.5   \n",
       "18                 50                     100           0.03125   \n",
       "4                  32                    1000           0.03125   \n",
       "7                  50                       2           0.03125   \n",
       "9                 200                     100               0.5   \n",
       "3                 100                     100               0.2   \n",
       "2                  32                       2               0.5   \n",
       "6                 100                       2                 1   \n",
       "12                100                    1000                 1   \n",
       "13                200                       2                 1   \n",
       "17                500                    1000                 1   \n",
       "5                  50                       2                 1   \n",
       "\n",
       "   param_max_features param_max_depth  \\\n",
       "16                0.5              16   \n",
       "1                sqrt             200   \n",
       "19                0.2              16   \n",
       "0                sqrt             500   \n",
       "8                 0.5             200   \n",
       "10                0.5              16   \n",
       "15               sqrt              50   \n",
       "11                0.5             100   \n",
       "14                0.2             200   \n",
       "18               sqrt              50   \n",
       "4                sqrt              50   \n",
       "7                   1             500   \n",
       "9                   1             500   \n",
       "3                   1             200   \n",
       "2                   1              50   \n",
       "6                sqrt              16   \n",
       "12                0.5              16   \n",
       "13                0.2             100   \n",
       "17                  1             200   \n",
       "5                   1             200   \n",
       "\n",
       "                                               params  split0_test_score  \\\n",
       "16  {'n_estimators': 100, 'min_samples_split': 2, ...           0.744811   \n",
       "1   {'n_estimators': 200, 'min_samples_split': 2, ...           0.725273   \n",
       "19  {'n_estimators': 500, 'min_samples_split': 100...           0.726455   \n",
       "0   {'n_estimators': 200, 'min_samples_split': 100...           0.708576   \n",
       "8   {'n_estimators': 200, 'min_samples_split': 100...           0.717510   \n",
       "10  {'n_estimators': 100, 'min_samples_split': 100...           0.716219   \n",
       "15  {'n_estimators': 50, 'min_samples_split': 2, '...           0.723778   \n",
       "11  {'n_estimators': 32, 'min_samples_split': 1000...           0.702689   \n",
       "14  {'n_estimators': 32, 'min_samples_split': 1000...           0.701340   \n",
       "18  {'n_estimators': 50, 'min_samples_split': 100,...           0.647065   \n",
       "4   {'n_estimators': 32, 'min_samples_split': 1000...           0.581395   \n",
       "7   {'n_estimators': 50, 'min_samples_split': 2, '...           0.487955   \n",
       "9   {'n_estimators': 200, 'min_samples_split': 100...           0.445773   \n",
       "3   {'n_estimators': 100, 'min_samples_split': 100...           0.378385   \n",
       "2   {'n_estimators': 32, 'min_samples_split': 2, '...           0.345100   \n",
       "6   {'n_estimators': 100, 'min_samples_split': 2, ...          -0.003875   \n",
       "12  {'n_estimators': 100, 'min_samples_split': 100...          -0.003875   \n",
       "13  {'n_estimators': 200, 'min_samples_split': 2, ...          -0.008441   \n",
       "17  {'n_estimators': 500, 'min_samples_split': 100...          -0.000283   \n",
       "5   {'n_estimators': 50, 'min_samples_split': 2, '...          -0.000280   \n",
       "\n",
       "    split1_test_score  mean_test_score  std_test_score  rank_test_score  \n",
       "16           0.716152         0.730482        0.014329                1  \n",
       "1            0.699259         0.712266        0.013007                2  \n",
       "19           0.697856         0.712155        0.014299                3  \n",
       "0            0.696385         0.702480        0.006096                4  \n",
       "8            0.685622         0.701566        0.015944                5  \n",
       "10           0.682213         0.699216        0.017003                6  \n",
       "15           0.673631         0.698705        0.025074                7  \n",
       "11           0.663473         0.683081        0.019608                8  \n",
       "14           0.661766         0.681553        0.019787                9  \n",
       "18           0.640476         0.643770        0.003294               10  \n",
       "4            0.533342         0.557369        0.024027               11  \n",
       "7            0.507128         0.497541        0.009586               12  \n",
       "9            0.469054         0.457413        0.011640               13  \n",
       "3            0.465080         0.421732        0.043347               14  \n",
       "2            0.416865         0.380982        0.035883               15  \n",
       "6           -0.000257        -0.002066        0.001809               16  \n",
       "12          -0.000257        -0.002066        0.001809               16  \n",
       "13          -0.000553        -0.004497        0.003944               18  \n",
       "17          -0.009638        -0.004961        0.004677               19  \n",
       "5           -0.019322        -0.009801        0.009521               20  "
      ]
     },
     "execution_count": 161,
     "metadata": {},
     "output_type": "execute_result"
    }
   ],
   "source": [
    "pd.DataFrame(rs.cv_results_).sort_values('rank_test_score')"
   ]
  },
  {
   "cell_type": "code",
   "execution_count": 164,
   "metadata": {
    "ExecuteTime": {
     "end_time": "2020-09-18T03:39:52.547362Z",
     "start_time": "2020-09-18T03:35:12.323736Z"
    },
    "hidden": true,
    "scrolled": true
   },
   "outputs": [
    {
     "name": "stderr",
     "output_type": "stream",
     "text": [
      "[Parallel(n_jobs=4)]: Using backend ThreadingBackend with 4 concurrent workers.\n"
     ]
    },
    {
     "name": "stdout",
     "output_type": "stream",
     "text": [
      "building tree 1 of 100building tree 2 of 100\n",
      "building tree 3 of 100\n",
      "\n",
      "building tree 4 of 100\n",
      "building tree 5 of 100\n",
      "building tree 6 of 100\n",
      "building tree 7 of 100\n",
      "building tree 8 of 100\n"
     ]
    },
    {
     "name": "stderr",
     "output_type": "stream",
     "text": [
      "[Parallel(n_jobs=4)]: Done   5 tasks      | elapsed:   23.3s\n"
     ]
    },
    {
     "name": "stdout",
     "output_type": "stream",
     "text": [
      "building tree 9 of 100\n",
      "building tree 10 of 100\n",
      "building tree 11 of 100\n",
      "building tree 12 of 100\n",
      "building tree 13 of 100\n",
      "building tree 14 of 100\n"
     ]
    },
    {
     "name": "stderr",
     "output_type": "stream",
     "text": [
      "[Parallel(n_jobs=4)]: Done  10 tasks      | elapsed:   37.7s\n"
     ]
    },
    {
     "name": "stdout",
     "output_type": "stream",
     "text": [
      "building tree 15 of 100\n",
      "building tree 16 of 100\n",
      "building tree 17 of 100\n",
      "building tree 18 of 100\n",
      "building tree 19 of 100\n",
      "building tree 20 of 100\n"
     ]
    },
    {
     "name": "stderr",
     "output_type": "stream",
     "text": [
      "[Parallel(n_jobs=4)]: Done  17 tasks      | elapsed:   54.3s\n"
     ]
    },
    {
     "name": "stdout",
     "output_type": "stream",
     "text": [
      "building tree 21 of 100\n",
      "building tree 22 of 100\n",
      "building tree 23 of 100\n",
      "building tree 24 of 100\n",
      "building tree 25 of 100\n",
      "building tree 26 of 100\n",
      "building tree 27 of 100\n"
     ]
    },
    {
     "name": "stderr",
     "output_type": "stream",
     "text": [
      "[Parallel(n_jobs=4)]: Done  24 tasks      | elapsed:  1.2min\n"
     ]
    },
    {
     "name": "stdout",
     "output_type": "stream",
     "text": [
      "building tree 28 of 100\n",
      "building tree 29 of 100\n",
      "building tree 30 of 100\n",
      "building tree 31 of 100\n",
      "building tree 32 of 100\n",
      "building tree 33 of 100\n",
      "building tree 34 of 100\n",
      "building tree 35 of 100\n",
      "building tree 36 of 100\n"
     ]
    },
    {
     "name": "stderr",
     "output_type": "stream",
     "text": [
      "[Parallel(n_jobs=4)]: Done  33 tasks      | elapsed:  1.6min\n"
     ]
    },
    {
     "name": "stdout",
     "output_type": "stream",
     "text": [
      "building tree 37 of 100\n",
      "building tree 38 of 100\n",
      "building tree 39 of 100\n",
      "building tree 40 of 100\n",
      "building tree 41 of 100\n",
      "building tree 42 of 100\n",
      "building tree 43 of 100\n",
      "building tree 44 of 100\n",
      "building tree 45 of 100\n",
      "building tree 46 of 100\n"
     ]
    },
    {
     "name": "stderr",
     "output_type": "stream",
     "text": [
      "[Parallel(n_jobs=4)]: Done  42 tasks      | elapsed:  2.0min\n"
     ]
    },
    {
     "name": "stdout",
     "output_type": "stream",
     "text": [
      "building tree 47 of 100\n",
      "building tree 48 of 100\n",
      "building tree 49 of 100\n",
      "building tree 50 of 100\n",
      "building tree 51 of 100\n",
      "building tree 52 of 100\n",
      "building tree 53 of 100\n",
      "building tree 54 of 100\n",
      "building tree 55 of 100\n",
      "building tree 56 of 100\n"
     ]
    },
    {
     "name": "stderr",
     "output_type": "stream",
     "text": [
      "[Parallel(n_jobs=4)]: Done  53 tasks      | elapsed:  2.6min\n"
     ]
    },
    {
     "name": "stdout",
     "output_type": "stream",
     "text": [
      "building tree 57 of 100\n",
      "building tree 58 of 100\n",
      "building tree 59 of 100\n",
      "building tree 60 of 100\n",
      "building tree 61 of 100\n",
      "building tree 62 of 100\n",
      "building tree 63 of 100\n",
      "building tree 64 of 100\n",
      "building tree 65 of 100\n",
      "building tree 66 of 100\n",
      "building tree 67 of 100\n",
      "building tree 68 of 100\n"
     ]
    },
    {
     "name": "stderr",
     "output_type": "stream",
     "text": [
      "[Parallel(n_jobs=4)]: Done  64 tasks      | elapsed:  3.1min\n"
     ]
    },
    {
     "name": "stdout",
     "output_type": "stream",
     "text": [
      "building tree 69 of 100\n",
      "building tree 70 of 100\n",
      "building tree 71 of 100\n",
      "building tree 72 of 100\n",
      "building tree 73 of 100\n",
      "building tree 74 of 100\n",
      "building tree 75 of 100\n",
      "building tree 76 of 100\n",
      "building tree 77 of 100\n",
      "building tree 78 of 100\n",
      "building tree 79 of 100\n",
      "building tree 80 of 100\n",
      "building tree 81 of 100\n"
     ]
    },
    {
     "name": "stderr",
     "output_type": "stream",
     "text": [
      "[Parallel(n_jobs=4)]: Done  77 tasks      | elapsed:  3.7min\n"
     ]
    },
    {
     "name": "stdout",
     "output_type": "stream",
     "text": [
      "building tree 82 of 100\n",
      "building tree 83 of 100\n",
      "building tree 84 of 100\n",
      "building tree 85 of 100\n",
      "building tree 86 of 100\n",
      "building tree 87 of 100\n",
      "building tree 88 of 100\n",
      "building tree 89 of 100\n",
      "building tree 90 of 100\n",
      "building tree 91 of 100\n",
      "building tree 92 of 100\n",
      "building tree 93 of 100\n"
     ]
    },
    {
     "name": "stderr",
     "output_type": "stream",
     "text": [
      "[Parallel(n_jobs=4)]: Done  90 tasks      | elapsed:  4.2min\n"
     ]
    },
    {
     "name": "stdout",
     "output_type": "stream",
     "text": [
      "building tree 94 of 100\n",
      "building tree 95 of 100\n",
      "building tree 96 of 100\n",
      "building tree 97 of 100\n",
      "building tree 98 of 100\n",
      "building tree 99 of 100\n",
      "building tree 100 of 100\n"
     ]
    },
    {
     "name": "stderr",
     "output_type": "stream",
     "text": [
      "[Parallel(n_jobs=4)]: Done 100 out of 100 | elapsed:  4.7min finished\n"
     ]
    },
    {
     "data": {
      "text/plain": [
       "RandomForestRegressor(bootstrap=True, ccp_alpha=0.0, criterion='mse',\n",
       "                      max_depth=16, max_features=0.5, max_leaf_nodes=None,\n",
       "                      max_samples=0.5, min_impurity_decrease=0.0,\n",
       "                      min_impurity_split=None, min_samples_leaf=1,\n",
       "                      min_samples_split=2, min_weight_fraction_leaf=0.0,\n",
       "                      n_estimators=100, n_jobs=4, oob_score=False,\n",
       "                      random_state=None, verbose=10, warm_start=False)"
      ]
     },
     "execution_count": 164,
     "metadata": {},
     "output_type": "execute_result"
    }
   ],
   "source": [
    "rfr = RandomForestRegressor(n_estimators=100,\n",
    "                            min_samples_split=2,\n",
    "                            max_samples=0.5,\n",
    "                            max_features=0.5,\n",
    "                            max_depth=16,\n",
    "                            n_jobs=4,\n",
    "                            verbose=10\n",
    "                           )\n",
    "rfr.fit(X_train, Y_train)"
   ]
  },
  {
   "cell_type": "code",
   "execution_count": 165,
   "metadata": {
    "ExecuteTime": {
     "end_time": "2020-09-18T03:39:53.198879Z",
     "start_time": "2020-09-18T03:39:52.898364Z"
    },
    "hidden": true
   },
   "outputs": [
    {
     "name": "stderr",
     "output_type": "stream",
     "text": [
      "[Parallel(n_jobs=4)]: Using backend ThreadingBackend with 4 concurrent workers.\n",
      "[Parallel(n_jobs=4)]: Done   5 tasks      | elapsed:    0.0s\n",
      "[Parallel(n_jobs=4)]: Done  10 tasks      | elapsed:    0.0s\n",
      "[Parallel(n_jobs=4)]: Done  17 tasks      | elapsed:    0.0s\n",
      "[Parallel(n_jobs=4)]: Done  24 tasks      | elapsed:    0.0s\n",
      "[Parallel(n_jobs=4)]: Done  33 tasks      | elapsed:    0.0s\n",
      "[Parallel(n_jobs=4)]: Done  42 tasks      | elapsed:    0.0s\n",
      "[Parallel(n_jobs=4)]: Done  53 tasks      | elapsed:    0.0s\n",
      "[Parallel(n_jobs=4)]: Done  64 tasks      | elapsed:    0.1s\n",
      "[Parallel(n_jobs=4)]: Done  77 tasks      | elapsed:    0.1s\n",
      "[Parallel(n_jobs=4)]: Done  90 tasks      | elapsed:    0.1s\n",
      "[Parallel(n_jobs=4)]: Done 100 out of 100 | elapsed:    0.1s finished\n"
     ]
    },
    {
     "data": {
      "text/plain": [
       "rmse    0.61078\n",
       "r2      0.70037\n",
       "dtype: float64"
      ]
     },
     "execution_count": 165,
     "metadata": {},
     "output_type": "execute_result"
    }
   ],
   "source": [
    "prediction = rfr.predict(X_val)\n",
    "prediction = inverse_scaling(prediction, 'count')\n",
    "\n",
    "metrics = {'rmse': lambda *args: mean_squared_error(*args, squared=False),\n",
    "           'r2': r2_score\n",
    "          }\n",
    "result = pd.Series({name: metric(inverse_scaling(Y_val, 'count'), prediction) for name, metric in metrics.items()})\n",
    "result"
   ]
  },
  {
   "cell_type": "code",
   "execution_count": 166,
   "metadata": {
    "ExecuteTime": {
     "end_time": "2020-09-18T03:39:53.910880Z",
     "start_time": "2020-09-18T03:39:53.551881Z"
    },
    "hidden": true
   },
   "outputs": [
    {
     "data": {
      "text/plain": [
       "<matplotlib.axes._subplots.AxesSubplot at 0x1986f2a3340>"
      ]
     },
     "execution_count": 166,
     "metadata": {},
     "output_type": "execute_result"
    },
    {
     "data": {
      "image/png": "[encoded data removed]",
      "text/plain": [
       "<Figure size 1152x576 with 1 Axes>"
      ]
     },
     "metadata": {
      "needs_background": "light"
     },
     "output_type": "display_data"
    }
   ],
   "source": [
    "\n",
    "pd.Series(rfr.feature_importances_, index=X_train.columns).plot.bar(figsize=(16, 8))"
   ]
  },
  {
   "cell_type": "markdown",
   "metadata": {},
   "source": [
    "### LightGBM"
   ]
  },
  {
   "cell_type": "code",
   "execution_count": 188,
   "metadata": {
    "ExecuteTime": {
     "end_time": "2020-09-26T13:16:40.033446Z",
     "start_time": "2020-09-26T13:16:39.989284Z"
    }
   },
   "outputs": [],
   "source": [
    "import lightgbm as lgb"
   ]
  },
  {
   "cell_type": "code",
   "execution_count": 288,
   "metadata": {
    "ExecuteTime": {
     "end_time": "2020-09-26T15:35:40.086347Z",
     "start_time": "2020-09-26T15:32:15.029225Z"
    },
    "scrolled": true
   },
   "outputs": [
    {
     "name": "stdout",
     "output_type": "stream",
     "text": [
      "[LightGBM] [Warning] feature_fraction is set with sub_feature=0.5, colsample_bytree=1.0 will be ignored. Current value: feature_fraction=0.5\n",
      "[LightGBM] [Warning] bagging_fraction is set=0.8, subsample=1.0 will be ignored. Current value: bagging_fraction=0.8\n",
      "[1]\tvalid_0's rmse: 1.02295\n",
      "Training until validation scores don't improve for 30 rounds\n",
      "[2]\tvalid_0's rmse: 1.01336\n",
      "[3]\tvalid_0's rmse: 1.00559\n",
      "[4]\tvalid_0's rmse: 0.990051\n",
      "[5]\tvalid_0's rmse: 0.982993\n",
      "[6]\tvalid_0's rmse: 0.968062\n",
      "[7]\tvalid_0's rmse: 0.954293\n",
      "[8]\tvalid_0's rmse: 0.947694\n",
      "[9]\tvalid_0's rmse: 0.940866\n",
      "[10]\tvalid_0's rmse: 0.927812\n",
      "[11]\tvalid_0's rmse: 0.91468\n",
      "[12]\tvalid_0's rmse: 0.909474\n",
      "[13]\tvalid_0's rmse: 0.902832\n",
      "[14]\tvalid_0's rmse: 0.891351\n",
      "[15]\tvalid_0's rmse: 0.886186\n",
      "[16]\tvalid_0's rmse: 0.881402\n",
      "[17]\tvalid_0's rmse: 0.876287\n",
      "[18]\tvalid_0's rmse: 0.866068\n",
      "[19]\tvalid_0's rmse: 0.861117\n",
      "[20]\tvalid_0's rmse: 0.850237\n",
      "[21]\tvalid_0's rmse: 0.841017\n",
      "[22]\tvalid_0's rmse: 0.831419\n",
      "[23]\tvalid_0's rmse: 0.822089\n",
      "[24]\tvalid_0's rmse: 0.813755\n",
      "[25]\tvalid_0's rmse: 0.809865\n",
      "[26]\tvalid_0's rmse: 0.801912\n",
      "[27]\tvalid_0's rmse: 0.798791\n",
      "[28]\tvalid_0's rmse: 0.791102\n",
      "[29]\tvalid_0's rmse: 0.78359\n",
      "[30]\tvalid_0's rmse: 0.780666\n",
      "[31]\tvalid_0's rmse: 0.77778\n",
      "[32]\tvalid_0's rmse: 0.770223\n",
      "[33]\tvalid_0's rmse: 0.763773\n",
      "[34]\tvalid_0's rmse: 0.757131\n",
      "[35]\tvalid_0's rmse: 0.754809\n",
      "[36]\tvalid_0's rmse: 0.752211\n",
      "[37]\tvalid_0's rmse: 0.745503\n",
      "[38]\tvalid_0's rmse: 0.74349\n",
      "[39]\tvalid_0's rmse: 0.737108\n",
      "[40]\tvalid_0's rmse: 0.735154\n",
      "[41]\tvalid_0's rmse: 0.729116\n",
      "[42]\tvalid_0's rmse: 0.727441\n",
      "[43]\tvalid_0's rmse: 0.725504\n",
      "[44]\tvalid_0's rmse: 0.719626\n",
      "[45]\tvalid_0's rmse: 0.714037\n",
      "[46]\tvalid_0's rmse: 0.709696\n",
      "[47]\tvalid_0's rmse: 0.708456\n",
      "[48]\tvalid_0's rmse: 0.703996\n",
      "[49]\tvalid_0's rmse: 0.702518\n",
      "[50]\tvalid_0's rmse: 0.7013\n",
      "[51]\tvalid_0's rmse: 0.696492\n",
      "[52]\tvalid_0's rmse: 0.695591\n",
      "[53]\tvalid_0's rmse: 0.694344\n",
      "[54]\tvalid_0's rmse: 0.693259\n",
      "[55]\tvalid_0's rmse: 0.692153\n",
      "[56]\tvalid_0's rmse: 0.688003\n",
      "[57]\tvalid_0's rmse: 0.687036\n",
      "[58]\tvalid_0's rmse: 0.682843\n",
      "[59]\tvalid_0's rmse: 0.679326\n",
      "[60]\tvalid_0's rmse: 0.678467\n",
      "[61]\tvalid_0's rmse: 0.675492\n",
      "[62]\tvalid_0's rmse: 0.674604\n",
      "[63]\tvalid_0's rmse: 0.671839\n",
      "[64]\tvalid_0's rmse: 0.671057\n",
      "[65]\tvalid_0's rmse: 0.667996\n",
      "[66]\tvalid_0's rmse: 0.66509\n",
      "[67]\tvalid_0's rmse: 0.662123\n",
      "[68]\tvalid_0's rmse: 0.658399\n",
      "[69]\tvalid_0's rmse: 0.655929\n",
      "[70]\tvalid_0's rmse: 0.655352\n",
      "[71]\tvalid_0's rmse: 0.652574\n",
      "[72]\tvalid_0's rmse: 0.64975\n",
      "[73]\tvalid_0's rmse: 0.649335\n",
      "[74]\tvalid_0's rmse: 0.649037\n",
      "[75]\tvalid_0's rmse: 0.648763\n",
      "[76]\tvalid_0's rmse: 0.64663\n",
      "[77]\tvalid_0's rmse: 0.644181\n",
      "[78]\tvalid_0's rmse: 0.641635\n",
      "[79]\tvalid_0's rmse: 0.641235\n",
      "[80]\tvalid_0's rmse: 0.638722\n",
      "[81]\tvalid_0's rmse: 0.638383\n",
      "[82]\tvalid_0's rmse: 0.636617\n",
      "[83]\tvalid_0's rmse: 0.634753\n",
      "[84]\tvalid_0's rmse: 0.632739\n",
      "[85]\tvalid_0's rmse: 0.630979\n",
      "[86]\tvalid_0's rmse: 0.629322\n",
      "[87]\tvalid_0's rmse: 0.629033\n",
      "[88]\tvalid_0's rmse: 0.627793\n",
      "[89]\tvalid_0's rmse: 0.625856\n",
      "[90]\tvalid_0's rmse: 0.624347\n",
      "[91]\tvalid_0's rmse: 0.624041\n",
      "[92]\tvalid_0's rmse: 0.623727\n",
      "[93]\tvalid_0's rmse: 0.623454\n",
      "[94]\tvalid_0's rmse: 0.623292\n",
      "[95]\tvalid_0's rmse: 0.623081\n",
      "[96]\tvalid_0's rmse: 0.621801\n",
      "[97]\tvalid_0's rmse: 0.620143\n",
      "[98]\tvalid_0's rmse: 0.619951\n",
      "[99]\tvalid_0's rmse: 0.618987\n",
      "[100]\tvalid_0's rmse: 0.617494\n",
      "[101]\tvalid_0's rmse: 0.61589\n",
      "[102]\tvalid_0's rmse: 0.615773\n",
      "[103]\tvalid_0's rmse: 0.614277\n",
      "[104]\tvalid_0's rmse: 0.614132\n",
      "[105]\tvalid_0's rmse: 0.614067\n",
      "[106]\tvalid_0's rmse: 0.612796\n",
      "[107]\tvalid_0's rmse: 0.61264\n",
      "[108]\tvalid_0's rmse: 0.612565\n",
      "[109]\tvalid_0's rmse: 0.611259\n",
      "[110]\tvalid_0's rmse: 0.611173\n",
      "[111]\tvalid_0's rmse: 0.609963\n",
      "[112]\tvalid_0's rmse: 0.609919\n",
      "[113]\tvalid_0's rmse: 0.60891\n",
      "[114]\tvalid_0's rmse: 0.607909\n",
      "[115]\tvalid_0's rmse: 0.606897\n",
      "[116]\tvalid_0's rmse: 0.606125\n",
      "[117]\tvalid_0's rmse: 0.60481\n",
      "[118]\tvalid_0's rmse: 0.604798\n",
      "[119]\tvalid_0's rmse: 0.603806\n",
      "[120]\tvalid_0's rmse: 0.602725\n",
      "[121]\tvalid_0's rmse: 0.601415\n",
      "[122]\tvalid_0's rmse: 0.600688\n",
      "[123]\tvalid_0's rmse: 0.599728\n",
      "[124]\tvalid_0's rmse: 0.599708\n",
      "[125]\tvalid_0's rmse: 0.599659\n",
      "[126]\tvalid_0's rmse: 0.599519\n",
      "[127]\tvalid_0's rmse: 0.599461\n",
      "[128]\tvalid_0's rmse: 0.598821\n",
      "[129]\tvalid_0's rmse: 0.597995\n",
      "[130]\tvalid_0's rmse: 0.597163\n",
      "[131]\tvalid_0's rmse: 0.596464\n",
      "[132]\tvalid_0's rmse: 0.596472\n",
      "[133]\tvalid_0's rmse: 0.595723\n",
      "[134]\tvalid_0's rmse: 0.595111\n",
      "[135]\tvalid_0's rmse: 0.595043\n",
      "[136]\tvalid_0's rmse: 0.594996\n",
      "[137]\tvalid_0's rmse: 0.594973\n",
      "[138]\tvalid_0's rmse: 0.594939\n",
      "[139]\tvalid_0's rmse: 0.593914\n",
      "[140]\tvalid_0's rmse: 0.593347\n",
      "[141]\tvalid_0's rmse: 0.592648\n",
      "[142]\tvalid_0's rmse: 0.592133\n",
      "[143]\tvalid_0's rmse: 0.592113\n",
      "[144]\tvalid_0's rmse: 0.592064\n",
      "[145]\tvalid_0's rmse: 0.591982\n",
      "[146]\tvalid_0's rmse: 0.591946\n",
      "[147]\tvalid_0's rmse: 0.591819\n",
      "[148]\tvalid_0's rmse: 0.591784\n",
      "[149]\tvalid_0's rmse: 0.591292\n",
      "[150]\tvalid_0's rmse: 0.590381\n",
      "[151]\tvalid_0's rmse: 0.589803\n",
      "[152]\tvalid_0's rmse: 0.589182\n",
      "[153]\tvalid_0's rmse: 0.589187\n",
      "[154]\tvalid_0's rmse: 0.588533\n",
      "[155]\tvalid_0's rmse: 0.588559\n",
      "[156]\tvalid_0's rmse: 0.588085\n",
      "[157]\tvalid_0's rmse: 0.588044\n",
      "[158]\tvalid_0's rmse: 0.587976\n",
      "[159]\tvalid_0's rmse: 0.587941\n",
      "[160]\tvalid_0's rmse: 0.587883\n",
      "[161]\tvalid_0's rmse: 0.587569\n",
      "[162]\tvalid_0's rmse: 0.586985\n",
      "[163]\tvalid_0's rmse: 0.58632\n",
      "[164]\tvalid_0's rmse: 0.585998\n",
      "[165]\tvalid_0's rmse: 0.585505\n",
      "[166]\tvalid_0's rmse: 0.585042\n",
      "[167]\tvalid_0's rmse: 0.585033\n",
      "[168]\tvalid_0's rmse: 0.584748\n",
      "[169]\tvalid_0's rmse: 0.584509\n",
      "[170]\tvalid_0's rmse: 0.584457\n",
      "[171]\tvalid_0's rmse: 0.584079\n",
      "[172]\tvalid_0's rmse: 0.583685\n",
      "[173]\tvalid_0's rmse: 0.583604\n",
      "[174]\tvalid_0's rmse: 0.583341\n",
      "[175]\tvalid_0's rmse: 0.583318\n",
      "[176]\tvalid_0's rmse: 0.58303\n",
      "[177]\tvalid_0's rmse: 0.582855\n",
      "[178]\tvalid_0's rmse: 0.582547\n",
      "[179]\tvalid_0's rmse: 0.582137\n",
      "[180]\tvalid_0's rmse: 0.582061\n",
      "[181]\tvalid_0's rmse: 0.582059\n",
      "[182]\tvalid_0's rmse: 0.582049\n",
      "[183]\tvalid_0's rmse: 0.581699\n",
      "[184]\tvalid_0's rmse: 0.581735\n",
      "[185]\tvalid_0's rmse: 0.581753\n",
      "[186]\tvalid_0's rmse: 0.581544\n",
      "[187]\tvalid_0's rmse: 0.581496\n",
      "[188]\tvalid_0's rmse: 0.581208\n",
      "[189]\tvalid_0's rmse: 0.581279\n",
      "[190]\tvalid_0's rmse: 0.581057\n",
      "[191]\tvalid_0's rmse: 0.581037\n",
      "[192]\tvalid_0's rmse: 0.580952\n",
      "[193]\tvalid_0's rmse: 0.580953\n",
      "[194]\tvalid_0's rmse: 0.580926\n",
      "[195]\tvalid_0's rmse: 0.580929\n",
      "[196]\tvalid_0's rmse: 0.580916\n",
      "[197]\tvalid_0's rmse: 0.58067\n",
      "[198]\tvalid_0's rmse: 0.58064\n",
      "[199]\tvalid_0's rmse: 0.580461\n",
      "[200]\tvalid_0's rmse: 0.580294\n",
      "[201]\tvalid_0's rmse: 0.579971\n",
      "[202]\tvalid_0's rmse: 0.579949\n",
      "[203]\tvalid_0's rmse: 0.579946\n",
      "[204]\tvalid_0's rmse: 0.579924\n",
      "[205]\tvalid_0's rmse: 0.579911\n",
      "[206]\tvalid_0's rmse: 0.579896\n",
      "[207]\tvalid_0's rmse: 0.579566\n",
      "[208]\tvalid_0's rmse: 0.579239\n",
      "[209]\tvalid_0's rmse: 0.57896\n",
      "[210]\tvalid_0's rmse: 0.578937\n",
      "[211]\tvalid_0's rmse: 0.578535\n",
      "[212]\tvalid_0's rmse: 0.578497\n",
      "[213]\tvalid_0's rmse: 0.578167\n",
      "[214]\tvalid_0's rmse: 0.57816\n",
      "[215]\tvalid_0's rmse: 0.578133\n",
      "[216]\tvalid_0's rmse: 0.577813\n",
      "[217]\tvalid_0's rmse: 0.57756\n",
      "[218]\tvalid_0's rmse: 0.577287\n",
      "[219]\tvalid_0's rmse: 0.577266\n",
      "[220]\tvalid_0's rmse: 0.577106\n",
      "[221]\tvalid_0's rmse: 0.57709\n",
      "[222]\tvalid_0's rmse: 0.577104\n",
      "[223]\tvalid_0's rmse: 0.57686\n",
      "[224]\tvalid_0's rmse: 0.576814\n",
      "[225]\tvalid_0's rmse: 0.576812\n",
      "[226]\tvalid_0's rmse: 0.576644\n",
      "[227]\tvalid_0's rmse: 0.576448\n",
      "[228]\tvalid_0's rmse: 0.576414\n",
      "[229]\tvalid_0's rmse: 0.576418\n",
      "[230]\tvalid_0's rmse: 0.576313\n",
      "[231]\tvalid_0's rmse: 0.57612\n",
      "[232]\tvalid_0's rmse: 0.576079\n",
      "[233]\tvalid_0's rmse: 0.576116\n",
      "[234]\tvalid_0's rmse: 0.576105\n",
      "[235]\tvalid_0's rmse: 0.575835\n",
      "[236]\tvalid_0's rmse: 0.575809\n",
      "[237]\tvalid_0's rmse: 0.575792\n",
      "[238]\tvalid_0's rmse: 0.575469\n",
      "[239]\tvalid_0's rmse: 0.575244\n",
      "[240]\tvalid_0's rmse: 0.574973\n",
      "[241]\tvalid_0's rmse: 0.574703\n",
      "[242]\tvalid_0's rmse: 0.574721\n",
      "[243]\tvalid_0's rmse: 0.574699\n",
      "[244]\tvalid_0's rmse: 0.574662\n",
      "[245]\tvalid_0's rmse: 0.574646\n",
      "[246]\tvalid_0's rmse: 0.574689\n",
      "[247]\tvalid_0's rmse: 0.574685\n",
      "[248]\tvalid_0's rmse: 0.574667\n",
      "[249]\tvalid_0's rmse: 0.574652\n",
      "[250]\tvalid_0's rmse: 0.574592\n",
      "[251]\tvalid_0's rmse: 0.574361\n",
      "[252]\tvalid_0's rmse: 0.574352\n",
      "[253]\tvalid_0's rmse: 0.574371\n",
      "[254]\tvalid_0's rmse: 0.574455\n",
      "[255]\tvalid_0's rmse: 0.57444\n",
      "[256]\tvalid_0's rmse: 0.574258\n",
      "[257]\tvalid_0's rmse: 0.574061\n",
      "[258]\tvalid_0's rmse: 0.574043\n",
      "[259]\tvalid_0's rmse: 0.573993\n"
     ]
    },
    {
     "name": "stdout",
     "output_type": "stream",
     "text": [
      "[260]\tvalid_0's rmse: 0.573955\n",
      "[261]\tvalid_0's rmse: 0.573811\n",
      "[262]\tvalid_0's rmse: 0.573791\n",
      "[263]\tvalid_0's rmse: 0.573772\n",
      "[264]\tvalid_0's rmse: 0.573715\n",
      "[265]\tvalid_0's rmse: 0.573637\n",
      "[266]\tvalid_0's rmse: 0.573576\n",
      "[267]\tvalid_0's rmse: 0.57355\n",
      "[268]\tvalid_0's rmse: 0.573562\n",
      "[269]\tvalid_0's rmse: 0.573527\n",
      "[270]\tvalid_0's rmse: 0.573388\n",
      "[271]\tvalid_0's rmse: 0.573394\n",
      "[272]\tvalid_0's rmse: 0.573394\n",
      "[273]\tvalid_0's rmse: 0.573397\n",
      "[274]\tvalid_0's rmse: 0.573402\n",
      "[275]\tvalid_0's rmse: 0.573368\n",
      "[276]\tvalid_0's rmse: 0.57332\n",
      "[277]\tvalid_0's rmse: 0.573315\n",
      "[278]\tvalid_0's rmse: 0.573308\n",
      "[279]\tvalid_0's rmse: 0.573315\n",
      "[280]\tvalid_0's rmse: 0.573339\n",
      "[281]\tvalid_0's rmse: 0.57335\n",
      "[282]\tvalid_0's rmse: 0.573348\n",
      "[283]\tvalid_0's rmse: 0.573366\n",
      "[284]\tvalid_0's rmse: 0.573345\n",
      "[285]\tvalid_0's rmse: 0.573349\n",
      "[286]\tvalid_0's rmse: 0.573307\n",
      "[287]\tvalid_0's rmse: 0.573334\n",
      "[288]\tvalid_0's rmse: 0.57331\n",
      "[289]\tvalid_0's rmse: 0.57327\n",
      "[290]\tvalid_0's rmse: 0.573256\n",
      "[291]\tvalid_0's rmse: 0.573243\n",
      "[292]\tvalid_0's rmse: 0.57327\n",
      "[293]\tvalid_0's rmse: 0.573243\n",
      "[294]\tvalid_0's rmse: 0.573239\n",
      "[295]\tvalid_0's rmse: 0.573239\n",
      "[296]\tvalid_0's rmse: 0.573201\n",
      "[297]\tvalid_0's rmse: 0.573165\n",
      "[298]\tvalid_0's rmse: 0.573195\n",
      "[299]\tvalid_0's rmse: 0.57316\n",
      "[300]\tvalid_0's rmse: 0.572914\n",
      "[301]\tvalid_0's rmse: 0.572854\n",
      "[302]\tvalid_0's rmse: 0.572933\n",
      "[303]\tvalid_0's rmse: 0.572909\n",
      "[304]\tvalid_0's rmse: 0.572861\n",
      "[305]\tvalid_0's rmse: 0.572852\n",
      "[306]\tvalid_0's rmse: 0.572914\n",
      "[307]\tvalid_0's rmse: 0.572824\n",
      "[308]\tvalid_0's rmse: 0.572861\n",
      "[309]\tvalid_0's rmse: 0.57286\n",
      "[310]\tvalid_0's rmse: 0.572801\n",
      "[311]\tvalid_0's rmse: 0.572774\n",
      "[312]\tvalid_0's rmse: 0.572769\n",
      "[313]\tvalid_0's rmse: 0.572788\n",
      "[314]\tvalid_0's rmse: 0.572811\n",
      "[315]\tvalid_0's rmse: 0.572792\n",
      "[316]\tvalid_0's rmse: 0.57277\n",
      "[317]\tvalid_0's rmse: 0.572756\n",
      "[318]\tvalid_0's rmse: 0.572756\n",
      "[319]\tvalid_0's rmse: 0.572748\n",
      "[320]\tvalid_0's rmse: 0.572792\n",
      "[321]\tvalid_0's rmse: 0.572803\n",
      "[322]\tvalid_0's rmse: 0.572753\n",
      "[323]\tvalid_0's rmse: 0.572777\n",
      "[324]\tvalid_0's rmse: 0.572637\n",
      "[325]\tvalid_0's rmse: 0.572538\n",
      "[326]\tvalid_0's rmse: 0.572411\n",
      "[327]\tvalid_0's rmse: 0.57238\n",
      "[328]\tvalid_0's rmse: 0.572386\n",
      "[329]\tvalid_0's rmse: 0.572444\n",
      "[330]\tvalid_0's rmse: 0.572436\n",
      "[331]\tvalid_0's rmse: 0.572435\n",
      "[332]\tvalid_0's rmse: 0.572249\n",
      "[333]\tvalid_0's rmse: 0.572246\n",
      "[334]\tvalid_0's rmse: 0.572239\n",
      "[335]\tvalid_0's rmse: 0.572172\n",
      "[336]\tvalid_0's rmse: 0.572195\n",
      "[337]\tvalid_0's rmse: 0.571872\n",
      "[338]\tvalid_0's rmse: 0.571889\n",
      "[339]\tvalid_0's rmse: 0.571882\n",
      "[340]\tvalid_0's rmse: 0.571899\n",
      "[341]\tvalid_0's rmse: 0.57198\n",
      "[342]\tvalid_0's rmse: 0.571844\n",
      "[343]\tvalid_0's rmse: 0.571815\n",
      "[344]\tvalid_0's rmse: 0.571815\n",
      "[345]\tvalid_0's rmse: 0.571788\n",
      "[346]\tvalid_0's rmse: 0.571777\n",
      "[347]\tvalid_0's rmse: 0.571816\n",
      "[348]\tvalid_0's rmse: 0.571881\n",
      "[349]\tvalid_0's rmse: 0.571901\n",
      "[350]\tvalid_0's rmse: 0.571895\n",
      "[351]\tvalid_0's rmse: 0.571818\n",
      "[352]\tvalid_0's rmse: 0.571724\n",
      "[353]\tvalid_0's rmse: 0.571716\n",
      "[354]\tvalid_0's rmse: 0.571693\n",
      "[355]\tvalid_0's rmse: 0.571732\n",
      "[356]\tvalid_0's rmse: 0.571738\n",
      "[357]\tvalid_0's rmse: 0.571748\n",
      "[358]\tvalid_0's rmse: 0.571741\n",
      "[359]\tvalid_0's rmse: 0.571726\n",
      "[360]\tvalid_0's rmse: 0.571714\n",
      "[361]\tvalid_0's rmse: 0.571667\n",
      "[362]\tvalid_0's rmse: 0.571609\n",
      "[363]\tvalid_0's rmse: 0.57162\n",
      "[364]\tvalid_0's rmse: 0.571637\n",
      "[365]\tvalid_0's rmse: 0.571658\n",
      "[366]\tvalid_0's rmse: 0.571638\n",
      "[367]\tvalid_0's rmse: 0.571637\n",
      "[368]\tvalid_0's rmse: 0.571746\n",
      "[369]\tvalid_0's rmse: 0.571649\n",
      "[370]\tvalid_0's rmse: 0.571611\n",
      "[371]\tvalid_0's rmse: 0.571627\n",
      "[372]\tvalid_0's rmse: 0.571647\n",
      "[373]\tvalid_0's rmse: 0.571661\n",
      "[374]\tvalid_0's rmse: 0.571493\n",
      "[375]\tvalid_0's rmse: 0.571439\n",
      "[376]\tvalid_0's rmse: 0.571384\n",
      "[377]\tvalid_0's rmse: 0.571271\n",
      "[378]\tvalid_0's rmse: 0.571227\n",
      "[379]\tvalid_0's rmse: 0.571231\n",
      "[380]\tvalid_0's rmse: 0.57122\n",
      "[381]\tvalid_0's rmse: 0.571186\n",
      "[382]\tvalid_0's rmse: 0.571218\n",
      "[383]\tvalid_0's rmse: 0.571209\n",
      "[384]\tvalid_0's rmse: 0.571206\n",
      "[385]\tvalid_0's rmse: 0.571216\n",
      "[386]\tvalid_0's rmse: 0.571186\n",
      "[387]\tvalid_0's rmse: 0.571178\n",
      "[388]\tvalid_0's rmse: 0.571148\n",
      "[389]\tvalid_0's rmse: 0.571139\n",
      "[390]\tvalid_0's rmse: 0.571131\n",
      "[391]\tvalid_0's rmse: 0.571135\n",
      "[392]\tvalid_0's rmse: 0.571137\n",
      "[393]\tvalid_0's rmse: 0.571133\n",
      "[394]\tvalid_0's rmse: 0.571101\n",
      "[395]\tvalid_0's rmse: 0.571102\n",
      "[396]\tvalid_0's rmse: 0.571114\n",
      "[397]\tvalid_0's rmse: 0.571123\n",
      "[398]\tvalid_0's rmse: 0.571115\n",
      "[399]\tvalid_0's rmse: 0.571113\n",
      "[400]\tvalid_0's rmse: 0.57112\n",
      "[401]\tvalid_0's rmse: 0.571049\n",
      "[402]\tvalid_0's rmse: 0.571026\n",
      "[403]\tvalid_0's rmse: 0.570851\n",
      "[404]\tvalid_0's rmse: 0.570842\n",
      "[405]\tvalid_0's rmse: 0.570789\n",
      "[406]\tvalid_0's rmse: 0.570821\n",
      "[407]\tvalid_0's rmse: 0.570845\n",
      "[408]\tvalid_0's rmse: 0.570753\n",
      "[409]\tvalid_0's rmse: 0.570683\n",
      "[410]\tvalid_0's rmse: 0.570645\n",
      "[411]\tvalid_0's rmse: 0.570622\n",
      "[412]\tvalid_0's rmse: 0.570653\n",
      "[413]\tvalid_0's rmse: 0.570656\n",
      "[414]\tvalid_0's rmse: 0.570772\n",
      "[415]\tvalid_0's rmse: 0.570715\n",
      "[416]\tvalid_0's rmse: 0.570686\n",
      "[417]\tvalid_0's rmse: 0.570647\n",
      "[418]\tvalid_0's rmse: 0.570622\n",
      "[419]\tvalid_0's rmse: 0.570578\n",
      "[420]\tvalid_0's rmse: 0.570511\n",
      "[421]\tvalid_0's rmse: 0.570467\n",
      "[422]\tvalid_0's rmse: 0.570417\n",
      "[423]\tvalid_0's rmse: 0.570412\n",
      "[424]\tvalid_0's rmse: 0.570303\n",
      "[425]\tvalid_0's rmse: 0.570306\n",
      "[426]\tvalid_0's rmse: 0.570243\n",
      "[427]\tvalid_0's rmse: 0.570247\n",
      "[428]\tvalid_0's rmse: 0.570262\n",
      "[429]\tvalid_0's rmse: 0.570269\n",
      "[430]\tvalid_0's rmse: 0.570266\n",
      "[431]\tvalid_0's rmse: 0.570306\n",
      "[432]\tvalid_0's rmse: 0.570119\n",
      "[433]\tvalid_0's rmse: 0.570119\n",
      "[434]\tvalid_0's rmse: 0.570145\n",
      "[435]\tvalid_0's rmse: 0.570148\n",
      "[436]\tvalid_0's rmse: 0.570164\n",
      "[437]\tvalid_0's rmse: 0.570158\n",
      "[438]\tvalid_0's rmse: 0.570163\n",
      "[439]\tvalid_0's rmse: 0.570145\n",
      "[440]\tvalid_0's rmse: 0.570148\n",
      "[441]\tvalid_0's rmse: 0.570146\n",
      "[442]\tvalid_0's rmse: 0.570313\n",
      "[443]\tvalid_0's rmse: 0.570322\n",
      "[444]\tvalid_0's rmse: 0.570324\n",
      "[445]\tvalid_0's rmse: 0.570256\n",
      "[446]\tvalid_0's rmse: 0.570264\n",
      "[447]\tvalid_0's rmse: 0.570269\n",
      "[448]\tvalid_0's rmse: 0.570088\n",
      "[449]\tvalid_0's rmse: 0.570079\n",
      "[450]\tvalid_0's rmse: 0.570064\n",
      "[451]\tvalid_0's rmse: 0.570077\n",
      "[452]\tvalid_0's rmse: 0.570103\n",
      "[453]\tvalid_0's rmse: 0.570117\n",
      "[454]\tvalid_0's rmse: 0.57011\n",
      "[455]\tvalid_0's rmse: 0.57014\n",
      "[456]\tvalid_0's rmse: 0.57012\n",
      "[457]\tvalid_0's rmse: 0.570091\n",
      "[458]\tvalid_0's rmse: 0.57007\n",
      "[459]\tvalid_0's rmse: 0.570068\n",
      "[460]\tvalid_0's rmse: 0.570004\n",
      "[461]\tvalid_0's rmse: 0.569997\n",
      "[462]\tvalid_0's rmse: 0.56999\n",
      "[463]\tvalid_0's rmse: 0.569989\n",
      "[464]\tvalid_0's rmse: 0.570003\n",
      "[465]\tvalid_0's rmse: 0.56995\n",
      "[466]\tvalid_0's rmse: 0.569933\n",
      "[467]\tvalid_0's rmse: 0.569919\n",
      "[468]\tvalid_0's rmse: 0.569937\n",
      "[469]\tvalid_0's rmse: 0.569946\n",
      "[470]\tvalid_0's rmse: 0.569919\n",
      "[471]\tvalid_0's rmse: 0.569858\n",
      "[472]\tvalid_0's rmse: 0.569706\n",
      "[473]\tvalid_0's rmse: 0.569699\n",
      "[474]\tvalid_0's rmse: 0.569737\n",
      "[475]\tvalid_0's rmse: 0.569752\n",
      "[476]\tvalid_0's rmse: 0.569744\n",
      "[477]\tvalid_0's rmse: 0.569768\n",
      "[478]\tvalid_0's rmse: 0.569738\n",
      "[479]\tvalid_0's rmse: 0.56973\n",
      "[480]\tvalid_0's rmse: 0.569731\n",
      "[481]\tvalid_0's rmse: 0.569723\n",
      "[482]\tvalid_0's rmse: 0.569722\n",
      "[483]\tvalid_0's rmse: 0.569708\n",
      "[484]\tvalid_0's rmse: 0.569694\n",
      "[485]\tvalid_0's rmse: 0.569675\n",
      "[486]\tvalid_0's rmse: 0.569676\n",
      "[487]\tvalid_0's rmse: 0.569676\n",
      "[488]\tvalid_0's rmse: 0.569664\n",
      "[489]\tvalid_0's rmse: 0.569624\n",
      "[490]\tvalid_0's rmse: 0.569606\n",
      "[491]\tvalid_0's rmse: 0.569621\n",
      "[492]\tvalid_0's rmse: 0.56962\n",
      "[493]\tvalid_0's rmse: 0.569631\n",
      "[494]\tvalid_0's rmse: 0.569683\n",
      "[495]\tvalid_0's rmse: 0.569693\n",
      "[496]\tvalid_0's rmse: 0.56969\n",
      "[497]\tvalid_0's rmse: 0.569692\n",
      "[498]\tvalid_0's rmse: 0.569699\n",
      "[499]\tvalid_0's rmse: 0.569648\n",
      "[500]\tvalid_0's rmse: 0.569652\n",
      "[501]\tvalid_0's rmse: 0.569644\n",
      "[502]\tvalid_0's rmse: 0.56964\n",
      "[503]\tvalid_0's rmse: 0.569673\n",
      "[504]\tvalid_0's rmse: 0.569684\n",
      "[505]\tvalid_0's rmse: 0.569679\n",
      "[506]\tvalid_0's rmse: 0.56966\n",
      "[507]\tvalid_0's rmse: 0.569644\n",
      "[508]\tvalid_0's rmse: 0.569642\n",
      "[509]\tvalid_0's rmse: 0.569633\n",
      "[510]\tvalid_0's rmse: 0.569634\n",
      "[511]\tvalid_0's rmse: 0.569631\n",
      "[512]\tvalid_0's rmse: 0.569618\n",
      "[513]\tvalid_0's rmse: 0.569615\n",
      "[514]\tvalid_0's rmse: 0.569637\n",
      "[515]\tvalid_0's rmse: 0.569579\n",
      "[516]\tvalid_0's rmse: 0.569581\n",
      "[517]\tvalid_0's rmse: 0.569819\n",
      "[518]\tvalid_0's rmse: 0.569853\n",
      "[519]\tvalid_0's rmse: 0.569854\n",
      "[520]\tvalid_0's rmse: 0.569784\n",
      "[521]\tvalid_0's rmse: 0.569784\n",
      "[522]\tvalid_0's rmse: 0.569772\n",
      "[523]\tvalid_0's rmse: 0.569684\n",
      "[524]\tvalid_0's rmse: 0.569618\n",
      "[525]\tvalid_0's rmse: 0.569539\n"
     ]
    },
    {
     "name": "stdout",
     "output_type": "stream",
     "text": [
      "[526]\tvalid_0's rmse: 0.569544\n",
      "[527]\tvalid_0's rmse: 0.569547\n",
      "[528]\tvalid_0's rmse: 0.569533\n",
      "[529]\tvalid_0's rmse: 0.569528\n",
      "[530]\tvalid_0's rmse: 0.569505\n",
      "[531]\tvalid_0's rmse: 0.56948\n",
      "[532]\tvalid_0's rmse: 0.569488\n",
      "[533]\tvalid_0's rmse: 0.569429\n",
      "[534]\tvalid_0's rmse: 0.569427\n",
      "[535]\tvalid_0's rmse: 0.569477\n",
      "[536]\tvalid_0's rmse: 0.569498\n",
      "[537]\tvalid_0's rmse: 0.569489\n",
      "[538]\tvalid_0's rmse: 0.569466\n",
      "[539]\tvalid_0's rmse: 0.56944\n",
      "[540]\tvalid_0's rmse: 0.569441\n",
      "[541]\tvalid_0's rmse: 0.569452\n",
      "[542]\tvalid_0's rmse: 0.569448\n",
      "[543]\tvalid_0's rmse: 0.569422\n",
      "[544]\tvalid_0's rmse: 0.569417\n",
      "[545]\tvalid_0's rmse: 0.569412\n",
      "[546]\tvalid_0's rmse: 0.56945\n",
      "[547]\tvalid_0's rmse: 0.569453\n",
      "[548]\tvalid_0's rmse: 0.56946\n",
      "[549]\tvalid_0's rmse: 0.569474\n",
      "[550]\tvalid_0's rmse: 0.56946\n",
      "[551]\tvalid_0's rmse: 0.56945\n",
      "[552]\tvalid_0's rmse: 0.569447\n",
      "[553]\tvalid_0's rmse: 0.569444\n",
      "[554]\tvalid_0's rmse: 0.569442\n",
      "[555]\tvalid_0's rmse: 0.569441\n",
      "[556]\tvalid_0's rmse: 0.569446\n",
      "[557]\tvalid_0's rmse: 0.569463\n",
      "[558]\tvalid_0's rmse: 0.569473\n",
      "[559]\tvalid_0's rmse: 0.569458\n",
      "[560]\tvalid_0's rmse: 0.569485\n",
      "[561]\tvalid_0's rmse: 0.569492\n",
      "[562]\tvalid_0's rmse: 0.569506\n",
      "[563]\tvalid_0's rmse: 0.569518\n",
      "[564]\tvalid_0's rmse: 0.569516\n",
      "[565]\tvalid_0's rmse: 0.569494\n",
      "[566]\tvalid_0's rmse: 0.56951\n",
      "[567]\tvalid_0's rmse: 0.569507\n",
      "[568]\tvalid_0's rmse: 0.569467\n",
      "[569]\tvalid_0's rmse: 0.569471\n",
      "[570]\tvalid_0's rmse: 0.569539\n",
      "[571]\tvalid_0's rmse: 0.569535\n",
      "[572]\tvalid_0's rmse: 0.569548\n",
      "[573]\tvalid_0's rmse: 0.569542\n",
      "[574]\tvalid_0's rmse: 0.569556\n",
      "[575]\tvalid_0's rmse: 0.569563\n",
      "Early stopping, best iteration is:\n",
      "[545]\tvalid_0's rmse: 0.569412\n"
     ]
    },
    {
     "data": {
      "text/plain": [
       "LGBMRegressor(bagging_fraction=0.8, bagging_seed=42, feature_fraction_seed=41,\n",
       "              learning_rate=0.025, max_depth=16, metric='rmse',\n",
       "              n_estimators=1000, num_leaves=100, sub_feature=0.5)"
      ]
     },
     "execution_count": 288,
     "metadata": {},
     "output_type": "execute_result"
    }
   ],
   "source": [
    "# lgb_model = lgb.LGBMRegressor(max_depth=50,\n",
    "#                               learning_rate=0.25,\n",
    "#                               num_leaves=100,\n",
    "#                               n_estimators=200,\n",
    "#                               bagging_fraction=1/100*2,\n",
    "#                               sub_feature=0.5,\n",
    "#                               metric='rmse',\n",
    "#                               feature_fraction_seed=41,\n",
    "#                               bagging_seed=42\n",
    "#                               )\n",
    "lgb_model = lgb.LGBMRegressor(max_depth=16,\n",
    "                              learning_rate=0.025,\n",
    "                              num_leaves=100,\n",
    "                              n_estimators=200*5,\n",
    "                              bagging_fraction=0.8,\n",
    "                              sub_feature=0.5,\n",
    "                              metric='rmse',\n",
    "                              feature_fraction_seed=41,\n",
    "                              bagging_seed=42\n",
    "                              )\n",
    "lgb_model.fit(X_train, Y_train,\n",
    "              eval_metric='rmse',\n",
    "              eval_set=[(X_val, Y_val)],\n",
    "              verbose=True,\n",
    "              early_stopping_rounds=30\n",
    "              )"
   ]
  },
  {
   "cell_type": "code",
   "execution_count": 58,
   "metadata": {
    "ExecuteTime": {
     "end_time": "2020-09-22T13:49:04.223291Z",
     "start_time": "2020-09-22T13:49:03.672638Z"
    }
   },
   "outputs": [
    {
     "data": {
      "text/plain": [
       "rmse    0.604244\n",
       "r2      0.692611\n",
       "dtype: float64"
      ]
     },
     "execution_count": 58,
     "metadata": {},
     "output_type": "execute_result"
    }
   ],
   "source": [
    "prediction = lgb_model.predict(X_val)\n",
    "\n",
    "result = pd.Series(evaluate(Y_val, prediction))\n",
    "result"
   ]
  },
  {
   "cell_type": "code",
   "execution_count": 290,
   "metadata": {
    "ExecuteTime": {
     "end_time": "2020-09-26T15:35:50.939665Z",
     "start_time": "2020-09-26T15:35:49.238670Z"
    }
   },
   "outputs": [
    {
     "data": {
      "text/plain": [
       "rmse    0.598865\n",
       "r2      0.698060\n",
       "dtype: float64"
      ]
     },
     "execution_count": 290,
     "metadata": {},
     "output_type": "execute_result"
    }
   ],
   "source": [
    "prediction = lgb_model.predict(X_val)\n",
    "\n",
    "result = pd.Series(evaluate(Y_val, prediction))\n",
    "result"
   ]
  },
  {
   "cell_type": "code",
   "execution_count": 276,
   "metadata": {
    "ExecuteTime": {
     "end_time": "2020-09-26T15:14:52.260756Z",
     "start_time": "2020-09-26T15:14:50.455618Z"
    }
   },
   "outputs": [
    {
     "data": {
      "text/plain": [
       "rmse    0.601527\n",
       "r2      0.695369\n",
       "dtype: float64"
      ]
     },
     "execution_count": 276,
     "metadata": {},
     "output_type": "execute_result"
    }
   ],
   "source": [
    "prediction = lgb_model.predict(X_val)\n",
    "\n",
    "result = pd.Series(evaluate(Y_val, prediction))\n",
    "result"
   ]
  },
  {
   "cell_type": "code",
   "execution_count": 293,
   "metadata": {
    "ExecuteTime": {
     "end_time": "2020-09-26T15:36:25.239271Z",
     "start_time": "2020-09-26T15:36:23.241002Z"
    }
   },
   "outputs": [
    {
     "data": {
      "text/plain": [
       "<AxesSubplot:>"
      ]
     },
     "execution_count": 293,
     "metadata": {},
     "output_type": "execute_result"
    },
    {
     "data": {
      "image/png": "[encoded data removed]",
      "text/plain": [
       "<Figure size 1152x576 with 1 Axes>"
      ]
     },
     "metadata": {
      "needs_background": "light"
     },
     "output_type": "display_data"
    }
   ],
   "source": [
    "\n",
    "plot_feature_importance(lgb_model.feature_importances_, X_train.columns)\n"
   ]
  },
  {
   "cell_type": "code",
   "execution_count": 304,
   "metadata": {
    "ExecuteTime": {
     "end_time": "2020-09-26T15:45:27.815417Z",
     "start_time": "2020-09-26T15:45:27.813000Z"
    }
   },
   "outputs": [],
   "source": [
    "from sklearn.preprocessing import MinMaxScaler"
   ]
  },
  {
   "cell_type": "code",
   "execution_count": 307,
   "metadata": {
    "ExecuteTime": {
     "end_time": "2020-09-26T15:46:34.295317Z",
     "start_time": "2020-09-26T15:46:34.245820Z"
    }
   },
   "outputs": [
    {
     "data": {
      "text/html": [
       "<div>\n",
       "<style scoped>\n",
       "    .dataframe tbody tr th:only-of-type {\n",
       "        vertical-align: middle;\n",
       "    }\n",
       "\n",
       "    .dataframe tbody tr th {\n",
       "        vertical-align: top;\n",
       "    }\n",
       "\n",
       "    .dataframe thead th {\n",
       "        text-align: right;\n",
       "    }\n",
       "</style>\n",
       "<table border=\"1\" class=\"dataframe\">\n",
       "  <thead>\n",
       "    <tr style=\"text-align: right;\">\n",
       "      <th></th>\n",
       "      <th>rfr</th>\n",
       "      <th>lgb</th>\n",
       "    </tr>\n",
       "  </thead>\n",
       "  <tbody>\n",
       "    <tr>\n",
       "      <th>item_category_id_encoded</th>\n",
       "      <td>1.000000</td>\n",
       "      <td>0.588698</td>\n",
       "    </tr>\n",
       "    <tr>\n",
       "      <th>item_id_encoded</th>\n",
       "      <td>0.219425</td>\n",
       "      <td>1.000000</td>\n",
       "    </tr>\n",
       "    <tr>\n",
       "      <th>month_encoded</th>\n",
       "      <td>0.025158</td>\n",
       "      <td>0.274701</td>\n",
       "    </tr>\n",
       "    <tr>\n",
       "      <th>p1_avg_item_cat_price</th>\n",
       "      <td>0.031374</td>\n",
       "      <td>0.251871</td>\n",
       "    </tr>\n",
       "    <tr>\n",
       "      <th>p1_avg_item_price</th>\n",
       "      <td>0.022386</td>\n",
       "      <td>0.397829</td>\n",
       "    </tr>\n",
       "    <tr>\n",
       "      <th>...</th>\n",
       "      <td>...</td>\n",
       "      <td>...</td>\n",
       "    </tr>\n",
       "    <tr>\n",
       "      <th>p5_d1_item_price</th>\n",
       "      <td>0.000000</td>\n",
       "      <td>0.004117</td>\n",
       "    </tr>\n",
       "    <tr>\n",
       "      <th>p5_item_price</th>\n",
       "      <td>0.025379</td>\n",
       "      <td>0.076347</td>\n",
       "    </tr>\n",
       "    <tr>\n",
       "      <th>p5_month_encoded</th>\n",
       "      <td>0.006564</td>\n",
       "      <td>0.108533</td>\n",
       "    </tr>\n",
       "    <tr>\n",
       "      <th>shop_id_encoded</th>\n",
       "      <td>0.033591</td>\n",
       "      <td>0.291168</td>\n",
       "    </tr>\n",
       "    <tr>\n",
       "      <th>tag_encoded</th>\n",
       "      <td>0.020215</td>\n",
       "      <td>0.173278</td>\n",
       "    </tr>\n",
       "  </tbody>\n",
       "</table>\n",
       "<p>90 rows × 2 columns</p>\n",
       "</div>"
      ],
      "text/plain": [
       "                               rfr       lgb\n",
       "item_category_id_encoded  1.000000  0.588698\n",
       "item_id_encoded           0.219425  1.000000\n",
       "month_encoded             0.025158  0.274701\n",
       "p1_avg_item_cat_price     0.031374  0.251871\n",
       "p1_avg_item_price         0.022386  0.397829\n",
       "...                            ...       ...\n",
       "p5_d1_item_price          0.000000  0.004117\n",
       "p5_item_price             0.025379  0.076347\n",
       "p5_month_encoded          0.006564  0.108533\n",
       "shop_id_encoded           0.033591  0.291168\n",
       "tag_encoded               0.020215  0.173278\n",
       "\n",
       "[90 rows x 2 columns]"
      ]
     },
     "execution_count": 307,
     "metadata": {},
     "output_type": "execute_result"
    }
   ],
   "source": [
    "fi_df = pd.DataFrame([rfr.feature_importances_, lgb_model.feature_importances_],\n",
    "             columns=X_train.columns,\n",
    "             index=['rfr', 'lgb']).T\n",
    "fi_df[['rfr', 'lgb']] = MinMaxScaler().fit_transform(fi_df[['rfr', 'lgb']])\n",
    "fi_df"
   ]
  },
  {
   "cell_type": "code",
   "execution_count": 308,
   "metadata": {
    "ExecuteTime": {
     "end_time": "2020-09-26T15:47:03.752241Z",
     "start_time": "2020-09-26T15:47:01.542590Z"
    }
   },
   "outputs": [
    {
     "data": {
      "text/plain": [
       "<AxesSubplot:>"
      ]
     },
     "execution_count": 308,
     "metadata": {},
     "output_type": "execute_result"
    },
    {
     "data": {
      "image/png": "[encoded data removed]",
      "text/plain": [
       "<Figure size 1152x576 with 1 Axes>"
      ]
     },
     "metadata": {
      "needs_background": "light"
     },
     "output_type": "display_data"
    }
   ],
   "source": [
    "fi_df.plot.bar(stacked=True, figsize=(16, 8))"
   ]
  },
  {
   "cell_type": "code",
   "execution_count": 196,
   "metadata": {
    "ExecuteTime": {
     "end_time": "2020-09-26T13:28:09.957279Z",
     "start_time": "2020-09-26T13:28:07.754304Z"
    }
   },
   "outputs": [
    {
     "data": {
      "text/plain": [
       "<AxesSubplot:>"
      ]
     },
     "execution_count": 196,
     "metadata": {},
     "output_type": "execute_result"
    },
    {
     "data": {
      "image/png": "[encoded data removed]",
      "text/plain": [
       "<Figure size 1152x576 with 1 Axes>"
      ]
     },
     "metadata": {
      "needs_background": "light"
     },
     "output_type": "display_data"
    }
   ],
   "source": [
    "\n",
    "plot_feature_importance(lgb_model.feature_importance(), X_train.columns)\n"
   ]
  },
  {
   "cell_type": "markdown",
   "metadata": {
    "heading_collapsed": true
   },
   "source": [
    "### XGBoost"
   ]
  },
  {
   "cell_type": "code",
   "execution_count": 49,
   "metadata": {
    "ExecuteTime": {
     "end_time": "2020-09-26T04:23:18.420005Z",
     "start_time": "2020-09-26T04:23:17.671290Z"
    },
    "hidden": true
   },
   "outputs": [],
   "source": [
    "import xgboost as xgb"
   ]
  },
  {
   "cell_type": "code",
   "execution_count": 50,
   "metadata": {
    "ExecuteTime": {
     "end_time": "2020-09-26T05:48:07.372382Z",
     "start_time": "2020-09-26T04:23:20.227911Z"
    },
    "hidden": true,
    "scrolled": true
   },
   "outputs": [
    {
     "name": "stdout",
     "output_type": "stream",
     "text": [
      "[11:23:49] WARNING: /Users/travis/build/dmlc/xgboost/src/gbm/gbtree.cc:139: Tree method is automatically selected to be 'approx' for faster speed. To use old behavior (exact greedy algorithm on single machine), set tree_method to 'exact'.\n",
      "[11:25:21] INFO: /Users/travis/build/dmlc/xgboost/src/tree/updater_prune.cc:101: tree pruning end, 109866 extra nodes, 0 pruned nodes, max_depth=50\n",
      "[11:26:56] INFO: /Users/travis/build/dmlc/xgboost/src/tree/updater_prune.cc:101: tree pruning end, 153638 extra nodes, 0 pruned nodes, max_depth=50\n",
      "[11:28:34] INFO: /Users/travis/build/dmlc/xgboost/src/tree/updater_prune.cc:101: tree pruning end, 181898 extra nodes, 0 pruned nodes, max_depth=50\n",
      "[11:30:13] INFO: /Users/travis/build/dmlc/xgboost/src/tree/updater_prune.cc:101: tree pruning end, 201242 extra nodes, 0 pruned nodes, max_depth=50\n",
      "[11:31:53] INFO: /Users/travis/build/dmlc/xgboost/src/tree/updater_prune.cc:101: tree pruning end, 218606 extra nodes, 0 pruned nodes, max_depth=50\n",
      "[11:33:35] INFO: /Users/travis/build/dmlc/xgboost/src/tree/updater_prune.cc:101: tree pruning end, 231798 extra nodes, 0 pruned nodes, max_depth=50\n",
      "[11:35:16] INFO: /Users/travis/build/dmlc/xgboost/src/tree/updater_prune.cc:101: tree pruning end, 235756 extra nodes, 0 pruned nodes, max_depth=50\n",
      "[11:36:59] INFO: /Users/travis/build/dmlc/xgboost/src/tree/updater_prune.cc:101: tree pruning end, 252334 extra nodes, 0 pruned nodes, max_depth=50\n",
      "[11:38:42] INFO: /Users/travis/build/dmlc/xgboost/src/tree/updater_prune.cc:101: tree pruning end, 254716 extra nodes, 0 pruned nodes, max_depth=50\n",
      "[11:40:23] INFO: /Users/travis/build/dmlc/xgboost/src/tree/updater_prune.cc:101: tree pruning end, 249186 extra nodes, 0 pruned nodes, max_depth=50\n",
      "[11:42:05] INFO: /Users/travis/build/dmlc/xgboost/src/tree/updater_prune.cc:101: tree pruning end, 245666 extra nodes, 0 pruned nodes, max_depth=50\n",
      "[11:43:46] INFO: /Users/travis/build/dmlc/xgboost/src/tree/updater_prune.cc:101: tree pruning end, 235916 extra nodes, 0 pruned nodes, max_depth=50\n",
      "[11:45:26] INFO: /Users/travis/build/dmlc/xgboost/src/tree/updater_prune.cc:101: tree pruning end, 241654 extra nodes, 0 pruned nodes, max_depth=50\n",
      "[11:47:08] INFO: /Users/travis/build/dmlc/xgboost/src/tree/updater_prune.cc:101: tree pruning end, 258800 extra nodes, 0 pruned nodes, max_depth=50\n",
      "[11:48:47] INFO: /Users/travis/build/dmlc/xgboost/src/tree/updater_prune.cc:101: tree pruning end, 218462 extra nodes, 0 pruned nodes, max_depth=50\n",
      "[11:50:25] INFO: /Users/travis/build/dmlc/xgboost/src/tree/updater_prune.cc:101: tree pruning end, 213460 extra nodes, 0 pruned nodes, max_depth=50\n",
      "[11:52:06] INFO: /Users/travis/build/dmlc/xgboost/src/tree/updater_prune.cc:101: tree pruning end, 246988 extra nodes, 0 pruned nodes, max_depth=50\n",
      "[11:53:42] INFO: /Users/travis/build/dmlc/xgboost/src/tree/updater_prune.cc:101: tree pruning end, 187862 extra nodes, 0 pruned nodes, max_depth=50\n",
      "[11:55:18] INFO: /Users/travis/build/dmlc/xgboost/src/tree/updater_prune.cc:101: tree pruning end, 196576 extra nodes, 0 pruned nodes, max_depth=50\n",
      "[11:56:55] INFO: /Users/travis/build/dmlc/xgboost/src/tree/updater_prune.cc:101: tree pruning end, 205000 extra nodes, 0 pruned nodes, max_depth=50\n",
      "[11:58:31] INFO: /Users/travis/build/dmlc/xgboost/src/tree/updater_prune.cc:101: tree pruning end, 191268 extra nodes, 0 pruned nodes, max_depth=50\n",
      "[12:00:12] INFO: /Users/travis/build/dmlc/xgboost/src/tree/updater_prune.cc:101: tree pruning end, 235844 extra nodes, 0 pruned nodes, max_depth=50\n",
      "[12:01:49] INFO: /Users/travis/build/dmlc/xgboost/src/tree/updater_prune.cc:101: tree pruning end, 183994 extra nodes, 0 pruned nodes, max_depth=50\n",
      "[12:03:31] INFO: /Users/travis/build/dmlc/xgboost/src/tree/updater_prune.cc:101: tree pruning end, 246704 extra nodes, 0 pruned nodes, max_depth=50\n",
      "[12:05:12] INFO: /Users/travis/build/dmlc/xgboost/src/tree/updater_prune.cc:101: tree pruning end, 217250 extra nodes, 0 pruned nodes, max_depth=50\n",
      "[12:06:50] INFO: /Users/travis/build/dmlc/xgboost/src/tree/updater_prune.cc:101: tree pruning end, 195196 extra nodes, 0 pruned nodes, max_depth=50\n",
      "[12:08:25] INFO: /Users/travis/build/dmlc/xgboost/src/tree/updater_prune.cc:101: tree pruning end, 133020 extra nodes, 0 pruned nodes, max_depth=50\n",
      "[12:10:02] INFO: /Users/travis/build/dmlc/xgboost/src/tree/updater_prune.cc:101: tree pruning end, 176324 extra nodes, 0 pruned nodes, max_depth=50\n",
      "[12:11:40] INFO: /Users/travis/build/dmlc/xgboost/src/tree/updater_prune.cc:101: tree pruning end, 173718 extra nodes, 0 pruned nodes, max_depth=50\n",
      "[12:13:20] INFO: /Users/travis/build/dmlc/xgboost/src/tree/updater_prune.cc:101: tree pruning end, 187450 extra nodes, 0 pruned nodes, max_depth=50\n",
      "[12:14:56] INFO: /Users/travis/build/dmlc/xgboost/src/tree/updater_prune.cc:101: tree pruning end, 154332 extra nodes, 0 pruned nodes, max_depth=50\n",
      "[12:16:36] INFO: /Users/travis/build/dmlc/xgboost/src/tree/updater_prune.cc:101: tree pruning end, 168816 extra nodes, 0 pruned nodes, max_depth=50\n",
      "[12:18:21] INFO: /Users/travis/build/dmlc/xgboost/src/tree/updater_prune.cc:101: tree pruning end, 217606 extra nodes, 0 pruned nodes, max_depth=50\n",
      "[12:20:05] INFO: /Users/travis/build/dmlc/xgboost/src/tree/updater_prune.cc:101: tree pruning end, 214156 extra nodes, 0 pruned nodes, max_depth=50\n",
      "[12:21:50] INFO: /Users/travis/build/dmlc/xgboost/src/tree/updater_prune.cc:101: tree pruning end, 225502 extra nodes, 0 pruned nodes, max_depth=50\n",
      "[12:23:34] INFO: /Users/travis/build/dmlc/xgboost/src/tree/updater_prune.cc:101: tree pruning end, 232082 extra nodes, 0 pruned nodes, max_depth=50\n",
      "[12:25:16] INFO: /Users/travis/build/dmlc/xgboost/src/tree/updater_prune.cc:101: tree pruning end, 151728 extra nodes, 0 pruned nodes, max_depth=50\n",
      "[12:27:01] INFO: /Users/travis/build/dmlc/xgboost/src/tree/updater_prune.cc:101: tree pruning end, 263934 extra nodes, 0 pruned nodes, max_depth=50\n",
      "[12:28:50] INFO: /Users/travis/build/dmlc/xgboost/src/tree/updater_prune.cc:101: tree pruning end, 256852 extra nodes, 0 pruned nodes, max_depth=50\n",
      "[12:30:32] INFO: /Users/travis/build/dmlc/xgboost/src/tree/updater_prune.cc:101: tree pruning end, 190150 extra nodes, 0 pruned nodes, max_depth=50\n",
      "[12:32:16] INFO: /Users/travis/build/dmlc/xgboost/src/tree/updater_prune.cc:101: tree pruning end, 200166 extra nodes, 0 pruned nodes, max_depth=50\n",
      "[12:34:00] INFO: /Users/travis/build/dmlc/xgboost/src/tree/updater_prune.cc:101: tree pruning end, 232136 extra nodes, 0 pruned nodes, max_depth=50\n",
      "[12:35:46] INFO: /Users/travis/build/dmlc/xgboost/src/tree/updater_prune.cc:101: tree pruning end, 255156 extra nodes, 0 pruned nodes, max_depth=50\n",
      "[12:37:30] INFO: /Users/travis/build/dmlc/xgboost/src/tree/updater_prune.cc:101: tree pruning end, 242982 extra nodes, 0 pruned nodes, max_depth=50\n",
      "[12:39:13] INFO: /Users/travis/build/dmlc/xgboost/src/tree/updater_prune.cc:101: tree pruning end, 182252 extra nodes, 0 pruned nodes, max_depth=50\n",
      "[12:40:58] INFO: /Users/travis/build/dmlc/xgboost/src/tree/updater_prune.cc:101: tree pruning end, 233432 extra nodes, 0 pruned nodes, max_depth=50\n",
      "[12:42:42] INFO: /Users/travis/build/dmlc/xgboost/src/tree/updater_prune.cc:101: tree pruning end, 233102 extra nodes, 0 pruned nodes, max_depth=50\n",
      "[12:44:25] INFO: /Users/travis/build/dmlc/xgboost/src/tree/updater_prune.cc:101: tree pruning end, 225536 extra nodes, 0 pruned nodes, max_depth=50\n",
      "[12:46:13] INFO: /Users/travis/build/dmlc/xgboost/src/tree/updater_prune.cc:101: tree pruning end, 260418 extra nodes, 0 pruned nodes, max_depth=50\n",
      "[12:48:01] INFO: /Users/travis/build/dmlc/xgboost/src/tree/updater_prune.cc:101: tree pruning end, 275392 extra nodes, 0 pruned nodes, max_depth=50\n"
     ]
    },
    {
     "data": {
      "text/plain": [
       "XGBRegressor(base_score=0.5, booster='gbtree', colsample_bylevel=1,\n",
       "             colsample_bynode=1, colsample_bytree=1, gamma=0, gpu_id=-1,\n",
       "             importance_type='gain', interaction_constraints='',\n",
       "             learning_rate=0.300000012, max_delta_step=0, max_depth=50,\n",
       "             min_child_weight=1, missing=nan, monotone_constraints='()',\n",
       "             n_estimators=50, n_jobs=0, num_parallel_tree=1, random_state=42,\n",
       "             reg_alpha=0, reg_lambda=1, scale_pos_weight=1, subsample=0.5,\n",
       "             tree_method='approx', validate_parameters=1, verbosity=2)"
      ]
     },
     "execution_count": 50,
     "metadata": {},
     "output_type": "execute_result"
    }
   ],
   "source": [
    "\n",
    "xgb_model = xgb.XGBRegressor(n_estimators=50,\n",
    "                             max_depth=50,\n",
    "                             subsample=0.5,\n",
    "                             verbosity=2,\n",
    "                             random_state=42)\n",
    "xgb_model.fit(X_train, Y_train)"
   ]
  },
  {
   "cell_type": "code",
   "execution_count": 53,
   "metadata": {
    "ExecuteTime": {
     "end_time": "2020-09-26T03:57:31.484121Z",
     "start_time": "2020-09-26T03:57:30.858827Z"
    },
    "hidden": true
   },
   "outputs": [
    {
     "data": {
      "text/plain": [
       "rmse    0.604464\n",
       "r2      0.692387\n",
       "dtype: float64"
      ]
     },
     "execution_count": 53,
     "metadata": {},
     "output_type": "execute_result"
    }
   ],
   "source": [
    "prediction = xgb_model.predict(X_val)\n",
    "\n",
    "result = pd.Series(evaluate(Y_val, prediction))\n",
    "result"
   ]
  },
  {
   "cell_type": "code",
   "execution_count": 51,
   "metadata": {
    "ExecuteTime": {
     "end_time": "2020-09-26T06:57:03.214136Z",
     "start_time": "2020-09-26T06:57:01.828692Z"
    },
    "hidden": true
   },
   "outputs": [
    {
     "data": {
      "text/plain": [
       "rmse    0.659253\n",
       "r2      0.634096\n",
       "dtype: float64"
      ]
     },
     "execution_count": 51,
     "metadata": {},
     "output_type": "execute_result"
    }
   ],
   "source": [
    "prediction = xgb_model.predict(X_val)\n",
    "\n",
    "result = pd.Series(evaluate(Y_val, prediction))\n",
    "result"
   ]
  },
  {
   "cell_type": "code",
   "execution_count": 56,
   "metadata": {
    "ExecuteTime": {
     "end_time": "2020-09-26T03:58:22.217696Z",
     "start_time": "2020-09-26T03:58:20.393237Z"
    },
    "hidden": true
   },
   "outputs": [
    {
     "data": {
      "text/plain": [
       "<AxesSubplot:>"
      ]
     },
     "execution_count": 56,
     "metadata": {},
     "output_type": "execute_result"
    },
    {
     "data": {
      "image/png": "[encoded data removed]",
      "text/plain": [
       "<Figure size 1152x576 with 1 Axes>"
      ]
     },
     "metadata": {
      "needs_background": "light"
     },
     "output_type": "display_data"
    }
   ],
   "source": [
    "\n",
    "plot_feature_importance(xgb_model.feature_importances_, X_train.columns)\n"
   ]
  },
  {
   "cell_type": "markdown",
   "metadata": {
    "ExecuteTime": {
     "end_time": "2020-09-13T11:23:49.804881Z",
     "start_time": "2020-09-13T11:23:49.776189Z"
    },
    "heading_collapsed": true
   },
   "source": [
    "### Recurrent Neural Network Model"
   ]
  },
  {
   "cell_type": "code",
   "execution_count": null,
   "metadata": {
    "hidden": true
   },
   "outputs": [],
   "source": []
  },
  {
   "cell_type": "code",
   "execution_count": null,
   "metadata": {
    "hidden": true
   },
   "outputs": [],
   "source": []
  },
  {
   "cell_type": "code",
   "execution_count": 72,
   "metadata": {
    "ExecuteTime": {
     "end_time": "2020-09-22T16:08:54.792237Z",
     "start_time": "2020-09-22T16:08:54.788587Z"
    },
    "hidden": true
   },
   "outputs": [],
   "source": [
    "import re\n",
    "from sklearn.pipeline import Pipeline\n",
    "import tensorflow as tf\n",
    "from tensorflow.keras.models import Sequential\n",
    "from tensorflow.keras.layers import LSTM, Conv1D, Dense, Flatten\n",
    "from tensorflow.keras.metrics import RootMeanSquaredError\n",
    "import tensorflow.keras.backend as K\n",
    "from tensorflow.keras.wrappers.scikit_learn import KerasRegressor \n"
   ]
  },
  {
   "cell_type": "code",
   "execution_count": 55,
   "metadata": {
    "ExecuteTime": {
     "end_time": "2020-09-22T15:33:47.883059Z",
     "start_time": "2020-09-22T15:33:47.877811Z"
    },
    "hidden": true
   },
   "outputs": [],
   "source": [
    "def to_timestep_shape(df):\n",
    "    timeserie_cols = pd.Series(filter(re.compile('^p\\d+\\w+').match, df.columns))\n",
    "    df = df[timeserie_cols]\n",
    "    df.columns = pd.MultiIndex.from_tuples(timeserie_cols.str.split('_', 1).apply(tuple).tolist())\n",
    "    df = df[df.columns.sortlevel(0, ascending=False )[0]]\n",
    "    features = df.T.groupby(level=0).progress_apply(lambda feature: np.expand_dims(feature.T.values, axis=1)).to_numpy()\n",
    "    features = features[::-1]\n",
    "    X = np.concatenate(features, axis=1)\n",
    "    return X"
   ]
  },
  {
   "cell_type": "code",
   "execution_count": 83,
   "metadata": {
    "ExecuteTime": {
     "end_time": "2020-09-22T16:14:07.113258Z",
     "start_time": "2020-09-22T16:14:07.105880Z"
    },
    "hidden": true
   },
   "outputs": [],
   "source": [
    "count_mean, count_var = scaler_params.loc['count'].tolist()\n",
    "\n",
    "# def rmse_keras(y_true, y_pred):\n",
    "#     batch_size = tf.shape(y_true)[0]\n",
    "\n",
    "#     y_true = y_true*K.constant([count_var]*batch_size, dtype='float32') + K.constant([count_mean]*batch_size, dtype='float32')\n",
    "#     y_pred = y_pred*K.constant([count_var]*batch_size, dtype='float32') + K.constant([count_mean]*batch_size, dtype='float32')\n",
    "#     return RootMeanSquaredError(y_true, y_pred)"
   ]
  },
  {
   "cell_type": "code",
   "execution_count": 100,
   "metadata": {
    "ExecuteTime": {
     "end_time": "2020-09-22T17:06:52.393166Z",
     "start_time": "2020-09-22T17:06:52.387904Z"
    },
    "hidden": true
   },
   "outputs": [],
   "source": [
    "def build_lstm_model():\n",
    "    model = Sequential([\n",
    "        LSTM(32, activation='relu', return_sequences=False, input_shape=(len(lookback_steps), len(timeserie_cols))),\n",
    "#         LSTM(16, activation='relu'),\n",
    "        Flatten(),\n",
    "        Dense(1, activation='linear')\n",
    "    ])\n",
    "    model.compile(optimizer='adam', loss='mse', metrics=[RootMeanSquaredError()],)\n",
    "    return model"
   ]
  },
  {
   "cell_type": "code",
   "execution_count": 101,
   "metadata": {
    "ExecuteTime": {
     "end_time": "2020-09-22T17:07:01.991465Z",
     "start_time": "2020-09-22T17:07:01.830575Z"
    },
    "hidden": true
   },
   "outputs": [
    {
     "name": "stdout",
     "output_type": "stream",
     "text": [
      "Model: \"sequential_4\"\n",
      "_________________________________________________________________\n",
      "Layer (type)                 Output Shape              Param #   \n",
      "=================================================================\n",
      "lstm_7 (LSTM)                (None, 32)                6144      \n",
      "_________________________________________________________________\n",
      "flatten_4 (Flatten)          (None, 32)                0         \n",
      "_________________________________________________________________\n",
      "dense_4 (Dense)              (None, 1)                 33        \n",
      "=================================================================\n",
      "Total params: 6,177\n",
      "Trainable params: 6,177\n",
      "Non-trainable params: 0\n",
      "_________________________________________________________________\n"
     ]
    }
   ],
   "source": [
    "model = build_lstm_model()\n",
    "model.summary()"
   ]
  },
  {
   "cell_type": "code",
   "execution_count": 102,
   "metadata": {
    "ExecuteTime": {
     "end_time": "2020-09-22T17:26:38.075037Z",
     "start_time": "2020-09-22T17:07:09.205580Z"
    },
    "hidden": true
   },
   "outputs": [
    {
     "name": "stderr",
     "output_type": "stream",
     "text": [
      "100%|██████████| 5/5 [00:10<00:00,  2.17s/it]\n",
      "100%|██████████| 5/5 [00:00<00:00, 16.47it/s]\n"
     ]
    },
    {
     "name": "stdout",
     "output_type": "stream",
     "text": [
      "Epoch 1/16\n",
      "23429/23429 [==============================] - 71s 3ms/step - loss: 0.5380 - root_mean_squared_error: 0.7335 - val_loss: 0.6713 - val_root_mean_squared_error: 0.8193\n",
      "Epoch 2/16\n",
      "23429/23429 [==============================] - 72s 3ms/step - loss: 0.5158 - root_mean_squared_error: 0.7182 - val_loss: 0.6132 - val_root_mean_squared_error: 0.7831\n",
      "Epoch 3/16\n",
      "23429/23429 [==============================] - 72s 3ms/step - loss: 0.5049 - root_mean_squared_error: 0.7105 - val_loss: 0.6540 - val_root_mean_squared_error: 0.8087\n",
      "Epoch 4/16\n",
      "23429/23429 [==============================] - 72s 3ms/step - loss: 0.4970 - root_mean_squared_error: 0.7050 - val_loss: 0.6359 - val_root_mean_squared_error: 0.7974\n",
      "Epoch 5/16\n",
      "23429/23429 [==============================] - 72s 3ms/step - loss: 0.4907 - root_mean_squared_error: 0.7005 - val_loss: 0.6414 - val_root_mean_squared_error: 0.8009\n",
      "Epoch 6/16\n",
      "23429/23429 [==============================] - 72s 3ms/step - loss: 0.4856 - root_mean_squared_error: 0.6969 - val_loss: 0.6847 - val_root_mean_squared_error: 0.8275\n",
      "Epoch 7/16\n",
      "23429/23429 [==============================] - 72s 3ms/step - loss: 0.4821 - root_mean_squared_error: 0.6943 - val_loss: 0.6886 - val_root_mean_squared_error: 0.8298\n",
      "Epoch 8/16\n",
      "23429/23429 [==============================] - 72s 3ms/step - loss: 0.4781 - root_mean_squared_error: 0.6914 - val_loss: 0.6749 - val_root_mean_squared_error: 0.8215\n",
      "Epoch 9/16\n",
      "23429/23429 [==============================] - 71s 3ms/step - loss: 0.4752 - root_mean_squared_error: 0.6893 - val_loss: 0.6793 - val_root_mean_squared_error: 0.8242\n",
      "Epoch 10/16\n",
      "23429/23429 [==============================] - 71s 3ms/step - loss: 0.4723 - root_mean_squared_error: 0.6872 - val_loss: 0.6999 - val_root_mean_squared_error: 0.8366\n",
      "Epoch 11/16\n",
      "23429/23429 [==============================] - 71s 3ms/step - loss: 0.4695 - root_mean_squared_error: 0.6852 - val_loss: 0.6922 - val_root_mean_squared_error: 0.8320\n",
      "Epoch 12/16\n",
      "23429/23429 [==============================] - 71s 3ms/step - loss: 0.4677 - root_mean_squared_error: 0.6839 - val_loss: 0.7029 - val_root_mean_squared_error: 0.8384\n",
      "Epoch 13/16\n",
      "23429/23429 [==============================] - 71s 3ms/step - loss: 0.4674 - root_mean_squared_error: 0.6837 - val_loss: 0.6957 - val_root_mean_squared_error: 0.8341\n",
      "Epoch 14/16\n",
      "23429/23429 [==============================] - 71s 3ms/step - loss: 0.4641 - root_mean_squared_error: 0.6813 - val_loss: 0.6995 - val_root_mean_squared_error: 0.8364\n",
      "Epoch 15/16\n",
      "23429/23429 [==============================] - 71s 3ms/step - loss: 0.4633 - root_mean_squared_error: 0.6807 - val_loss: 0.7045 - val_root_mean_squared_error: 0.8394\n",
      "Epoch 16/16\n",
      "23429/23429 [==============================] - 71s 3ms/step - loss: 0.4608 - root_mean_squared_error: 0.6788 - val_loss: 0.7127 - val_root_mean_squared_error: 0.8442\n"
     ]
    },
    {
     "data": {
      "text/plain": [
       "<tensorflow.python.keras.callbacks.History at 0x138418dc0>"
      ]
     },
     "execution_count": 102,
     "metadata": {},
     "output_type": "execute_result"
    }
   ],
   "source": [
    "model.fit(to_timestep_shape(X_train), Y_train,\n",
    "          validation_data=(to_timestep_shape(X_val), Y_val),\n",
    "          \n",
    "          batch_size=256,\n",
    "          epochs=16, )"
   ]
  },
  {
   "cell_type": "code",
   "execution_count": 91,
   "metadata": {
    "ExecuteTime": {
     "end_time": "2020-09-22T16:26:12.459206Z",
     "start_time": "2020-09-22T16:26:07.672932Z"
    },
    "hidden": true
   },
   "outputs": [
    {
     "name": "stderr",
     "output_type": "stream",
     "text": [
      "100%|██████████| 5/5 [00:00<00:00, 14.50it/s]\n"
     ]
    }
   ],
   "source": [
    "prediction = np.squeeze(model.predict(to_timestep_shape(X_val)))\n"
   ]
  },
  {
   "cell_type": "code",
   "execution_count": 92,
   "metadata": {
    "ExecuteTime": {
     "end_time": "2020-09-22T16:26:27.633645Z",
     "start_time": "2020-09-22T16:26:27.577062Z"
    },
    "hidden": true
   },
   "outputs": [
    {
     "data": {
      "text/plain": [
       "rmse    0.857037\n",
       "r2      0.381610\n",
       "dtype: float64"
      ]
     },
     "execution_count": 92,
     "metadata": {},
     "output_type": "execute_result"
    }
   ],
   "source": [
    "\n",
    "result = pd.Series(evaluate(Y_val, prediction))\n",
    "result"
   ]
  },
  {
   "cell_type": "markdown",
   "metadata": {},
   "source": [
    "### Linear Regression"
   ]
  },
  {
   "cell_type": "code",
   "execution_count": 202,
   "metadata": {
    "ExecuteTime": {
     "end_time": "2020-09-26T14:02:10.061710Z",
     "start_time": "2020-09-26T14:02:10.058804Z"
    }
   },
   "outputs": [],
   "source": [
    "from sklearn.linear_model import LinearRegression"
   ]
  },
  {
   "cell_type": "code",
   "execution_count": 203,
   "metadata": {
    "ExecuteTime": {
     "end_time": "2020-09-26T14:02:39.370394Z",
     "start_time": "2020-09-26T14:02:17.348094Z"
    }
   },
   "outputs": [
    {
     "data": {
      "text/plain": [
       "LinearRegression(fit_intercept=False, n_jobs=8)"
      ]
     },
     "execution_count": 203,
     "metadata": {},
     "output_type": "execute_result"
    }
   ],
   "source": [
    "linear_model = LinearRegression(fit_intercept=False, n_jobs=8)\n",
    "linear_model.fit(X_train, Y_train)"
   ]
  },
  {
   "cell_type": "code",
   "execution_count": 204,
   "metadata": {
    "ExecuteTime": {
     "end_time": "2020-09-26T14:02:46.111988Z",
     "start_time": "2020-09-26T14:02:46.069304Z"
    }
   },
   "outputs": [
    {
     "data": {
      "text/plain": [
       "rmse    0.738852\n",
       "r2      0.540401\n",
       "dtype: float64"
      ]
     },
     "execution_count": 204,
     "metadata": {},
     "output_type": "execute_result"
    }
   ],
   "source": [
    "\n",
    "prediction = linear_model.predict(X_val)\n",
    "\n",
    "result = pd.Series(evaluate(Y_val, prediction))\n",
    "result"
   ]
  },
  {
   "cell_type": "code",
   "execution_count": 56,
   "metadata": {
    "ExecuteTime": {
     "end_time": "2020-09-24T11:03:15.402844Z",
     "start_time": "2020-09-24T11:03:15.359573Z"
    }
   },
   "outputs": [
    {
     "data": {
      "text/plain": [
       "rmse    0.739614\n",
       "r2      0.539453\n",
       "dtype: float64"
      ]
     },
     "execution_count": 56,
     "metadata": {},
     "output_type": "execute_result"
    }
   ],
   "source": [
    "\n",
    "prediction = linear_model.predict(X_val)\n",
    "\n",
    "result = pd.Series(evaluate(Y_val, prediction))\n",
    "result"
   ]
  },
  {
   "cell_type": "code",
   "execution_count": 49,
   "metadata": {
    "ExecuteTime": {
     "end_time": "2020-09-17T15:35:42.394289Z",
     "start_time": "2020-09-17T15:35:42.132271Z"
    }
   },
   "outputs": [
    {
     "data": {
      "text/plain": [
       "<matplotlib.axes._subplots.AxesSubplot at 0x19806d2e9d0>"
      ]
     },
     "execution_count": 49,
     "metadata": {},
     "output_type": "execute_result"
    },
    {
     "data": {
      "image/png": "[encoded data removed]",
      "text/plain": [
       "<Figure size 1152x576 with 1 Axes>"
      ]
     },
     "metadata": {
      "needs_background": "light"
     },
     "output_type": "display_data"
    }
   ],
   "source": [
    "plot_feature_importance(np.abs(linear_model.coef_), X_train.columns)"
   ]
  },
  {
   "cell_type": "code",
   "execution_count": 57,
   "metadata": {
    "ExecuteTime": {
     "end_time": "2020-09-24T11:03:55.949001Z",
     "start_time": "2020-09-24T11:03:54.038849Z"
    }
   },
   "outputs": [
    {
     "data": {
      "text/plain": [
       "<AxesSubplot:>"
      ]
     },
     "execution_count": 57,
     "metadata": {},
     "output_type": "execute_result"
    },
    {
     "data": {
      "image/png": "[encoded data removed]",
      "text/plain": [
       "<Figure size 1152x576 with 1 Axes>"
      ]
     },
     "metadata": {
      "needs_background": "light"
     },
     "output_type": "display_data"
    }
   ],
   "source": [
    "plot_feature_importance(np.abs(linear_model.coef_), X_train.columns)"
   ]
  },
  {
   "cell_type": "markdown",
   "metadata": {},
   "source": [
    "### SVR"
   ]
  },
  {
   "cell_type": "code",
   "execution_count": 48,
   "metadata": {
    "ExecuteTime": {
     "end_time": "2020-09-24T16:31:50.799717Z",
     "start_time": "2020-09-24T16:31:50.763483Z"
    }
   },
   "outputs": [],
   "source": [
    "from sklearn.svm import SVR\n",
    "from sklearn.ensemble import BaggingRegressor"
   ]
  },
  {
   "cell_type": "code",
   "execution_count": 49,
   "metadata": {
    "ExecuteTime": {
     "end_time": "2020-09-24T16:31:52.055722Z",
     "start_time": "2020-09-24T16:31:52.052058Z"
    }
   },
   "outputs": [],
   "source": [
    "svr = SVR(kernel='linear' )\n",
    "n_estimators = 24\n",
    "bagging_svr = BaggingRegressor(svr,\n",
    "                 n_estimators=n_estimators,\n",
    "                 max_samples=0.1/n_estimators,\n",
    "                 n_jobs=8,\n",
    "                 verbose=1000,\n",
    "                 random_state=43, )"
   ]
  },
  {
   "cell_type": "code",
   "execution_count": null,
   "metadata": {
    "ExecuteTime": {
     "start_time": "2020-09-24T16:27:06.127Z"
    }
   },
   "outputs": [
    {
     "name": "stdout",
     "output_type": "stream",
     "text": [
      "[Parallel(n_jobs=8)]: Using backend LokyBackend with 8 concurrent workers.\n"
     ]
    }
   ],
   "source": [
    "\n",
    "bagging_svr.fit(X_train, Y_train)"
   ]
  },
  {
   "cell_type": "code",
   "execution_count": 95,
   "metadata": {
    "ExecuteTime": {
     "end_time": "2020-09-24T13:55:19.413748Z",
     "start_time": "2020-09-24T13:32:27.035015Z"
    }
   },
   "outputs": [
    {
     "data": {
      "text/plain": [
       "rmse    0.702860\n",
       "r2      0.584088\n",
       "dtype: float64"
      ]
     },
     "execution_count": 95,
     "metadata": {},
     "output_type": "execute_result"
    }
   ],
   "source": [
    "\n",
    "prediction = knn.predict(X_val)\n",
    "\n",
    "result = pd.Series(evaluate(Y_val, prediction))\n",
    "result"
   ]
  },
  {
   "cell_type": "code",
   "execution_count": 103,
   "metadata": {
    "ExecuteTime": {
     "end_time": "2020-09-24T15:48:39.881621Z",
     "start_time": "2020-09-24T15:42:19.825417Z"
    }
   },
   "outputs": [
    {
     "name": "stderr",
     "output_type": "stream",
     "text": [
      "  4%|▍         | 1/24 [00:00<00:04,  5.07it/s]"
     ]
    },
    {
     "name": "stdout",
     "output_type": "stream",
     "text": [
      "[LibSVM][LibSVM]"
     ]
    },
    {
     "name": "stderr",
     "output_type": "stream",
     "text": [
      "\r",
      "  8%|▊         | 2/24 [00:02<00:16,  1.33it/s]"
     ]
    },
    {
     "name": "stdout",
     "output_type": "stream",
     "text": [
      "[LibSVM]"
     ]
    },
    {
     "name": "stderr",
     "output_type": "stream",
     "text": [
      "\r",
      " 12%|█▎        | 3/24 [00:08<00:50,  2.39s/it]"
     ]
    },
    {
     "name": "stdout",
     "output_type": "stream",
     "text": [
      "[LibSVM]"
     ]
    },
    {
     "name": "stderr",
     "output_type": "stream",
     "text": [
      "\r",
      " 17%|█▋        | 4/24 [00:20<01:44,  5.23s/it]"
     ]
    },
    {
     "name": "stdout",
     "output_type": "stream",
     "text": [
      "[LibSVM]"
     ]
    },
    {
     "name": "stderr",
     "output_type": "stream",
     "text": [
      "\r",
      " 21%|██        | 5/24 [00:39<02:56,  9.27s/it]"
     ]
    },
    {
     "name": "stdout",
     "output_type": "stream",
     "text": [
      "[LibSVM]"
     ]
    },
    {
     "name": "stderr",
     "output_type": "stream",
     "text": [
      "\r",
      " 25%|██▌       | 6/24 [01:06<04:25, 14.73s/it]"
     ]
    },
    {
     "name": "stdout",
     "output_type": "stream",
     "text": [
      "[LibSVM]"
     ]
    },
    {
     "name": "stderr",
     "output_type": "stream",
     "text": [
      "\r",
      " 29%|██▉       | 7/24 [01:42<05:57, 21.02s/it]"
     ]
    },
    {
     "name": "stdout",
     "output_type": "stream",
     "text": [
      "[LibSVM]"
     ]
    },
    {
     "name": "stderr",
     "output_type": "stream",
     "text": [
      "\r",
      " 33%|███▎      | 8/24 [02:34<08:08, 30.54s/it]"
     ]
    },
    {
     "name": "stdout",
     "output_type": "stream",
     "text": [
      "[LibSVM]"
     ]
    },
    {
     "name": "stderr",
     "output_type": "stream",
     "text": [
      "\r",
      " 38%|███▊      | 9/24 [03:35<09:52, 39.47s/it]"
     ]
    },
    {
     "name": "stdout",
     "output_type": "stream",
     "text": [
      "[LibSVM]"
     ]
    },
    {
     "name": "stderr",
     "output_type": "stream",
     "text": [
      "\r",
      " 42%|████▏     | 10/24 [04:50<11:42, 50.18s/it]"
     ]
    },
    {
     "name": "stdout",
     "output_type": "stream",
     "text": [
      "[LibSVM]"
     ]
    },
    {
     "name": "stderr",
     "output_type": "stream",
     "text": [
      " 42%|████▏     | 10/24 [06:20<08:52, 38.00s/it]\n"
     ]
    },
    {
     "ename": "KeyboardInterrupt",
     "evalue": "",
     "output_type": "error",
     "traceback": [
      "\u001b[0;31m---------------------------------------------------------------------------\u001b[0m",
      "\u001b[0;31mKeyboardInterrupt\u001b[0m                         Traceback (most recent call last)",
      "\u001b[0;32m<ipython-input-103-4b1c6e3a4a87>\u001b[0m in \u001b[0;36m<module>\u001b[0;34m\u001b[0m\n\u001b[1;32m      2\u001b[0m \u001b[0;32mfor\u001b[0m \u001b[0mn\u001b[0m \u001b[0;32min\u001b[0m \u001b[0mtqdm\u001b[0m\u001b[0;34m(\u001b[0m\u001b[0mn_samples\u001b[0m\u001b[0;34m)\u001b[0m\u001b[0;34m:\u001b[0m\u001b[0;34m\u001b[0m\u001b[0;34m\u001b[0m\u001b[0m\n\u001b[1;32m      3\u001b[0m     \u001b[0mt\u001b[0m \u001b[0;34m=\u001b[0m \u001b[0mtime\u001b[0m\u001b[0;34m.\u001b[0m\u001b[0mtime\u001b[0m\u001b[0;34m(\u001b[0m\u001b[0;34m)\u001b[0m\u001b[0;34m\u001b[0m\u001b[0;34m\u001b[0m\u001b[0m\n\u001b[0;32m----> 4\u001b[0;31m     \u001b[0msvr\u001b[0m\u001b[0;34m.\u001b[0m\u001b[0mfit\u001b[0m\u001b[0;34m(\u001b[0m\u001b[0mX_train\u001b[0m\u001b[0;34m[\u001b[0m\u001b[0;34m:\u001b[0m\u001b[0mn\u001b[0m\u001b[0;34m]\u001b[0m\u001b[0;34m,\u001b[0m \u001b[0mY_train\u001b[0m\u001b[0;34m[\u001b[0m\u001b[0;34m:\u001b[0m\u001b[0mn\u001b[0m\u001b[0;34m]\u001b[0m\u001b[0;34m)\u001b[0m\u001b[0;34m\u001b[0m\u001b[0;34m\u001b[0m\u001b[0m\n\u001b[0m\u001b[1;32m      5\u001b[0m     \u001b[0melapsed_time\u001b[0m \u001b[0;34m=\u001b[0m \u001b[0mtime\u001b[0m\u001b[0;34m.\u001b[0m\u001b[0mtime\u001b[0m\u001b[0;34m(\u001b[0m\u001b[0;34m)\u001b[0m \u001b[0;34m-\u001b[0m \u001b[0mt\u001b[0m\u001b[0;34m\u001b[0m\u001b[0;34m\u001b[0m\u001b[0m\n\u001b[1;32m      6\u001b[0m     \u001b[0mfitting_times\u001b[0m\u001b[0;34m.\u001b[0m\u001b[0mappend\u001b[0m\u001b[0;34m(\u001b[0m\u001b[0melapsed_time\u001b[0m\u001b[0;34m)\u001b[0m\u001b[0;34m\u001b[0m\u001b[0;34m\u001b[0m\u001b[0m\n",
      "\u001b[0;32m/usr/local/lib/python3.8/site-packages/sklearn/svm/_base.py\u001b[0m in \u001b[0;36mfit\u001b[0;34m(self, X, y, sample_weight)\u001b[0m\n\u001b[1;32m    215\u001b[0m \u001b[0;34m\u001b[0m\u001b[0m\n\u001b[1;32m    216\u001b[0m         \u001b[0mseed\u001b[0m \u001b[0;34m=\u001b[0m \u001b[0mrnd\u001b[0m\u001b[0;34m.\u001b[0m\u001b[0mrandint\u001b[0m\u001b[0;34m(\u001b[0m\u001b[0mnp\u001b[0m\u001b[0;34m.\u001b[0m\u001b[0miinfo\u001b[0m\u001b[0;34m(\u001b[0m\u001b[0;34m'i'\u001b[0m\u001b[0;34m)\u001b[0m\u001b[0;34m.\u001b[0m\u001b[0mmax\u001b[0m\u001b[0;34m)\u001b[0m\u001b[0;34m\u001b[0m\u001b[0;34m\u001b[0m\u001b[0m\n\u001b[0;32m--> 217\u001b[0;31m         \u001b[0mfit\u001b[0m\u001b[0;34m(\u001b[0m\u001b[0mX\u001b[0m\u001b[0;34m,\u001b[0m \u001b[0my\u001b[0m\u001b[0;34m,\u001b[0m \u001b[0msample_weight\u001b[0m\u001b[0;34m,\u001b[0m \u001b[0msolver_type\u001b[0m\u001b[0;34m,\u001b[0m \u001b[0mkernel\u001b[0m\u001b[0;34m,\u001b[0m \u001b[0mrandom_seed\u001b[0m\u001b[0;34m=\u001b[0m\u001b[0mseed\u001b[0m\u001b[0;34m)\u001b[0m\u001b[0;34m\u001b[0m\u001b[0;34m\u001b[0m\u001b[0m\n\u001b[0m\u001b[1;32m    218\u001b[0m         \u001b[0;31m# see comment on the other call to np.iinfo in this file\u001b[0m\u001b[0;34m\u001b[0m\u001b[0;34m\u001b[0m\u001b[0;34m\u001b[0m\u001b[0m\n\u001b[1;32m    219\u001b[0m \u001b[0;34m\u001b[0m\u001b[0m\n",
      "\u001b[0;32m/usr/local/lib/python3.8/site-packages/sklearn/svm/_base.py\u001b[0m in \u001b[0;36m_dense_fit\u001b[0;34m(self, X, y, sample_weight, solver_type, kernel, random_seed)\u001b[0m\n\u001b[1;32m    266\u001b[0m         \u001b[0mself\u001b[0m\u001b[0;34m.\u001b[0m\u001b[0msupport_\u001b[0m\u001b[0;34m,\u001b[0m \u001b[0mself\u001b[0m\u001b[0;34m.\u001b[0m\u001b[0msupport_vectors_\u001b[0m\u001b[0;34m,\u001b[0m \u001b[0mself\u001b[0m\u001b[0;34m.\u001b[0m\u001b[0m_n_support\u001b[0m\u001b[0;34m,\u001b[0m\u001b[0;31m \u001b[0m\u001b[0;31m\\\u001b[0m\u001b[0;34m\u001b[0m\u001b[0;34m\u001b[0m\u001b[0m\n\u001b[1;32m    267\u001b[0m             \u001b[0mself\u001b[0m\u001b[0;34m.\u001b[0m\u001b[0mdual_coef_\u001b[0m\u001b[0;34m,\u001b[0m \u001b[0mself\u001b[0m\u001b[0;34m.\u001b[0m\u001b[0mintercept_\u001b[0m\u001b[0;34m,\u001b[0m \u001b[0mself\u001b[0m\u001b[0;34m.\u001b[0m\u001b[0m_probA\u001b[0m\u001b[0;34m,\u001b[0m\u001b[0;31m \u001b[0m\u001b[0;31m\\\u001b[0m\u001b[0;34m\u001b[0m\u001b[0;34m\u001b[0m\u001b[0m\n\u001b[0;32m--> 268\u001b[0;31m             self._probB, self.fit_status_ = libsvm.fit(\n\u001b[0m\u001b[1;32m    269\u001b[0m                 \u001b[0mX\u001b[0m\u001b[0;34m,\u001b[0m \u001b[0my\u001b[0m\u001b[0;34m,\u001b[0m\u001b[0;34m\u001b[0m\u001b[0;34m\u001b[0m\u001b[0m\n\u001b[1;32m    270\u001b[0m                 \u001b[0msvm_type\u001b[0m\u001b[0;34m=\u001b[0m\u001b[0msolver_type\u001b[0m\u001b[0;34m,\u001b[0m \u001b[0msample_weight\u001b[0m\u001b[0;34m=\u001b[0m\u001b[0msample_weight\u001b[0m\u001b[0;34m,\u001b[0m\u001b[0;34m\u001b[0m\u001b[0;34m\u001b[0m\u001b[0m\n",
      "\u001b[0;31mKeyboardInterrupt\u001b[0m: "
     ]
    }
   ],
   "source": [
    "fitting_times = []\n",
    "for n in tqdm(n_samples):\n",
    "    t = time.time()\n",
    "    svr.fit(X_train[:n], Y_train[:n])\n",
    "    elapsed_time = time.time() - t\n",
    "    fitting_times.append(elapsed_time)\n"
   ]
  },
  {
   "cell_type": "code",
   "execution_count": 105,
   "metadata": {
    "ExecuteTime": {
     "end_time": "2020-09-24T15:56:48.929145Z",
     "start_time": "2020-09-24T15:56:48.751813Z"
    }
   },
   "outputs": [
    {
     "data": {
      "text/plain": [
       "[<matplotlib.lines.Line2D at 0x124681eb0>]"
      ]
     },
     "execution_count": 105,
     "metadata": {},
     "output_type": "execute_result"
    },
    {
     "data": {
      "image/png": "[encoded data removed]",
      "text/plain": [
       "<Figure size 432x288 with 1 Axes>"
      ]
     },
     "metadata": {
      "needs_background": "light"
     },
     "output_type": "display_data"
    }
   ],
   "source": [
    "plt.plot(n_samples[:len(fitting_times)], fitting_times)"
   ]
  },
  {
   "cell_type": "code",
   "execution_count": 73,
   "metadata": {
    "ExecuteTime": {
     "end_time": "2020-09-24T11:34:06.706459Z",
     "start_time": "2020-09-24T11:34:06.702194Z"
    }
   },
   "outputs": [],
   "source": [
    "from sklearn.linear_model import LinearRegression"
   ]
  },
  {
   "cell_type": "code",
   "execution_count": 76,
   "metadata": {
    "ExecuteTime": {
     "end_time": "2020-09-24T11:36:07.196074Z",
     "start_time": "2020-09-24T11:36:07.186737Z"
    }
   },
   "outputs": [
    {
     "data": {
      "text/plain": [
       "LinearRegression()"
      ]
     },
     "execution_count": 76,
     "metadata": {},
     "output_type": "execute_result"
    }
   ],
   "source": [
    "_model = LinearRegression()\n",
    "_model.fit(np.expand_dims(n_samples**2, axis=1), np.array(fitting_times))"
   ]
  },
  {
   "cell_type": "code",
   "execution_count": 77,
   "metadata": {
    "ExecuteTime": {
     "end_time": "2020-09-24T11:38:06.810094Z",
     "start_time": "2020-09-24T11:38:06.592043Z"
    }
   },
   "outputs": [
    {
     "data": {
      "text/plain": [
       "[<matplotlib.lines.Line2D at 0x123f06dc0>]"
      ]
     },
     "execution_count": 77,
     "metadata": {},
     "output_type": "execute_result"
    },
    {
     "data": {
      "image/png": "[encoded data removed]",
      "text/plain": [
       "<Figure size 432x288 with 1 Axes>"
      ]
     },
     "metadata": {
      "needs_background": "light"
     },
     "output_type": "display_data"
    }
   ],
   "source": [
    "plt.plot(n_samples, fitting_times, label='actual')\n",
    "plt.plot(n_samples, _model.predict(np.expand_dims(n_samples**2, axis=1)), label='prediction')"
   ]
  },
  {
   "cell_type": "code",
   "execution_count": 84,
   "metadata": {
    "ExecuteTime": {
     "end_time": "2020-09-24T12:55:11.661528Z",
     "start_time": "2020-09-24T12:55:11.658006Z"
    }
   },
   "outputs": [
    {
     "data": {
      "text/plain": [
       "5997600"
      ]
     },
     "execution_count": 84,
     "metadata": {},
     "output_type": "execute_result"
    }
   ],
   "source": [
    "len(X_train)"
   ]
  },
  {
   "cell_type": "code",
   "execution_count": 87,
   "metadata": {
    "ExecuteTime": {
     "end_time": "2020-09-24T12:56:05.436830Z",
     "start_time": "2020-09-24T12:56:05.432709Z"
    }
   },
   "outputs": [
    {
     "data": {
      "text/plain": [
       "array([0.10435984])"
      ]
     },
     "execution_count": 87,
     "metadata": {},
     "output_type": "execute_result"
    }
   ],
   "source": [
    "_model.predict([[(len(X_train)*0.1)**2]]) / 60 / 60"
   ]
  },
  {
   "cell_type": "markdown",
   "metadata": {},
   "source": [
    "### Stacking"
   ]
  },
  {
   "cell_type": "code",
   "execution_count": 51,
   "metadata": {
    "ExecuteTime": {
     "end_time": "2020-09-17T15:44:01.428586Z",
     "start_time": "2020-09-17T15:44:01.201511Z"
    }
   },
   "outputs": [],
   "source": [
    "from sklearn.ensemble import RandomForestRegressor, StackingRegressor\n",
    "from sklearn.pipeline import Pipeline\n",
    "import lightgbm as lgb"
   ]
  },
  {
   "cell_type": "code",
   "execution_count": 167,
   "metadata": {
    "ExecuteTime": {
     "end_time": "2020-09-18T03:48:08.261363Z",
     "start_time": "2020-09-18T03:48:08.247364Z"
    }
   },
   "outputs": [],
   "source": [
    "train_lgb_data = lgb.Dataset(X_train, label=Y_train, )\n",
    "params = {\n",
    "    'max_depth': 50,\n",
    "    'learning_rate': 0.25,\n",
    "    'num_leaves': 200,\n",
    "    'n_estimators': 200,\n",
    "    'bagging_fraction': 1/100,\n",
    "    'sub_feature': 1,\n",
    "    'metric': 'mse',\n",
    "    'feature_fraction_seed': 41,\n",
    "    'bagging_seed': 42\n",
    "    \n",
    "}\n",
    "lgb_model = lgb.LGBMRegressor(**params, )"
   ]
  },
  {
   "cell_type": "code",
   "execution_count": 168,
   "metadata": {
    "ExecuteTime": {
     "end_time": "2020-09-18T03:48:08.953400Z",
     "start_time": "2020-09-18T03:48:08.949396Z"
    }
   },
   "outputs": [],
   "source": [
    "linear_model = LinearRegression(fit_intercept=False,\n",
    "                                n_jobs=4)"
   ]
  },
  {
   "cell_type": "code",
   "execution_count": 169,
   "metadata": {
    "ExecuteTime": {
     "end_time": "2020-09-18T03:48:09.431632Z",
     "start_time": "2020-09-18T03:48:09.417632Z"
    }
   },
   "outputs": [],
   "source": [
    "rfr = RandomForestRegressor(n_estimators=100,\n",
    "                            min_samples_split=2,\n",
    "                            max_samples=0.5,\n",
    "                            max_features=0.5,\n",
    "                            max_depth=16,\n",
    "                            n_jobs=4,\n",
    "                            verbose=10\n",
    "                           )"
   ]
  },
  {
   "cell_type": "code",
   "execution_count": 170,
   "metadata": {
    "ExecuteTime": {
     "end_time": "2020-09-18T03:48:17.229175Z",
     "start_time": "2020-09-18T03:48:17.221175Z"
    }
   },
   "outputs": [],
   "source": [
    "meta_model = RandomForestRegressor(max_depth=8,\n",
    "                                   n_estimators=32,\n",
    "                                   n_jobs=-1, \n",
    "                                   random_state=213)\n",
    "stack_regressor = StackingRegressor([('rfr', rfr),\n",
    "                                     ('lgb', lgb_model),\n",
    "                                     ('linear', linear_model)\n",
    "                                     ],\n",
    "                                    final_estimator=meta_model,\n",
    "                                    passthrough=True,\n",
    "                                    cv=3,\n",
    "                                    verbose=100,\n",
    "\n",
    "                                    )"
   ]
  },
  {
   "cell_type": "code",
   "execution_count": 171,
   "metadata": {
    "ExecuteTime": {
     "end_time": "2020-09-18T04:07:44.515361Z",
     "start_time": "2020-09-18T03:48:24.038430Z"
    },
    "scrolled": true
   },
   "outputs": [
    {
     "name": "stderr",
     "output_type": "stream",
     "text": [
      "[Parallel(n_jobs=4)]: Using backend LokyBackend with 4 concurrent workers.\n",
      "[Parallel(n_jobs=4)]: Done   5 tasks      | elapsed:   19.5s\n",
      "[Parallel(n_jobs=4)]: Done  10 tasks      | elapsed:   32.3s\n",
      "[Parallel(n_jobs=4)]: Done  17 tasks      | elapsed:   55.8s\n",
      "[Parallel(n_jobs=4)]: Done  24 tasks      | elapsed:  1.2min\n",
      "[Parallel(n_jobs=4)]: Done  33 tasks      | elapsed:  1.7min\n",
      "[Parallel(n_jobs=4)]: Done  42 tasks      | elapsed:  2.2min\n",
      "[Parallel(n_jobs=4)]: Done  53 tasks      | elapsed:  2.8min\n",
      "[Parallel(n_jobs=4)]: Done  64 tasks      | elapsed:  3.4min\n",
      "[Parallel(n_jobs=4)]: Done  77 tasks      | elapsed:  3.9min\n",
      "[Parallel(n_jobs=4)]: Done  90 tasks      | elapsed:  4.6min\n",
      "[Parallel(n_jobs=4)]: Done 100 out of 100 | elapsed:  5.1min finished\n"
     ]
    },
    {
     "name": "stdout",
     "output_type": "stream",
     "text": [
      "[LightGBM] [Warning] feature_fraction is set with colsample_bytree=1.0, will be overridden by sub_feature=1. Current value: feature_fraction=1\n",
      "[LightGBM] [Warning] bagging_fraction is set=0.01, subsample=1.0 will be ignored. Current value: bagging_fraction=0.01\n",
      "[Parallel(n_jobs=1)]: Using backend SequentialBackend with 1 concurrent workers.\n"
     ]
    },
    {
     "name": "stderr",
     "output_type": "stream",
     "text": [
      "[Parallel(n_jobs=4)]: Using backend LokyBackend with 4 concurrent workers.\n",
      "[Parallel(n_jobs=4)]: Done   5 tasks      | elapsed:   12.1s\n",
      "[Parallel(n_jobs=4)]: Done  10 tasks      | elapsed:   22.4s\n",
      "[Parallel(n_jobs=4)]: Done  17 tasks      | elapsed:   34.2s\n",
      "[Parallel(n_jobs=4)]: Done  24 tasks      | elapsed:   47.7s\n",
      "[Parallel(n_jobs=4)]: Done  33 tasks      | elapsed:  1.1min\n",
      "[Parallel(n_jobs=4)]: Done  42 tasks      | elapsed:  1.4min\n",
      "[Parallel(n_jobs=4)]: Done  53 tasks      | elapsed:  1.8min\n",
      "[Parallel(n_jobs=4)]: Done  64 tasks      | elapsed:  2.1min\n",
      "[Parallel(n_jobs=4)]: Done  77 tasks      | elapsed:  2.5min\n",
      "[Parallel(n_jobs=4)]: Done  90 tasks      | elapsed:  2.8min\n",
      "[Parallel(n_jobs=4)]: Done 100 out of 100 | elapsed:  3.2min finished\n"
     ]
    },
    {
     "name": "stdout",
     "output_type": "stream",
     "text": [
      "Using ThreadingBackend as joblib.Parallel backend instead of LokyBackend as the latter does not provide shared memory semantics.\n"
     ]
    },
    {
     "name": "stderr",
     "output_type": "stream",
     "text": [
      "[Parallel(n_jobs=4)]: Using backend ThreadingBackend with 4 concurrent workers.\n",
      "[Parallel(n_jobs=4)]: Done   5 tasks      | elapsed:    0.0s\n",
      "[Parallel(n_jobs=4)]: Done  10 tasks      | elapsed:    0.1s\n",
      "[Parallel(n_jobs=4)]: Done  17 tasks      | elapsed:    0.2s\n",
      "[Parallel(n_jobs=4)]: Done  24 tasks      | elapsed:    0.3s\n",
      "[Parallel(n_jobs=4)]: Done  33 tasks      | elapsed:    0.5s\n",
      "[Parallel(n_jobs=4)]: Done  42 tasks      | elapsed:    0.6s\n",
      "[Parallel(n_jobs=4)]: Done  53 tasks      | elapsed:    0.8s\n",
      "[Parallel(n_jobs=4)]: Done  64 tasks      | elapsed:    1.0s\n",
      "[Parallel(n_jobs=4)]: Done  77 tasks      | elapsed:    1.3s\n",
      "[Parallel(n_jobs=4)]: Done  90 tasks      | elapsed:    1.5s\n",
      "[Parallel(n_jobs=4)]: Done 100 out of 100 | elapsed:    1.7s finished\n"
     ]
    },
    {
     "name": "stdout",
     "output_type": "stream",
     "text": [
      "[Parallel(n_jobs=1)]: Done   1 out of   1 | elapsed:  3.2min remaining:    0.0s\n"
     ]
    },
    {
     "name": "stderr",
     "output_type": "stream",
     "text": [
      "[Parallel(n_jobs=4)]: Using backend LokyBackend with 4 concurrent workers.\n",
      "[Parallel(n_jobs=4)]: Done   5 tasks      | elapsed:   13.7s\n",
      "[Parallel(n_jobs=4)]: Done  10 tasks      | elapsed:   22.7s\n",
      "[Parallel(n_jobs=4)]: Done  17 tasks      | elapsed:   31.7s\n",
      "[Parallel(n_jobs=4)]: Done  24 tasks      | elapsed:   42.8s\n",
      "[Parallel(n_jobs=4)]: Done  33 tasks      | elapsed:  1.1min\n",
      "[Parallel(n_jobs=4)]: Done  42 tasks      | elapsed:  1.4min\n",
      "[Parallel(n_jobs=4)]: Done  53 tasks      | elapsed:  1.7min\n",
      "[Parallel(n_jobs=4)]: Done  64 tasks      | elapsed:  2.0min\n",
      "[Parallel(n_jobs=4)]: Done  77 tasks      | elapsed:  2.4min\n",
      "[Parallel(n_jobs=4)]: Done  90 tasks      | elapsed:  2.8min\n",
      "[Parallel(n_jobs=4)]: Done 100 out of 100 | elapsed:  3.2min finished\n"
     ]
    },
    {
     "name": "stdout",
     "output_type": "stream",
     "text": [
      "Using ThreadingBackend as joblib.Parallel backend instead of LokyBackend as the latter does not provide shared memory semantics.\n"
     ]
    },
    {
     "name": "stderr",
     "output_type": "stream",
     "text": [
      "[Parallel(n_jobs=4)]: Using backend ThreadingBackend with 4 concurrent workers.\n",
      "[Parallel(n_jobs=4)]: Done   5 tasks      | elapsed:    0.0s\n",
      "[Parallel(n_jobs=4)]: Done  10 tasks      | elapsed:    0.1s\n",
      "[Parallel(n_jobs=4)]: Done  17 tasks      | elapsed:    0.3s\n",
      "[Parallel(n_jobs=4)]: Done  24 tasks      | elapsed:    0.4s\n",
      "[Parallel(n_jobs=4)]: Done  33 tasks      | elapsed:    0.6s\n",
      "[Parallel(n_jobs=4)]: Done  42 tasks      | elapsed:    0.8s\n",
      "[Parallel(n_jobs=4)]: Done  53 tasks      | elapsed:    1.0s\n",
      "[Parallel(n_jobs=4)]: Done  64 tasks      | elapsed:    1.2s\n",
      "[Parallel(n_jobs=4)]: Done  77 tasks      | elapsed:    1.5s\n",
      "[Parallel(n_jobs=4)]: Done  90 tasks      | elapsed:    1.8s\n",
      "[Parallel(n_jobs=4)]: Done 100 out of 100 | elapsed:    2.0s finished\n"
     ]
    },
    {
     "name": "stdout",
     "output_type": "stream",
     "text": [
      "[Parallel(n_jobs=1)]: Done   2 out of   2 | elapsed:  6.5min remaining:    0.0s\n"
     ]
    },
    {
     "name": "stderr",
     "output_type": "stream",
     "text": [
      "[Parallel(n_jobs=4)]: Using backend LokyBackend with 4 concurrent workers.\n",
      "[Parallel(n_jobs=4)]: Done   5 tasks      | elapsed:   13.5s\n",
      "[Parallel(n_jobs=4)]: Done  10 tasks      | elapsed:   22.3s\n",
      "[Parallel(n_jobs=4)]: Done  17 tasks      | elapsed:   36.4s\n",
      "[Parallel(n_jobs=4)]: Done  24 tasks      | elapsed:   49.7s\n",
      "[Parallel(n_jobs=4)]: Done  33 tasks      | elapsed:  1.1min\n",
      "[Parallel(n_jobs=4)]: Done  42 tasks      | elapsed:  1.3min\n",
      "[Parallel(n_jobs=4)]: Done  53 tasks      | elapsed:  1.6min\n",
      "[Parallel(n_jobs=4)]: Done  64 tasks      | elapsed:  1.9min\n",
      "[Parallel(n_jobs=4)]: Done  77 tasks      | elapsed:  2.3min\n",
      "[Parallel(n_jobs=4)]: Done  90 tasks      | elapsed:  2.7min\n",
      "[Parallel(n_jobs=4)]: Done 100 out of 100 | elapsed:  3.0min finished\n"
     ]
    },
    {
     "name": "stdout",
     "output_type": "stream",
     "text": [
      "Using ThreadingBackend as joblib.Parallel backend instead of LokyBackend as the latter does not provide shared memory semantics.\n"
     ]
    },
    {
     "name": "stderr",
     "output_type": "stream",
     "text": [
      "[Parallel(n_jobs=4)]: Using backend ThreadingBackend with 4 concurrent workers.\n",
      "[Parallel(n_jobs=4)]: Done   5 tasks      | elapsed:    0.0s\n",
      "[Parallel(n_jobs=4)]: Done  10 tasks      | elapsed:    0.2s\n",
      "[Parallel(n_jobs=4)]: Done  17 tasks      | elapsed:    0.3s\n",
      "[Parallel(n_jobs=4)]: Done  24 tasks      | elapsed:    0.5s\n",
      "[Parallel(n_jobs=4)]: Done  33 tasks      | elapsed:    0.7s\n",
      "[Parallel(n_jobs=4)]: Done  42 tasks      | elapsed:    0.9s\n",
      "[Parallel(n_jobs=4)]: Done  53 tasks      | elapsed:    1.1s\n",
      "[Parallel(n_jobs=4)]: Done  64 tasks      | elapsed:    1.4s\n",
      "[Parallel(n_jobs=4)]: Done  77 tasks      | elapsed:    1.7s\n",
      "[Parallel(n_jobs=4)]: Done  90 tasks      | elapsed:    2.0s\n",
      "[Parallel(n_jobs=4)]: Done 100 out of 100 | elapsed:    2.2s finished\n"
     ]
    },
    {
     "name": "stdout",
     "output_type": "stream",
     "text": [
      "[Parallel(n_jobs=1)]: Done   3 out of   3 | elapsed:  9.6min remaining:    0.0s\n",
      "[Parallel(n_jobs=1)]: Done   3 out of   3 | elapsed:  9.6min finished\n",
      "[Parallel(n_jobs=1)]: Using backend SequentialBackend with 1 concurrent workers.\n",
      "[Parallel(n_jobs=1)]: Done   1 out of   1 | elapsed:   23.2s remaining:    0.0s\n",
      "[LightGBM] [Warning] feature_fraction is set with colsample_bytree=1.0, will be overridden by sub_feature=1. Current value: feature_fraction=1\n",
      "[LightGBM] [Warning] bagging_fraction is set=0.01, subsample=1.0 will be ignored. Current value: bagging_fraction=0.01\n",
      "[Parallel(n_jobs=1)]: Done   2 out of   2 | elapsed:   46.1s remaining:    0.0s\n",
      "[LightGBM] [Warning] feature_fraction is set with colsample_bytree=1.0, will be overridden by sub_feature=1. Current value: feature_fraction=1\n",
      "[LightGBM] [Warning] bagging_fraction is set=0.01, subsample=1.0 will be ignored. Current value: bagging_fraction=0.01\n",
      "[Parallel(n_jobs=1)]: Done   3 out of   3 | elapsed:  1.2min remaining:    0.0s\n",
      "[Parallel(n_jobs=1)]: Done   3 out of   3 | elapsed:  1.2min finished\n",
      "[Parallel(n_jobs=1)]: Using backend SequentialBackend with 1 concurrent workers.\n",
      "[Parallel(n_jobs=1)]: Done   1 out of   1 | elapsed:    3.8s remaining:    0.0s\n",
      "[Parallel(n_jobs=1)]: Done   2 out of   2 | elapsed:    7.7s remaining:    0.0s\n",
      "[Parallel(n_jobs=1)]: Done   3 out of   3 | elapsed:   11.4s remaining:    0.0s\n",
      "[Parallel(n_jobs=1)]: Done   3 out of   3 | elapsed:   11.4s finished\n"
     ]
    },
    {
     "data": {
      "text/plain": [
       "StackingRegressor(cv=3,\n",
       "                  estimators=[('rfr',\n",
       "                               RandomForestRegressor(bootstrap=True,\n",
       "                                                     ccp_alpha=0.0,\n",
       "                                                     criterion='mse',\n",
       "                                                     max_depth=16,\n",
       "                                                     max_features=0.5,\n",
       "                                                     max_leaf_nodes=None,\n",
       "                                                     max_samples=0.5,\n",
       "                                                     min_impurity_decrease=0.0,\n",
       "                                                     min_impurity_split=None,\n",
       "                                                     min_samples_leaf=1,\n",
       "                                                     min_samples_split=2,\n",
       "                                                     min_weight_fraction_leaf=0.0,\n",
       "                                                     n_estimators=100, n_jobs=4,\n",
       "                                                     oob_score=False,\n",
       "                                                     random_state=No...\n",
       "                  final_estimator=RandomForestRegressor(bootstrap=True,\n",
       "                                                        ccp_alpha=0.0,\n",
       "                                                        criterion='mse',\n",
       "                                                        max_depth=8,\n",
       "                                                        max_features='auto',\n",
       "                                                        max_leaf_nodes=None,\n",
       "                                                        max_samples=None,\n",
       "                                                        min_impurity_decrease=0.0,\n",
       "                                                        min_impurity_split=None,\n",
       "                                                        min_samples_leaf=1,\n",
       "                                                        min_samples_split=2,\n",
       "                                                        min_weight_fraction_leaf=0.0,\n",
       "                                                        n_estimators=32,\n",
       "                                                        n_jobs=-1,\n",
       "                                                        oob_score=False,\n",
       "                                                        random_state=213,\n",
       "                                                        verbose=0,\n",
       "                                                        warm_start=False),\n",
       "                  n_jobs=None, passthrough=True, verbose=100)"
      ]
     },
     "execution_count": 171,
     "metadata": {},
     "output_type": "execute_result"
    }
   ],
   "source": [
    "stack_regressor.fit(X_train, Y_train)"
   ]
  },
  {
   "cell_type": "code",
   "execution_count": 172,
   "metadata": {
    "ExecuteTime": {
     "end_time": "2020-09-18T04:09:53.795037Z",
     "start_time": "2020-09-18T04:09:53.250528Z"
    },
    "scrolled": true
   },
   "outputs": [
    {
     "name": "stderr",
     "output_type": "stream",
     "text": [
      "[Parallel(n_jobs=4)]: Using backend ThreadingBackend with 4 concurrent workers.\n",
      "[Parallel(n_jobs=4)]: Done   5 tasks      | elapsed:    0.0s\n",
      "[Parallel(n_jobs=4)]: Done  10 tasks      | elapsed:    0.0s\n",
      "[Parallel(n_jobs=4)]: Done  17 tasks      | elapsed:    0.0s\n",
      "[Parallel(n_jobs=4)]: Done  24 tasks      | elapsed:    0.0s\n",
      "[Parallel(n_jobs=4)]: Done  33 tasks      | elapsed:    0.0s\n",
      "[Parallel(n_jobs=4)]: Done  42 tasks      | elapsed:    0.0s\n",
      "[Parallel(n_jobs=4)]: Done  53 tasks      | elapsed:    0.0s\n",
      "[Parallel(n_jobs=4)]: Done  64 tasks      | elapsed:    0.1s\n",
      "[Parallel(n_jobs=4)]: Done  77 tasks      | elapsed:    0.1s\n",
      "[Parallel(n_jobs=4)]: Done  90 tasks      | elapsed:    0.1s\n",
      "[Parallel(n_jobs=4)]: Done 100 out of 100 | elapsed:    0.1s finished\n"
     ]
    },
    {
     "data": {
      "text/plain": [
       "rmse    0.588264\n",
       "r2      0.722053\n",
       "dtype: float64"
      ]
     },
     "execution_count": 172,
     "metadata": {},
     "output_type": "execute_result"
    }
   ],
   "source": [
    "prediction = np.squeeze(stack_regressor.predict(X_val))\n",
    "\n",
    "result = pd.Series(evaluate(Y_val, prediction))\n",
    "result"
   ]
  },
  {
   "cell_type": "markdown",
   "metadata": {},
   "source": [
    "## Predict"
   ]
  },
  {
   "cell_type": "code",
   "execution_count": 205,
   "metadata": {
    "ExecuteTime": {
     "end_time": "2020-09-26T14:05:50.236227Z",
     "start_time": "2020-09-26T14:05:48.117844Z"
    },
    "scrolled": true
   },
   "outputs": [],
   "source": [
    "\n",
    "model = lgb_model\n",
    "prediction = model.predict(X_test)\n",
    "prediction = inverse_scaling(prediction, 'count')\n",
    "\n"
   ]
  },
  {
   "cell_type": "code",
   "execution_count": 206,
   "metadata": {
    "ExecuteTime": {
     "end_time": "2020-09-26T14:05:56.894223Z",
     "start_time": "2020-09-26T14:05:56.881294Z"
    }
   },
   "outputs": [
    {
     "data": {
      "text/html": [
       "<div>\n",
       "<style scoped>\n",
       "    .dataframe tbody tr th:only-of-type {\n",
       "        vertical-align: middle;\n",
       "    }\n",
       "\n",
       "    .dataframe tbody tr th {\n",
       "        vertical-align: top;\n",
       "    }\n",
       "\n",
       "    .dataframe thead th {\n",
       "        text-align: right;\n",
       "    }\n",
       "</style>\n",
       "<table border=\"1\" class=\"dataframe\">\n",
       "  <thead>\n",
       "    <tr style=\"text-align: right;\">\n",
       "      <th></th>\n",
       "      <th>ID</th>\n",
       "      <th>item_cnt_month</th>\n",
       "    </tr>\n",
       "  </thead>\n",
       "  <tbody>\n",
       "    <tr>\n",
       "      <th>0</th>\n",
       "      <td>0</td>\n",
       "      <td>-0.183503</td>\n",
       "    </tr>\n",
       "    <tr>\n",
       "      <th>1</th>\n",
       "      <td>1</td>\n",
       "      <td>-0.002900</td>\n",
       "    </tr>\n",
       "    <tr>\n",
       "      <th>2</th>\n",
       "      <td>2</td>\n",
       "      <td>1.715176</td>\n",
       "    </tr>\n",
       "    <tr>\n",
       "      <th>3</th>\n",
       "      <td>3</td>\n",
       "      <td>-0.003134</td>\n",
       "    </tr>\n",
       "    <tr>\n",
       "      <th>4</th>\n",
       "      <td>4</td>\n",
       "      <td>-0.002900</td>\n",
       "    </tr>\n",
       "    <tr>\n",
       "      <th>...</th>\n",
       "      <td>...</td>\n",
       "      <td>...</td>\n",
       "    </tr>\n",
       "    <tr>\n",
       "      <th>214195</th>\n",
       "      <td>214195</td>\n",
       "      <td>1.079698</td>\n",
       "    </tr>\n",
       "    <tr>\n",
       "      <th>214196</th>\n",
       "      <td>214196</td>\n",
       "      <td>-0.002310</td>\n",
       "    </tr>\n",
       "    <tr>\n",
       "      <th>214197</th>\n",
       "      <td>214197</td>\n",
       "      <td>-0.002593</td>\n",
       "    </tr>\n",
       "    <tr>\n",
       "      <th>214198</th>\n",
       "      <td>214198</td>\n",
       "      <td>-0.002094</td>\n",
       "    </tr>\n",
       "    <tr>\n",
       "      <th>214199</th>\n",
       "      <td>214199</td>\n",
       "      <td>-0.003128</td>\n",
       "    </tr>\n",
       "  </tbody>\n",
       "</table>\n",
       "<p>214200 rows × 2 columns</p>\n",
       "</div>"
      ],
      "text/plain": [
       "            ID  item_cnt_month\n",
       "0            0       -0.183503\n",
       "1            1       -0.002900\n",
       "2            2        1.715176\n",
       "3            3       -0.003134\n",
       "4            4       -0.002900\n",
       "...        ...             ...\n",
       "214195  214195        1.079698\n",
       "214196  214196       -0.002310\n",
       "214197  214197       -0.002593\n",
       "214198  214198       -0.002094\n",
       "214199  214199       -0.003128\n",
       "\n",
       "[214200 rows x 2 columns]"
      ]
     },
     "execution_count": 206,
     "metadata": {},
     "output_type": "execute_result"
    }
   ],
   "source": [
    "submission_df = pd.DataFrame(np.array([test_data['ID'].values, prediction]).T,\n",
    "                             columns=['ID', 'item_cnt_month'], )\n",
    "submission_df['ID'] = submission_df['ID'].astype(int)\n",
    "submission_df"
   ]
  },
  {
   "cell_type": "code",
   "execution_count": null,
   "metadata": {},
   "outputs": [],
   "source": []
  },
  {
   "cell_type": "code",
   "execution_count": 207,
   "metadata": {
    "ExecuteTime": {
     "end_time": "2020-09-26T14:06:04.049629Z",
     "start_time": "2020-09-26T14:06:03.420843Z"
    }
   },
   "outputs": [],
   "source": [
    "submission_df.to_csv('submission/outputv18_lgb_add_diff_features.csv', index=False)"
   ]
  },
  {
   "cell_type": "code",
   "execution_count": null,
   "metadata": {},
   "outputs": [],
   "source": []
  }
 ],
 "metadata": {
  "kernelspec": {
   "display_name": "Python 3",
   "language": "python",
   "name": "python3"
  },
  "language_info": {
   "codemirror_mode": {
    "name": "ipython",
    "version": 3
   },
   "file_extension": ".py",
   "mimetype": "text/x-python",
   "name": "python",
   "nbconvert_exporter": "python",
   "pygments_lexer": "ipython3",
   "version": "3.8.5"
  },
  "varInspector": {
   "cols": {
    "lenName": 16,
    "lenType": 16,
    "lenVar": 40
   },
   "kernels_config": {
    "python": {
     "delete_cmd_postfix": "",
     "delete_cmd_prefix": "del ",
     "library": "var_list.py",
     "varRefreshCmd": "print(var_dic_list())"
    },
    "r": {
     "delete_cmd_postfix": ") ",
     "delete_cmd_prefix": "rm(",
     "library": "var_list.r",
     "varRefreshCmd": "cat(var_dic_list()) "
    }
   },
   "types_to_exclude": [
    "module",
    "function",
    "builtin_function_or_method",
    "instance",
    "_Feature"
   ],
   "window_display": false
  }
 },
 "nbformat": 4,
 "nbformat_minor": 4
}
