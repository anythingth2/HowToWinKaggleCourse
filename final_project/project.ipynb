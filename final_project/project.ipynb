{
 "cells": [
  {
   "cell_type": "code",
   "execution_count": 1,
   "metadata": {
    "ExecuteTime": {
     "end_time": "2020-10-18T12:51:43.819046Z",
     "start_time": "2020-10-18T12:51:41.135336Z"
    }
   },
   "outputs": [
    {
     "name": "stderr",
     "output_type": "stream",
     "text": [
      "c:\\users\\nanth\\appdata\\local\\programs\\python\\python38\\lib\\site-packages\\tqdm\\std.py:668: FutureWarning: The Panel class is removed from pandas. Accessing it from the top-level namespace will also be removed in the next version\n",
      "  from pandas import Panel\n"
     ]
    }
   ],
   "source": [
    "from pathlib import Path\n",
    "import numpy as np\n",
    "import pandas as pd\n",
    "import matplotlib.pyplot as plt\n",
    "import seaborn as sns\n",
    "from tqdm import tqdm, trange\n",
    "tqdm.pandas()\n",
    "from multiprocessing import Pool\n",
    "import pickle\n",
    "from sklearn.preprocessing import StandardScaler\n",
    "import time\n",
    "from sklearn.model_selection import GridSearchCV\n",
    "from sklearn.metrics import r2_score, mean_squared_error, make_scorer\n",
    "import gc"
   ]
  },
  {
   "cell_type": "code",
   "execution_count": 2,
   "metadata": {
    "ExecuteTime": {
     "end_time": "2020-10-18T12:51:43.931075Z",
     "start_time": "2020-10-18T12:51:43.852075Z"
    }
   },
   "outputs": [
    {
     "data": {
      "text/html": [
       "<div>\n",
       "<style scoped>\n",
       "    .dataframe tbody tr th:only-of-type {\n",
       "        vertical-align: middle;\n",
       "    }\n",
       "\n",
       "    .dataframe tbody tr th {\n",
       "        vertical-align: top;\n",
       "    }\n",
       "\n",
       "    .dataframe thead th {\n",
       "        text-align: right;\n",
       "    }\n",
       "</style>\n",
       "<table border=\"1\" class=\"dataframe\">\n",
       "  <thead>\n",
       "    <tr style=\"text-align: right;\">\n",
       "      <th></th>\n",
       "      <th>ID</th>\n",
       "      <th>shop_id</th>\n",
       "      <th>item_id</th>\n",
       "    </tr>\n",
       "  </thead>\n",
       "  <tbody>\n",
       "    <tr>\n",
       "      <th>0</th>\n",
       "      <td>0</td>\n",
       "      <td>5</td>\n",
       "      <td>5037</td>\n",
       "    </tr>\n",
       "    <tr>\n",
       "      <th>1</th>\n",
       "      <td>1</td>\n",
       "      <td>5</td>\n",
       "      <td>5320</td>\n",
       "    </tr>\n",
       "    <tr>\n",
       "      <th>2</th>\n",
       "      <td>2</td>\n",
       "      <td>5</td>\n",
       "      <td>5233</td>\n",
       "    </tr>\n",
       "    <tr>\n",
       "      <th>3</th>\n",
       "      <td>3</td>\n",
       "      <td>5</td>\n",
       "      <td>5232</td>\n",
       "    </tr>\n",
       "    <tr>\n",
       "      <th>4</th>\n",
       "      <td>4</td>\n",
       "      <td>5</td>\n",
       "      <td>5268</td>\n",
       "    </tr>\n",
       "    <tr>\n",
       "      <th>...</th>\n",
       "      <td>...</td>\n",
       "      <td>...</td>\n",
       "      <td>...</td>\n",
       "    </tr>\n",
       "    <tr>\n",
       "      <th>214195</th>\n",
       "      <td>214195</td>\n",
       "      <td>45</td>\n",
       "      <td>18454</td>\n",
       "    </tr>\n",
       "    <tr>\n",
       "      <th>214196</th>\n",
       "      <td>214196</td>\n",
       "      <td>45</td>\n",
       "      <td>16188</td>\n",
       "    </tr>\n",
       "    <tr>\n",
       "      <th>214197</th>\n",
       "      <td>214197</td>\n",
       "      <td>45</td>\n",
       "      <td>15757</td>\n",
       "    </tr>\n",
       "    <tr>\n",
       "      <th>214198</th>\n",
       "      <td>214198</td>\n",
       "      <td>45</td>\n",
       "      <td>19648</td>\n",
       "    </tr>\n",
       "    <tr>\n",
       "      <th>214199</th>\n",
       "      <td>214199</td>\n",
       "      <td>45</td>\n",
       "      <td>969</td>\n",
       "    </tr>\n",
       "  </tbody>\n",
       "</table>\n",
       "<p>214200 rows × 3 columns</p>\n",
       "</div>"
      ],
      "text/plain": [
       "            ID  shop_id  item_id\n",
       "0            0        5     5037\n",
       "1            1        5     5320\n",
       "2            2        5     5233\n",
       "3            3        5     5232\n",
       "4            4        5     5268\n",
       "...        ...      ...      ...\n",
       "214195  214195       45    18454\n",
       "214196  214196       45    16188\n",
       "214197  214197       45    15757\n",
       "214198  214198       45    19648\n",
       "214199  214199       45      969\n",
       "\n",
       "[214200 rows x 3 columns]"
      ]
     },
     "execution_count": 2,
     "metadata": {},
     "output_type": "execute_result"
    }
   ],
   "source": [
    "test_df = pd.read_csv('datasets/test.csv.gz', dtype={'ID': np.int32,\n",
    "                                                    'shop_id': np.int32,\n",
    "                                                    'item_id': np.int32})\n",
    "test_df"
   ]
  },
  {
   "cell_type": "code",
   "execution_count": 3,
   "metadata": {
    "ExecuteTime": {
     "end_time": "2020-10-18T12:51:44.011075Z",
     "start_time": "2020-10-18T12:51:43.964076Z"
    }
   },
   "outputs": [
    {
     "data": {
      "text/html": [
       "<div>\n",
       "<style scoped>\n",
       "    .dataframe tbody tr th:only-of-type {\n",
       "        vertical-align: middle;\n",
       "    }\n",
       "\n",
       "    .dataframe tbody tr th {\n",
       "        vertical-align: top;\n",
       "    }\n",
       "\n",
       "    .dataframe thead th {\n",
       "        text-align: right;\n",
       "    }\n",
       "</style>\n",
       "<table border=\"1\" class=\"dataframe\">\n",
       "  <thead>\n",
       "    <tr style=\"text-align: right;\">\n",
       "      <th></th>\n",
       "      <th>Unnamed: 0</th>\n",
       "      <th>item_name</th>\n",
       "      <th>item_id</th>\n",
       "      <th>item_category_id</th>\n",
       "      <th>tag</th>\n",
       "    </tr>\n",
       "  </thead>\n",
       "  <tbody>\n",
       "    <tr>\n",
       "      <th>0</th>\n",
       "      <td>0</td>\n",
       "      <td>! ВО ВЛАСТИ НАВАЖДЕНИЯ (ПЛАСТ.)         D</td>\n",
       "      <td>0</td>\n",
       "      <td>40</td>\n",
       "      <td>-1</td>\n",
       "    </tr>\n",
       "    <tr>\n",
       "      <th>1</th>\n",
       "      <td>1</td>\n",
       "      <td>!ABBYY FineReader 12 Professional Edition Full...</td>\n",
       "      <td>1</td>\n",
       "      <td>76</td>\n",
       "      <td>0</td>\n",
       "    </tr>\n",
       "    <tr>\n",
       "      <th>2</th>\n",
       "      <td>2</td>\n",
       "      <td>***В ЛУЧАХ СЛАВЫ   (UNV)                    D</td>\n",
       "      <td>2</td>\n",
       "      <td>40</td>\n",
       "      <td>-1</td>\n",
       "    </tr>\n",
       "    <tr>\n",
       "      <th>3</th>\n",
       "      <td>3</td>\n",
       "      <td>***ГОЛУБАЯ ВОЛНА  (Univ)                      D</td>\n",
       "      <td>3</td>\n",
       "      <td>40</td>\n",
       "      <td>-1</td>\n",
       "    </tr>\n",
       "    <tr>\n",
       "      <th>4</th>\n",
       "      <td>4</td>\n",
       "      <td>***КОРОБКА (СТЕКЛО)                       D</td>\n",
       "      <td>4</td>\n",
       "      <td>40</td>\n",
       "      <td>1</td>\n",
       "    </tr>\n",
       "    <tr>\n",
       "      <th>...</th>\n",
       "      <td>...</td>\n",
       "      <td>...</td>\n",
       "      <td>...</td>\n",
       "      <td>...</td>\n",
       "      <td>...</td>\n",
       "    </tr>\n",
       "    <tr>\n",
       "      <th>22165</th>\n",
       "      <td>22165</td>\n",
       "      <td>Ядерный титбит 2 [PC, Цифровая версия]</td>\n",
       "      <td>22165</td>\n",
       "      <td>31</td>\n",
       "      <td>6</td>\n",
       "    </tr>\n",
       "    <tr>\n",
       "      <th>22166</th>\n",
       "      <td>22166</td>\n",
       "      <td>Язык запросов 1С:Предприятия  [Цифровая версия]</td>\n",
       "      <td>22166</td>\n",
       "      <td>54</td>\n",
       "      <td>-1</td>\n",
       "    </tr>\n",
       "    <tr>\n",
       "      <th>22167</th>\n",
       "      <td>22167</td>\n",
       "      <td>Язык запросов 1С:Предприятия 8 (+CD). Хрустале...</td>\n",
       "      <td>22167</td>\n",
       "      <td>49</td>\n",
       "      <td>-1</td>\n",
       "    </tr>\n",
       "    <tr>\n",
       "      <th>22168</th>\n",
       "      <td>22168</td>\n",
       "      <td>Яйцо для Little Inu</td>\n",
       "      <td>22168</td>\n",
       "      <td>62</td>\n",
       "      <td>547</td>\n",
       "    </tr>\n",
       "    <tr>\n",
       "      <th>22169</th>\n",
       "      <td>22169</td>\n",
       "      <td>Яйцо дракона (Игра престолов)</td>\n",
       "      <td>22169</td>\n",
       "      <td>69</td>\n",
       "      <td>-1</td>\n",
       "    </tr>\n",
       "  </tbody>\n",
       "</table>\n",
       "<p>22170 rows × 5 columns</p>\n",
       "</div>"
      ],
      "text/plain": [
       "       Unnamed: 0                                          item_name  item_id  \\\n",
       "0               0          ! ВО ВЛАСТИ НАВАЖДЕНИЯ (ПЛАСТ.)         D        0   \n",
       "1               1  !ABBYY FineReader 12 Professional Edition Full...        1   \n",
       "2               2      ***В ЛУЧАХ СЛАВЫ   (UNV)                    D        2   \n",
       "3               3    ***ГОЛУБАЯ ВОЛНА  (Univ)                      D        3   \n",
       "4               4        ***КОРОБКА (СТЕКЛО)                       D        4   \n",
       "...           ...                                                ...      ...   \n",
       "22165       22165             Ядерный титбит 2 [PC, Цифровая версия]    22165   \n",
       "22166       22166    Язык запросов 1С:Предприятия  [Цифровая версия]    22166   \n",
       "22167       22167  Язык запросов 1С:Предприятия 8 (+CD). Хрустале...    22167   \n",
       "22168       22168                                Яйцо для Little Inu    22168   \n",
       "22169       22169                      Яйцо дракона (Игра престолов)    22169   \n",
       "\n",
       "       item_category_id  tag  \n",
       "0                    40   -1  \n",
       "1                    76    0  \n",
       "2                    40   -1  \n",
       "3                    40   -1  \n",
       "4                    40    1  \n",
       "...                 ...  ...  \n",
       "22165                31    6  \n",
       "22166                54   -1  \n",
       "22167                49   -1  \n",
       "22168                62  547  \n",
       "22169                69   -1  \n",
       "\n",
       "[22170 rows x 5 columns]"
      ]
     },
     "execution_count": 3,
     "metadata": {},
     "output_type": "execute_result"
    }
   ],
   "source": [
    "item_df = pd.read_csv('datasets/items_with_tag.csv')\n",
    "item_df"
   ]
  },
  {
   "cell_type": "code",
   "execution_count": 4,
   "metadata": {
    "ExecuteTime": {
     "end_time": "2020-10-18T12:51:45.415074Z",
     "start_time": "2020-10-18T12:51:44.043075Z"
    }
   },
   "outputs": [
    {
     "data": {
      "text/html": [
       "<div>\n",
       "<style scoped>\n",
       "    .dataframe tbody tr th:only-of-type {\n",
       "        vertical-align: middle;\n",
       "    }\n",
       "\n",
       "    .dataframe tbody tr th {\n",
       "        vertical-align: top;\n",
       "    }\n",
       "\n",
       "    .dataframe thead th {\n",
       "        text-align: right;\n",
       "    }\n",
       "</style>\n",
       "<table border=\"1\" class=\"dataframe\">\n",
       "  <thead>\n",
       "    <tr style=\"text-align: right;\">\n",
       "      <th></th>\n",
       "      <th>date</th>\n",
       "      <th>date_block_num</th>\n",
       "      <th>shop_id</th>\n",
       "      <th>item_id</th>\n",
       "      <th>item_price</th>\n",
       "      <th>item_cnt_day</th>\n",
       "    </tr>\n",
       "  </thead>\n",
       "  <tbody>\n",
       "    <tr>\n",
       "      <th>0</th>\n",
       "      <td>2013-01-02</td>\n",
       "      <td>0</td>\n",
       "      <td>59</td>\n",
       "      <td>22154</td>\n",
       "      <td>999.00</td>\n",
       "      <td>1.0</td>\n",
       "    </tr>\n",
       "    <tr>\n",
       "      <th>1</th>\n",
       "      <td>2013-01-03</td>\n",
       "      <td>0</td>\n",
       "      <td>25</td>\n",
       "      <td>2552</td>\n",
       "      <td>899.00</td>\n",
       "      <td>1.0</td>\n",
       "    </tr>\n",
       "    <tr>\n",
       "      <th>2</th>\n",
       "      <td>2013-01-05</td>\n",
       "      <td>0</td>\n",
       "      <td>25</td>\n",
       "      <td>2552</td>\n",
       "      <td>899.00</td>\n",
       "      <td>-1.0</td>\n",
       "    </tr>\n",
       "    <tr>\n",
       "      <th>3</th>\n",
       "      <td>2013-01-06</td>\n",
       "      <td>0</td>\n",
       "      <td>25</td>\n",
       "      <td>2554</td>\n",
       "      <td>1709.05</td>\n",
       "      <td>1.0</td>\n",
       "    </tr>\n",
       "    <tr>\n",
       "      <th>4</th>\n",
       "      <td>2013-01-15</td>\n",
       "      <td>0</td>\n",
       "      <td>25</td>\n",
       "      <td>2555</td>\n",
       "      <td>1099.00</td>\n",
       "      <td>1.0</td>\n",
       "    </tr>\n",
       "    <tr>\n",
       "      <th>...</th>\n",
       "      <td>...</td>\n",
       "      <td>...</td>\n",
       "      <td>...</td>\n",
       "      <td>...</td>\n",
       "      <td>...</td>\n",
       "      <td>...</td>\n",
       "    </tr>\n",
       "    <tr>\n",
       "      <th>2935844</th>\n",
       "      <td>2015-10-10</td>\n",
       "      <td>33</td>\n",
       "      <td>25</td>\n",
       "      <td>7409</td>\n",
       "      <td>299.00</td>\n",
       "      <td>1.0</td>\n",
       "    </tr>\n",
       "    <tr>\n",
       "      <th>2935845</th>\n",
       "      <td>2015-10-09</td>\n",
       "      <td>33</td>\n",
       "      <td>25</td>\n",
       "      <td>7460</td>\n",
       "      <td>299.00</td>\n",
       "      <td>1.0</td>\n",
       "    </tr>\n",
       "    <tr>\n",
       "      <th>2935846</th>\n",
       "      <td>2015-10-14</td>\n",
       "      <td>33</td>\n",
       "      <td>25</td>\n",
       "      <td>7459</td>\n",
       "      <td>349.00</td>\n",
       "      <td>1.0</td>\n",
       "    </tr>\n",
       "    <tr>\n",
       "      <th>2935847</th>\n",
       "      <td>2015-10-22</td>\n",
       "      <td>33</td>\n",
       "      <td>25</td>\n",
       "      <td>7440</td>\n",
       "      <td>299.00</td>\n",
       "      <td>1.0</td>\n",
       "    </tr>\n",
       "    <tr>\n",
       "      <th>2935848</th>\n",
       "      <td>2015-10-03</td>\n",
       "      <td>33</td>\n",
       "      <td>25</td>\n",
       "      <td>7460</td>\n",
       "      <td>299.00</td>\n",
       "      <td>1.0</td>\n",
       "    </tr>\n",
       "  </tbody>\n",
       "</table>\n",
       "<p>2935849 rows × 6 columns</p>\n",
       "</div>"
      ],
      "text/plain": [
       "              date  date_block_num  shop_id  item_id  item_price  item_cnt_day\n",
       "0       2013-01-02               0       59    22154      999.00           1.0\n",
       "1       2013-01-03               0       25     2552      899.00           1.0\n",
       "2       2013-01-05               0       25     2552      899.00          -1.0\n",
       "3       2013-01-06               0       25     2554     1709.05           1.0\n",
       "4       2013-01-15               0       25     2555     1099.00           1.0\n",
       "...            ...             ...      ...      ...         ...           ...\n",
       "2935844 2015-10-10              33       25     7409      299.00           1.0\n",
       "2935845 2015-10-09              33       25     7460      299.00           1.0\n",
       "2935846 2015-10-14              33       25     7459      349.00           1.0\n",
       "2935847 2015-10-22              33       25     7440      299.00           1.0\n",
       "2935848 2015-10-03              33       25     7460      299.00           1.0\n",
       "\n",
       "[2935849 rows x 6 columns]"
      ]
     },
     "execution_count": 4,
     "metadata": {},
     "output_type": "execute_result"
    }
   ],
   "source": [
    "sales_df = pd.read_csv('datasets/sales_train.csv.gz')\n",
    "sales_df['date'] = pd.to_datetime(sales_df['date'], format='%d.%m.%Y')\n",
    "sales_df"
   ]
  },
  {
   "cell_type": "code",
   "execution_count": 5,
   "metadata": {
    "ExecuteTime": {
     "end_time": "2020-10-18T12:51:45.495073Z",
     "start_time": "2020-10-18T12:51:45.448076Z"
    }
   },
   "outputs": [
    {
     "data": {
      "text/plain": [
       "date              0\n",
       "date_block_num    0\n",
       "shop_id           0\n",
       "item_id           0\n",
       "item_price        0\n",
       "item_cnt_day      0\n",
       "dtype: int64"
      ]
     },
     "execution_count": 5,
     "metadata": {},
     "output_type": "execute_result"
    }
   ],
   "source": [
    "sales_df.isna().sum(axis=0)"
   ]
  },
  {
   "cell_type": "code",
   "execution_count": 6,
   "metadata": {
    "ExecuteTime": {
     "end_time": "2020-10-18T12:51:45.767095Z",
     "start_time": "2020-10-18T12:51:45.528094Z"
    }
   },
   "outputs": [
    {
     "data": {
      "text/plain": [
       "<matplotlib.axes._subplots.AxesSubplot at 0x26e263650a0>"
      ]
     },
     "execution_count": 6,
     "metadata": {},
     "output_type": "execute_result"
    },
    {
     "data": {
      "image/png": "[encoded data removed]",
      "text/plain": [
       "<Figure size 432x288 with 1 Axes>"
      ]
     },
     "metadata": {
      "needs_background": "light"
     },
     "output_type": "display_data"
    }
   ],
   "source": [
    "sample_item = sales_df.sample(1, random_state=123)\n",
    "shop_id = sample_item['shop_id'].values[0]\n",
    "item_id = sample_item['item_id'].values[0]\n",
    "item_sales_df = sales_df[(sales_df['shop_id'] == shop_id) & (sales_df['item_id'] == item_id)].sort_values('date')\n",
    "item_sales_df.plot(x='date', y='item_price')"
   ]
  },
  {
   "cell_type": "code",
   "execution_count": 7,
   "metadata": {
    "ExecuteTime": {
     "end_time": "2020-10-18T12:51:45.845093Z",
     "start_time": "2020-10-18T12:51:45.831093Z"
    }
   },
   "outputs": [],
   "source": [
    "\n",
    "def downcast_dataframe(df):\n",
    "    dtype_mapper = {\n",
    "        'int64': 'int16',\n",
    "        'int32': 'int16',\n",
    "        'float64': 'float16'\n",
    "    }\n",
    "    dtypes = df.dtypes.to_dict()\n",
    "\n",
    "    new_dtypes = {col: dtype_mapper.get(str(dtype), str(dtype)) for col, dtype in dtypes.items()}\n",
    "    return df.astype(new_dtypes)"
   ]
  },
  {
   "cell_type": "code",
   "execution_count": 8,
   "metadata": {
    "ExecuteTime": {
     "end_time": "2020-10-18T12:51:46.706118Z",
     "start_time": "2020-10-18T12:51:45.893094Z"
    }
   },
   "outputs": [
    {
     "data": {
      "text/html": [
       "<div>\n",
       "<style scoped>\n",
       "    .dataframe tbody tr th:only-of-type {\n",
       "        vertical-align: middle;\n",
       "    }\n",
       "\n",
       "    .dataframe tbody tr th {\n",
       "        vertical-align: top;\n",
       "    }\n",
       "\n",
       "    .dataframe thead th {\n",
       "        text-align: right;\n",
       "    }\n",
       "</style>\n",
       "<table border=\"1\" class=\"dataframe\">\n",
       "  <thead>\n",
       "    <tr style=\"text-align: right;\">\n",
       "      <th></th>\n",
       "      <th>shop_id</th>\n",
       "      <th>item_id</th>\n",
       "      <th>date_block_num</th>\n",
       "      <th>item_price</th>\n",
       "      <th>count</th>\n",
       "    </tr>\n",
       "  </thead>\n",
       "  <tbody>\n",
       "    <tr>\n",
       "      <th>0</th>\n",
       "      <td>0</td>\n",
       "      <td>30</td>\n",
       "      <td>1</td>\n",
       "      <td>265.0</td>\n",
       "      <td>31.0</td>\n",
       "    </tr>\n",
       "    <tr>\n",
       "      <th>1</th>\n",
       "      <td>0</td>\n",
       "      <td>31</td>\n",
       "      <td>1</td>\n",
       "      <td>434.0</td>\n",
       "      <td>11.0</td>\n",
       "    </tr>\n",
       "    <tr>\n",
       "      <th>2</th>\n",
       "      <td>0</td>\n",
       "      <td>32</td>\n",
       "      <td>0</td>\n",
       "      <td>221.0</td>\n",
       "      <td>6.0</td>\n",
       "    </tr>\n",
       "    <tr>\n",
       "      <th>3</th>\n",
       "      <td>0</td>\n",
       "      <td>32</td>\n",
       "      <td>1</td>\n",
       "      <td>221.0</td>\n",
       "      <td>10.0</td>\n",
       "    </tr>\n",
       "    <tr>\n",
       "      <th>4</th>\n",
       "      <td>0</td>\n",
       "      <td>33</td>\n",
       "      <td>0</td>\n",
       "      <td>347.0</td>\n",
       "      <td>3.0</td>\n",
       "    </tr>\n",
       "    <tr>\n",
       "      <th>...</th>\n",
       "      <td>...</td>\n",
       "      <td>...</td>\n",
       "      <td>...</td>\n",
       "      <td>...</td>\n",
       "      <td>...</td>\n",
       "    </tr>\n",
       "    <tr>\n",
       "      <th>1609119</th>\n",
       "      <td>59</td>\n",
       "      <td>22164</td>\n",
       "      <td>27</td>\n",
       "      <td>699.0</td>\n",
       "      <td>2.0</td>\n",
       "    </tr>\n",
       "    <tr>\n",
       "      <th>1609120</th>\n",
       "      <td>59</td>\n",
       "      <td>22164</td>\n",
       "      <td>30</td>\n",
       "      <td>699.0</td>\n",
       "      <td>1.0</td>\n",
       "    </tr>\n",
       "    <tr>\n",
       "      <th>1609121</th>\n",
       "      <td>59</td>\n",
       "      <td>22167</td>\n",
       "      <td>9</td>\n",
       "      <td>299.0</td>\n",
       "      <td>1.0</td>\n",
       "    </tr>\n",
       "    <tr>\n",
       "      <th>1609122</th>\n",
       "      <td>59</td>\n",
       "      <td>22167</td>\n",
       "      <td>11</td>\n",
       "      <td>299.0</td>\n",
       "      <td>2.0</td>\n",
       "    </tr>\n",
       "    <tr>\n",
       "      <th>1609123</th>\n",
       "      <td>59</td>\n",
       "      <td>22167</td>\n",
       "      <td>17</td>\n",
       "      <td>299.0</td>\n",
       "      <td>1.0</td>\n",
       "    </tr>\n",
       "  </tbody>\n",
       "</table>\n",
       "<p>1609124 rows × 5 columns</p>\n",
       "</div>"
      ],
      "text/plain": [
       "         shop_id  item_id  date_block_num  item_price  count\n",
       "0              0       30               1       265.0   31.0\n",
       "1              0       31               1       434.0   11.0\n",
       "2              0       32               0       221.0    6.0\n",
       "3              0       32               1       221.0   10.0\n",
       "4              0       33               0       347.0    3.0\n",
       "...          ...      ...             ...         ...    ...\n",
       "1609119       59    22164              27       699.0    2.0\n",
       "1609120       59    22164              30       699.0    1.0\n",
       "1609121       59    22167               9       299.0    1.0\n",
       "1609122       59    22167              11       299.0    2.0\n",
       "1609123       59    22167              17       299.0    1.0\n",
       "\n",
       "[1609124 rows x 5 columns]"
      ]
     },
     "execution_count": 8,
     "metadata": {},
     "output_type": "execute_result"
    }
   ],
   "source": [
    "monthly_sales_df = sales_df.groupby(['shop_id', 'item_id', 'date_block_num'], as_index=False) \\\n",
    "                            .agg({'item_price': 'mean', 'item_cnt_day': 'sum'})\n",
    "monthly_sales_df.rename(columns={'item_cnt_day': 'count'}, inplace=True)\n",
    "del sales_df, item_sales_df\n",
    "gc.collect()\n",
    "monthly_sales_df"
   ]
  },
  {
   "cell_type": "code",
   "execution_count": 9,
   "metadata": {
    "ExecuteTime": {
     "end_time": "2020-10-18T12:51:49.067745Z",
     "start_time": "2020-10-18T12:51:46.739120Z"
    }
   },
   "outputs": [
    {
     "data": {
      "text/plain": [
       "<matplotlib.axes._subplots.AxesSubplot at 0x26e2641f9d0>"
      ]
     },
     "execution_count": 9,
     "metadata": {},
     "output_type": "execute_result"
    },
    {
     "data": {
      "image/png": "[encoded data removed]",
      "text/plain": [
       "<Figure size 432x288 with 1 Axes>"
      ]
     },
     "metadata": {
      "needs_background": "light"
     },
     "output_type": "display_data"
    }
   ],
   "source": [
    "\n",
    "monthly_sales_df.plot.scatter(x='item_price', y='count')"
   ]
  },
  {
   "cell_type": "code",
   "execution_count": 10,
   "metadata": {
    "ExecuteTime": {
     "end_time": "2020-10-18T12:51:49.259747Z",
     "start_time": "2020-10-18T12:51:49.100746Z"
    }
   },
   "outputs": [
    {
     "data": {
      "text/html": [
       "<div>\n",
       "<style scoped>\n",
       "    .dataframe tbody tr th:only-of-type {\n",
       "        vertical-align: middle;\n",
       "    }\n",
       "\n",
       "    .dataframe tbody tr th {\n",
       "        vertical-align: top;\n",
       "    }\n",
       "\n",
       "    .dataframe thead th {\n",
       "        text-align: right;\n",
       "    }\n",
       "</style>\n",
       "<table border=\"1\" class=\"dataframe\">\n",
       "  <thead>\n",
       "    <tr style=\"text-align: right;\">\n",
       "      <th></th>\n",
       "      <th>shop_id</th>\n",
       "      <th>item_id</th>\n",
       "      <th>date_block_num</th>\n",
       "      <th>item_price</th>\n",
       "      <th>count</th>\n",
       "      <th>item_category_id</th>\n",
       "    </tr>\n",
       "  </thead>\n",
       "  <tbody>\n",
       "    <tr>\n",
       "      <th>0</th>\n",
       "      <td>0</td>\n",
       "      <td>30</td>\n",
       "      <td>1</td>\n",
       "      <td>265.0</td>\n",
       "      <td>31.0</td>\n",
       "      <td>40</td>\n",
       "    </tr>\n",
       "    <tr>\n",
       "      <th>1</th>\n",
       "      <td>1</td>\n",
       "      <td>30</td>\n",
       "      <td>1</td>\n",
       "      <td>265.0</td>\n",
       "      <td>10.0</td>\n",
       "      <td>40</td>\n",
       "    </tr>\n",
       "    <tr>\n",
       "      <th>2</th>\n",
       "      <td>2</td>\n",
       "      <td>30</td>\n",
       "      <td>2</td>\n",
       "      <td>359.0</td>\n",
       "      <td>1.0</td>\n",
       "      <td>40</td>\n",
       "    </tr>\n",
       "    <tr>\n",
       "      <th>3</th>\n",
       "      <td>2</td>\n",
       "      <td>30</td>\n",
       "      <td>5</td>\n",
       "      <td>399.0</td>\n",
       "      <td>1.0</td>\n",
       "      <td>40</td>\n",
       "    </tr>\n",
       "    <tr>\n",
       "      <th>4</th>\n",
       "      <td>2</td>\n",
       "      <td>30</td>\n",
       "      <td>15</td>\n",
       "      <td>169.0</td>\n",
       "      <td>1.0</td>\n",
       "      <td>40</td>\n",
       "    </tr>\n",
       "    <tr>\n",
       "      <th>...</th>\n",
       "      <td>...</td>\n",
       "      <td>...</td>\n",
       "      <td>...</td>\n",
       "      <td>...</td>\n",
       "      <td>...</td>\n",
       "      <td>...</td>\n",
       "    </tr>\n",
       "    <tr>\n",
       "      <th>1609119</th>\n",
       "      <td>59</td>\n",
       "      <td>9760</td>\n",
       "      <td>12</td>\n",
       "      <td>179.0</td>\n",
       "      <td>1.0</td>\n",
       "      <td>37</td>\n",
       "    </tr>\n",
       "    <tr>\n",
       "      <th>1609120</th>\n",
       "      <td>59</td>\n",
       "      <td>12846</td>\n",
       "      <td>10</td>\n",
       "      <td>149.0</td>\n",
       "      <td>1.0</td>\n",
       "      <td>37</td>\n",
       "    </tr>\n",
       "    <tr>\n",
       "      <th>1609121</th>\n",
       "      <td>59</td>\n",
       "      <td>16270</td>\n",
       "      <td>6</td>\n",
       "      <td>1000.0</td>\n",
       "      <td>1.0</td>\n",
       "      <td>75</td>\n",
       "    </tr>\n",
       "    <tr>\n",
       "      <th>1609122</th>\n",
       "      <td>59</td>\n",
       "      <td>17732</td>\n",
       "      <td>9</td>\n",
       "      <td>198.0</td>\n",
       "      <td>1.0</td>\n",
       "      <td>28</td>\n",
       "    </tr>\n",
       "    <tr>\n",
       "      <th>1609123</th>\n",
       "      <td>59</td>\n",
       "      <td>18018</td>\n",
       "      <td>0</td>\n",
       "      <td>28.0</td>\n",
       "      <td>1.0</td>\n",
       "      <td>57</td>\n",
       "    </tr>\n",
       "  </tbody>\n",
       "</table>\n",
       "<p>1609124 rows × 6 columns</p>\n",
       "</div>"
      ],
      "text/plain": [
       "         shop_id  item_id  date_block_num  item_price  count  item_category_id\n",
       "0              0       30               1       265.0   31.0                40\n",
       "1              1       30               1       265.0   10.0                40\n",
       "2              2       30               2       359.0    1.0                40\n",
       "3              2       30               5       399.0    1.0                40\n",
       "4              2       30              15       169.0    1.0                40\n",
       "...          ...      ...             ...         ...    ...               ...\n",
       "1609119       59     9760              12       179.0    1.0                37\n",
       "1609120       59    12846              10       149.0    1.0                37\n",
       "1609121       59    16270               6      1000.0    1.0                75\n",
       "1609122       59    17732               9       198.0    1.0                28\n",
       "1609123       59    18018               0        28.0    1.0                57\n",
       "\n",
       "[1609124 rows x 6 columns]"
      ]
     },
     "execution_count": 10,
     "metadata": {},
     "output_type": "execute_result"
    }
   ],
   "source": [
    "monthly_sales_df = monthly_sales_df.merge(item_df[['item_id', 'item_category_id']], on='item_id')\n",
    "monthly_sales_df"
   ]
  },
  {
   "cell_type": "code",
   "execution_count": 11,
   "metadata": {
    "ExecuteTime": {
     "end_time": "2020-10-18T12:51:49.593253Z",
     "start_time": "2020-10-18T12:51:49.291744Z"
    }
   },
   "outputs": [
    {
     "data": {
      "text/html": [
       "<div>\n",
       "<style scoped>\n",
       "    .dataframe tbody tr th:only-of-type {\n",
       "        vertical-align: middle;\n",
       "    }\n",
       "\n",
       "    .dataframe tbody tr th {\n",
       "        vertical-align: top;\n",
       "    }\n",
       "\n",
       "    .dataframe thead th {\n",
       "        text-align: right;\n",
       "    }\n",
       "</style>\n",
       "<table border=\"1\" class=\"dataframe\">\n",
       "  <thead>\n",
       "    <tr style=\"text-align: right;\">\n",
       "      <th></th>\n",
       "      <th>shop_id</th>\n",
       "      <th>item_id</th>\n",
       "      <th>date_block_num</th>\n",
       "      <th>item_price</th>\n",
       "      <th>count</th>\n",
       "      <th>item_category_id</th>\n",
       "    </tr>\n",
       "  </thead>\n",
       "  <tbody>\n",
       "    <tr>\n",
       "      <th>count</th>\n",
       "      <td>1.609124e+06</td>\n",
       "      <td>1.609124e+06</td>\n",
       "      <td>1.609124e+06</td>\n",
       "      <td>1.609124e+06</td>\n",
       "      <td>1.609124e+06</td>\n",
       "      <td>1.609124e+06</td>\n",
       "    </tr>\n",
       "    <tr>\n",
       "      <th>mean</th>\n",
       "      <td>3.280585e+01</td>\n",
       "      <td>1.068099e+04</td>\n",
       "      <td>1.466479e+01</td>\n",
       "      <td>7.908847e+02</td>\n",
       "      <td>2.267200e+00</td>\n",
       "      <td>4.154192e+01</td>\n",
       "    </tr>\n",
       "    <tr>\n",
       "      <th>std</th>\n",
       "      <td>1.653701e+01</td>\n",
       "      <td>6.238883e+03</td>\n",
       "      <td>9.542322e+00</td>\n",
       "      <td>1.551605e+03</td>\n",
       "      <td>8.649882e+00</td>\n",
       "      <td>1.632365e+01</td>\n",
       "    </tr>\n",
       "    <tr>\n",
       "      <th>min</th>\n",
       "      <td>0.000000e+00</td>\n",
       "      <td>0.000000e+00</td>\n",
       "      <td>0.000000e+00</td>\n",
       "      <td>9.000000e-02</td>\n",
       "      <td>-2.200000e+01</td>\n",
       "      <td>0.000000e+00</td>\n",
       "    </tr>\n",
       "    <tr>\n",
       "      <th>25%</th>\n",
       "      <td>2.100000e+01</td>\n",
       "      <td>5.045000e+03</td>\n",
       "      <td>6.000000e+00</td>\n",
       "      <td>1.990000e+02</td>\n",
       "      <td>1.000000e+00</td>\n",
       "      <td>3.000000e+01</td>\n",
       "    </tr>\n",
       "    <tr>\n",
       "      <th>50%</th>\n",
       "      <td>3.100000e+01</td>\n",
       "      <td>1.049700e+04</td>\n",
       "      <td>1.400000e+01</td>\n",
       "      <td>3.990000e+02</td>\n",
       "      <td>1.000000e+00</td>\n",
       "      <td>4.000000e+01</td>\n",
       "    </tr>\n",
       "    <tr>\n",
       "      <th>75%</th>\n",
       "      <td>4.700000e+01</td>\n",
       "      <td>1.606000e+04</td>\n",
       "      <td>2.300000e+01</td>\n",
       "      <td>8.985000e+02</td>\n",
       "      <td>2.000000e+00</td>\n",
       "      <td>5.500000e+01</td>\n",
       "    </tr>\n",
       "    <tr>\n",
       "      <th>max</th>\n",
       "      <td>5.900000e+01</td>\n",
       "      <td>2.216900e+04</td>\n",
       "      <td>3.300000e+01</td>\n",
       "      <td>3.079800e+05</td>\n",
       "      <td>2.253000e+03</td>\n",
       "      <td>8.300000e+01</td>\n",
       "    </tr>\n",
       "  </tbody>\n",
       "</table>\n",
       "</div>"
      ],
      "text/plain": [
       "            shop_id       item_id  date_block_num    item_price         count  \\\n",
       "count  1.609124e+06  1.609124e+06    1.609124e+06  1.609124e+06  1.609124e+06   \n",
       "mean   3.280585e+01  1.068099e+04    1.466479e+01  7.908847e+02  2.267200e+00   \n",
       "std    1.653701e+01  6.238883e+03    9.542322e+00  1.551605e+03  8.649882e+00   \n",
       "min    0.000000e+00  0.000000e+00    0.000000e+00  9.000000e-02 -2.200000e+01   \n",
       "25%    2.100000e+01  5.045000e+03    6.000000e+00  1.990000e+02  1.000000e+00   \n",
       "50%    3.100000e+01  1.049700e+04    1.400000e+01  3.990000e+02  1.000000e+00   \n",
       "75%    4.700000e+01  1.606000e+04    2.300000e+01  8.985000e+02  2.000000e+00   \n",
       "max    5.900000e+01  2.216900e+04    3.300000e+01  3.079800e+05  2.253000e+03   \n",
       "\n",
       "       item_category_id  \n",
       "count      1.609124e+06  \n",
       "mean       4.154192e+01  \n",
       "std        1.632365e+01  \n",
       "min        0.000000e+00  \n",
       "25%        3.000000e+01  \n",
       "50%        4.000000e+01  \n",
       "75%        5.500000e+01  \n",
       "max        8.300000e+01  "
      ]
     },
     "execution_count": 11,
     "metadata": {},
     "output_type": "execute_result"
    }
   ],
   "source": [
    "monthly_sales_df.describe()"
   ]
  },
  {
   "cell_type": "markdown",
   "metadata": {
    "heading_collapsed": true
   },
   "source": [
    "### Prove the sales of any shop are different and unique"
   ]
  },
  {
   "cell_type": "code",
   "execution_count": 13,
   "metadata": {
    "ExecuteTime": {
     "end_time": "2020-09-26T04:17:59.200452Z",
     "start_time": "2020-09-26T04:17:57.884100Z"
    },
    "hidden": true
   },
   "outputs": [
    {
     "data": {
      "text/plain": [
       "Text(0, 0.5, 'item_count')"
      ]
     },
     "execution_count": 13,
     "metadata": {},
     "output_type": "execute_result"
    },
    {
     "data": {
      "image/png": "[encoded data removed]",
      "text/plain": [
       "<Figure size 864x576 with 1 Axes>"
      ]
     },
     "metadata": {
      "needs_background": "light"
     },
     "output_type": "display_data"
    }
   ],
   "source": [
    "shop_ids = monthly_sales_df['shop_id']\n",
    "selected_shop_ids = shop_ids.drop_duplicates().sample(8, random_state=99)\n",
    "\n",
    "ax = monthly_sales_df[shop_ids.isin(selected_shop_ids)].groupby(['date_block_num', 'shop_id']).agg(\n",
    "    {'count': 'sum'}).unstack().plot.bar(y='count', stacked=True, figsize=(12, 8))\n",
    "ax.set_ylabel('item_count')"
   ]
  },
  {
   "cell_type": "markdown",
   "metadata": {
    "heading_collapsed": true
   },
   "source": [
    "### Prove the sales of any item categories are different"
   ]
  },
  {
   "cell_type": "code",
   "execution_count": 14,
   "metadata": {
    "ExecuteTime": {
     "end_time": "2020-09-16T16:03:17.450259Z",
     "start_time": "2020-09-16T16:03:16.964829Z"
    },
    "hidden": true
   },
   "outputs": [
    {
     "data": {
      "text/plain": [
       "<matplotlib.axes._subplots.AxesSubplot at 0x24c30e00e80>"
      ]
     },
     "execution_count": 14,
     "metadata": {},
     "output_type": "execute_result"
    },
    {
     "data": {
      "image/png": "[encoded data removed]",
      "text/plain": [
       "<Figure size 864x576 with 1 Axes>"
      ]
     },
     "metadata": {
      "needs_background": "light"
     },
     "output_type": "display_data"
    }
   ],
   "source": [
    "categories = monthly_sales_df['item_category_id']\n",
    "selected_categories = categories.drop_duplicates().sample(8, random_state=1)\n",
    "monthly_sales_df[categories.isin(selected_categories)].groupby(['date_block_num', 'item_category_id']).agg(\n",
    "    {'count': 'sum'}).unstack().plot.bar(y='count', stacked=True, figsize=(12, 8))"
   ]
  },
  {
   "cell_type": "markdown",
   "metadata": {
    "heading_collapsed": true
   },
   "source": [
    "### Distribution"
   ]
  },
  {
   "cell_type": "code",
   "execution_count": 15,
   "metadata": {
    "ExecuteTime": {
     "end_time": "2020-09-16T16:03:17.466258Z",
     "start_time": "2020-09-16T16:03:17.451259Z"
    },
    "hidden": true
   },
   "outputs": [],
   "source": [
    "def IQR(data, lower, upper):\n",
    "    return data[(data > data.quantile(lower)) & (data < data.quantile(upper))]\n"
   ]
  },
  {
   "cell_type": "code",
   "execution_count": 16,
   "metadata": {
    "ExecuteTime": {
     "end_time": "2020-09-16T16:03:17.750272Z",
     "start_time": "2020-09-16T16:03:17.468259Z"
    },
    "hidden": true
   },
   "outputs": [
    {
     "data": {
      "text/plain": [
       "<matplotlib.axes._subplots.AxesSubplot at 0x24c30b2d550>"
      ]
     },
     "execution_count": 16,
     "metadata": {},
     "output_type": "execute_result"
    },
    {
     "data": {
      "image/png": "[encoded data removed]",
      "text/plain": [
       "<Figure size 1152x576 with 1 Axes>"
      ]
     },
     "metadata": {
      "needs_background": "light"
     },
     "output_type": "display_data"
    }
   ],
   "source": [
    "alpha = 0.0027\n",
    "IQR(monthly_sales_df['count'], alpha, 1-alpha).hist(bins=100, figsize=(16, 8))"
   ]
  },
  {
   "cell_type": "code",
   "execution_count": 61,
   "metadata": {
    "ExecuteTime": {
     "end_time": "2020-09-12T06:19:30.692325Z",
     "start_time": "2020-09-12T06:19:30.180500Z"
    },
    "hidden": true
   },
   "outputs": [
    {
     "data": {
      "text/plain": [
       "<AxesSubplot:>"
      ]
     },
     "execution_count": 61,
     "metadata": {},
     "output_type": "execute_result"
    },
    {
     "data": {
      "image/png": "[encoded data removed]",
      "text/plain": [
       "<Figure size 1152x576 with 1 Axes>"
      ]
     },
     "metadata": {
      "needs_background": "light"
     },
     "output_type": "display_data"
    }
   ],
   "source": [
    "alpha = 0.008\n",
    "IQR(monthly_sales_df['item_price'], alpha, 1-alpha).hist( bins=100, figsize=(16, 8))"
   ]
  },
  {
   "cell_type": "code",
   "execution_count": 62,
   "metadata": {
    "ExecuteTime": {
     "end_time": "2020-09-12T06:19:33.034882Z",
     "start_time": "2020-09-12T06:19:32.817388Z"
    },
    "hidden": true
   },
   "outputs": [
    {
     "data": {
      "text/html": [
       "<div>\n",
       "<style scoped>\n",
       "    .dataframe tbody tr th:only-of-type {\n",
       "        vertical-align: middle;\n",
       "    }\n",
       "\n",
       "    .dataframe tbody tr th {\n",
       "        vertical-align: top;\n",
       "    }\n",
       "\n",
       "    .dataframe thead th {\n",
       "        text-align: right;\n",
       "    }\n",
       "</style>\n",
       "<table border=\"1\" class=\"dataframe\">\n",
       "  <thead>\n",
       "    <tr style=\"text-align: right;\">\n",
       "      <th></th>\n",
       "      <th></th>\n",
       "      <th></th>\n",
       "      <th>item_price</th>\n",
       "      <th>count</th>\n",
       "      <th>item_category_id</th>\n",
       "    </tr>\n",
       "    <tr>\n",
       "      <th>shop_id</th>\n",
       "      <th>item_id</th>\n",
       "      <th>date_block_num</th>\n",
       "      <th></th>\n",
       "      <th></th>\n",
       "      <th></th>\n",
       "    </tr>\n",
       "  </thead>\n",
       "  <tbody>\n",
       "    <tr>\n",
       "      <th>0</th>\n",
       "      <th>30</th>\n",
       "      <th>1</th>\n",
       "      <td>265.0</td>\n",
       "      <td>31.0</td>\n",
       "      <td>40</td>\n",
       "    </tr>\n",
       "    <tr>\n",
       "      <th>1</th>\n",
       "      <th>30</th>\n",
       "      <th>1</th>\n",
       "      <td>265.0</td>\n",
       "      <td>10.0</td>\n",
       "      <td>40</td>\n",
       "    </tr>\n",
       "    <tr>\n",
       "      <th rowspan=\"4\" valign=\"top\">2</th>\n",
       "      <th rowspan=\"4\" valign=\"top\">30</th>\n",
       "      <th>2</th>\n",
       "      <td>359.0</td>\n",
       "      <td>1.0</td>\n",
       "      <td>40</td>\n",
       "    </tr>\n",
       "    <tr>\n",
       "      <th>5</th>\n",
       "      <td>399.0</td>\n",
       "      <td>1.0</td>\n",
       "      <td>40</td>\n",
       "    </tr>\n",
       "    <tr>\n",
       "      <th>15</th>\n",
       "      <td>169.0</td>\n",
       "      <td>1.0</td>\n",
       "      <td>40</td>\n",
       "    </tr>\n",
       "    <tr>\n",
       "      <th>16</th>\n",
       "      <td>169.0</td>\n",
       "      <td>1.0</td>\n",
       "      <td>40</td>\n",
       "    </tr>\n",
       "    <tr>\n",
       "      <th rowspan=\"10\" valign=\"top\">3</th>\n",
       "      <th rowspan=\"10\" valign=\"top\">30</th>\n",
       "      <th>1</th>\n",
       "      <td>399.0</td>\n",
       "      <td>4.0</td>\n",
       "      <td>40</td>\n",
       "    </tr>\n",
       "    <tr>\n",
       "      <th>2</th>\n",
       "      <td>399.0</td>\n",
       "      <td>5.0</td>\n",
       "      <td>40</td>\n",
       "    </tr>\n",
       "    <tr>\n",
       "      <th>3</th>\n",
       "      <td>399.0</td>\n",
       "      <td>2.0</td>\n",
       "      <td>40</td>\n",
       "    </tr>\n",
       "    <tr>\n",
       "      <th>4</th>\n",
       "      <td>399.0</td>\n",
       "      <td>2.0</td>\n",
       "      <td>40</td>\n",
       "    </tr>\n",
       "    <tr>\n",
       "      <th>5</th>\n",
       "      <td>399.0</td>\n",
       "      <td>1.0</td>\n",
       "      <td>40</td>\n",
       "    </tr>\n",
       "    <tr>\n",
       "      <th>9</th>\n",
       "      <td>169.0</td>\n",
       "      <td>1.0</td>\n",
       "      <td>40</td>\n",
       "    </tr>\n",
       "    <tr>\n",
       "      <th>10</th>\n",
       "      <td>169.0</td>\n",
       "      <td>1.0</td>\n",
       "      <td>40</td>\n",
       "    </tr>\n",
       "    <tr>\n",
       "      <th>11</th>\n",
       "      <td>169.0</td>\n",
       "      <td>2.0</td>\n",
       "      <td>40</td>\n",
       "    </tr>\n",
       "    <tr>\n",
       "      <th>12</th>\n",
       "      <td>169.0</td>\n",
       "      <td>1.0</td>\n",
       "      <td>40</td>\n",
       "    </tr>\n",
       "    <tr>\n",
       "      <th>30</th>\n",
       "      <td>129.0</td>\n",
       "      <td>1.0</td>\n",
       "      <td>40</td>\n",
       "    </tr>\n",
       "    <tr>\n",
       "      <th rowspan=\"3\" valign=\"top\">4</th>\n",
       "      <th rowspan=\"3\" valign=\"top\">30</th>\n",
       "      <th>1</th>\n",
       "      <td>399.0</td>\n",
       "      <td>7.0</td>\n",
       "      <td>40</td>\n",
       "    </tr>\n",
       "    <tr>\n",
       "      <th>2</th>\n",
       "      <td>399.0</td>\n",
       "      <td>3.0</td>\n",
       "      <td>40</td>\n",
       "    </tr>\n",
       "    <tr>\n",
       "      <th>7</th>\n",
       "      <td>399.0</td>\n",
       "      <td>1.0</td>\n",
       "      <td>40</td>\n",
       "    </tr>\n",
       "    <tr>\n",
       "      <th>5</th>\n",
       "      <th>30</th>\n",
       "      <th>1</th>\n",
       "      <td>399.0</td>\n",
       "      <td>5.0</td>\n",
       "      <td>40</td>\n",
       "    </tr>\n",
       "  </tbody>\n",
       "</table>\n",
       "</div>"
      ],
      "text/plain": [
       "                                item_price  count  item_category_id\n",
       "shop_id item_id date_block_num                                     \n",
       "0       30      1                    265.0   31.0                40\n",
       "1       30      1                    265.0   10.0                40\n",
       "2       30      2                    359.0    1.0                40\n",
       "                5                    399.0    1.0                40\n",
       "                15                   169.0    1.0                40\n",
       "                16                   169.0    1.0                40\n",
       "3       30      1                    399.0    4.0                40\n",
       "                2                    399.0    5.0                40\n",
       "                3                    399.0    2.0                40\n",
       "                4                    399.0    2.0                40\n",
       "                5                    399.0    1.0                40\n",
       "                9                    169.0    1.0                40\n",
       "                10                   169.0    1.0                40\n",
       "                11                   169.0    2.0                40\n",
       "                12                   169.0    1.0                40\n",
       "                30                   129.0    1.0                40\n",
       "4       30      1                    399.0    7.0                40\n",
       "                2                    399.0    3.0                40\n",
       "                7                    399.0    1.0                40\n",
       "5       30      1                    399.0    5.0                40"
      ]
     },
     "execution_count": 62,
     "metadata": {},
     "output_type": "execute_result"
    }
   ],
   "source": [
    "monthly_sales_df.set_index(['shop_id', 'item_id', 'date_block_num']).head(20)"
   ]
  },
  {
   "cell_type": "code",
   "execution_count": 63,
   "metadata": {
    "ExecuteTime": {
     "end_time": "2020-09-12T06:19:35.433613Z",
     "start_time": "2020-09-12T06:19:35.304796Z"
    },
    "hidden": true
   },
   "outputs": [
    {
     "data": {
      "text/plain": [
       "shop_id                60\n",
       "item_id             21807\n",
       "date_block_num         34\n",
       "item_price          41464\n",
       "count                 446\n",
       "item_category_id       84\n",
       "dtype: int64"
      ]
     },
     "execution_count": 63,
     "metadata": {},
     "output_type": "execute_result"
    }
   ],
   "source": [
    "monthly_sales_df.nunique()"
   ]
  },
  {
   "cell_type": "code",
   "execution_count": 64,
   "metadata": {
    "ExecuteTime": {
     "end_time": "2020-09-12T06:19:35.887803Z",
     "start_time": "2020-09-12T06:19:35.859285Z"
    },
    "hidden": true
   },
   "outputs": [
    {
     "data": {
      "text/plain": [
       "ID         214200\n",
       "shop_id        42\n",
       "item_id      5100\n",
       "dtype: int64"
      ]
     },
     "execution_count": 64,
     "metadata": {},
     "output_type": "execute_result"
    }
   ],
   "source": [
    "test_df.nunique()"
   ]
  },
  {
   "cell_type": "code",
   "execution_count": 65,
   "metadata": {
    "ExecuteTime": {
     "end_time": "2020-09-12T06:19:36.545777Z",
     "start_time": "2020-09-12T06:19:36.414802Z"
    },
    "hidden": true
   },
   "outputs": [
    {
     "data": {
      "text/plain": [
       "122"
      ]
     },
     "execution_count": 65,
     "metadata": {},
     "output_type": "execute_result"
    }
   ],
   "source": [
    "gc.collect()"
   ]
  },
  {
   "cell_type": "markdown",
   "metadata": {},
   "source": [
    "### Clip count"
   ]
  },
  {
   "cell_type": "code",
   "execution_count": 12,
   "metadata": {
    "ExecuteTime": {
     "end_time": "2020-10-18T12:52:03.676971Z",
     "start_time": "2020-10-18T12:52:03.468706Z"
    }
   },
   "outputs": [
    {
     "data": {
      "text/plain": [
       "<matplotlib.axes._subplots.AxesSubplot at 0x26e264be970>"
      ]
     },
     "execution_count": 12,
     "metadata": {},
     "output_type": "execute_result"
    },
    {
     "data": {
      "image/png": "[encoded data removed]",
      "text/plain": [
       "<Figure size 432x288 with 1 Axes>"
      ]
     },
     "metadata": {
      "needs_background": "light"
     },
     "output_type": "display_data"
    }
   ],
   "source": [
    "monthly_sales_df['count'].plot.hist()"
   ]
  },
  {
   "cell_type": "code",
   "execution_count": 13,
   "metadata": {
    "ExecuteTime": {
     "end_time": "2020-10-18T12:52:04.450967Z",
     "start_time": "2020-10-18T12:52:04.229920Z"
    }
   },
   "outputs": [
    {
     "data": {
      "text/plain": [
       "<matplotlib.axes._subplots.AxesSubplot at 0x26e26553370>"
      ]
     },
     "execution_count": 13,
     "metadata": {},
     "output_type": "execute_result"
    },
    {
     "data": {
      "image/png": "[encoded data removed]",
      "text/plain": [
       "<Figure size 432x288 with 1 Axes>"
      ]
     },
     "metadata": {
      "needs_background": "light"
     },
     "output_type": "display_data"
    }
   ],
   "source": [
    "monthly_sales_df['count'].clip(0, 20, inplace=True)\n",
    "# monthly_sales_df['count'].clip(0, 100, inplace=True)\n",
    "monthly_sales_df['count'].plot.hist()"
   ]
  },
  {
   "cell_type": "markdown",
   "metadata": {},
   "source": [
    "### Create monthly_sales_df backup "
   ]
  },
  {
   "cell_type": "code",
   "execution_count": 14,
   "metadata": {
    "ExecuteTime": {
     "end_time": "2020-10-18T12:52:09.983498Z",
     "start_time": "2020-10-18T12:52:09.968504Z"
    }
   },
   "outputs": [],
   "source": [
    "_monthly_sales_df = monthly_sales_df.copy()"
   ]
  },
  {
   "cell_type": "code",
   "execution_count": 15,
   "metadata": {
    "ExecuteTime": {
     "end_time": "2020-10-18T12:52:10.331717Z",
     "start_time": "2020-10-18T12:52:10.317716Z"
    }
   },
   "outputs": [
    {
     "data": {
      "text/html": [
       "<div>\n",
       "<style scoped>\n",
       "    .dataframe tbody tr th:only-of-type {\n",
       "        vertical-align: middle;\n",
       "    }\n",
       "\n",
       "    .dataframe tbody tr th {\n",
       "        vertical-align: top;\n",
       "    }\n",
       "\n",
       "    .dataframe thead th {\n",
       "        text-align: right;\n",
       "    }\n",
       "</style>\n",
       "<table border=\"1\" class=\"dataframe\">\n",
       "  <thead>\n",
       "    <tr style=\"text-align: right;\">\n",
       "      <th></th>\n",
       "      <th>shop_id</th>\n",
       "      <th>item_id</th>\n",
       "      <th>date_block_num</th>\n",
       "      <th>item_price</th>\n",
       "      <th>count</th>\n",
       "      <th>item_category_id</th>\n",
       "    </tr>\n",
       "  </thead>\n",
       "  <tbody>\n",
       "    <tr>\n",
       "      <th>0</th>\n",
       "      <td>0</td>\n",
       "      <td>30</td>\n",
       "      <td>1</td>\n",
       "      <td>265.0</td>\n",
       "      <td>20.0</td>\n",
       "      <td>40</td>\n",
       "    </tr>\n",
       "    <tr>\n",
       "      <th>1</th>\n",
       "      <td>1</td>\n",
       "      <td>30</td>\n",
       "      <td>1</td>\n",
       "      <td>265.0</td>\n",
       "      <td>10.0</td>\n",
       "      <td>40</td>\n",
       "    </tr>\n",
       "    <tr>\n",
       "      <th>2</th>\n",
       "      <td>2</td>\n",
       "      <td>30</td>\n",
       "      <td>2</td>\n",
       "      <td>359.0</td>\n",
       "      <td>1.0</td>\n",
       "      <td>40</td>\n",
       "    </tr>\n",
       "    <tr>\n",
       "      <th>3</th>\n",
       "      <td>2</td>\n",
       "      <td>30</td>\n",
       "      <td>5</td>\n",
       "      <td>399.0</td>\n",
       "      <td>1.0</td>\n",
       "      <td>40</td>\n",
       "    </tr>\n",
       "    <tr>\n",
       "      <th>4</th>\n",
       "      <td>2</td>\n",
       "      <td>30</td>\n",
       "      <td>15</td>\n",
       "      <td>169.0</td>\n",
       "      <td>1.0</td>\n",
       "      <td>40</td>\n",
       "    </tr>\n",
       "    <tr>\n",
       "      <th>...</th>\n",
       "      <td>...</td>\n",
       "      <td>...</td>\n",
       "      <td>...</td>\n",
       "      <td>...</td>\n",
       "      <td>...</td>\n",
       "      <td>...</td>\n",
       "    </tr>\n",
       "    <tr>\n",
       "      <th>1609119</th>\n",
       "      <td>59</td>\n",
       "      <td>9760</td>\n",
       "      <td>12</td>\n",
       "      <td>179.0</td>\n",
       "      <td>1.0</td>\n",
       "      <td>37</td>\n",
       "    </tr>\n",
       "    <tr>\n",
       "      <th>1609120</th>\n",
       "      <td>59</td>\n",
       "      <td>12846</td>\n",
       "      <td>10</td>\n",
       "      <td>149.0</td>\n",
       "      <td>1.0</td>\n",
       "      <td>37</td>\n",
       "    </tr>\n",
       "    <tr>\n",
       "      <th>1609121</th>\n",
       "      <td>59</td>\n",
       "      <td>16270</td>\n",
       "      <td>6</td>\n",
       "      <td>1000.0</td>\n",
       "      <td>1.0</td>\n",
       "      <td>75</td>\n",
       "    </tr>\n",
       "    <tr>\n",
       "      <th>1609122</th>\n",
       "      <td>59</td>\n",
       "      <td>17732</td>\n",
       "      <td>9</td>\n",
       "      <td>198.0</td>\n",
       "      <td>1.0</td>\n",
       "      <td>28</td>\n",
       "    </tr>\n",
       "    <tr>\n",
       "      <th>1609123</th>\n",
       "      <td>59</td>\n",
       "      <td>18018</td>\n",
       "      <td>0</td>\n",
       "      <td>28.0</td>\n",
       "      <td>1.0</td>\n",
       "      <td>57</td>\n",
       "    </tr>\n",
       "  </tbody>\n",
       "</table>\n",
       "<p>1609124 rows × 6 columns</p>\n",
       "</div>"
      ],
      "text/plain": [
       "         shop_id  item_id  date_block_num  item_price  count  item_category_id\n",
       "0              0       30               1       265.0   20.0                40\n",
       "1              1       30               1       265.0   10.0                40\n",
       "2              2       30               2       359.0    1.0                40\n",
       "3              2       30               5       399.0    1.0                40\n",
       "4              2       30              15       169.0    1.0                40\n",
       "...          ...      ...             ...         ...    ...               ...\n",
       "1609119       59     9760              12       179.0    1.0                37\n",
       "1609120       59    12846              10       149.0    1.0                37\n",
       "1609121       59    16270               6      1000.0    1.0                75\n",
       "1609122       59    17732               9       198.0    1.0                28\n",
       "1609123       59    18018               0        28.0    1.0                57\n",
       "\n",
       "[1609124 rows x 6 columns]"
      ]
     },
     "execution_count": 15,
     "metadata": {},
     "output_type": "execute_result"
    }
   ],
   "source": [
    "_monthly_sales_df"
   ]
  },
  {
   "cell_type": "markdown",
   "metadata": {},
   "source": [
    "## Feature Engineering"
   ]
  },
  {
   "cell_type": "markdown",
   "metadata": {},
   "source": [
    "### Generate Grid features\n"
   ]
  },
  {
   "cell_type": "code",
   "execution_count": 16,
   "metadata": {
    "ExecuteTime": {
     "end_time": "2020-10-18T13:01:22.498022Z",
     "start_time": "2020-10-18T13:01:22.483012Z"
    }
   },
   "outputs": [],
   "source": [
    "from itertools import product"
   ]
  },
  {
   "cell_type": "code",
   "execution_count": 43,
   "metadata": {
    "ExecuteTime": {
     "end_time": "2020-10-18T13:21:00.542898Z",
     "start_time": "2020-10-18T13:20:54.692088Z"
    }
   },
   "outputs": [
    {
     "data": {
      "text/plain": [
       "144"
      ]
     },
     "execution_count": 43,
     "metadata": {},
     "output_type": "execute_result"
    }
   ],
   "source": [
    "monthly_sales_df = _monthly_sales_df.copy()\n",
    "grid = []\n",
    "\n",
    "unique_shops = test_df['shop_id'].unique()\n",
    "unique_items = test_df['item_id'].unique()\n",
    "\n",
    "# unique_shops = pd.concat((test_df['shop_id'], monthly_sales_df['shop_id'])).unique()\n",
    "# unique_items = pd.concat((test_df['item_id'], monthly_sales_df['item_id'])).unique()\n",
    "\n",
    "unique_block_nums = monthly_sales_df['date_block_num'].unique()\n",
    "\n",
    "grid.append(np.array(list(product(*[unique_shops, unique_items, unique_block_nums])),dtype='int32'))\n",
    "# Turn the grid into a dataframe\n",
    "grid = pd.DataFrame(np.vstack(grid), columns=['shop_id', 'item_id', 'date_block_num'],dtype=np.int32)\n",
    "data = grid.merge(monthly_sales_df, how='left', on=['shop_id', 'item_id', 'date_block_num'])\n",
    "# data.fillna(fillna_series, inplace=True)\n",
    "del grid, monthly_sales_df\n",
    "gc.collect()"
   ]
  },
  {
   "cell_type": "code",
   "execution_count": 26,
   "metadata": {
    "ExecuteTime": {
     "end_time": "2020-10-18T13:07:04.675577Z",
     "start_time": "2020-10-18T13:06:55.611171Z"
    }
   },
   "outputs": [
    {
     "data": {
      "text/plain": [
       "0"
      ]
     },
     "execution_count": 26,
     "metadata": {},
     "output_type": "execute_result"
    }
   ],
   "source": [
    "monthly_sales_df = _monthly_sales_df.copy()\n",
    "grid = []\n",
    "for block_num in monthly_sales_df['date_block_num'].unique():\n",
    "    cur_shops = monthly_sales_df[monthly_sales_df['date_block_num']==block_num]['shop_id'].unique()\n",
    "    cur_items = monthly_sales_df[monthly_sales_df['date_block_num']==block_num]['item_id'].unique()\n",
    "    grid.append(np.array(list(product(*[cur_shops, cur_items, [block_num]])),dtype='int32'))\n",
    "grid = pd.DataFrame(np.vstack(grid), columns=['shop_id', 'item_id', 'date_block_num'], dtype=np.int32)\n",
    "data = grid.merge(monthly_sales_df, how='left', on=['shop_id', 'item_id', 'date_block_num'])\n",
    "del grid, monthly_sales_df\n",
    "gc.collect()"
   ]
  },
  {
   "cell_type": "code",
   "execution_count": 44,
   "metadata": {
    "ExecuteTime": {
     "end_time": "2020-10-18T13:22:39.741246Z",
     "start_time": "2020-10-18T13:21:00.607944Z"
    }
   },
   "outputs": [
    {
     "name": "stderr",
     "output_type": "stream",
     "text": [
      "100%|████████████████████████████████████████████████████████████████████████| 214200/214200 [01:37<00:00, 2196.34it/s]\n"
     ]
    }
   ],
   "source": [
    "# Fill item price\n",
    "def fill_nan_by_date_block( df):\n",
    "#     df['item_price'] = df['item_price'].ffill().bfill().fillna(0)\n",
    "    df['item_price'] = df['item_price'].mean()\n",
    "    df['item_price'].fillna(0, inplace=True)\n",
    "    return df\n",
    "data = data.sort_values('date_block_num')\n",
    "data = data.groupby(['shop_id', 'item_id'], as_index=False).progress_apply(lambda group: fill_nan_by_date_block(group))\n",
    "\n",
    "data.fillna({'count': 0, 'item_category_id': data['item_category_id'].max()+1}, inplace=True)\n"
   ]
  },
  {
   "cell_type": "code",
   "execution_count": 45,
   "metadata": {
    "ExecuteTime": {
     "end_time": "2020-10-18T13:22:41.319085Z",
     "start_time": "2020-10-18T13:22:41.201087Z"
    }
   },
   "outputs": [],
   "source": [
    "data = downcast_dataframe(data)"
   ]
  },
  {
   "cell_type": "markdown",
   "metadata": {},
   "source": [
    "### Item name clustering"
   ]
  },
  {
   "cell_type": "code",
   "execution_count": 46,
   "metadata": {
    "ExecuteTime": {
     "end_time": "2020-10-18T13:22:45.159528Z",
     "start_time": "2020-10-18T13:22:45.144539Z"
    }
   },
   "outputs": [],
   "source": [
    "from sklearn.feature_extraction.text import CountVectorizer\n",
    "from sklearn.cluster import AgglomerativeClustering, DBSCAN\n",
    "\n",
    "from scipy.cluster.hierarchy import dendrogram"
   ]
  },
  {
   "cell_type": "code",
   "execution_count": 47,
   "metadata": {
    "ExecuteTime": {
     "end_time": "2020-10-18T13:22:45.414499Z",
     "start_time": "2020-10-18T13:22:45.408503Z"
    }
   },
   "outputs": [],
   "source": [
    "pre_assign_tag = True\n",
    "if not pre_assign_tag:\n",
    "    vectorizer = CountVectorizer()\n",
    "    bow = vectorizer.fit_transform(item_df['item_name'])\n",
    "    bow[bow.sum(axis=1)==0] = 99\n",
    "    X = bow.toarray()\n",
    "\n",
    "    clustering = DBSCAN(eps=2, metric='l1', min_samples=2, n_jobs=8)\n",
    "    clustering.fit(X)\n",
    "\n",
    "    item_df['tag'] = clustering.labels_\n",
    "    clustered_df = item_df.groupby('tag').agg(children=('item_name', lambda names: '\\n'.join(names)), count=('item_name', 'count'))\n",
    "    clustered_df.sort_values('count', ascending=False).head(20)"
   ]
  },
  {
   "cell_type": "code",
   "execution_count": 48,
   "metadata": {
    "ExecuteTime": {
     "end_time": "2020-10-18T13:22:46.463782Z",
     "start_time": "2020-10-18T13:22:45.647551Z"
    }
   },
   "outputs": [],
   "source": [
    "data = data.merge(item_df[['item_id', 'tag']], how='left', on='item_id')"
   ]
  },
  {
   "cell_type": "code",
   "execution_count": 49,
   "metadata": {
    "ExecuteTime": {
     "end_time": "2020-10-18T13:22:46.543203Z",
     "start_time": "2020-10-18T13:22:46.528282Z"
    }
   },
   "outputs": [
    {
     "data": {
      "text/html": [
       "<div>\n",
       "<style scoped>\n",
       "    .dataframe tbody tr th:only-of-type {\n",
       "        vertical-align: middle;\n",
       "    }\n",
       "\n",
       "    .dataframe tbody tr th {\n",
       "        vertical-align: top;\n",
       "    }\n",
       "\n",
       "    .dataframe thead th {\n",
       "        text-align: right;\n",
       "    }\n",
       "</style>\n",
       "<table border=\"1\" class=\"dataframe\">\n",
       "  <thead>\n",
       "    <tr style=\"text-align: right;\">\n",
       "      <th></th>\n",
       "      <th>shop_id</th>\n",
       "      <th>item_id</th>\n",
       "      <th>date_block_num</th>\n",
       "      <th>item_price</th>\n",
       "      <th>count</th>\n",
       "      <th>item_category_id</th>\n",
       "      <th>tag</th>\n",
       "    </tr>\n",
       "  </thead>\n",
       "  <tbody>\n",
       "    <tr>\n",
       "      <th>0</th>\n",
       "      <td>42</td>\n",
       "      <td>969</td>\n",
       "      <td>0</td>\n",
       "      <td>491.50</td>\n",
       "      <td>0.0</td>\n",
       "      <td>84.0</td>\n",
       "      <td>105</td>\n",
       "    </tr>\n",
       "    <tr>\n",
       "      <th>1</th>\n",
       "      <td>21</td>\n",
       "      <td>9894</td>\n",
       "      <td>0</td>\n",
       "      <td>349.00</td>\n",
       "      <td>0.0</td>\n",
       "      <td>84.0</td>\n",
       "      <td>-1</td>\n",
       "    </tr>\n",
       "    <tr>\n",
       "      <th>2</th>\n",
       "      <td>21</td>\n",
       "      <td>8391</td>\n",
       "      <td>0</td>\n",
       "      <td>432.25</td>\n",
       "      <td>0.0</td>\n",
       "      <td>84.0</td>\n",
       "      <td>989</td>\n",
       "    </tr>\n",
       "    <tr>\n",
       "      <th>3</th>\n",
       "      <td>21</td>\n",
       "      <td>9425</td>\n",
       "      <td>0</td>\n",
       "      <td>349.00</td>\n",
       "      <td>0.0</td>\n",
       "      <td>84.0</td>\n",
       "      <td>-1</td>\n",
       "    </tr>\n",
       "    <tr>\n",
       "      <th>4</th>\n",
       "      <td>21</td>\n",
       "      <td>3344</td>\n",
       "      <td>0</td>\n",
       "      <td>2124.00</td>\n",
       "      <td>0.0</td>\n",
       "      <td>84.0</td>\n",
       "      <td>402</td>\n",
       "    </tr>\n",
       "  </tbody>\n",
       "</table>\n",
       "</div>"
      ],
      "text/plain": [
       "   shop_id  item_id  date_block_num  item_price  count  item_category_id  tag\n",
       "0       42      969               0      491.50    0.0              84.0  105\n",
       "1       21     9894               0      349.00    0.0              84.0   -1\n",
       "2       21     8391               0      432.25    0.0              84.0  989\n",
       "3       21     9425               0      349.00    0.0              84.0   -1\n",
       "4       21     3344               0     2124.00    0.0              84.0  402"
      ]
     },
     "execution_count": 49,
     "metadata": {},
     "output_type": "execute_result"
    }
   ],
   "source": [
    "\n",
    "data.head()"
   ]
  },
  {
   "cell_type": "markdown",
   "metadata": {},
   "source": [
    "### Deal with out-of-test item id"
   ]
  },
  {
   "cell_type": "code",
   "execution_count": 50,
   "metadata": {
    "ExecuteTime": {
     "end_time": "2020-10-18T13:22:48.504573Z",
     "start_time": "2020-10-18T13:22:47.552485Z"
    }
   },
   "outputs": [],
   "source": [
    "test_item_ids = test_df['item_id']\n",
    "out_of_test_item_ids = test_item_ids[~test_item_ids.isin(_monthly_sales_df['item_id'])].drop_duplicates()\n",
    "out_of_test_df = data[data['item_id'].isin(out_of_test_item_ids)]\n",
    "in_the_test_item_ids = test_item_ids[test_item_ids.isin(_monthly_sales_df['item_id'])].drop_duplicates()"
   ]
  },
  {
   "cell_type": "code",
   "execution_count": 51,
   "metadata": {
    "ExecuteTime": {
     "end_time": "2020-10-18T13:22:49.477424Z",
     "start_time": "2020-10-18T13:22:48.567521Z"
    }
   },
   "outputs": [],
   "source": [
    "\n",
    "# data.loc[data['item_id'].isin(out_of_test_item_ids), 'count'] = data.loc[data['item_id'].isin(in_the_test_item_ids), 'count'].mean()\n",
    "\n",
    "data.loc[data['item_id'].isin(out_of_test_item_ids), 'count'] = 0\n"
   ]
  },
  {
   "cell_type": "code",
   "execution_count": 52,
   "metadata": {
    "ExecuteTime": {
     "end_time": "2020-10-18T13:22:50.475446Z",
     "start_time": "2020-10-18T13:22:49.542436Z"
    }
   },
   "outputs": [
    {
     "data": {
      "text/html": [
       "<div>\n",
       "<style scoped>\n",
       "    .dataframe tbody tr th:only-of-type {\n",
       "        vertical-align: middle;\n",
       "    }\n",
       "\n",
       "    .dataframe tbody tr th {\n",
       "        vertical-align: top;\n",
       "    }\n",
       "\n",
       "    .dataframe thead th {\n",
       "        text-align: right;\n",
       "    }\n",
       "</style>\n",
       "<table border=\"1\" class=\"dataframe\">\n",
       "  <thead>\n",
       "    <tr style=\"text-align: right;\">\n",
       "      <th></th>\n",
       "      <th>shop_id</th>\n",
       "      <th>item_id</th>\n",
       "      <th>date_block_num</th>\n",
       "      <th>item_price</th>\n",
       "      <th>count</th>\n",
       "      <th>item_category_id</th>\n",
       "      <th>tag</th>\n",
       "    </tr>\n",
       "  </thead>\n",
       "  <tbody>\n",
       "    <tr>\n",
       "      <th>21</th>\n",
       "      <td>21</td>\n",
       "      <td>15418</td>\n",
       "      <td>0</td>\n",
       "      <td>0.0</td>\n",
       "      <td>0.0</td>\n",
       "      <td>84.0</td>\n",
       "      <td>1642</td>\n",
       "    </tr>\n",
       "    <tr>\n",
       "      <th>36</th>\n",
       "      <td>21</td>\n",
       "      <td>20196</td>\n",
       "      <td>0</td>\n",
       "      <td>0.0</td>\n",
       "      <td>0.0</td>\n",
       "      <td>84.0</td>\n",
       "      <td>-1</td>\n",
       "    </tr>\n",
       "    <tr>\n",
       "      <th>41</th>\n",
       "      <td>21</td>\n",
       "      <td>19651</td>\n",
       "      <td>0</td>\n",
       "      <td>0.0</td>\n",
       "      <td>0.0</td>\n",
       "      <td>84.0</td>\n",
       "      <td>6</td>\n",
       "    </tr>\n",
       "    <tr>\n",
       "      <th>68</th>\n",
       "      <td>21</td>\n",
       "      <td>1679</td>\n",
       "      <td>0</td>\n",
       "      <td>0.0</td>\n",
       "      <td>0.0</td>\n",
       "      <td>84.0</td>\n",
       "      <td>-1</td>\n",
       "    </tr>\n",
       "    <tr>\n",
       "      <th>92</th>\n",
       "      <td>21</td>\n",
       "      <td>13446</td>\n",
       "      <td>0</td>\n",
       "      <td>0.0</td>\n",
       "      <td>0.0</td>\n",
       "      <td>84.0</td>\n",
       "      <td>-1</td>\n",
       "    </tr>\n",
       "  </tbody>\n",
       "</table>\n",
       "</div>"
      ],
      "text/plain": [
       "    shop_id  item_id  date_block_num  item_price  count  item_category_id  \\\n",
       "21       21    15418               0         0.0    0.0              84.0   \n",
       "36       21    20196               0         0.0    0.0              84.0   \n",
       "41       21    19651               0         0.0    0.0              84.0   \n",
       "68       21     1679               0         0.0    0.0              84.0   \n",
       "92       21    13446               0         0.0    0.0              84.0   \n",
       "\n",
       "     tag  \n",
       "21  1642  \n",
       "36    -1  \n",
       "41     6  \n",
       "68    -1  \n",
       "92    -1  "
      ]
     },
     "execution_count": 52,
     "metadata": {},
     "output_type": "execute_result"
    }
   ],
   "source": [
    "data.loc[data['item_id'].isin(out_of_test_item_ids),].head()"
   ]
  },
  {
   "cell_type": "markdown",
   "metadata": {},
   "source": [
    "### Backup data"
   ]
  },
  {
   "cell_type": "code",
   "execution_count": 53,
   "metadata": {
    "ExecuteTime": {
     "end_time": "2020-10-18T13:22:51.630796Z",
     "start_time": "2020-10-18T13:22:51.591807Z"
    },
    "scrolled": true
   },
   "outputs": [
    {
     "data": {
      "text/html": [
       "<div>\n",
       "<style scoped>\n",
       "    .dataframe tbody tr th:only-of-type {\n",
       "        vertical-align: middle;\n",
       "    }\n",
       "\n",
       "    .dataframe tbody tr th {\n",
       "        vertical-align: top;\n",
       "    }\n",
       "\n",
       "    .dataframe thead th {\n",
       "        text-align: right;\n",
       "    }\n",
       "</style>\n",
       "<table border=\"1\" class=\"dataframe\">\n",
       "  <thead>\n",
       "    <tr style=\"text-align: right;\">\n",
       "      <th></th>\n",
       "      <th>shop_id</th>\n",
       "      <th>item_id</th>\n",
       "      <th>date_block_num</th>\n",
       "      <th>item_price</th>\n",
       "      <th>count</th>\n",
       "      <th>item_category_id</th>\n",
       "      <th>tag</th>\n",
       "    </tr>\n",
       "  </thead>\n",
       "  <tbody>\n",
       "    <tr>\n",
       "      <th>0</th>\n",
       "      <td>42</td>\n",
       "      <td>969</td>\n",
       "      <td>0</td>\n",
       "      <td>491.50</td>\n",
       "      <td>0.0</td>\n",
       "      <td>84.0</td>\n",
       "      <td>105</td>\n",
       "    </tr>\n",
       "    <tr>\n",
       "      <th>1</th>\n",
       "      <td>21</td>\n",
       "      <td>9894</td>\n",
       "      <td>0</td>\n",
       "      <td>349.00</td>\n",
       "      <td>0.0</td>\n",
       "      <td>84.0</td>\n",
       "      <td>-1</td>\n",
       "    </tr>\n",
       "    <tr>\n",
       "      <th>2</th>\n",
       "      <td>21</td>\n",
       "      <td>8391</td>\n",
       "      <td>0</td>\n",
       "      <td>432.25</td>\n",
       "      <td>0.0</td>\n",
       "      <td>84.0</td>\n",
       "      <td>989</td>\n",
       "    </tr>\n",
       "    <tr>\n",
       "      <th>3</th>\n",
       "      <td>21</td>\n",
       "      <td>9425</td>\n",
       "      <td>0</td>\n",
       "      <td>349.00</td>\n",
       "      <td>0.0</td>\n",
       "      <td>84.0</td>\n",
       "      <td>-1</td>\n",
       "    </tr>\n",
       "    <tr>\n",
       "      <th>4</th>\n",
       "      <td>21</td>\n",
       "      <td>3344</td>\n",
       "      <td>0</td>\n",
       "      <td>2124.00</td>\n",
       "      <td>0.0</td>\n",
       "      <td>84.0</td>\n",
       "      <td>402</td>\n",
       "    </tr>\n",
       "  </tbody>\n",
       "</table>\n",
       "</div>"
      ],
      "text/plain": [
       "   shop_id  item_id  date_block_num  item_price  count  item_category_id  tag\n",
       "0       42      969               0      491.50    0.0              84.0  105\n",
       "1       21     9894               0      349.00    0.0              84.0   -1\n",
       "2       21     8391               0      432.25    0.0              84.0  989\n",
       "3       21     9425               0      349.00    0.0              84.0   -1\n",
       "4       21     3344               0     2124.00    0.0              84.0  402"
      ]
     },
     "execution_count": 53,
     "metadata": {},
     "output_type": "execute_result"
    }
   ],
   "source": [
    "_data = data.copy()\n",
    "_data.head()"
   ]
  },
  {
   "cell_type": "markdown",
   "metadata": {},
   "source": [
    "### Create date block feature"
   ]
  },
  {
   "cell_type": "code",
   "execution_count": 54,
   "metadata": {
    "ExecuteTime": {
     "end_time": "2020-10-18T13:22:54.419994Z",
     "start_time": "2020-10-18T13:22:54.415995Z"
    }
   },
   "outputs": [],
   "source": [
    "def generate_feature(df, by, base_col, output_col, agg_func):\n",
    "    agg_df = df.groupby(by, as_index=False).agg({base_col: agg_func})\n",
    "    agg_df.rename(columns={base_col: output_col}, inplace=True)\n",
    "    return df.merge(agg_df, how='left', on=by)"
   ]
  },
  {
   "cell_type": "code",
   "execution_count": 55,
   "metadata": {
    "ExecuteTime": {
     "end_time": "2020-10-18T13:23:11.222374Z",
     "start_time": "2020-10-18T13:22:55.185014Z"
    }
   },
   "outputs": [
    {
     "data": {
      "text/html": [
       "<div>\n",
       "<style scoped>\n",
       "    .dataframe tbody tr th:only-of-type {\n",
       "        vertical-align: middle;\n",
       "    }\n",
       "\n",
       "    .dataframe tbody tr th {\n",
       "        vertical-align: top;\n",
       "    }\n",
       "\n",
       "    .dataframe thead th {\n",
       "        text-align: right;\n",
       "    }\n",
       "</style>\n",
       "<table border=\"1\" class=\"dataframe\">\n",
       "  <thead>\n",
       "    <tr style=\"text-align: right;\">\n",
       "      <th></th>\n",
       "      <th>shop_id</th>\n",
       "      <th>item_id</th>\n",
       "      <th>date_block_num</th>\n",
       "      <th>item_price</th>\n",
       "      <th>count</th>\n",
       "      <th>item_category_id</th>\n",
       "      <th>tag</th>\n",
       "      <th>count_by_item</th>\n",
       "      <th>count_by_item_cat</th>\n",
       "      <th>count_by_tag</th>\n",
       "      <th>count_avg_by_shop</th>\n",
       "      <th>count_avg_by_item</th>\n",
       "      <th>count_avg_by_item_cat</th>\n",
       "      <th>count_avg_by_tag</th>\n",
       "      <th>avg_shop_price</th>\n",
       "      <th>avg_item_price</th>\n",
       "      <th>avg_item_cat_price</th>\n",
       "    </tr>\n",
       "  </thead>\n",
       "  <tbody>\n",
       "    <tr>\n",
       "      <th>0</th>\n",
       "      <td>42</td>\n",
       "      <td>969</td>\n",
       "      <td>0</td>\n",
       "      <td>491.50</td>\n",
       "      <td>0.0</td>\n",
       "      <td>84.0</td>\n",
       "      <td>105</td>\n",
       "      <td>0.0</td>\n",
       "      <td>0.0</td>\n",
       "      <td>0.0</td>\n",
       "      <td>0.169434</td>\n",
       "      <td>0.000000</td>\n",
       "      <td>0.0</td>\n",
       "      <td>0.000000</td>\n",
       "      <td>723.00</td>\n",
       "      <td>420.000000</td>\n",
       "      <td>512.50</td>\n",
       "    </tr>\n",
       "    <tr>\n",
       "      <th>1</th>\n",
       "      <td>21</td>\n",
       "      <td>9894</td>\n",
       "      <td>0</td>\n",
       "      <td>349.00</td>\n",
       "      <td>0.0</td>\n",
       "      <td>84.0</td>\n",
       "      <td>-1</td>\n",
       "      <td>0.0</td>\n",
       "      <td>0.0</td>\n",
       "      <td>9048.0</td>\n",
       "      <td>0.065674</td>\n",
       "      <td>0.000000</td>\n",
       "      <td>0.0</td>\n",
       "      <td>0.090942</td>\n",
       "      <td>634.50</td>\n",
       "      <td>266.000000</td>\n",
       "      <td>512.50</td>\n",
       "    </tr>\n",
       "    <tr>\n",
       "      <th>2</th>\n",
       "      <td>21</td>\n",
       "      <td>8391</td>\n",
       "      <td>0</td>\n",
       "      <td>432.25</td>\n",
       "      <td>0.0</td>\n",
       "      <td>84.0</td>\n",
       "      <td>989</td>\n",
       "      <td>0.0</td>\n",
       "      <td>0.0</td>\n",
       "      <td>0.0</td>\n",
       "      <td>0.065674</td>\n",
       "      <td>0.000000</td>\n",
       "      <td>0.0</td>\n",
       "      <td>0.000000</td>\n",
       "      <td>634.50</td>\n",
       "      <td>338.500000</td>\n",
       "      <td>512.50</td>\n",
       "    </tr>\n",
       "    <tr>\n",
       "      <th>3</th>\n",
       "      <td>21</td>\n",
       "      <td>9425</td>\n",
       "      <td>0</td>\n",
       "      <td>349.00</td>\n",
       "      <td>0.0</td>\n",
       "      <td>84.0</td>\n",
       "      <td>-1</td>\n",
       "      <td>0.0</td>\n",
       "      <td>0.0</td>\n",
       "      <td>9048.0</td>\n",
       "      <td>0.065674</td>\n",
       "      <td>0.000000</td>\n",
       "      <td>0.0</td>\n",
       "      <td>0.090942</td>\n",
       "      <td>634.50</td>\n",
       "      <td>24.921875</td>\n",
       "      <td>512.50</td>\n",
       "    </tr>\n",
       "    <tr>\n",
       "      <th>4</th>\n",
       "      <td>21</td>\n",
       "      <td>3344</td>\n",
       "      <td>0</td>\n",
       "      <td>2124.00</td>\n",
       "      <td>0.0</td>\n",
       "      <td>84.0</td>\n",
       "      <td>402</td>\n",
       "      <td>0.0</td>\n",
       "      <td>0.0</td>\n",
       "      <td>131.0</td>\n",
       "      <td>0.065674</td>\n",
       "      <td>0.000000</td>\n",
       "      <td>0.0</td>\n",
       "      <td>0.520020</td>\n",
       "      <td>634.50</td>\n",
       "      <td>2048.000000</td>\n",
       "      <td>512.50</td>\n",
       "    </tr>\n",
       "    <tr>\n",
       "      <th>...</th>\n",
       "      <td>...</td>\n",
       "      <td>...</td>\n",
       "      <td>...</td>\n",
       "      <td>...</td>\n",
       "      <td>...</td>\n",
       "      <td>...</td>\n",
       "      <td>...</td>\n",
       "      <td>...</td>\n",
       "      <td>...</td>\n",
       "      <td>...</td>\n",
       "      <td>...</td>\n",
       "      <td>...</td>\n",
       "      <td>...</td>\n",
       "      <td>...</td>\n",
       "      <td>...</td>\n",
       "      <td>...</td>\n",
       "      <td>...</td>\n",
       "    </tr>\n",
       "    <tr>\n",
       "      <th>7282795</th>\n",
       "      <td>10</td>\n",
       "      <td>11575</td>\n",
       "      <td>33</td>\n",
       "      <td>86.50</td>\n",
       "      <td>0.0</td>\n",
       "      <td>84.0</td>\n",
       "      <td>6</td>\n",
       "      <td>22.0</td>\n",
       "      <td>0.0</td>\n",
       "      <td>10552.0</td>\n",
       "      <td>0.081787</td>\n",
       "      <td>0.523926</td>\n",
       "      <td>0.0</td>\n",
       "      <td>0.277832</td>\n",
       "      <td>305.00</td>\n",
       "      <td>133.125000</td>\n",
       "      <td>410.25</td>\n",
       "    </tr>\n",
       "    <tr>\n",
       "      <th>7282796</th>\n",
       "      <td>38</td>\n",
       "      <td>11113</td>\n",
       "      <td>33</td>\n",
       "      <td>0.00</td>\n",
       "      <td>0.0</td>\n",
       "      <td>84.0</td>\n",
       "      <td>1236</td>\n",
       "      <td>6.0</td>\n",
       "      <td>0.0</td>\n",
       "      <td>6.0</td>\n",
       "      <td>0.199463</td>\n",
       "      <td>0.142822</td>\n",
       "      <td>0.0</td>\n",
       "      <td>0.142822</td>\n",
       "      <td>538.00</td>\n",
       "      <td>177.125000</td>\n",
       "      <td>410.25</td>\n",
       "    </tr>\n",
       "    <tr>\n",
       "      <th>7282797</th>\n",
       "      <td>39</td>\n",
       "      <td>7541</td>\n",
       "      <td>33</td>\n",
       "      <td>0.00</td>\n",
       "      <td>0.0</td>\n",
       "      <td>84.0</td>\n",
       "      <td>-1</td>\n",
       "      <td>1.0</td>\n",
       "      <td>0.0</td>\n",
       "      <td>21360.0</td>\n",
       "      <td>0.162109</td>\n",
       "      <td>0.023804</td>\n",
       "      <td>0.0</td>\n",
       "      <td>0.214600</td>\n",
       "      <td>478.25</td>\n",
       "      <td>16.640625</td>\n",
       "      <td>410.25</td>\n",
       "    </tr>\n",
       "    <tr>\n",
       "      <th>7282798</th>\n",
       "      <td>31</td>\n",
       "      <td>15374</td>\n",
       "      <td>33</td>\n",
       "      <td>316.75</td>\n",
       "      <td>0.0</td>\n",
       "      <td>84.0</td>\n",
       "      <td>-1</td>\n",
       "      <td>0.0</td>\n",
       "      <td>0.0</td>\n",
       "      <td>21360.0</td>\n",
       "      <td>0.984863</td>\n",
       "      <td>0.000000</td>\n",
       "      <td>0.0</td>\n",
       "      <td>0.214600</td>\n",
       "      <td>771.50</td>\n",
       "      <td>258.500000</td>\n",
       "      <td>410.25</td>\n",
       "    </tr>\n",
       "    <tr>\n",
       "      <th>7282799</th>\n",
       "      <td>56</td>\n",
       "      <td>4424</td>\n",
       "      <td>33</td>\n",
       "      <td>299.00</td>\n",
       "      <td>0.0</td>\n",
       "      <td>84.0</td>\n",
       "      <td>539</td>\n",
       "      <td>15.0</td>\n",
       "      <td>0.0</td>\n",
       "      <td>20.0</td>\n",
       "      <td>0.223755</td>\n",
       "      <td>0.357178</td>\n",
       "      <td>0.0</td>\n",
       "      <td>0.238037</td>\n",
       "      <td>578.50</td>\n",
       "      <td>254.750000</td>\n",
       "      <td>410.25</td>\n",
       "    </tr>\n",
       "  </tbody>\n",
       "</table>\n",
       "<p>7282800 rows × 17 columns</p>\n",
       "</div>"
      ],
      "text/plain": [
       "         shop_id  item_id  date_block_num  item_price  count  \\\n",
       "0             42      969               0      491.50    0.0   \n",
       "1             21     9894               0      349.00    0.0   \n",
       "2             21     8391               0      432.25    0.0   \n",
       "3             21     9425               0      349.00    0.0   \n",
       "4             21     3344               0     2124.00    0.0   \n",
       "...          ...      ...             ...         ...    ...   \n",
       "7282795       10    11575              33       86.50    0.0   \n",
       "7282796       38    11113              33        0.00    0.0   \n",
       "7282797       39     7541              33        0.00    0.0   \n",
       "7282798       31    15374              33      316.75    0.0   \n",
       "7282799       56     4424              33      299.00    0.0   \n",
       "\n",
       "         item_category_id   tag  count_by_item  count_by_item_cat  \\\n",
       "0                    84.0   105            0.0                0.0   \n",
       "1                    84.0    -1            0.0                0.0   \n",
       "2                    84.0   989            0.0                0.0   \n",
       "3                    84.0    -1            0.0                0.0   \n",
       "4                    84.0   402            0.0                0.0   \n",
       "...                   ...   ...            ...                ...   \n",
       "7282795              84.0     6           22.0                0.0   \n",
       "7282796              84.0  1236            6.0                0.0   \n",
       "7282797              84.0    -1            1.0                0.0   \n",
       "7282798              84.0    -1            0.0                0.0   \n",
       "7282799              84.0   539           15.0                0.0   \n",
       "\n",
       "         count_by_tag  count_avg_by_shop  count_avg_by_item  \\\n",
       "0                 0.0           0.169434           0.000000   \n",
       "1              9048.0           0.065674           0.000000   \n",
       "2                 0.0           0.065674           0.000000   \n",
       "3              9048.0           0.065674           0.000000   \n",
       "4               131.0           0.065674           0.000000   \n",
       "...               ...                ...                ...   \n",
       "7282795       10552.0           0.081787           0.523926   \n",
       "7282796           6.0           0.199463           0.142822   \n",
       "7282797       21360.0           0.162109           0.023804   \n",
       "7282798       21360.0           0.984863           0.000000   \n",
       "7282799          20.0           0.223755           0.357178   \n",
       "\n",
       "         count_avg_by_item_cat  count_avg_by_tag  avg_shop_price  \\\n",
       "0                          0.0          0.000000          723.00   \n",
       "1                          0.0          0.090942          634.50   \n",
       "2                          0.0          0.000000          634.50   \n",
       "3                          0.0          0.090942          634.50   \n",
       "4                          0.0          0.520020          634.50   \n",
       "...                        ...               ...             ...   \n",
       "7282795                    0.0          0.277832          305.00   \n",
       "7282796                    0.0          0.142822          538.00   \n",
       "7282797                    0.0          0.214600          478.25   \n",
       "7282798                    0.0          0.214600          771.50   \n",
       "7282799                    0.0          0.238037          578.50   \n",
       "\n",
       "         avg_item_price  avg_item_cat_price  \n",
       "0            420.000000              512.50  \n",
       "1            266.000000              512.50  \n",
       "2            338.500000              512.50  \n",
       "3             24.921875              512.50  \n",
       "4           2048.000000              512.50  \n",
       "...                 ...                 ...  \n",
       "7282795      133.125000              410.25  \n",
       "7282796      177.125000              410.25  \n",
       "7282797       16.640625              410.25  \n",
       "7282798      258.500000              410.25  \n",
       "7282799      254.750000              410.25  \n",
       "\n",
       "[7282800 rows x 17 columns]"
      ]
     },
     "execution_count": 55,
     "metadata": {},
     "output_type": "execute_result"
    }
   ],
   "source": [
    "data = _data.copy()\n",
    "data = generate_feature(data, by=[\n",
    "    'item_id', 'date_block_num'], base_col='count', output_col='count_by_item', agg_func='sum')\n",
    "data = generate_feature(data, by=[\n",
    "    'item_category_id', 'date_block_num'], base_col='count', output_col='count_by_item_cat', agg_func='sum')\n",
    "data = generate_feature(data, by=[\n",
    "    'tag', 'date_block_num'], base_col='count', output_col='count_by_tag', agg_func='sum')\n",
    "\n",
    "data = generate_feature(data, by=[\n",
    "    'shop_id', 'date_block_num'], base_col='count', output_col='count_avg_by_shop', agg_func='mean')\n",
    "data = generate_feature(data, by=[\n",
    "    'item_id', 'date_block_num'], base_col='count', output_col='count_avg_by_item', agg_func='mean')\n",
    "data = generate_feature(data, by=[\n",
    "    'item_category_id', 'date_block_num'], base_col='count', output_col='count_avg_by_item_cat', agg_func='mean')\n",
    "data = generate_feature(data, by=[\n",
    "    'tag', 'date_block_num'], base_col='count', output_col='count_avg_by_tag', agg_func='mean')\n",
    "\n",
    "data = generate_feature(data, by=[\n",
    "    'shop_id', 'date_block_num'], base_col='item_price', output_col='avg_shop_price', agg_func='mean')\n",
    "data = generate_feature(data, by=[\n",
    "    'item_id', 'date_block_num'], base_col='item_price', output_col='avg_item_price', agg_func='mean')\n",
    "data = generate_feature(data, by=[\n",
    "    'item_category_id', 'date_block_num'], base_col='item_price', output_col='avg_item_cat_price', agg_func='mean')\n",
    "\n",
    "data"
   ]
  },
  {
   "cell_type": "markdown",
   "metadata": {},
   "source": [
    "### Create revenue feature"
   ]
  },
  {
   "cell_type": "code",
   "execution_count": 56,
   "metadata": {
    "ExecuteTime": {
     "end_time": "2020-10-18T13:23:11.366390Z",
     "start_time": "2020-10-18T13:23:11.287392Z"
    }
   },
   "outputs": [],
   "source": [
    "data['revenue'] = data['item_price'] * data['count']"
   ]
  },
  {
   "cell_type": "markdown",
   "metadata": {},
   "source": [
    "### Create month feature"
   ]
  },
  {
   "cell_type": "code",
   "execution_count": 57,
   "metadata": {
    "ExecuteTime": {
     "end_time": "2020-10-18T13:23:11.460392Z",
     "start_time": "2020-10-18T13:23:11.429393Z"
    }
   },
   "outputs": [],
   "source": [
    "data['month'] = data['date_block_num'] % 12"
   ]
  },
  {
   "cell_type": "code",
   "execution_count": 58,
   "metadata": {
    "ExecuteTime": {
     "end_time": "2020-10-18T13:23:21.033746Z",
     "start_time": "2020-10-18T13:23:11.524701Z"
    }
   },
   "outputs": [],
   "source": [
    "# data = generate_feature(data, by=[\n",
    "#     'item_id', 'date_block_num'], base_col='count', output_col='count_by_item', agg_func='sum')\n",
    "# data = generate_feature(data, by=[\n",
    "#     'item_category_id', 'date_block_num'], base_col='count', output_col='count_by_item_cat', agg_func='sum')\n",
    "# data = generate_feature(data, by=[\n",
    "#     'tag', 'date_block_num'], base_col='count', output_col='count_by_tag', agg_func='sum')\n",
    "\n",
    "data = generate_feature(data, by=[\n",
    "    'shop_id', 'month'], base_col='count', output_col='monthly_count_avg_by_shop', agg_func='mean')\n",
    "data = generate_feature(data, by=[\n",
    "    'item_id', 'month'], base_col='count', output_col='monthly_count_avg_by_item', agg_func='mean')\n",
    "data = generate_feature(data, by=[\n",
    "    'item_category_id', 'month'], base_col='count', output_col='monthly_count_avg_by_item_cat', agg_func='mean')\n",
    "data = generate_feature(data, by=[\n",
    "    'tag', 'month'], base_col='count', output_col='monthly_count_avg_by_tag', agg_func='mean')\n",
    "\n",
    "# data = generate_feature(data, by=[\n",
    "#     'shop_id', 'date_block_num'], base_col='item_price', output_col='avg_shop_price', agg_func='mean')\n",
    "# data = generate_feature(data, by=[\n",
    "#     'item_id', 'date_block_num'], base_col='item_price', output_col='avg_item_price', agg_func='mean')\n",
    "# data = generate_feature(data, by=[\n",
    "#     'item_category_id', 'date_block_num'], base_col='item_price', output_col='avg_item_cat_price', agg_func='mean')"
   ]
  },
  {
   "cell_type": "code",
   "execution_count": 59,
   "metadata": {
    "ExecuteTime": {
     "end_time": "2020-10-18T13:23:23.265555Z",
     "start_time": "2020-10-18T13:23:22.152792Z"
    }
   },
   "outputs": [
    {
     "data": {
      "text/html": [
       "<div>\n",
       "<style scoped>\n",
       "    .dataframe tbody tr th:only-of-type {\n",
       "        vertical-align: middle;\n",
       "    }\n",
       "\n",
       "    .dataframe tbody tr th {\n",
       "        vertical-align: top;\n",
       "    }\n",
       "\n",
       "    .dataframe thead th {\n",
       "        text-align: right;\n",
       "    }\n",
       "</style>\n",
       "<table border=\"1\" class=\"dataframe\">\n",
       "  <thead>\n",
       "    <tr style=\"text-align: right;\">\n",
       "      <th></th>\n",
       "      <th>shop_id</th>\n",
       "      <th>item_id</th>\n",
       "      <th>date_block_num</th>\n",
       "      <th>item_price</th>\n",
       "      <th>count</th>\n",
       "      <th>item_category_id</th>\n",
       "      <th>tag</th>\n",
       "      <th>count_by_item</th>\n",
       "      <th>count_by_item_cat</th>\n",
       "      <th>count_by_tag</th>\n",
       "      <th>...</th>\n",
       "      <th>count_avg_by_tag</th>\n",
       "      <th>avg_shop_price</th>\n",
       "      <th>avg_item_price</th>\n",
       "      <th>avg_item_cat_price</th>\n",
       "      <th>revenue</th>\n",
       "      <th>month</th>\n",
       "      <th>monthly_count_avg_by_shop</th>\n",
       "      <th>monthly_count_avg_by_item</th>\n",
       "      <th>monthly_count_avg_by_item_cat</th>\n",
       "      <th>monthly_count_avg_by_tag</th>\n",
       "    </tr>\n",
       "  </thead>\n",
       "  <tbody>\n",
       "    <tr>\n",
       "      <th>0</th>\n",
       "      <td>42</td>\n",
       "      <td>969</td>\n",
       "      <td>0</td>\n",
       "      <td>491.50</td>\n",
       "      <td>0.0</td>\n",
       "      <td>84.0</td>\n",
       "      <td>105</td>\n",
       "      <td>0.0</td>\n",
       "      <td>0.0</td>\n",
       "      <td>0.0</td>\n",
       "      <td>...</td>\n",
       "      <td>0.000000</td>\n",
       "      <td>723.00</td>\n",
       "      <td>420.000000</td>\n",
       "      <td>512.50</td>\n",
       "      <td>0.0</td>\n",
       "      <td>0</td>\n",
       "      <td>0.316406</td>\n",
       "      <td>0.047607</td>\n",
       "      <td>0.0</td>\n",
       "      <td>0.059509</td>\n",
       "    </tr>\n",
       "    <tr>\n",
       "      <th>1</th>\n",
       "      <td>21</td>\n",
       "      <td>9894</td>\n",
       "      <td>0</td>\n",
       "      <td>349.00</td>\n",
       "      <td>0.0</td>\n",
       "      <td>84.0</td>\n",
       "      <td>-1</td>\n",
       "      <td>0.0</td>\n",
       "      <td>0.0</td>\n",
       "      <td>9048.0</td>\n",
       "      <td>...</td>\n",
       "      <td>0.090942</td>\n",
       "      <td>634.50</td>\n",
       "      <td>266.000000</td>\n",
       "      <td>512.50</td>\n",
       "      <td>0.0</td>\n",
       "      <td>0</td>\n",
       "      <td>0.153564</td>\n",
       "      <td>0.000000</td>\n",
       "      <td>0.0</td>\n",
       "      <td>0.166870</td>\n",
       "    </tr>\n",
       "    <tr>\n",
       "      <th>2</th>\n",
       "      <td>21</td>\n",
       "      <td>8391</td>\n",
       "      <td>0</td>\n",
       "      <td>432.25</td>\n",
       "      <td>0.0</td>\n",
       "      <td>84.0</td>\n",
       "      <td>989</td>\n",
       "      <td>0.0</td>\n",
       "      <td>0.0</td>\n",
       "      <td>0.0</td>\n",
       "      <td>...</td>\n",
       "      <td>0.000000</td>\n",
       "      <td>634.50</td>\n",
       "      <td>338.500000</td>\n",
       "      <td>512.50</td>\n",
       "      <td>0.0</td>\n",
       "      <td>0</td>\n",
       "      <td>0.153564</td>\n",
       "      <td>0.000000</td>\n",
       "      <td>0.0</td>\n",
       "      <td>0.000000</td>\n",
       "    </tr>\n",
       "    <tr>\n",
       "      <th>3</th>\n",
       "      <td>21</td>\n",
       "      <td>9425</td>\n",
       "      <td>0</td>\n",
       "      <td>349.00</td>\n",
       "      <td>0.0</td>\n",
       "      <td>84.0</td>\n",
       "      <td>-1</td>\n",
       "      <td>0.0</td>\n",
       "      <td>0.0</td>\n",
       "      <td>9048.0</td>\n",
       "      <td>...</td>\n",
       "      <td>0.090942</td>\n",
       "      <td>634.50</td>\n",
       "      <td>24.921875</td>\n",
       "      <td>512.50</td>\n",
       "      <td>0.0</td>\n",
       "      <td>0</td>\n",
       "      <td>0.153564</td>\n",
       "      <td>0.000000</td>\n",
       "      <td>0.0</td>\n",
       "      <td>0.166870</td>\n",
       "    </tr>\n",
       "    <tr>\n",
       "      <th>4</th>\n",
       "      <td>21</td>\n",
       "      <td>3344</td>\n",
       "      <td>0</td>\n",
       "      <td>2124.00</td>\n",
       "      <td>0.0</td>\n",
       "      <td>84.0</td>\n",
       "      <td>402</td>\n",
       "      <td>0.0</td>\n",
       "      <td>0.0</td>\n",
       "      <td>131.0</td>\n",
       "      <td>...</td>\n",
       "      <td>0.520020</td>\n",
       "      <td>634.50</td>\n",
       "      <td>2048.000000</td>\n",
       "      <td>512.50</td>\n",
       "      <td>0.0</td>\n",
       "      <td>0</td>\n",
       "      <td>0.153564</td>\n",
       "      <td>0.388916</td>\n",
       "      <td>0.0</td>\n",
       "      <td>1.007812</td>\n",
       "    </tr>\n",
       "    <tr>\n",
       "      <th>...</th>\n",
       "      <td>...</td>\n",
       "      <td>...</td>\n",
       "      <td>...</td>\n",
       "      <td>...</td>\n",
       "      <td>...</td>\n",
       "      <td>...</td>\n",
       "      <td>...</td>\n",
       "      <td>...</td>\n",
       "      <td>...</td>\n",
       "      <td>...</td>\n",
       "      <td>...</td>\n",
       "      <td>...</td>\n",
       "      <td>...</td>\n",
       "      <td>...</td>\n",
       "      <td>...</td>\n",
       "      <td>...</td>\n",
       "      <td>...</td>\n",
       "      <td>...</td>\n",
       "      <td>...</td>\n",
       "      <td>...</td>\n",
       "      <td>...</td>\n",
       "    </tr>\n",
       "    <tr>\n",
       "      <th>7282795</th>\n",
       "      <td>10</td>\n",
       "      <td>11575</td>\n",
       "      <td>33</td>\n",
       "      <td>86.50</td>\n",
       "      <td>0.0</td>\n",
       "      <td>84.0</td>\n",
       "      <td>6</td>\n",
       "      <td>22.0</td>\n",
       "      <td>0.0</td>\n",
       "      <td>10552.0</td>\n",
       "      <td>...</td>\n",
       "      <td>0.277832</td>\n",
       "      <td>305.00</td>\n",
       "      <td>133.125000</td>\n",
       "      <td>410.25</td>\n",
       "      <td>0.0</td>\n",
       "      <td>9</td>\n",
       "      <td>0.081909</td>\n",
       "      <td>0.380859</td>\n",
       "      <td>0.0</td>\n",
       "      <td>0.216064</td>\n",
       "    </tr>\n",
       "    <tr>\n",
       "      <th>7282796</th>\n",
       "      <td>38</td>\n",
       "      <td>11113</td>\n",
       "      <td>33</td>\n",
       "      <td>0.00</td>\n",
       "      <td>0.0</td>\n",
       "      <td>84.0</td>\n",
       "      <td>1236</td>\n",
       "      <td>6.0</td>\n",
       "      <td>0.0</td>\n",
       "      <td>6.0</td>\n",
       "      <td>...</td>\n",
       "      <td>0.142822</td>\n",
       "      <td>538.00</td>\n",
       "      <td>177.125000</td>\n",
       "      <td>410.25</td>\n",
       "      <td>0.0</td>\n",
       "      <td>9</td>\n",
       "      <td>0.160034</td>\n",
       "      <td>0.047607</td>\n",
       "      <td>0.0</td>\n",
       "      <td>0.047607</td>\n",
       "    </tr>\n",
       "    <tr>\n",
       "      <th>7282797</th>\n",
       "      <td>39</td>\n",
       "      <td>7541</td>\n",
       "      <td>33</td>\n",
       "      <td>0.00</td>\n",
       "      <td>0.0</td>\n",
       "      <td>84.0</td>\n",
       "      <td>-1</td>\n",
       "      <td>1.0</td>\n",
       "      <td>0.0</td>\n",
       "      <td>21360.0</td>\n",
       "      <td>...</td>\n",
       "      <td>0.214600</td>\n",
       "      <td>478.25</td>\n",
       "      <td>16.640625</td>\n",
       "      <td>410.25</td>\n",
       "      <td>0.0</td>\n",
       "      <td>9</td>\n",
       "      <td>0.081055</td>\n",
       "      <td>0.023804</td>\n",
       "      <td>0.0</td>\n",
       "      <td>0.170898</td>\n",
       "    </tr>\n",
       "    <tr>\n",
       "      <th>7282798</th>\n",
       "      <td>31</td>\n",
       "      <td>15374</td>\n",
       "      <td>33</td>\n",
       "      <td>316.75</td>\n",
       "      <td>0.0</td>\n",
       "      <td>84.0</td>\n",
       "      <td>-1</td>\n",
       "      <td>0.0</td>\n",
       "      <td>0.0</td>\n",
       "      <td>21360.0</td>\n",
       "      <td>...</td>\n",
       "      <td>0.214600</td>\n",
       "      <td>771.50</td>\n",
       "      <td>258.500000</td>\n",
       "      <td>410.25</td>\n",
       "      <td>0.0</td>\n",
       "      <td>9</td>\n",
       "      <td>0.773438</td>\n",
       "      <td>0.063477</td>\n",
       "      <td>0.0</td>\n",
       "      <td>0.170898</td>\n",
       "    </tr>\n",
       "    <tr>\n",
       "      <th>7282799</th>\n",
       "      <td>56</td>\n",
       "      <td>4424</td>\n",
       "      <td>33</td>\n",
       "      <td>299.00</td>\n",
       "      <td>0.0</td>\n",
       "      <td>84.0</td>\n",
       "      <td>539</td>\n",
       "      <td>15.0</td>\n",
       "      <td>0.0</td>\n",
       "      <td>20.0</td>\n",
       "      <td>...</td>\n",
       "      <td>0.238037</td>\n",
       "      <td>578.50</td>\n",
       "      <td>254.750000</td>\n",
       "      <td>410.25</td>\n",
       "      <td>0.0</td>\n",
       "      <td>9</td>\n",
       "      <td>0.192505</td>\n",
       "      <td>0.119019</td>\n",
       "      <td>0.0</td>\n",
       "      <td>0.130981</td>\n",
       "    </tr>\n",
       "  </tbody>\n",
       "</table>\n",
       "<p>7282800 rows × 23 columns</p>\n",
       "</div>"
      ],
      "text/plain": [
       "         shop_id  item_id  date_block_num  item_price  count  \\\n",
       "0             42      969               0      491.50    0.0   \n",
       "1             21     9894               0      349.00    0.0   \n",
       "2             21     8391               0      432.25    0.0   \n",
       "3             21     9425               0      349.00    0.0   \n",
       "4             21     3344               0     2124.00    0.0   \n",
       "...          ...      ...             ...         ...    ...   \n",
       "7282795       10    11575              33       86.50    0.0   \n",
       "7282796       38    11113              33        0.00    0.0   \n",
       "7282797       39     7541              33        0.00    0.0   \n",
       "7282798       31    15374              33      316.75    0.0   \n",
       "7282799       56     4424              33      299.00    0.0   \n",
       "\n",
       "         item_category_id   tag  count_by_item  count_by_item_cat  \\\n",
       "0                    84.0   105            0.0                0.0   \n",
       "1                    84.0    -1            0.0                0.0   \n",
       "2                    84.0   989            0.0                0.0   \n",
       "3                    84.0    -1            0.0                0.0   \n",
       "4                    84.0   402            0.0                0.0   \n",
       "...                   ...   ...            ...                ...   \n",
       "7282795              84.0     6           22.0                0.0   \n",
       "7282796              84.0  1236            6.0                0.0   \n",
       "7282797              84.0    -1            1.0                0.0   \n",
       "7282798              84.0    -1            0.0                0.0   \n",
       "7282799              84.0   539           15.0                0.0   \n",
       "\n",
       "         count_by_tag  ...  count_avg_by_tag  avg_shop_price  avg_item_price  \\\n",
       "0                 0.0  ...          0.000000          723.00      420.000000   \n",
       "1              9048.0  ...          0.090942          634.50      266.000000   \n",
       "2                 0.0  ...          0.000000          634.50      338.500000   \n",
       "3              9048.0  ...          0.090942          634.50       24.921875   \n",
       "4               131.0  ...          0.520020          634.50     2048.000000   \n",
       "...               ...  ...               ...             ...             ...   \n",
       "7282795       10552.0  ...          0.277832          305.00      133.125000   \n",
       "7282796           6.0  ...          0.142822          538.00      177.125000   \n",
       "7282797       21360.0  ...          0.214600          478.25       16.640625   \n",
       "7282798       21360.0  ...          0.214600          771.50      258.500000   \n",
       "7282799          20.0  ...          0.238037          578.50      254.750000   \n",
       "\n",
       "         avg_item_cat_price  revenue  month  monthly_count_avg_by_shop  \\\n",
       "0                    512.50      0.0      0                   0.316406   \n",
       "1                    512.50      0.0      0                   0.153564   \n",
       "2                    512.50      0.0      0                   0.153564   \n",
       "3                    512.50      0.0      0                   0.153564   \n",
       "4                    512.50      0.0      0                   0.153564   \n",
       "...                     ...      ...    ...                        ...   \n",
       "7282795              410.25      0.0      9                   0.081909   \n",
       "7282796              410.25      0.0      9                   0.160034   \n",
       "7282797              410.25      0.0      9                   0.081055   \n",
       "7282798              410.25      0.0      9                   0.773438   \n",
       "7282799              410.25      0.0      9                   0.192505   \n",
       "\n",
       "         monthly_count_avg_by_item  monthly_count_avg_by_item_cat  \\\n",
       "0                         0.047607                            0.0   \n",
       "1                         0.000000                            0.0   \n",
       "2                         0.000000                            0.0   \n",
       "3                         0.000000                            0.0   \n",
       "4                         0.388916                            0.0   \n",
       "...                            ...                            ...   \n",
       "7282795                   0.380859                            0.0   \n",
       "7282796                   0.047607                            0.0   \n",
       "7282797                   0.023804                            0.0   \n",
       "7282798                   0.063477                            0.0   \n",
       "7282799                   0.119019                            0.0   \n",
       "\n",
       "         monthly_count_avg_by_tag  \n",
       "0                        0.059509  \n",
       "1                        0.166870  \n",
       "2                        0.000000  \n",
       "3                        0.166870  \n",
       "4                        1.007812  \n",
       "...                           ...  \n",
       "7282795                  0.216064  \n",
       "7282796                  0.047607  \n",
       "7282797                  0.170898  \n",
       "7282798                  0.170898  \n",
       "7282799                  0.130981  \n",
       "\n",
       "[7282800 rows x 23 columns]"
      ]
     },
     "execution_count": 59,
     "metadata": {},
     "output_type": "execute_result"
    }
   ],
   "source": [
    "data"
   ]
  },
  {
   "cell_type": "markdown",
   "metadata": {},
   "source": [
    "### Mean Encoding"
   ]
  },
  {
   "cell_type": "code",
   "execution_count": 60,
   "metadata": {
    "ExecuteTime": {
     "end_time": "2020-10-18T13:23:27.449645Z",
     "start_time": "2020-10-18T13:23:24.394380Z"
    }
   },
   "outputs": [
    {
     "data": {
      "text/html": [
       "<div>\n",
       "<style scoped>\n",
       "    .dataframe tbody tr th:only-of-type {\n",
       "        vertical-align: middle;\n",
       "    }\n",
       "\n",
       "    .dataframe tbody tr th {\n",
       "        vertical-align: top;\n",
       "    }\n",
       "\n",
       "    .dataframe thead th {\n",
       "        text-align: right;\n",
       "    }\n",
       "</style>\n",
       "<table border=\"1\" class=\"dataframe\">\n",
       "  <thead>\n",
       "    <tr style=\"text-align: right;\">\n",
       "      <th></th>\n",
       "      <th>shop_id</th>\n",
       "      <th>item_id</th>\n",
       "      <th>date_block_num</th>\n",
       "      <th>item_price</th>\n",
       "      <th>count</th>\n",
       "      <th>item_category_id</th>\n",
       "      <th>tag</th>\n",
       "      <th>count_by_item</th>\n",
       "      <th>count_by_item_cat</th>\n",
       "      <th>count_by_tag</th>\n",
       "      <th>...</th>\n",
       "      <th>month</th>\n",
       "      <th>monthly_count_avg_by_shop</th>\n",
       "      <th>monthly_count_avg_by_item</th>\n",
       "      <th>monthly_count_avg_by_item_cat</th>\n",
       "      <th>monthly_count_avg_by_tag</th>\n",
       "      <th>shop_id_encoded</th>\n",
       "      <th>item_id_encoded</th>\n",
       "      <th>item_category_id_encoded</th>\n",
       "      <th>month_encoded</th>\n",
       "      <th>tag_encoded</th>\n",
       "    </tr>\n",
       "  </thead>\n",
       "  <tbody>\n",
       "    <tr>\n",
       "      <th>0</th>\n",
       "      <td>42</td>\n",
       "      <td>969</td>\n",
       "      <td>0</td>\n",
       "      <td>491.50</td>\n",
       "      <td>0.0</td>\n",
       "      <td>84.0</td>\n",
       "      <td>105</td>\n",
       "      <td>0.0</td>\n",
       "      <td>0.0</td>\n",
       "      <td>0.0</td>\n",
       "      <td>...</td>\n",
       "      <td>0</td>\n",
       "      <td>0.316406</td>\n",
       "      <td>0.047607</td>\n",
       "      <td>0.0</td>\n",
       "      <td>0.059509</td>\n",
       "      <td>0.368896</td>\n",
       "      <td>0.158203</td>\n",
       "      <td>0.0</td>\n",
       "      <td>0.177734</td>\n",
       "      <td>0.258057</td>\n",
       "    </tr>\n",
       "    <tr>\n",
       "      <th>1</th>\n",
       "      <td>21</td>\n",
       "      <td>9894</td>\n",
       "      <td>0</td>\n",
       "      <td>349.00</td>\n",
       "      <td>0.0</td>\n",
       "      <td>84.0</td>\n",
       "      <td>-1</td>\n",
       "      <td>0.0</td>\n",
       "      <td>0.0</td>\n",
       "      <td>9048.0</td>\n",
       "      <td>...</td>\n",
       "      <td>0</td>\n",
       "      <td>0.153564</td>\n",
       "      <td>0.000000</td>\n",
       "      <td>0.0</td>\n",
       "      <td>0.166870</td>\n",
       "      <td>0.193359</td>\n",
       "      <td>0.054626</td>\n",
       "      <td>0.0</td>\n",
       "      <td>0.177734</td>\n",
       "      <td>0.170532</td>\n",
       "    </tr>\n",
       "    <tr>\n",
       "      <th>2</th>\n",
       "      <td>21</td>\n",
       "      <td>8391</td>\n",
       "      <td>0</td>\n",
       "      <td>432.25</td>\n",
       "      <td>0.0</td>\n",
       "      <td>84.0</td>\n",
       "      <td>989</td>\n",
       "      <td>0.0</td>\n",
       "      <td>0.0</td>\n",
       "      <td>0.0</td>\n",
       "      <td>...</td>\n",
       "      <td>0</td>\n",
       "      <td>0.153564</td>\n",
       "      <td>0.000000</td>\n",
       "      <td>0.0</td>\n",
       "      <td>0.000000</td>\n",
       "      <td>0.193359</td>\n",
       "      <td>0.158203</td>\n",
       "      <td>0.0</td>\n",
       "      <td>0.177734</td>\n",
       "      <td>0.158203</td>\n",
       "    </tr>\n",
       "    <tr>\n",
       "      <th>3</th>\n",
       "      <td>21</td>\n",
       "      <td>9425</td>\n",
       "      <td>0</td>\n",
       "      <td>349.00</td>\n",
       "      <td>0.0</td>\n",
       "      <td>84.0</td>\n",
       "      <td>-1</td>\n",
       "      <td>0.0</td>\n",
       "      <td>0.0</td>\n",
       "      <td>9048.0</td>\n",
       "      <td>...</td>\n",
       "      <td>0</td>\n",
       "      <td>0.153564</td>\n",
       "      <td>0.000000</td>\n",
       "      <td>0.0</td>\n",
       "      <td>0.166870</td>\n",
       "      <td>0.193359</td>\n",
       "      <td>0.002100</td>\n",
       "      <td>0.0</td>\n",
       "      <td>0.177734</td>\n",
       "      <td>0.170532</td>\n",
       "    </tr>\n",
       "    <tr>\n",
       "      <th>4</th>\n",
       "      <td>21</td>\n",
       "      <td>3344</td>\n",
       "      <td>0</td>\n",
       "      <td>2124.00</td>\n",
       "      <td>0.0</td>\n",
       "      <td>84.0</td>\n",
       "      <td>402</td>\n",
       "      <td>0.0</td>\n",
       "      <td>0.0</td>\n",
       "      <td>131.0</td>\n",
       "      <td>...</td>\n",
       "      <td>0</td>\n",
       "      <td>0.153564</td>\n",
       "      <td>0.388916</td>\n",
       "      <td>0.0</td>\n",
       "      <td>1.007812</td>\n",
       "      <td>0.193359</td>\n",
       "      <td>0.240845</td>\n",
       "      <td>0.0</td>\n",
       "      <td>0.177734</td>\n",
       "      <td>1.151367</td>\n",
       "    </tr>\n",
       "    <tr>\n",
       "      <th>...</th>\n",
       "      <td>...</td>\n",
       "      <td>...</td>\n",
       "      <td>...</td>\n",
       "      <td>...</td>\n",
       "      <td>...</td>\n",
       "      <td>...</td>\n",
       "      <td>...</td>\n",
       "      <td>...</td>\n",
       "      <td>...</td>\n",
       "      <td>...</td>\n",
       "      <td>...</td>\n",
       "      <td>...</td>\n",
       "      <td>...</td>\n",
       "      <td>...</td>\n",
       "      <td>...</td>\n",
       "      <td>...</td>\n",
       "      <td>...</td>\n",
       "      <td>...</td>\n",
       "      <td>...</td>\n",
       "      <td>...</td>\n",
       "      <td>...</td>\n",
       "    </tr>\n",
       "    <tr>\n",
       "      <th>7282795</th>\n",
       "      <td>10</td>\n",
       "      <td>11575</td>\n",
       "      <td>33</td>\n",
       "      <td>86.50</td>\n",
       "      <td>0.0</td>\n",
       "      <td>84.0</td>\n",
       "      <td>6</td>\n",
       "      <td>22.0</td>\n",
       "      <td>0.0</td>\n",
       "      <td>10552.0</td>\n",
       "      <td>...</td>\n",
       "      <td>9</td>\n",
       "      <td>0.081909</td>\n",
       "      <td>0.380859</td>\n",
       "      <td>0.0</td>\n",
       "      <td>0.216064</td>\n",
       "      <td>0.071045</td>\n",
       "      <td>0.317139</td>\n",
       "      <td>0.0</td>\n",
       "      <td>0.201538</td>\n",
       "      <td>0.193726</td>\n",
       "    </tr>\n",
       "    <tr>\n",
       "      <th>7282796</th>\n",
       "      <td>38</td>\n",
       "      <td>11113</td>\n",
       "      <td>33</td>\n",
       "      <td>0.00</td>\n",
       "      <td>0.0</td>\n",
       "      <td>84.0</td>\n",
       "      <td>1236</td>\n",
       "      <td>6.0</td>\n",
       "      <td>0.0</td>\n",
       "      <td>6.0</td>\n",
       "      <td>...</td>\n",
       "      <td>9</td>\n",
       "      <td>0.160034</td>\n",
       "      <td>0.047607</td>\n",
       "      <td>0.0</td>\n",
       "      <td>0.047607</td>\n",
       "      <td>0.168457</td>\n",
       "      <td>0.061615</td>\n",
       "      <td>0.0</td>\n",
       "      <td>0.201538</td>\n",
       "      <td>0.061615</td>\n",
       "    </tr>\n",
       "    <tr>\n",
       "      <th>7282797</th>\n",
       "      <td>39</td>\n",
       "      <td>7541</td>\n",
       "      <td>33</td>\n",
       "      <td>0.00</td>\n",
       "      <td>0.0</td>\n",
       "      <td>84.0</td>\n",
       "      <td>-1</td>\n",
       "      <td>1.0</td>\n",
       "      <td>0.0</td>\n",
       "      <td>21360.0</td>\n",
       "      <td>...</td>\n",
       "      <td>9</td>\n",
       "      <td>0.081055</td>\n",
       "      <td>0.023804</td>\n",
       "      <td>0.0</td>\n",
       "      <td>0.170898</td>\n",
       "      <td>0.062286</td>\n",
       "      <td>0.028015</td>\n",
       "      <td>0.0</td>\n",
       "      <td>0.201538</td>\n",
       "      <td>0.170532</td>\n",
       "    </tr>\n",
       "    <tr>\n",
       "      <th>7282798</th>\n",
       "      <td>31</td>\n",
       "      <td>15374</td>\n",
       "      <td>33</td>\n",
       "      <td>316.75</td>\n",
       "      <td>0.0</td>\n",
       "      <td>84.0</td>\n",
       "      <td>-1</td>\n",
       "      <td>0.0</td>\n",
       "      <td>0.0</td>\n",
       "      <td>21360.0</td>\n",
       "      <td>...</td>\n",
       "      <td>9</td>\n",
       "      <td>0.773438</td>\n",
       "      <td>0.063477</td>\n",
       "      <td>0.0</td>\n",
       "      <td>0.170898</td>\n",
       "      <td>0.715332</td>\n",
       "      <td>0.115540</td>\n",
       "      <td>0.0</td>\n",
       "      <td>0.201538</td>\n",
       "      <td>0.170532</td>\n",
       "    </tr>\n",
       "    <tr>\n",
       "      <th>7282799</th>\n",
       "      <td>56</td>\n",
       "      <td>4424</td>\n",
       "      <td>33</td>\n",
       "      <td>299.00</td>\n",
       "      <td>0.0</td>\n",
       "      <td>84.0</td>\n",
       "      <td>539</td>\n",
       "      <td>15.0</td>\n",
       "      <td>0.0</td>\n",
       "      <td>20.0</td>\n",
       "      <td>...</td>\n",
       "      <td>9</td>\n",
       "      <td>0.192505</td>\n",
       "      <td>0.119019</td>\n",
       "      <td>0.0</td>\n",
       "      <td>0.130981</td>\n",
       "      <td>0.194214</td>\n",
       "      <td>0.208740</td>\n",
       "      <td>0.0</td>\n",
       "      <td>0.201538</td>\n",
       "      <td>0.262207</td>\n",
       "    </tr>\n",
       "  </tbody>\n",
       "</table>\n",
       "<p>7282800 rows × 28 columns</p>\n",
       "</div>"
      ],
      "text/plain": [
       "         shop_id  item_id  date_block_num  item_price  count  \\\n",
       "0             42      969               0      491.50    0.0   \n",
       "1             21     9894               0      349.00    0.0   \n",
       "2             21     8391               0      432.25    0.0   \n",
       "3             21     9425               0      349.00    0.0   \n",
       "4             21     3344               0     2124.00    0.0   \n",
       "...          ...      ...             ...         ...    ...   \n",
       "7282795       10    11575              33       86.50    0.0   \n",
       "7282796       38    11113              33        0.00    0.0   \n",
       "7282797       39     7541              33        0.00    0.0   \n",
       "7282798       31    15374              33      316.75    0.0   \n",
       "7282799       56     4424              33      299.00    0.0   \n",
       "\n",
       "         item_category_id   tag  count_by_item  count_by_item_cat  \\\n",
       "0                    84.0   105            0.0                0.0   \n",
       "1                    84.0    -1            0.0                0.0   \n",
       "2                    84.0   989            0.0                0.0   \n",
       "3                    84.0    -1            0.0                0.0   \n",
       "4                    84.0   402            0.0                0.0   \n",
       "...                   ...   ...            ...                ...   \n",
       "7282795              84.0     6           22.0                0.0   \n",
       "7282796              84.0  1236            6.0                0.0   \n",
       "7282797              84.0    -1            1.0                0.0   \n",
       "7282798              84.0    -1            0.0                0.0   \n",
       "7282799              84.0   539           15.0                0.0   \n",
       "\n",
       "         count_by_tag  ...  month  monthly_count_avg_by_shop  \\\n",
       "0                 0.0  ...      0                   0.316406   \n",
       "1              9048.0  ...      0                   0.153564   \n",
       "2                 0.0  ...      0                   0.153564   \n",
       "3              9048.0  ...      0                   0.153564   \n",
       "4               131.0  ...      0                   0.153564   \n",
       "...               ...  ...    ...                        ...   \n",
       "7282795       10552.0  ...      9                   0.081909   \n",
       "7282796           6.0  ...      9                   0.160034   \n",
       "7282797       21360.0  ...      9                   0.081055   \n",
       "7282798       21360.0  ...      9                   0.773438   \n",
       "7282799          20.0  ...      9                   0.192505   \n",
       "\n",
       "         monthly_count_avg_by_item  monthly_count_avg_by_item_cat  \\\n",
       "0                         0.047607                            0.0   \n",
       "1                         0.000000                            0.0   \n",
       "2                         0.000000                            0.0   \n",
       "3                         0.000000                            0.0   \n",
       "4                         0.388916                            0.0   \n",
       "...                            ...                            ...   \n",
       "7282795                   0.380859                            0.0   \n",
       "7282796                   0.047607                            0.0   \n",
       "7282797                   0.023804                            0.0   \n",
       "7282798                   0.063477                            0.0   \n",
       "7282799                   0.119019                            0.0   \n",
       "\n",
       "         monthly_count_avg_by_tag  shop_id_encoded  item_id_encoded  \\\n",
       "0                        0.059509         0.368896         0.158203   \n",
       "1                        0.166870         0.193359         0.054626   \n",
       "2                        0.000000         0.193359         0.158203   \n",
       "3                        0.166870         0.193359         0.002100   \n",
       "4                        1.007812         0.193359         0.240845   \n",
       "...                           ...              ...              ...   \n",
       "7282795                  0.216064         0.071045         0.317139   \n",
       "7282796                  0.047607         0.168457         0.061615   \n",
       "7282797                  0.170898         0.062286         0.028015   \n",
       "7282798                  0.170898         0.715332         0.115540   \n",
       "7282799                  0.130981         0.194214         0.208740   \n",
       "\n",
       "         item_category_id_encoded  month_encoded  tag_encoded  \n",
       "0                             0.0       0.177734     0.258057  \n",
       "1                             0.0       0.177734     0.170532  \n",
       "2                             0.0       0.177734     0.158203  \n",
       "3                             0.0       0.177734     0.170532  \n",
       "4                             0.0       0.177734     1.151367  \n",
       "...                           ...            ...          ...  \n",
       "7282795                       0.0       0.201538     0.193726  \n",
       "7282796                       0.0       0.201538     0.061615  \n",
       "7282797                       0.0       0.201538     0.170532  \n",
       "7282798                       0.0       0.201538     0.170532  \n",
       "7282799                       0.0       0.201538     0.262207  \n",
       "\n",
       "[7282800 rows x 28 columns]"
      ]
     },
     "execution_count": 60,
     "metadata": {},
     "output_type": "execute_result"
    }
   ],
   "source": [
    "def mean_encoding(df, cat_col, target_col):\n",
    "    encoder = df.groupby(cat_col)[target_col].mean()\n",
    "    return df[cat_col].map(encoder)\n",
    "data['shop_id_encoded'] = mean_encoding(data, 'shop_id', 'count')\n",
    "data['item_id_encoded'] = mean_encoding(data, 'item_id', 'count')\n",
    "data['item_category_id_encoded'] = mean_encoding(data, 'item_category_id', 'count')\n",
    "data['month_encoded'] = mean_encoding(data, 'month', 'count')\n",
    "data['tag_encoded'] = mean_encoding(data, 'tag', 'count')\n",
    "data"
   ]
  },
  {
   "cell_type": "markdown",
   "metadata": {},
   "source": [
    "### Define categorical columns"
   ]
  },
  {
   "cell_type": "code",
   "execution_count": 61,
   "metadata": {
    "ExecuteTime": {
     "end_time": "2020-10-18T13:23:28.417765Z",
     "start_time": "2020-10-18T13:23:28.403202Z"
    }
   },
   "outputs": [],
   "source": [
    "category_cols = ['shop_id', 'item_id', 'date_block_num', 'item_category_id', 'month', 'tag']"
   ]
  },
  {
   "cell_type": "markdown",
   "metadata": {},
   "source": [
    "### Generate past-features"
   ]
  },
  {
   "cell_type": "code",
   "execution_count": 62,
   "metadata": {
    "ExecuteTime": {
     "end_time": "2020-10-18T13:23:29.374901Z",
     "start_time": "2020-10-18T13:23:29.359905Z"
    }
   },
   "outputs": [],
   "source": [
    "timeserie_cols = [\n",
    "    'count', 'revenue',\n",
    "    'count_by_item', 'count_by_item_cat', 'count_by_tag',\n",
    "    'count_avg_by_shop', 'count_avg_by_item', 'count_avg_by_item_cat', 'count_avg_by_tag',\n",
    "    'monthly_count_avg_by_shop', 'monthly_count_avg_by_item', 'monthly_count_avg_by_item_cat', 'monthly_count_avg_by_tag',\n",
    "    'avg_shop_price', 'avg_item_price', 'avg_item_cat_price'\n",
    "] "
   ]
  },
  {
   "cell_type": "code",
   "execution_count": 63,
   "metadata": {
    "ExecuteTime": {
     "end_time": "2020-10-18T13:23:30.312365Z",
     "start_time": "2020-10-18T13:23:30.297818Z"
    }
   },
   "outputs": [],
   "source": [
    "\n",
    "def generate_past_features(data, lookback_steps):\n",
    "    index_cols = ['shop_id', 'item_id', 'date_block_num']\n",
    "\n",
    "    new_data = data[data['date_block_num'] >= max(lookback_steps)+data['date_block_num'].min()]\n",
    "\n",
    "    for lookback_num in tqdm(lookback_steps):\n",
    "        month_shift_df = data.copy()\n",
    "        month_shift_df['date_block_num'] = month_shift_df['date_block_num'] + lookback_num\n",
    "\n",
    "        lookback_cols = [f'p{lookback_num}_{col}' for col in timeserie_cols]\n",
    "        month_shift_df.rename(columns={old_col: new_col for old_col, new_col in zip(timeserie_cols, lookback_cols)}, inplace=True)\n",
    "        month_shift_df = month_shift_df[month_shift_df.columns.sort_values()]\n",
    "        new_data = new_data.merge(\n",
    "            month_shift_df[index_cols+lookback_cols], how='left', on=index_cols)\n",
    "    return new_data"
   ]
  },
  {
   "cell_type": "markdown",
   "metadata": {},
   "source": [
    "### Cross validation split"
   ]
  },
  {
   "cell_type": "code",
   "execution_count": 64,
   "metadata": {
    "ExecuteTime": {
     "end_time": "2020-10-18T13:23:56.679205Z",
     "start_time": "2020-10-18T13:23:31.216883Z"
    }
   },
   "outputs": [
    {
     "name": "stderr",
     "output_type": "stream",
     "text": [
      "100%|████████████████████████████████████████████████████████████████████████████████████| 5/5 [00:23<00:00,  4.67s/it]\n"
     ]
    }
   ],
   "source": [
    "\n",
    "lookback_steps = np.array([1, 2, 3, 4, 5])\n",
    "train_data = generate_past_features(data, lookback_steps)\n",
    "target_col = 'count'\n",
    "feature_cols = train_data.columns.difference(\n",
    "    [target_col, 'date_block_num', 'item_price', 'revenue',\n",
    "     'count_by_shop', 'count_by_item', 'count_by_item_cat', 'count_by_tag',\n",
    "     'count_avg_by_shop', 'count_avg_by_item', 'count_avg_by_item_cat', 'count_avg_by_tag',\n",
    "    'monthly_count_avg_by_shop', 'monthly_count_avg_by_item', 'monthly_count_avg_by_item_cat', 'monthly_count_avg_by_tag',\n",
    "     'avg_shop_price', 'avg_item_price', 'avg_item_cat_price', 'avg_tag_price',\n",
    "#      'shop_id', 'item_id', 'item_category_id', 'month', 'tag', \n",
    "#      'shop_id_encoded', 'item_id_encoded', 'item_category_id_encoded', 'month_encoded'\n",
    "    ]).sort_values().to_list()\n",
    "\n",
    "# train_data[target_col] = train_data[target_col].clip(inverse_scaling(0, 'count'), inverse_scaling(20, 'count'))\n",
    "train_data[target_col] = train_data[target_col].clip(0, 20)\n",
    "\n",
    "X = train_data[feature_cols]\n",
    "Y = train_data[target_col]"
   ]
  },
  {
   "cell_type": "code",
   "execution_count": 65,
   "metadata": {
    "ExecuteTime": {
     "end_time": "2020-10-18T13:24:02.750592Z",
     "start_time": "2020-10-18T13:23:59.015897Z"
    }
   },
   "outputs": [],
   "source": [
    "# val_blocks = [29, 30, 31, 32, 33]\n",
    "train_blocks = np.arange(33)\n",
    "val_blocks = [33]\n",
    "\n",
    "# train_indice = (train_data['date_block_num'] >= 0) & (train_data['date_block_num'] < min(val_blocks))\n",
    "train_indice = train_data['date_block_num'].isin(train_blocks)\n",
    "val_indice = train_data['date_block_num'].isin(val_blocks)\n",
    "monthly_indice = train_data['shop_id'].isin(_monthly_sales_df['shop_id'].drop_duplicates()) & train_data['item_id'].isin(_monthly_sales_df['item_id'].drop_duplicates())\n",
    "\n",
    "X_train = train_data.loc[train_indice & monthly_indice, feature_cols]\n",
    "Y_train = train_data.loc[train_indice & monthly_indice, target_col]\n",
    "\n",
    "X_val = train_data.loc[val_indice & monthly_indice, feature_cols]\n",
    "Y_val = train_data.loc[val_indice & monthly_indice, target_col]"
   ]
  },
  {
   "cell_type": "code",
   "execution_count": 66,
   "metadata": {
    "ExecuteTime": {
     "end_time": "2020-10-18T13:25:15.237826Z",
     "start_time": "2020-10-18T13:25:09.737380Z"
    }
   },
   "outputs": [
    {
     "name": "stdout",
     "output_type": "stream",
     "text": [
      "fold 1 train [5 6 7 8 9]\n",
      "fold 1 val [10 11 12 13 14]\n",
      "fold 2 train [ 5  6  7  8  9 10 11 12 13 14]\n",
      "fold 2 val [15 16 17 18 19]\n",
      "fold 3 train [ 5  6  7  8  9 10 11 12 13 14 15 16 17 18 19]\n",
      "fold 3 val [20 21 22 23 24]\n",
      "fold 4 train [ 5  6  7  8  9 10 11 12 13 14 15 16 17 18 19 20 21 22 23 24]\n",
      "fold 4 val [25 26 27 28 29]\n",
      "fold 5 train [ 5  6  7  8  9 10 11 12 13 14 15 16 17 18 19 20 21 22 23 24 25 26 27 28\n",
      " 29]\n",
      "fold 5 val [30 31 32 33]\n"
     ]
    }
   ],
   "source": [
    "K = 5\n",
    "\n",
    "fold_size = (train_data['date_block_num'].max() - train_data['date_block_num'].min()) // K\n",
    "\n",
    "train_indices = []\n",
    "val_indicies = []\n",
    "\n",
    "start_date_num = train_data['date_block_num'].min()\n",
    "for i in range(1, K+1):\n",
    "    train_indice = np.where(train_data['date_block_num'] < start_date_num + i*fold_size)[0]\n",
    "    print('fold', i, 'train', train_data.iloc[train_indice]['date_block_num'].unique())\n",
    "    val_indice = np.where(train_data['date_block_num'].isin(start_date_num + np.arange(i*fold_size, (i+1)*fold_size)))[0]\n",
    "    print('fold', i, 'val', train_data.iloc[val_indice]['date_block_num'].unique())\n",
    "    \n",
    "    train_indices.append(train_indice)\n",
    "    val_indicies.append(val_indice)\n",
    "Kfold = list(zip(train_indices, val_indicies))"
   ]
  },
  {
   "cell_type": "code",
   "execution_count": 67,
   "metadata": {
    "ExecuteTime": {
     "end_time": "2020-10-18T13:25:18.429031Z",
     "start_time": "2020-10-18T13:25:18.368033Z"
    }
   },
   "outputs": [
    {
     "data": {
      "text/plain": [
       "100"
      ]
     },
     "execution_count": 67,
     "metadata": {},
     "output_type": "execute_result"
    }
   ],
   "source": [
    "del train_data\n",
    "gc.collect()"
   ]
  },
  {
   "cell_type": "code",
   "execution_count": 68,
   "metadata": {
    "ExecuteTime": {
     "end_time": "2020-10-18T13:25:23.096582Z",
     "start_time": "2020-10-18T13:25:20.897033Z"
    }
   },
   "outputs": [
    {
     "name": "stderr",
     "output_type": "stream",
     "text": [
      "100%|████████████████████████████████████████████████████████████████████████████████████| 5/5 [00:01<00:00,  2.88it/s]\n"
     ]
    }
   ],
   "source": [
    "test_lookback_steps = lookback_steps - 1\n",
    "\n",
    "test_block = data['date_block_num'].max()\n",
    "test_data = data[data['date_block_num'] >= test_block - max(test_lookback_steps)]\n",
    "test_data = generate_past_features(test_data, test_lookback_steps)\n",
    "test_data = test_data[test_data['date_block_num'] == test_block]\n",
    "test_data = test_df.merge(test_data, how='left', on=['shop_id', 'item_id'])\n"
   ]
  },
  {
   "cell_type": "code",
   "execution_count": 69,
   "metadata": {
    "ExecuteTime": {
     "end_time": "2020-10-18T13:25:25.754480Z",
     "start_time": "2020-10-18T13:25:25.599482Z"
    }
   },
   "outputs": [
    {
     "data": {
      "text/html": [
       "<div>\n",
       "<style scoped>\n",
       "    .dataframe tbody tr th:only-of-type {\n",
       "        vertical-align: middle;\n",
       "    }\n",
       "\n",
       "    .dataframe tbody tr th {\n",
       "        vertical-align: top;\n",
       "    }\n",
       "\n",
       "    .dataframe thead th {\n",
       "        text-align: right;\n",
       "    }\n",
       "</style>\n",
       "<table border=\"1\" class=\"dataframe\">\n",
       "  <thead>\n",
       "    <tr style=\"text-align: right;\">\n",
       "      <th></th>\n",
       "      <th>item_category_id</th>\n",
       "      <th>item_category_id_encoded</th>\n",
       "      <th>item_id</th>\n",
       "      <th>item_id_encoded</th>\n",
       "      <th>month</th>\n",
       "      <th>month_encoded</th>\n",
       "      <th>p0_avg_item_cat_price</th>\n",
       "      <th>p0_avg_item_price</th>\n",
       "      <th>p0_avg_shop_price</th>\n",
       "      <th>p0_count</th>\n",
       "      <th>...</th>\n",
       "      <th>p4_count_by_tag</th>\n",
       "      <th>p4_monthly_count_avg_by_item</th>\n",
       "      <th>p4_monthly_count_avg_by_item_cat</th>\n",
       "      <th>p4_monthly_count_avg_by_shop</th>\n",
       "      <th>p4_monthly_count_avg_by_tag</th>\n",
       "      <th>p4_revenue</th>\n",
       "      <th>shop_id</th>\n",
       "      <th>shop_id_encoded</th>\n",
       "      <th>tag</th>\n",
       "      <th>tag_encoded</th>\n",
       "    </tr>\n",
       "  </thead>\n",
       "  <tbody>\n",
       "    <tr>\n",
       "      <th>0</th>\n",
       "      <td>84.0</td>\n",
       "      <td>0.000000</td>\n",
       "      <td>5037</td>\n",
       "      <td>0.795410</td>\n",
       "      <td>9</td>\n",
       "      <td>0.201538</td>\n",
       "      <td>410.25</td>\n",
       "      <td>1822.0000</td>\n",
       "      <td>479.75</td>\n",
       "      <td>0.0</td>\n",
       "      <td>...</td>\n",
       "      <td>240.0</td>\n",
       "      <td>0.753906</td>\n",
       "      <td>2.398438</td>\n",
       "      <td>0.122314</td>\n",
       "      <td>0.630859</td>\n",
       "      <td>1694.0</td>\n",
       "      <td>5</td>\n",
       "      <td>0.130859</td>\n",
       "      <td>634</td>\n",
       "      <td>0.873535</td>\n",
       "    </tr>\n",
       "    <tr>\n",
       "      <th>1</th>\n",
       "      <td>84.0</td>\n",
       "      <td>0.000000</td>\n",
       "      <td>5320</td>\n",
       "      <td>0.000000</td>\n",
       "      <td>9</td>\n",
       "      <td>0.201538</td>\n",
       "      <td>410.25</td>\n",
       "      <td>0.0000</td>\n",
       "      <td>479.75</td>\n",
       "      <td>0.0</td>\n",
       "      <td>...</td>\n",
       "      <td>18080.0</td>\n",
       "      <td>0.000000</td>\n",
       "      <td>0.000000</td>\n",
       "      <td>0.122314</td>\n",
       "      <td>0.154663</td>\n",
       "      <td>0.0</td>\n",
       "      <td>5</td>\n",
       "      <td>0.130859</td>\n",
       "      <td>-1</td>\n",
       "      <td>0.170532</td>\n",
       "    </tr>\n",
       "    <tr>\n",
       "      <th>2</th>\n",
       "      <td>19.0</td>\n",
       "      <td>2.699219</td>\n",
       "      <td>5233</td>\n",
       "      <td>0.341797</td>\n",
       "      <td>9</td>\n",
       "      <td>0.201538</td>\n",
       "      <td>1641.00</td>\n",
       "      <td>816.5000</td>\n",
       "      <td>479.75</td>\n",
       "      <td>1.0</td>\n",
       "      <td>...</td>\n",
       "      <td>180.0</td>\n",
       "      <td>0.856934</td>\n",
       "      <td>2.398438</td>\n",
       "      <td>0.122314</td>\n",
       "      <td>0.595215</td>\n",
       "      <td>1718.0</td>\n",
       "      <td>5</td>\n",
       "      <td>0.130859</td>\n",
       "      <td>650</td>\n",
       "      <td>0.656738</td>\n",
       "    </tr>\n",
       "    <tr>\n",
       "      <th>3</th>\n",
       "      <td>84.0</td>\n",
       "      <td>0.000000</td>\n",
       "      <td>5232</td>\n",
       "      <td>0.098022</td>\n",
       "      <td>9</td>\n",
       "      <td>0.201538</td>\n",
       "      <td>410.25</td>\n",
       "      <td>704.5000</td>\n",
       "      <td>479.75</td>\n",
       "      <td>0.0</td>\n",
       "      <td>...</td>\n",
       "      <td>0.0</td>\n",
       "      <td>0.000000</td>\n",
       "      <td>0.000000</td>\n",
       "      <td>0.122314</td>\n",
       "      <td>0.000000</td>\n",
       "      <td>0.0</td>\n",
       "      <td>5</td>\n",
       "      <td>0.130859</td>\n",
       "      <td>652</td>\n",
       "      <td>0.049011</td>\n",
       "    </tr>\n",
       "    <tr>\n",
       "      <th>4</th>\n",
       "      <td>84.0</td>\n",
       "      <td>0.000000</td>\n",
       "      <td>5268</td>\n",
       "      <td>0.000000</td>\n",
       "      <td>9</td>\n",
       "      <td>0.201538</td>\n",
       "      <td>410.25</td>\n",
       "      <td>0.0000</td>\n",
       "      <td>479.75</td>\n",
       "      <td>0.0</td>\n",
       "      <td>...</td>\n",
       "      <td>18080.0</td>\n",
       "      <td>0.000000</td>\n",
       "      <td>0.000000</td>\n",
       "      <td>0.122314</td>\n",
       "      <td>0.154663</td>\n",
       "      <td>0.0</td>\n",
       "      <td>5</td>\n",
       "      <td>0.130859</td>\n",
       "      <td>-1</td>\n",
       "      <td>0.170532</td>\n",
       "    </tr>\n",
       "    <tr>\n",
       "      <th>...</th>\n",
       "      <td>...</td>\n",
       "      <td>...</td>\n",
       "      <td>...</td>\n",
       "      <td>...</td>\n",
       "      <td>...</td>\n",
       "      <td>...</td>\n",
       "      <td>...</td>\n",
       "      <td>...</td>\n",
       "      <td>...</td>\n",
       "      <td>...</td>\n",
       "      <td>...</td>\n",
       "      <td>...</td>\n",
       "      <td>...</td>\n",
       "      <td>...</td>\n",
       "      <td>...</td>\n",
       "      <td>...</td>\n",
       "      <td>...</td>\n",
       "      <td>...</td>\n",
       "      <td>...</td>\n",
       "      <td>...</td>\n",
       "      <td>...</td>\n",
       "    </tr>\n",
       "    <tr>\n",
       "      <th>214195</th>\n",
       "      <td>55.0</td>\n",
       "      <td>1.487305</td>\n",
       "      <td>18454</td>\n",
       "      <td>0.321533</td>\n",
       "      <td>9</td>\n",
       "      <td>0.201538</td>\n",
       "      <td>315.75</td>\n",
       "      <td>159.5000</td>\n",
       "      <td>462.50</td>\n",
       "      <td>1.0</td>\n",
       "      <td>...</td>\n",
       "      <td>127.0</td>\n",
       "      <td>0.142822</td>\n",
       "      <td>0.000000</td>\n",
       "      <td>0.110779</td>\n",
       "      <td>0.346680</td>\n",
       "      <td>0.0</td>\n",
       "      <td>45</td>\n",
       "      <td>0.116394</td>\n",
       "      <td>1920</td>\n",
       "      <td>0.248657</td>\n",
       "    </tr>\n",
       "    <tr>\n",
       "      <th>214196</th>\n",
       "      <td>84.0</td>\n",
       "      <td>0.000000</td>\n",
       "      <td>16188</td>\n",
       "      <td>0.002802</td>\n",
       "      <td>9</td>\n",
       "      <td>0.201538</td>\n",
       "      <td>410.25</td>\n",
       "      <td>119.6875</td>\n",
       "      <td>462.50</td>\n",
       "      <td>0.0</td>\n",
       "      <td>...</td>\n",
       "      <td>0.0</td>\n",
       "      <td>0.000000</td>\n",
       "      <td>0.000000</td>\n",
       "      <td>0.110779</td>\n",
       "      <td>0.000000</td>\n",
       "      <td>0.0</td>\n",
       "      <td>45</td>\n",
       "      <td>0.116394</td>\n",
       "      <td>1710</td>\n",
       "      <td>0.007004</td>\n",
       "    </tr>\n",
       "    <tr>\n",
       "      <th>214197</th>\n",
       "      <td>84.0</td>\n",
       "      <td>0.000000</td>\n",
       "      <td>15757</td>\n",
       "      <td>0.209351</td>\n",
       "      <td>9</td>\n",
       "      <td>0.201538</td>\n",
       "      <td>410.25</td>\n",
       "      <td>176.2500</td>\n",
       "      <td>462.50</td>\n",
       "      <td>0.0</td>\n",
       "      <td>...</td>\n",
       "      <td>8.0</td>\n",
       "      <td>0.230103</td>\n",
       "      <td>0.000000</td>\n",
       "      <td>0.110779</td>\n",
       "      <td>0.230103</td>\n",
       "      <td>0.0</td>\n",
       "      <td>45</td>\n",
       "      <td>0.116394</td>\n",
       "      <td>1464</td>\n",
       "      <td>0.209351</td>\n",
       "    </tr>\n",
       "    <tr>\n",
       "      <th>214198</th>\n",
       "      <td>84.0</td>\n",
       "      <td>0.000000</td>\n",
       "      <td>19648</td>\n",
       "      <td>0.034302</td>\n",
       "      <td>9</td>\n",
       "      <td>0.201538</td>\n",
       "      <td>410.25</td>\n",
       "      <td>37.5625</td>\n",
       "      <td>462.50</td>\n",
       "      <td>0.0</td>\n",
       "      <td>...</td>\n",
       "      <td>18080.0</td>\n",
       "      <td>0.031738</td>\n",
       "      <td>0.000000</td>\n",
       "      <td>0.110779</td>\n",
       "      <td>0.154663</td>\n",
       "      <td>0.0</td>\n",
       "      <td>45</td>\n",
       "      <td>0.116394</td>\n",
       "      <td>-1</td>\n",
       "      <td>0.170532</td>\n",
       "    </tr>\n",
       "    <tr>\n",
       "      <th>214199</th>\n",
       "      <td>84.0</td>\n",
       "      <td>0.000000</td>\n",
       "      <td>969</td>\n",
       "      <td>0.158203</td>\n",
       "      <td>9</td>\n",
       "      <td>0.201538</td>\n",
       "      <td>410.25</td>\n",
       "      <td>420.0000</td>\n",
       "      <td>462.50</td>\n",
       "      <td>0.0</td>\n",
       "      <td>...</td>\n",
       "      <td>2.0</td>\n",
       "      <td>0.738281</td>\n",
       "      <td>0.000000</td>\n",
       "      <td>0.110779</td>\n",
       "      <td>1.007812</td>\n",
       "      <td>0.0</td>\n",
       "      <td>45</td>\n",
       "      <td>0.116394</td>\n",
       "      <td>105</td>\n",
       "      <td>0.258057</td>\n",
       "    </tr>\n",
       "  </tbody>\n",
       "</table>\n",
       "<p>214200 rows × 90 columns</p>\n",
       "</div>"
      ],
      "text/plain": [
       "        item_category_id  item_category_id_encoded  item_id  item_id_encoded  \\\n",
       "0                   84.0                  0.000000     5037         0.795410   \n",
       "1                   84.0                  0.000000     5320         0.000000   \n",
       "2                   19.0                  2.699219     5233         0.341797   \n",
       "3                   84.0                  0.000000     5232         0.098022   \n",
       "4                   84.0                  0.000000     5268         0.000000   \n",
       "...                  ...                       ...      ...              ...   \n",
       "214195              55.0                  1.487305    18454         0.321533   \n",
       "214196              84.0                  0.000000    16188         0.002802   \n",
       "214197              84.0                  0.000000    15757         0.209351   \n",
       "214198              84.0                  0.000000    19648         0.034302   \n",
       "214199              84.0                  0.000000      969         0.158203   \n",
       "\n",
       "        month  month_encoded  p0_avg_item_cat_price  p0_avg_item_price  \\\n",
       "0           9       0.201538                 410.25          1822.0000   \n",
       "1           9       0.201538                 410.25             0.0000   \n",
       "2           9       0.201538                1641.00           816.5000   \n",
       "3           9       0.201538                 410.25           704.5000   \n",
       "4           9       0.201538                 410.25             0.0000   \n",
       "...       ...            ...                    ...                ...   \n",
       "214195      9       0.201538                 315.75           159.5000   \n",
       "214196      9       0.201538                 410.25           119.6875   \n",
       "214197      9       0.201538                 410.25           176.2500   \n",
       "214198      9       0.201538                 410.25            37.5625   \n",
       "214199      9       0.201538                 410.25           420.0000   \n",
       "\n",
       "        p0_avg_shop_price  p0_count  ...  p4_count_by_tag  \\\n",
       "0                  479.75       0.0  ...            240.0   \n",
       "1                  479.75       0.0  ...          18080.0   \n",
       "2                  479.75       1.0  ...            180.0   \n",
       "3                  479.75       0.0  ...              0.0   \n",
       "4                  479.75       0.0  ...          18080.0   \n",
       "...                   ...       ...  ...              ...   \n",
       "214195             462.50       1.0  ...            127.0   \n",
       "214196             462.50       0.0  ...              0.0   \n",
       "214197             462.50       0.0  ...              8.0   \n",
       "214198             462.50       0.0  ...          18080.0   \n",
       "214199             462.50       0.0  ...              2.0   \n",
       "\n",
       "        p4_monthly_count_avg_by_item  p4_monthly_count_avg_by_item_cat  \\\n",
       "0                           0.753906                          2.398438   \n",
       "1                           0.000000                          0.000000   \n",
       "2                           0.856934                          2.398438   \n",
       "3                           0.000000                          0.000000   \n",
       "4                           0.000000                          0.000000   \n",
       "...                              ...                               ...   \n",
       "214195                      0.142822                          0.000000   \n",
       "214196                      0.000000                          0.000000   \n",
       "214197                      0.230103                          0.000000   \n",
       "214198                      0.031738                          0.000000   \n",
       "214199                      0.738281                          0.000000   \n",
       "\n",
       "        p4_monthly_count_avg_by_shop  p4_monthly_count_avg_by_tag  p4_revenue  \\\n",
       "0                           0.122314                     0.630859      1694.0   \n",
       "1                           0.122314                     0.154663         0.0   \n",
       "2                           0.122314                     0.595215      1718.0   \n",
       "3                           0.122314                     0.000000         0.0   \n",
       "4                           0.122314                     0.154663         0.0   \n",
       "...                              ...                          ...         ...   \n",
       "214195                      0.110779                     0.346680         0.0   \n",
       "214196                      0.110779                     0.000000         0.0   \n",
       "214197                      0.110779                     0.230103         0.0   \n",
       "214198                      0.110779                     0.154663         0.0   \n",
       "214199                      0.110779                     1.007812         0.0   \n",
       "\n",
       "        shop_id  shop_id_encoded   tag  tag_encoded  \n",
       "0             5         0.130859   634     0.873535  \n",
       "1             5         0.130859    -1     0.170532  \n",
       "2             5         0.130859   650     0.656738  \n",
       "3             5         0.130859   652     0.049011  \n",
       "4             5         0.130859    -1     0.170532  \n",
       "...         ...              ...   ...          ...  \n",
       "214195       45         0.116394  1920     0.248657  \n",
       "214196       45         0.116394  1710     0.007004  \n",
       "214197       45         0.116394  1464     0.209351  \n",
       "214198       45         0.116394    -1     0.170532  \n",
       "214199       45         0.116394   105     0.258057  \n",
       "\n",
       "[214200 rows x 90 columns]"
      ]
     },
     "execution_count": 69,
     "metadata": {},
     "output_type": "execute_result"
    }
   ],
   "source": [
    "feature_cols = test_data.columns.difference(\n",
    "    [target_col, 'ID', 'date_block_num', 'item_price', 'revenue',\n",
    "     'count_by_shop', 'count_by_item', 'count_by_item_cat', 'count_by_tag',\n",
    "     'count_avg_by_shop', 'count_avg_by_item', 'count_avg_by_item_cat', 'count_avg_by_tag',\n",
    "    'monthly_count_avg_by_shop', 'monthly_count_avg_by_item', 'monthly_count_avg_by_item_cat', 'monthly_count_avg_by_tag',\n",
    "     'avg_shop_price', 'avg_item_price', 'avg_item_cat_price', 'avg_tag_price',\n",
    "#      'shop_id', 'item_id', 'item_category_id', 'month', 'tag',\n",
    "#      'shop_id_encoded', 'item_id_encoded', 'item_category_id_encoded', 'month_encoded'\n",
    "    ]).sort_values().to_list()\n",
    "X_test = test_data[feature_cols]\n",
    "\n",
    "# del test_data\n",
    "gc.collect()\n",
    "X_test"
   ]
  },
  {
   "cell_type": "code",
   "execution_count": 123,
   "metadata": {
    "ExecuteTime": {
     "end_time": "2020-10-17T17:36:04.892974Z",
     "start_time": "2020-10-17T17:36:04.733976Z"
    }
   },
   "outputs": [
    {
     "data": {
      "text/plain": [
       "40"
      ]
     },
     "execution_count": 123,
     "metadata": {},
     "output_type": "execute_result"
    }
   ],
   "source": [
    "del data\n",
    "gc.collect()"
   ]
  },
  {
   "cell_type": "markdown",
   "metadata": {},
   "source": [
    "## Model Building"
   ]
  },
  {
   "cell_type": "code",
   "execution_count": 70,
   "metadata": {
    "ExecuteTime": {
     "end_time": "2020-10-18T13:25:30.611934Z",
     "start_time": "2020-10-18T13:25:30.599933Z"
    }
   },
   "outputs": [],
   "source": [
    "from sklearn.model_selection import cross_validate"
   ]
  },
  {
   "cell_type": "code",
   "execution_count": 71,
   "metadata": {
    "ExecuteTime": {
     "end_time": "2020-10-18T13:25:33.238544Z",
     "start_time": "2020-10-18T13:25:33.223546Z"
    }
   },
   "outputs": [],
   "source": [
    "metrics = {'rmse': lambda *args: mean_squared_error(*args, squared=False),\n",
    "           'r2': r2_score\n",
    "          }\n",
    "scoring = {'rmse': make_scorer(metrics['rmse'], greater_is_better=False),\n",
    "           'r2': make_scorer(metrics['r2'], greater_is_better=True)\n",
    "          }\n",
    "def evaluate(y_true, y_pred, inverse_normalize=True):\n",
    "    if inverse_normalize:\n",
    "        y_true = inverse_scaling(y_true, 'count')\n",
    "        y_pred = inverse_scaling(y_pred, 'count')\n",
    "    return {name: metric(y_true, y_pred) for name, metric in metrics.items()}\n",
    "def plot_feature_importance(feature_importances, columns):\n",
    "    return pd.Series(feature_importances, index=columns).plot.bar(figsize=(16, 8))"
   ]
  },
  {
   "cell_type": "markdown",
   "metadata": {
    "heading_collapsed": true
   },
   "source": [
    "### Random Forest"
   ]
  },
  {
   "cell_type": "code",
   "execution_count": 48,
   "metadata": {
    "ExecuteTime": {
     "end_time": "2020-09-27T06:29:36.283596Z",
     "start_time": "2020-09-27T06:29:36.251657Z"
    },
    "hidden": true
   },
   "outputs": [],
   "source": [
    "from sklearn.ensemble import RandomForestRegressor"
   ]
  },
  {
   "cell_type": "code",
   "execution_count": 56,
   "metadata": {
    "ExecuteTime": {
     "end_time": "2020-09-27T06:45:56.450136Z",
     "start_time": "2020-09-27T06:41:01.464637Z"
    },
    "hidden": true,
    "scrolled": true
   },
   "outputs": [
    {
     "name": "stdout",
     "output_type": "stream",
     "text": [
      "[Parallel(n_jobs=-1)]: Using backend ThreadingBackend with 12 concurrent workers.\n",
      "building tree 1 of 100\n",
      "building tree 2 of 100\n",
      "building tree 3 of 100\n",
      "building tree 4 of 100\n",
      "building tree 5 of 100\n",
      "building tree 6 of 100\n",
      "building tree 7 of 100\n",
      "building tree 8 of 100\n",
      "building tree 9 of 100\n",
      "building tree 10 of 100\n",
      "building tree 11 of 100\n",
      "building tree 12 of 100\n",
      "building tree 13 of 100[Parallel(n_jobs=-1)]: Done   1 tasks      | elapsed:   19.8s\n",
      "\n",
      "building tree 14 of 100[Parallel(n_jobs=-1)]: Done   2 tasks      | elapsed:   21.7s\n",
      "\n",
      "building tree 15 of 100[Parallel(n_jobs=-1)]: Done   3 tasks      | elapsed:   26.0s\n",
      "\n",
      "building tree 16 of 100[Parallel(n_jobs=-1)]: Done   4 tasks      | elapsed:   27.0s\n",
      "\n",
      "building tree 17 of 100[Parallel(n_jobs=-1)]: Done   5 tasks      | elapsed:   28.0s\n",
      "\n",
      "building tree 18 of 100[Parallel(n_jobs=-1)]: Done   6 tasks      | elapsed:   34.2s\n",
      "\n",
      "building tree 19 of 100[Parallel(n_jobs=-1)]: Done   7 tasks      | elapsed:   35.7s\n",
      "\n",
      "building tree 20 of 100[Parallel(n_jobs=-1)]: Done   8 tasks      | elapsed:   36.3s\n",
      "\n",
      "building tree 21 of 100[Parallel(n_jobs=-1)]: Done   9 tasks      | elapsed:   39.2s\n",
      "\n",
      "building tree 22 of 100[Parallel(n_jobs=-1)]: Done  10 tasks      | elapsed:   39.9s\n",
      "\n",
      "building tree 23 of 100[Parallel(n_jobs=-1)]: Done  11 tasks      | elapsed:   45.0s\n",
      "\n",
      "building tree 24 of 100[Parallel(n_jobs=-1)]: Done  12 tasks      | elapsed:   47.1s\n",
      "\n",
      "building tree 25 of 100[Parallel(n_jobs=-1)]: Done  13 tasks      | elapsed:   51.7s\n",
      "\n",
      "building tree 26 of 100[Parallel(n_jobs=-1)]: Done  14 tasks      | elapsed:   53.2s\n",
      "\n",
      "building tree 27 of 100[Parallel(n_jobs=-1)]: Done  15 tasks      | elapsed:   54.1s\n",
      "\n",
      "building tree 28 of 100[Parallel(n_jobs=-1)]: Done  16 tasks      | elapsed:   59.3s\n",
      "\n",
      "building tree 29 of 100[Parallel(n_jobs=-1)]: Done  17 tasks      | elapsed:  1.2min\n",
      "\n",
      "building tree 30 of 100[Parallel(n_jobs=-1)]: Done  18 tasks      | elapsed:  1.2min\n",
      "\n",
      "building tree 31 of 100[Parallel(n_jobs=-1)]: Done  19 tasks      | elapsed:  1.2min\n",
      "\n",
      "building tree 32 of 100[Parallel(n_jobs=-1)]: Done  20 tasks      | elapsed:  1.2min\n",
      "\n",
      "building tree 33 of 100[Parallel(n_jobs=-1)]: Done  21 tasks      | elapsed:  1.3min\n",
      "\n",
      "building tree 34 of 100[Parallel(n_jobs=-1)]: Done  22 tasks      | elapsed:  1.3min\n",
      "\n",
      "building tree 35 of 100[Parallel(n_jobs=-1)]: Done  23 tasks      | elapsed:  1.3min\n",
      "\n",
      "building tree 36 of 100[Parallel(n_jobs=-1)]: Done  24 tasks      | elapsed:  1.3min\n",
      "\n",
      "building tree 37 of 100[Parallel(n_jobs=-1)]: Done  25 tasks      | elapsed:  1.5min\n",
      "\n",
      "building tree 38 of 100[Parallel(n_jobs=-1)]: Done  26 tasks      | elapsed:  1.5min\n",
      "\n",
      "building tree 39 of 100[Parallel(n_jobs=-1)]: Done  27 tasks      | elapsed:  1.6min\n",
      "\n",
      "building tree 40 of 100[Parallel(n_jobs=-1)]: Done  28 tasks      | elapsed:  1.6min\n",
      "\n",
      "building tree 41 of 100[Parallel(n_jobs=-1)]: Done  29 tasks      | elapsed:  1.7min\n",
      "\n",
      "building tree 42 of 100[Parallel(n_jobs=-1)]: Done  30 tasks      | elapsed:  1.7min\n",
      "\n",
      "building tree 43 of 100[Parallel(n_jobs=-1)]: Done  31 tasks      | elapsed:  1.8min\n",
      "\n",
      "building tree 44 of 100[Parallel(n_jobs=-1)]: Done  32 tasks      | elapsed:  1.8min\n",
      "\n",
      "building tree 45 of 100[Parallel(n_jobs=-1)]: Done  33 tasks      | elapsed:  1.8min\n",
      "\n",
      "building tree 46 of 100[Parallel(n_jobs=-1)]: Done  34 tasks      | elapsed:  1.9min\n",
      "\n",
      "building tree 47 of 100[Parallel(n_jobs=-1)]: Done  35 tasks      | elapsed:  2.0min\n",
      "\n",
      "building tree 48 of 100[Parallel(n_jobs=-1)]: Done  36 tasks      | elapsed:  2.0min\n",
      "\n",
      "building tree 49 of 100[Parallel(n_jobs=-1)]: Done  37 tasks      | elapsed:  2.0min\n",
      "\n",
      "building tree 50 of 100[Parallel(n_jobs=-1)]: Done  38 tasks      | elapsed:  2.0min\n",
      "\n",
      "building tree 51 of 100[Parallel(n_jobs=-1)]: Done  39 tasks      | elapsed:  2.0min\n",
      "\n",
      "building tree 52 of 100[Parallel(n_jobs=-1)]: Done  40 tasks      | elapsed:  2.1min\n",
      "\n",
      "building tree 53 of 100[Parallel(n_jobs=-1)]: Done  41 tasks      | elapsed:  2.2min\n",
      "\n",
      "building tree 54 of 100[Parallel(n_jobs=-1)]: Done  42 tasks      | elapsed:  2.3min\n",
      "\n",
      "building tree 55 of 100[Parallel(n_jobs=-1)]: Done  43 tasks      | elapsed:  2.3min\n",
      "\n",
      "building tree 56 of 100[Parallel(n_jobs=-1)]: Done  44 tasks      | elapsed:  2.3min\n",
      "\n",
      "building tree 57 of 100[Parallel(n_jobs=-1)]: Done  45 tasks      | elapsed:  2.3min\n",
      "\n",
      "building tree 58 of 100[Parallel(n_jobs=-1)]: Done  46 tasks      | elapsed:  2.5min\n",
      "\n",
      "building tree 59 of 100[Parallel(n_jobs=-1)]: Done  47 tasks      | elapsed:  2.6min\n",
      "\n",
      "building tree 60 of 100[Parallel(n_jobs=-1)]: Done  48 tasks      | elapsed:  2.6min\n",
      "\n",
      "building tree 61 of 100[Parallel(n_jobs=-1)]: Done  49 tasks      | elapsed:  2.6min\n",
      "\n",
      "building tree 62 of 100[Parallel(n_jobs=-1)]: Done  50 tasks      | elapsed:  2.6min\n",
      "\n",
      "building tree 63 of 100[Parallel(n_jobs=-1)]: Done  51 tasks      | elapsed:  2.7min\n",
      "\n",
      "building tree 64 of 100[Parallel(n_jobs=-1)]: Done  52 tasks      | elapsed:  2.7min\n",
      "\n",
      "building tree 65 of 100[Parallel(n_jobs=-1)]: Done  53 tasks      | elapsed:  2.7min\n",
      "\n",
      "building tree 66 of 100[Parallel(n_jobs=-1)]: Done  54 tasks      | elapsed:  3.0min\n",
      "\n",
      "building tree 67 of 100[Parallel(n_jobs=-1)]: Done  55 tasks      | elapsed:  3.0min\n",
      "\n",
      "building tree 68 of 100[Parallel(n_jobs=-1)]: Done  56 tasks      | elapsed:  3.0min\n",
      "\n",
      "building tree 69 of 100[Parallel(n_jobs=-1)]: Done  57 tasks      | elapsed:  3.1min\n",
      "\n",
      "building tree 70 of 100[Parallel(n_jobs=-1)]: Done  58 tasks      | elapsed:  3.1min\n",
      "\n",
      "building tree 71 of 100[Parallel(n_jobs=-1)]: Done  59 tasks      | elapsed:  3.1min\n",
      "\n",
      "building tree 72 of 100[Parallel(n_jobs=-1)]: Done  60 tasks      | elapsed:  3.1min\n",
      "\n",
      "building tree 73 of 100[Parallel(n_jobs=-1)]: Done  61 tasks      | elapsed:  3.1min\n",
      "\n",
      "building tree 74 of 100[Parallel(n_jobs=-1)]: Done  62 tasks      | elapsed:  3.2min\n",
      "\n",
      "building tree 75 of 100[Parallel(n_jobs=-1)]: Done  63 tasks      | elapsed:  3.2min\n",
      "\n",
      "building tree 76 of 100[Parallel(n_jobs=-1)]: Done  64 tasks      | elapsed:  3.3min\n",
      "\n",
      "building tree 77 of 100[Parallel(n_jobs=-1)]: Done  65 tasks      | elapsed:  3.4min\n",
      "\n",
      "building tree 78 of 100[Parallel(n_jobs=-1)]: Done  66 tasks      | elapsed:  3.4min\n",
      "\n",
      "building tree 79 of 100[Parallel(n_jobs=-1)]: Done  67 tasks      | elapsed:  3.5min\n",
      "\n",
      "building tree 80 of 100[Parallel(n_jobs=-1)]: Done  68 tasks      | elapsed:  3.5min\n",
      "\n",
      "building tree 81 of 100[Parallel(n_jobs=-1)]: Done  69 tasks      | elapsed:  3.5min\n",
      "\n",
      "building tree 82 of 100[Parallel(n_jobs=-1)]: Done  70 tasks      | elapsed:  3.5min\n",
      "\n",
      "building tree 83 of 100[Parallel(n_jobs=-1)]: Done  71 tasks      | elapsed:  3.6min\n",
      "\n",
      "building tree 84 of 100[Parallel(n_jobs=-1)]: Done  72 tasks      | elapsed:  3.7min\n",
      "\n",
      "building tree 85 of 100[Parallel(n_jobs=-1)]: Done  73 tasks      | elapsed:  3.7min\n",
      "\n",
      "building tree 86 of 100[Parallel(n_jobs=-1)]: Done  74 tasks      | elapsed:  3.8min\n",
      "\n",
      "building tree 87 of 100[Parallel(n_jobs=-1)]: Done  75 tasks      | elapsed:  3.8min\n",
      "\n",
      "building tree 88 of 100[Parallel(n_jobs=-1)]: Done  76 tasks      | elapsed:  3.9min\n",
      "\n",
      "building tree 89 of 100[Parallel(n_jobs=-1)]: Done  77 tasks      | elapsed:  3.9min\n",
      "\n",
      "building tree 90 of 100\n",
      "building tree 91 of 100[Parallel(n_jobs=-1)]: Done  79 out of 100 | elapsed:  4.1min remaining:  1.1min\n",
      "\n",
      "building tree 92 of 100\n",
      "building tree 93 of 100[Parallel(n_jobs=-1)]: Done  81 out of 100 | elapsed:  4.1min remaining:   58.3s\n",
      "\n",
      "building tree 94 of 100\n",
      "building tree 95 of 100[Parallel(n_jobs=-1)]: Done  83 out of 100 | elapsed:  4.2min remaining:   51.2s\n",
      "\n",
      "building tree 96 of 100\n",
      "building tree 97 of 100[Parallel(n_jobs=-1)]: Done  85 out of 100 | elapsed:  4.3min remaining:   45.4s\n",
      "\n",
      "building tree 98 of 100\n",
      "building tree 99 of 100[Parallel(n_jobs=-1)]: Done  87 out of 100 | elapsed:  4.4min remaining:   39.6s\n",
      "\n",
      "building tree 100 of 100\n",
      "[Parallel(n_jobs=-1)]: Done  89 out of 100 | elapsed:  4.5min remaining:   33.2s\n",
      "[Parallel(n_jobs=-1)]: Done  91 out of 100 | elapsed:  4.7min remaining:   27.8s\n",
      "[Parallel(n_jobs=-1)]: Done  93 out of 100 | elapsed:  4.7min remaining:   21.1s\n",
      "[Parallel(n_jobs=-1)]: Done  95 out of 100 | elapsed:  4.8min remaining:   15.1s\n",
      "[Parallel(n_jobs=-1)]: Done  97 out of 100 | elapsed:  4.8min remaining:    8.9s\n",
      "[Parallel(n_jobs=-1)]: Done 100 out of 100 | elapsed:  4.9min finished\n"
     ]
    },
    {
     "data": {
      "text/plain": [
       "RandomForestRegressor(bootstrap=True, ccp_alpha=0.0, criterion='mse',\n",
       "                      max_depth=16, max_features='sqrt', max_leaf_nodes=None,\n",
       "                      max_samples=None, min_impurity_decrease=0.0,\n",
       "                      min_impurity_split=None, min_samples_leaf=1,\n",
       "                      min_samples_split=2, min_weight_fraction_leaf=0.0,\n",
       "                      n_estimators=100, n_jobs=-1, oob_score=False,\n",
       "                      random_state=42, verbose=100, warm_start=False)"
      ]
     },
     "execution_count": 56,
     "metadata": {},
     "output_type": "execute_result"
    }
   ],
   "source": [
    "rfr = RandomForestRegressor(n_estimators=100,\n",
    "                            max_depth=16,\n",
    "                            max_features='sqrt',\n",
    "                            min_samples_split=2,\n",
    "                            verbose=100,\n",
    "                            random_state=42,\n",
    "                            n_jobs=-1)\n",
    "rfr.fit(X_train, Y_train,\n",
    "        )"
   ]
  },
  {
   "cell_type": "code",
   "execution_count": 57,
   "metadata": {
    "ExecuteTime": {
     "end_time": "2020-09-27T06:47:12.605956Z",
     "start_time": "2020-09-27T06:47:12.386965Z"
    },
    "hidden": true,
    "scrolled": true
   },
   "outputs": [
    {
     "name": "stdout",
     "output_type": "stream",
     "text": [
      "[Parallel(n_jobs=12)]: Using backend ThreadingBackend with 12 concurrent workers.\n",
      "[Parallel(n_jobs=12)]: Done   1 tasks      | elapsed:    0.0s\n",
      "[Parallel(n_jobs=12)]: Done   2 tasks      | elapsed:    0.0s\n",
      "[Parallel(n_jobs=12)]: Done   3 tasks      | elapsed:    0.0s\n",
      "[Parallel(n_jobs=12)]: Done   4 tasks      | elapsed:    0.0s\n",
      "[Parallel(n_jobs=12)]: Done   5 tasks      | elapsed:    0.0s\n",
      "[Parallel(n_jobs=12)]: Done   6 tasks      | elapsed:    0.0s\n",
      "[Parallel(n_jobs=12)]: Done   7 tasks      | elapsed:    0.0s\n",
      "[Parallel(n_jobs=12)]: Done   8 tasks      | elapsed:    0.0s\n",
      "[Parallel(n_jobs=12)]: Done   9 tasks      | elapsed:    0.0s\n",
      "[Parallel(n_jobs=12)]: Done  10 tasks      | elapsed:    0.0s\n",
      "[Parallel(n_jobs=12)]: Done  11 tasks      | elapsed:    0.0s\n",
      "[Parallel(n_jobs=12)]: Done  12 tasks      | elapsed:    0.0s\n",
      "[Parallel(n_jobs=12)]: Done  13 tasks      | elapsed:    0.0s\n",
      "[Parallel(n_jobs=12)]: Done  14 tasks      | elapsed:    0.0s\n",
      "[Parallel(n_jobs=12)]: Done  15 tasks      | elapsed:    0.0s\n",
      "[Parallel(n_jobs=12)]: Done  16 tasks      | elapsed:    0.0s\n",
      "[Parallel(n_jobs=12)]: Done  17 tasks      | elapsed:    0.0s\n",
      "[Parallel(n_jobs=12)]: Done  18 tasks      | elapsed:    0.0s\n",
      "[Parallel(n_jobs=12)]: Done  19 tasks      | elapsed:    0.0s\n",
      "[Parallel(n_jobs=12)]: Done  20 tasks      | elapsed:    0.0s\n",
      "[Parallel(n_jobs=12)]: Done  21 tasks      | elapsed:    0.0s\n",
      "[Parallel(n_jobs=12)]: Done  22 tasks      | elapsed:    0.0s\n",
      "[Parallel(n_jobs=12)]: Done  23 tasks      | elapsed:    0.0s\n",
      "[Parallel(n_jobs=12)]: Done  24 tasks      | elapsed:    0.0s\n",
      "[Parallel(n_jobs=12)]: Done  25 tasks      | elapsed:    0.0s\n",
      "[Parallel(n_jobs=12)]: Done  26 tasks      | elapsed:    0.0s\n",
      "[Parallel(n_jobs=12)]: Done  27 tasks      | elapsed:    0.0s\n",
      "[Parallel(n_jobs=12)]: Done  28 tasks      | elapsed:    0.0s\n",
      "[Parallel(n_jobs=12)]: Done  29 tasks      | elapsed:    0.0s\n",
      "[Parallel(n_jobs=12)]: Done  30 tasks      | elapsed:    0.0s\n",
      "[Parallel(n_jobs=12)]: Done  31 tasks      | elapsed:    0.0s\n",
      "[Parallel(n_jobs=12)]: Done  32 tasks      | elapsed:    0.0s\n",
      "[Parallel(n_jobs=12)]: Done  33 tasks      | elapsed:    0.0s\n",
      "[Parallel(n_jobs=12)]: Done  34 tasks      | elapsed:    0.0s\n",
      "[Parallel(n_jobs=12)]: Done  35 tasks      | elapsed:    0.0s\n",
      "[Parallel(n_jobs=12)]: Done  36 tasks      | elapsed:    0.0s\n",
      "[Parallel(n_jobs=12)]: Done  37 tasks      | elapsed:    0.0s\n",
      "[Parallel(n_jobs=12)]: Done  38 tasks      | elapsed:    0.0s\n",
      "[Parallel(n_jobs=12)]: Done  39 tasks      | elapsed:    0.0s\n",
      "[Parallel(n_jobs=12)]: Done  40 tasks      | elapsed:    0.0s\n",
      "[Parallel(n_jobs=12)]: Done  41 tasks      | elapsed:    0.0s\n",
      "[Parallel(n_jobs=12)]: Done  42 tasks      | elapsed:    0.0s\n",
      "[Parallel(n_jobs=12)]: Done  43 tasks      | elapsed:    0.0s\n",
      "[Parallel(n_jobs=12)]: Done  44 tasks      | elapsed:    0.0s\n",
      "[Parallel(n_jobs=12)]: Done  45 tasks      | elapsed:    0.0s\n",
      "[Parallel(n_jobs=12)]: Done  46 tasks      | elapsed:    0.0s\n",
      "[Parallel(n_jobs=12)]: Done  47 tasks      | elapsed:    0.0s\n",
      "[Parallel(n_jobs=12)]: Done  48 tasks      | elapsed:    0.0s\n",
      "[Parallel(n_jobs=12)]: Done  49 tasks      | elapsed:    0.0s\n",
      "[Parallel(n_jobs=12)]: Done  50 tasks      | elapsed:    0.0s\n",
      "[Parallel(n_jobs=12)]: Done  51 tasks      | elapsed:    0.0s\n",
      "[Parallel(n_jobs=12)]: Done  52 tasks      | elapsed:    0.0s\n",
      "[Parallel(n_jobs=12)]: Done  53 tasks      | elapsed:    0.0s\n",
      "[Parallel(n_jobs=12)]: Done  54 tasks      | elapsed:    0.0s\n",
      "[Parallel(n_jobs=12)]: Done  55 tasks      | elapsed:    0.0s\n",
      "[Parallel(n_jobs=12)]: Done  56 tasks      | elapsed:    0.0s\n",
      "[Parallel(n_jobs=12)]: Done  57 tasks      | elapsed:    0.0s\n",
      "[Parallel(n_jobs=12)]: Done  58 tasks      | elapsed:    0.0s\n",
      "[Parallel(n_jobs=12)]: Done  59 tasks      | elapsed:    0.0s\n",
      "[Parallel(n_jobs=12)]: Done  60 tasks      | elapsed:    0.0s\n",
      "[Parallel(n_jobs=12)]: Done  61 tasks      | elapsed:    0.0s\n",
      "[Parallel(n_jobs=12)]: Done  62 tasks      | elapsed:    0.0s\n",
      "[Parallel(n_jobs=12)]: Done  63 tasks      | elapsed:    0.0s\n",
      "[Parallel(n_jobs=12)]: Done  64 tasks      | elapsed:    0.0s\n",
      "[Parallel(n_jobs=12)]: Done  65 tasks      | elapsed:    0.0s\n",
      "[Parallel(n_jobs=12)]: Done  66 tasks      | elapsed:    0.0s\n",
      "[Parallel(n_jobs=12)]: Done  67 tasks      | elapsed:    0.0s\n",
      "[Parallel(n_jobs=12)]: Done  68 tasks      | elapsed:    0.0s\n",
      "[Parallel(n_jobs=12)]: Done  69 tasks      | elapsed:    0.0s\n",
      "[Parallel(n_jobs=12)]: Done  70 tasks      | elapsed:    0.0s\n",
      "[Parallel(n_jobs=12)]: Done  71 tasks      | elapsed:    0.0s\n",
      "[Parallel(n_jobs=12)]: Done  72 tasks      | elapsed:    0.0s\n",
      "[Parallel(n_jobs=12)]: Done  73 tasks      | elapsed:    0.0s\n",
      "[Parallel(n_jobs=12)]: Done  74 tasks      | elapsed:    0.1s\n",
      "[Parallel(n_jobs=12)]: Done  75 tasks      | elapsed:    0.1s\n",
      "[Parallel(n_jobs=12)]: Done  76 tasks      | elapsed:    0.1s\n",
      "[Parallel(n_jobs=12)]: Done  77 tasks      | elapsed:    0.1s\n",
      "[Parallel(n_jobs=12)]: Done  79 out of 100 | elapsed:    0.1s remaining:    0.0s\n",
      "[Parallel(n_jobs=12)]: Done  81 out of 100 | elapsed:    0.1s remaining:    0.0s\n",
      "[Parallel(n_jobs=12)]: Done  83 out of 100 | elapsed:    0.1s remaining:    0.0s\n",
      "[Parallel(n_jobs=12)]: Done  85 out of 100 | elapsed:    0.1s remaining:    0.0s\n",
      "[Parallel(n_jobs=12)]: Done  87 out of 100 | elapsed:    0.1s remaining:    0.0s\n",
      "[Parallel(n_jobs=12)]: Done  89 out of 100 | elapsed:    0.1s remaining:    0.0s\n",
      "[Parallel(n_jobs=12)]: Done  91 out of 100 | elapsed:    0.1s remaining:    0.0s\n",
      "[Parallel(n_jobs=12)]: Done  93 out of 100 | elapsed:    0.1s remaining:    0.0s\n",
      "[Parallel(n_jobs=12)]: Done  95 out of 100 | elapsed:    0.1s remaining:    0.0s\n",
      "[Parallel(n_jobs=12)]: Done  97 out of 100 | elapsed:    0.1s remaining:    0.0s\n",
      "[Parallel(n_jobs=12)]: Done 100 out of 100 | elapsed:    0.1s finished\n"
     ]
    },
    {
     "data": {
      "text/plain": [
       "rmse    0.953604\n",
       "r2      0.680656\n",
       "dtype: float64"
      ]
     },
     "execution_count": 57,
     "metadata": {},
     "output_type": "execute_result"
    }
   ],
   "source": [
    "prediction = rfr.predict(X_val)\n",
    "\n",
    "result = pd.Series(evaluate(Y_val, prediction, inverse_normalize=True))\n",
    "result"
   ]
  },
  {
   "cell_type": "code",
   "execution_count": 332,
   "metadata": {
    "ExecuteTime": {
     "end_time": "2020-09-26T16:15:53.439439Z",
     "start_time": "2020-09-26T16:15:52.996612Z"
    },
    "hidden": true,
    "scrolled": true
   },
   "outputs": [
    {
     "name": "stdout",
     "output_type": "stream",
     "text": [
      "[Parallel(n_jobs=8)]: Using backend ThreadingBackend with 8 concurrent workers.\n",
      "[Parallel(n_jobs=8)]: Done   1 tasks      | elapsed:    0.0s\n",
      "[Parallel(n_jobs=8)]: Done   2 tasks      | elapsed:    0.0s\n",
      "[Parallel(n_jobs=8)]: Done   3 tasks      | elapsed:    0.0s\n",
      "[Parallel(n_jobs=8)]: Done   4 tasks      | elapsed:    0.0s\n",
      "[Parallel(n_jobs=8)]: Done   5 tasks      | elapsed:    0.0s\n",
      "[Parallel(n_jobs=8)]: Done   6 tasks      | elapsed:    0.0s\n",
      "[Parallel(n_jobs=8)]: Done   7 tasks      | elapsed:    0.0s\n",
      "[Parallel(n_jobs=8)]: Done   8 tasks      | elapsed:    0.1s\n",
      "[Parallel(n_jobs=8)]: Done   9 tasks      | elapsed:    0.1s\n",
      "[Parallel(n_jobs=8)]: Done  10 tasks      | elapsed:    0.1s\n",
      "[Parallel(n_jobs=8)]: Done  11 tasks      | elapsed:    0.1s\n",
      "[Parallel(n_jobs=8)]: Done  12 tasks      | elapsed:    0.1s\n",
      "[Parallel(n_jobs=8)]: Done  13 tasks      | elapsed:    0.1s\n",
      "[Parallel(n_jobs=8)]: Done  14 tasks      | elapsed:    0.1s\n",
      "[Parallel(n_jobs=8)]: Done  15 tasks      | elapsed:    0.1s\n",
      "[Parallel(n_jobs=8)]: Done  16 tasks      | elapsed:    0.1s\n",
      "[Parallel(n_jobs=8)]: Done  17 tasks      | elapsed:    0.1s\n",
      "[Parallel(n_jobs=8)]: Done  18 tasks      | elapsed:    0.1s\n",
      "[Parallel(n_jobs=8)]: Done  19 tasks      | elapsed:    0.1s\n",
      "[Parallel(n_jobs=8)]: Done  20 tasks      | elapsed:    0.1s\n",
      "[Parallel(n_jobs=8)]: Done  21 tasks      | elapsed:    0.1s\n",
      "[Parallel(n_jobs=8)]: Done  22 tasks      | elapsed:    0.1s\n",
      "[Parallel(n_jobs=8)]: Done  23 tasks      | elapsed:    0.1s\n",
      "[Parallel(n_jobs=8)]: Done  24 tasks      | elapsed:    0.1s\n",
      "[Parallel(n_jobs=8)]: Done  25 tasks      | elapsed:    0.1s\n",
      "[Parallel(n_jobs=8)]: Done  26 tasks      | elapsed:    0.1s\n",
      "[Parallel(n_jobs=8)]: Done  27 tasks      | elapsed:    0.1s\n",
      "[Parallel(n_jobs=8)]: Done  28 tasks      | elapsed:    0.1s\n",
      "[Parallel(n_jobs=8)]: Done  29 tasks      | elapsed:    0.1s\n",
      "[Parallel(n_jobs=8)]: Done  30 tasks      | elapsed:    0.1s\n",
      "[Parallel(n_jobs=8)]: Done  31 tasks      | elapsed:    0.1s\n",
      "[Parallel(n_jobs=8)]: Done  32 tasks      | elapsed:    0.1s\n",
      "[Parallel(n_jobs=8)]: Done  33 tasks      | elapsed:    0.1s\n",
      "[Parallel(n_jobs=8)]: Done  34 tasks      | elapsed:    0.1s\n",
      "[Parallel(n_jobs=8)]: Done  35 tasks      | elapsed:    0.1s\n",
      "[Parallel(n_jobs=8)]: Done  36 tasks      | elapsed:    0.1s\n",
      "[Parallel(n_jobs=8)]: Done  37 tasks      | elapsed:    0.2s\n",
      "[Parallel(n_jobs=8)]: Done  38 tasks      | elapsed:    0.2s\n",
      "[Parallel(n_jobs=8)]: Done  39 tasks      | elapsed:    0.2s\n",
      "[Parallel(n_jobs=8)]: Done  40 tasks      | elapsed:    0.2s\n",
      "[Parallel(n_jobs=8)]: Done  41 tasks      | elapsed:    0.2s\n",
      "[Parallel(n_jobs=8)]: Done  42 tasks      | elapsed:    0.2s\n",
      "[Parallel(n_jobs=8)]: Done  43 tasks      | elapsed:    0.2s\n",
      "[Parallel(n_jobs=8)]: Done  44 tasks      | elapsed:    0.2s\n",
      "[Parallel(n_jobs=8)]: Done  45 tasks      | elapsed:    0.2s\n",
      "[Parallel(n_jobs=8)]: Done  46 tasks      | elapsed:    0.2s\n",
      "[Parallel(n_jobs=8)]: Done  47 tasks      | elapsed:    0.2s\n",
      "[Parallel(n_jobs=8)]: Done  48 tasks      | elapsed:    0.2s\n",
      "[Parallel(n_jobs=8)]: Done  49 tasks      | elapsed:    0.2s\n",
      "[Parallel(n_jobs=8)]: Done  50 tasks      | elapsed:    0.2s\n",
      "[Parallel(n_jobs=8)]: Done  51 tasks      | elapsed:    0.2s\n",
      "[Parallel(n_jobs=8)]: Done  52 tasks      | elapsed:    0.2s\n",
      "[Parallel(n_jobs=8)]: Done  53 tasks      | elapsed:    0.2s\n",
      "[Parallel(n_jobs=8)]: Done  54 tasks      | elapsed:    0.2s\n",
      "[Parallel(n_jobs=8)]: Done  55 tasks      | elapsed:    0.2s\n",
      "[Parallel(n_jobs=8)]: Done  56 tasks      | elapsed:    0.2s\n",
      "[Parallel(n_jobs=8)]: Done  57 tasks      | elapsed:    0.2s\n",
      "[Parallel(n_jobs=8)]: Done  58 tasks      | elapsed:    0.2s\n",
      "[Parallel(n_jobs=8)]: Done  59 tasks      | elapsed:    0.2s\n",
      "[Parallel(n_jobs=8)]: Done  60 tasks      | elapsed:    0.2s\n",
      "[Parallel(n_jobs=8)]: Done  61 tasks      | elapsed:    0.2s\n",
      "[Parallel(n_jobs=8)]: Done  62 tasks      | elapsed:    0.3s\n",
      "[Parallel(n_jobs=8)]: Done  63 tasks      | elapsed:    0.3s\n",
      "[Parallel(n_jobs=8)]: Done  64 tasks      | elapsed:    0.3s\n",
      "[Parallel(n_jobs=8)]: Done  65 tasks      | elapsed:    0.3s\n",
      "[Parallel(n_jobs=8)]: Done  66 tasks      | elapsed:    0.3s\n",
      "[Parallel(n_jobs=8)]: Done  67 tasks      | elapsed:    0.3s\n",
      "[Parallel(n_jobs=8)]: Done  68 tasks      | elapsed:    0.3s\n",
      "[Parallel(n_jobs=8)]: Done  69 tasks      | elapsed:    0.3s\n",
      "[Parallel(n_jobs=8)]: Done  70 tasks      | elapsed:    0.3s\n",
      "[Parallel(n_jobs=8)]: Done  71 tasks      | elapsed:    0.3s\n",
      "[Parallel(n_jobs=8)]: Done  72 tasks      | elapsed:    0.3s\n",
      "[Parallel(n_jobs=8)]: Done  73 tasks      | elapsed:    0.3s\n",
      "[Parallel(n_jobs=8)]: Done  74 tasks      | elapsed:    0.3s\n",
      "[Parallel(n_jobs=8)]: Done  75 tasks      | elapsed:    0.3s\n",
      "[Parallel(n_jobs=8)]: Done  76 tasks      | elapsed:    0.3s\n",
      "[Parallel(n_jobs=8)]: Done  77 tasks      | elapsed:    0.3s\n",
      "[Parallel(n_jobs=8)]: Done  78 tasks      | elapsed:    0.3s\n",
      "[Parallel(n_jobs=8)]: Done  79 tasks      | elapsed:    0.3s\n",
      "[Parallel(n_jobs=8)]: Done  80 tasks      | elapsed:    0.3s\n",
      "[Parallel(n_jobs=8)]: Done  81 tasks      | elapsed:    0.3s\n",
      "[Parallel(n_jobs=8)]: Done  82 tasks      | elapsed:    0.3s\n",
      "[Parallel(n_jobs=8)]: Done  83 tasks      | elapsed:    0.3s\n",
      "[Parallel(n_jobs=8)]: Done  84 tasks      | elapsed:    0.3s\n",
      "[Parallel(n_jobs=8)]: Done  85 tasks      | elapsed:    0.3s\n",
      "[Parallel(n_jobs=8)]: Done  87 out of 100 | elapsed:    0.4s remaining:    0.1s\n",
      "[Parallel(n_jobs=8)]: Done  89 out of 100 | elapsed:    0.4s remaining:    0.0s\n",
      "[Parallel(n_jobs=8)]: Done  91 out of 100 | elapsed:    0.4s remaining:    0.0s\n",
      "[Parallel(n_jobs=8)]: Done  93 out of 100 | elapsed:    0.4s remaining:    0.0s\n",
      "[Parallel(n_jobs=8)]: Done  95 out of 100 | elapsed:    0.4s remaining:    0.0s\n",
      "[Parallel(n_jobs=8)]: Done  97 out of 100 | elapsed:    0.4s remaining:    0.0s\n",
      "[Parallel(n_jobs=8)]: Done 100 out of 100 | elapsed:    0.4s finished\n"
     ]
    },
    {
     "data": {
      "text/plain": [
       "rmse    0.626516\n",
       "r2      0.669533\n",
       "dtype: float64"
      ]
     },
     "execution_count": 332,
     "metadata": {},
     "output_type": "execute_result"
    }
   ],
   "source": [
    "prediction = rfr.predict(X_val)\n",
    "\n",
    "result = pd.Series(evaluate(Y_val, prediction, inverse_normalize=True))\n",
    "result"
   ]
  },
  {
   "cell_type": "code",
   "execution_count": 177,
   "metadata": {
    "ExecuteTime": {
     "end_time": "2020-09-20T16:13:07.725501Z",
     "start_time": "2020-09-20T16:13:07.205726Z"
    },
    "hidden": true,
    "scrolled": true
   },
   "outputs": [
    {
     "name": "stdout",
     "output_type": "stream",
     "text": [
      "[Parallel(n_jobs=8)]: Using backend ThreadingBackend with 8 concurrent workers.\n",
      "[Parallel(n_jobs=8)]: Done   1 tasks      | elapsed:    0.0s\n",
      "[Parallel(n_jobs=8)]: Done   2 tasks      | elapsed:    0.0s\n",
      "[Parallel(n_jobs=8)]: Done   3 tasks      | elapsed:    0.0s\n",
      "[Parallel(n_jobs=8)]: Done   4 tasks      | elapsed:    0.0s\n",
      "[Parallel(n_jobs=8)]: Done   5 tasks      | elapsed:    0.0s\n",
      "[Parallel(n_jobs=8)]: Done   6 tasks      | elapsed:    0.0s\n",
      "[Parallel(n_jobs=8)]: Done   7 tasks      | elapsed:    0.0s\n",
      "[Parallel(n_jobs=8)]: Done   8 tasks      | elapsed:    0.1s\n",
      "[Parallel(n_jobs=8)]: Done   9 tasks      | elapsed:    0.1s\n",
      "[Parallel(n_jobs=8)]: Done  10 tasks      | elapsed:    0.1s\n",
      "[Parallel(n_jobs=8)]: Done  11 tasks      | elapsed:    0.1s\n",
      "[Parallel(n_jobs=8)]: Done  12 tasks      | elapsed:    0.1s\n",
      "[Parallel(n_jobs=8)]: Done  13 tasks      | elapsed:    0.1s\n",
      "[Parallel(n_jobs=8)]: Done  14 tasks      | elapsed:    0.1s\n",
      "[Parallel(n_jobs=8)]: Done  15 tasks      | elapsed:    0.1s\n",
      "[Parallel(n_jobs=8)]: Done  16 tasks      | elapsed:    0.1s\n",
      "[Parallel(n_jobs=8)]: Done  17 tasks      | elapsed:    0.1s\n",
      "[Parallel(n_jobs=8)]: Done  18 tasks      | elapsed:    0.1s\n",
      "[Parallel(n_jobs=8)]: Done  19 tasks      | elapsed:    0.1s\n",
      "[Parallel(n_jobs=8)]: Done  20 tasks      | elapsed:    0.1s\n",
      "[Parallel(n_jobs=8)]: Done  21 tasks      | elapsed:    0.1s\n",
      "[Parallel(n_jobs=8)]: Done  22 tasks      | elapsed:    0.1s\n",
      "[Parallel(n_jobs=8)]: Done  23 tasks      | elapsed:    0.1s\n",
      "[Parallel(n_jobs=8)]: Done  24 tasks      | elapsed:    0.1s\n",
      "[Parallel(n_jobs=8)]: Done  25 tasks      | elapsed:    0.1s\n",
      "[Parallel(n_jobs=8)]: Done  26 tasks      | elapsed:    0.1s\n",
      "[Parallel(n_jobs=8)]: Done  27 tasks      | elapsed:    0.1s\n",
      "[Parallel(n_jobs=8)]: Done  28 tasks      | elapsed:    0.1s\n",
      "[Parallel(n_jobs=8)]: Done  29 tasks      | elapsed:    0.1s\n",
      "[Parallel(n_jobs=8)]: Done  30 tasks      | elapsed:    0.2s\n",
      "[Parallel(n_jobs=8)]: Done  31 tasks      | elapsed:    0.2s\n",
      "[Parallel(n_jobs=8)]: Done  32 tasks      | elapsed:    0.2s\n",
      "[Parallel(n_jobs=8)]: Done  33 tasks      | elapsed:    0.2s\n",
      "[Parallel(n_jobs=8)]: Done  34 tasks      | elapsed:    0.2s\n",
      "[Parallel(n_jobs=8)]: Done  35 tasks      | elapsed:    0.2s\n",
      "[Parallel(n_jobs=8)]: Done  36 tasks      | elapsed:    0.2s\n",
      "[Parallel(n_jobs=8)]: Done  37 tasks      | elapsed:    0.2s\n",
      "[Parallel(n_jobs=8)]: Done  38 tasks      | elapsed:    0.2s\n",
      "[Parallel(n_jobs=8)]: Done  39 tasks      | elapsed:    0.2s\n",
      "[Parallel(n_jobs=8)]: Done  40 tasks      | elapsed:    0.2s\n",
      "[Parallel(n_jobs=8)]: Done  41 tasks      | elapsed:    0.2s\n",
      "[Parallel(n_jobs=8)]: Done  42 tasks      | elapsed:    0.2s\n",
      "[Parallel(n_jobs=8)]: Done  43 tasks      | elapsed:    0.2s\n",
      "[Parallel(n_jobs=8)]: Done  44 tasks      | elapsed:    0.2s\n",
      "[Parallel(n_jobs=8)]: Done  45 tasks      | elapsed:    0.2s\n",
      "[Parallel(n_jobs=8)]: Done  46 tasks      | elapsed:    0.2s\n",
      "[Parallel(n_jobs=8)]: Done  47 tasks      | elapsed:    0.2s\n",
      "[Parallel(n_jobs=8)]: Done  48 tasks      | elapsed:    0.2s\n",
      "[Parallel(n_jobs=8)]: Done  49 tasks      | elapsed:    0.2s\n",
      "[Parallel(n_jobs=8)]: Done  50 tasks      | elapsed:    0.3s\n",
      "[Parallel(n_jobs=8)]: Done  51 tasks      | elapsed:    0.3s\n",
      "[Parallel(n_jobs=8)]: Done  52 tasks      | elapsed:    0.3s\n",
      "[Parallel(n_jobs=8)]: Done  53 tasks      | elapsed:    0.3s\n",
      "[Parallel(n_jobs=8)]: Done  54 tasks      | elapsed:    0.3s\n",
      "[Parallel(n_jobs=8)]: Done  55 tasks      | elapsed:    0.3s\n",
      "[Parallel(n_jobs=8)]: Done  56 tasks      | elapsed:    0.3s\n",
      "[Parallel(n_jobs=8)]: Done  57 tasks      | elapsed:    0.3s\n",
      "[Parallel(n_jobs=8)]: Done  58 tasks      | elapsed:    0.3s\n",
      "[Parallel(n_jobs=8)]: Done  59 tasks      | elapsed:    0.3s\n",
      "[Parallel(n_jobs=8)]: Done  60 tasks      | elapsed:    0.3s\n",
      "[Parallel(n_jobs=8)]: Done  61 tasks      | elapsed:    0.3s\n",
      "[Parallel(n_jobs=8)]: Done  62 tasks      | elapsed:    0.3s\n",
      "[Parallel(n_jobs=8)]: Done  63 tasks      | elapsed:    0.3s\n",
      "[Parallel(n_jobs=8)]: Done  64 tasks      | elapsed:    0.3s\n",
      "[Parallel(n_jobs=8)]: Done  65 tasks      | elapsed:    0.3s\n",
      "[Parallel(n_jobs=8)]: Done  66 tasks      | elapsed:    0.3s\n",
      "[Parallel(n_jobs=8)]: Done  67 tasks      | elapsed:    0.3s\n",
      "[Parallel(n_jobs=8)]: Done  68 tasks      | elapsed:    0.3s\n",
      "[Parallel(n_jobs=8)]: Done  69 tasks      | elapsed:    0.3s\n",
      "[Parallel(n_jobs=8)]: Done  70 tasks      | elapsed:    0.3s\n",
      "[Parallel(n_jobs=8)]: Done  71 tasks      | elapsed:    0.4s\n",
      "[Parallel(n_jobs=8)]: Done  72 tasks      | elapsed:    0.4s\n",
      "[Parallel(n_jobs=8)]: Done  73 tasks      | elapsed:    0.4s\n",
      "[Parallel(n_jobs=8)]: Done  74 tasks      | elapsed:    0.4s\n",
      "[Parallel(n_jobs=8)]: Done  75 tasks      | elapsed:    0.4s\n",
      "[Parallel(n_jobs=8)]: Done  76 tasks      | elapsed:    0.4s\n",
      "[Parallel(n_jobs=8)]: Done  77 tasks      | elapsed:    0.4s\n",
      "[Parallel(n_jobs=8)]: Done  78 tasks      | elapsed:    0.4s\n",
      "[Parallel(n_jobs=8)]: Done  79 tasks      | elapsed:    0.4s\n",
      "[Parallel(n_jobs=8)]: Done  80 tasks      | elapsed:    0.4s\n",
      "[Parallel(n_jobs=8)]: Done  81 tasks      | elapsed:    0.4s\n",
      "[Parallel(n_jobs=8)]: Done  82 tasks      | elapsed:    0.4s\n",
      "[Parallel(n_jobs=8)]: Done  83 tasks      | elapsed:    0.4s\n",
      "[Parallel(n_jobs=8)]: Done  84 tasks      | elapsed:    0.4s\n",
      "[Parallel(n_jobs=8)]: Done  85 tasks      | elapsed:    0.4s\n",
      "[Parallel(n_jobs=8)]: Done  87 out of 100 | elapsed:    0.4s remaining:    0.1s\n",
      "[Parallel(n_jobs=8)]: Done  89 out of 100 | elapsed:    0.4s remaining:    0.1s\n",
      "[Parallel(n_jobs=8)]: Done  91 out of 100 | elapsed:    0.4s remaining:    0.0s\n",
      "[Parallel(n_jobs=8)]: Done  93 out of 100 | elapsed:    0.4s remaining:    0.0s\n",
      "[Parallel(n_jobs=8)]: Done  95 out of 100 | elapsed:    0.5s remaining:    0.0s\n",
      "[Parallel(n_jobs=8)]: Done  97 out of 100 | elapsed:    0.5s remaining:    0.0s\n",
      "[Parallel(n_jobs=8)]: Done 100 out of 100 | elapsed:    0.5s finished\n"
     ]
    },
    {
     "data": {
      "text/plain": [
       "rmse    0.620860\n",
       "r2      0.675473\n",
       "dtype: float64"
      ]
     },
     "execution_count": 177,
     "metadata": {},
     "output_type": "execute_result"
    }
   ],
   "source": [
    "prediction = rfr.predict(X_val)\n",
    "\n",
    "result = pd.Series(evaluate(Y_val, prediction))\n",
    "result"
   ]
  },
  {
   "cell_type": "code",
   "execution_count": 281,
   "metadata": {
    "ExecuteTime": {
     "end_time": "2020-09-26T15:24:49.999027Z",
     "start_time": "2020-09-26T15:24:47.929946Z"
    },
    "hidden": true
   },
   "outputs": [
    {
     "data": {
      "text/plain": [
       "<AxesSubplot:>"
      ]
     },
     "execution_count": 281,
     "metadata": {},
     "output_type": "execute_result"
    },
    {
     "data": {
      "image/png": "[encoded data removed]",
      "text/plain": [
       "<Figure size 1152x576 with 1 Axes>"
      ]
     },
     "metadata": {
      "needs_background": "light"
     },
     "output_type": "display_data"
    }
   ],
   "source": [
    "\n",
    "plot_feature_importance(rfr.feature_importances_, X_train.columns)"
   ]
  },
  {
   "cell_type": "code",
   "execution_count": 58,
   "metadata": {
    "ExecuteTime": {
     "end_time": "2020-09-27T06:47:45.942834Z",
     "start_time": "2020-09-27T06:47:45.383285Z"
    },
    "hidden": true
   },
   "outputs": [
    {
     "data": {
      "text/plain": [
       "<matplotlib.axes._subplots.AxesSubplot at 0x127b2da3970>"
      ]
     },
     "execution_count": 58,
     "metadata": {},
     "output_type": "execute_result"
    },
    {
     "data": {
      "image/png": "[encoded data removed]",
      "text/plain": [
       "<Figure size 1152x576 with 1 Axes>"
      ]
     },
     "metadata": {
      "needs_background": "light"
     },
     "output_type": "display_data"
    }
   ],
   "source": [
    "\n",
    "plot_feature_importance(rfr.feature_importances_, X_train.columns)"
   ]
  },
  {
   "cell_type": "code",
   "execution_count": 92,
   "metadata": {
    "ExecuteTime": {
     "end_time": "2020-09-19T18:04:56.048382Z",
     "start_time": "2020-09-19T18:04:56.044871Z"
    },
    "hidden": true
   },
   "outputs": [],
   "source": [
    "rfr = RandomForestRegressor(n_estimators=100,\n",
    "                            max_depth=16,\n",
    "                            max_features='sqrt',\n",
    "                            min_samples_split=2,\n",
    "                            verbose=100,\n",
    "                            random_state=42,)\n"
   ]
  },
  {
   "cell_type": "code",
   "execution_count": 209,
   "metadata": {
    "ExecuteTime": {
     "end_time": "2020-09-20T10:23:50.378758Z",
     "start_time": "2020-09-20T10:11:15.372527Z"
    },
    "hidden": true
   },
   "outputs": [
    {
     "name": "stderr",
     "output_type": "stream",
     "text": [
      "[Parallel(n_jobs=-1)]: Using backend LokyBackend with 8 concurrent workers.\n",
      "[Parallel(n_jobs=-1)]: Done   2 out of   5 | elapsed: 11.7min remaining: 17.5min\n",
      "[Parallel(n_jobs=-1)]: Done   3 out of   5 | elapsed: 12.6min remaining:  8.4min\n",
      "[Parallel(n_jobs=-1)]: Done   5 out of   5 | elapsed: 12.6min remaining:    0.0s\n"
     ]
    },
    {
     "ename": "KeyboardInterrupt",
     "evalue": "",
     "output_type": "error",
     "traceback": [
      "\u001b[0;31m---------------------------------------------------------------------------\u001b[0m",
      "\u001b[0;31mKeyboardInterrupt\u001b[0m                         Traceback (most recent call last)",
      "\u001b[0;32m/usr/local/lib/python3.8/site-packages/joblib/parallel.py\u001b[0m in \u001b[0;36mretrieve\u001b[0;34m(self)\u001b[0m\n\u001b[1;32m    920\u001b[0m                 \u001b[0;32mif\u001b[0m \u001b[0mgetattr\u001b[0m\u001b[0;34m(\u001b[0m\u001b[0mself\u001b[0m\u001b[0;34m.\u001b[0m\u001b[0m_backend\u001b[0m\u001b[0;34m,\u001b[0m \u001b[0;34m'supports_timeout'\u001b[0m\u001b[0;34m,\u001b[0m \u001b[0;32mFalse\u001b[0m\u001b[0;34m)\u001b[0m\u001b[0;34m:\u001b[0m\u001b[0;34m\u001b[0m\u001b[0;34m\u001b[0m\u001b[0m\n\u001b[0;32m--> 921\u001b[0;31m                     \u001b[0mself\u001b[0m\u001b[0;34m.\u001b[0m\u001b[0m_output\u001b[0m\u001b[0;34m.\u001b[0m\u001b[0mextend\u001b[0m\u001b[0;34m(\u001b[0m\u001b[0mjob\u001b[0m\u001b[0;34m.\u001b[0m\u001b[0mget\u001b[0m\u001b[0;34m(\u001b[0m\u001b[0mtimeout\u001b[0m\u001b[0;34m=\u001b[0m\u001b[0mself\u001b[0m\u001b[0;34m.\u001b[0m\u001b[0mtimeout\u001b[0m\u001b[0;34m)\u001b[0m\u001b[0;34m)\u001b[0m\u001b[0;34m\u001b[0m\u001b[0;34m\u001b[0m\u001b[0m\n\u001b[0m\u001b[1;32m    922\u001b[0m                 \u001b[0;32melse\u001b[0m\u001b[0;34m:\u001b[0m\u001b[0;34m\u001b[0m\u001b[0;34m\u001b[0m\u001b[0m\n",
      "\u001b[0;32m/usr/local/lib/python3.8/site-packages/joblib/_parallel_backends.py\u001b[0m in \u001b[0;36mwrap_future_result\u001b[0;34m(future, timeout)\u001b[0m\n\u001b[1;32m    541\u001b[0m         \u001b[0;32mtry\u001b[0m\u001b[0;34m:\u001b[0m\u001b[0;34m\u001b[0m\u001b[0;34m\u001b[0m\u001b[0m\n\u001b[0;32m--> 542\u001b[0;31m             \u001b[0;32mreturn\u001b[0m \u001b[0mfuture\u001b[0m\u001b[0;34m.\u001b[0m\u001b[0mresult\u001b[0m\u001b[0;34m(\u001b[0m\u001b[0mtimeout\u001b[0m\u001b[0;34m=\u001b[0m\u001b[0mtimeout\u001b[0m\u001b[0;34m)\u001b[0m\u001b[0;34m\u001b[0m\u001b[0;34m\u001b[0m\u001b[0m\n\u001b[0m\u001b[1;32m    543\u001b[0m         \u001b[0;32mexcept\u001b[0m \u001b[0mCfTimeoutError\u001b[0m \u001b[0;32mas\u001b[0m \u001b[0me\u001b[0m\u001b[0;34m:\u001b[0m\u001b[0;34m\u001b[0m\u001b[0;34m\u001b[0m\u001b[0m\n",
      "\u001b[0;32m/usr/local/Cellar/python@3.8/3.8.5/Frameworks/Python.framework/Versions/3.8/lib/python3.8/concurrent/futures/_base.py\u001b[0m in \u001b[0;36mresult\u001b[0;34m(self, timeout)\u001b[0m\n\u001b[1;32m    433\u001b[0m \u001b[0;34m\u001b[0m\u001b[0m\n\u001b[0;32m--> 434\u001b[0;31m             \u001b[0mself\u001b[0m\u001b[0;34m.\u001b[0m\u001b[0m_condition\u001b[0m\u001b[0;34m.\u001b[0m\u001b[0mwait\u001b[0m\u001b[0;34m(\u001b[0m\u001b[0mtimeout\u001b[0m\u001b[0;34m)\u001b[0m\u001b[0;34m\u001b[0m\u001b[0;34m\u001b[0m\u001b[0m\n\u001b[0m\u001b[1;32m    435\u001b[0m \u001b[0;34m\u001b[0m\u001b[0m\n",
      "\u001b[0;32m/usr/local/Cellar/python@3.8/3.8.5/Frameworks/Python.framework/Versions/3.8/lib/python3.8/threading.py\u001b[0m in \u001b[0;36mwait\u001b[0;34m(self, timeout)\u001b[0m\n\u001b[1;32m    301\u001b[0m             \u001b[0;32mif\u001b[0m \u001b[0mtimeout\u001b[0m \u001b[0;32mis\u001b[0m \u001b[0;32mNone\u001b[0m\u001b[0;34m:\u001b[0m\u001b[0;34m\u001b[0m\u001b[0;34m\u001b[0m\u001b[0m\n\u001b[0;32m--> 302\u001b[0;31m                 \u001b[0mwaiter\u001b[0m\u001b[0;34m.\u001b[0m\u001b[0macquire\u001b[0m\u001b[0;34m(\u001b[0m\u001b[0;34m)\u001b[0m\u001b[0;34m\u001b[0m\u001b[0;34m\u001b[0m\u001b[0m\n\u001b[0m\u001b[1;32m    303\u001b[0m                 \u001b[0mgotit\u001b[0m \u001b[0;34m=\u001b[0m \u001b[0;32mTrue\u001b[0m\u001b[0;34m\u001b[0m\u001b[0;34m\u001b[0m\u001b[0m\n",
      "\u001b[0;31mKeyboardInterrupt\u001b[0m: ",
      "\nDuring handling of the above exception, another exception occurred:\n",
      "\u001b[0;31mKeyboardInterrupt\u001b[0m                         Traceback (most recent call last)",
      "\u001b[0;32m<ipython-input-209-42ea1861d868>\u001b[0m in \u001b[0;36m<module>\u001b[0;34m\u001b[0m\n\u001b[0;32m----> 1\u001b[0;31m \u001b[0mresults\u001b[0m \u001b[0;34m=\u001b[0m \u001b[0mcross_validate\u001b[0m\u001b[0;34m(\u001b[0m\u001b[0mrfr\u001b[0m\u001b[0;34m,\u001b[0m \u001b[0mX\u001b[0m\u001b[0;34m,\u001b[0m \u001b[0mY\u001b[0m\u001b[0;34m,\u001b[0m \u001b[0mcv\u001b[0m\u001b[0;34m=\u001b[0m\u001b[0mKfold\u001b[0m\u001b[0;34m,\u001b[0m \u001b[0mscoring\u001b[0m\u001b[0;34m=\u001b[0m\u001b[0mscoring\u001b[0m\u001b[0;34m,\u001b[0m \u001b[0mn_jobs\u001b[0m\u001b[0;34m=\u001b[0m\u001b[0;34m-\u001b[0m\u001b[0;36m1\u001b[0m\u001b[0;34m,\u001b[0m \u001b[0mverbose\u001b[0m\u001b[0;34m=\u001b[0m\u001b[0;36m10\u001b[0m\u001b[0;34m)\u001b[0m\u001b[0;34m\u001b[0m\u001b[0;34m\u001b[0m\u001b[0m\n\u001b[0m",
      "\u001b[0;32m/usr/local/lib/python3.8/site-packages/sklearn/utils/validation.py\u001b[0m in \u001b[0;36minner_f\u001b[0;34m(*args, **kwargs)\u001b[0m\n\u001b[1;32m     71\u001b[0m                           FutureWarning)\n\u001b[1;32m     72\u001b[0m         \u001b[0mkwargs\u001b[0m\u001b[0;34m.\u001b[0m\u001b[0mupdate\u001b[0m\u001b[0;34m(\u001b[0m\u001b[0;34m{\u001b[0m\u001b[0mk\u001b[0m\u001b[0;34m:\u001b[0m \u001b[0marg\u001b[0m \u001b[0;32mfor\u001b[0m \u001b[0mk\u001b[0m\u001b[0;34m,\u001b[0m \u001b[0marg\u001b[0m \u001b[0;32min\u001b[0m \u001b[0mzip\u001b[0m\u001b[0;34m(\u001b[0m\u001b[0msig\u001b[0m\u001b[0;34m.\u001b[0m\u001b[0mparameters\u001b[0m\u001b[0;34m,\u001b[0m \u001b[0margs\u001b[0m\u001b[0;34m)\u001b[0m\u001b[0;34m}\u001b[0m\u001b[0;34m)\u001b[0m\u001b[0;34m\u001b[0m\u001b[0;34m\u001b[0m\u001b[0m\n\u001b[0;32m---> 73\u001b[0;31m         \u001b[0;32mreturn\u001b[0m \u001b[0mf\u001b[0m\u001b[0;34m(\u001b[0m\u001b[0;34m**\u001b[0m\u001b[0mkwargs\u001b[0m\u001b[0;34m)\u001b[0m\u001b[0;34m\u001b[0m\u001b[0;34m\u001b[0m\u001b[0m\n\u001b[0m\u001b[1;32m     74\u001b[0m     \u001b[0;32mreturn\u001b[0m \u001b[0minner_f\u001b[0m\u001b[0;34m\u001b[0m\u001b[0;34m\u001b[0m\u001b[0m\n\u001b[1;32m     75\u001b[0m \u001b[0;34m\u001b[0m\u001b[0m\n",
      "\u001b[0;32m/usr/local/lib/python3.8/site-packages/sklearn/model_selection/_validation.py\u001b[0m in \u001b[0;36mcross_validate\u001b[0;34m(estimator, X, y, groups, scoring, cv, n_jobs, verbose, fit_params, pre_dispatch, return_train_score, return_estimator, error_score)\u001b[0m\n\u001b[1;32m    240\u001b[0m     parallel = Parallel(n_jobs=n_jobs, verbose=verbose,\n\u001b[1;32m    241\u001b[0m                         pre_dispatch=pre_dispatch)\n\u001b[0;32m--> 242\u001b[0;31m     scores = parallel(\n\u001b[0m\u001b[1;32m    243\u001b[0m         delayed(_fit_and_score)(\n\u001b[1;32m    244\u001b[0m             \u001b[0mclone\u001b[0m\u001b[0;34m(\u001b[0m\u001b[0mestimator\u001b[0m\u001b[0;34m)\u001b[0m\u001b[0;34m,\u001b[0m \u001b[0mX\u001b[0m\u001b[0;34m,\u001b[0m \u001b[0my\u001b[0m\u001b[0;34m,\u001b[0m \u001b[0mscorers\u001b[0m\u001b[0;34m,\u001b[0m \u001b[0mtrain\u001b[0m\u001b[0;34m,\u001b[0m \u001b[0mtest\u001b[0m\u001b[0;34m,\u001b[0m \u001b[0mverbose\u001b[0m\u001b[0;34m,\u001b[0m \u001b[0;32mNone\u001b[0m\u001b[0;34m,\u001b[0m\u001b[0;34m\u001b[0m\u001b[0;34m\u001b[0m\u001b[0m\n",
      "\u001b[0;32m/usr/local/lib/python3.8/site-packages/joblib/parallel.py\u001b[0m in \u001b[0;36m__call__\u001b[0;34m(self, iterable)\u001b[0m\n\u001b[1;32m   1040\u001b[0m \u001b[0;34m\u001b[0m\u001b[0m\n\u001b[1;32m   1041\u001b[0m             \u001b[0;32mwith\u001b[0m \u001b[0mself\u001b[0m\u001b[0;34m.\u001b[0m\u001b[0m_backend\u001b[0m\u001b[0;34m.\u001b[0m\u001b[0mretrieval_context\u001b[0m\u001b[0;34m(\u001b[0m\u001b[0;34m)\u001b[0m\u001b[0;34m:\u001b[0m\u001b[0;34m\u001b[0m\u001b[0;34m\u001b[0m\u001b[0m\n\u001b[0;32m-> 1042\u001b[0;31m                 \u001b[0mself\u001b[0m\u001b[0;34m.\u001b[0m\u001b[0mretrieve\u001b[0m\u001b[0;34m(\u001b[0m\u001b[0;34m)\u001b[0m\u001b[0;34m\u001b[0m\u001b[0;34m\u001b[0m\u001b[0m\n\u001b[0m\u001b[1;32m   1043\u001b[0m             \u001b[0;31m# Make sure that we get a last message telling us we are done\u001b[0m\u001b[0;34m\u001b[0m\u001b[0;34m\u001b[0m\u001b[0;34m\u001b[0m\u001b[0m\n\u001b[1;32m   1044\u001b[0m             \u001b[0melapsed_time\u001b[0m \u001b[0;34m=\u001b[0m \u001b[0mtime\u001b[0m\u001b[0;34m.\u001b[0m\u001b[0mtime\u001b[0m\u001b[0;34m(\u001b[0m\u001b[0;34m)\u001b[0m \u001b[0;34m-\u001b[0m \u001b[0mself\u001b[0m\u001b[0;34m.\u001b[0m\u001b[0m_start_time\u001b[0m\u001b[0;34m\u001b[0m\u001b[0;34m\u001b[0m\u001b[0m\n",
      "\u001b[0;32m/usr/local/lib/python3.8/site-packages/joblib/parallel.py\u001b[0m in \u001b[0;36mretrieve\u001b[0;34m(self)\u001b[0m\n\u001b[1;32m    941\u001b[0m                     \u001b[0;31m# scheduling.\u001b[0m\u001b[0;34m\u001b[0m\u001b[0;34m\u001b[0m\u001b[0;34m\u001b[0m\u001b[0m\n\u001b[1;32m    942\u001b[0m                     \u001b[0mensure_ready\u001b[0m \u001b[0;34m=\u001b[0m \u001b[0mself\u001b[0m\u001b[0;34m.\u001b[0m\u001b[0m_managed_backend\u001b[0m\u001b[0;34m\u001b[0m\u001b[0;34m\u001b[0m\u001b[0m\n\u001b[0;32m--> 943\u001b[0;31m                     \u001b[0mbackend\u001b[0m\u001b[0;34m.\u001b[0m\u001b[0mabort_everything\u001b[0m\u001b[0;34m(\u001b[0m\u001b[0mensure_ready\u001b[0m\u001b[0;34m=\u001b[0m\u001b[0mensure_ready\u001b[0m\u001b[0;34m)\u001b[0m\u001b[0;34m\u001b[0m\u001b[0;34m\u001b[0m\u001b[0m\n\u001b[0m\u001b[1;32m    944\u001b[0m                 \u001b[0;32mraise\u001b[0m\u001b[0;34m\u001b[0m\u001b[0;34m\u001b[0m\u001b[0m\n\u001b[1;32m    945\u001b[0m \u001b[0;34m\u001b[0m\u001b[0m\n",
      "\u001b[0;32m/usr/local/lib/python3.8/site-packages/joblib/_parallel_backends.py\u001b[0m in \u001b[0;36mabort_everything\u001b[0;34m(self, ensure_ready)\u001b[0m\n\u001b[1;32m    559\u001b[0m         \"\"\"Shutdown the workers and restart a new one with the same parameters\n\u001b[1;32m    560\u001b[0m         \"\"\"\n\u001b[0;32m--> 561\u001b[0;31m         \u001b[0mself\u001b[0m\u001b[0;34m.\u001b[0m\u001b[0m_workers\u001b[0m\u001b[0;34m.\u001b[0m\u001b[0mterminate\u001b[0m\u001b[0;34m(\u001b[0m\u001b[0mkill_workers\u001b[0m\u001b[0;34m=\u001b[0m\u001b[0;32mTrue\u001b[0m\u001b[0;34m)\u001b[0m\u001b[0;34m\u001b[0m\u001b[0;34m\u001b[0m\u001b[0m\n\u001b[0m\u001b[1;32m    562\u001b[0m         \u001b[0mself\u001b[0m\u001b[0;34m.\u001b[0m\u001b[0m_workers\u001b[0m \u001b[0;34m=\u001b[0m \u001b[0;32mNone\u001b[0m\u001b[0;34m\u001b[0m\u001b[0;34m\u001b[0m\u001b[0m\n\u001b[1;32m    563\u001b[0m \u001b[0;34m\u001b[0m\u001b[0m\n",
      "\u001b[0;32m/usr/local/lib/python3.8/site-packages/joblib/executor.py\u001b[0m in \u001b[0;36mterminate\u001b[0;34m(self, kill_workers)\u001b[0m\n\u001b[1;32m     72\u001b[0m \u001b[0;34m\u001b[0m\u001b[0m\n\u001b[1;32m     73\u001b[0m     \u001b[0;32mdef\u001b[0m \u001b[0mterminate\u001b[0m\u001b[0;34m(\u001b[0m\u001b[0mself\u001b[0m\u001b[0;34m,\u001b[0m \u001b[0mkill_workers\u001b[0m\u001b[0;34m=\u001b[0m\u001b[0;32mFalse\u001b[0m\u001b[0;34m)\u001b[0m\u001b[0;34m:\u001b[0m\u001b[0;34m\u001b[0m\u001b[0;34m\u001b[0m\u001b[0m\n\u001b[0;32m---> 74\u001b[0;31m         \u001b[0mself\u001b[0m\u001b[0;34m.\u001b[0m\u001b[0mshutdown\u001b[0m\u001b[0;34m(\u001b[0m\u001b[0mkill_workers\u001b[0m\u001b[0;34m=\u001b[0m\u001b[0mkill_workers\u001b[0m\u001b[0;34m)\u001b[0m\u001b[0;34m\u001b[0m\u001b[0;34m\u001b[0m\u001b[0m\n\u001b[0m\u001b[1;32m     75\u001b[0m         \u001b[0;32mif\u001b[0m \u001b[0mkill_workers\u001b[0m\u001b[0;34m:\u001b[0m\u001b[0;34m\u001b[0m\u001b[0;34m\u001b[0m\u001b[0m\n\u001b[1;32m     76\u001b[0m             \u001b[0;31m# When workers are killed in such a brutal manner, they cannot\u001b[0m\u001b[0;34m\u001b[0m\u001b[0;34m\u001b[0m\u001b[0;34m\u001b[0m\u001b[0m\n",
      "\u001b[0;32m/usr/local/lib/python3.8/site-packages/joblib/externals/loky/process_executor.py\u001b[0m in \u001b[0;36mshutdown\u001b[0;34m(self, wait, kill_workers)\u001b[0m\n\u001b[1;32m   1169\u001b[0m \u001b[0;34m\u001b[0m\u001b[0m\n\u001b[1;32m   1170\u001b[0m         \u001b[0;32mif\u001b[0m \u001b[0mexecutor_manager_thread\u001b[0m \u001b[0;32mis\u001b[0m \u001b[0;32mnot\u001b[0m \u001b[0;32mNone\u001b[0m \u001b[0;32mand\u001b[0m \u001b[0mwait\u001b[0m\u001b[0;34m:\u001b[0m\u001b[0;34m\u001b[0m\u001b[0;34m\u001b[0m\u001b[0m\n\u001b[0;32m-> 1171\u001b[0;31m             \u001b[0mexecutor_manager_thread\u001b[0m\u001b[0;34m.\u001b[0m\u001b[0mjoin\u001b[0m\u001b[0;34m(\u001b[0m\u001b[0;34m)\u001b[0m\u001b[0;34m\u001b[0m\u001b[0;34m\u001b[0m\u001b[0m\n\u001b[0m\u001b[1;32m   1172\u001b[0m \u001b[0;34m\u001b[0m\u001b[0m\n\u001b[1;32m   1173\u001b[0m         \u001b[0;31m# To reduce the risk of opening too many files, remove references to\u001b[0m\u001b[0;34m\u001b[0m\u001b[0;34m\u001b[0m\u001b[0;34m\u001b[0m\u001b[0m\n",
      "\u001b[0;32m/usr/local/Cellar/python@3.8/3.8.5/Frameworks/Python.framework/Versions/3.8/lib/python3.8/threading.py\u001b[0m in \u001b[0;36mjoin\u001b[0;34m(self, timeout)\u001b[0m\n\u001b[1;32m   1009\u001b[0m \u001b[0;34m\u001b[0m\u001b[0m\n\u001b[1;32m   1010\u001b[0m         \u001b[0;32mif\u001b[0m \u001b[0mtimeout\u001b[0m \u001b[0;32mis\u001b[0m \u001b[0;32mNone\u001b[0m\u001b[0;34m:\u001b[0m\u001b[0;34m\u001b[0m\u001b[0;34m\u001b[0m\u001b[0m\n\u001b[0;32m-> 1011\u001b[0;31m             \u001b[0mself\u001b[0m\u001b[0;34m.\u001b[0m\u001b[0m_wait_for_tstate_lock\u001b[0m\u001b[0;34m(\u001b[0m\u001b[0;34m)\u001b[0m\u001b[0;34m\u001b[0m\u001b[0;34m\u001b[0m\u001b[0m\n\u001b[0m\u001b[1;32m   1012\u001b[0m         \u001b[0;32melse\u001b[0m\u001b[0;34m:\u001b[0m\u001b[0;34m\u001b[0m\u001b[0;34m\u001b[0m\u001b[0m\n\u001b[1;32m   1013\u001b[0m             \u001b[0;31m# the behavior of a negative timeout isn't documented, but\u001b[0m\u001b[0;34m\u001b[0m\u001b[0;34m\u001b[0m\u001b[0;34m\u001b[0m\u001b[0m\n",
      "\u001b[0;32m/usr/local/Cellar/python@3.8/3.8.5/Frameworks/Python.framework/Versions/3.8/lib/python3.8/threading.py\u001b[0m in \u001b[0;36m_wait_for_tstate_lock\u001b[0;34m(self, block, timeout)\u001b[0m\n\u001b[1;32m   1025\u001b[0m         \u001b[0;32mif\u001b[0m \u001b[0mlock\u001b[0m \u001b[0;32mis\u001b[0m \u001b[0;32mNone\u001b[0m\u001b[0;34m:\u001b[0m  \u001b[0;31m# already determined that the C code is done\u001b[0m\u001b[0;34m\u001b[0m\u001b[0;34m\u001b[0m\u001b[0m\n\u001b[1;32m   1026\u001b[0m             \u001b[0;32massert\u001b[0m \u001b[0mself\u001b[0m\u001b[0;34m.\u001b[0m\u001b[0m_is_stopped\u001b[0m\u001b[0;34m\u001b[0m\u001b[0;34m\u001b[0m\u001b[0m\n\u001b[0;32m-> 1027\u001b[0;31m         \u001b[0;32melif\u001b[0m \u001b[0mlock\u001b[0m\u001b[0;34m.\u001b[0m\u001b[0macquire\u001b[0m\u001b[0;34m(\u001b[0m\u001b[0mblock\u001b[0m\u001b[0;34m,\u001b[0m \u001b[0mtimeout\u001b[0m\u001b[0;34m)\u001b[0m\u001b[0;34m:\u001b[0m\u001b[0;34m\u001b[0m\u001b[0;34m\u001b[0m\u001b[0m\n\u001b[0m\u001b[1;32m   1028\u001b[0m             \u001b[0mlock\u001b[0m\u001b[0;34m.\u001b[0m\u001b[0mrelease\u001b[0m\u001b[0;34m(\u001b[0m\u001b[0;34m)\u001b[0m\u001b[0;34m\u001b[0m\u001b[0;34m\u001b[0m\u001b[0m\n\u001b[1;32m   1029\u001b[0m             \u001b[0mself\u001b[0m\u001b[0;34m.\u001b[0m\u001b[0m_stop\u001b[0m\u001b[0;34m(\u001b[0m\u001b[0;34m)\u001b[0m\u001b[0;34m\u001b[0m\u001b[0;34m\u001b[0m\u001b[0m\n",
      "\u001b[0;31mKeyboardInterrupt\u001b[0m: "
     ]
    }
   ],
   "source": [
    "results = cross_validate(rfr, X, Y, cv=Kfold, scoring=scoring, n_jobs=4, verbose=10)"
   ]
  },
  {
   "cell_type": "code",
   "execution_count": 100,
   "metadata": {
    "ExecuteTime": {
     "end_time": "2020-09-19T19:06:39.468810Z",
     "start_time": "2020-09-19T19:06:39.461357Z"
    },
    "hidden": true
   },
   "outputs": [
    {
     "data": {
      "text/html": [
       "<div>\n",
       "<style scoped>\n",
       "    .dataframe tbody tr th:only-of-type {\n",
       "        vertical-align: middle;\n",
       "    }\n",
       "\n",
       "    .dataframe tbody tr th {\n",
       "        vertical-align: top;\n",
       "    }\n",
       "\n",
       "    .dataframe thead th {\n",
       "        text-align: right;\n",
       "    }\n",
       "</style>\n",
       "<table border=\"1\" class=\"dataframe\">\n",
       "  <thead>\n",
       "    <tr style=\"text-align: right;\">\n",
       "      <th></th>\n",
       "      <th>rmse</th>\n",
       "      <th>r2</th>\n",
       "    </tr>\n",
       "  </thead>\n",
       "  <tbody>\n",
       "    <tr>\n",
       "      <th>0</th>\n",
       "      <td>0.686071</td>\n",
       "      <td>0.642683</td>\n",
       "    </tr>\n",
       "    <tr>\n",
       "      <th>1</th>\n",
       "      <td>0.540569</td>\n",
       "      <td>0.707159</td>\n",
       "    </tr>\n",
       "    <tr>\n",
       "      <th>2</th>\n",
       "      <td>0.695557</td>\n",
       "      <td>0.709193</td>\n",
       "    </tr>\n",
       "    <tr>\n",
       "      <th>3</th>\n",
       "      <td>0.593505</td>\n",
       "      <td>0.677166</td>\n",
       "    </tr>\n",
       "    <tr>\n",
       "      <th>4</th>\n",
       "      <td>0.582306</td>\n",
       "      <td>0.691719</td>\n",
       "    </tr>\n",
       "  </tbody>\n",
       "</table>\n",
       "</div>"
      ],
      "text/plain": [
       "       rmse        r2\n",
       "0  0.686071  0.642683\n",
       "1  0.540569  0.707159\n",
       "2  0.695557  0.709193\n",
       "3  0.593505  0.677166\n",
       "4  0.582306  0.691719"
      ]
     },
     "execution_count": 100,
     "metadata": {},
     "output_type": "execute_result"
    }
   ],
   "source": [
    "pd.DataFrame(scores)"
   ]
  },
  {
   "cell_type": "markdown",
   "metadata": {
    "heading_collapsed": true
   },
   "source": [
    "### Random forest hyperparam search"
   ]
  },
  {
   "cell_type": "code",
   "execution_count": 154,
   "metadata": {
    "ExecuteTime": {
     "end_time": "2020-09-17T18:08:41.645532Z",
     "start_time": "2020-09-17T18:08:41.632532Z"
    },
    "hidden": true
   },
   "outputs": [],
   "source": [
    "from sklearn.model_selection import RandomizedSearchCV"
   ]
  },
  {
   "cell_type": "code",
   "execution_count": 157,
   "metadata": {
    "ExecuteTime": {
     "end_time": "2020-09-17T19:05:45.589048Z",
     "start_time": "2020-09-17T18:19:23.865620Z"
    },
    "hidden": true
   },
   "outputs": [
    {
     "name": "stdout",
     "output_type": "stream",
     "text": [
      "Fitting 2 folds for each of 20 candidates, totalling 40 fits\n"
     ]
    },
    {
     "name": "stderr",
     "output_type": "stream",
     "text": [
      "[Parallel(n_jobs=-1)]: Using backend LokyBackend with 12 concurrent workers.\n",
      "[Parallel(n_jobs=-1)]: Done   1 tasks      | elapsed:   26.4s\n",
      "[Parallel(n_jobs=-1)]: Done   8 tasks      | elapsed:  1.7min\n",
      "[Parallel(n_jobs=-1)]: Done  17 tasks      | elapsed:  5.9min\n",
      "[Parallel(n_jobs=-1)]: Done  22 out of  40 | elapsed: 10.0min remaining:  8.2min\n",
      "[Parallel(n_jobs=-1)]: Done  27 out of  40 | elapsed: 13.9min remaining:  6.7min\n",
      "[Parallel(n_jobs=-1)]: Done  32 out of  40 | elapsed: 17.5min remaining:  4.4min\n",
      "[Parallel(n_jobs=-1)]: Done  37 out of  40 | elapsed: 26.2min remaining:  2.1min\n",
      "[Parallel(n_jobs=-1)]: Done  40 out of  40 | elapsed: 31.3min finished\n"
     ]
    },
    {
     "data": {
      "text/plain": [
       "RandomizedSearchCV(cv=2, error_score=nan,\n",
       "                   estimator=RandomForestRegressor(bootstrap=True,\n",
       "                                                   ccp_alpha=0.0,\n",
       "                                                   criterion='mse',\n",
       "                                                   max_depth=None,\n",
       "                                                   max_features='auto',\n",
       "                                                   max_leaf_nodes=None,\n",
       "                                                   max_samples=None,\n",
       "                                                   min_impurity_decrease=0.0,\n",
       "                                                   min_impurity_split=None,\n",
       "                                                   min_samples_leaf=1,\n",
       "                                                   min_samples_split=2,\n",
       "                                                   min_weight_fraction_leaf=0.0,\n",
       "                                                   n_estimators=100,\n",
       "                                                   n_jobs=None, oob_score=False,\n",
       "                                                   random_state=42, verbose=0,\n",
       "                                                   warm_start=False),\n",
       "                   iid='deprecated', n_iter=20, n_jobs=-1,\n",
       "                   param_distributions={'max_depth': [16, 50, 100, 200, 500],\n",
       "                                        'max_features': ['sqrt', 0.2, 0.5, 1],\n",
       "                                        'max_samples': [1, 0.5, 0.2, 0.03125],\n",
       "                                        'min_samples_split': [2, 100, 1000],\n",
       "                                        'n_estimators': [32, 50, 100, 200,\n",
       "                                                         500]},\n",
       "                   pre_dispatch='2*n_jobs', random_state=101, refit=True,\n",
       "                   return_train_score=False, scoring=None, verbose=10)"
      ]
     },
     "execution_count": 157,
     "metadata": {},
     "output_type": "execute_result"
    }
   ],
   "source": [
    "param_space = {\n",
    "    'n_estimators': [32, 50, 100, 200, 500],\n",
    "    'max_depth': [16, 50, 100, 200, 500],\n",
    "    'max_features': ['sqrt', 0.2, 0.5, 1],\n",
    "    'min_samples_split': [2, 100, 1000, ],\n",
    "    'max_samples': [1, 0.5, 0.2, 1/32]\n",
    "    \n",
    "}\n",
    "\n",
    "rs = RandomizedSearchCV(RandomForestRegressor(random_state=42),\n",
    "                        param_distributions=param_space,\n",
    "                        verbose=10,\n",
    "                        cv=2,\n",
    "                        n_iter=20,\n",
    "                        random_state= 101,\n",
    "                       n_jobs=-1)\n",
    "rs.fit(X_train, Y_train)"
   ]
  },
  {
   "cell_type": "code",
   "execution_count": 161,
   "metadata": {
    "ExecuteTime": {
     "end_time": "2020-09-18T03:27:45.287490Z",
     "start_time": "2020-09-18T03:27:45.262488Z"
    },
    "hidden": true
   },
   "outputs": [
    {
     "data": {
      "text/html": [
       "<div>\n",
       "<style scoped>\n",
       "    .dataframe tbody tr th:only-of-type {\n",
       "        vertical-align: middle;\n",
       "    }\n",
       "\n",
       "    .dataframe tbody tr th {\n",
       "        vertical-align: top;\n",
       "    }\n",
       "\n",
       "    .dataframe thead th {\n",
       "        text-align: right;\n",
       "    }\n",
       "</style>\n",
       "<table border=\"1\" class=\"dataframe\">\n",
       "  <thead>\n",
       "    <tr style=\"text-align: right;\">\n",
       "      <th></th>\n",
       "      <th>mean_fit_time</th>\n",
       "      <th>std_fit_time</th>\n",
       "      <th>mean_score_time</th>\n",
       "      <th>std_score_time</th>\n",
       "      <th>param_n_estimators</th>\n",
       "      <th>param_min_samples_split</th>\n",
       "      <th>param_max_samples</th>\n",
       "      <th>param_max_features</th>\n",
       "      <th>param_max_depth</th>\n",
       "      <th>params</th>\n",
       "      <th>split0_test_score</th>\n",
       "      <th>split1_test_score</th>\n",
       "      <th>mean_test_score</th>\n",
       "      <th>std_test_score</th>\n",
       "      <th>rank_test_score</th>\n",
       "    </tr>\n",
       "  </thead>\n",
       "  <tbody>\n",
       "    <tr>\n",
       "      <th>16</th>\n",
       "      <td>806.843132</td>\n",
       "      <td>15.826852</td>\n",
       "      <td>13.982409</td>\n",
       "      <td>2.281501</td>\n",
       "      <td>100</td>\n",
       "      <td>2</td>\n",
       "      <td>0.5</td>\n",
       "      <td>0.5</td>\n",
       "      <td>16</td>\n",
       "      <td>{'n_estimators': 100, 'min_samples_split': 2, ...</td>\n",
       "      <td>0.744811</td>\n",
       "      <td>0.716152</td>\n",
       "      <td>0.730482</td>\n",
       "      <td>0.014329</td>\n",
       "      <td>1</td>\n",
       "    </tr>\n",
       "    <tr>\n",
       "      <th>1</th>\n",
       "      <td>683.165437</td>\n",
       "      <td>25.975372</td>\n",
       "      <td>113.086752</td>\n",
       "      <td>10.637078</td>\n",
       "      <td>200</td>\n",
       "      <td>2</td>\n",
       "      <td>0.2</td>\n",
       "      <td>sqrt</td>\n",
       "      <td>200</td>\n",
       "      <td>{'n_estimators': 200, 'min_samples_split': 2, ...</td>\n",
       "      <td>0.725273</td>\n",
       "      <td>0.699259</td>\n",
       "      <td>0.712266</td>\n",
       "      <td>0.013007</td>\n",
       "      <td>2</td>\n",
       "    </tr>\n",
       "    <tr>\n",
       "      <th>19</th>\n",
       "      <td>935.684581</td>\n",
       "      <td>25.248265</td>\n",
       "      <td>59.881281</td>\n",
       "      <td>7.285805</td>\n",
       "      <td>500</td>\n",
       "      <td>100</td>\n",
       "      <td>0.2</td>\n",
       "      <td>0.2</td>\n",
       "      <td>16</td>\n",
       "      <td>{'n_estimators': 500, 'min_samples_split': 100...</td>\n",
       "      <td>0.726455</td>\n",
       "      <td>0.697856</td>\n",
       "      <td>0.712155</td>\n",
       "      <td>0.014299</td>\n",
       "      <td>3</td>\n",
       "    </tr>\n",
       "    <tr>\n",
       "      <th>0</th>\n",
       "      <td>1222.029005</td>\n",
       "      <td>51.409223</td>\n",
       "      <td>53.722193</td>\n",
       "      <td>2.687793</td>\n",
       "      <td>200</td>\n",
       "      <td>100</td>\n",
       "      <td>0.5</td>\n",
       "      <td>sqrt</td>\n",
       "      <td>500</td>\n",
       "      <td>{'n_estimators': 200, 'min_samples_split': 100...</td>\n",
       "      <td>0.708576</td>\n",
       "      <td>0.696385</td>\n",
       "      <td>0.702480</td>\n",
       "      <td>0.006096</td>\n",
       "      <td>4</td>\n",
       "    </tr>\n",
       "    <tr>\n",
       "      <th>8</th>\n",
       "      <td>1526.964338</td>\n",
       "      <td>32.744299</td>\n",
       "      <td>16.401848</td>\n",
       "      <td>2.107711</td>\n",
       "      <td>200</td>\n",
       "      <td>1000</td>\n",
       "      <td>0.5</td>\n",
       "      <td>0.5</td>\n",
       "      <td>200</td>\n",
       "      <td>{'n_estimators': 200, 'min_samples_split': 100...</td>\n",
       "      <td>0.717510</td>\n",
       "      <td>0.685622</td>\n",
       "      <td>0.701566</td>\n",
       "      <td>0.015944</td>\n",
       "      <td>5</td>\n",
       "    </tr>\n",
       "    <tr>\n",
       "      <th>10</th>\n",
       "      <td>89.413093</td>\n",
       "      <td>2.205078</td>\n",
       "      <td>18.424968</td>\n",
       "      <td>2.221946</td>\n",
       "      <td>100</td>\n",
       "      <td>100</td>\n",
       "      <td>0.03125</td>\n",
       "      <td>0.5</td>\n",
       "      <td>16</td>\n",
       "      <td>{'n_estimators': 100, 'min_samples_split': 100...</td>\n",
       "      <td>0.716219</td>\n",
       "      <td>0.682213</td>\n",
       "      <td>0.699216</td>\n",
       "      <td>0.017003</td>\n",
       "      <td>6</td>\n",
       "    </tr>\n",
       "    <tr>\n",
       "      <th>15</th>\n",
       "      <td>360.526446</td>\n",
       "      <td>36.563944</td>\n",
       "      <td>25.972757</td>\n",
       "      <td>4.428227</td>\n",
       "      <td>50</td>\n",
       "      <td>2</td>\n",
       "      <td>0.5</td>\n",
       "      <td>sqrt</td>\n",
       "      <td>50</td>\n",
       "      <td>{'n_estimators': 50, 'min_samples_split': 2, '...</td>\n",
       "      <td>0.723778</td>\n",
       "      <td>0.673631</td>\n",
       "      <td>0.698705</td>\n",
       "      <td>0.025074</td>\n",
       "      <td>7</td>\n",
       "    </tr>\n",
       "    <tr>\n",
       "      <th>11</th>\n",
       "      <td>143.395227</td>\n",
       "      <td>2.414826</td>\n",
       "      <td>5.597195</td>\n",
       "      <td>0.189515</td>\n",
       "      <td>32</td>\n",
       "      <td>1000</td>\n",
       "      <td>0.2</td>\n",
       "      <td>0.5</td>\n",
       "      <td>100</td>\n",
       "      <td>{'n_estimators': 32, 'min_samples_split': 1000...</td>\n",
       "      <td>0.702689</td>\n",
       "      <td>0.663473</td>\n",
       "      <td>0.683081</td>\n",
       "      <td>0.019608</td>\n",
       "      <td>8</td>\n",
       "    </tr>\n",
       "    <tr>\n",
       "      <th>14</th>\n",
       "      <td>210.065117</td>\n",
       "      <td>1.784000</td>\n",
       "      <td>8.534146</td>\n",
       "      <td>0.787572</td>\n",
       "      <td>32</td>\n",
       "      <td>1000</td>\n",
       "      <td>0.5</td>\n",
       "      <td>0.2</td>\n",
       "      <td>200</td>\n",
       "      <td>{'n_estimators': 32, 'min_samples_split': 1000...</td>\n",
       "      <td>0.701340</td>\n",
       "      <td>0.661766</td>\n",
       "      <td>0.681553</td>\n",
       "      <td>0.019787</td>\n",
       "      <td>9</td>\n",
       "    </tr>\n",
       "    <tr>\n",
       "      <th>18</th>\n",
       "      <td>29.495528</td>\n",
       "      <td>1.416485</td>\n",
       "      <td>15.190345</td>\n",
       "      <td>0.875552</td>\n",
       "      <td>50</td>\n",
       "      <td>100</td>\n",
       "      <td>0.03125</td>\n",
       "      <td>sqrt</td>\n",
       "      <td>50</td>\n",
       "      <td>{'n_estimators': 50, 'min_samples_split': 100,...</td>\n",
       "      <td>0.647065</td>\n",
       "      <td>0.640476</td>\n",
       "      <td>0.643770</td>\n",
       "      <td>0.003294</td>\n",
       "      <td>10</td>\n",
       "    </tr>\n",
       "    <tr>\n",
       "      <th>4</th>\n",
       "      <td>43.583104</td>\n",
       "      <td>5.309030</td>\n",
       "      <td>6.361866</td>\n",
       "      <td>0.349159</td>\n",
       "      <td>32</td>\n",
       "      <td>1000</td>\n",
       "      <td>0.03125</td>\n",
       "      <td>sqrt</td>\n",
       "      <td>50</td>\n",
       "      <td>{'n_estimators': 32, 'min_samples_split': 1000...</td>\n",
       "      <td>0.581395</td>\n",
       "      <td>0.533342</td>\n",
       "      <td>0.557369</td>\n",
       "      <td>0.024027</td>\n",
       "      <td>11</td>\n",
       "    </tr>\n",
       "    <tr>\n",
       "      <th>7</th>\n",
       "      <td>21.639971</td>\n",
       "      <td>1.308531</td>\n",
       "      <td>34.494959</td>\n",
       "      <td>0.185532</td>\n",
       "      <td>50</td>\n",
       "      <td>2</td>\n",
       "      <td>0.03125</td>\n",
       "      <td>1</td>\n",
       "      <td>500</td>\n",
       "      <td>{'n_estimators': 50, 'min_samples_split': 2, '...</td>\n",
       "      <td>0.487955</td>\n",
       "      <td>0.507128</td>\n",
       "      <td>0.497541</td>\n",
       "      <td>0.009586</td>\n",
       "      <td>12</td>\n",
       "    </tr>\n",
       "    <tr>\n",
       "      <th>9</th>\n",
       "      <td>806.168673</td>\n",
       "      <td>34.952445</td>\n",
       "      <td>109.005349</td>\n",
       "      <td>2.035587</td>\n",
       "      <td>200</td>\n",
       "      <td>100</td>\n",
       "      <td>0.5</td>\n",
       "      <td>1</td>\n",
       "      <td>500</td>\n",
       "      <td>{'n_estimators': 200, 'min_samples_split': 100...</td>\n",
       "      <td>0.445773</td>\n",
       "      <td>0.469054</td>\n",
       "      <td>0.457413</td>\n",
       "      <td>0.011640</td>\n",
       "      <td>13</td>\n",
       "    </tr>\n",
       "    <tr>\n",
       "      <th>3</th>\n",
       "      <td>207.332803</td>\n",
       "      <td>1.645578</td>\n",
       "      <td>63.526791</td>\n",
       "      <td>1.041578</td>\n",
       "      <td>100</td>\n",
       "      <td>100</td>\n",
       "      <td>0.2</td>\n",
       "      <td>1</td>\n",
       "      <td>200</td>\n",
       "      <td>{'n_estimators': 100, 'min_samples_split': 100...</td>\n",
       "      <td>0.378385</td>\n",
       "      <td>0.465080</td>\n",
       "      <td>0.421732</td>\n",
       "      <td>0.043347</td>\n",
       "      <td>14</td>\n",
       "    </tr>\n",
       "    <tr>\n",
       "      <th>2</th>\n",
       "      <td>159.919840</td>\n",
       "      <td>3.811347</td>\n",
       "      <td>31.321220</td>\n",
       "      <td>0.353992</td>\n",
       "      <td>32</td>\n",
       "      <td>2</td>\n",
       "      <td>0.5</td>\n",
       "      <td>1</td>\n",
       "      <td>50</td>\n",
       "      <td>{'n_estimators': 32, 'min_samples_split': 2, '...</td>\n",
       "      <td>0.345100</td>\n",
       "      <td>0.416865</td>\n",
       "      <td>0.380982</td>\n",
       "      <td>0.035883</td>\n",
       "      <td>15</td>\n",
       "    </tr>\n",
       "    <tr>\n",
       "      <th>6</th>\n",
       "      <td>12.079536</td>\n",
       "      <td>0.318504</td>\n",
       "      <td>4.904532</td>\n",
       "      <td>0.355502</td>\n",
       "      <td>100</td>\n",
       "      <td>2</td>\n",
       "      <td>1</td>\n",
       "      <td>sqrt</td>\n",
       "      <td>16</td>\n",
       "      <td>{'n_estimators': 100, 'min_samples_split': 2, ...</td>\n",
       "      <td>-0.003875</td>\n",
       "      <td>-0.000257</td>\n",
       "      <td>-0.002066</td>\n",
       "      <td>0.001809</td>\n",
       "      <td>16</td>\n",
       "    </tr>\n",
       "    <tr>\n",
       "      <th>12</th>\n",
       "      <td>19.590514</td>\n",
       "      <td>1.856210</td>\n",
       "      <td>12.159888</td>\n",
       "      <td>6.308738</td>\n",
       "      <td>100</td>\n",
       "      <td>1000</td>\n",
       "      <td>1</td>\n",
       "      <td>0.5</td>\n",
       "      <td>16</td>\n",
       "      <td>{'n_estimators': 100, 'min_samples_split': 100...</td>\n",
       "      <td>-0.003875</td>\n",
       "      <td>-0.000257</td>\n",
       "      <td>-0.002066</td>\n",
       "      <td>0.001809</td>\n",
       "      <td>16</td>\n",
       "    </tr>\n",
       "    <tr>\n",
       "      <th>13</th>\n",
       "      <td>23.955646</td>\n",
       "      <td>6.492173</td>\n",
       "      <td>8.673800</td>\n",
       "      <td>0.112962</td>\n",
       "      <td>200</td>\n",
       "      <td>2</td>\n",
       "      <td>1</td>\n",
       "      <td>0.2</td>\n",
       "      <td>100</td>\n",
       "      <td>{'n_estimators': 200, 'min_samples_split': 2, ...</td>\n",
       "      <td>-0.008441</td>\n",
       "      <td>-0.000553</td>\n",
       "      <td>-0.004497</td>\n",
       "      <td>0.003944</td>\n",
       "      <td>18</td>\n",
       "    </tr>\n",
       "    <tr>\n",
       "      <th>17</th>\n",
       "      <td>32.397514</td>\n",
       "      <td>0.018961</td>\n",
       "      <td>22.897868</td>\n",
       "      <td>0.371442</td>\n",
       "      <td>500</td>\n",
       "      <td>1000</td>\n",
       "      <td>1</td>\n",
       "      <td>1</td>\n",
       "      <td>200</td>\n",
       "      <td>{'n_estimators': 500, 'min_samples_split': 100...</td>\n",
       "      <td>-0.000283</td>\n",
       "      <td>-0.009638</td>\n",
       "      <td>-0.004961</td>\n",
       "      <td>0.004677</td>\n",
       "      <td>19</td>\n",
       "    </tr>\n",
       "    <tr>\n",
       "      <th>5</th>\n",
       "      <td>22.308529</td>\n",
       "      <td>2.950500</td>\n",
       "      <td>3.564518</td>\n",
       "      <td>0.690483</td>\n",
       "      <td>50</td>\n",
       "      <td>2</td>\n",
       "      <td>1</td>\n",
       "      <td>1</td>\n",
       "      <td>200</td>\n",
       "      <td>{'n_estimators': 50, 'min_samples_split': 2, '...</td>\n",
       "      <td>-0.000280</td>\n",
       "      <td>-0.019322</td>\n",
       "      <td>-0.009801</td>\n",
       "      <td>0.009521</td>\n",
       "      <td>20</td>\n",
       "    </tr>\n",
       "  </tbody>\n",
       "</table>\n",
       "</div>"
      ],
      "text/plain": [
       "    mean_fit_time  std_fit_time  mean_score_time  std_score_time  \\\n",
       "16     806.843132     15.826852        13.982409        2.281501   \n",
       "1      683.165437     25.975372       113.086752       10.637078   \n",
       "19     935.684581     25.248265        59.881281        7.285805   \n",
       "0     1222.029005     51.409223        53.722193        2.687793   \n",
       "8     1526.964338     32.744299        16.401848        2.107711   \n",
       "10      89.413093      2.205078        18.424968        2.221946   \n",
       "15     360.526446     36.563944        25.972757        4.428227   \n",
       "11     143.395227      2.414826         5.597195        0.189515   \n",
       "14     210.065117      1.784000         8.534146        0.787572   \n",
       "18      29.495528      1.416485        15.190345        0.875552   \n",
       "4       43.583104      5.309030         6.361866        0.349159   \n",
       "7       21.639971      1.308531        34.494959        0.185532   \n",
       "9      806.168673     34.952445       109.005349        2.035587   \n",
       "3      207.332803      1.645578        63.526791        1.041578   \n",
       "2      159.919840      3.811347        31.321220        0.353992   \n",
       "6       12.079536      0.318504         4.904532        0.355502   \n",
       "12      19.590514      1.856210        12.159888        6.308738   \n",
       "13      23.955646      6.492173         8.673800        0.112962   \n",
       "17      32.397514      0.018961        22.897868        0.371442   \n",
       "5       22.308529      2.950500         3.564518        0.690483   \n",
       "\n",
       "   param_n_estimators param_min_samples_split param_max_samples  \\\n",
       "16                100                       2               0.5   \n",
       "1                 200                       2               0.2   \n",
       "19                500                     100               0.2   \n",
       "0                 200                     100               0.5   \n",
       "8                 200                    1000               0.5   \n",
       "10                100                     100           0.03125   \n",
       "15                 50                       2               0.5   \n",
       "11                 32                    1000               0.2   \n",
       "14                 32                    1000               0.5   \n",
       "18                 50                     100           0.03125   \n",
       "4                  32                    1000           0.03125   \n",
       "7                  50                       2           0.03125   \n",
       "9                 200                     100               0.5   \n",
       "3                 100                     100               0.2   \n",
       "2                  32                       2               0.5   \n",
       "6                 100                       2                 1   \n",
       "12                100                    1000                 1   \n",
       "13                200                       2                 1   \n",
       "17                500                    1000                 1   \n",
       "5                  50                       2                 1   \n",
       "\n",
       "   param_max_features param_max_depth  \\\n",
       "16                0.5              16   \n",
       "1                sqrt             200   \n",
       "19                0.2              16   \n",
       "0                sqrt             500   \n",
       "8                 0.5             200   \n",
       "10                0.5              16   \n",
       "15               sqrt              50   \n",
       "11                0.5             100   \n",
       "14                0.2             200   \n",
       "18               sqrt              50   \n",
       "4                sqrt              50   \n",
       "7                   1             500   \n",
       "9                   1             500   \n",
       "3                   1             200   \n",
       "2                   1              50   \n",
       "6                sqrt              16   \n",
       "12                0.5              16   \n",
       "13                0.2             100   \n",
       "17                  1             200   \n",
       "5                   1             200   \n",
       "\n",
       "                                               params  split0_test_score  \\\n",
       "16  {'n_estimators': 100, 'min_samples_split': 2, ...           0.744811   \n",
       "1   {'n_estimators': 200, 'min_samples_split': 2, ...           0.725273   \n",
       "19  {'n_estimators': 500, 'min_samples_split': 100...           0.726455   \n",
       "0   {'n_estimators': 200, 'min_samples_split': 100...           0.708576   \n",
       "8   {'n_estimators': 200, 'min_samples_split': 100...           0.717510   \n",
       "10  {'n_estimators': 100, 'min_samples_split': 100...           0.716219   \n",
       "15  {'n_estimators': 50, 'min_samples_split': 2, '...           0.723778   \n",
       "11  {'n_estimators': 32, 'min_samples_split': 1000...           0.702689   \n",
       "14  {'n_estimators': 32, 'min_samples_split': 1000...           0.701340   \n",
       "18  {'n_estimators': 50, 'min_samples_split': 100,...           0.647065   \n",
       "4   {'n_estimators': 32, 'min_samples_split': 1000...           0.581395   \n",
       "7   {'n_estimators': 50, 'min_samples_split': 2, '...           0.487955   \n",
       "9   {'n_estimators': 200, 'min_samples_split': 100...           0.445773   \n",
       "3   {'n_estimators': 100, 'min_samples_split': 100...           0.378385   \n",
       "2   {'n_estimators': 32, 'min_samples_split': 2, '...           0.345100   \n",
       "6   {'n_estimators': 100, 'min_samples_split': 2, ...          -0.003875   \n",
       "12  {'n_estimators': 100, 'min_samples_split': 100...          -0.003875   \n",
       "13  {'n_estimators': 200, 'min_samples_split': 2, ...          -0.008441   \n",
       "17  {'n_estimators': 500, 'min_samples_split': 100...          -0.000283   \n",
       "5   {'n_estimators': 50, 'min_samples_split': 2, '...          -0.000280   \n",
       "\n",
       "    split1_test_score  mean_test_score  std_test_score  rank_test_score  \n",
       "16           0.716152         0.730482        0.014329                1  \n",
       "1            0.699259         0.712266        0.013007                2  \n",
       "19           0.697856         0.712155        0.014299                3  \n",
       "0            0.696385         0.702480        0.006096                4  \n",
       "8            0.685622         0.701566        0.015944                5  \n",
       "10           0.682213         0.699216        0.017003                6  \n",
       "15           0.673631         0.698705        0.025074                7  \n",
       "11           0.663473         0.683081        0.019608                8  \n",
       "14           0.661766         0.681553        0.019787                9  \n",
       "18           0.640476         0.643770        0.003294               10  \n",
       "4            0.533342         0.557369        0.024027               11  \n",
       "7            0.507128         0.497541        0.009586               12  \n",
       "9            0.469054         0.457413        0.011640               13  \n",
       "3            0.465080         0.421732        0.043347               14  \n",
       "2            0.416865         0.380982        0.035883               15  \n",
       "6           -0.000257        -0.002066        0.001809               16  \n",
       "12          -0.000257        -0.002066        0.001809               16  \n",
       "13          -0.000553        -0.004497        0.003944               18  \n",
       "17          -0.009638        -0.004961        0.004677               19  \n",
       "5           -0.019322        -0.009801        0.009521               20  "
      ]
     },
     "execution_count": 161,
     "metadata": {},
     "output_type": "execute_result"
    }
   ],
   "source": [
    "pd.DataFrame(rs.cv_results_).sort_values('rank_test_score')"
   ]
  },
  {
   "cell_type": "code",
   "execution_count": 164,
   "metadata": {
    "ExecuteTime": {
     "end_time": "2020-09-18T03:39:52.547362Z",
     "start_time": "2020-09-18T03:35:12.323736Z"
    },
    "hidden": true,
    "scrolled": true
   },
   "outputs": [
    {
     "name": "stderr",
     "output_type": "stream",
     "text": [
      "[Parallel(n_jobs=4)]: Using backend ThreadingBackend with 4 concurrent workers.\n"
     ]
    },
    {
     "name": "stdout",
     "output_type": "stream",
     "text": [
      "building tree 1 of 100building tree 2 of 100\n",
      "building tree 3 of 100\n",
      "\n",
      "building tree 4 of 100\n",
      "building tree 5 of 100\n",
      "building tree 6 of 100\n",
      "building tree 7 of 100\n",
      "building tree 8 of 100\n"
     ]
    },
    {
     "name": "stderr",
     "output_type": "stream",
     "text": [
      "[Parallel(n_jobs=4)]: Done   5 tasks      | elapsed:   23.3s\n"
     ]
    },
    {
     "name": "stdout",
     "output_type": "stream",
     "text": [
      "building tree 9 of 100\n",
      "building tree 10 of 100\n",
      "building tree 11 of 100\n",
      "building tree 12 of 100\n",
      "building tree 13 of 100\n",
      "building tree 14 of 100\n"
     ]
    },
    {
     "name": "stderr",
     "output_type": "stream",
     "text": [
      "[Parallel(n_jobs=4)]: Done  10 tasks      | elapsed:   37.7s\n"
     ]
    },
    {
     "name": "stdout",
     "output_type": "stream",
     "text": [
      "building tree 15 of 100\n",
      "building tree 16 of 100\n",
      "building tree 17 of 100\n",
      "building tree 18 of 100\n",
      "building tree 19 of 100\n",
      "building tree 20 of 100\n"
     ]
    },
    {
     "name": "stderr",
     "output_type": "stream",
     "text": [
      "[Parallel(n_jobs=4)]: Done  17 tasks      | elapsed:   54.3s\n"
     ]
    },
    {
     "name": "stdout",
     "output_type": "stream",
     "text": [
      "building tree 21 of 100\n",
      "building tree 22 of 100\n",
      "building tree 23 of 100\n",
      "building tree 24 of 100\n",
      "building tree 25 of 100\n",
      "building tree 26 of 100\n",
      "building tree 27 of 100\n"
     ]
    },
    {
     "name": "stderr",
     "output_type": "stream",
     "text": [
      "[Parallel(n_jobs=4)]: Done  24 tasks      | elapsed:  1.2min\n"
     ]
    },
    {
     "name": "stdout",
     "output_type": "stream",
     "text": [
      "building tree 28 of 100\n",
      "building tree 29 of 100\n",
      "building tree 30 of 100\n",
      "building tree 31 of 100\n",
      "building tree 32 of 100\n",
      "building tree 33 of 100\n",
      "building tree 34 of 100\n",
      "building tree 35 of 100\n",
      "building tree 36 of 100\n"
     ]
    },
    {
     "name": "stderr",
     "output_type": "stream",
     "text": [
      "[Parallel(n_jobs=4)]: Done  33 tasks      | elapsed:  1.6min\n"
     ]
    },
    {
     "name": "stdout",
     "output_type": "stream",
     "text": [
      "building tree 37 of 100\n",
      "building tree 38 of 100\n",
      "building tree 39 of 100\n",
      "building tree 40 of 100\n",
      "building tree 41 of 100\n",
      "building tree 42 of 100\n",
      "building tree 43 of 100\n",
      "building tree 44 of 100\n",
      "building tree 45 of 100\n",
      "building tree 46 of 100\n"
     ]
    },
    {
     "name": "stderr",
     "output_type": "stream",
     "text": [
      "[Parallel(n_jobs=4)]: Done  42 tasks      | elapsed:  2.0min\n"
     ]
    },
    {
     "name": "stdout",
     "output_type": "stream",
     "text": [
      "building tree 47 of 100\n",
      "building tree 48 of 100\n",
      "building tree 49 of 100\n",
      "building tree 50 of 100\n",
      "building tree 51 of 100\n",
      "building tree 52 of 100\n",
      "building tree 53 of 100\n",
      "building tree 54 of 100\n",
      "building tree 55 of 100\n",
      "building tree 56 of 100\n"
     ]
    },
    {
     "name": "stderr",
     "output_type": "stream",
     "text": [
      "[Parallel(n_jobs=4)]: Done  53 tasks      | elapsed:  2.6min\n"
     ]
    },
    {
     "name": "stdout",
     "output_type": "stream",
     "text": [
      "building tree 57 of 100\n",
      "building tree 58 of 100\n",
      "building tree 59 of 100\n",
      "building tree 60 of 100\n",
      "building tree 61 of 100\n",
      "building tree 62 of 100\n",
      "building tree 63 of 100\n",
      "building tree 64 of 100\n",
      "building tree 65 of 100\n",
      "building tree 66 of 100\n",
      "building tree 67 of 100\n",
      "building tree 68 of 100\n"
     ]
    },
    {
     "name": "stderr",
     "output_type": "stream",
     "text": [
      "[Parallel(n_jobs=4)]: Done  64 tasks      | elapsed:  3.1min\n"
     ]
    },
    {
     "name": "stdout",
     "output_type": "stream",
     "text": [
      "building tree 69 of 100\n",
      "building tree 70 of 100\n",
      "building tree 71 of 100\n",
      "building tree 72 of 100\n",
      "building tree 73 of 100\n",
      "building tree 74 of 100\n",
      "building tree 75 of 100\n",
      "building tree 76 of 100\n",
      "building tree 77 of 100\n",
      "building tree 78 of 100\n",
      "building tree 79 of 100\n",
      "building tree 80 of 100\n",
      "building tree 81 of 100\n"
     ]
    },
    {
     "name": "stderr",
     "output_type": "stream",
     "text": [
      "[Parallel(n_jobs=4)]: Done  77 tasks      | elapsed:  3.7min\n"
     ]
    },
    {
     "name": "stdout",
     "output_type": "stream",
     "text": [
      "building tree 82 of 100\n",
      "building tree 83 of 100\n",
      "building tree 84 of 100\n",
      "building tree 85 of 100\n",
      "building tree 86 of 100\n",
      "building tree 87 of 100\n",
      "building tree 88 of 100\n",
      "building tree 89 of 100\n",
      "building tree 90 of 100\n",
      "building tree 91 of 100\n",
      "building tree 92 of 100\n",
      "building tree 93 of 100\n"
     ]
    },
    {
     "name": "stderr",
     "output_type": "stream",
     "text": [
      "[Parallel(n_jobs=4)]: Done  90 tasks      | elapsed:  4.2min\n"
     ]
    },
    {
     "name": "stdout",
     "output_type": "stream",
     "text": [
      "building tree 94 of 100\n",
      "building tree 95 of 100\n",
      "building tree 96 of 100\n",
      "building tree 97 of 100\n",
      "building tree 98 of 100\n",
      "building tree 99 of 100\n",
      "building tree 100 of 100\n"
     ]
    },
    {
     "name": "stderr",
     "output_type": "stream",
     "text": [
      "[Parallel(n_jobs=4)]: Done 100 out of 100 | elapsed:  4.7min finished\n"
     ]
    },
    {
     "data": {
      "text/plain": [
       "RandomForestRegressor(bootstrap=True, ccp_alpha=0.0, criterion='mse',\n",
       "                      max_depth=16, max_features=0.5, max_leaf_nodes=None,\n",
       "                      max_samples=0.5, min_impurity_decrease=0.0,\n",
       "                      min_impurity_split=None, min_samples_leaf=1,\n",
       "                      min_samples_split=2, min_weight_fraction_leaf=0.0,\n",
       "                      n_estimators=100, n_jobs=4, oob_score=False,\n",
       "                      random_state=None, verbose=10, warm_start=False)"
      ]
     },
     "execution_count": 164,
     "metadata": {},
     "output_type": "execute_result"
    }
   ],
   "source": [
    "rfr = RandomForestRegressor(n_estimators=100,\n",
    "                            min_samples_split=2,\n",
    "                            max_samples=0.5,\n",
    "                            max_features=0.5,\n",
    "                            max_depth=16,\n",
    "                            n_jobs=4,\n",
    "                            verbose=10\n",
    "                           )\n",
    "rfr.fit(X_train, Y_train)"
   ]
  },
  {
   "cell_type": "code",
   "execution_count": 165,
   "metadata": {
    "ExecuteTime": {
     "end_time": "2020-09-18T03:39:53.198879Z",
     "start_time": "2020-09-18T03:39:52.898364Z"
    },
    "hidden": true
   },
   "outputs": [
    {
     "name": "stderr",
     "output_type": "stream",
     "text": [
      "[Parallel(n_jobs=4)]: Using backend ThreadingBackend with 4 concurrent workers.\n",
      "[Parallel(n_jobs=4)]: Done   5 tasks      | elapsed:    0.0s\n",
      "[Parallel(n_jobs=4)]: Done  10 tasks      | elapsed:    0.0s\n",
      "[Parallel(n_jobs=4)]: Done  17 tasks      | elapsed:    0.0s\n",
      "[Parallel(n_jobs=4)]: Done  24 tasks      | elapsed:    0.0s\n",
      "[Parallel(n_jobs=4)]: Done  33 tasks      | elapsed:    0.0s\n",
      "[Parallel(n_jobs=4)]: Done  42 tasks      | elapsed:    0.0s\n",
      "[Parallel(n_jobs=4)]: Done  53 tasks      | elapsed:    0.0s\n",
      "[Parallel(n_jobs=4)]: Done  64 tasks      | elapsed:    0.1s\n",
      "[Parallel(n_jobs=4)]: Done  77 tasks      | elapsed:    0.1s\n",
      "[Parallel(n_jobs=4)]: Done  90 tasks      | elapsed:    0.1s\n",
      "[Parallel(n_jobs=4)]: Done 100 out of 100 | elapsed:    0.1s finished\n"
     ]
    },
    {
     "data": {
      "text/plain": [
       "rmse    0.61078\n",
       "r2      0.70037\n",
       "dtype: float64"
      ]
     },
     "execution_count": 165,
     "metadata": {},
     "output_type": "execute_result"
    }
   ],
   "source": [
    "prediction = rfr.predict(X_val)\n",
    "prediction = inverse_scaling(prediction, 'count')\n",
    "\n",
    "metrics = {'rmse': lambda *args: mean_squared_error(*args, squared=False),\n",
    "           'r2': r2_score\n",
    "          }\n",
    "result = pd.Series({name: metric(inverse_scaling(Y_val, 'count'), prediction) for name, metric in metrics.items()})\n",
    "result"
   ]
  },
  {
   "cell_type": "code",
   "execution_count": 166,
   "metadata": {
    "ExecuteTime": {
     "end_time": "2020-09-18T03:39:53.910880Z",
     "start_time": "2020-09-18T03:39:53.551881Z"
    },
    "hidden": true
   },
   "outputs": [
    {
     "data": {
      "text/plain": [
       "<matplotlib.axes._subplots.AxesSubplot at 0x1986f2a3340>"
      ]
     },
     "execution_count": 166,
     "metadata": {},
     "output_type": "execute_result"
    },
    {
     "data": {
      "image/png": "[encoded data removed]",
      "text/plain": [
       "<Figure size 1152x576 with 1 Axes>"
      ]
     },
     "metadata": {
      "needs_background": "light"
     },
     "output_type": "display_data"
    }
   ],
   "source": [
    "\n",
    "pd.Series(rfr.feature_importances_, index=X_train.columns).plot.bar(figsize=(16, 8))"
   ]
  },
  {
   "cell_type": "markdown",
   "metadata": {},
   "source": [
    "### LightGBM"
   ]
  },
  {
   "cell_type": "code",
   "execution_count": 72,
   "metadata": {
    "ExecuteTime": {
     "end_time": "2020-10-18T13:25:40.837238Z",
     "start_time": "2020-10-18T13:25:40.776249Z"
    }
   },
   "outputs": [],
   "source": [
    "import lightgbm as lgb"
   ]
  },
  {
   "cell_type": "code",
   "execution_count": 74,
   "metadata": {
    "ExecuteTime": {
     "end_time": "2020-10-18T13:26:55.897805Z",
     "start_time": "2020-10-18T13:26:17.696581Z"
    },
    "scrolled": true
   },
   "outputs": [
    {
     "name": "stderr",
     "output_type": "stream",
     "text": [
      "c:\\users\\nanth\\appdata\\local\\programs\\python\\python38\\lib\\site-packages\\lightgbm\\basic.py:1551: UserWarning: Using categorical_feature in Dataset.\n",
      "  warnings.warn('Using categorical_feature in Dataset.')\n",
      "c:\\users\\nanth\\appdata\\local\\programs\\python\\python38\\lib\\site-packages\\lightgbm\\basic.py:1554: UserWarning: categorical_feature in Dataset is overridden.\n",
      "New categorical_feature is ['item_category_id', 'month', 'shop_id', 'tag']\n",
      "  warnings.warn('categorical_feature in Dataset is overridden.\\n'\n"
     ]
    },
    {
     "name": "stdout",
     "output_type": "stream",
     "text": [
      "[LightGBM] [Warning] feature_fraction is set with colsample_bytree=1.0, will be overridden by sub_feature=0.8. Current value: feature_fraction=0.8\n",
      "[LightGBM] [Warning] bagging_fraction is set=0.8, subsample=1.0 will be ignored. Current value: bagging_fraction=0.8\n"
     ]
    },
    {
     "name": "stderr",
     "output_type": "stream",
     "text": [
      "c:\\users\\nanth\\appdata\\local\\programs\\python\\python38\\lib\\site-packages\\lightgbm\\basic.py:1286: UserWarning: Overriding the parameters from Reference Dataset.\n",
      "  warnings.warn('Overriding the parameters from Reference Dataset.')\n",
      "c:\\users\\nanth\\appdata\\local\\programs\\python\\python38\\lib\\site-packages\\lightgbm\\basic.py:1098: UserWarning: categorical_column in param dict is overridden.\n",
      "  warnings.warn('{} in param dict is overridden.'.format(cat_alias))\n"
     ]
    },
    {
     "name": "stdout",
     "output_type": "stream",
     "text": [
      "[1]\ttrain's rmse: 1.09883\tval's rmse: 1.11331\n",
      "Training until validation scores don't improve for 30 rounds\n",
      "[2]\ttrain's rmse: 1.08543\tval's rmse: 1.10365\n",
      "[3]\ttrain's rmse: 1.06657\tval's rmse: 1.08774\n",
      "[4]\ttrain's rmse: 1.04817\tval's rmse: 1.07253\n",
      "[5]\ttrain's rmse: 1.03036\tval's rmse: 1.05735\n",
      "[6]\ttrain's rmse: 1.01383\tval's rmse: 1.04211\n",
      "[7]\ttrain's rmse: 0.997093\tval's rmse: 1.02865\n",
      "[8]\ttrain's rmse: 0.980548\tval's rmse: 1.01544\n",
      "[9]\ttrain's rmse: 0.965212\tval's rmse: 1.00161\n",
      "[10]\ttrain's rmse: 0.954762\tval's rmse: 0.994371\n",
      "[11]\ttrain's rmse: 0.944673\tval's rmse: 0.987753\n",
      "[12]\ttrain's rmse: 0.93002\tval's rmse: 0.976528\n",
      "[13]\ttrain's rmse: 0.915924\tval's rmse: 0.96492\n",
      "[14]\ttrain's rmse: 0.901874\tval's rmse: 0.953379\n",
      "[15]\ttrain's rmse: 0.888654\tval's rmse: 0.942362\n",
      "[16]\ttrain's rmse: 0.875508\tval's rmse: 0.931334\n",
      "[17]\ttrain's rmse: 0.862889\tval's rmse: 0.921745\n",
      "[18]\ttrain's rmse: 0.850715\tval's rmse: 0.911452\n",
      "[19]\ttrain's rmse: 0.843173\tval's rmse: 0.906093\n",
      "[20]\ttrain's rmse: 0.831519\tval's rmse: 0.896721\n",
      "[21]\ttrain's rmse: 0.82455\tval's rmse: 0.892203\n",
      "[22]\ttrain's rmse: 0.814181\tval's rmse: 0.881799\n",
      "[23]\ttrain's rmse: 0.803972\tval's rmse: 0.873063\n",
      "[24]\ttrain's rmse: 0.793704\tval's rmse: 0.86515\n",
      "[25]\ttrain's rmse: 0.787607\tval's rmse: 0.861324\n",
      "[26]\ttrain's rmse: 0.777946\tval's rmse: 0.853976\n",
      "[27]\ttrain's rmse: 0.768631\tval's rmse: 0.84678\n",
      "[28]\ttrain's rmse: 0.759652\tval's rmse: 0.839678\n",
      "[29]\ttrain's rmse: 0.750729\tval's rmse: 0.833296\n",
      "[30]\ttrain's rmse: 0.742399\tval's rmse: 0.827253\n",
      "[31]\ttrain's rmse: 0.734162\tval's rmse: 0.820806\n",
      "[32]\ttrain's rmse: 0.726393\tval's rmse: 0.814998\n",
      "[33]\ttrain's rmse: 0.718815\tval's rmse: 0.809601\n",
      "[34]\ttrain's rmse: 0.711368\tval's rmse: 0.804456\n",
      "[35]\ttrain's rmse: 0.704327\tval's rmse: 0.799556\n",
      "[36]\ttrain's rmse: 0.697297\tval's rmse: 0.79339\n",
      "[37]\ttrain's rmse: 0.693216\tval's rmse: 0.791062\n",
      "[38]\ttrain's rmse: 0.68704\tval's rmse: 0.784916\n",
      "[39]\ttrain's rmse: 0.681146\tval's rmse: 0.779095\n",
      "[40]\ttrain's rmse: 0.674951\tval's rmse: 0.774034\n",
      "Did not meet early stopping. Best iteration is:\n",
      "[40]\ttrain's rmse: 0.674951\tval's rmse: 0.774034\n"
     ]
    },
    {
     "data": {
      "text/plain": [
       "LGBMRegressor(bagging_fraction=0.8, bagging_seed=42, boosting_type='goss',\n",
       "              class_weight=None, colsample_bytree=1.0, feature_fraction_seed=41,\n",
       "              importance_type='split', learning_rate=0.025, max_depth=8,\n",
       "              metric='rmse', min_child_samples=20, min_child_weight=0.001,\n",
       "              min_split_gain=0.0, n_estimators=40, n_jobs=-1, num_leaves=100,\n",
       "              objective=None, random_state=None, reg_alpha=0.0, reg_lambda=0.0,\n",
       "              silent=True, sub_feature=0.8, subsample=1.0,\n",
       "              subsample_for_bin=200000, subsample_freq=0)"
      ]
     },
     "execution_count": 74,
     "metadata": {},
     "output_type": "execute_result"
    }
   ],
   "source": [
    "\n",
    "lgb_model = lgb.LGBMRegressor(max_depth=8,\n",
    "                              boosting_type='goss',\n",
    "                              learning_rate=0.025,\n",
    "                              num_leaves=100,\n",
    "                              n_estimators=40,\n",
    "                              bagging_fraction=0.8,\n",
    "                              sub_feature=0.8,\n",
    "                              metric='rmse',\n",
    "                              feature_fraction_seed=41,\n",
    "                              bagging_seed=42\n",
    "                              )\n",
    "ignore_cols = ['shop_id_encoded', 'item_id', 'item_category_id_encoded', 'month_encoded', 'tag_encoded']\n",
    "\n",
    "selected_cols = X_train.columns.difference(ignore_cols).tolist()\n",
    "lgb_model.fit(X_train[selected_cols], Y_train,\n",
    "              eval_metric='rmse',\n",
    "              eval_names=['train', 'val'],\n",
    "              eval_set=[(X_train[selected_cols], Y_train), (X_val[selected_cols], Y_val)],\n",
    "              categorical_feature=['shop_id', 'item_category_id', 'month', 'tag'],\n",
    "              verbose=True,\n",
    "              early_stopping_rounds=30\n",
    "              )\n"
   ]
  },
  {
   "cell_type": "code",
   "execution_count": 75,
   "metadata": {
    "ExecuteTime": {
     "end_time": "2020-10-18T13:53:18.098364Z",
     "start_time": "2020-10-18T13:53:17.385825Z"
    }
   },
   "outputs": [
    {
     "data": {
      "text/plain": [
       "<matplotlib.axes._subplots.AxesSubplot at 0x26f2712a8e0>"
      ]
     },
     "execution_count": 75,
     "metadata": {},
     "output_type": "execute_result"
    },
    {
     "data": {
      "image/png": "[encoded data removed]",
      "text/plain": [
       "<Figure size 1152x576 with 1 Axes>"
      ]
     },
     "metadata": {
      "needs_background": "light"
     },
     "output_type": "display_data"
    }
   ],
   "source": [
    "\n",
    "plot_feature_importance(lgb_model.feature_importances_, selected_cols)\n"
   ]
  },
  {
   "cell_type": "markdown",
   "metadata": {
    "heading_collapsed": true
   },
   "source": [
    "### XGBoost"
   ]
  },
  {
   "cell_type": "code",
   "execution_count": 58,
   "metadata": {
    "ExecuteTime": {
     "end_time": "2020-10-08T19:32:17.261509Z",
     "start_time": "2020-10-08T19:32:16.880351Z"
    },
    "hidden": true
   },
   "outputs": [],
   "source": [
    "import xgboost as xgb"
   ]
  },
  {
   "cell_type": "code",
   "execution_count": 64,
   "metadata": {
    "ExecuteTime": {
     "end_time": "2020-10-08T19:47:21.716908Z",
     "start_time": "2020-10-08T19:43:38.442177Z"
    },
    "hidden": true,
    "scrolled": true
   },
   "outputs": [
    {
     "name": "stdout",
     "output_type": "stream",
     "text": [
      "[02:44:12] WARNING: C:\\Users\\Administrator\\workspace\\xgboost-win64_release_1.2.0\\src\\gbm\\gbtree.cc:139: Tree method is automatically selected to be 'approx' for faster speed. To use old behavior (exact greedy algorithm on single machine), set tree_method to 'exact'.\n",
      "[0]\tvalidation_0-rmse:1.01713\tvalidation_1-rmse:1.00273\n",
      "Multiple eval metrics have been passed: 'validation_1-rmse' will be used for early stopping.\n",
      "\n",
      "Will train until validation_1-rmse hasn't improved in 30 rounds.\n",
      "[1]\tvalidation_0-rmse:0.94654\tvalidation_1-rmse:0.95057\n",
      "[2]\tvalidation_0-rmse:0.88418\tvalidation_1-rmse:0.90381\n",
      "[3]\tvalidation_0-rmse:0.83040\tvalidation_1-rmse:0.86380\n",
      "[4]\tvalidation_0-rmse:0.78395\tvalidation_1-rmse:0.83015\n",
      "[5]\tvalidation_0-rmse:0.74231\tvalidation_1-rmse:0.80069\n",
      "[6]\tvalidation_0-rmse:0.70666\tvalidation_1-rmse:0.77675\n",
      "[7]\tvalidation_0-rmse:0.67500\tvalidation_1-rmse:0.75591\n",
      "[8]\tvalidation_0-rmse:0.64850\tvalidation_1-rmse:0.73790\n",
      "[9]\tvalidation_0-rmse:0.62546\tvalidation_1-rmse:0.72131\n",
      "[10]\tvalidation_0-rmse:0.60501\tvalidation_1-rmse:0.70852\n",
      "[11]\tvalidation_0-rmse:0.58832\tvalidation_1-rmse:0.69676\n",
      "[12]\tvalidation_0-rmse:0.57374\tvalidation_1-rmse:0.68514\n",
      "[13]\tvalidation_0-rmse:0.56079\tvalidation_1-rmse:0.67706\n",
      "[14]\tvalidation_0-rmse:0.54949\tvalidation_1-rmse:0.66994\n",
      "[15]\tvalidation_0-rmse:0.54038\tvalidation_1-rmse:0.66419\n"
     ]
    },
    {
     "data": {
      "text/plain": [
       "XGBRegressor(base_score=0.5, booster='gbtree', colsample_bylevel=1,\n",
       "             colsample_bynode=1, colsample_bytree=1, gamma=0, gpu_id=-1,\n",
       "             importance_type='gain', interaction_constraints='',\n",
       "             learning_rate=0.1, max_delta_step=0, max_depth=8,\n",
       "             min_child_weight=1, missing=nan, monotone_constraints='()',\n",
       "             n_estimators=16, n_jobs=0, num_parallel_tree=1,\n",
       "             objective='reg:squarederror', random_state=42, reg_alpha=0,\n",
       "             reg_lambda=1, scale_pos_weight=1, subsample=0.8,\n",
       "             tree_method='approx', validate_parameters=1, verbosity=1)"
      ]
     },
     "execution_count": 64,
     "metadata": {},
     "output_type": "execute_result"
    }
   ],
   "source": [
    "\n",
    "\n",
    "xgb_model = xgb.XGBRegressor(max_depth=8,\n",
    "                              learning_rate=0.1,\n",
    "                              n_estimators=16,\n",
    "                              subsample=0.8,\n",
    "                              verbosity=1,\n",
    "                              random_state=42,\n",
    "                              )\n",
    "ignore_cols = ['shop_id_encoded', 'item_id', 'item_category_id_encoded', 'month_encoded', 'tag_encoded']\n",
    "selected_cols = X_train.columns.difference(ignore_cols).tolist()\n",
    "\n",
    "eval_indice = np.random.choice(len(X_train), len(X_val), replace=False,  )\n",
    "xgb_model.fit(X_train[selected_cols], Y_train,\n",
    "              eval_metric='rmse',\n",
    "              eval_set=[(X_train.iloc[eval_indice][selected_cols], Y_train.iloc[eval_indice]), (X_val[selected_cols], Y_val)],\n",
    "              verbose=True,\n",
    "              early_stopping_rounds=30\n",
    "              )\n"
   ]
  },
  {
   "cell_type": "code",
   "execution_count": 66,
   "metadata": {
    "ExecuteTime": {
     "end_time": "2020-10-08T19:48:51.879997Z",
     "start_time": "2020-10-08T19:48:50.551360Z"
    },
    "hidden": true
   },
   "outputs": [
    {
     "data": {
      "text/plain": [
       "<matplotlib.axes._subplots.AxesSubplot at 0x1733b2f33a0>"
      ]
     },
     "execution_count": 66,
     "metadata": {},
     "output_type": "execute_result"
    },
    {
     "data": {
      "image/png": "[encoded data removed]",
      "text/plain": [
       "<Figure size 1152x576 with 1 Axes>"
      ]
     },
     "metadata": {
      "needs_background": "light"
     },
     "output_type": "display_data"
    }
   ],
   "source": [
    "\n",
    "plot_feature_importance(xgb_model.feature_importances_, selected_cols)\n"
   ]
  },
  {
   "cell_type": "markdown",
   "metadata": {
    "ExecuteTime": {
     "end_time": "2020-09-13T11:23:49.804881Z",
     "start_time": "2020-09-13T11:23:49.776189Z"
    },
    "heading_collapsed": true
   },
   "source": [
    "### Recurrent Neural Network Model"
   ]
  },
  {
   "cell_type": "code",
   "execution_count": null,
   "metadata": {
    "hidden": true
   },
   "outputs": [],
   "source": []
  },
  {
   "cell_type": "code",
   "execution_count": null,
   "metadata": {
    "hidden": true
   },
   "outputs": [],
   "source": []
  },
  {
   "cell_type": "code",
   "execution_count": 72,
   "metadata": {
    "ExecuteTime": {
     "end_time": "2020-09-22T16:08:54.792237Z",
     "start_time": "2020-09-22T16:08:54.788587Z"
    },
    "hidden": true
   },
   "outputs": [],
   "source": [
    "import re\n",
    "from sklearn.pipeline import Pipeline\n",
    "import tensorflow as tf\n",
    "from tensorflow.keras.models import Sequential\n",
    "from tensorflow.keras.layers import LSTM, Conv1D, Dense, Flatten\n",
    "from tensorflow.keras.metrics import RootMeanSquaredError\n",
    "import tensorflow.keras.backend as K\n",
    "from tensorflow.keras.wrappers.scikit_learn import KerasRegressor \n"
   ]
  },
  {
   "cell_type": "code",
   "execution_count": 55,
   "metadata": {
    "ExecuteTime": {
     "end_time": "2020-09-22T15:33:47.883059Z",
     "start_time": "2020-09-22T15:33:47.877811Z"
    },
    "hidden": true
   },
   "outputs": [],
   "source": [
    "def to_timestep_shape(df):\n",
    "    timeserie_cols = pd.Series(filter(re.compile('^p\\d+\\w+').match, df.columns))\n",
    "    df = df[timeserie_cols]\n",
    "    df.columns = pd.MultiIndex.from_tuples(timeserie_cols.str.split('_', 1).apply(tuple).tolist())\n",
    "    df = df[df.columns.sortlevel(0, ascending=False )[0]]\n",
    "    features = df.T.groupby(level=0).progress_apply(lambda feature: np.expand_dims(feature.T.values, axis=1)).to_numpy()\n",
    "    features = features[::-1]\n",
    "    X = np.concatenate(features, axis=1)\n",
    "    return X"
   ]
  },
  {
   "cell_type": "code",
   "execution_count": 83,
   "metadata": {
    "ExecuteTime": {
     "end_time": "2020-09-22T16:14:07.113258Z",
     "start_time": "2020-09-22T16:14:07.105880Z"
    },
    "hidden": true
   },
   "outputs": [],
   "source": [
    "count_mean, count_var = scaler_params.loc['count'].tolist()\n",
    "\n",
    "# def rmse_keras(y_true, y_pred):\n",
    "#     batch_size = tf.shape(y_true)[0]\n",
    "\n",
    "#     y_true = y_true*K.constant([count_var]*batch_size, dtype='float32') + K.constant([count_mean]*batch_size, dtype='float32')\n",
    "#     y_pred = y_pred*K.constant([count_var]*batch_size, dtype='float32') + K.constant([count_mean]*batch_size, dtype='float32')\n",
    "#     return RootMeanSquaredError(y_true, y_pred)"
   ]
  },
  {
   "cell_type": "code",
   "execution_count": 100,
   "metadata": {
    "ExecuteTime": {
     "end_time": "2020-09-22T17:06:52.393166Z",
     "start_time": "2020-09-22T17:06:52.387904Z"
    },
    "hidden": true
   },
   "outputs": [],
   "source": [
    "def build_lstm_model():\n",
    "    model = Sequential([\n",
    "        LSTM(32, activation='relu', return_sequences=False, input_shape=(len(lookback_steps), len(timeserie_cols))),\n",
    "#         LSTM(16, activation='relu'),\n",
    "        Flatten(),\n",
    "        Dense(1, activation='linear')\n",
    "    ])\n",
    "    model.compile(optimizer='adam', loss='mse', metrics=[RootMeanSquaredError()],)\n",
    "    return model"
   ]
  },
  {
   "cell_type": "code",
   "execution_count": 101,
   "metadata": {
    "ExecuteTime": {
     "end_time": "2020-09-22T17:07:01.991465Z",
     "start_time": "2020-09-22T17:07:01.830575Z"
    },
    "hidden": true
   },
   "outputs": [
    {
     "name": "stdout",
     "output_type": "stream",
     "text": [
      "Model: \"sequential_4\"\n",
      "_________________________________________________________________\n",
      "Layer (type)                 Output Shape              Param #   \n",
      "=================================================================\n",
      "lstm_7 (LSTM)                (None, 32)                6144      \n",
      "_________________________________________________________________\n",
      "flatten_4 (Flatten)          (None, 32)                0         \n",
      "_________________________________________________________________\n",
      "dense_4 (Dense)              (None, 1)                 33        \n",
      "=================================================================\n",
      "Total params: 6,177\n",
      "Trainable params: 6,177\n",
      "Non-trainable params: 0\n",
      "_________________________________________________________________\n"
     ]
    }
   ],
   "source": [
    "model = build_lstm_model()\n",
    "model.summary()"
   ]
  },
  {
   "cell_type": "code",
   "execution_count": 102,
   "metadata": {
    "ExecuteTime": {
     "end_time": "2020-09-22T17:26:38.075037Z",
     "start_time": "2020-09-22T17:07:09.205580Z"
    },
    "hidden": true
   },
   "outputs": [
    {
     "name": "stderr",
     "output_type": "stream",
     "text": [
      "100%|██████████| 5/5 [00:10<00:00,  2.17s/it]\n",
      "100%|██████████| 5/5 [00:00<00:00, 16.47it/s]\n"
     ]
    },
    {
     "name": "stdout",
     "output_type": "stream",
     "text": [
      "Epoch 1/16\n",
      "23429/23429 [==============================] - 71s 3ms/step - loss: 0.5380 - root_mean_squared_error: 0.7335 - val_loss: 0.6713 - val_root_mean_squared_error: 0.8193\n",
      "Epoch 2/16\n",
      "23429/23429 [==============================] - 72s 3ms/step - loss: 0.5158 - root_mean_squared_error: 0.7182 - val_loss: 0.6132 - val_root_mean_squared_error: 0.7831\n",
      "Epoch 3/16\n",
      "23429/23429 [==============================] - 72s 3ms/step - loss: 0.5049 - root_mean_squared_error: 0.7105 - val_loss: 0.6540 - val_root_mean_squared_error: 0.8087\n",
      "Epoch 4/16\n",
      "23429/23429 [==============================] - 72s 3ms/step - loss: 0.4970 - root_mean_squared_error: 0.7050 - val_loss: 0.6359 - val_root_mean_squared_error: 0.7974\n",
      "Epoch 5/16\n",
      "23429/23429 [==============================] - 72s 3ms/step - loss: 0.4907 - root_mean_squared_error: 0.7005 - val_loss: 0.6414 - val_root_mean_squared_error: 0.8009\n",
      "Epoch 6/16\n",
      "23429/23429 [==============================] - 72s 3ms/step - loss: 0.4856 - root_mean_squared_error: 0.6969 - val_loss: 0.6847 - val_root_mean_squared_error: 0.8275\n",
      "Epoch 7/16\n",
      "23429/23429 [==============================] - 72s 3ms/step - loss: 0.4821 - root_mean_squared_error: 0.6943 - val_loss: 0.6886 - val_root_mean_squared_error: 0.8298\n",
      "Epoch 8/16\n",
      "23429/23429 [==============================] - 72s 3ms/step - loss: 0.4781 - root_mean_squared_error: 0.6914 - val_loss: 0.6749 - val_root_mean_squared_error: 0.8215\n",
      "Epoch 9/16\n",
      "23429/23429 [==============================] - 71s 3ms/step - loss: 0.4752 - root_mean_squared_error: 0.6893 - val_loss: 0.6793 - val_root_mean_squared_error: 0.8242\n",
      "Epoch 10/16\n",
      "23429/23429 [==============================] - 71s 3ms/step - loss: 0.4723 - root_mean_squared_error: 0.6872 - val_loss: 0.6999 - val_root_mean_squared_error: 0.8366\n",
      "Epoch 11/16\n",
      "23429/23429 [==============================] - 71s 3ms/step - loss: 0.4695 - root_mean_squared_error: 0.6852 - val_loss: 0.6922 - val_root_mean_squared_error: 0.8320\n",
      "Epoch 12/16\n",
      "23429/23429 [==============================] - 71s 3ms/step - loss: 0.4677 - root_mean_squared_error: 0.6839 - val_loss: 0.7029 - val_root_mean_squared_error: 0.8384\n",
      "Epoch 13/16\n",
      "23429/23429 [==============================] - 71s 3ms/step - loss: 0.4674 - root_mean_squared_error: 0.6837 - val_loss: 0.6957 - val_root_mean_squared_error: 0.8341\n",
      "Epoch 14/16\n",
      "23429/23429 [==============================] - 71s 3ms/step - loss: 0.4641 - root_mean_squared_error: 0.6813 - val_loss: 0.6995 - val_root_mean_squared_error: 0.8364\n",
      "Epoch 15/16\n",
      "23429/23429 [==============================] - 71s 3ms/step - loss: 0.4633 - root_mean_squared_error: 0.6807 - val_loss: 0.7045 - val_root_mean_squared_error: 0.8394\n",
      "Epoch 16/16\n",
      "23429/23429 [==============================] - 71s 3ms/step - loss: 0.4608 - root_mean_squared_error: 0.6788 - val_loss: 0.7127 - val_root_mean_squared_error: 0.8442\n"
     ]
    },
    {
     "data": {
      "text/plain": [
       "<tensorflow.python.keras.callbacks.History at 0x138418dc0>"
      ]
     },
     "execution_count": 102,
     "metadata": {},
     "output_type": "execute_result"
    }
   ],
   "source": [
    "model.fit(to_timestep_shape(X_train), Y_train,\n",
    "          validation_data=(to_timestep_shape(X_val), Y_val),\n",
    "          \n",
    "          batch_size=256,\n",
    "          epochs=16, )"
   ]
  },
  {
   "cell_type": "code",
   "execution_count": 91,
   "metadata": {
    "ExecuteTime": {
     "end_time": "2020-09-22T16:26:12.459206Z",
     "start_time": "2020-09-22T16:26:07.672932Z"
    },
    "hidden": true
   },
   "outputs": [
    {
     "name": "stderr",
     "output_type": "stream",
     "text": [
      "100%|██████████| 5/5 [00:00<00:00, 14.50it/s]\n"
     ]
    }
   ],
   "source": [
    "prediction = np.squeeze(model.predict(to_timestep_shape(X_val)))\n"
   ]
  },
  {
   "cell_type": "code",
   "execution_count": 92,
   "metadata": {
    "ExecuteTime": {
     "end_time": "2020-09-22T16:26:27.633645Z",
     "start_time": "2020-09-22T16:26:27.577062Z"
    },
    "hidden": true
   },
   "outputs": [
    {
     "data": {
      "text/plain": [
       "rmse    0.857037\n",
       "r2      0.381610\n",
       "dtype: float64"
      ]
     },
     "execution_count": 92,
     "metadata": {},
     "output_type": "execute_result"
    }
   ],
   "source": [
    "\n",
    "result = pd.Series(evaluate(Y_val, prediction))\n",
    "result"
   ]
  },
  {
   "cell_type": "markdown",
   "metadata": {
    "heading_collapsed": true
   },
   "source": [
    "### Linear Regression"
   ]
  },
  {
   "cell_type": "code",
   "execution_count": 202,
   "metadata": {
    "ExecuteTime": {
     "end_time": "2020-09-26T14:02:10.061710Z",
     "start_time": "2020-09-26T14:02:10.058804Z"
    },
    "hidden": true
   },
   "outputs": [],
   "source": [
    "from sklearn.linear_model import LinearRegression"
   ]
  },
  {
   "cell_type": "code",
   "execution_count": 203,
   "metadata": {
    "ExecuteTime": {
     "end_time": "2020-09-26T14:02:39.370394Z",
     "start_time": "2020-09-26T14:02:17.348094Z"
    },
    "hidden": true
   },
   "outputs": [
    {
     "data": {
      "text/plain": [
       "LinearRegression(fit_intercept=False, n_jobs=8)"
      ]
     },
     "execution_count": 203,
     "metadata": {},
     "output_type": "execute_result"
    }
   ],
   "source": [
    "linear_model = LinearRegression(fit_intercept=False, n_jobs=8)\n",
    "linear_model.fit(X_train, Y_train)"
   ]
  },
  {
   "cell_type": "code",
   "execution_count": 204,
   "metadata": {
    "ExecuteTime": {
     "end_time": "2020-09-26T14:02:46.111988Z",
     "start_time": "2020-09-26T14:02:46.069304Z"
    },
    "hidden": true
   },
   "outputs": [
    {
     "data": {
      "text/plain": [
       "rmse    0.738852\n",
       "r2      0.540401\n",
       "dtype: float64"
      ]
     },
     "execution_count": 204,
     "metadata": {},
     "output_type": "execute_result"
    }
   ],
   "source": [
    "\n",
    "prediction = linear_model.predict(X_val)\n",
    "\n",
    "result = pd.Series(evaluate(Y_val, prediction))\n",
    "result"
   ]
  },
  {
   "cell_type": "code",
   "execution_count": 56,
   "metadata": {
    "ExecuteTime": {
     "end_time": "2020-09-24T11:03:15.402844Z",
     "start_time": "2020-09-24T11:03:15.359573Z"
    },
    "hidden": true
   },
   "outputs": [
    {
     "data": {
      "text/plain": [
       "rmse    0.739614\n",
       "r2      0.539453\n",
       "dtype: float64"
      ]
     },
     "execution_count": 56,
     "metadata": {},
     "output_type": "execute_result"
    }
   ],
   "source": [
    "\n",
    "prediction = linear_model.predict(X_val)\n",
    "\n",
    "result = pd.Series(evaluate(Y_val, prediction))\n",
    "result"
   ]
  },
  {
   "cell_type": "code",
   "execution_count": 49,
   "metadata": {
    "ExecuteTime": {
     "end_time": "2020-09-17T15:35:42.394289Z",
     "start_time": "2020-09-17T15:35:42.132271Z"
    },
    "hidden": true
   },
   "outputs": [
    {
     "data": {
      "text/plain": [
       "<matplotlib.axes._subplots.AxesSubplot at 0x19806d2e9d0>"
      ]
     },
     "execution_count": 49,
     "metadata": {},
     "output_type": "execute_result"
    },
    {
     "data": {
      "image/png": "[encoded data removed]",
      "text/plain": [
       "<Figure size 1152x576 with 1 Axes>"
      ]
     },
     "metadata": {
      "needs_background": "light"
     },
     "output_type": "display_data"
    }
   ],
   "source": [
    "plot_feature_importance(np.abs(linear_model.coef_), X_train.columns)"
   ]
  },
  {
   "cell_type": "code",
   "execution_count": 57,
   "metadata": {
    "ExecuteTime": {
     "end_time": "2020-09-24T11:03:55.949001Z",
     "start_time": "2020-09-24T11:03:54.038849Z"
    },
    "hidden": true
   },
   "outputs": [
    {
     "data": {
      "text/plain": [
       "<AxesSubplot:>"
      ]
     },
     "execution_count": 57,
     "metadata": {},
     "output_type": "execute_result"
    },
    {
     "data": {
      "image/png": "[encoded data removed]",
      "text/plain": [
       "<Figure size 1152x576 with 1 Axes>"
      ]
     },
     "metadata": {
      "needs_background": "light"
     },
     "output_type": "display_data"
    }
   ],
   "source": [
    "plot_feature_importance(np.abs(linear_model.coef_), X_train.columns)"
   ]
  },
  {
   "cell_type": "markdown",
   "metadata": {
    "heading_collapsed": true
   },
   "source": [
    "### SVR"
   ]
  },
  {
   "cell_type": "code",
   "execution_count": 48,
   "metadata": {
    "ExecuteTime": {
     "end_time": "2020-09-24T16:31:50.799717Z",
     "start_time": "2020-09-24T16:31:50.763483Z"
    },
    "hidden": true
   },
   "outputs": [],
   "source": [
    "from sklearn.svm import SVR\n",
    "from sklearn.ensemble import BaggingRegressor"
   ]
  },
  {
   "cell_type": "code",
   "execution_count": 49,
   "metadata": {
    "ExecuteTime": {
     "end_time": "2020-09-24T16:31:52.055722Z",
     "start_time": "2020-09-24T16:31:52.052058Z"
    },
    "hidden": true
   },
   "outputs": [],
   "source": [
    "svr = SVR(kernel='linear' )\n",
    "n_estimators = 24\n",
    "bagging_svr = BaggingRegressor(svr,\n",
    "                 n_estimators=n_estimators,\n",
    "                 max_samples=0.1/n_estimators,\n",
    "                 n_jobs=8,\n",
    "                 verbose=1000,\n",
    "                 random_state=43, )"
   ]
  },
  {
   "cell_type": "code",
   "execution_count": null,
   "metadata": {
    "ExecuteTime": {
     "start_time": "2020-09-24T16:27:06.127Z"
    },
    "hidden": true
   },
   "outputs": [
    {
     "name": "stdout",
     "output_type": "stream",
     "text": [
      "[Parallel(n_jobs=8)]: Using backend LokyBackend with 8 concurrent workers.\n"
     ]
    }
   ],
   "source": [
    "\n",
    "bagging_svr.fit(X_train, Y_train)"
   ]
  },
  {
   "cell_type": "code",
   "execution_count": 95,
   "metadata": {
    "ExecuteTime": {
     "end_time": "2020-09-24T13:55:19.413748Z",
     "start_time": "2020-09-24T13:32:27.035015Z"
    },
    "hidden": true
   },
   "outputs": [
    {
     "data": {
      "text/plain": [
       "rmse    0.702860\n",
       "r2      0.584088\n",
       "dtype: float64"
      ]
     },
     "execution_count": 95,
     "metadata": {},
     "output_type": "execute_result"
    }
   ],
   "source": [
    "\n",
    "prediction = knn.predict(X_val)\n",
    "\n",
    "result = pd.Series(evaluate(Y_val, prediction))\n",
    "result"
   ]
  },
  {
   "cell_type": "code",
   "execution_count": 103,
   "metadata": {
    "ExecuteTime": {
     "end_time": "2020-09-24T15:48:39.881621Z",
     "start_time": "2020-09-24T15:42:19.825417Z"
    },
    "hidden": true
   },
   "outputs": [
    {
     "name": "stderr",
     "output_type": "stream",
     "text": [
      "  4%|▍         | 1/24 [00:00<00:04,  5.07it/s]"
     ]
    },
    {
     "name": "stdout",
     "output_type": "stream",
     "text": [
      "[LibSVM][LibSVM]"
     ]
    },
    {
     "name": "stderr",
     "output_type": "stream",
     "text": [
      "\r",
      "  8%|▊         | 2/24 [00:02<00:16,  1.33it/s]"
     ]
    },
    {
     "name": "stdout",
     "output_type": "stream",
     "text": [
      "[LibSVM]"
     ]
    },
    {
     "name": "stderr",
     "output_type": "stream",
     "text": [
      "\r",
      " 12%|█▎        | 3/24 [00:08<00:50,  2.39s/it]"
     ]
    },
    {
     "name": "stdout",
     "output_type": "stream",
     "text": [
      "[LibSVM]"
     ]
    },
    {
     "name": "stderr",
     "output_type": "stream",
     "text": [
      "\r",
      " 17%|█▋        | 4/24 [00:20<01:44,  5.23s/it]"
     ]
    },
    {
     "name": "stdout",
     "output_type": "stream",
     "text": [
      "[LibSVM]"
     ]
    },
    {
     "name": "stderr",
     "output_type": "stream",
     "text": [
      "\r",
      " 21%|██        | 5/24 [00:39<02:56,  9.27s/it]"
     ]
    },
    {
     "name": "stdout",
     "output_type": "stream",
     "text": [
      "[LibSVM]"
     ]
    },
    {
     "name": "stderr",
     "output_type": "stream",
     "text": [
      "\r",
      " 25%|██▌       | 6/24 [01:06<04:25, 14.73s/it]"
     ]
    },
    {
     "name": "stdout",
     "output_type": "stream",
     "text": [
      "[LibSVM]"
     ]
    },
    {
     "name": "stderr",
     "output_type": "stream",
     "text": [
      "\r",
      " 29%|██▉       | 7/24 [01:42<05:57, 21.02s/it]"
     ]
    },
    {
     "name": "stdout",
     "output_type": "stream",
     "text": [
      "[LibSVM]"
     ]
    },
    {
     "name": "stderr",
     "output_type": "stream",
     "text": [
      "\r",
      " 33%|███▎      | 8/24 [02:34<08:08, 30.54s/it]"
     ]
    },
    {
     "name": "stdout",
     "output_type": "stream",
     "text": [
      "[LibSVM]"
     ]
    },
    {
     "name": "stderr",
     "output_type": "stream",
     "text": [
      "\r",
      " 38%|███▊      | 9/24 [03:35<09:52, 39.47s/it]"
     ]
    },
    {
     "name": "stdout",
     "output_type": "stream",
     "text": [
      "[LibSVM]"
     ]
    },
    {
     "name": "stderr",
     "output_type": "stream",
     "text": [
      "\r",
      " 42%|████▏     | 10/24 [04:50<11:42, 50.18s/it]"
     ]
    },
    {
     "name": "stdout",
     "output_type": "stream",
     "text": [
      "[LibSVM]"
     ]
    },
    {
     "name": "stderr",
     "output_type": "stream",
     "text": [
      " 42%|████▏     | 10/24 [06:20<08:52, 38.00s/it]\n"
     ]
    },
    {
     "ename": "KeyboardInterrupt",
     "evalue": "",
     "output_type": "error",
     "traceback": [
      "\u001b[0;31m---------------------------------------------------------------------------\u001b[0m",
      "\u001b[0;31mKeyboardInterrupt\u001b[0m                         Traceback (most recent call last)",
      "\u001b[0;32m<ipython-input-103-4b1c6e3a4a87>\u001b[0m in \u001b[0;36m<module>\u001b[0;34m\u001b[0m\n\u001b[1;32m      2\u001b[0m \u001b[0;32mfor\u001b[0m \u001b[0mn\u001b[0m \u001b[0;32min\u001b[0m \u001b[0mtqdm\u001b[0m\u001b[0;34m(\u001b[0m\u001b[0mn_samples\u001b[0m\u001b[0;34m)\u001b[0m\u001b[0;34m:\u001b[0m\u001b[0;34m\u001b[0m\u001b[0;34m\u001b[0m\u001b[0m\n\u001b[1;32m      3\u001b[0m     \u001b[0mt\u001b[0m \u001b[0;34m=\u001b[0m \u001b[0mtime\u001b[0m\u001b[0;34m.\u001b[0m\u001b[0mtime\u001b[0m\u001b[0;34m(\u001b[0m\u001b[0;34m)\u001b[0m\u001b[0;34m\u001b[0m\u001b[0;34m\u001b[0m\u001b[0m\n\u001b[0;32m----> 4\u001b[0;31m     \u001b[0msvr\u001b[0m\u001b[0;34m.\u001b[0m\u001b[0mfit\u001b[0m\u001b[0;34m(\u001b[0m\u001b[0mX_train\u001b[0m\u001b[0;34m[\u001b[0m\u001b[0;34m:\u001b[0m\u001b[0mn\u001b[0m\u001b[0;34m]\u001b[0m\u001b[0;34m,\u001b[0m \u001b[0mY_train\u001b[0m\u001b[0;34m[\u001b[0m\u001b[0;34m:\u001b[0m\u001b[0mn\u001b[0m\u001b[0;34m]\u001b[0m\u001b[0;34m)\u001b[0m\u001b[0;34m\u001b[0m\u001b[0;34m\u001b[0m\u001b[0m\n\u001b[0m\u001b[1;32m      5\u001b[0m     \u001b[0melapsed_time\u001b[0m \u001b[0;34m=\u001b[0m \u001b[0mtime\u001b[0m\u001b[0;34m.\u001b[0m\u001b[0mtime\u001b[0m\u001b[0;34m(\u001b[0m\u001b[0;34m)\u001b[0m \u001b[0;34m-\u001b[0m \u001b[0mt\u001b[0m\u001b[0;34m\u001b[0m\u001b[0;34m\u001b[0m\u001b[0m\n\u001b[1;32m      6\u001b[0m     \u001b[0mfitting_times\u001b[0m\u001b[0;34m.\u001b[0m\u001b[0mappend\u001b[0m\u001b[0;34m(\u001b[0m\u001b[0melapsed_time\u001b[0m\u001b[0;34m)\u001b[0m\u001b[0;34m\u001b[0m\u001b[0;34m\u001b[0m\u001b[0m\n",
      "\u001b[0;32m/usr/local/lib/python3.8/site-packages/sklearn/svm/_base.py\u001b[0m in \u001b[0;36mfit\u001b[0;34m(self, X, y, sample_weight)\u001b[0m\n\u001b[1;32m    215\u001b[0m \u001b[0;34m\u001b[0m\u001b[0m\n\u001b[1;32m    216\u001b[0m         \u001b[0mseed\u001b[0m \u001b[0;34m=\u001b[0m \u001b[0mrnd\u001b[0m\u001b[0;34m.\u001b[0m\u001b[0mrandint\u001b[0m\u001b[0;34m(\u001b[0m\u001b[0mnp\u001b[0m\u001b[0;34m.\u001b[0m\u001b[0miinfo\u001b[0m\u001b[0;34m(\u001b[0m\u001b[0;34m'i'\u001b[0m\u001b[0;34m)\u001b[0m\u001b[0;34m.\u001b[0m\u001b[0mmax\u001b[0m\u001b[0;34m)\u001b[0m\u001b[0;34m\u001b[0m\u001b[0;34m\u001b[0m\u001b[0m\n\u001b[0;32m--> 217\u001b[0;31m         \u001b[0mfit\u001b[0m\u001b[0;34m(\u001b[0m\u001b[0mX\u001b[0m\u001b[0;34m,\u001b[0m \u001b[0my\u001b[0m\u001b[0;34m,\u001b[0m \u001b[0msample_weight\u001b[0m\u001b[0;34m,\u001b[0m \u001b[0msolver_type\u001b[0m\u001b[0;34m,\u001b[0m \u001b[0mkernel\u001b[0m\u001b[0;34m,\u001b[0m \u001b[0mrandom_seed\u001b[0m\u001b[0;34m=\u001b[0m\u001b[0mseed\u001b[0m\u001b[0;34m)\u001b[0m\u001b[0;34m\u001b[0m\u001b[0;34m\u001b[0m\u001b[0m\n\u001b[0m\u001b[1;32m    218\u001b[0m         \u001b[0;31m# see comment on the other call to np.iinfo in this file\u001b[0m\u001b[0;34m\u001b[0m\u001b[0;34m\u001b[0m\u001b[0;34m\u001b[0m\u001b[0m\n\u001b[1;32m    219\u001b[0m \u001b[0;34m\u001b[0m\u001b[0m\n",
      "\u001b[0;32m/usr/local/lib/python3.8/site-packages/sklearn/svm/_base.py\u001b[0m in \u001b[0;36m_dense_fit\u001b[0;34m(self, X, y, sample_weight, solver_type, kernel, random_seed)\u001b[0m\n\u001b[1;32m    266\u001b[0m         \u001b[0mself\u001b[0m\u001b[0;34m.\u001b[0m\u001b[0msupport_\u001b[0m\u001b[0;34m,\u001b[0m \u001b[0mself\u001b[0m\u001b[0;34m.\u001b[0m\u001b[0msupport_vectors_\u001b[0m\u001b[0;34m,\u001b[0m \u001b[0mself\u001b[0m\u001b[0;34m.\u001b[0m\u001b[0m_n_support\u001b[0m\u001b[0;34m,\u001b[0m\u001b[0;31m \u001b[0m\u001b[0;31m\\\u001b[0m\u001b[0;34m\u001b[0m\u001b[0;34m\u001b[0m\u001b[0m\n\u001b[1;32m    267\u001b[0m             \u001b[0mself\u001b[0m\u001b[0;34m.\u001b[0m\u001b[0mdual_coef_\u001b[0m\u001b[0;34m,\u001b[0m \u001b[0mself\u001b[0m\u001b[0;34m.\u001b[0m\u001b[0mintercept_\u001b[0m\u001b[0;34m,\u001b[0m \u001b[0mself\u001b[0m\u001b[0;34m.\u001b[0m\u001b[0m_probA\u001b[0m\u001b[0;34m,\u001b[0m\u001b[0;31m \u001b[0m\u001b[0;31m\\\u001b[0m\u001b[0;34m\u001b[0m\u001b[0;34m\u001b[0m\u001b[0m\n\u001b[0;32m--> 268\u001b[0;31m             self._probB, self.fit_status_ = libsvm.fit(\n\u001b[0m\u001b[1;32m    269\u001b[0m                 \u001b[0mX\u001b[0m\u001b[0;34m,\u001b[0m \u001b[0my\u001b[0m\u001b[0;34m,\u001b[0m\u001b[0;34m\u001b[0m\u001b[0;34m\u001b[0m\u001b[0m\n\u001b[1;32m    270\u001b[0m                 \u001b[0msvm_type\u001b[0m\u001b[0;34m=\u001b[0m\u001b[0msolver_type\u001b[0m\u001b[0;34m,\u001b[0m \u001b[0msample_weight\u001b[0m\u001b[0;34m=\u001b[0m\u001b[0msample_weight\u001b[0m\u001b[0;34m,\u001b[0m\u001b[0;34m\u001b[0m\u001b[0;34m\u001b[0m\u001b[0m\n",
      "\u001b[0;31mKeyboardInterrupt\u001b[0m: "
     ]
    }
   ],
   "source": [
    "fitting_times = []\n",
    "for n in tqdm(n_samples):\n",
    "    t = time.time()\n",
    "    svr.fit(X_train[:n], Y_train[:n])\n",
    "    elapsed_time = time.time() - t\n",
    "    fitting_times.append(elapsed_time)\n"
   ]
  },
  {
   "cell_type": "code",
   "execution_count": 105,
   "metadata": {
    "ExecuteTime": {
     "end_time": "2020-09-24T15:56:48.929145Z",
     "start_time": "2020-09-24T15:56:48.751813Z"
    },
    "hidden": true
   },
   "outputs": [
    {
     "data": {
      "text/plain": [
       "[<matplotlib.lines.Line2D at 0x124681eb0>]"
      ]
     },
     "execution_count": 105,
     "metadata": {},
     "output_type": "execute_result"
    },
    {
     "data": {
      "image/png": "[encoded data removed]",
      "text/plain": [
       "<Figure size 432x288 with 1 Axes>"
      ]
     },
     "metadata": {
      "needs_background": "light"
     },
     "output_type": "display_data"
    }
   ],
   "source": [
    "plt.plot(n_samples[:len(fitting_times)], fitting_times)"
   ]
  },
  {
   "cell_type": "code",
   "execution_count": 73,
   "metadata": {
    "ExecuteTime": {
     "end_time": "2020-09-24T11:34:06.706459Z",
     "start_time": "2020-09-24T11:34:06.702194Z"
    },
    "hidden": true
   },
   "outputs": [],
   "source": [
    "from sklearn.linear_model import LinearRegression"
   ]
  },
  {
   "cell_type": "code",
   "execution_count": 76,
   "metadata": {
    "ExecuteTime": {
     "end_time": "2020-09-24T11:36:07.196074Z",
     "start_time": "2020-09-24T11:36:07.186737Z"
    },
    "hidden": true
   },
   "outputs": [
    {
     "data": {
      "text/plain": [
       "LinearRegression()"
      ]
     },
     "execution_count": 76,
     "metadata": {},
     "output_type": "execute_result"
    }
   ],
   "source": [
    "_model = LinearRegression()\n",
    "_model.fit(np.expand_dims(n_samples**2, axis=1), np.array(fitting_times))"
   ]
  },
  {
   "cell_type": "code",
   "execution_count": 77,
   "metadata": {
    "ExecuteTime": {
     "end_time": "2020-09-24T11:38:06.810094Z",
     "start_time": "2020-09-24T11:38:06.592043Z"
    },
    "hidden": true
   },
   "outputs": [
    {
     "data": {
      "text/plain": [
       "[<matplotlib.lines.Line2D at 0x123f06dc0>]"
      ]
     },
     "execution_count": 77,
     "metadata": {},
     "output_type": "execute_result"
    },
    {
     "data": {
      "image/png": "[encoded data removed]",
      "text/plain": [
       "<Figure size 432x288 with 1 Axes>"
      ]
     },
     "metadata": {
      "needs_background": "light"
     },
     "output_type": "display_data"
    }
   ],
   "source": [
    "plt.plot(n_samples, fitting_times, label='actual')\n",
    "plt.plot(n_samples, _model.predict(np.expand_dims(n_samples**2, axis=1)), label='prediction')"
   ]
  },
  {
   "cell_type": "code",
   "execution_count": 84,
   "metadata": {
    "ExecuteTime": {
     "end_time": "2020-09-24T12:55:11.661528Z",
     "start_time": "2020-09-24T12:55:11.658006Z"
    },
    "hidden": true
   },
   "outputs": [
    {
     "data": {
      "text/plain": [
       "5997600"
      ]
     },
     "execution_count": 84,
     "metadata": {},
     "output_type": "execute_result"
    }
   ],
   "source": [
    "len(X_train)"
   ]
  },
  {
   "cell_type": "code",
   "execution_count": 87,
   "metadata": {
    "ExecuteTime": {
     "end_time": "2020-09-24T12:56:05.436830Z",
     "start_time": "2020-09-24T12:56:05.432709Z"
    },
    "hidden": true
   },
   "outputs": [
    {
     "data": {
      "text/plain": [
       "array([0.10435984])"
      ]
     },
     "execution_count": 87,
     "metadata": {},
     "output_type": "execute_result"
    }
   ],
   "source": [
    "_model.predict([[(len(X_train)*0.1)**2]]) / 60 / 60"
   ]
  },
  {
   "cell_type": "markdown",
   "metadata": {
    "heading_collapsed": true
   },
   "source": [
    "### Stacking"
   ]
  },
  {
   "cell_type": "code",
   "execution_count": 51,
   "metadata": {
    "ExecuteTime": {
     "end_time": "2020-09-17T15:44:01.428586Z",
     "start_time": "2020-09-17T15:44:01.201511Z"
    },
    "hidden": true
   },
   "outputs": [],
   "source": [
    "from sklearn.ensemble import RandomForestRegressor, StackingRegressor\n",
    "from sklearn.pipeline import Pipeline\n",
    "import lightgbm as lgb"
   ]
  },
  {
   "cell_type": "code",
   "execution_count": 167,
   "metadata": {
    "ExecuteTime": {
     "end_time": "2020-09-18T03:48:08.261363Z",
     "start_time": "2020-09-18T03:48:08.247364Z"
    },
    "hidden": true
   },
   "outputs": [],
   "source": [
    "train_lgb_data = lgb.Dataset(X_train, label=Y_train, )\n",
    "params = {\n",
    "    'max_depth': 50,\n",
    "    'learning_rate': 0.25,\n",
    "    'num_leaves': 200,\n",
    "    'n_estimators': 200,\n",
    "    'bagging_fraction': 1/100,\n",
    "    'sub_feature': 1,\n",
    "    'metric': 'mse',\n",
    "    'feature_fraction_seed': 41,\n",
    "    'bagging_seed': 42\n",
    "    \n",
    "}\n",
    "lgb_model = lgb.LGBMRegressor(**params, )"
   ]
  },
  {
   "cell_type": "code",
   "execution_count": 168,
   "metadata": {
    "ExecuteTime": {
     "end_time": "2020-09-18T03:48:08.953400Z",
     "start_time": "2020-09-18T03:48:08.949396Z"
    },
    "hidden": true
   },
   "outputs": [],
   "source": [
    "linear_model = LinearRegression(fit_intercept=False,\n",
    "                                n_jobs=4)"
   ]
  },
  {
   "cell_type": "code",
   "execution_count": 169,
   "metadata": {
    "ExecuteTime": {
     "end_time": "2020-09-18T03:48:09.431632Z",
     "start_time": "2020-09-18T03:48:09.417632Z"
    },
    "hidden": true
   },
   "outputs": [],
   "source": [
    "rfr = RandomForestRegressor(n_estimators=100,\n",
    "                            min_samples_split=2,\n",
    "                            max_samples=0.5,\n",
    "                            max_features=0.5,\n",
    "                            max_depth=16,\n",
    "                            n_jobs=4,\n",
    "                            verbose=10\n",
    "                           )"
   ]
  },
  {
   "cell_type": "code",
   "execution_count": 170,
   "metadata": {
    "ExecuteTime": {
     "end_time": "2020-09-18T03:48:17.229175Z",
     "start_time": "2020-09-18T03:48:17.221175Z"
    },
    "hidden": true
   },
   "outputs": [],
   "source": [
    "meta_model = RandomForestRegressor(max_depth=8,\n",
    "                                   n_estimators=32,\n",
    "                                   n_jobs=-1, \n",
    "                                   random_state=213)\n",
    "stack_regressor = StackingRegressor([('rfr', rfr),\n",
    "                                     ('lgb', lgb_model),\n",
    "                                     ('linear', linear_model)\n",
    "                                     ],\n",
    "                                    final_estimator=meta_model,\n",
    "                                    passthrough=True,\n",
    "                                    cv=3,\n",
    "                                    verbose=100,\n",
    "\n",
    "                                    )"
   ]
  },
  {
   "cell_type": "code",
   "execution_count": 171,
   "metadata": {
    "ExecuteTime": {
     "end_time": "2020-09-18T04:07:44.515361Z",
     "start_time": "2020-09-18T03:48:24.038430Z"
    },
    "hidden": true,
    "scrolled": true
   },
   "outputs": [
    {
     "name": "stderr",
     "output_type": "stream",
     "text": [
      "[Parallel(n_jobs=4)]: Using backend LokyBackend with 4 concurrent workers.\n",
      "[Parallel(n_jobs=4)]: Done   5 tasks      | elapsed:   19.5s\n",
      "[Parallel(n_jobs=4)]: Done  10 tasks      | elapsed:   32.3s\n",
      "[Parallel(n_jobs=4)]: Done  17 tasks      | elapsed:   55.8s\n",
      "[Parallel(n_jobs=4)]: Done  24 tasks      | elapsed:  1.2min\n",
      "[Parallel(n_jobs=4)]: Done  33 tasks      | elapsed:  1.7min\n",
      "[Parallel(n_jobs=4)]: Done  42 tasks      | elapsed:  2.2min\n",
      "[Parallel(n_jobs=4)]: Done  53 tasks      | elapsed:  2.8min\n",
      "[Parallel(n_jobs=4)]: Done  64 tasks      | elapsed:  3.4min\n",
      "[Parallel(n_jobs=4)]: Done  77 tasks      | elapsed:  3.9min\n",
      "[Parallel(n_jobs=4)]: Done  90 tasks      | elapsed:  4.6min\n",
      "[Parallel(n_jobs=4)]: Done 100 out of 100 | elapsed:  5.1min finished\n"
     ]
    },
    {
     "name": "stdout",
     "output_type": "stream",
     "text": [
      "[LightGBM] [Warning] feature_fraction is set with colsample_bytree=1.0, will be overridden by sub_feature=1. Current value: feature_fraction=1\n",
      "[LightGBM] [Warning] bagging_fraction is set=0.01, subsample=1.0 will be ignored. Current value: bagging_fraction=0.01\n",
      "[Parallel(n_jobs=1)]: Using backend SequentialBackend with 1 concurrent workers.\n"
     ]
    },
    {
     "name": "stderr",
     "output_type": "stream",
     "text": [
      "[Parallel(n_jobs=4)]: Using backend LokyBackend with 4 concurrent workers.\n",
      "[Parallel(n_jobs=4)]: Done   5 tasks      | elapsed:   12.1s\n",
      "[Parallel(n_jobs=4)]: Done  10 tasks      | elapsed:   22.4s\n",
      "[Parallel(n_jobs=4)]: Done  17 tasks      | elapsed:   34.2s\n",
      "[Parallel(n_jobs=4)]: Done  24 tasks      | elapsed:   47.7s\n",
      "[Parallel(n_jobs=4)]: Done  33 tasks      | elapsed:  1.1min\n",
      "[Parallel(n_jobs=4)]: Done  42 tasks      | elapsed:  1.4min\n",
      "[Parallel(n_jobs=4)]: Done  53 tasks      | elapsed:  1.8min\n",
      "[Parallel(n_jobs=4)]: Done  64 tasks      | elapsed:  2.1min\n",
      "[Parallel(n_jobs=4)]: Done  77 tasks      | elapsed:  2.5min\n",
      "[Parallel(n_jobs=4)]: Done  90 tasks      | elapsed:  2.8min\n",
      "[Parallel(n_jobs=4)]: Done 100 out of 100 | elapsed:  3.2min finished\n"
     ]
    },
    {
     "name": "stdout",
     "output_type": "stream",
     "text": [
      "Using ThreadingBackend as joblib.Parallel backend instead of LokyBackend as the latter does not provide shared memory semantics.\n"
     ]
    },
    {
     "name": "stderr",
     "output_type": "stream",
     "text": [
      "[Parallel(n_jobs=4)]: Using backend ThreadingBackend with 4 concurrent workers.\n",
      "[Parallel(n_jobs=4)]: Done   5 tasks      | elapsed:    0.0s\n",
      "[Parallel(n_jobs=4)]: Done  10 tasks      | elapsed:    0.1s\n",
      "[Parallel(n_jobs=4)]: Done  17 tasks      | elapsed:    0.2s\n",
      "[Parallel(n_jobs=4)]: Done  24 tasks      | elapsed:    0.3s\n",
      "[Parallel(n_jobs=4)]: Done  33 tasks      | elapsed:    0.5s\n",
      "[Parallel(n_jobs=4)]: Done  42 tasks      | elapsed:    0.6s\n",
      "[Parallel(n_jobs=4)]: Done  53 tasks      | elapsed:    0.8s\n",
      "[Parallel(n_jobs=4)]: Done  64 tasks      | elapsed:    1.0s\n",
      "[Parallel(n_jobs=4)]: Done  77 tasks      | elapsed:    1.3s\n",
      "[Parallel(n_jobs=4)]: Done  90 tasks      | elapsed:    1.5s\n",
      "[Parallel(n_jobs=4)]: Done 100 out of 100 | elapsed:    1.7s finished\n"
     ]
    },
    {
     "name": "stdout",
     "output_type": "stream",
     "text": [
      "[Parallel(n_jobs=1)]: Done   1 out of   1 | elapsed:  3.2min remaining:    0.0s\n"
     ]
    },
    {
     "name": "stderr",
     "output_type": "stream",
     "text": [
      "[Parallel(n_jobs=4)]: Using backend LokyBackend with 4 concurrent workers.\n",
      "[Parallel(n_jobs=4)]: Done   5 tasks      | elapsed:   13.7s\n",
      "[Parallel(n_jobs=4)]: Done  10 tasks      | elapsed:   22.7s\n",
      "[Parallel(n_jobs=4)]: Done  17 tasks      | elapsed:   31.7s\n",
      "[Parallel(n_jobs=4)]: Done  24 tasks      | elapsed:   42.8s\n",
      "[Parallel(n_jobs=4)]: Done  33 tasks      | elapsed:  1.1min\n",
      "[Parallel(n_jobs=4)]: Done  42 tasks      | elapsed:  1.4min\n",
      "[Parallel(n_jobs=4)]: Done  53 tasks      | elapsed:  1.7min\n",
      "[Parallel(n_jobs=4)]: Done  64 tasks      | elapsed:  2.0min\n",
      "[Parallel(n_jobs=4)]: Done  77 tasks      | elapsed:  2.4min\n",
      "[Parallel(n_jobs=4)]: Done  90 tasks      | elapsed:  2.8min\n",
      "[Parallel(n_jobs=4)]: Done 100 out of 100 | elapsed:  3.2min finished\n"
     ]
    },
    {
     "name": "stdout",
     "output_type": "stream",
     "text": [
      "Using ThreadingBackend as joblib.Parallel backend instead of LokyBackend as the latter does not provide shared memory semantics.\n"
     ]
    },
    {
     "name": "stderr",
     "output_type": "stream",
     "text": [
      "[Parallel(n_jobs=4)]: Using backend ThreadingBackend with 4 concurrent workers.\n",
      "[Parallel(n_jobs=4)]: Done   5 tasks      | elapsed:    0.0s\n",
      "[Parallel(n_jobs=4)]: Done  10 tasks      | elapsed:    0.1s\n",
      "[Parallel(n_jobs=4)]: Done  17 tasks      | elapsed:    0.3s\n",
      "[Parallel(n_jobs=4)]: Done  24 tasks      | elapsed:    0.4s\n",
      "[Parallel(n_jobs=4)]: Done  33 tasks      | elapsed:    0.6s\n",
      "[Parallel(n_jobs=4)]: Done  42 tasks      | elapsed:    0.8s\n",
      "[Parallel(n_jobs=4)]: Done  53 tasks      | elapsed:    1.0s\n",
      "[Parallel(n_jobs=4)]: Done  64 tasks      | elapsed:    1.2s\n",
      "[Parallel(n_jobs=4)]: Done  77 tasks      | elapsed:    1.5s\n",
      "[Parallel(n_jobs=4)]: Done  90 tasks      | elapsed:    1.8s\n",
      "[Parallel(n_jobs=4)]: Done 100 out of 100 | elapsed:    2.0s finished\n"
     ]
    },
    {
     "name": "stdout",
     "output_type": "stream",
     "text": [
      "[Parallel(n_jobs=1)]: Done   2 out of   2 | elapsed:  6.5min remaining:    0.0s\n"
     ]
    },
    {
     "name": "stderr",
     "output_type": "stream",
     "text": [
      "[Parallel(n_jobs=4)]: Using backend LokyBackend with 4 concurrent workers.\n",
      "[Parallel(n_jobs=4)]: Done   5 tasks      | elapsed:   13.5s\n",
      "[Parallel(n_jobs=4)]: Done  10 tasks      | elapsed:   22.3s\n",
      "[Parallel(n_jobs=4)]: Done  17 tasks      | elapsed:   36.4s\n",
      "[Parallel(n_jobs=4)]: Done  24 tasks      | elapsed:   49.7s\n",
      "[Parallel(n_jobs=4)]: Done  33 tasks      | elapsed:  1.1min\n",
      "[Parallel(n_jobs=4)]: Done  42 tasks      | elapsed:  1.3min\n",
      "[Parallel(n_jobs=4)]: Done  53 tasks      | elapsed:  1.6min\n",
      "[Parallel(n_jobs=4)]: Done  64 tasks      | elapsed:  1.9min\n",
      "[Parallel(n_jobs=4)]: Done  77 tasks      | elapsed:  2.3min\n",
      "[Parallel(n_jobs=4)]: Done  90 tasks      | elapsed:  2.7min\n",
      "[Parallel(n_jobs=4)]: Done 100 out of 100 | elapsed:  3.0min finished\n"
     ]
    },
    {
     "name": "stdout",
     "output_type": "stream",
     "text": [
      "Using ThreadingBackend as joblib.Parallel backend instead of LokyBackend as the latter does not provide shared memory semantics.\n"
     ]
    },
    {
     "name": "stderr",
     "output_type": "stream",
     "text": [
      "[Parallel(n_jobs=4)]: Using backend ThreadingBackend with 4 concurrent workers.\n",
      "[Parallel(n_jobs=4)]: Done   5 tasks      | elapsed:    0.0s\n",
      "[Parallel(n_jobs=4)]: Done  10 tasks      | elapsed:    0.2s\n",
      "[Parallel(n_jobs=4)]: Done  17 tasks      | elapsed:    0.3s\n",
      "[Parallel(n_jobs=4)]: Done  24 tasks      | elapsed:    0.5s\n",
      "[Parallel(n_jobs=4)]: Done  33 tasks      | elapsed:    0.7s\n",
      "[Parallel(n_jobs=4)]: Done  42 tasks      | elapsed:    0.9s\n",
      "[Parallel(n_jobs=4)]: Done  53 tasks      | elapsed:    1.1s\n",
      "[Parallel(n_jobs=4)]: Done  64 tasks      | elapsed:    1.4s\n",
      "[Parallel(n_jobs=4)]: Done  77 tasks      | elapsed:    1.7s\n",
      "[Parallel(n_jobs=4)]: Done  90 tasks      | elapsed:    2.0s\n",
      "[Parallel(n_jobs=4)]: Done 100 out of 100 | elapsed:    2.2s finished\n"
     ]
    },
    {
     "name": "stdout",
     "output_type": "stream",
     "text": [
      "[Parallel(n_jobs=1)]: Done   3 out of   3 | elapsed:  9.6min remaining:    0.0s\n",
      "[Parallel(n_jobs=1)]: Done   3 out of   3 | elapsed:  9.6min finished\n",
      "[Parallel(n_jobs=1)]: Using backend SequentialBackend with 1 concurrent workers.\n",
      "[Parallel(n_jobs=1)]: Done   1 out of   1 | elapsed:   23.2s remaining:    0.0s\n",
      "[LightGBM] [Warning] feature_fraction is set with colsample_bytree=1.0, will be overridden by sub_feature=1. Current value: feature_fraction=1\n",
      "[LightGBM] [Warning] bagging_fraction is set=0.01, subsample=1.0 will be ignored. Current value: bagging_fraction=0.01\n",
      "[Parallel(n_jobs=1)]: Done   2 out of   2 | elapsed:   46.1s remaining:    0.0s\n",
      "[LightGBM] [Warning] feature_fraction is set with colsample_bytree=1.0, will be overridden by sub_feature=1. Current value: feature_fraction=1\n",
      "[LightGBM] [Warning] bagging_fraction is set=0.01, subsample=1.0 will be ignored. Current value: bagging_fraction=0.01\n",
      "[Parallel(n_jobs=1)]: Done   3 out of   3 | elapsed:  1.2min remaining:    0.0s\n",
      "[Parallel(n_jobs=1)]: Done   3 out of   3 | elapsed:  1.2min finished\n",
      "[Parallel(n_jobs=1)]: Using backend SequentialBackend with 1 concurrent workers.\n",
      "[Parallel(n_jobs=1)]: Done   1 out of   1 | elapsed:    3.8s remaining:    0.0s\n",
      "[Parallel(n_jobs=1)]: Done   2 out of   2 | elapsed:    7.7s remaining:    0.0s\n",
      "[Parallel(n_jobs=1)]: Done   3 out of   3 | elapsed:   11.4s remaining:    0.0s\n",
      "[Parallel(n_jobs=1)]: Done   3 out of   3 | elapsed:   11.4s finished\n"
     ]
    },
    {
     "data": {
      "text/plain": [
       "StackingRegressor(cv=3,\n",
       "                  estimators=[('rfr',\n",
       "                               RandomForestRegressor(bootstrap=True,\n",
       "                                                     ccp_alpha=0.0,\n",
       "                                                     criterion='mse',\n",
       "                                                     max_depth=16,\n",
       "                                                     max_features=0.5,\n",
       "                                                     max_leaf_nodes=None,\n",
       "                                                     max_samples=0.5,\n",
       "                                                     min_impurity_decrease=0.0,\n",
       "                                                     min_impurity_split=None,\n",
       "                                                     min_samples_leaf=1,\n",
       "                                                     min_samples_split=2,\n",
       "                                                     min_weight_fraction_leaf=0.0,\n",
       "                                                     n_estimators=100, n_jobs=4,\n",
       "                                                     oob_score=False,\n",
       "                                                     random_state=No...\n",
       "                  final_estimator=RandomForestRegressor(bootstrap=True,\n",
       "                                                        ccp_alpha=0.0,\n",
       "                                                        criterion='mse',\n",
       "                                                        max_depth=8,\n",
       "                                                        max_features='auto',\n",
       "                                                        max_leaf_nodes=None,\n",
       "                                                        max_samples=None,\n",
       "                                                        min_impurity_decrease=0.0,\n",
       "                                                        min_impurity_split=None,\n",
       "                                                        min_samples_leaf=1,\n",
       "                                                        min_samples_split=2,\n",
       "                                                        min_weight_fraction_leaf=0.0,\n",
       "                                                        n_estimators=32,\n",
       "                                                        n_jobs=-1,\n",
       "                                                        oob_score=False,\n",
       "                                                        random_state=213,\n",
       "                                                        verbose=0,\n",
       "                                                        warm_start=False),\n",
       "                  n_jobs=None, passthrough=True, verbose=100)"
      ]
     },
     "execution_count": 171,
     "metadata": {},
     "output_type": "execute_result"
    }
   ],
   "source": [
    "stack_regressor.fit(X_train, Y_train)"
   ]
  },
  {
   "cell_type": "code",
   "execution_count": 172,
   "metadata": {
    "ExecuteTime": {
     "end_time": "2020-09-18T04:09:53.795037Z",
     "start_time": "2020-09-18T04:09:53.250528Z"
    },
    "hidden": true,
    "scrolled": true
   },
   "outputs": [
    {
     "name": "stderr",
     "output_type": "stream",
     "text": [
      "[Parallel(n_jobs=4)]: Using backend ThreadingBackend with 4 concurrent workers.\n",
      "[Parallel(n_jobs=4)]: Done   5 tasks      | elapsed:    0.0s\n",
      "[Parallel(n_jobs=4)]: Done  10 tasks      | elapsed:    0.0s\n",
      "[Parallel(n_jobs=4)]: Done  17 tasks      | elapsed:    0.0s\n",
      "[Parallel(n_jobs=4)]: Done  24 tasks      | elapsed:    0.0s\n",
      "[Parallel(n_jobs=4)]: Done  33 tasks      | elapsed:    0.0s\n",
      "[Parallel(n_jobs=4)]: Done  42 tasks      | elapsed:    0.0s\n",
      "[Parallel(n_jobs=4)]: Done  53 tasks      | elapsed:    0.0s\n",
      "[Parallel(n_jobs=4)]: Done  64 tasks      | elapsed:    0.1s\n",
      "[Parallel(n_jobs=4)]: Done  77 tasks      | elapsed:    0.1s\n",
      "[Parallel(n_jobs=4)]: Done  90 tasks      | elapsed:    0.1s\n",
      "[Parallel(n_jobs=4)]: Done 100 out of 100 | elapsed:    0.1s finished\n"
     ]
    },
    {
     "data": {
      "text/plain": [
       "rmse    0.588264\n",
       "r2      0.722053\n",
       "dtype: float64"
      ]
     },
     "execution_count": 172,
     "metadata": {},
     "output_type": "execute_result"
    }
   ],
   "source": [
    "prediction = np.squeeze(stack_regressor.predict(X_val))\n",
    "\n",
    "result = pd.Series(evaluate(Y_val, prediction))\n",
    "result"
   ]
  },
  {
   "cell_type": "markdown",
   "metadata": {},
   "source": [
    "## Predict"
   ]
  },
  {
   "cell_type": "code",
   "execution_count": 76,
   "metadata": {
    "ExecuteTime": {
     "end_time": "2020-10-18T13:53:39.371001Z",
     "start_time": "2020-10-18T13:53:39.132001Z"
    },
    "scrolled": true
   },
   "outputs": [],
   "source": [
    "ignore_cols = ['shop_id_encoded', 'item_id', 'item_category_id_encoded', 'month_encoded', 'tag_encoded']\n",
    "selected_cols = X_test.columns.difference(ignore_cols).tolist()\n",
    "model = lgb_model\n",
    "prediction = model.predict(X_test[selected_cols].to_numpy())\n",
    "\n",
    "\n"
   ]
  },
  {
   "cell_type": "code",
   "execution_count": 77,
   "metadata": {
    "ExecuteTime": {
     "end_time": "2020-10-18T13:53:41.668669Z",
     "start_time": "2020-10-18T13:53:41.653670Z"
    }
   },
   "outputs": [
    {
     "data": {
      "text/html": [
       "<div>\n",
       "<style scoped>\n",
       "    .dataframe tbody tr th:only-of-type {\n",
       "        vertical-align: middle;\n",
       "    }\n",
       "\n",
       "    .dataframe tbody tr th {\n",
       "        vertical-align: top;\n",
       "    }\n",
       "\n",
       "    .dataframe thead th {\n",
       "        text-align: right;\n",
       "    }\n",
       "</style>\n",
       "<table border=\"1\" class=\"dataframe\">\n",
       "  <thead>\n",
       "    <tr style=\"text-align: right;\">\n",
       "      <th></th>\n",
       "      <th>ID</th>\n",
       "      <th>item_cnt_month</th>\n",
       "    </tr>\n",
       "  </thead>\n",
       "  <tbody>\n",
       "    <tr>\n",
       "      <th>0</th>\n",
       "      <td>0</td>\n",
       "      <td>0.155848</td>\n",
       "    </tr>\n",
       "    <tr>\n",
       "      <th>1</th>\n",
       "      <td>1</td>\n",
       "      <td>0.077701</td>\n",
       "    </tr>\n",
       "    <tr>\n",
       "      <th>2</th>\n",
       "      <td>2</td>\n",
       "      <td>1.059933</td>\n",
       "    </tr>\n",
       "    <tr>\n",
       "      <th>3</th>\n",
       "      <td>3</td>\n",
       "      <td>0.114903</td>\n",
       "    </tr>\n",
       "    <tr>\n",
       "      <th>4</th>\n",
       "      <td>4</td>\n",
       "      <td>0.077701</td>\n",
       "    </tr>\n",
       "    <tr>\n",
       "      <th>...</th>\n",
       "      <td>...</td>\n",
       "      <td>...</td>\n",
       "    </tr>\n",
       "    <tr>\n",
       "      <th>214195</th>\n",
       "      <td>214195</td>\n",
       "      <td>0.757282</td>\n",
       "    </tr>\n",
       "    <tr>\n",
       "      <th>214196</th>\n",
       "      <td>214196</td>\n",
       "      <td>0.077701</td>\n",
       "    </tr>\n",
       "    <tr>\n",
       "      <th>214197</th>\n",
       "      <td>214197</td>\n",
       "      <td>0.083858</td>\n",
       "    </tr>\n",
       "    <tr>\n",
       "      <th>214198</th>\n",
       "      <td>214198</td>\n",
       "      <td>0.077701</td>\n",
       "    </tr>\n",
       "    <tr>\n",
       "      <th>214199</th>\n",
       "      <td>214199</td>\n",
       "      <td>0.078746</td>\n",
       "    </tr>\n",
       "  </tbody>\n",
       "</table>\n",
       "<p>214200 rows × 2 columns</p>\n",
       "</div>"
      ],
      "text/plain": [
       "            ID  item_cnt_month\n",
       "0            0        0.155848\n",
       "1            1        0.077701\n",
       "2            2        1.059933\n",
       "3            3        0.114903\n",
       "4            4        0.077701\n",
       "...        ...             ...\n",
       "214195  214195        0.757282\n",
       "214196  214196        0.077701\n",
       "214197  214197        0.083858\n",
       "214198  214198        0.077701\n",
       "214199  214199        0.078746\n",
       "\n",
       "[214200 rows x 2 columns]"
      ]
     },
     "execution_count": 77,
     "metadata": {},
     "output_type": "execute_result"
    }
   ],
   "source": [
    "submission_df = pd.DataFrame(np.array([test_data['ID'].values, prediction]).T,\n",
    "                             columns=['ID', 'item_cnt_month'], )\n",
    "submission_df['ID'] = submission_df['ID'].astype(int)\n",
    "submission_df "
   ]
  },
  {
   "cell_type": "code",
   "execution_count": 78,
   "metadata": {
    "ExecuteTime": {
     "end_time": "2020-10-18T13:53:43.901814Z",
     "start_time": "2020-10-18T13:53:43.886815Z"
    }
   },
   "outputs": [
    {
     "data": {
      "text/plain": [
       "count    214200.000000\n",
       "mean          0.237096\n",
       "std           0.496983\n",
       "min           0.075142\n",
       "25%           0.077701\n",
       "50%           0.082741\n",
       "75%           0.103654\n",
       "max          12.521695\n",
       "Name: item_cnt_month, dtype: float64"
      ]
     },
     "execution_count": 78,
     "metadata": {},
     "output_type": "execute_result"
    }
   ],
   "source": [
    "submission_df['item_cnt_month'].describe()"
   ]
  },
  {
   "cell_type": "code",
   "execution_count": 79,
   "metadata": {
    "ExecuteTime": {
     "end_time": "2020-10-18T13:53:46.739481Z",
     "start_time": "2020-10-18T13:53:46.275469Z"
    }
   },
   "outputs": [],
   "source": [
    "submission_df.to_csv('submission/outputv38.csv', index=False)"
   ]
  },
  {
   "cell_type": "code",
   "execution_count": null,
   "metadata": {},
   "outputs": [],
   "source": []
  }
 ],
 "metadata": {
  "kernelspec": {
   "display_name": "Python 3",
   "language": "python",
   "name": "python3"
  },
  "language_info": {
   "codemirror_mode": {
    "name": "ipython",
    "version": 3
   },
   "file_extension": ".py",
   "mimetype": "text/x-python",
   "name": "python",
   "nbconvert_exporter": "python",
   "pygments_lexer": "ipython3",
   "version": "3.8.2"
  },
  "varInspector": {
   "cols": {
    "lenName": 16,
    "lenType": 16,
    "lenVar": 40
   },
   "kernels_config": {
    "python": {
     "delete_cmd_postfix": "",
     "delete_cmd_prefix": "del ",
     "library": "var_list.py",
     "varRefreshCmd": "print(var_dic_list())"
    },
    "r": {
     "delete_cmd_postfix": ") ",
     "delete_cmd_prefix": "rm(",
     "library": "var_list.r",
     "varRefreshCmd": "cat(var_dic_list()) "
    }
   },
   "types_to_exclude": [
    "module",
    "function",
    "builtin_function_or_method",
    "instance",
    "_Feature"
   ],
   "window_display": false
  }
 },
 "nbformat": 4,
 "nbformat_minor": 4
}
