{
 "cells": [
  {
   "cell_type": "code",
   "execution_count": 1,
   "metadata": {
    "ExecuteTime": {
     "end_time": "2020-09-17T15:15:11.792110Z",
     "start_time": "2020-09-17T15:15:09.319215Z"
    }
   },
   "outputs": [
    {
     "name": "stderr",
     "output_type": "stream",
     "text": [
      "c:\\users\\nanth\\appdata\\local\\programs\\python\\python38\\lib\\site-packages\\tqdm\\std.py:668: FutureWarning: The Panel class is removed from pandas. Accessing it from the top-level namespace will also be removed in the next version\n",
      "  from pandas import Panel\n"
     ]
    }
   ],
   "source": [
    "from pathlib import Path\n",
    "import numpy as np\n",
    "import pandas as pd\n",
    "import matplotlib.pyplot as plt\n",
    "from tqdm import tqdm, trange\n",
    "tqdm.pandas()\n",
    "from multiprocessing import Pool\n",
    "import pickle\n",
    "from sklearn.preprocessing import StandardScaler\n",
    "\n",
    "from sklearn.model_selection import GridSearchCV\n",
    "from sklearn.metrics import r2_score, mean_squared_error, make_scorer\n",
    "import gc"
   ]
  },
  {
   "cell_type": "code",
   "execution_count": 2,
   "metadata": {
    "ExecuteTime": {
     "end_time": "2020-09-17T15:15:11.918111Z",
     "start_time": "2020-09-17T15:15:11.824111Z"
    }
   },
   "outputs": [
    {
     "data": {
      "text/html": [
       "<div>\n",
       "<style scoped>\n",
       "    .dataframe tbody tr th:only-of-type {\n",
       "        vertical-align: middle;\n",
       "    }\n",
       "\n",
       "    .dataframe tbody tr th {\n",
       "        vertical-align: top;\n",
       "    }\n",
       "\n",
       "    .dataframe thead th {\n",
       "        text-align: right;\n",
       "    }\n",
       "</style>\n",
       "<table border=\"1\" class=\"dataframe\">\n",
       "  <thead>\n",
       "    <tr style=\"text-align: right;\">\n",
       "      <th></th>\n",
       "      <th>ID</th>\n",
       "      <th>shop_id</th>\n",
       "      <th>item_id</th>\n",
       "    </tr>\n",
       "  </thead>\n",
       "  <tbody>\n",
       "    <tr>\n",
       "      <th>0</th>\n",
       "      <td>0</td>\n",
       "      <td>5</td>\n",
       "      <td>5037</td>\n",
       "    </tr>\n",
       "    <tr>\n",
       "      <th>1</th>\n",
       "      <td>1</td>\n",
       "      <td>5</td>\n",
       "      <td>5320</td>\n",
       "    </tr>\n",
       "    <tr>\n",
       "      <th>2</th>\n",
       "      <td>2</td>\n",
       "      <td>5</td>\n",
       "      <td>5233</td>\n",
       "    </tr>\n",
       "    <tr>\n",
       "      <th>3</th>\n",
       "      <td>3</td>\n",
       "      <td>5</td>\n",
       "      <td>5232</td>\n",
       "    </tr>\n",
       "    <tr>\n",
       "      <th>4</th>\n",
       "      <td>4</td>\n",
       "      <td>5</td>\n",
       "      <td>5268</td>\n",
       "    </tr>\n",
       "    <tr>\n",
       "      <th>...</th>\n",
       "      <td>...</td>\n",
       "      <td>...</td>\n",
       "      <td>...</td>\n",
       "    </tr>\n",
       "    <tr>\n",
       "      <th>214195</th>\n",
       "      <td>214195</td>\n",
       "      <td>45</td>\n",
       "      <td>18454</td>\n",
       "    </tr>\n",
       "    <tr>\n",
       "      <th>214196</th>\n",
       "      <td>214196</td>\n",
       "      <td>45</td>\n",
       "      <td>16188</td>\n",
       "    </tr>\n",
       "    <tr>\n",
       "      <th>214197</th>\n",
       "      <td>214197</td>\n",
       "      <td>45</td>\n",
       "      <td>15757</td>\n",
       "    </tr>\n",
       "    <tr>\n",
       "      <th>214198</th>\n",
       "      <td>214198</td>\n",
       "      <td>45</td>\n",
       "      <td>19648</td>\n",
       "    </tr>\n",
       "    <tr>\n",
       "      <th>214199</th>\n",
       "      <td>214199</td>\n",
       "      <td>45</td>\n",
       "      <td>969</td>\n",
       "    </tr>\n",
       "  </tbody>\n",
       "</table>\n",
       "<p>214200 rows × 3 columns</p>\n",
       "</div>"
      ],
      "text/plain": [
       "            ID  shop_id  item_id\n",
       "0            0        5     5037\n",
       "1            1        5     5320\n",
       "2            2        5     5233\n",
       "3            3        5     5232\n",
       "4            4        5     5268\n",
       "...        ...      ...      ...\n",
       "214195  214195       45    18454\n",
       "214196  214196       45    16188\n",
       "214197  214197       45    15757\n",
       "214198  214198       45    19648\n",
       "214199  214199       45      969\n",
       "\n",
       "[214200 rows x 3 columns]"
      ]
     },
     "execution_count": 2,
     "metadata": {},
     "output_type": "execute_result"
    }
   ],
   "source": [
    "test_df = pd.read_csv('datasets/test.csv.gz', dtype={'ID': np.int32,\n",
    "                                                    'shop_id': np.int32,\n",
    "                                                    'item_id': np.int32})\n",
    "test_df"
   ]
  },
  {
   "cell_type": "code",
   "execution_count": 3,
   "metadata": {
    "ExecuteTime": {
     "end_time": "2020-09-17T15:15:12.061049Z",
     "start_time": "2020-09-17T15:15:11.951129Z"
    }
   },
   "outputs": [
    {
     "data": {
      "text/html": [
       "<div>\n",
       "<style scoped>\n",
       "    .dataframe tbody tr th:only-of-type {\n",
       "        vertical-align: middle;\n",
       "    }\n",
       "\n",
       "    .dataframe tbody tr th {\n",
       "        vertical-align: top;\n",
       "    }\n",
       "\n",
       "    .dataframe thead th {\n",
       "        text-align: right;\n",
       "    }\n",
       "</style>\n",
       "<table border=\"1\" class=\"dataframe\">\n",
       "  <thead>\n",
       "    <tr style=\"text-align: right;\">\n",
       "      <th></th>\n",
       "      <th>item_name</th>\n",
       "      <th>item_id</th>\n",
       "      <th>item_category_id</th>\n",
       "    </tr>\n",
       "  </thead>\n",
       "  <tbody>\n",
       "    <tr>\n",
       "      <th>0</th>\n",
       "      <td>! ВО ВЛАСТИ НАВАЖДЕНИЯ (ПЛАСТ.)         D</td>\n",
       "      <td>0</td>\n",
       "      <td>40</td>\n",
       "    </tr>\n",
       "    <tr>\n",
       "      <th>1</th>\n",
       "      <td>!ABBYY FineReader 12 Professional Edition Full...</td>\n",
       "      <td>1</td>\n",
       "      <td>76</td>\n",
       "    </tr>\n",
       "    <tr>\n",
       "      <th>2</th>\n",
       "      <td>***В ЛУЧАХ СЛАВЫ   (UNV)                    D</td>\n",
       "      <td>2</td>\n",
       "      <td>40</td>\n",
       "    </tr>\n",
       "    <tr>\n",
       "      <th>3</th>\n",
       "      <td>***ГОЛУБАЯ ВОЛНА  (Univ)                      D</td>\n",
       "      <td>3</td>\n",
       "      <td>40</td>\n",
       "    </tr>\n",
       "    <tr>\n",
       "      <th>4</th>\n",
       "      <td>***КОРОБКА (СТЕКЛО)                       D</td>\n",
       "      <td>4</td>\n",
       "      <td>40</td>\n",
       "    </tr>\n",
       "    <tr>\n",
       "      <th>...</th>\n",
       "      <td>...</td>\n",
       "      <td>...</td>\n",
       "      <td>...</td>\n",
       "    </tr>\n",
       "    <tr>\n",
       "      <th>22165</th>\n",
       "      <td>Ядерный титбит 2 [PC, Цифровая версия]</td>\n",
       "      <td>22165</td>\n",
       "      <td>31</td>\n",
       "    </tr>\n",
       "    <tr>\n",
       "      <th>22166</th>\n",
       "      <td>Язык запросов 1С:Предприятия  [Цифровая версия]</td>\n",
       "      <td>22166</td>\n",
       "      <td>54</td>\n",
       "    </tr>\n",
       "    <tr>\n",
       "      <th>22167</th>\n",
       "      <td>Язык запросов 1С:Предприятия 8 (+CD). Хрустале...</td>\n",
       "      <td>22167</td>\n",
       "      <td>49</td>\n",
       "    </tr>\n",
       "    <tr>\n",
       "      <th>22168</th>\n",
       "      <td>Яйцо для Little Inu</td>\n",
       "      <td>22168</td>\n",
       "      <td>62</td>\n",
       "    </tr>\n",
       "    <tr>\n",
       "      <th>22169</th>\n",
       "      <td>Яйцо дракона (Игра престолов)</td>\n",
       "      <td>22169</td>\n",
       "      <td>69</td>\n",
       "    </tr>\n",
       "  </tbody>\n",
       "</table>\n",
       "<p>22170 rows × 3 columns</p>\n",
       "</div>"
      ],
      "text/plain": [
       "                                               item_name  item_id  \\\n",
       "0              ! ВО ВЛАСТИ НАВАЖДЕНИЯ (ПЛАСТ.)         D        0   \n",
       "1      !ABBYY FineReader 12 Professional Edition Full...        1   \n",
       "2          ***В ЛУЧАХ СЛАВЫ   (UNV)                    D        2   \n",
       "3        ***ГОЛУБАЯ ВОЛНА  (Univ)                      D        3   \n",
       "4            ***КОРОБКА (СТЕКЛО)                       D        4   \n",
       "...                                                  ...      ...   \n",
       "22165             Ядерный титбит 2 [PC, Цифровая версия]    22165   \n",
       "22166    Язык запросов 1С:Предприятия  [Цифровая версия]    22166   \n",
       "22167  Язык запросов 1С:Предприятия 8 (+CD). Хрустале...    22167   \n",
       "22168                                Яйцо для Little Inu    22168   \n",
       "22169                      Яйцо дракона (Игра престолов)    22169   \n",
       "\n",
       "       item_category_id  \n",
       "0                    40  \n",
       "1                    76  \n",
       "2                    40  \n",
       "3                    40  \n",
       "4                    40  \n",
       "...                 ...  \n",
       "22165                31  \n",
       "22166                54  \n",
       "22167                49  \n",
       "22168                62  \n",
       "22169                69  \n",
       "\n",
       "[22170 rows x 3 columns]"
      ]
     },
     "execution_count": 3,
     "metadata": {},
     "output_type": "execute_result"
    }
   ],
   "source": [
    "item_df = pd.read_csv('datasets/items.csv')\n",
    "item_df"
   ]
  },
  {
   "cell_type": "code",
   "execution_count": 4,
   "metadata": {
    "ExecuteTime": {
     "end_time": "2020-09-17T15:15:13.551110Z",
     "start_time": "2020-09-17T15:15:12.094033Z"
    }
   },
   "outputs": [
    {
     "data": {
      "text/html": [
       "<div>\n",
       "<style scoped>\n",
       "    .dataframe tbody tr th:only-of-type {\n",
       "        vertical-align: middle;\n",
       "    }\n",
       "\n",
       "    .dataframe tbody tr th {\n",
       "        vertical-align: top;\n",
       "    }\n",
       "\n",
       "    .dataframe thead th {\n",
       "        text-align: right;\n",
       "    }\n",
       "</style>\n",
       "<table border=\"1\" class=\"dataframe\">\n",
       "  <thead>\n",
       "    <tr style=\"text-align: right;\">\n",
       "      <th></th>\n",
       "      <th>date</th>\n",
       "      <th>date_block_num</th>\n",
       "      <th>shop_id</th>\n",
       "      <th>item_id</th>\n",
       "      <th>item_price</th>\n",
       "      <th>item_cnt_day</th>\n",
       "    </tr>\n",
       "  </thead>\n",
       "  <tbody>\n",
       "    <tr>\n",
       "      <th>0</th>\n",
       "      <td>2013-01-02</td>\n",
       "      <td>0</td>\n",
       "      <td>59</td>\n",
       "      <td>22154</td>\n",
       "      <td>999.00</td>\n",
       "      <td>1.0</td>\n",
       "    </tr>\n",
       "    <tr>\n",
       "      <th>1</th>\n",
       "      <td>2013-01-03</td>\n",
       "      <td>0</td>\n",
       "      <td>25</td>\n",
       "      <td>2552</td>\n",
       "      <td>899.00</td>\n",
       "      <td>1.0</td>\n",
       "    </tr>\n",
       "    <tr>\n",
       "      <th>2</th>\n",
       "      <td>2013-01-05</td>\n",
       "      <td>0</td>\n",
       "      <td>25</td>\n",
       "      <td>2552</td>\n",
       "      <td>899.00</td>\n",
       "      <td>-1.0</td>\n",
       "    </tr>\n",
       "    <tr>\n",
       "      <th>3</th>\n",
       "      <td>2013-01-06</td>\n",
       "      <td>0</td>\n",
       "      <td>25</td>\n",
       "      <td>2554</td>\n",
       "      <td>1709.05</td>\n",
       "      <td>1.0</td>\n",
       "    </tr>\n",
       "    <tr>\n",
       "      <th>4</th>\n",
       "      <td>2013-01-15</td>\n",
       "      <td>0</td>\n",
       "      <td>25</td>\n",
       "      <td>2555</td>\n",
       "      <td>1099.00</td>\n",
       "      <td>1.0</td>\n",
       "    </tr>\n",
       "    <tr>\n",
       "      <th>...</th>\n",
       "      <td>...</td>\n",
       "      <td>...</td>\n",
       "      <td>...</td>\n",
       "      <td>...</td>\n",
       "      <td>...</td>\n",
       "      <td>...</td>\n",
       "    </tr>\n",
       "    <tr>\n",
       "      <th>2935844</th>\n",
       "      <td>2015-10-10</td>\n",
       "      <td>33</td>\n",
       "      <td>25</td>\n",
       "      <td>7409</td>\n",
       "      <td>299.00</td>\n",
       "      <td>1.0</td>\n",
       "    </tr>\n",
       "    <tr>\n",
       "      <th>2935845</th>\n",
       "      <td>2015-10-09</td>\n",
       "      <td>33</td>\n",
       "      <td>25</td>\n",
       "      <td>7460</td>\n",
       "      <td>299.00</td>\n",
       "      <td>1.0</td>\n",
       "    </tr>\n",
       "    <tr>\n",
       "      <th>2935846</th>\n",
       "      <td>2015-10-14</td>\n",
       "      <td>33</td>\n",
       "      <td>25</td>\n",
       "      <td>7459</td>\n",
       "      <td>349.00</td>\n",
       "      <td>1.0</td>\n",
       "    </tr>\n",
       "    <tr>\n",
       "      <th>2935847</th>\n",
       "      <td>2015-10-22</td>\n",
       "      <td>33</td>\n",
       "      <td>25</td>\n",
       "      <td>7440</td>\n",
       "      <td>299.00</td>\n",
       "      <td>1.0</td>\n",
       "    </tr>\n",
       "    <tr>\n",
       "      <th>2935848</th>\n",
       "      <td>2015-10-03</td>\n",
       "      <td>33</td>\n",
       "      <td>25</td>\n",
       "      <td>7460</td>\n",
       "      <td>299.00</td>\n",
       "      <td>1.0</td>\n",
       "    </tr>\n",
       "  </tbody>\n",
       "</table>\n",
       "<p>2935849 rows × 6 columns</p>\n",
       "</div>"
      ],
      "text/plain": [
       "              date  date_block_num  shop_id  item_id  item_price  item_cnt_day\n",
       "0       2013-01-02               0       59    22154      999.00           1.0\n",
       "1       2013-01-03               0       25     2552      899.00           1.0\n",
       "2       2013-01-05               0       25     2552      899.00          -1.0\n",
       "3       2013-01-06               0       25     2554     1709.05           1.0\n",
       "4       2013-01-15               0       25     2555     1099.00           1.0\n",
       "...            ...             ...      ...      ...         ...           ...\n",
       "2935844 2015-10-10              33       25     7409      299.00           1.0\n",
       "2935845 2015-10-09              33       25     7460      299.00           1.0\n",
       "2935846 2015-10-14              33       25     7459      349.00           1.0\n",
       "2935847 2015-10-22              33       25     7440      299.00           1.0\n",
       "2935848 2015-10-03              33       25     7460      299.00           1.0\n",
       "\n",
       "[2935849 rows x 6 columns]"
      ]
     },
     "execution_count": 4,
     "metadata": {},
     "output_type": "execute_result"
    }
   ],
   "source": [
    "sales_df = pd.read_csv('datasets/sales_train.csv.gz')\n",
    "sales_df['date'] = pd.to_datetime(sales_df['date'], format='%d.%m.%Y')\n",
    "sales_df"
   ]
  },
  {
   "cell_type": "code",
   "execution_count": 5,
   "metadata": {
    "ExecuteTime": {
     "end_time": "2020-09-17T15:15:13.630032Z",
     "start_time": "2020-09-17T15:15:13.583034Z"
    }
   },
   "outputs": [
    {
     "data": {
      "text/plain": [
       "date              0\n",
       "date_block_num    0\n",
       "shop_id           0\n",
       "item_id           0\n",
       "item_price        0\n",
       "item_cnt_day      0\n",
       "dtype: int64"
      ]
     },
     "execution_count": 5,
     "metadata": {},
     "output_type": "execute_result"
    }
   ],
   "source": [
    "sales_df.isna().sum(axis=0)"
   ]
  },
  {
   "cell_type": "code",
   "execution_count": 6,
   "metadata": {
    "ExecuteTime": {
     "end_time": "2020-09-17T15:15:13.915219Z",
     "start_time": "2020-09-17T15:15:13.663034Z"
    }
   },
   "outputs": [
    {
     "data": {
      "text/plain": [
       "<matplotlib.axes._subplots.AxesSubplot at 0x19855b876a0>"
      ]
     },
     "execution_count": 6,
     "metadata": {},
     "output_type": "execute_result"
    },
    {
     "data": {
      "image/png": "[encoded data removed]",
      "text/plain": [
       "<Figure size 432x288 with 1 Axes>"
      ]
     },
     "metadata": {
      "needs_background": "light"
     },
     "output_type": "display_data"
    }
   ],
   "source": [
    "sample_item = sales_df.sample(1, random_state=123)\n",
    "shop_id = sample_item['shop_id'].values[0]\n",
    "item_id = sample_item['item_id'].values[0]\n",
    "item_sales_df = sales_df[(sales_df['shop_id'] == shop_id) & (sales_df['item_id'] == item_id)].sort_values('date')\n",
    "item_sales_df.plot(x='date', y='item_price')"
   ]
  },
  {
   "cell_type": "code",
   "execution_count": 7,
   "metadata": {
    "ExecuteTime": {
     "end_time": "2020-09-17T15:15:13.977220Z",
     "start_time": "2020-09-17T15:15:13.962222Z"
    }
   },
   "outputs": [],
   "source": [
    "\n",
    "def downcast_dataframe(df):\n",
    "    dtype_mapper = {\n",
    "        'int64': 'int32',\n",
    "        'float64': 'float32'\n",
    "    }\n",
    "    dtypes = df.dtypes.to_dict()\n",
    "\n",
    "    new_dtypes = {col: dtype_mapper.get(str(dtype), str(dtype)) for col, dtype in dtypes.items()}\n",
    "    return df.astype(new_dtypes)"
   ]
  },
  {
   "cell_type": "code",
   "execution_count": 8,
   "metadata": {
    "ExecuteTime": {
     "end_time": "2020-09-17T15:15:14.976117Z",
     "start_time": "2020-09-17T15:15:14.010239Z"
    }
   },
   "outputs": [
    {
     "data": {
      "text/html": [
       "<div>\n",
       "<style scoped>\n",
       "    .dataframe tbody tr th:only-of-type {\n",
       "        vertical-align: middle;\n",
       "    }\n",
       "\n",
       "    .dataframe tbody tr th {\n",
       "        vertical-align: top;\n",
       "    }\n",
       "\n",
       "    .dataframe thead th {\n",
       "        text-align: right;\n",
       "    }\n",
       "</style>\n",
       "<table border=\"1\" class=\"dataframe\">\n",
       "  <thead>\n",
       "    <tr style=\"text-align: right;\">\n",
       "      <th></th>\n",
       "      <th>shop_id</th>\n",
       "      <th>item_id</th>\n",
       "      <th>date_block_num</th>\n",
       "      <th>item_price</th>\n",
       "      <th>count</th>\n",
       "    </tr>\n",
       "  </thead>\n",
       "  <tbody>\n",
       "    <tr>\n",
       "      <th>0</th>\n",
       "      <td>0</td>\n",
       "      <td>30</td>\n",
       "      <td>1</td>\n",
       "      <td>265.0</td>\n",
       "      <td>31.0</td>\n",
       "    </tr>\n",
       "    <tr>\n",
       "      <th>1</th>\n",
       "      <td>0</td>\n",
       "      <td>31</td>\n",
       "      <td>1</td>\n",
       "      <td>434.0</td>\n",
       "      <td>11.0</td>\n",
       "    </tr>\n",
       "    <tr>\n",
       "      <th>2</th>\n",
       "      <td>0</td>\n",
       "      <td>32</td>\n",
       "      <td>0</td>\n",
       "      <td>221.0</td>\n",
       "      <td>6.0</td>\n",
       "    </tr>\n",
       "    <tr>\n",
       "      <th>3</th>\n",
       "      <td>0</td>\n",
       "      <td>32</td>\n",
       "      <td>1</td>\n",
       "      <td>221.0</td>\n",
       "      <td>10.0</td>\n",
       "    </tr>\n",
       "    <tr>\n",
       "      <th>4</th>\n",
       "      <td>0</td>\n",
       "      <td>33</td>\n",
       "      <td>0</td>\n",
       "      <td>347.0</td>\n",
       "      <td>3.0</td>\n",
       "    </tr>\n",
       "    <tr>\n",
       "      <th>...</th>\n",
       "      <td>...</td>\n",
       "      <td>...</td>\n",
       "      <td>...</td>\n",
       "      <td>...</td>\n",
       "      <td>...</td>\n",
       "    </tr>\n",
       "    <tr>\n",
       "      <th>1609119</th>\n",
       "      <td>59</td>\n",
       "      <td>22164</td>\n",
       "      <td>27</td>\n",
       "      <td>699.0</td>\n",
       "      <td>2.0</td>\n",
       "    </tr>\n",
       "    <tr>\n",
       "      <th>1609120</th>\n",
       "      <td>59</td>\n",
       "      <td>22164</td>\n",
       "      <td>30</td>\n",
       "      <td>699.0</td>\n",
       "      <td>1.0</td>\n",
       "    </tr>\n",
       "    <tr>\n",
       "      <th>1609121</th>\n",
       "      <td>59</td>\n",
       "      <td>22167</td>\n",
       "      <td>9</td>\n",
       "      <td>299.0</td>\n",
       "      <td>1.0</td>\n",
       "    </tr>\n",
       "    <tr>\n",
       "      <th>1609122</th>\n",
       "      <td>59</td>\n",
       "      <td>22167</td>\n",
       "      <td>11</td>\n",
       "      <td>299.0</td>\n",
       "      <td>2.0</td>\n",
       "    </tr>\n",
       "    <tr>\n",
       "      <th>1609123</th>\n",
       "      <td>59</td>\n",
       "      <td>22167</td>\n",
       "      <td>17</td>\n",
       "      <td>299.0</td>\n",
       "      <td>1.0</td>\n",
       "    </tr>\n",
       "  </tbody>\n",
       "</table>\n",
       "<p>1609124 rows × 5 columns</p>\n",
       "</div>"
      ],
      "text/plain": [
       "         shop_id  item_id  date_block_num  item_price  count\n",
       "0              0       30               1       265.0   31.0\n",
       "1              0       31               1       434.0   11.0\n",
       "2              0       32               0       221.0    6.0\n",
       "3              0       32               1       221.0   10.0\n",
       "4              0       33               0       347.0    3.0\n",
       "...          ...      ...             ...         ...    ...\n",
       "1609119       59    22164              27       699.0    2.0\n",
       "1609120       59    22164              30       699.0    1.0\n",
       "1609121       59    22167               9       299.0    1.0\n",
       "1609122       59    22167              11       299.0    2.0\n",
       "1609123       59    22167              17       299.0    1.0\n",
       "\n",
       "[1609124 rows x 5 columns]"
      ]
     },
     "execution_count": 8,
     "metadata": {},
     "output_type": "execute_result"
    }
   ],
   "source": [
    "monthly_sales_df = sales_df.groupby(['shop_id', 'item_id', 'date_block_num'], as_index=False) \\\n",
    "                            .agg({'item_price': 'mean', 'item_cnt_day': 'sum'})\n",
    "monthly_sales_df.rename(columns={'item_cnt_day': 'count'}, inplace=True)\n",
    "del sales_df, item_sales_df\n",
    "gc.collect()\n",
    "monthly_sales_df"
   ]
  },
  {
   "cell_type": "code",
   "execution_count": 9,
   "metadata": {
    "ExecuteTime": {
     "end_time": "2020-09-17T15:15:17.406243Z",
     "start_time": "2020-09-17T15:15:15.008106Z"
    }
   },
   "outputs": [
    {
     "data": {
      "text/plain": [
       "<matplotlib.axes._subplots.AxesSubplot at 0x19855b7bd90>"
      ]
     },
     "execution_count": 9,
     "metadata": {},
     "output_type": "execute_result"
    },
    {
     "data": {
      "image/png": "[encoded data removed]",
      "text/plain": [
       "<Figure size 432x288 with 1 Axes>"
      ]
     },
     "metadata": {
      "needs_background": "light"
     },
     "output_type": "display_data"
    }
   ],
   "source": [
    "# prices = resampled_sales_df['item_price']\n",
    "# counts = resampled_sales_df['item_cnt_day']\n",
    "\n",
    "# resampled_sales_df = resampled_sales_df[((prices > prices.quantile(0.01)) & (prices < prices.quantile(0.99))) &\n",
    "#                                         ((counts > counts.quantile(0.01)) & (counts < counts.quantile(0.99)))]\n",
    "monthly_sales_df.plot.scatter(x='item_price', y='count')"
   ]
  },
  {
   "cell_type": "code",
   "execution_count": 10,
   "metadata": {
    "ExecuteTime": {
     "end_time": "2020-09-17T15:15:17.610234Z",
     "start_time": "2020-09-17T15:15:17.439237Z"
    }
   },
   "outputs": [
    {
     "data": {
      "text/html": [
       "<div>\n",
       "<style scoped>\n",
       "    .dataframe tbody tr th:only-of-type {\n",
       "        vertical-align: middle;\n",
       "    }\n",
       "\n",
       "    .dataframe tbody tr th {\n",
       "        vertical-align: top;\n",
       "    }\n",
       "\n",
       "    .dataframe thead th {\n",
       "        text-align: right;\n",
       "    }\n",
       "</style>\n",
       "<table border=\"1\" class=\"dataframe\">\n",
       "  <thead>\n",
       "    <tr style=\"text-align: right;\">\n",
       "      <th></th>\n",
       "      <th>shop_id</th>\n",
       "      <th>item_id</th>\n",
       "      <th>date_block_num</th>\n",
       "      <th>item_price</th>\n",
       "      <th>count</th>\n",
       "      <th>item_category_id</th>\n",
       "    </tr>\n",
       "  </thead>\n",
       "  <tbody>\n",
       "    <tr>\n",
       "      <th>0</th>\n",
       "      <td>0</td>\n",
       "      <td>30</td>\n",
       "      <td>1</td>\n",
       "      <td>265.0</td>\n",
       "      <td>31.0</td>\n",
       "      <td>40</td>\n",
       "    </tr>\n",
       "    <tr>\n",
       "      <th>1</th>\n",
       "      <td>1</td>\n",
       "      <td>30</td>\n",
       "      <td>1</td>\n",
       "      <td>265.0</td>\n",
       "      <td>10.0</td>\n",
       "      <td>40</td>\n",
       "    </tr>\n",
       "    <tr>\n",
       "      <th>2</th>\n",
       "      <td>2</td>\n",
       "      <td>30</td>\n",
       "      <td>2</td>\n",
       "      <td>359.0</td>\n",
       "      <td>1.0</td>\n",
       "      <td>40</td>\n",
       "    </tr>\n",
       "    <tr>\n",
       "      <th>3</th>\n",
       "      <td>2</td>\n",
       "      <td>30</td>\n",
       "      <td>5</td>\n",
       "      <td>399.0</td>\n",
       "      <td>1.0</td>\n",
       "      <td>40</td>\n",
       "    </tr>\n",
       "    <tr>\n",
       "      <th>4</th>\n",
       "      <td>2</td>\n",
       "      <td>30</td>\n",
       "      <td>15</td>\n",
       "      <td>169.0</td>\n",
       "      <td>1.0</td>\n",
       "      <td>40</td>\n",
       "    </tr>\n",
       "    <tr>\n",
       "      <th>...</th>\n",
       "      <td>...</td>\n",
       "      <td>...</td>\n",
       "      <td>...</td>\n",
       "      <td>...</td>\n",
       "      <td>...</td>\n",
       "      <td>...</td>\n",
       "    </tr>\n",
       "    <tr>\n",
       "      <th>1609119</th>\n",
       "      <td>59</td>\n",
       "      <td>9760</td>\n",
       "      <td>12</td>\n",
       "      <td>179.0</td>\n",
       "      <td>1.0</td>\n",
       "      <td>37</td>\n",
       "    </tr>\n",
       "    <tr>\n",
       "      <th>1609120</th>\n",
       "      <td>59</td>\n",
       "      <td>12846</td>\n",
       "      <td>10</td>\n",
       "      <td>149.0</td>\n",
       "      <td>1.0</td>\n",
       "      <td>37</td>\n",
       "    </tr>\n",
       "    <tr>\n",
       "      <th>1609121</th>\n",
       "      <td>59</td>\n",
       "      <td>16270</td>\n",
       "      <td>6</td>\n",
       "      <td>1000.0</td>\n",
       "      <td>1.0</td>\n",
       "      <td>75</td>\n",
       "    </tr>\n",
       "    <tr>\n",
       "      <th>1609122</th>\n",
       "      <td>59</td>\n",
       "      <td>17732</td>\n",
       "      <td>9</td>\n",
       "      <td>198.0</td>\n",
       "      <td>1.0</td>\n",
       "      <td>28</td>\n",
       "    </tr>\n",
       "    <tr>\n",
       "      <th>1609123</th>\n",
       "      <td>59</td>\n",
       "      <td>18018</td>\n",
       "      <td>0</td>\n",
       "      <td>28.0</td>\n",
       "      <td>1.0</td>\n",
       "      <td>57</td>\n",
       "    </tr>\n",
       "  </tbody>\n",
       "</table>\n",
       "<p>1609124 rows × 6 columns</p>\n",
       "</div>"
      ],
      "text/plain": [
       "         shop_id  item_id  date_block_num  item_price  count  item_category_id\n",
       "0              0       30               1       265.0   31.0                40\n",
       "1              1       30               1       265.0   10.0                40\n",
       "2              2       30               2       359.0    1.0                40\n",
       "3              2       30               5       399.0    1.0                40\n",
       "4              2       30              15       169.0    1.0                40\n",
       "...          ...      ...             ...         ...    ...               ...\n",
       "1609119       59     9760              12       179.0    1.0                37\n",
       "1609120       59    12846              10       149.0    1.0                37\n",
       "1609121       59    16270               6      1000.0    1.0                75\n",
       "1609122       59    17732               9       198.0    1.0                28\n",
       "1609123       59    18018               0        28.0    1.0                57\n",
       "\n",
       "[1609124 rows x 6 columns]"
      ]
     },
     "execution_count": 10,
     "metadata": {},
     "output_type": "execute_result"
    }
   ],
   "source": [
    "monthly_sales_df = monthly_sales_df.merge(item_df[['item_id', 'item_category_id']], on='item_id')\n",
    "monthly_sales_df"
   ]
  },
  {
   "cell_type": "code",
   "execution_count": 11,
   "metadata": {
    "ExecuteTime": {
     "end_time": "2020-09-17T15:15:17.673232Z",
     "start_time": "2020-09-17T15:15:17.642232Z"
    }
   },
   "outputs": [],
   "source": [
    "\n",
    "monthly_sales_df = downcast_dataframe(monthly_sales_df)"
   ]
  },
  {
   "cell_type": "code",
   "execution_count": 12,
   "metadata": {
    "ExecuteTime": {
     "end_time": "2020-09-17T15:15:18.004234Z",
     "start_time": "2020-09-17T15:15:17.705236Z"
    }
   },
   "outputs": [
    {
     "data": {
      "text/html": [
       "<div>\n",
       "<style scoped>\n",
       "    .dataframe tbody tr th:only-of-type {\n",
       "        vertical-align: middle;\n",
       "    }\n",
       "\n",
       "    .dataframe tbody tr th {\n",
       "        vertical-align: top;\n",
       "    }\n",
       "\n",
       "    .dataframe thead th {\n",
       "        text-align: right;\n",
       "    }\n",
       "</style>\n",
       "<table border=\"1\" class=\"dataframe\">\n",
       "  <thead>\n",
       "    <tr style=\"text-align: right;\">\n",
       "      <th></th>\n",
       "      <th>shop_id</th>\n",
       "      <th>item_id</th>\n",
       "      <th>date_block_num</th>\n",
       "      <th>item_price</th>\n",
       "      <th>count</th>\n",
       "      <th>item_category_id</th>\n",
       "    </tr>\n",
       "  </thead>\n",
       "  <tbody>\n",
       "    <tr>\n",
       "      <th>count</th>\n",
       "      <td>1.609124e+06</td>\n",
       "      <td>1.609124e+06</td>\n",
       "      <td>1.609124e+06</td>\n",
       "      <td>1.609124e+06</td>\n",
       "      <td>1.609124e+06</td>\n",
       "      <td>1.609124e+06</td>\n",
       "    </tr>\n",
       "    <tr>\n",
       "      <th>mean</th>\n",
       "      <td>3.280585e+01</td>\n",
       "      <td>1.068099e+04</td>\n",
       "      <td>1.466479e+01</td>\n",
       "      <td>7.908846e+02</td>\n",
       "      <td>2.267200e+00</td>\n",
       "      <td>4.154192e+01</td>\n",
       "    </tr>\n",
       "    <tr>\n",
       "      <th>std</th>\n",
       "      <td>1.653701e+01</td>\n",
       "      <td>6.238883e+03</td>\n",
       "      <td>9.542322e+00</td>\n",
       "      <td>1.551605e+03</td>\n",
       "      <td>8.649882e+00</td>\n",
       "      <td>1.632365e+01</td>\n",
       "    </tr>\n",
       "    <tr>\n",
       "      <th>min</th>\n",
       "      <td>0.000000e+00</td>\n",
       "      <td>0.000000e+00</td>\n",
       "      <td>0.000000e+00</td>\n",
       "      <td>9.000000e-02</td>\n",
       "      <td>-2.200000e+01</td>\n",
       "      <td>0.000000e+00</td>\n",
       "    </tr>\n",
       "    <tr>\n",
       "      <th>25%</th>\n",
       "      <td>2.100000e+01</td>\n",
       "      <td>5.045000e+03</td>\n",
       "      <td>6.000000e+00</td>\n",
       "      <td>1.990000e+02</td>\n",
       "      <td>1.000000e+00</td>\n",
       "      <td>3.000000e+01</td>\n",
       "    </tr>\n",
       "    <tr>\n",
       "      <th>50%</th>\n",
       "      <td>3.100000e+01</td>\n",
       "      <td>1.049700e+04</td>\n",
       "      <td>1.400000e+01</td>\n",
       "      <td>3.990000e+02</td>\n",
       "      <td>1.000000e+00</td>\n",
       "      <td>4.000000e+01</td>\n",
       "    </tr>\n",
       "    <tr>\n",
       "      <th>75%</th>\n",
       "      <td>4.700000e+01</td>\n",
       "      <td>1.606000e+04</td>\n",
       "      <td>2.300000e+01</td>\n",
       "      <td>8.985000e+02</td>\n",
       "      <td>2.000000e+00</td>\n",
       "      <td>5.500000e+01</td>\n",
       "    </tr>\n",
       "    <tr>\n",
       "      <th>max</th>\n",
       "      <td>5.900000e+01</td>\n",
       "      <td>2.216900e+04</td>\n",
       "      <td>3.300000e+01</td>\n",
       "      <td>3.079800e+05</td>\n",
       "      <td>2.253000e+03</td>\n",
       "      <td>8.300000e+01</td>\n",
       "    </tr>\n",
       "  </tbody>\n",
       "</table>\n",
       "</div>"
      ],
      "text/plain": [
       "            shop_id       item_id  date_block_num    item_price         count  \\\n",
       "count  1.609124e+06  1.609124e+06    1.609124e+06  1.609124e+06  1.609124e+06   \n",
       "mean   3.280585e+01  1.068099e+04    1.466479e+01  7.908846e+02  2.267200e+00   \n",
       "std    1.653701e+01  6.238883e+03    9.542322e+00  1.551605e+03  8.649882e+00   \n",
       "min    0.000000e+00  0.000000e+00    0.000000e+00  9.000000e-02 -2.200000e+01   \n",
       "25%    2.100000e+01  5.045000e+03    6.000000e+00  1.990000e+02  1.000000e+00   \n",
       "50%    3.100000e+01  1.049700e+04    1.400000e+01  3.990000e+02  1.000000e+00   \n",
       "75%    4.700000e+01  1.606000e+04    2.300000e+01  8.985000e+02  2.000000e+00   \n",
       "max    5.900000e+01  2.216900e+04    3.300000e+01  3.079800e+05  2.253000e+03   \n",
       "\n",
       "       item_category_id  \n",
       "count      1.609124e+06  \n",
       "mean       4.154192e+01  \n",
       "std        1.632365e+01  \n",
       "min        0.000000e+00  \n",
       "25%        3.000000e+01  \n",
       "50%        4.000000e+01  \n",
       "75%        5.500000e+01  \n",
       "max        8.300000e+01  "
      ]
     },
     "execution_count": 12,
     "metadata": {},
     "output_type": "execute_result"
    }
   ],
   "source": [
    "monthly_sales_df.describe()"
   ]
  },
  {
   "cell_type": "markdown",
   "metadata": {
    "heading_collapsed": true
   },
   "source": [
    "### Prove the sales of any shop are different and unique"
   ]
  },
  {
   "cell_type": "code",
   "execution_count": 13,
   "metadata": {
    "ExecuteTime": {
     "end_time": "2020-09-16T16:43:20.011204Z",
     "start_time": "2020-09-16T16:43:19.488167Z"
    },
    "hidden": true
   },
   "outputs": [
    {
     "data": {
      "text/plain": [
       "Text(0, 0.5, 'item_count')"
      ]
     },
     "execution_count": 13,
     "metadata": {},
     "output_type": "execute_result"
    },
    {
     "data": {
      "image/png": "[encoded data removed]",
      "text/plain": [
       "<Figure size 864x576 with 1 Axes>"
      ]
     },
     "metadata": {
      "needs_background": "light"
     },
     "output_type": "display_data"
    }
   ],
   "source": [
    "shop_ids = monthly_sales_df['shop_id']\n",
    "selected_shop_ids = shop_ids.drop_duplicates().sample(8, random_state=99)\n",
    "\n",
    "ax = monthly_sales_df[shop_ids.isin(selected_shop_ids)].groupby(['date_block_num', 'shop_id']).agg(\n",
    "    {'count': 'sum'}).unstack().plot.bar(y='count', stacked=True, figsize=(12, 8))\n",
    "ax.set_ylabel('item_count')"
   ]
  },
  {
   "cell_type": "markdown",
   "metadata": {
    "heading_collapsed": true
   },
   "source": [
    "### Prove the sales of any item categories are different"
   ]
  },
  {
   "cell_type": "code",
   "execution_count": 14,
   "metadata": {
    "ExecuteTime": {
     "end_time": "2020-09-16T16:03:17.450259Z",
     "start_time": "2020-09-16T16:03:16.964829Z"
    },
    "hidden": true
   },
   "outputs": [
    {
     "data": {
      "text/plain": [
       "<matplotlib.axes._subplots.AxesSubplot at 0x24c30e00e80>"
      ]
     },
     "execution_count": 14,
     "metadata": {},
     "output_type": "execute_result"
    },
    {
     "data": {
      "image/png": "[encoded data removed]",
      "text/plain": [
       "<Figure size 864x576 with 1 Axes>"
      ]
     },
     "metadata": {
      "needs_background": "light"
     },
     "output_type": "display_data"
    }
   ],
   "source": [
    "categories = monthly_sales_df['item_category_id']\n",
    "selected_categories = categories.drop_duplicates().sample(8, random_state=1)\n",
    "monthly_sales_df[categories.isin(selected_categories)].groupby(['date_block_num', 'item_category_id']).agg(\n",
    "    {'count': 'sum'}).unstack().plot.bar(y='count', stacked=True, figsize=(12, 8))"
   ]
  },
  {
   "cell_type": "markdown",
   "metadata": {
    "heading_collapsed": true
   },
   "source": [
    "### Distribution"
   ]
  },
  {
   "cell_type": "code",
   "execution_count": 15,
   "metadata": {
    "ExecuteTime": {
     "end_time": "2020-09-16T16:03:17.466258Z",
     "start_time": "2020-09-16T16:03:17.451259Z"
    },
    "hidden": true
   },
   "outputs": [],
   "source": [
    "def IQR(data, lower, upper):\n",
    "    return data[(data > data.quantile(lower)) & (data < data.quantile(upper))]\n"
   ]
  },
  {
   "cell_type": "code",
   "execution_count": 16,
   "metadata": {
    "ExecuteTime": {
     "end_time": "2020-09-16T16:03:17.750272Z",
     "start_time": "2020-09-16T16:03:17.468259Z"
    },
    "hidden": true
   },
   "outputs": [
    {
     "data": {
      "text/plain": [
       "<matplotlib.axes._subplots.AxesSubplot at 0x24c30b2d550>"
      ]
     },
     "execution_count": 16,
     "metadata": {},
     "output_type": "execute_result"
    },
    {
     "data": {
      "image/png": "[encoded data removed]",
      "text/plain": [
       "<Figure size 1152x576 with 1 Axes>"
      ]
     },
     "metadata": {
      "needs_background": "light"
     },
     "output_type": "display_data"
    }
   ],
   "source": [
    "alpha = 0.0027\n",
    "IQR(monthly_sales_df['count'], alpha, 1-alpha).hist(bins=100, figsize=(16, 8))"
   ]
  },
  {
   "cell_type": "code",
   "execution_count": 61,
   "metadata": {
    "ExecuteTime": {
     "end_time": "2020-09-12T06:19:30.692325Z",
     "start_time": "2020-09-12T06:19:30.180500Z"
    },
    "hidden": true
   },
   "outputs": [
    {
     "data": {
      "text/plain": [
       "<AxesSubplot:>"
      ]
     },
     "execution_count": 61,
     "metadata": {},
     "output_type": "execute_result"
    },
    {
     "data": {
      "image/png": "[encoded data removed]",
      "text/plain": [
       "<Figure size 1152x576 with 1 Axes>"
      ]
     },
     "metadata": {
      "needs_background": "light"
     },
     "output_type": "display_data"
    }
   ],
   "source": [
    "alpha = 0.008\n",
    "IQR(monthly_sales_df['item_price'], alpha, 1-alpha).hist( bins=100, figsize=(16, 8))"
   ]
  },
  {
   "cell_type": "code",
   "execution_count": 62,
   "metadata": {
    "ExecuteTime": {
     "end_time": "2020-09-12T06:19:33.034882Z",
     "start_time": "2020-09-12T06:19:32.817388Z"
    },
    "hidden": true
   },
   "outputs": [
    {
     "data": {
      "text/html": [
       "<div>\n",
       "<style scoped>\n",
       "    .dataframe tbody tr th:only-of-type {\n",
       "        vertical-align: middle;\n",
       "    }\n",
       "\n",
       "    .dataframe tbody tr th {\n",
       "        vertical-align: top;\n",
       "    }\n",
       "\n",
       "    .dataframe thead th {\n",
       "        text-align: right;\n",
       "    }\n",
       "</style>\n",
       "<table border=\"1\" class=\"dataframe\">\n",
       "  <thead>\n",
       "    <tr style=\"text-align: right;\">\n",
       "      <th></th>\n",
       "      <th></th>\n",
       "      <th></th>\n",
       "      <th>item_price</th>\n",
       "      <th>count</th>\n",
       "      <th>item_category_id</th>\n",
       "    </tr>\n",
       "    <tr>\n",
       "      <th>shop_id</th>\n",
       "      <th>item_id</th>\n",
       "      <th>date_block_num</th>\n",
       "      <th></th>\n",
       "      <th></th>\n",
       "      <th></th>\n",
       "    </tr>\n",
       "  </thead>\n",
       "  <tbody>\n",
       "    <tr>\n",
       "      <th>0</th>\n",
       "      <th>30</th>\n",
       "      <th>1</th>\n",
       "      <td>265.0</td>\n",
       "      <td>31.0</td>\n",
       "      <td>40</td>\n",
       "    </tr>\n",
       "    <tr>\n",
       "      <th>1</th>\n",
       "      <th>30</th>\n",
       "      <th>1</th>\n",
       "      <td>265.0</td>\n",
       "      <td>10.0</td>\n",
       "      <td>40</td>\n",
       "    </tr>\n",
       "    <tr>\n",
       "      <th rowspan=\"4\" valign=\"top\">2</th>\n",
       "      <th rowspan=\"4\" valign=\"top\">30</th>\n",
       "      <th>2</th>\n",
       "      <td>359.0</td>\n",
       "      <td>1.0</td>\n",
       "      <td>40</td>\n",
       "    </tr>\n",
       "    <tr>\n",
       "      <th>5</th>\n",
       "      <td>399.0</td>\n",
       "      <td>1.0</td>\n",
       "      <td>40</td>\n",
       "    </tr>\n",
       "    <tr>\n",
       "      <th>15</th>\n",
       "      <td>169.0</td>\n",
       "      <td>1.0</td>\n",
       "      <td>40</td>\n",
       "    </tr>\n",
       "    <tr>\n",
       "      <th>16</th>\n",
       "      <td>169.0</td>\n",
       "      <td>1.0</td>\n",
       "      <td>40</td>\n",
       "    </tr>\n",
       "    <tr>\n",
       "      <th rowspan=\"10\" valign=\"top\">3</th>\n",
       "      <th rowspan=\"10\" valign=\"top\">30</th>\n",
       "      <th>1</th>\n",
       "      <td>399.0</td>\n",
       "      <td>4.0</td>\n",
       "      <td>40</td>\n",
       "    </tr>\n",
       "    <tr>\n",
       "      <th>2</th>\n",
       "      <td>399.0</td>\n",
       "      <td>5.0</td>\n",
       "      <td>40</td>\n",
       "    </tr>\n",
       "    <tr>\n",
       "      <th>3</th>\n",
       "      <td>399.0</td>\n",
       "      <td>2.0</td>\n",
       "      <td>40</td>\n",
       "    </tr>\n",
       "    <tr>\n",
       "      <th>4</th>\n",
       "      <td>399.0</td>\n",
       "      <td>2.0</td>\n",
       "      <td>40</td>\n",
       "    </tr>\n",
       "    <tr>\n",
       "      <th>5</th>\n",
       "      <td>399.0</td>\n",
       "      <td>1.0</td>\n",
       "      <td>40</td>\n",
       "    </tr>\n",
       "    <tr>\n",
       "      <th>9</th>\n",
       "      <td>169.0</td>\n",
       "      <td>1.0</td>\n",
       "      <td>40</td>\n",
       "    </tr>\n",
       "    <tr>\n",
       "      <th>10</th>\n",
       "      <td>169.0</td>\n",
       "      <td>1.0</td>\n",
       "      <td>40</td>\n",
       "    </tr>\n",
       "    <tr>\n",
       "      <th>11</th>\n",
       "      <td>169.0</td>\n",
       "      <td>2.0</td>\n",
       "      <td>40</td>\n",
       "    </tr>\n",
       "    <tr>\n",
       "      <th>12</th>\n",
       "      <td>169.0</td>\n",
       "      <td>1.0</td>\n",
       "      <td>40</td>\n",
       "    </tr>\n",
       "    <tr>\n",
       "      <th>30</th>\n",
       "      <td>129.0</td>\n",
       "      <td>1.0</td>\n",
       "      <td>40</td>\n",
       "    </tr>\n",
       "    <tr>\n",
       "      <th rowspan=\"3\" valign=\"top\">4</th>\n",
       "      <th rowspan=\"3\" valign=\"top\">30</th>\n",
       "      <th>1</th>\n",
       "      <td>399.0</td>\n",
       "      <td>7.0</td>\n",
       "      <td>40</td>\n",
       "    </tr>\n",
       "    <tr>\n",
       "      <th>2</th>\n",
       "      <td>399.0</td>\n",
       "      <td>3.0</td>\n",
       "      <td>40</td>\n",
       "    </tr>\n",
       "    <tr>\n",
       "      <th>7</th>\n",
       "      <td>399.0</td>\n",
       "      <td>1.0</td>\n",
       "      <td>40</td>\n",
       "    </tr>\n",
       "    <tr>\n",
       "      <th>5</th>\n",
       "      <th>30</th>\n",
       "      <th>1</th>\n",
       "      <td>399.0</td>\n",
       "      <td>5.0</td>\n",
       "      <td>40</td>\n",
       "    </tr>\n",
       "  </tbody>\n",
       "</table>\n",
       "</div>"
      ],
      "text/plain": [
       "                                item_price  count  item_category_id\n",
       "shop_id item_id date_block_num                                     \n",
       "0       30      1                    265.0   31.0                40\n",
       "1       30      1                    265.0   10.0                40\n",
       "2       30      2                    359.0    1.0                40\n",
       "                5                    399.0    1.0                40\n",
       "                15                   169.0    1.0                40\n",
       "                16                   169.0    1.0                40\n",
       "3       30      1                    399.0    4.0                40\n",
       "                2                    399.0    5.0                40\n",
       "                3                    399.0    2.0                40\n",
       "                4                    399.0    2.0                40\n",
       "                5                    399.0    1.0                40\n",
       "                9                    169.0    1.0                40\n",
       "                10                   169.0    1.0                40\n",
       "                11                   169.0    2.0                40\n",
       "                12                   169.0    1.0                40\n",
       "                30                   129.0    1.0                40\n",
       "4       30      1                    399.0    7.0                40\n",
       "                2                    399.0    3.0                40\n",
       "                7                    399.0    1.0                40\n",
       "5       30      1                    399.0    5.0                40"
      ]
     },
     "execution_count": 62,
     "metadata": {},
     "output_type": "execute_result"
    }
   ],
   "source": [
    "monthly_sales_df.set_index(['shop_id', 'item_id', 'date_block_num']).head(20)"
   ]
  },
  {
   "cell_type": "code",
   "execution_count": 63,
   "metadata": {
    "ExecuteTime": {
     "end_time": "2020-09-12T06:19:35.433613Z",
     "start_time": "2020-09-12T06:19:35.304796Z"
    },
    "hidden": true
   },
   "outputs": [
    {
     "data": {
      "text/plain": [
       "shop_id                60\n",
       "item_id             21807\n",
       "date_block_num         34\n",
       "item_price          41464\n",
       "count                 446\n",
       "item_category_id       84\n",
       "dtype: int64"
      ]
     },
     "execution_count": 63,
     "metadata": {},
     "output_type": "execute_result"
    }
   ],
   "source": [
    "monthly_sales_df.nunique()"
   ]
  },
  {
   "cell_type": "code",
   "execution_count": 64,
   "metadata": {
    "ExecuteTime": {
     "end_time": "2020-09-12T06:19:35.887803Z",
     "start_time": "2020-09-12T06:19:35.859285Z"
    },
    "hidden": true
   },
   "outputs": [
    {
     "data": {
      "text/plain": [
       "ID         214200\n",
       "shop_id        42\n",
       "item_id      5100\n",
       "dtype: int64"
      ]
     },
     "execution_count": 64,
     "metadata": {},
     "output_type": "execute_result"
    }
   ],
   "source": [
    "test_df.nunique()"
   ]
  },
  {
   "cell_type": "code",
   "execution_count": 65,
   "metadata": {
    "ExecuteTime": {
     "end_time": "2020-09-12T06:19:36.545777Z",
     "start_time": "2020-09-12T06:19:36.414802Z"
    },
    "hidden": true
   },
   "outputs": [
    {
     "data": {
      "text/plain": [
       "122"
      ]
     },
     "execution_count": 65,
     "metadata": {},
     "output_type": "execute_result"
    }
   ],
   "source": [
    "gc.collect()"
   ]
  },
  {
   "cell_type": "markdown",
   "metadata": {},
   "source": [
    "### Clip count"
   ]
  },
  {
   "cell_type": "code",
   "execution_count": 13,
   "metadata": {
    "ExecuteTime": {
     "end_time": "2020-09-17T15:15:18.338292Z",
     "start_time": "2020-09-17T15:15:18.125244Z"
    }
   },
   "outputs": [
    {
     "data": {
      "text/plain": [
       "<matplotlib.axes._subplots.AxesSubplot at 0x19855d03c10>"
      ]
     },
     "execution_count": 13,
     "metadata": {},
     "output_type": "execute_result"
    },
    {
     "data": {
      "image/png": "[encoded data removed]",
      "text/plain": [
       "<Figure size 432x288 with 1 Axes>"
      ]
     },
     "metadata": {
      "needs_background": "light"
     },
     "output_type": "display_data"
    }
   ],
   "source": [
    "monthly_sales_df['count'].plot.hist()"
   ]
  },
  {
   "cell_type": "code",
   "execution_count": 14,
   "metadata": {
    "ExecuteTime": {
     "end_time": "2020-09-17T15:15:18.638575Z",
     "start_time": "2020-09-17T15:15:18.396528Z"
    }
   },
   "outputs": [
    {
     "data": {
      "text/plain": [
       "<matplotlib.axes._subplots.AxesSubplot at 0x19855d88280>"
      ]
     },
     "execution_count": 14,
     "metadata": {},
     "output_type": "execute_result"
    },
    {
     "data": {
      "image/png": "[encoded data removed]",
      "text/plain": [
       "<Figure size 432x288 with 1 Axes>"
      ]
     },
     "metadata": {
      "needs_background": "light"
     },
     "output_type": "display_data"
    }
   ],
   "source": [
    "monthly_sales_df['count'].clip(0, 20, inplace=True)\n",
    "monthly_sales_df['count'].plot.hist()"
   ]
  },
  {
   "cell_type": "markdown",
   "metadata": {},
   "source": [
    "### Create monthly_sales_df backup "
   ]
  },
  {
   "cell_type": "code",
   "execution_count": 15,
   "metadata": {
    "ExecuteTime": {
     "end_time": "2020-09-17T15:15:19.198979Z",
     "start_time": "2020-09-17T15:15:19.188990Z"
    }
   },
   "outputs": [],
   "source": [
    "_monthly_sales_df = monthly_sales_df.copy()"
   ]
  },
  {
   "cell_type": "code",
   "execution_count": 16,
   "metadata": {
    "ExecuteTime": {
     "end_time": "2020-09-17T15:15:19.585646Z",
     "start_time": "2020-09-17T15:15:19.573133Z"
    }
   },
   "outputs": [
    {
     "data": {
      "text/html": [
       "<div>\n",
       "<style scoped>\n",
       "    .dataframe tbody tr th:only-of-type {\n",
       "        vertical-align: middle;\n",
       "    }\n",
       "\n",
       "    .dataframe tbody tr th {\n",
       "        vertical-align: top;\n",
       "    }\n",
       "\n",
       "    .dataframe thead th {\n",
       "        text-align: right;\n",
       "    }\n",
       "</style>\n",
       "<table border=\"1\" class=\"dataframe\">\n",
       "  <thead>\n",
       "    <tr style=\"text-align: right;\">\n",
       "      <th></th>\n",
       "      <th>shop_id</th>\n",
       "      <th>item_id</th>\n",
       "      <th>date_block_num</th>\n",
       "      <th>item_price</th>\n",
       "      <th>count</th>\n",
       "      <th>item_category_id</th>\n",
       "    </tr>\n",
       "  </thead>\n",
       "  <tbody>\n",
       "    <tr>\n",
       "      <th>0</th>\n",
       "      <td>0</td>\n",
       "      <td>30</td>\n",
       "      <td>1</td>\n",
       "      <td>265.0</td>\n",
       "      <td>20.0</td>\n",
       "      <td>40</td>\n",
       "    </tr>\n",
       "    <tr>\n",
       "      <th>1</th>\n",
       "      <td>1</td>\n",
       "      <td>30</td>\n",
       "      <td>1</td>\n",
       "      <td>265.0</td>\n",
       "      <td>10.0</td>\n",
       "      <td>40</td>\n",
       "    </tr>\n",
       "    <tr>\n",
       "      <th>2</th>\n",
       "      <td>2</td>\n",
       "      <td>30</td>\n",
       "      <td>2</td>\n",
       "      <td>359.0</td>\n",
       "      <td>1.0</td>\n",
       "      <td>40</td>\n",
       "    </tr>\n",
       "    <tr>\n",
       "      <th>3</th>\n",
       "      <td>2</td>\n",
       "      <td>30</td>\n",
       "      <td>5</td>\n",
       "      <td>399.0</td>\n",
       "      <td>1.0</td>\n",
       "      <td>40</td>\n",
       "    </tr>\n",
       "    <tr>\n",
       "      <th>4</th>\n",
       "      <td>2</td>\n",
       "      <td>30</td>\n",
       "      <td>15</td>\n",
       "      <td>169.0</td>\n",
       "      <td>1.0</td>\n",
       "      <td>40</td>\n",
       "    </tr>\n",
       "    <tr>\n",
       "      <th>...</th>\n",
       "      <td>...</td>\n",
       "      <td>...</td>\n",
       "      <td>...</td>\n",
       "      <td>...</td>\n",
       "      <td>...</td>\n",
       "      <td>...</td>\n",
       "    </tr>\n",
       "    <tr>\n",
       "      <th>1609119</th>\n",
       "      <td>59</td>\n",
       "      <td>9760</td>\n",
       "      <td>12</td>\n",
       "      <td>179.0</td>\n",
       "      <td>1.0</td>\n",
       "      <td>37</td>\n",
       "    </tr>\n",
       "    <tr>\n",
       "      <th>1609120</th>\n",
       "      <td>59</td>\n",
       "      <td>12846</td>\n",
       "      <td>10</td>\n",
       "      <td>149.0</td>\n",
       "      <td>1.0</td>\n",
       "      <td>37</td>\n",
       "    </tr>\n",
       "    <tr>\n",
       "      <th>1609121</th>\n",
       "      <td>59</td>\n",
       "      <td>16270</td>\n",
       "      <td>6</td>\n",
       "      <td>1000.0</td>\n",
       "      <td>1.0</td>\n",
       "      <td>75</td>\n",
       "    </tr>\n",
       "    <tr>\n",
       "      <th>1609122</th>\n",
       "      <td>59</td>\n",
       "      <td>17732</td>\n",
       "      <td>9</td>\n",
       "      <td>198.0</td>\n",
       "      <td>1.0</td>\n",
       "      <td>28</td>\n",
       "    </tr>\n",
       "    <tr>\n",
       "      <th>1609123</th>\n",
       "      <td>59</td>\n",
       "      <td>18018</td>\n",
       "      <td>0</td>\n",
       "      <td>28.0</td>\n",
       "      <td>1.0</td>\n",
       "      <td>57</td>\n",
       "    </tr>\n",
       "  </tbody>\n",
       "</table>\n",
       "<p>1609124 rows × 6 columns</p>\n",
       "</div>"
      ],
      "text/plain": [
       "         shop_id  item_id  date_block_num  item_price  count  item_category_id\n",
       "0              0       30               1       265.0   20.0                40\n",
       "1              1       30               1       265.0   10.0                40\n",
       "2              2       30               2       359.0    1.0                40\n",
       "3              2       30               5       399.0    1.0                40\n",
       "4              2       30              15       169.0    1.0                40\n",
       "...          ...      ...             ...         ...    ...               ...\n",
       "1609119       59     9760              12       179.0    1.0                37\n",
       "1609120       59    12846              10       149.0    1.0                37\n",
       "1609121       59    16270               6      1000.0    1.0                75\n",
       "1609122       59    17732               9       198.0    1.0                28\n",
       "1609123       59    18018               0        28.0    1.0                57\n",
       "\n",
       "[1609124 rows x 6 columns]"
      ]
     },
     "execution_count": 16,
     "metadata": {},
     "output_type": "execute_result"
    }
   ],
   "source": [
    "_monthly_sales_df"
   ]
  },
  {
   "cell_type": "markdown",
   "metadata": {},
   "source": [
    "## Feature Engineering"
   ]
  },
  {
   "cell_type": "markdown",
   "metadata": {},
   "source": [
    "### Generate Grid features\n"
   ]
  },
  {
   "cell_type": "code",
   "execution_count": 17,
   "metadata": {
    "ExecuteTime": {
     "end_time": "2020-09-17T15:15:20.465112Z",
     "start_time": "2020-09-17T15:15:20.460123Z"
    }
   },
   "outputs": [],
   "source": [
    "from itertools import product"
   ]
  },
  {
   "cell_type": "code",
   "execution_count": 61,
   "metadata": {
    "ExecuteTime": {
     "end_time": "2020-09-17T16:39:54.429041Z",
     "start_time": "2020-09-17T16:39:49.081952Z"
    }
   },
   "outputs": [
    {
     "data": {
      "text/plain": [
       "4514"
      ]
     },
     "execution_count": 61,
     "metadata": {},
     "output_type": "execute_result"
    }
   ],
   "source": [
    "monthly_sales_df = _monthly_sales_df.copy()\n",
    "grid = [] \n",
    "\n",
    "unique_shops = test_df['shop_id'].unique()\n",
    "unique_items = test_df['item_id'].unique()\n",
    "\n",
    "# unique_shops = monthly_sales_df['shop_id'].unique()\n",
    "# unique_items = monthly_sales_df['item_id'].unique()\n",
    "\n",
    "unique_block_nums = monthly_sales_df['date_block_num'].unique()\n",
    "\n",
    "grid.append(np.array(list(product(*[unique_shops, unique_items, unique_block_nums])),dtype='int32'))\n",
    "# Turn the grid into a dataframe\n",
    "grid = pd.DataFrame(np.vstack(grid), columns=['shop_id', 'item_id', 'date_block_num'],dtype=np.int32)\n",
    "data = grid.merge(monthly_sales_df, how='left', on=['shop_id', 'item_id', 'date_block_num'])\n",
    "# data.fillna(fillna_series, inplace=True)\n",
    "del grid, monthly_sales_df\n",
    "gc.collect()"
   ]
  },
  {
   "cell_type": "code",
   "execution_count": 62,
   "metadata": {
    "ExecuteTime": {
     "end_time": "2020-09-17T16:39:54.921078Z",
     "start_time": "2020-09-17T16:39:54.826044Z"
    }
   },
   "outputs": [],
   "source": [
    "data = downcast_dataframe(data)"
   ]
  },
  {
   "cell_type": "code",
   "execution_count": 63,
   "metadata": {
    "ExecuteTime": {
     "end_time": "2020-09-17T16:41:41.397708Z",
     "start_time": "2020-09-17T16:39:55.304087Z"
    }
   },
   "outputs": [
    {
     "name": "stderr",
     "output_type": "stream",
     "text": [
      "100%|████████████████████████████████████████████████████████████████████████| 214200/214200 [01:44<00:00, 2049.24it/s]\n"
     ]
    }
   ],
   "source": [
    "# Fill item price\n",
    "def fill_nan_by_date_block( df):\n",
    "    df['item_price'] = df['item_price'].ffill().bfill().fillna(0)\n",
    "    return df\n",
    "data = data.sort_values('date_block_num')\n",
    "data = data.groupby(['shop_id', 'item_id'], as_index=False).progress_apply(lambda group: fill_nan_by_date_block(group))\n",
    "\n",
    "data.fillna({'count': 0, 'item_category_id': data['item_category_id'].max()+1}, inplace=True)\n"
   ]
  },
  {
   "cell_type": "code",
   "execution_count": 64,
   "metadata": {
    "ExecuteTime": {
     "end_time": "2020-09-17T16:41:41.805346Z",
     "start_time": "2020-09-17T16:41:41.760344Z"
    },
    "scrolled": true
   },
   "outputs": [
    {
     "data": {
      "text/html": [
       "<div>\n",
       "<style scoped>\n",
       "    .dataframe tbody tr th:only-of-type {\n",
       "        vertical-align: middle;\n",
       "    }\n",
       "\n",
       "    .dataframe tbody tr th {\n",
       "        vertical-align: top;\n",
       "    }\n",
       "\n",
       "    .dataframe thead th {\n",
       "        text-align: right;\n",
       "    }\n",
       "</style>\n",
       "<table border=\"1\" class=\"dataframe\">\n",
       "  <thead>\n",
       "    <tr style=\"text-align: right;\">\n",
       "      <th></th>\n",
       "      <th>shop_id</th>\n",
       "      <th>item_id</th>\n",
       "      <th>date_block_num</th>\n",
       "      <th>item_price</th>\n",
       "      <th>count</th>\n",
       "      <th>item_category_id</th>\n",
       "    </tr>\n",
       "  </thead>\n",
       "  <tbody>\n",
       "    <tr>\n",
       "      <th>3641399</th>\n",
       "      <td>42</td>\n",
       "      <td>969</td>\n",
       "      <td>0</td>\n",
       "      <td>549.0</td>\n",
       "      <td>0.0</td>\n",
       "      <td>84.0</td>\n",
       "    </tr>\n",
       "    <tr>\n",
       "      <th>2566523</th>\n",
       "      <td>21</td>\n",
       "      <td>9894</td>\n",
       "      <td>0</td>\n",
       "      <td>349.0</td>\n",
       "      <td>0.0</td>\n",
       "      <td>84.0</td>\n",
       "    </tr>\n",
       "    <tr>\n",
       "      <th>2566489</th>\n",
       "      <td>21</td>\n",
       "      <td>8391</td>\n",
       "      <td>0</td>\n",
       "      <td>449.0</td>\n",
       "      <td>0.0</td>\n",
       "      <td>84.0</td>\n",
       "    </tr>\n",
       "    <tr>\n",
       "      <th>2566455</th>\n",
       "      <td>21</td>\n",
       "      <td>9425</td>\n",
       "      <td>0</td>\n",
       "      <td>349.0</td>\n",
       "      <td>0.0</td>\n",
       "      <td>84.0</td>\n",
       "    </tr>\n",
       "    <tr>\n",
       "      <th>2566421</th>\n",
       "      <td>21</td>\n",
       "      <td>3344</td>\n",
       "      <td>0</td>\n",
       "      <td>2999.0</td>\n",
       "      <td>0.0</td>\n",
       "      <td>84.0</td>\n",
       "    </tr>\n",
       "    <tr>\n",
       "      <th>...</th>\n",
       "      <td>...</td>\n",
       "      <td>...</td>\n",
       "      <td>...</td>\n",
       "      <td>...</td>\n",
       "      <td>...</td>\n",
       "      <td>...</td>\n",
       "    </tr>\n",
       "    <tr>\n",
       "      <th>1089460</th>\n",
       "      <td>10</td>\n",
       "      <td>11575</td>\n",
       "      <td>33</td>\n",
       "      <td>75.0</td>\n",
       "      <td>0.0</td>\n",
       "      <td>84.0</td>\n",
       "    </tr>\n",
       "    <tr>\n",
       "      <th>6213226</th>\n",
       "      <td>38</td>\n",
       "      <td>11113</td>\n",
       "      <td>33</td>\n",
       "      <td>0.0</td>\n",
       "      <td>0.0</td>\n",
       "      <td>84.0</td>\n",
       "    </tr>\n",
       "    <tr>\n",
       "      <th>7085836</th>\n",
       "      <td>39</td>\n",
       "      <td>7541</td>\n",
       "      <td>33</td>\n",
       "      <td>0.0</td>\n",
       "      <td>0.0</td>\n",
       "      <td>84.0</td>\n",
       "    </tr>\n",
       "    <tr>\n",
       "      <th>1617106</th>\n",
       "      <td>31</td>\n",
       "      <td>15374</td>\n",
       "      <td>33</td>\n",
       "      <td>98.0</td>\n",
       "      <td>0.0</td>\n",
       "      <td>84.0</td>\n",
       "    </tr>\n",
       "    <tr>\n",
       "      <th>5413580</th>\n",
       "      <td>56</td>\n",
       "      <td>4424</td>\n",
       "      <td>33</td>\n",
       "      <td>299.0</td>\n",
       "      <td>0.0</td>\n",
       "      <td>84.0</td>\n",
       "    </tr>\n",
       "  </tbody>\n",
       "</table>\n",
       "<p>7282800 rows × 6 columns</p>\n",
       "</div>"
      ],
      "text/plain": [
       "         shop_id  item_id  date_block_num  item_price  count  item_category_id\n",
       "3641399       42      969               0       549.0    0.0              84.0\n",
       "2566523       21     9894               0       349.0    0.0              84.0\n",
       "2566489       21     8391               0       449.0    0.0              84.0\n",
       "2566455       21     9425               0       349.0    0.0              84.0\n",
       "2566421       21     3344               0      2999.0    0.0              84.0\n",
       "...          ...      ...             ...         ...    ...               ...\n",
       "1089460       10    11575              33        75.0    0.0              84.0\n",
       "6213226       38    11113              33         0.0    0.0              84.0\n",
       "7085836       39     7541              33         0.0    0.0              84.0\n",
       "1617106       31    15374              33        98.0    0.0              84.0\n",
       "5413580       56     4424              33       299.0    0.0              84.0\n",
       "\n",
       "[7282800 rows x 6 columns]"
      ]
     },
     "execution_count": 64,
     "metadata": {},
     "output_type": "execute_result"
    }
   ],
   "source": [
    "_data = data.copy()\n",
    "_data"
   ]
  },
  {
   "cell_type": "markdown",
   "metadata": {},
   "source": [
    "### Create date block feature"
   ]
  },
  {
   "cell_type": "code",
   "execution_count": 65,
   "metadata": {
    "ExecuteTime": {
     "end_time": "2020-09-17T16:41:42.227805Z",
     "start_time": "2020-09-17T16:41:42.213715Z"
    }
   },
   "outputs": [],
   "source": [
    "def generate_feature(df, by, base_col, output_col, agg_func):\n",
    "    agg_df = df.groupby(by, as_index=False).agg({base_col: agg_func})\n",
    "    agg_df.rename(columns={base_col: output_col}, inplace=True)\n",
    "    return df.merge(agg_df, how='left', on=by)"
   ]
  },
  {
   "cell_type": "code",
   "execution_count": 94,
   "metadata": {
    "ExecuteTime": {
     "end_time": "2020-09-17T17:10:18.684801Z",
     "start_time": "2020-09-17T17:10:09.670901Z"
    }
   },
   "outputs": [
    {
     "data": {
      "text/html": [
       "<div>\n",
       "<style scoped>\n",
       "    .dataframe tbody tr th:only-of-type {\n",
       "        vertical-align: middle;\n",
       "    }\n",
       "\n",
       "    .dataframe tbody tr th {\n",
       "        vertical-align: top;\n",
       "    }\n",
       "\n",
       "    .dataframe thead th {\n",
       "        text-align: right;\n",
       "    }\n",
       "</style>\n",
       "<table border=\"1\" class=\"dataframe\">\n",
       "  <thead>\n",
       "    <tr style=\"text-align: right;\">\n",
       "      <th></th>\n",
       "      <th>shop_id</th>\n",
       "      <th>item_id</th>\n",
       "      <th>date_block_num</th>\n",
       "      <th>item_price</th>\n",
       "      <th>count</th>\n",
       "      <th>item_category_id</th>\n",
       "      <th>count_by_shop</th>\n",
       "      <th>count_by_item</th>\n",
       "      <th>count_by_item_cat</th>\n",
       "      <th>avg_shop_price</th>\n",
       "      <th>avg_item_price</th>\n",
       "      <th>avg_item_cat_price</th>\n",
       "    </tr>\n",
       "  </thead>\n",
       "  <tbody>\n",
       "    <tr>\n",
       "      <th>0</th>\n",
       "      <td>42</td>\n",
       "      <td>969</td>\n",
       "      <td>0</td>\n",
       "      <td>549.0</td>\n",
       "      <td>0.0</td>\n",
       "      <td>84.0</td>\n",
       "      <td>864.0</td>\n",
       "      <td>0.0</td>\n",
       "      <td>0.0</td>\n",
       "      <td>759.885376</td>\n",
       "      <td>479.715179</td>\n",
       "      <td>532.315430</td>\n",
       "    </tr>\n",
       "    <tr>\n",
       "      <th>1</th>\n",
       "      <td>21</td>\n",
       "      <td>9894</td>\n",
       "      <td>0</td>\n",
       "      <td>349.0</td>\n",
       "      <td>0.0</td>\n",
       "      <td>84.0</td>\n",
       "      <td>335.0</td>\n",
       "      <td>0.0</td>\n",
       "      <td>0.0</td>\n",
       "      <td>661.685608</td>\n",
       "      <td>265.904755</td>\n",
       "      <td>532.315430</td>\n",
       "    </tr>\n",
       "    <tr>\n",
       "      <th>2</th>\n",
       "      <td>21</td>\n",
       "      <td>8391</td>\n",
       "      <td>0</td>\n",
       "      <td>449.0</td>\n",
       "      <td>0.0</td>\n",
       "      <td>84.0</td>\n",
       "      <td>335.0</td>\n",
       "      <td>0.0</td>\n",
       "      <td>0.0</td>\n",
       "      <td>661.685608</td>\n",
       "      <td>351.595245</td>\n",
       "      <td>532.315430</td>\n",
       "    </tr>\n",
       "    <tr>\n",
       "      <th>3</th>\n",
       "      <td>21</td>\n",
       "      <td>9425</td>\n",
       "      <td>0</td>\n",
       "      <td>349.0</td>\n",
       "      <td>0.0</td>\n",
       "      <td>84.0</td>\n",
       "      <td>335.0</td>\n",
       "      <td>0.0</td>\n",
       "      <td>0.0</td>\n",
       "      <td>661.685608</td>\n",
       "      <td>24.928572</td>\n",
       "      <td>532.315430</td>\n",
       "    </tr>\n",
       "    <tr>\n",
       "      <th>4</th>\n",
       "      <td>21</td>\n",
       "      <td>3344</td>\n",
       "      <td>0</td>\n",
       "      <td>2999.0</td>\n",
       "      <td>0.0</td>\n",
       "      <td>84.0</td>\n",
       "      <td>335.0</td>\n",
       "      <td>0.0</td>\n",
       "      <td>0.0</td>\n",
       "      <td>661.685608</td>\n",
       "      <td>2654.801270</td>\n",
       "      <td>532.315430</td>\n",
       "    </tr>\n",
       "    <tr>\n",
       "      <th>...</th>\n",
       "      <td>...</td>\n",
       "      <td>...</td>\n",
       "      <td>...</td>\n",
       "      <td>...</td>\n",
       "      <td>...</td>\n",
       "      <td>...</td>\n",
       "      <td>...</td>\n",
       "      <td>...</td>\n",
       "      <td>...</td>\n",
       "      <td>...</td>\n",
       "      <td>...</td>\n",
       "      <td>...</td>\n",
       "    </tr>\n",
       "    <tr>\n",
       "      <th>7282795</th>\n",
       "      <td>10</td>\n",
       "      <td>11575</td>\n",
       "      <td>33</td>\n",
       "      <td>75.0</td>\n",
       "      <td>0.0</td>\n",
       "      <td>84.0</td>\n",
       "      <td>417.0</td>\n",
       "      <td>22.0</td>\n",
       "      <td>0.0</td>\n",
       "      <td>297.520966</td>\n",
       "      <td>115.142860</td>\n",
       "      <td>393.984467</td>\n",
       "    </tr>\n",
       "    <tr>\n",
       "      <th>7282796</th>\n",
       "      <td>38</td>\n",
       "      <td>11113</td>\n",
       "      <td>33</td>\n",
       "      <td>0.0</td>\n",
       "      <td>0.0</td>\n",
       "      <td>84.0</td>\n",
       "      <td>1017.0</td>\n",
       "      <td>6.0</td>\n",
       "      <td>0.0</td>\n",
       "      <td>521.088074</td>\n",
       "      <td>177.071426</td>\n",
       "      <td>393.984467</td>\n",
       "    </tr>\n",
       "    <tr>\n",
       "      <th>7282797</th>\n",
       "      <td>39</td>\n",
       "      <td>7541</td>\n",
       "      <td>33</td>\n",
       "      <td>0.0</td>\n",
       "      <td>0.0</td>\n",
       "      <td>84.0</td>\n",
       "      <td>827.0</td>\n",
       "      <td>1.0</td>\n",
       "      <td>0.0</td>\n",
       "      <td>467.732544</td>\n",
       "      <td>16.642857</td>\n",
       "      <td>393.984467</td>\n",
       "    </tr>\n",
       "    <tr>\n",
       "      <th>7282798</th>\n",
       "      <td>31</td>\n",
       "      <td>15374</td>\n",
       "      <td>33</td>\n",
       "      <td>98.0</td>\n",
       "      <td>0.0</td>\n",
       "      <td>84.0</td>\n",
       "      <td>5022.0</td>\n",
       "      <td>0.0</td>\n",
       "      <td>0.0</td>\n",
       "      <td>747.882202</td>\n",
       "      <td>223.361908</td>\n",
       "      <td>393.984467</td>\n",
       "    </tr>\n",
       "    <tr>\n",
       "      <th>7282799</th>\n",
       "      <td>56</td>\n",
       "      <td>4424</td>\n",
       "      <td>33</td>\n",
       "      <td>299.0</td>\n",
       "      <td>0.0</td>\n",
       "      <td>84.0</td>\n",
       "      <td>1141.0</td>\n",
       "      <td>15.0</td>\n",
       "      <td>0.0</td>\n",
       "      <td>561.419495</td>\n",
       "      <td>254.142853</td>\n",
       "      <td>393.984467</td>\n",
       "    </tr>\n",
       "  </tbody>\n",
       "</table>\n",
       "<p>7282800 rows × 12 columns</p>\n",
       "</div>"
      ],
      "text/plain": [
       "         shop_id  item_id  date_block_num  item_price  count  \\\n",
       "0             42      969               0       549.0    0.0   \n",
       "1             21     9894               0       349.0    0.0   \n",
       "2             21     8391               0       449.0    0.0   \n",
       "3             21     9425               0       349.0    0.0   \n",
       "4             21     3344               0      2999.0    0.0   \n",
       "...          ...      ...             ...         ...    ...   \n",
       "7282795       10    11575              33        75.0    0.0   \n",
       "7282796       38    11113              33         0.0    0.0   \n",
       "7282797       39     7541              33         0.0    0.0   \n",
       "7282798       31    15374              33        98.0    0.0   \n",
       "7282799       56     4424              33       299.0    0.0   \n",
       "\n",
       "         item_category_id  count_by_shop  count_by_item  count_by_item_cat  \\\n",
       "0                    84.0          864.0            0.0                0.0   \n",
       "1                    84.0          335.0            0.0                0.0   \n",
       "2                    84.0          335.0            0.0                0.0   \n",
       "3                    84.0          335.0            0.0                0.0   \n",
       "4                    84.0          335.0            0.0                0.0   \n",
       "...                   ...            ...            ...                ...   \n",
       "7282795              84.0          417.0           22.0                0.0   \n",
       "7282796              84.0         1017.0            6.0                0.0   \n",
       "7282797              84.0          827.0            1.0                0.0   \n",
       "7282798              84.0         5022.0            0.0                0.0   \n",
       "7282799              84.0         1141.0           15.0                0.0   \n",
       "\n",
       "         avg_shop_price  avg_item_price  avg_item_cat_price  \n",
       "0            759.885376      479.715179          532.315430  \n",
       "1            661.685608      265.904755          532.315430  \n",
       "2            661.685608      351.595245          532.315430  \n",
       "3            661.685608       24.928572          532.315430  \n",
       "4            661.685608     2654.801270          532.315430  \n",
       "...                 ...             ...                 ...  \n",
       "7282795      297.520966      115.142860          393.984467  \n",
       "7282796      521.088074      177.071426          393.984467  \n",
       "7282797      467.732544       16.642857          393.984467  \n",
       "7282798      747.882202      223.361908          393.984467  \n",
       "7282799      561.419495      254.142853          393.984467  \n",
       "\n",
       "[7282800 rows x 12 columns]"
      ]
     },
     "execution_count": 94,
     "metadata": {},
     "output_type": "execute_result"
    }
   ],
   "source": [
    "data = _data.copy()\n",
    "data = generate_feature(data, by=[\n",
    "    'shop_id', 'date_block_num'], base_col='count', output_col='count_by_shop', agg_func='sum')\n",
    "data = generate_feature(data, by=[\n",
    "    'item_id', 'date_block_num'], base_col='count', output_col='count_by_item', agg_func='sum')\n",
    "data = generate_feature(data, by=[\n",
    "    'item_category_id', 'date_block_num'], base_col='count', output_col='count_by_item_cat', agg_func='sum')\n",
    "\n",
    "data = generate_feature(data, by=[\n",
    "    'shop_id', 'date_block_num'], base_col='item_price', output_col='avg_shop_price', agg_func='mean')\n",
    "data = generate_feature(data, by=[\n",
    "    'item_id', 'date_block_num'], base_col='item_price', output_col='avg_item_price', agg_func='mean')\n",
    "data = generate_feature(data, by=[\n",
    "    'item_category_id', 'date_block_num'], base_col='item_price', output_col='avg_item_cat_price', agg_func='mean')\n",
    "\n",
    "data"
   ]
  },
  {
   "cell_type": "markdown",
   "metadata": {},
   "source": [
    "### Mean Encoding"
   ]
  },
  {
   "cell_type": "code",
   "execution_count": 95,
   "metadata": {
    "ExecuteTime": {
     "end_time": "2020-09-17T17:10:20.697351Z",
     "start_time": "2020-09-17T17:10:19.052803Z"
    }
   },
   "outputs": [
    {
     "data": {
      "text/html": [
       "<div>\n",
       "<style scoped>\n",
       "    .dataframe tbody tr th:only-of-type {\n",
       "        vertical-align: middle;\n",
       "    }\n",
       "\n",
       "    .dataframe tbody tr th {\n",
       "        vertical-align: top;\n",
       "    }\n",
       "\n",
       "    .dataframe thead th {\n",
       "        text-align: right;\n",
       "    }\n",
       "</style>\n",
       "<table border=\"1\" class=\"dataframe\">\n",
       "  <thead>\n",
       "    <tr style=\"text-align: right;\">\n",
       "      <th></th>\n",
       "      <th>shop_id</th>\n",
       "      <th>item_id</th>\n",
       "      <th>date_block_num</th>\n",
       "      <th>item_price</th>\n",
       "      <th>count</th>\n",
       "      <th>item_category_id</th>\n",
       "      <th>count_by_shop</th>\n",
       "      <th>count_by_item</th>\n",
       "      <th>count_by_item_cat</th>\n",
       "      <th>avg_shop_price</th>\n",
       "      <th>avg_item_price</th>\n",
       "      <th>avg_item_cat_price</th>\n",
       "      <th>shop_id_encoded</th>\n",
       "      <th>item_id_encoded</th>\n",
       "      <th>item_category_id_encoded</th>\n",
       "    </tr>\n",
       "  </thead>\n",
       "  <tbody>\n",
       "    <tr>\n",
       "      <th>0</th>\n",
       "      <td>42</td>\n",
       "      <td>969</td>\n",
       "      <td>0</td>\n",
       "      <td>549.0</td>\n",
       "      <td>0.0</td>\n",
       "      <td>84.0</td>\n",
       "      <td>864.0</td>\n",
       "      <td>0.0</td>\n",
       "      <td>0.0</td>\n",
       "      <td>759.885376</td>\n",
       "      <td>479.715179</td>\n",
       "      <td>532.315430</td>\n",
       "      <td>0.368899</td>\n",
       "      <td>0.158263</td>\n",
       "      <td>0.0</td>\n",
       "    </tr>\n",
       "    <tr>\n",
       "      <th>1</th>\n",
       "      <td>21</td>\n",
       "      <td>9894</td>\n",
       "      <td>0</td>\n",
       "      <td>349.0</td>\n",
       "      <td>0.0</td>\n",
       "      <td>84.0</td>\n",
       "      <td>335.0</td>\n",
       "      <td>0.0</td>\n",
       "      <td>0.0</td>\n",
       "      <td>661.685608</td>\n",
       "      <td>265.904755</td>\n",
       "      <td>532.315430</td>\n",
       "      <td>0.193310</td>\n",
       "      <td>0.054622</td>\n",
       "      <td>0.0</td>\n",
       "    </tr>\n",
       "    <tr>\n",
       "      <th>2</th>\n",
       "      <td>21</td>\n",
       "      <td>8391</td>\n",
       "      <td>0</td>\n",
       "      <td>449.0</td>\n",
       "      <td>0.0</td>\n",
       "      <td>84.0</td>\n",
       "      <td>335.0</td>\n",
       "      <td>0.0</td>\n",
       "      <td>0.0</td>\n",
       "      <td>661.685608</td>\n",
       "      <td>351.595245</td>\n",
       "      <td>532.315430</td>\n",
       "      <td>0.193310</td>\n",
       "      <td>0.158263</td>\n",
       "      <td>0.0</td>\n",
       "    </tr>\n",
       "    <tr>\n",
       "      <th>3</th>\n",
       "      <td>21</td>\n",
       "      <td>9425</td>\n",
       "      <td>0</td>\n",
       "      <td>349.0</td>\n",
       "      <td>0.0</td>\n",
       "      <td>84.0</td>\n",
       "      <td>335.0</td>\n",
       "      <td>0.0</td>\n",
       "      <td>0.0</td>\n",
       "      <td>661.685608</td>\n",
       "      <td>24.928572</td>\n",
       "      <td>532.315430</td>\n",
       "      <td>0.193310</td>\n",
       "      <td>0.002101</td>\n",
       "      <td>0.0</td>\n",
       "    </tr>\n",
       "    <tr>\n",
       "      <th>4</th>\n",
       "      <td>21</td>\n",
       "      <td>3344</td>\n",
       "      <td>0</td>\n",
       "      <td>2999.0</td>\n",
       "      <td>0.0</td>\n",
       "      <td>84.0</td>\n",
       "      <td>335.0</td>\n",
       "      <td>0.0</td>\n",
       "      <td>0.0</td>\n",
       "      <td>661.685608</td>\n",
       "      <td>2654.801270</td>\n",
       "      <td>532.315430</td>\n",
       "      <td>0.193310</td>\n",
       "      <td>0.240896</td>\n",
       "      <td>0.0</td>\n",
       "    </tr>\n",
       "    <tr>\n",
       "      <th>...</th>\n",
       "      <td>...</td>\n",
       "      <td>...</td>\n",
       "      <td>...</td>\n",
       "      <td>...</td>\n",
       "      <td>...</td>\n",
       "      <td>...</td>\n",
       "      <td>...</td>\n",
       "      <td>...</td>\n",
       "      <td>...</td>\n",
       "      <td>...</td>\n",
       "      <td>...</td>\n",
       "      <td>...</td>\n",
       "      <td>...</td>\n",
       "      <td>...</td>\n",
       "      <td>...</td>\n",
       "    </tr>\n",
       "    <tr>\n",
       "      <th>7282795</th>\n",
       "      <td>10</td>\n",
       "      <td>11575</td>\n",
       "      <td>33</td>\n",
       "      <td>75.0</td>\n",
       "      <td>0.0</td>\n",
       "      <td>84.0</td>\n",
       "      <td>417.0</td>\n",
       "      <td>22.0</td>\n",
       "      <td>0.0</td>\n",
       "      <td>297.520966</td>\n",
       "      <td>115.142860</td>\n",
       "      <td>393.984467</td>\n",
       "      <td>0.071073</td>\n",
       "      <td>0.317227</td>\n",
       "      <td>0.0</td>\n",
       "    </tr>\n",
       "    <tr>\n",
       "      <th>7282796</th>\n",
       "      <td>38</td>\n",
       "      <td>11113</td>\n",
       "      <td>33</td>\n",
       "      <td>0.0</td>\n",
       "      <td>0.0</td>\n",
       "      <td>84.0</td>\n",
       "      <td>1017.0</td>\n",
       "      <td>6.0</td>\n",
       "      <td>0.0</td>\n",
       "      <td>521.088074</td>\n",
       "      <td>177.071426</td>\n",
       "      <td>393.984467</td>\n",
       "      <td>0.168408</td>\n",
       "      <td>0.061625</td>\n",
       "      <td>0.0</td>\n",
       "    </tr>\n",
       "    <tr>\n",
       "      <th>7282797</th>\n",
       "      <td>39</td>\n",
       "      <td>7541</td>\n",
       "      <td>33</td>\n",
       "      <td>0.0</td>\n",
       "      <td>0.0</td>\n",
       "      <td>84.0</td>\n",
       "      <td>827.0</td>\n",
       "      <td>1.0</td>\n",
       "      <td>0.0</td>\n",
       "      <td>467.732544</td>\n",
       "      <td>16.642857</td>\n",
       "      <td>393.984467</td>\n",
       "      <td>0.062278</td>\n",
       "      <td>0.028011</td>\n",
       "      <td>0.0</td>\n",
       "    </tr>\n",
       "    <tr>\n",
       "      <th>7282798</th>\n",
       "      <td>31</td>\n",
       "      <td>15374</td>\n",
       "      <td>33</td>\n",
       "      <td>98.0</td>\n",
       "      <td>0.0</td>\n",
       "      <td>84.0</td>\n",
       "      <td>5022.0</td>\n",
       "      <td>0.0</td>\n",
       "      <td>0.0</td>\n",
       "      <td>747.882202</td>\n",
       "      <td>223.361908</td>\n",
       "      <td>393.984467</td>\n",
       "      <td>0.715461</td>\n",
       "      <td>0.115546</td>\n",
       "      <td>0.0</td>\n",
       "    </tr>\n",
       "    <tr>\n",
       "      <th>7282799</th>\n",
       "      <td>56</td>\n",
       "      <td>4424</td>\n",
       "      <td>33</td>\n",
       "      <td>299.0</td>\n",
       "      <td>0.0</td>\n",
       "      <td>84.0</td>\n",
       "      <td>1141.0</td>\n",
       "      <td>15.0</td>\n",
       "      <td>0.0</td>\n",
       "      <td>561.419495</td>\n",
       "      <td>254.142853</td>\n",
       "      <td>393.984467</td>\n",
       "      <td>0.194273</td>\n",
       "      <td>0.208683</td>\n",
       "      <td>0.0</td>\n",
       "    </tr>\n",
       "  </tbody>\n",
       "</table>\n",
       "<p>7282800 rows × 15 columns</p>\n",
       "</div>"
      ],
      "text/plain": [
       "         shop_id  item_id  date_block_num  item_price  count  \\\n",
       "0             42      969               0       549.0    0.0   \n",
       "1             21     9894               0       349.0    0.0   \n",
       "2             21     8391               0       449.0    0.0   \n",
       "3             21     9425               0       349.0    0.0   \n",
       "4             21     3344               0      2999.0    0.0   \n",
       "...          ...      ...             ...         ...    ...   \n",
       "7282795       10    11575              33        75.0    0.0   \n",
       "7282796       38    11113              33         0.0    0.0   \n",
       "7282797       39     7541              33         0.0    0.0   \n",
       "7282798       31    15374              33        98.0    0.0   \n",
       "7282799       56     4424              33       299.0    0.0   \n",
       "\n",
       "         item_category_id  count_by_shop  count_by_item  count_by_item_cat  \\\n",
       "0                    84.0          864.0            0.0                0.0   \n",
       "1                    84.0          335.0            0.0                0.0   \n",
       "2                    84.0          335.0            0.0                0.0   \n",
       "3                    84.0          335.0            0.0                0.0   \n",
       "4                    84.0          335.0            0.0                0.0   \n",
       "...                   ...            ...            ...                ...   \n",
       "7282795              84.0          417.0           22.0                0.0   \n",
       "7282796              84.0         1017.0            6.0                0.0   \n",
       "7282797              84.0          827.0            1.0                0.0   \n",
       "7282798              84.0         5022.0            0.0                0.0   \n",
       "7282799              84.0         1141.0           15.0                0.0   \n",
       "\n",
       "         avg_shop_price  avg_item_price  avg_item_cat_price  shop_id_encoded  \\\n",
       "0            759.885376      479.715179          532.315430         0.368899   \n",
       "1            661.685608      265.904755          532.315430         0.193310   \n",
       "2            661.685608      351.595245          532.315430         0.193310   \n",
       "3            661.685608       24.928572          532.315430         0.193310   \n",
       "4            661.685608     2654.801270          532.315430         0.193310   \n",
       "...                 ...             ...                 ...              ...   \n",
       "7282795      297.520966      115.142860          393.984467         0.071073   \n",
       "7282796      521.088074      177.071426          393.984467         0.168408   \n",
       "7282797      467.732544       16.642857          393.984467         0.062278   \n",
       "7282798      747.882202      223.361908          393.984467         0.715461   \n",
       "7282799      561.419495      254.142853          393.984467         0.194273   \n",
       "\n",
       "         item_id_encoded  item_category_id_encoded  \n",
       "0               0.158263                       0.0  \n",
       "1               0.054622                       0.0  \n",
       "2               0.158263                       0.0  \n",
       "3               0.002101                       0.0  \n",
       "4               0.240896                       0.0  \n",
       "...                  ...                       ...  \n",
       "7282795         0.317227                       0.0  \n",
       "7282796         0.061625                       0.0  \n",
       "7282797         0.028011                       0.0  \n",
       "7282798         0.115546                       0.0  \n",
       "7282799         0.208683                       0.0  \n",
       "\n",
       "[7282800 rows x 15 columns]"
      ]
     },
     "execution_count": 95,
     "metadata": {},
     "output_type": "execute_result"
    }
   ],
   "source": [
    "def mean_encoding(df, cat_col, target_col):\n",
    "    encoder = df.groupby(cat_col)[target_col].mean()\n",
    "    return df[cat_col].map(encoder)\n",
    "data['shop_id_encoded'] = mean_encoding(data, 'shop_id', 'count')\n",
    "data['item_id_encoded'] = mean_encoding(data, 'item_id', 'count')\n",
    "data['item_category_id_encoded'] = mean_encoding(data, 'item_category_id', 'count')\n",
    "data"
   ]
  },
  {
   "cell_type": "markdown",
   "metadata": {},
   "source": [
    "### Standardization"
   ]
  },
  {
   "cell_type": "code",
   "execution_count": 97,
   "metadata": {
    "ExecuteTime": {
     "end_time": "2020-09-17T17:10:21.455863Z",
     "start_time": "2020-09-17T17:10:21.441864Z"
    }
   },
   "outputs": [],
   "source": [
    "standard_cols = ['item_price', 'count', 'count_by_shop', 'count_by_item',\n",
    "                 'count_by_item_cat', 'avg_shop_price', 'avg_item_price', 'avg_item_cat_price',\n",
    "                 'shop_id_encoded', 'item_id_encoded', 'item_category_id_encoded'\n",
    "                 ]\n",
    "standard_cols = list(filter(lambda col: col in data.columns, standard_cols))"
   ]
  },
  {
   "cell_type": "code",
   "execution_count": 98,
   "metadata": {
    "ExecuteTime": {
     "end_time": "2020-09-17T17:10:22.689889Z",
     "start_time": "2020-09-17T17:10:21.802709Z"
    }
   },
   "outputs": [],
   "source": [
    "# _data = data.copy()\n",
    "cols = ['avg_item_price', 'avg_item_price', 'count_by_item',\n",
    "        'count_by_item_cat', 'item_category_id_encoded', 'item_id_encoded',\n",
    "        'item_price']\n",
    "data[cols] = np.log1p(data[cols])"
   ]
  },
  {
   "cell_type": "code",
   "execution_count": 99,
   "metadata": {
    "ExecuteTime": {
     "end_time": "2020-09-17T17:10:35.956240Z",
     "start_time": "2020-09-17T17:10:25.718127Z"
    }
   },
   "outputs": [
    {
     "data": {
      "text/html": [
       "<div>\n",
       "<style scoped>\n",
       "    .dataframe tbody tr th:only-of-type {\n",
       "        vertical-align: middle;\n",
       "    }\n",
       "\n",
       "    .dataframe tbody tr th {\n",
       "        vertical-align: top;\n",
       "    }\n",
       "\n",
       "    .dataframe thead th {\n",
       "        text-align: right;\n",
       "    }\n",
       "</style>\n",
       "<table border=\"1\" class=\"dataframe\">\n",
       "  <thead>\n",
       "    <tr style=\"text-align: right;\">\n",
       "      <th></th>\n",
       "      <th>shop_id</th>\n",
       "      <th>item_id</th>\n",
       "      <th>date_block_num</th>\n",
       "      <th>item_price</th>\n",
       "      <th>count</th>\n",
       "      <th>item_category_id</th>\n",
       "      <th>count_by_shop</th>\n",
       "      <th>count_by_item</th>\n",
       "      <th>count_by_item_cat</th>\n",
       "      <th>avg_shop_price</th>\n",
       "      <th>avg_item_price</th>\n",
       "      <th>avg_item_cat_price</th>\n",
       "      <th>shop_id_encoded</th>\n",
       "      <th>item_id_encoded</th>\n",
       "      <th>item_category_id_encoded</th>\n",
       "    </tr>\n",
       "  </thead>\n",
       "  <tbody>\n",
       "    <tr>\n",
       "      <th>0</th>\n",
       "      <td>42</td>\n",
       "      <td>969</td>\n",
       "      <td>0</td>\n",
       "      <td>0.925503</td>\n",
       "      <td>-0.179743</td>\n",
       "      <td>84.0</td>\n",
       "      <td>-0.115678</td>\n",
       "      <td>-0.678773</td>\n",
       "      <td>-0.295782</td>\n",
       "      <td>1.580639</td>\n",
       "      <td>0.586043</td>\n",
       "      <td>0.015641</td>\n",
       "      <td>1.376639</td>\n",
       "      <td>0.037575</td>\n",
       "      <td>-0.291813</td>\n",
       "    </tr>\n",
       "    <tr>\n",
       "      <th>1</th>\n",
       "      <td>21</td>\n",
       "      <td>9894</td>\n",
       "      <td>0</td>\n",
       "      <td>0.786467</td>\n",
       "      <td>-0.179743</td>\n",
       "      <td>84.0</td>\n",
       "      <td>-0.770237</td>\n",
       "      <td>-0.678773</td>\n",
       "      <td>-0.295782</td>\n",
       "      <td>0.918181</td>\n",
       "      <td>0.297949</td>\n",
       "      <td>0.015641</td>\n",
       "      <td>0.042309</td>\n",
       "      <td>-0.386537</td>\n",
       "      <td>-0.291813</td>\n",
       "    </tr>\n",
       "    <tr>\n",
       "      <th>2</th>\n",
       "      <td>21</td>\n",
       "      <td>8391</td>\n",
       "      <td>0</td>\n",
       "      <td>0.863774</td>\n",
       "      <td>-0.179743</td>\n",
       "      <td>84.0</td>\n",
       "      <td>-0.770237</td>\n",
       "      <td>-0.678773</td>\n",
       "      <td>-0.295782</td>\n",
       "      <td>0.918181</td>\n",
       "      <td>0.434278</td>\n",
       "      <td>0.015641</td>\n",
       "      <td>0.042309</td>\n",
       "      <td>0.037575</td>\n",
       "      <td>-0.291813</td>\n",
       "    </tr>\n",
       "    <tr>\n",
       "      <th>3</th>\n",
       "      <td>21</td>\n",
       "      <td>9425</td>\n",
       "      <td>0</td>\n",
       "      <td>0.786467</td>\n",
       "      <td>-0.179743</td>\n",
       "      <td>84.0</td>\n",
       "      <td>-0.770237</td>\n",
       "      <td>-0.678773</td>\n",
       "      <td>-0.295782</td>\n",
       "      <td>0.918181</td>\n",
       "      <td>-0.843663</td>\n",
       "      <td>0.015641</td>\n",
       "      <td>0.042309</td>\n",
       "      <td>-0.617658</td>\n",
       "      <td>-0.291813</td>\n",
       "    </tr>\n",
       "    <tr>\n",
       "      <th>4</th>\n",
       "      <td>21</td>\n",
       "      <td>3344</td>\n",
       "      <td>0</td>\n",
       "      <td>1.447349</td>\n",
       "      <td>-0.179743</td>\n",
       "      <td>84.0</td>\n",
       "      <td>-0.770237</td>\n",
       "      <td>-0.678773</td>\n",
       "      <td>-0.295782</td>\n",
       "      <td>0.918181</td>\n",
       "      <td>1.422943</td>\n",
       "      <td>0.015641</td>\n",
       "      <td>0.042309</td>\n",
       "      <td>0.349359</td>\n",
       "      <td>-0.291813</td>\n",
       "    </tr>\n",
       "    <tr>\n",
       "      <th>...</th>\n",
       "      <td>...</td>\n",
       "      <td>...</td>\n",
       "      <td>...</td>\n",
       "      <td>...</td>\n",
       "      <td>...</td>\n",
       "      <td>...</td>\n",
       "      <td>...</td>\n",
       "      <td>...</td>\n",
       "      <td>...</td>\n",
       "      <td>...</td>\n",
       "      <td>...</td>\n",
       "      <td>...</td>\n",
       "      <td>...</td>\n",
       "      <td>...</td>\n",
       "      <td>...</td>\n",
       "    </tr>\n",
       "    <tr>\n",
       "      <th>7282795</th>\n",
       "      <td>10</td>\n",
       "      <td>11575</td>\n",
       "      <td>33</td>\n",
       "      <td>0.316684</td>\n",
       "      <td>-0.179743</td>\n",
       "      <td>84.0</td>\n",
       "      <td>-0.668774</td>\n",
       "      <td>1.726506</td>\n",
       "      <td>-0.295782</td>\n",
       "      <td>-1.538483</td>\n",
       "      <td>-0.109464</td>\n",
       "      <td>-0.305529</td>\n",
       "      <td>-0.886599</td>\n",
       "      <td>0.619440</td>\n",
       "      <td>-0.291813</td>\n",
       "    </tr>\n",
       "    <tr>\n",
       "      <th>7282796</th>\n",
       "      <td>38</td>\n",
       "      <td>11113</td>\n",
       "      <td>33</td>\n",
       "      <td>-1.015495</td>\n",
       "      <td>-0.179743</td>\n",
       "      <td>84.0</td>\n",
       "      <td>0.073637</td>\n",
       "      <td>0.813960</td>\n",
       "      <td>-0.295782</td>\n",
       "      <td>-0.030294</td>\n",
       "      <td>0.099789</td>\n",
       "      <td>-0.305529</td>\n",
       "      <td>-0.146926</td>\n",
       "      <td>-0.356594</td>\n",
       "      <td>-0.291813</td>\n",
       "    </tr>\n",
       "    <tr>\n",
       "      <th>7282797</th>\n",
       "      <td>39</td>\n",
       "      <td>7541</td>\n",
       "      <td>33</td>\n",
       "      <td>-1.015495</td>\n",
       "      <td>-0.179743</td>\n",
       "      <td>84.0</td>\n",
       "      <td>-0.161460</td>\n",
       "      <td>-0.147051</td>\n",
       "      <td>-0.295782</td>\n",
       "      <td>-0.390231</td>\n",
       "      <td>-1.032180</td>\n",
       "      <td>-0.305529</td>\n",
       "      <td>-0.953432</td>\n",
       "      <td>-0.502162</td>\n",
       "      <td>-0.291813</td>\n",
       "    </tr>\n",
       "    <tr>\n",
       "      <th>7282798</th>\n",
       "      <td>31</td>\n",
       "      <td>15374</td>\n",
       "      <td>33</td>\n",
       "      <td>0.398013</td>\n",
       "      <td>-0.179743</td>\n",
       "      <td>84.0</td>\n",
       "      <td>5.029230</td>\n",
       "      <td>-0.678773</td>\n",
       "      <td>-0.295782</td>\n",
       "      <td>1.499665</td>\n",
       "      <td>0.212932</td>\n",
       "      <td>-0.305529</td>\n",
       "      <td>4.010240</td>\n",
       "      <td>-0.132440</td>\n",
       "      <td>-0.291813</td>\n",
       "    </tr>\n",
       "    <tr>\n",
       "      <th>7282799</th>\n",
       "      <td>56</td>\n",
       "      <td>4424</td>\n",
       "      <td>33</td>\n",
       "      <td>0.739049</td>\n",
       "      <td>-0.179743</td>\n",
       "      <td>84.0</td>\n",
       "      <td>0.227069</td>\n",
       "      <td>1.448116</td>\n",
       "      <td>-0.295782</td>\n",
       "      <td>0.241783</td>\n",
       "      <td>0.275881</td>\n",
       "      <td>-0.305529</td>\n",
       "      <td>0.049627</td>\n",
       "      <td>0.230358</td>\n",
       "      <td>-0.291813</td>\n",
       "    </tr>\n",
       "  </tbody>\n",
       "</table>\n",
       "<p>7282800 rows × 15 columns</p>\n",
       "</div>"
      ],
      "text/plain": [
       "         shop_id  item_id  date_block_num  item_price     count  \\\n",
       "0             42      969               0    0.925503 -0.179743   \n",
       "1             21     9894               0    0.786467 -0.179743   \n",
       "2             21     8391               0    0.863774 -0.179743   \n",
       "3             21     9425               0    0.786467 -0.179743   \n",
       "4             21     3344               0    1.447349 -0.179743   \n",
       "...          ...      ...             ...         ...       ...   \n",
       "7282795       10    11575              33    0.316684 -0.179743   \n",
       "7282796       38    11113              33   -1.015495 -0.179743   \n",
       "7282797       39     7541              33   -1.015495 -0.179743   \n",
       "7282798       31    15374              33    0.398013 -0.179743   \n",
       "7282799       56     4424              33    0.739049 -0.179743   \n",
       "\n",
       "         item_category_id  count_by_shop  count_by_item  count_by_item_cat  \\\n",
       "0                    84.0      -0.115678      -0.678773          -0.295782   \n",
       "1                    84.0      -0.770237      -0.678773          -0.295782   \n",
       "2                    84.0      -0.770237      -0.678773          -0.295782   \n",
       "3                    84.0      -0.770237      -0.678773          -0.295782   \n",
       "4                    84.0      -0.770237      -0.678773          -0.295782   \n",
       "...                   ...            ...            ...                ...   \n",
       "7282795              84.0      -0.668774       1.726506          -0.295782   \n",
       "7282796              84.0       0.073637       0.813960          -0.295782   \n",
       "7282797              84.0      -0.161460      -0.147051          -0.295782   \n",
       "7282798              84.0       5.029230      -0.678773          -0.295782   \n",
       "7282799              84.0       0.227069       1.448116          -0.295782   \n",
       "\n",
       "         avg_shop_price  avg_item_price  avg_item_cat_price  shop_id_encoded  \\\n",
       "0              1.580639        0.586043            0.015641         1.376639   \n",
       "1              0.918181        0.297949            0.015641         0.042309   \n",
       "2              0.918181        0.434278            0.015641         0.042309   \n",
       "3              0.918181       -0.843663            0.015641         0.042309   \n",
       "4              0.918181        1.422943            0.015641         0.042309   \n",
       "...                 ...             ...                 ...              ...   \n",
       "7282795       -1.538483       -0.109464           -0.305529        -0.886599   \n",
       "7282796       -0.030294        0.099789           -0.305529        -0.146926   \n",
       "7282797       -0.390231       -1.032180           -0.305529        -0.953432   \n",
       "7282798        1.499665        0.212932           -0.305529         4.010240   \n",
       "7282799        0.241783        0.275881           -0.305529         0.049627   \n",
       "\n",
       "         item_id_encoded  item_category_id_encoded  \n",
       "0               0.037575                 -0.291813  \n",
       "1              -0.386537                 -0.291813  \n",
       "2               0.037575                 -0.291813  \n",
       "3              -0.617658                 -0.291813  \n",
       "4               0.349359                 -0.291813  \n",
       "...                  ...                       ...  \n",
       "7282795         0.619440                 -0.291813  \n",
       "7282796        -0.356594                 -0.291813  \n",
       "7282797        -0.502162                 -0.291813  \n",
       "7282798        -0.132440                 -0.291813  \n",
       "7282799         0.230358                 -0.291813  \n",
       "\n",
       "[7282800 rows x 15 columns]"
      ]
     },
     "execution_count": 99,
     "metadata": {},
     "output_type": "execute_result"
    }
   ],
   "source": [
    "scaler = StandardScaler()\n",
    "data.loc[:, standard_cols] = scaler.fit_transform(data[standard_cols])\n",
    "data = downcast_dataframe(data)\n",
    "data"
   ]
  },
  {
   "cell_type": "code",
   "execution_count": 100,
   "metadata": {
    "ExecuteTime": {
     "end_time": "2020-09-17T17:10:36.417242Z",
     "start_time": "2020-09-17T17:10:36.403242Z"
    }
   },
   "outputs": [
    {
     "data": {
      "text/html": [
       "<div>\n",
       "<style scoped>\n",
       "    .dataframe tbody tr th:only-of-type {\n",
       "        vertical-align: middle;\n",
       "    }\n",
       "\n",
       "    .dataframe tbody tr th {\n",
       "        vertical-align: top;\n",
       "    }\n",
       "\n",
       "    .dataframe thead th {\n",
       "        text-align: right;\n",
       "    }\n",
       "</style>\n",
       "<table border=\"1\" class=\"dataframe\">\n",
       "  <thead>\n",
       "    <tr style=\"text-align: right;\">\n",
       "      <th></th>\n",
       "      <th>mean</th>\n",
       "      <th>var</th>\n",
       "    </tr>\n",
       "  </thead>\n",
       "  <tbody>\n",
       "    <tr>\n",
       "      <th>item_price</th>\n",
       "      <td>3.301236</td>\n",
       "      <td>10.568108</td>\n",
       "    </tr>\n",
       "    <tr>\n",
       "      <th>count</th>\n",
       "      <td>0.187743</td>\n",
       "      <td>1.090997</td>\n",
       "    </tr>\n",
       "    <tr>\n",
       "      <th>count_by_shop</th>\n",
       "      <td>957.488095</td>\n",
       "      <td>653151.289247</td>\n",
       "    </tr>\n",
       "    <tr>\n",
       "      <th>count_by_item</th>\n",
       "      <td>0.884841</td>\n",
       "      <td>1.699343</td>\n",
       "    </tr>\n",
       "    <tr>\n",
       "      <th>count_by_item_cat</th>\n",
       "      <td>0.624535</td>\n",
       "      <td>4.458291</td>\n",
       "    </tr>\n",
       "    <tr>\n",
       "      <th>avg_shop_price</th>\n",
       "      <td>525.578655</td>\n",
       "      <td>21973.745723</td>\n",
       "    </tr>\n",
       "    <tr>\n",
       "      <th>avg_item_price</th>\n",
       "      <td>4.978383</td>\n",
       "      <td>4.171110</td>\n",
       "    </tr>\n",
       "    <tr>\n",
       "      <th>avg_item_cat_price</th>\n",
       "      <td>525.578656</td>\n",
       "      <td>185510.438085</td>\n",
       "    </tr>\n",
       "    <tr>\n",
       "      <th>shop_id_encoded</th>\n",
       "      <td>0.187743</td>\n",
       "      <td>0.017317</td>\n",
       "    </tr>\n",
       "    <tr>\n",
       "      <th>item_id_encoded</th>\n",
       "      <td>0.138617</td>\n",
       "      <td>0.048852</td>\n",
       "    </tr>\n",
       "    <tr>\n",
       "      <th>item_category_id_encoded</th>\n",
       "      <td>0.094596</td>\n",
       "      <td>0.105084</td>\n",
       "    </tr>\n",
       "  </tbody>\n",
       "</table>\n",
       "</div>"
      ],
      "text/plain": [
       "                                mean            var\n",
       "item_price                  3.301236      10.568108\n",
       "count                       0.187743       1.090997\n",
       "count_by_shop             957.488095  653151.289247\n",
       "count_by_item               0.884841       1.699343\n",
       "count_by_item_cat           0.624535       4.458291\n",
       "avg_shop_price            525.578655   21973.745723\n",
       "avg_item_price              4.978383       4.171110\n",
       "avg_item_cat_price        525.578656  185510.438085\n",
       "shop_id_encoded             0.187743       0.017317\n",
       "item_id_encoded             0.138617       0.048852\n",
       "item_category_id_encoded    0.094596       0.105084"
      ]
     },
     "execution_count": 100,
     "metadata": {},
     "output_type": "execute_result"
    }
   ],
   "source": [
    "def inverse_scaling(prediction, col):\n",
    "    mean, var = scaler_params.loc[col].tolist()\n",
    "    prediction = prediction * np.sqrt(var) + mean\n",
    "    return prediction\n",
    "scaler_params = pd.DataFrame([scaler.mean_, scaler.var_], columns=standard_cols, index=['mean', 'var']).T\n",
    "scaler_params"
   ]
  },
  {
   "cell_type": "markdown",
   "metadata": {},
   "source": [
    "### Generate past-features"
   ]
  },
  {
   "cell_type": "code",
   "execution_count": 101,
   "metadata": {
    "ExecuteTime": {
     "end_time": "2020-09-17T17:10:36.826280Z",
     "start_time": "2020-09-17T17:10:36.811280Z"
    }
   },
   "outputs": [],
   "source": [
    "timeserie_cols = [\n",
    "    'item_price', 'count', 'count_by_shop', 'count_by_item',\n",
    "    'count_by_item_cat', 'avg_shop_price', 'avg_item_price', 'avg_item_cat_price',\n",
    "]\n",
    "def generate_past_features(data, lookback_steps):\n",
    "    index_cols = ['shop_id', 'item_id', 'date_block_num']\n",
    "#     timeserie_cols = list(data.columns.difference(index_cols + ['item_category_id']))\n",
    "\n",
    "#     new_data = data.copy()\n",
    "    new_data = data[data['date_block_num'] >= max(lookback_steps)]\n",
    "\n",
    "    for lookback_num in tqdm(lookback_steps):\n",
    "        month_shift_df = data.copy()\n",
    "        month_shift_df['date_block_num'] = month_shift_df['date_block_num'] + lookback_num\n",
    "\n",
    "        lookback_cols = [f'p{lookback_num}_{col}' for col in timeserie_cols]\n",
    "        month_shift_df.rename(columns={old_col: new_col for old_col, new_col in zip(timeserie_cols, lookback_cols)}, inplace=True)\n",
    "        month_shift_df = month_shift_df[month_shift_df.columns.sort_values()]\n",
    "        new_data = new_data.merge(\n",
    "            month_shift_df[index_cols+lookback_cols], how='left', on=index_cols)\n",
    "    return new_data"
   ]
  },
  {
   "cell_type": "markdown",
   "metadata": {},
   "source": [
    "### Cross validation split"
   ]
  },
  {
   "cell_type": "code",
   "execution_count": 75,
   "metadata": {
    "ExecuteTime": {
     "end_time": "2020-09-17T16:46:06.200503Z",
     "start_time": "2020-09-17T16:46:06.191450Z"
    }
   },
   "outputs": [],
   "source": [
    "# lookback_steps = np.array([1, 2, 3, 4, 5, 6, 9 ])\n",
    "lookback_steps = np.array([1, 2, 3, 4, 5]) "
   ]
  },
  {
   "cell_type": "code",
   "execution_count": 102,
   "metadata": {
    "ExecuteTime": {
     "end_time": "2020-09-17T17:10:58.675761Z",
     "start_time": "2020-09-17T17:10:37.177788Z"
    }
   },
   "outputs": [
    {
     "name": "stderr",
     "output_type": "stream",
     "text": [
      "100%|████████████████████████████████████████████████████████████████████████████████████| 5/5 [00:18<00:00,  3.77s/it]\n"
     ]
    },
    {
     "data": {
      "text/plain": [
       "104"
      ]
     },
     "execution_count": 102,
     "metadata": {},
     "output_type": "execute_result"
    }
   ],
   "source": [
    "\n",
    "# val_blocks = [30, 31, 32]\n",
    "val_blocks = [32]\n",
    "\n",
    "train_val_data = generate_past_features(data, lookback_steps)\n",
    "train_data = train_val_data[(train_val_data['date_block_num'] >= 0) & (train_val_data['date_block_num'] < min(val_blocks))]\n",
    "val_data = train_val_data[train_val_data['date_block_num'].isin(val_blocks)]\n",
    "# del data\n",
    "\n",
    "target_col = 'count'\n",
    "feature_cols = train_data.columns.difference(\n",
    "    [target_col, 'date_block_num', 'item_price',\n",
    "     'count_by_shop', 'count_by_item', 'count_by_item_cat',\n",
    "     'avg_shop_price', 'avg_item_price', 'avg_item_cat_price',\n",
    "     'shop_id', 'item_id', 'item_category_id'\n",
    "    ]).sort_values().to_list()\n",
    "\n",
    "X_train = train_data[feature_cols]\n",
    "Y_train = train_data[target_col]\n",
    "\n",
    "X_val = val_data[feature_cols]\n",
    "Y_val = val_data[target_col]\n",
    "\n",
    "del train_val_data, train_data, val_data\n",
    "gc.collect()"
   ]
  },
  {
   "cell_type": "code",
   "execution_count": 103,
   "metadata": {
    "ExecuteTime": {
     "end_time": "2020-09-17T17:10:59.311762Z",
     "start_time": "2020-09-17T17:10:59.074761Z"
    }
   },
   "outputs": [
    {
     "data": {
      "text/html": [
       "<div>\n",
       "<style scoped>\n",
       "    .dataframe tbody tr th:only-of-type {\n",
       "        vertical-align: middle;\n",
       "    }\n",
       "\n",
       "    .dataframe tbody tr th {\n",
       "        vertical-align: top;\n",
       "    }\n",
       "\n",
       "    .dataframe thead th {\n",
       "        text-align: right;\n",
       "    }\n",
       "</style>\n",
       "<table border=\"1\" class=\"dataframe\">\n",
       "  <thead>\n",
       "    <tr style=\"text-align: right;\">\n",
       "      <th></th>\n",
       "      <th>item_category_id_encoded</th>\n",
       "      <th>item_id_encoded</th>\n",
       "      <th>p1_avg_item_cat_price</th>\n",
       "      <th>p1_avg_item_price</th>\n",
       "      <th>p1_avg_shop_price</th>\n",
       "      <th>p1_count</th>\n",
       "      <th>p1_count_by_item</th>\n",
       "      <th>p1_count_by_item_cat</th>\n",
       "      <th>p1_count_by_shop</th>\n",
       "      <th>p1_item_price</th>\n",
       "      <th>...</th>\n",
       "      <th>p4_item_price</th>\n",
       "      <th>p5_avg_item_cat_price</th>\n",
       "      <th>p5_avg_item_price</th>\n",
       "      <th>p5_avg_shop_price</th>\n",
       "      <th>p5_count</th>\n",
       "      <th>p5_count_by_item</th>\n",
       "      <th>p5_count_by_item_cat</th>\n",
       "      <th>p5_count_by_shop</th>\n",
       "      <th>p5_item_price</th>\n",
       "      <th>shop_id_encoded</th>\n",
       "    </tr>\n",
       "  </thead>\n",
       "  <tbody>\n",
       "    <tr>\n",
       "      <th>0</th>\n",
       "      <td>-0.291813</td>\n",
       "      <td>-0.061987</td>\n",
       "      <td>0.012808</td>\n",
       "      <td>0.726037</td>\n",
       "      <td>-3.170130</td>\n",
       "      <td>-0.179743</td>\n",
       "      <td>-0.678773</td>\n",
       "      <td>-0.295782</td>\n",
       "      <td>-0.842003</td>\n",
       "      <td>-1.015495</td>\n",
       "      <td>...</td>\n",
       "      <td>-1.015495</td>\n",
       "      <td>0.015641</td>\n",
       "      <td>0.726037</td>\n",
       "      <td>-3.170130</td>\n",
       "      <td>-0.179743</td>\n",
       "      <td>-0.678773</td>\n",
       "      <td>-0.295782</td>\n",
       "      <td>-1.184749</td>\n",
       "      <td>-1.015495</td>\n",
       "      <td>-0.563480</td>\n",
       "    </tr>\n",
       "    <tr>\n",
       "      <th>1</th>\n",
       "      <td>-0.291813</td>\n",
       "      <td>0.180277</td>\n",
       "      <td>0.012808</td>\n",
       "      <td>0.106034</td>\n",
       "      <td>0.524422</td>\n",
       "      <td>-0.179743</td>\n",
       "      <td>0.695709</td>\n",
       "      <td>-0.295782</td>\n",
       "      <td>-0.448525</td>\n",
       "      <td>0.614324</td>\n",
       "      <td>...</td>\n",
       "      <td>0.614324</td>\n",
       "      <td>0.015641</td>\n",
       "      <td>0.106034</td>\n",
       "      <td>0.538496</td>\n",
       "      <td>-0.179743</td>\n",
       "      <td>0.384672</td>\n",
       "      <td>-0.295782</td>\n",
       "      <td>-0.319841</td>\n",
       "      <td>0.614324</td>\n",
       "      <td>0.204460</td>\n",
       "    </tr>\n",
       "    <tr>\n",
       "      <th>2</th>\n",
       "      <td>-0.291813</td>\n",
       "      <td>2.190635</td>\n",
       "      <td>0.012808</td>\n",
       "      <td>0.360914</td>\n",
       "      <td>-0.047648</td>\n",
       "      <td>-0.179743</td>\n",
       "      <td>-0.678773</td>\n",
       "      <td>-0.295782</td>\n",
       "      <td>-0.740540</td>\n",
       "      <td>0.786467</td>\n",
       "      <td>...</td>\n",
       "      <td>0.786467</td>\n",
       "      <td>0.015641</td>\n",
       "      <td>0.360914</td>\n",
       "      <td>-0.035104</td>\n",
       "      <td>-0.179743</td>\n",
       "      <td>-0.678773</td>\n",
       "      <td>-0.295782</td>\n",
       "      <td>-0.740540</td>\n",
       "      <td>0.786467</td>\n",
       "      <td>-0.355620</td>\n",
       "    </tr>\n",
       "    <tr>\n",
       "      <th>3</th>\n",
       "      <td>-0.291813</td>\n",
       "      <td>-0.195359</td>\n",
       "      <td>0.012808</td>\n",
       "      <td>-1.693437</td>\n",
       "      <td>-0.563293</td>\n",
       "      <td>-0.179743</td>\n",
       "      <td>-0.678773</td>\n",
       "      <td>-0.295782</td>\n",
       "      <td>-0.923668</td>\n",
       "      <td>-1.015495</td>\n",
       "      <td>...</td>\n",
       "      <td>-1.015495</td>\n",
       "      <td>0.015641</td>\n",
       "      <td>-1.693437</td>\n",
       "      <td>-0.552844</td>\n",
       "      <td>-0.179743</td>\n",
       "      <td>-0.678773</td>\n",
       "      <td>-0.295782</td>\n",
       "      <td>-0.953365</td>\n",
       "      <td>-1.015495</td>\n",
       "      <td>-0.728348</td>\n",
       "    </tr>\n",
       "    <tr>\n",
       "      <th>4</th>\n",
       "      <td>-0.291813</td>\n",
       "      <td>-0.011932</td>\n",
       "      <td>0.012808</td>\n",
       "      <td>0.084606</td>\n",
       "      <td>0.524422</td>\n",
       "      <td>-0.179743</td>\n",
       "      <td>-0.678773</td>\n",
       "      <td>-0.295782</td>\n",
       "      <td>-0.448525</td>\n",
       "      <td>0.614324</td>\n",
       "      <td>...</td>\n",
       "      <td>0.614324</td>\n",
       "      <td>0.015641</td>\n",
       "      <td>0.084606</td>\n",
       "      <td>0.538496</td>\n",
       "      <td>-0.179743</td>\n",
       "      <td>-0.678773</td>\n",
       "      <td>-0.295782</td>\n",
       "      <td>-0.319841</td>\n",
       "      <td>0.614324</td>\n",
       "      <td>0.204460</td>\n",
       "    </tr>\n",
       "    <tr>\n",
       "      <th>...</th>\n",
       "      <td>...</td>\n",
       "      <td>...</td>\n",
       "      <td>...</td>\n",
       "      <td>...</td>\n",
       "      <td>...</td>\n",
       "      <td>...</td>\n",
       "      <td>...</td>\n",
       "      <td>...</td>\n",
       "      <td>...</td>\n",
       "      <td>...</td>\n",
       "      <td>...</td>\n",
       "      <td>...</td>\n",
       "      <td>...</td>\n",
       "      <td>...</td>\n",
       "      <td>...</td>\n",
       "      <td>...</td>\n",
       "      <td>...</td>\n",
       "      <td>...</td>\n",
       "      <td>...</td>\n",
       "      <td>...</td>\n",
       "      <td>...</td>\n",
       "    </tr>\n",
       "    <tr>\n",
       "      <th>5783395</th>\n",
       "      <td>-0.291813</td>\n",
       "      <td>-0.443980</td>\n",
       "      <td>-0.179235</td>\n",
       "      <td>0.441335</td>\n",
       "      <td>-0.202413</td>\n",
       "      <td>-0.179743</td>\n",
       "      <td>-0.147051</td>\n",
       "      <td>-0.295782</td>\n",
       "      <td>0.133030</td>\n",
       "      <td>-1.015495</td>\n",
       "      <td>...</td>\n",
       "      <td>-1.015495</td>\n",
       "      <td>-0.161670</td>\n",
       "      <td>0.457397</td>\n",
       "      <td>-0.093334</td>\n",
       "      <td>-0.179743</td>\n",
       "      <td>0.163987</td>\n",
       "      <td>-0.295782</td>\n",
       "      <td>0.141691</td>\n",
       "      <td>-1.015495</td>\n",
       "      <td>-0.047006</td>\n",
       "    </tr>\n",
       "    <tr>\n",
       "      <th>5783396</th>\n",
       "      <td>4.358961</td>\n",
       "      <td>4.345483</td>\n",
       "      <td>0.044507</td>\n",
       "      <td>0.524988</td>\n",
       "      <td>0.383772</td>\n",
       "      <td>0.777646</td>\n",
       "      <td>1.006747</td>\n",
       "      <td>3.742429</td>\n",
       "      <td>0.634157</td>\n",
       "      <td>0.863774</td>\n",
       "      <td>...</td>\n",
       "      <td>0.863774</td>\n",
       "      <td>0.019280</td>\n",
       "      <td>0.525612</td>\n",
       "      <td>0.506784</td>\n",
       "      <td>3.649812</td>\n",
       "      <td>2.258228</td>\n",
       "      <td>3.800303</td>\n",
       "      <td>0.886577</td>\n",
       "      <td>0.863774</td>\n",
       "      <td>0.181715</td>\n",
       "    </tr>\n",
       "    <tr>\n",
       "      <th>5783397</th>\n",
       "      <td>-0.291813</td>\n",
       "      <td>0.023877</td>\n",
       "      <td>-0.633575</td>\n",
       "      <td>-0.101400</td>\n",
       "      <td>0.279133</td>\n",
       "      <td>0.777646</td>\n",
       "      <td>1.160684</td>\n",
       "      <td>3.854838</td>\n",
       "      <td>-0.103304</td>\n",
       "      <td>0.525830</td>\n",
       "      <td>...</td>\n",
       "      <td>0.525830</td>\n",
       "      <td>-0.161670</td>\n",
       "      <td>-0.101400</td>\n",
       "      <td>0.368241</td>\n",
       "      <td>-0.179743</td>\n",
       "      <td>1.538469</td>\n",
       "      <td>-0.295782</td>\n",
       "      <td>0.159014</td>\n",
       "      <td>0.525830</td>\n",
       "      <td>-0.124488</td>\n",
       "    </tr>\n",
       "    <tr>\n",
       "      <th>5783398</th>\n",
       "      <td>-0.291813</td>\n",
       "      <td>0.541808</td>\n",
       "      <td>-0.179235</td>\n",
       "      <td>0.364612</td>\n",
       "      <td>1.344213</td>\n",
       "      <td>-0.179743</td>\n",
       "      <td>1.160684</td>\n",
       "      <td>-0.295782</td>\n",
       "      <td>2.391197</td>\n",
       "      <td>0.786467</td>\n",
       "      <td>...</td>\n",
       "      <td>0.786467</td>\n",
       "      <td>-0.161670</td>\n",
       "      <td>0.337174</td>\n",
       "      <td>1.474078</td>\n",
       "      <td>-0.179743</td>\n",
       "      <td>1.579945</td>\n",
       "      <td>-0.295782</td>\n",
       "      <td>2.668363</td>\n",
       "      <td>0.786467</td>\n",
       "      <td>2.108774</td>\n",
       "    </tr>\n",
       "    <tr>\n",
       "      <th>5783399</th>\n",
       "      <td>-0.291813</td>\n",
       "      <td>-0.459219</td>\n",
       "      <td>-0.179235</td>\n",
       "      <td>0.098347</td>\n",
       "      <td>1.344213</td>\n",
       "      <td>-0.179743</td>\n",
       "      <td>0.384672</td>\n",
       "      <td>-0.295782</td>\n",
       "      <td>2.391197</td>\n",
       "      <td>0.739049</td>\n",
       "      <td>...</td>\n",
       "      <td>0.739049</td>\n",
       "      <td>-0.499507</td>\n",
       "      <td>0.098347</td>\n",
       "      <td>1.474078</td>\n",
       "      <td>0.777646</td>\n",
       "      <td>1.227432</td>\n",
       "      <td>3.884598</td>\n",
       "      <td>2.668363</td>\n",
       "      <td>0.739049</td>\n",
       "      <td>2.108774</td>\n",
       "    </tr>\n",
       "  </tbody>\n",
       "</table>\n",
       "<p>5783400 rows × 43 columns</p>\n",
       "</div>"
      ],
      "text/plain": [
       "         item_category_id_encoded  item_id_encoded  p1_avg_item_cat_price  \\\n",
       "0                       -0.291813        -0.061987               0.012808   \n",
       "1                       -0.291813         0.180277               0.012808   \n",
       "2                       -0.291813         2.190635               0.012808   \n",
       "3                       -0.291813        -0.195359               0.012808   \n",
       "4                       -0.291813        -0.011932               0.012808   \n",
       "...                           ...              ...                    ...   \n",
       "5783395                 -0.291813        -0.443980              -0.179235   \n",
       "5783396                  4.358961         4.345483               0.044507   \n",
       "5783397                 -0.291813         0.023877              -0.633575   \n",
       "5783398                 -0.291813         0.541808              -0.179235   \n",
       "5783399                 -0.291813        -0.459219              -0.179235   \n",
       "\n",
       "         p1_avg_item_price  p1_avg_shop_price  p1_count  p1_count_by_item  \\\n",
       "0                 0.726037          -3.170130 -0.179743         -0.678773   \n",
       "1                 0.106034           0.524422 -0.179743          0.695709   \n",
       "2                 0.360914          -0.047648 -0.179743         -0.678773   \n",
       "3                -1.693437          -0.563293 -0.179743         -0.678773   \n",
       "4                 0.084606           0.524422 -0.179743         -0.678773   \n",
       "...                    ...                ...       ...               ...   \n",
       "5783395           0.441335          -0.202413 -0.179743         -0.147051   \n",
       "5783396           0.524988           0.383772  0.777646          1.006747   \n",
       "5783397          -0.101400           0.279133  0.777646          1.160684   \n",
       "5783398           0.364612           1.344213 -0.179743          1.160684   \n",
       "5783399           0.098347           1.344213 -0.179743          0.384672   \n",
       "\n",
       "         p1_count_by_item_cat  p1_count_by_shop  p1_item_price  ...  \\\n",
       "0                   -0.295782         -0.842003      -1.015495  ...   \n",
       "1                   -0.295782         -0.448525       0.614324  ...   \n",
       "2                   -0.295782         -0.740540       0.786467  ...   \n",
       "3                   -0.295782         -0.923668      -1.015495  ...   \n",
       "4                   -0.295782         -0.448525       0.614324  ...   \n",
       "...                       ...               ...            ...  ...   \n",
       "5783395             -0.295782          0.133030      -1.015495  ...   \n",
       "5783396              3.742429          0.634157       0.863774  ...   \n",
       "5783397              3.854838         -0.103304       0.525830  ...   \n",
       "5783398             -0.295782          2.391197       0.786467  ...   \n",
       "5783399             -0.295782          2.391197       0.739049  ...   \n",
       "\n",
       "         p4_item_price  p5_avg_item_cat_price  p5_avg_item_price  \\\n",
       "0            -1.015495               0.015641           0.726037   \n",
       "1             0.614324               0.015641           0.106034   \n",
       "2             0.786467               0.015641           0.360914   \n",
       "3            -1.015495               0.015641          -1.693437   \n",
       "4             0.614324               0.015641           0.084606   \n",
       "...                ...                    ...                ...   \n",
       "5783395      -1.015495              -0.161670           0.457397   \n",
       "5783396       0.863774               0.019280           0.525612   \n",
       "5783397       0.525830              -0.161670          -0.101400   \n",
       "5783398       0.786467              -0.161670           0.337174   \n",
       "5783399       0.739049              -0.499507           0.098347   \n",
       "\n",
       "         p5_avg_shop_price  p5_count  p5_count_by_item  p5_count_by_item_cat  \\\n",
       "0                -3.170130 -0.179743         -0.678773             -0.295782   \n",
       "1                 0.538496 -0.179743          0.384672             -0.295782   \n",
       "2                -0.035104 -0.179743         -0.678773             -0.295782   \n",
       "3                -0.552844 -0.179743         -0.678773             -0.295782   \n",
       "4                 0.538496 -0.179743         -0.678773             -0.295782   \n",
       "...                    ...       ...               ...                   ...   \n",
       "5783395          -0.093334 -0.179743          0.163987             -0.295782   \n",
       "5783396           0.506784  3.649812          2.258228              3.800303   \n",
       "5783397           0.368241 -0.179743          1.538469             -0.295782   \n",
       "5783398           1.474078 -0.179743          1.579945             -0.295782   \n",
       "5783399           1.474078  0.777646          1.227432              3.884598   \n",
       "\n",
       "         p5_count_by_shop  p5_item_price  shop_id_encoded  \n",
       "0               -1.184749      -1.015495        -0.563480  \n",
       "1               -0.319841       0.614324         0.204460  \n",
       "2               -0.740540       0.786467        -0.355620  \n",
       "3               -0.953365      -1.015495        -0.728348  \n",
       "4               -0.319841       0.614324         0.204460  \n",
       "...                   ...            ...              ...  \n",
       "5783395          0.141691      -1.015495        -0.047006  \n",
       "5783396          0.886577       0.863774         0.181715  \n",
       "5783397          0.159014       0.525830        -0.124488  \n",
       "5783398          2.668363       0.786467         2.108774  \n",
       "5783399          2.668363       0.739049         2.108774  \n",
       "\n",
       "[5783400 rows x 43 columns]"
      ]
     },
     "execution_count": 103,
     "metadata": {},
     "output_type": "execute_result"
    }
   ],
   "source": [
    "X_train"
   ]
  },
  {
   "cell_type": "code",
   "execution_count": 104,
   "metadata": {
    "ExecuteTime": {
     "end_time": "2020-09-17T17:11:02.648418Z",
     "start_time": "2020-09-17T17:10:59.664829Z"
    }
   },
   "outputs": [
    {
     "name": "stderr",
     "output_type": "stream",
     "text": [
      "100%|████████████████████████████████████████████████████████████████████████████████████| 5/5 [00:02<00:00,  1.94it/s]\n"
     ]
    }
   ],
   "source": [
    "test_lookback_steps = lookback_steps - 1\n",
    "\n",
    "test_block = data['date_block_num'].max()\n",
    "test_data = data[data['date_block_num'] >= test_block - max(test_lookback_steps)]\n",
    "test_data = generate_past_features(test_data, test_lookback_steps)\n",
    "test_data = test_data[test_data['date_block_num'] == test_block]\n",
    "test_data = test_df.merge(test_data, how='left', on=['shop_id', 'item_id'])\n"
   ]
  },
  {
   "cell_type": "code",
   "execution_count": 106,
   "metadata": {
    "ExecuteTime": {
     "end_time": "2020-09-17T17:11:03.708419Z",
     "start_time": "2020-09-17T17:11:03.570419Z"
    }
   },
   "outputs": [
    {
     "data": {
      "text/html": [
       "<div>\n",
       "<style scoped>\n",
       "    .dataframe tbody tr th:only-of-type {\n",
       "        vertical-align: middle;\n",
       "    }\n",
       "\n",
       "    .dataframe tbody tr th {\n",
       "        vertical-align: top;\n",
       "    }\n",
       "\n",
       "    .dataframe thead th {\n",
       "        text-align: right;\n",
       "    }\n",
       "</style>\n",
       "<table border=\"1\" class=\"dataframe\">\n",
       "  <thead>\n",
       "    <tr style=\"text-align: right;\">\n",
       "      <th></th>\n",
       "      <th>item_category_id_encoded</th>\n",
       "      <th>item_id_encoded</th>\n",
       "      <th>p0_avg_item_cat_price</th>\n",
       "      <th>p0_avg_item_price</th>\n",
       "      <th>p0_avg_shop_price</th>\n",
       "      <th>p0_count</th>\n",
       "      <th>p0_count_by_item</th>\n",
       "      <th>p0_count_by_item_cat</th>\n",
       "      <th>p0_count_by_shop</th>\n",
       "      <th>p0_item_price</th>\n",
       "      <th>...</th>\n",
       "      <th>p3_item_price</th>\n",
       "      <th>p4_avg_item_cat_price</th>\n",
       "      <th>p4_avg_item_price</th>\n",
       "      <th>p4_avg_shop_price</th>\n",
       "      <th>p4_count</th>\n",
       "      <th>p4_count_by_item</th>\n",
       "      <th>p4_count_by_item_cat</th>\n",
       "      <th>p4_count_by_shop</th>\n",
       "      <th>p4_item_price</th>\n",
       "      <th>shop_id_encoded</th>\n",
       "    </tr>\n",
       "  </thead>\n",
       "  <tbody>\n",
       "    <tr>\n",
       "      <th>0</th>\n",
       "      <td>-0.291813</td>\n",
       "      <td>2.020930</td>\n",
       "      <td>-0.305529</td>\n",
       "      <td>1.008164</td>\n",
       "      <td>-0.415715</td>\n",
       "      <td>-0.179743</td>\n",
       "      <td>1.820556</td>\n",
       "      <td>-0.295782</td>\n",
       "      <td>0.063738</td>\n",
       "      <td>1.021115</td>\n",
       "      <td>...</td>\n",
       "      <td>1.234129</td>\n",
       "      <td>1.953575</td>\n",
       "      <td>1.111124</td>\n",
       "      <td>-0.316980</td>\n",
       "      <td>0.777646</td>\n",
       "      <td>2.822599</td>\n",
       "      <td>3.506684</td>\n",
       "      <td>-0.150323</td>\n",
       "      <td>1.234129</td>\n",
       "      <td>-0.432006</td>\n",
       "    </tr>\n",
       "    <tr>\n",
       "      <th>1</th>\n",
       "      <td>-0.291813</td>\n",
       "      <td>-0.627153</td>\n",
       "      <td>-0.305529</td>\n",
       "      <td>-2.437600</td>\n",
       "      <td>-0.415715</td>\n",
       "      <td>-0.179743</td>\n",
       "      <td>-0.678773</td>\n",
       "      <td>-0.295782</td>\n",
       "      <td>0.063738</td>\n",
       "      <td>-1.015495</td>\n",
       "      <td>...</td>\n",
       "      <td>-1.015495</td>\n",
       "      <td>-0.177952</td>\n",
       "      <td>-2.437600</td>\n",
       "      <td>-0.316980</td>\n",
       "      <td>-0.179743</td>\n",
       "      <td>-0.678773</td>\n",
       "      <td>-0.295782</td>\n",
       "      <td>-0.150323</td>\n",
       "      <td>-1.015495</td>\n",
       "      <td>-0.432006</td>\n",
       "    </tr>\n",
       "    <tr>\n",
       "      <th>2</th>\n",
       "      <td>3.743901</td>\n",
       "      <td>0.702852</td>\n",
       "      <td>2.395937</td>\n",
       "      <td>0.944430</td>\n",
       "      <td>-0.415715</td>\n",
       "      <td>0.777646</td>\n",
       "      <td>2.206493</td>\n",
       "      <td>3.387021</td>\n",
       "      <td>0.063738</td>\n",
       "      <td>1.165488</td>\n",
       "      <td>...</td>\n",
       "      <td>0.952268</td>\n",
       "      <td>1.953575</td>\n",
       "      <td>0.742419</td>\n",
       "      <td>-0.316980</td>\n",
       "      <td>1.735034</td>\n",
       "      <td>2.920022</td>\n",
       "      <td>3.506684</td>\n",
       "      <td>-0.150323</td>\n",
       "      <td>0.952268</td>\n",
       "      <td>-0.432006</td>\n",
       "    </tr>\n",
       "    <tr>\n",
       "      <th>3</th>\n",
       "      <td>-0.291813</td>\n",
       "      <td>-0.204007</td>\n",
       "      <td>-0.305529</td>\n",
       "      <td>0.868529</td>\n",
       "      <td>-0.415715</td>\n",
       "      <td>-0.179743</td>\n",
       "      <td>1.904324</td>\n",
       "      <td>-0.295782</td>\n",
       "      <td>0.063738</td>\n",
       "      <td>0.952268</td>\n",
       "      <td>...</td>\n",
       "      <td>0.952268</td>\n",
       "      <td>-0.177952</td>\n",
       "      <td>0.690204</td>\n",
       "      <td>-0.316980</td>\n",
       "      <td>-0.179743</td>\n",
       "      <td>-0.678773</td>\n",
       "      <td>-0.295782</td>\n",
       "      <td>-0.150323</td>\n",
       "      <td>0.952268</td>\n",
       "      <td>-0.432006</td>\n",
       "    </tr>\n",
       "    <tr>\n",
       "      <th>4</th>\n",
       "      <td>-0.291813</td>\n",
       "      <td>-0.627153</td>\n",
       "      <td>-0.305529</td>\n",
       "      <td>-2.437600</td>\n",
       "      <td>-0.415715</td>\n",
       "      <td>-0.179743</td>\n",
       "      <td>-0.678773</td>\n",
       "      <td>-0.295782</td>\n",
       "      <td>0.063738</td>\n",
       "      <td>-1.015495</td>\n",
       "      <td>...</td>\n",
       "      <td>-1.015495</td>\n",
       "      <td>-0.177952</td>\n",
       "      <td>-2.437600</td>\n",
       "      <td>-0.316980</td>\n",
       "      <td>-0.179743</td>\n",
       "      <td>-0.678773</td>\n",
       "      <td>-0.295782</td>\n",
       "      <td>-0.150323</td>\n",
       "      <td>-1.015495</td>\n",
       "      <td>-0.432006</td>\n",
       "    </tr>\n",
       "    <tr>\n",
       "      <th>...</th>\n",
       "      <td>...</td>\n",
       "      <td>...</td>\n",
       "      <td>...</td>\n",
       "      <td>...</td>\n",
       "      <td>...</td>\n",
       "      <td>...</td>\n",
       "      <td>...</td>\n",
       "      <td>...</td>\n",
       "      <td>...</td>\n",
       "      <td>...</td>\n",
       "      <td>...</td>\n",
       "      <td>...</td>\n",
       "      <td>...</td>\n",
       "      <td>...</td>\n",
       "      <td>...</td>\n",
       "      <td>...</td>\n",
       "      <td>...</td>\n",
       "      <td>...</td>\n",
       "      <td>...</td>\n",
       "      <td>...</td>\n",
       "      <td>...</td>\n",
       "    </tr>\n",
       "    <tr>\n",
       "      <th>214195</th>\n",
       "      <td>2.518587</td>\n",
       "      <td>0.633849</td>\n",
       "      <td>-0.456642</td>\n",
       "      <td>-0.169399</td>\n",
       "      <td>-0.537547</td>\n",
       "      <td>0.777646</td>\n",
       "      <td>0.163987</td>\n",
       "      <td>3.797555</td>\n",
       "      <td>-0.359436</td>\n",
       "      <td>0.401104</td>\n",
       "      <td>...</td>\n",
       "      <td>0.614324</td>\n",
       "      <td>-0.177952</td>\n",
       "      <td>-0.040482</td>\n",
       "      <td>-0.468694</td>\n",
       "      <td>-0.179743</td>\n",
       "      <td>1.579945</td>\n",
       "      <td>-0.295782</td>\n",
       "      <td>-0.525241</td>\n",
       "      <td>0.614324</td>\n",
       "      <td>-0.542181</td>\n",
       "    </tr>\n",
       "    <tr>\n",
       "      <th>214196</th>\n",
       "      <td>-0.291813</td>\n",
       "      <td>-0.614497</td>\n",
       "      <td>-0.305529</td>\n",
       "      <td>-0.090571</td>\n",
       "      <td>-0.537547</td>\n",
       "      <td>-0.179743</td>\n",
       "      <td>-0.147051</td>\n",
       "      <td>-0.295782</td>\n",
       "      <td>-0.359436</td>\n",
       "      <td>-1.015495</td>\n",
       "      <td>...</td>\n",
       "      <td>-1.015495</td>\n",
       "      <td>-0.177952</td>\n",
       "      <td>-0.090571</td>\n",
       "      <td>-0.468694</td>\n",
       "      <td>-0.179743</td>\n",
       "      <td>-0.678773</td>\n",
       "      <td>-0.295782</td>\n",
       "      <td>-0.525241</td>\n",
       "      <td>-1.015495</td>\n",
       "      <td>-0.542181</td>\n",
       "    </tr>\n",
       "    <tr>\n",
       "      <th>214197</th>\n",
       "      <td>-0.291813</td>\n",
       "      <td>0.232979</td>\n",
       "      <td>-0.305529</td>\n",
       "      <td>0.137028</td>\n",
       "      <td>-0.537547</td>\n",
       "      <td>-0.179743</td>\n",
       "      <td>0.695709</td>\n",
       "      <td>-0.295782</td>\n",
       "      <td>-0.359436</td>\n",
       "      <td>0.614324</td>\n",
       "      <td>...</td>\n",
       "      <td>0.614324</td>\n",
       "      <td>-0.177952</td>\n",
       "      <td>0.118479</td>\n",
       "      <td>-0.468694</td>\n",
       "      <td>-0.179743</td>\n",
       "      <td>1.006747</td>\n",
       "      <td>-0.295782</td>\n",
       "      <td>-0.525241</td>\n",
       "      <td>0.614324</td>\n",
       "      <td>-0.542181</td>\n",
       "    </tr>\n",
       "    <tr>\n",
       "      <th>214198</th>\n",
       "      <td>-0.291813</td>\n",
       "      <td>-0.474509</td>\n",
       "      <td>-0.305529</td>\n",
       "      <td>-0.653384</td>\n",
       "      <td>-0.537547</td>\n",
       "      <td>-0.179743</td>\n",
       "      <td>0.163987</td>\n",
       "      <td>-0.295782</td>\n",
       "      <td>-0.359436</td>\n",
       "      <td>-1.015495</td>\n",
       "      <td>...</td>\n",
       "      <td>-1.015495</td>\n",
       "      <td>-0.177952</td>\n",
       "      <td>-0.647385</td>\n",
       "      <td>-0.468694</td>\n",
       "      <td>-0.179743</td>\n",
       "      <td>0.555848</td>\n",
       "      <td>-0.295782</td>\n",
       "      <td>-0.525241</td>\n",
       "      <td>-1.015495</td>\n",
       "      <td>-0.542181</td>\n",
       "    </tr>\n",
       "    <tr>\n",
       "      <th>214199</th>\n",
       "      <td>-0.291813</td>\n",
       "      <td>0.037575</td>\n",
       "      <td>-0.305529</td>\n",
       "      <td>0.380771</td>\n",
       "      <td>-0.537547</td>\n",
       "      <td>-0.179743</td>\n",
       "      <td>0.384672</td>\n",
       "      <td>-0.295782</td>\n",
       "      <td>-0.359436</td>\n",
       "      <td>0.925503</td>\n",
       "      <td>...</td>\n",
       "      <td>0.925503</td>\n",
       "      <td>-0.177952</td>\n",
       "      <td>0.476206</td>\n",
       "      <td>-0.468694</td>\n",
       "      <td>-0.179743</td>\n",
       "      <td>-0.147051</td>\n",
       "      <td>-0.295782</td>\n",
       "      <td>-0.525241</td>\n",
       "      <td>0.925503</td>\n",
       "      <td>-0.542181</td>\n",
       "    </tr>\n",
       "  </tbody>\n",
       "</table>\n",
       "<p>214200 rows × 43 columns</p>\n",
       "</div>"
      ],
      "text/plain": [
       "        item_category_id_encoded  item_id_encoded  p0_avg_item_cat_price  \\\n",
       "0                      -0.291813         2.020930              -0.305529   \n",
       "1                      -0.291813        -0.627153              -0.305529   \n",
       "2                       3.743901         0.702852               2.395937   \n",
       "3                      -0.291813        -0.204007              -0.305529   \n",
       "4                      -0.291813        -0.627153              -0.305529   \n",
       "...                          ...              ...                    ...   \n",
       "214195                  2.518587         0.633849              -0.456642   \n",
       "214196                 -0.291813        -0.614497              -0.305529   \n",
       "214197                 -0.291813         0.232979              -0.305529   \n",
       "214198                 -0.291813        -0.474509              -0.305529   \n",
       "214199                 -0.291813         0.037575              -0.305529   \n",
       "\n",
       "        p0_avg_item_price  p0_avg_shop_price  p0_count  p0_count_by_item  \\\n",
       "0                1.008164          -0.415715 -0.179743          1.820556   \n",
       "1               -2.437600          -0.415715 -0.179743         -0.678773   \n",
       "2                0.944430          -0.415715  0.777646          2.206493   \n",
       "3                0.868529          -0.415715 -0.179743          1.904324   \n",
       "4               -2.437600          -0.415715 -0.179743         -0.678773   \n",
       "...                   ...                ...       ...               ...   \n",
       "214195          -0.169399          -0.537547  0.777646          0.163987   \n",
       "214196          -0.090571          -0.537547 -0.179743         -0.147051   \n",
       "214197           0.137028          -0.537547 -0.179743          0.695709   \n",
       "214198          -0.653384          -0.537547 -0.179743          0.163987   \n",
       "214199           0.380771          -0.537547 -0.179743          0.384672   \n",
       "\n",
       "        p0_count_by_item_cat  p0_count_by_shop  p0_item_price  ...  \\\n",
       "0                  -0.295782          0.063738       1.021115  ...   \n",
       "1                  -0.295782          0.063738      -1.015495  ...   \n",
       "2                   3.387021          0.063738       1.165488  ...   \n",
       "3                  -0.295782          0.063738       0.952268  ...   \n",
       "4                  -0.295782          0.063738      -1.015495  ...   \n",
       "...                      ...               ...            ...  ...   \n",
       "214195              3.797555         -0.359436       0.401104  ...   \n",
       "214196             -0.295782         -0.359436      -1.015495  ...   \n",
       "214197             -0.295782         -0.359436       0.614324  ...   \n",
       "214198             -0.295782         -0.359436      -1.015495  ...   \n",
       "214199             -0.295782         -0.359436       0.925503  ...   \n",
       "\n",
       "        p3_item_price  p4_avg_item_cat_price  p4_avg_item_price  \\\n",
       "0            1.234129               1.953575           1.111124   \n",
       "1           -1.015495              -0.177952          -2.437600   \n",
       "2            0.952268               1.953575           0.742419   \n",
       "3            0.952268              -0.177952           0.690204   \n",
       "4           -1.015495              -0.177952          -2.437600   \n",
       "...               ...                    ...                ...   \n",
       "214195       0.614324              -0.177952          -0.040482   \n",
       "214196      -1.015495              -0.177952          -0.090571   \n",
       "214197       0.614324              -0.177952           0.118479   \n",
       "214198      -1.015495              -0.177952          -0.647385   \n",
       "214199       0.925503              -0.177952           0.476206   \n",
       "\n",
       "        p4_avg_shop_price  p4_count  p4_count_by_item  p4_count_by_item_cat  \\\n",
       "0               -0.316980  0.777646          2.822599              3.506684   \n",
       "1               -0.316980 -0.179743         -0.678773             -0.295782   \n",
       "2               -0.316980  1.735034          2.920022              3.506684   \n",
       "3               -0.316980 -0.179743         -0.678773             -0.295782   \n",
       "4               -0.316980 -0.179743         -0.678773             -0.295782   \n",
       "...                   ...       ...               ...                   ...   \n",
       "214195          -0.468694 -0.179743          1.579945             -0.295782   \n",
       "214196          -0.468694 -0.179743         -0.678773             -0.295782   \n",
       "214197          -0.468694 -0.179743          1.006747             -0.295782   \n",
       "214198          -0.468694 -0.179743          0.555848             -0.295782   \n",
       "214199          -0.468694 -0.179743         -0.147051             -0.295782   \n",
       "\n",
       "        p4_count_by_shop  p4_item_price  shop_id_encoded  \n",
       "0              -0.150323       1.234129        -0.432006  \n",
       "1              -0.150323      -1.015495        -0.432006  \n",
       "2              -0.150323       0.952268        -0.432006  \n",
       "3              -0.150323       0.952268        -0.432006  \n",
       "4              -0.150323      -1.015495        -0.432006  \n",
       "...                  ...            ...              ...  \n",
       "214195         -0.525241       0.614324        -0.542181  \n",
       "214196         -0.525241      -1.015495        -0.542181  \n",
       "214197         -0.525241       0.614324        -0.542181  \n",
       "214198         -0.525241      -1.015495        -0.542181  \n",
       "214199         -0.525241       0.925503        -0.542181  \n",
       "\n",
       "[214200 rows x 43 columns]"
      ]
     },
     "execution_count": 106,
     "metadata": {},
     "output_type": "execute_result"
    }
   ],
   "source": [
    "feature_cols = test_data.columns.difference(\n",
    "    [target_col, 'ID', 'date_block_num', 'item_price',\n",
    "     'count_by_shop', 'count_by_item', 'count_by_item_cat',\n",
    "     'avg_shop_price', 'avg_item_price', 'avg_item_cat_price',\n",
    "     'shop_id', 'item_id', 'item_category_id'\n",
    "    ]).sort_values().to_list()\n",
    "X_test = test_data[feature_cols]\n",
    "\n",
    "# del test_data\n",
    "gc.collect()\n",
    "X_test"
   ]
  },
  {
   "cell_type": "code",
   "execution_count": 107,
   "metadata": {
    "ExecuteTime": {
     "end_time": "2020-09-17T17:11:04.216440Z",
     "start_time": "2020-09-17T17:11:04.105440Z"
    }
   },
   "outputs": [
    {
     "data": {
      "text/plain": [
       "20"
      ]
     },
     "execution_count": 107,
     "metadata": {},
     "output_type": "execute_result"
    }
   ],
   "source": [
    "del data\n",
    "gc.collect()"
   ]
  },
  {
   "cell_type": "markdown",
   "metadata": {},
   "source": [
    "## Model Building"
   ]
  },
  {
   "cell_type": "markdown",
   "metadata": {},
   "source": [
    "### Random Forest"
   ]
  },
  {
   "cell_type": "code",
   "execution_count": 83,
   "metadata": {
    "ExecuteTime": {
     "end_time": "2020-09-17T16:47:38.062030Z",
     "start_time": "2020-09-17T16:47:38.055031Z"
    }
   },
   "outputs": [],
   "source": [
    "from sklearn.ensemble import RandomForestRegressor"
   ]
  },
  {
   "cell_type": "code",
   "execution_count": 152,
   "metadata": {
    "ExecuteTime": {
     "end_time": "2020-09-17T18:00:17.482105Z",
     "start_time": "2020-09-17T17:57:06.065803Z"
    },
    "scrolled": true
   },
   "outputs": [
    {
     "name": "stdout",
     "output_type": "stream",
     "text": [
      "[Parallel(n_jobs=-1)]: Using backend ThreadingBackend with 12 concurrent workers.\n",
      "building tree 1 of 100building tree 2 of 100\n",
      "building tree 3 of 100\n",
      "building tree 4 of 100\n",
      "building tree 5 of 100\n",
      "building tree 6 of 100\n",
      "building tree 7 of 100\n",
      "building tree 8 of 100\n",
      "building tree 9 of 100\n",
      "building tree 10 of 100\n",
      "building tree 11 of 100\n",
      "building tree 12 of 100\n",
      "\n",
      "building tree 13 of 100[Parallel(n_jobs=-1)]: Done   1 tasks      | elapsed:   14.7s\n",
      "\n",
      "building tree 14 of 100[Parallel(n_jobs=-1)]: Done   2 tasks      | elapsed:   18.6s\n",
      "\n",
      "building tree 15 of 100[Parallel(n_jobs=-1)]: Done   3 tasks      | elapsed:   21.1s\n",
      "\n",
      "building tree 16 of 100[Parallel(n_jobs=-1)]: Done   4 tasks      | elapsed:   26.8s\n",
      "\n",
      "building tree 17 of 100[Parallel(n_jobs=-1)]: Done   5 tasks      | elapsed:   26.9s\n",
      "\n",
      "building tree 18 of 100[Parallel(n_jobs=-1)]: Done   6 tasks      | elapsed:   27.4s\n",
      "\n",
      "building tree 19 of 100[Parallel(n_jobs=-1)]: Done   7 tasks      | elapsed:   28.6s\n",
      "\n",
      "building tree 20 of 100[Parallel(n_jobs=-1)]: Done   8 tasks      | elapsed:   29.1s\n",
      "\n",
      "building tree 21 of 100[Parallel(n_jobs=-1)]: Done   9 tasks      | elapsed:   29.6s\n",
      "\n",
      "building tree 22 of 100[Parallel(n_jobs=-1)]: Done  10 tasks      | elapsed:   30.3s\n",
      "\n",
      "building tree 23 of 100[Parallel(n_jobs=-1)]: Done  11 tasks      | elapsed:   33.9s\n",
      "\n",
      "building tree 24 of 100[Parallel(n_jobs=-1)]: Done  12 tasks      | elapsed:   34.9s\n",
      "\n",
      "building tree 25 of 100[Parallel(n_jobs=-1)]: Done  13 tasks      | elapsed:   35.5s\n",
      "\n",
      "building tree 26 of 100[Parallel(n_jobs=-1)]: Done  14 tasks      | elapsed:   38.0s\n",
      "\n",
      "building tree 27 of 100[Parallel(n_jobs=-1)]: Done  15 tasks      | elapsed:   39.2s\n",
      "\n",
      "building tree 28 of 100[Parallel(n_jobs=-1)]: Done  16 tasks      | elapsed:   42.2s\n",
      "\n",
      "building tree 29 of 100[Parallel(n_jobs=-1)]: Done  17 tasks      | elapsed:   42.6s\n",
      "\n",
      "building tree 30 of 100[Parallel(n_jobs=-1)]: Done  18 tasks      | elapsed:   44.8s\n",
      "\n",
      "building tree 31 of 100[Parallel(n_jobs=-1)]: Done  19 tasks      | elapsed:   46.1s\n",
      "\n",
      "building tree 32 of 100[Parallel(n_jobs=-1)]: Done  20 tasks      | elapsed:   51.9s\n",
      "\n",
      "building tree 33 of 100[Parallel(n_jobs=-1)]: Done  21 tasks      | elapsed:   52.7s\n",
      "\n",
      "building tree 34 of 100[Parallel(n_jobs=-1)]: Done  22 tasks      | elapsed:   53.5s\n",
      "\n",
      "building tree 35 of 100[Parallel(n_jobs=-1)]: Done  23 tasks      | elapsed:   53.9s\n",
      "\n",
      "building tree 36 of 100[Parallel(n_jobs=-1)]: Done  24 tasks      | elapsed:   58.0s\n",
      "\n",
      "building tree 37 of 100[Parallel(n_jobs=-1)]: Done  25 tasks      | elapsed:   59.1s\n",
      "\n",
      "building tree 38 of 100[Parallel(n_jobs=-1)]: Done  26 tasks      | elapsed:  1.0min\n",
      "\n",
      "building tree 39 of 100[Parallel(n_jobs=-1)]: Done  27 tasks      | elapsed:  1.0min\n",
      "\n",
      "building tree 40 of 100[Parallel(n_jobs=-1)]: Done  28 tasks      | elapsed:  1.1min\n",
      "\n",
      "building tree 41 of 100[Parallel(n_jobs=-1)]: Done  29 tasks      | elapsed:  1.1min\n",
      "\n",
      "building tree 42 of 100[Parallel(n_jobs=-1)]: Done  30 tasks      | elapsed:  1.1min\n",
      "\n",
      "building tree 43 of 100[Parallel(n_jobs=-1)]: Done  31 tasks      | elapsed:  1.2min\n",
      "\n",
      "building tree 44 of 100[Parallel(n_jobs=-1)]: Done  32 tasks      | elapsed:  1.2min\n",
      "\n",
      "building tree 45 of 100[Parallel(n_jobs=-1)]: Done  33 tasks      | elapsed:  1.3min\n",
      "\n",
      "building tree 46 of 100[Parallel(n_jobs=-1)]: Done  34 tasks      | elapsed:  1.3min\n",
      "\n",
      "building tree 47 of 100[Parallel(n_jobs=-1)]: Done  35 tasks      | elapsed:  1.4min\n",
      "\n",
      "building tree 48 of 100[Parallel(n_jobs=-1)]: Done  36 tasks      | elapsed:  1.4min\n",
      "\n",
      "building tree 49 of 100[Parallel(n_jobs=-1)]: Done  37 tasks      | elapsed:  1.4min\n",
      "\n",
      "building tree 50 of 100[Parallel(n_jobs=-1)]: Done  38 tasks      | elapsed:  1.4min\n",
      "\n",
      "building tree 51 of 100[Parallel(n_jobs=-1)]: Done  39 tasks      | elapsed:  1.4min\n",
      "\n",
      "building tree 52 of 100[Parallel(n_jobs=-1)]: Done  40 tasks      | elapsed:  1.4min\n",
      "\n",
      "building tree 53 of 100[Parallel(n_jobs=-1)]: Done  41 tasks      | elapsed:  1.4min\n",
      "\n",
      "building tree 54 of 100[Parallel(n_jobs=-1)]: Done  42 tasks      | elapsed:  1.4min\n",
      "\n",
      "building tree 55 of 100[Parallel(n_jobs=-1)]: Done  43 tasks      | elapsed:  1.5min\n",
      "\n",
      "building tree 56 of 100[Parallel(n_jobs=-1)]: Done  44 tasks      | elapsed:  1.5min\n",
      "\n",
      "building tree 57 of 100[Parallel(n_jobs=-1)]: Done  45 tasks      | elapsed:  1.5min\n",
      "\n",
      "building tree 58 of 100[Parallel(n_jobs=-1)]: Done  46 tasks      | elapsed:  1.6min\n",
      "\n",
      "building tree 59 of 100[Parallel(n_jobs=-1)]: Done  47 tasks      | elapsed:  1.6min\n",
      "\n",
      "building tree 60 of 100[Parallel(n_jobs=-1)]: Done  48 tasks      | elapsed:  1.6min\n",
      "\n",
      "building tree 61 of 100[Parallel(n_jobs=-1)]: Done  49 tasks      | elapsed:  1.7min\n",
      "\n",
      "building tree 62 of 100[Parallel(n_jobs=-1)]: Done  50 tasks      | elapsed:  1.7min\n",
      "\n",
      "building tree 63 of 100[Parallel(n_jobs=-1)]: Done  51 tasks      | elapsed:  1.8min\n",
      "\n",
      "building tree 64 of 100[Parallel(n_jobs=-1)]: Done  52 tasks      | elapsed:  1.8min\n",
      "\n",
      "building tree 65 of 100[Parallel(n_jobs=-1)]: Done  53 tasks      | elapsed:  1.9min\n",
      "\n",
      "building tree 66 of 100[Parallel(n_jobs=-1)]: Done  54 tasks      | elapsed:  1.9min\n",
      "\n",
      "building tree 67 of 100[Parallel(n_jobs=-1)]: Done  55 tasks      | elapsed:  1.9min\n",
      "\n",
      "building tree 68 of 100[Parallel(n_jobs=-1)]: Done  56 tasks      | elapsed:  1.9min\n",
      "\n",
      "building tree 69 of 100[Parallel(n_jobs=-1)]: Done  57 tasks      | elapsed:  1.9min\n",
      "\n",
      "building tree 70 of 100[Parallel(n_jobs=-1)]: Done  58 tasks      | elapsed:  1.9min\n",
      "\n",
      "building tree 71 of 100[Parallel(n_jobs=-1)]: Done  59 tasks      | elapsed:  2.0min\n",
      "\n",
      "building tree 72 of 100[Parallel(n_jobs=-1)]: Done  60 tasks      | elapsed:  2.0min\n",
      "\n",
      "building tree 73 of 100[Parallel(n_jobs=-1)]: Done  61 tasks      | elapsed:  2.0min\n",
      "\n",
      "building tree 74 of 100[Parallel(n_jobs=-1)]: Done  62 tasks      | elapsed:  2.1min\n",
      "\n",
      "building tree 75 of 100[Parallel(n_jobs=-1)]: Done  63 tasks      | elapsed:  2.1min\n",
      "\n",
      "building tree 76 of 100[Parallel(n_jobs=-1)]: Done  64 tasks      | elapsed:  2.2min\n",
      "\n",
      "building tree 77 of 100building tree 78 of 100[Parallel(n_jobs=-1)]: Done  65 tasks      | elapsed:  2.2min\n",
      "[Parallel(n_jobs=-1)]: Done  66 tasks      | elapsed:  2.2min\n",
      "\n",
      "\n",
      "building tree 79 of 100[Parallel(n_jobs=-1)]: Done  67 tasks      | elapsed:  2.3min\n",
      "\n",
      "building tree 80 of 100[Parallel(n_jobs=-1)]: Done  68 tasks      | elapsed:  2.3min\n",
      "\n",
      "building tree 81 of 100[Parallel(n_jobs=-1)]: Done  69 tasks      | elapsed:  2.3min\n",
      "\n",
      "building tree 82 of 100[Parallel(n_jobs=-1)]: Done  70 tasks      | elapsed:  2.4min\n",
      "\n",
      "building tree 83 of 100[Parallel(n_jobs=-1)]: Done  71 tasks      | elapsed:  2.4min\n",
      "\n",
      "building tree 84 of 100[Parallel(n_jobs=-1)]: Done  72 tasks      | elapsed:  2.4min\n",
      "\n",
      "building tree 85 of 100[Parallel(n_jobs=-1)]: Done  73 tasks      | elapsed:  2.5min\n",
      "\n",
      "building tree 86 of 100[Parallel(n_jobs=-1)]: Done  74 tasks      | elapsed:  2.5min\n",
      "\n",
      "building tree 87 of 100[Parallel(n_jobs=-1)]: Done  75 tasks      | elapsed:  2.5min\n",
      "\n",
      "building tree 88 of 100[Parallel(n_jobs=-1)]: Done  76 tasks      | elapsed:  2.5min\n",
      "\n",
      "building tree 89 of 100\n",
      "[Parallel(n_jobs=-1)]: Done  77 tasks      | elapsed:  2.5min\n",
      "building tree 90 of 100\n",
      "building tree 91 of 100[Parallel(n_jobs=-1)]: Done  79 out of 100 | elapsed:  2.6min remaining:   41.0s\n",
      "\n",
      "building tree 92 of 100\n",
      "building tree 93 of 100[Parallel(n_jobs=-1)]: Done  81 out of 100 | elapsed:  2.7min remaining:   37.7s\n",
      "\n",
      "building tree 94 of 100\n",
      "building tree 95 of 100[Parallel(n_jobs=-1)]: Done  83 out of 100 | elapsed:  2.7min remaining:   33.3s\n",
      "\n",
      "building tree 96 of 100\n",
      "building tree 97 of 100[Parallel(n_jobs=-1)]: Done  85 out of 100 | elapsed:  2.8min remaining:   29.7s\n",
      "\n",
      "building tree 98 of 100\n",
      "building tree 99 of 100[Parallel(n_jobs=-1)]: Done  87 out of 100 | elapsed:  2.8min remaining:   25.2s\n",
      "\n",
      "building tree 100 of 100\n",
      "[Parallel(n_jobs=-1)]: Done  89 out of 100 | elapsed:  2.9min remaining:   21.1s\n",
      "[Parallel(n_jobs=-1)]: Done  91 out of 100 | elapsed:  3.0min remaining:   17.5s\n",
      "[Parallel(n_jobs=-1)]: Done  93 out of 100 | elapsed:  3.0min remaining:   13.6s\n",
      "[Parallel(n_jobs=-1)]: Done  95 out of 100 | elapsed:  3.1min remaining:    9.7s\n",
      "[Parallel(n_jobs=-1)]: Done  97 out of 100 | elapsed:  3.1min remaining:    5.7s\n",
      "[Parallel(n_jobs=-1)]: Done 100 out of 100 | elapsed:  3.2min finished\n"
     ]
    },
    {
     "data": {
      "text/plain": [
       "RandomForestRegressor(bootstrap=True, ccp_alpha=0.0, criterion='mse',\n",
       "                      max_depth=16, max_features='sqrt', max_leaf_nodes=None,\n",
       "                      max_samples=None, min_impurity_decrease=0.0,\n",
       "                      min_impurity_split=None, min_samples_leaf=1,\n",
       "                      min_samples_split=2, min_weight_fraction_leaf=0.0,\n",
       "                      n_estimators=100, n_jobs=-1, oob_score=False,\n",
       "                      random_state=42, verbose=100, warm_start=False)"
      ]
     },
     "execution_count": 152,
     "metadata": {},
     "output_type": "execute_result"
    }
   ],
   "source": [
    "rfr = RandomForestRegressor(n_estimators=100,\n",
    "                            max_depth=16,\n",
    "                            max_features='sqrt',\n",
    "                            min_samples_split=2,\n",
    "                            verbose=100,\n",
    "                            random_state=42,\n",
    "                            n_jobs=-1)\n",
    "rfr.fit(X_train, Y_train)"
   ]
  },
  {
   "cell_type": "code",
   "execution_count": 153,
   "metadata": {
    "ExecuteTime": {
     "end_time": "2020-09-17T18:00:54.815764Z",
     "start_time": "2020-09-17T18:00:54.592742Z"
    },
    "scrolled": true
   },
   "outputs": [
    {
     "name": "stdout",
     "output_type": "stream",
     "text": [
      "[Parallel(n_jobs=12)]: Using backend ThreadingBackend with 12 concurrent workers.\n",
      "[Parallel(n_jobs=12)]: Done   1 tasks      | elapsed:    0.0s\n",
      "[Parallel(n_jobs=12)]: Done   2 tasks      | elapsed:    0.0s\n",
      "[Parallel(n_jobs=12)]: Done   3 tasks      | elapsed:    0.0s\n",
      "[Parallel(n_jobs=12)]: Done   4 tasks      | elapsed:    0.0s\n",
      "[Parallel(n_jobs=12)]: Done   5 tasks      | elapsed:    0.0s\n",
      "[Parallel(n_jobs=12)]: Done   6 tasks      | elapsed:    0.0s\n",
      "[Parallel(n_jobs=12)]: Done   7 tasks      | elapsed:    0.0s\n",
      "[Parallel(n_jobs=12)]: Done   8 tasks      | elapsed:    0.0s\n",
      "[Parallel(n_jobs=12)]: Done   9 tasks      | elapsed:    0.0s\n",
      "[Parallel(n_jobs=12)]: Done  10 tasks      | elapsed:    0.0s\n",
      "[Parallel(n_jobs=12)]: Done  11 tasks      | elapsed:    0.0s\n",
      "[Parallel(n_jobs=12)]: Done  12 tasks      | elapsed:    0.0s\n",
      "[Parallel(n_jobs=12)]: Done  13 tasks      | elapsed:    0.0s\n",
      "[Parallel(n_jobs=12)]: Done  14 tasks      | elapsed:    0.0s\n",
      "[Parallel(n_jobs=12)]: Done  15 tasks      | elapsed:    0.0s\n",
      "[Parallel(n_jobs=12)]: Done  16 tasks      | elapsed:    0.0s\n",
      "[Parallel(n_jobs=12)]: Done  17 tasks      | elapsed:    0.0s\n",
      "[Parallel(n_jobs=12)]: Done  18 tasks      | elapsed:    0.0s\n",
      "[Parallel(n_jobs=12)]: Done  19 tasks      | elapsed:    0.0s\n",
      "[Parallel(n_jobs=12)]: Done  20 tasks      | elapsed:    0.0s\n",
      "[Parallel(n_jobs=12)]: Done  21 tasks      | elapsed:    0.0s\n",
      "[Parallel(n_jobs=12)]: Done  22 tasks      | elapsed:    0.0s\n",
      "[Parallel(n_jobs=12)]: Done  23 tasks      | elapsed:    0.0s\n",
      "[Parallel(n_jobs=12)]: Done  24 tasks      | elapsed:    0.0s\n",
      "[Parallel(n_jobs=12)]: Done  25 tasks      | elapsed:    0.0s\n",
      "[Parallel(n_jobs=12)]: Done  26 tasks      | elapsed:    0.0s\n",
      "[Parallel(n_jobs=12)]: Done  27 tasks      | elapsed:    0.0s\n",
      "[Parallel(n_jobs=12)]: Done  28 tasks      | elapsed:    0.0s\n",
      "[Parallel(n_jobs=12)]: Done  29 tasks      | elapsed:    0.0s\n",
      "[Parallel(n_jobs=12)]: Done  30 tasks      | elapsed:    0.0s\n",
      "[Parallel(n_jobs=12)]: Done  31 tasks      | elapsed:    0.0s\n",
      "[Parallel(n_jobs=12)]: Done  32 tasks      | elapsed:    0.0s\n",
      "[Parallel(n_jobs=12)]: Done  33 tasks      | elapsed:    0.0s\n",
      "[Parallel(n_jobs=12)]: Done  34 tasks      | elapsed:    0.0s\n",
      "[Parallel(n_jobs=12)]: Done  35 tasks      | elapsed:    0.0s\n",
      "[Parallel(n_jobs=12)]: Done  36 tasks      | elapsed:    0.0s\n",
      "[Parallel(n_jobs=12)]: Done  37 tasks      | elapsed:    0.0s\n",
      "[Parallel(n_jobs=12)]: Done  38 tasks      | elapsed:    0.0s\n",
      "[Parallel(n_jobs=12)]: Done  39 tasks      | elapsed:    0.0s\n",
      "[Parallel(n_jobs=12)]: Done  40 tasks      | elapsed:    0.0s\n",
      "[Parallel(n_jobs=12)]: Done  41 tasks      | elapsed:    0.0s\n",
      "[Parallel(n_jobs=12)]: Done  42 tasks      | elapsed:    0.0s\n",
      "[Parallel(n_jobs=12)]: Done  43 tasks      | elapsed:    0.0s\n",
      "[Parallel(n_jobs=12)]: Done  44 tasks      | elapsed:    0.0s\n",
      "[Parallel(n_jobs=12)]: Done  45 tasks      | elapsed:    0.0s\n",
      "[Parallel(n_jobs=12)]: Done  46 tasks      | elapsed:    0.0s\n",
      "[Parallel(n_jobs=12)]: Done  47 tasks      | elapsed:    0.0s\n",
      "[Parallel(n_jobs=12)]: Done  48 tasks      | elapsed:    0.0s\n",
      "[Parallel(n_jobs=12)]: Done  49 tasks      | elapsed:    0.0s\n",
      "[Parallel(n_jobs=12)]: Done  50 tasks      | elapsed:    0.0s\n",
      "[Parallel(n_jobs=12)]: Done  51 tasks      | elapsed:    0.0s\n",
      "[Parallel(n_jobs=12)]: Done  52 tasks      | elapsed:    0.0s\n",
      "[Parallel(n_jobs=12)]: Done  53 tasks      | elapsed:    0.0s\n",
      "[Parallel(n_jobs=12)]: Done  54 tasks      | elapsed:    0.0s\n",
      "[Parallel(n_jobs=12)]: Done  55 tasks      | elapsed:    0.0s\n",
      "[Parallel(n_jobs=12)]: Done  56 tasks      | elapsed:    0.0s\n",
      "[Parallel(n_jobs=12)]: Done  57 tasks      | elapsed:    0.0s\n",
      "[Parallel(n_jobs=12)]: Done  58 tasks      | elapsed:    0.0s\n",
      "[Parallel(n_jobs=12)]: Done  59 tasks      | elapsed:    0.0s\n",
      "[Parallel(n_jobs=12)]: Done  60 tasks      | elapsed:    0.0s\n",
      "[Parallel(n_jobs=12)]: Done  61 tasks      | elapsed:    0.0s\n",
      "[Parallel(n_jobs=12)]: Done  62 tasks      | elapsed:    0.0s\n",
      "[Parallel(n_jobs=12)]: Done  63 tasks      | elapsed:    0.0s\n",
      "[Parallel(n_jobs=12)]: Done  64 tasks      | elapsed:    0.0s\n",
      "[Parallel(n_jobs=12)]: Done  65 tasks      | elapsed:    0.0s\n",
      "[Parallel(n_jobs=12)]: Done  66 tasks      | elapsed:    0.0s\n",
      "[Parallel(n_jobs=12)]: Done  67 tasks      | elapsed:    0.0s\n",
      "[Parallel(n_jobs=12)]: Done  68 tasks      | elapsed:    0.0s\n",
      "[Parallel(n_jobs=12)]: Done  69 tasks      | elapsed:    0.0s\n",
      "[Parallel(n_jobs=12)]: Done  70 tasks      | elapsed:    0.0s\n",
      "[Parallel(n_jobs=12)]: Done  71 tasks      | elapsed:    0.0s\n",
      "[Parallel(n_jobs=12)]: Done  72 tasks      | elapsed:    0.0s\n",
      "[Parallel(n_jobs=12)]: Done  73 tasks      | elapsed:    0.0s\n",
      "[Parallel(n_jobs=12)]: Done  74 tasks      | elapsed:    0.0s\n",
      "[Parallel(n_jobs=12)]: Done  75 tasks      | elapsed:    0.1s\n",
      "[Parallel(n_jobs=12)]: Done  76 tasks      | elapsed:    0.1s\n",
      "[Parallel(n_jobs=12)]: Done  77 tasks      | elapsed:    0.1s\n",
      "[Parallel(n_jobs=12)]: Done  79 out of 100 | elapsed:    0.1s remaining:    0.0s\n",
      "[Parallel(n_jobs=12)]: Done  81 out of 100 | elapsed:    0.1s remaining:    0.0s\n",
      "[Parallel(n_jobs=12)]: Done  83 out of 100 | elapsed:    0.1s remaining:    0.0s\n",
      "[Parallel(n_jobs=12)]: Done  85 out of 100 | elapsed:    0.1s remaining:    0.0s\n",
      "[Parallel(n_jobs=12)]: Done  87 out of 100 | elapsed:    0.1s remaining:    0.0s\n",
      "[Parallel(n_jobs=12)]: Done  89 out of 100 | elapsed:    0.1s remaining:    0.0s\n",
      "[Parallel(n_jobs=12)]: Done  91 out of 100 | elapsed:    0.1s remaining:    0.0s\n",
      "[Parallel(n_jobs=12)]: Done  93 out of 100 | elapsed:    0.1s remaining:    0.0s\n",
      "[Parallel(n_jobs=12)]: Done  95 out of 100 | elapsed:    0.1s remaining:    0.0s\n",
      "[Parallel(n_jobs=12)]: Done  97 out of 100 | elapsed:    0.1s remaining:    0.0s\n",
      "[Parallel(n_jobs=12)]: Done 100 out of 100 | elapsed:    0.1s finished\n"
     ]
    },
    {
     "data": {
      "text/plain": [
       "rmse    0.635785\n",
       "r2      0.675334\n",
       "dtype: float64"
      ]
     },
     "execution_count": 153,
     "metadata": {},
     "output_type": "execute_result"
    }
   ],
   "source": [
    "prediction = rfr.predict(X_val)\n",
    "prediction = inverse_scaling(prediction, 'count')\n",
    "\n",
    "metrics = {'rmse': lambda *args: mean_squared_error(*args, squared=False),\n",
    "           'r2': r2_score\n",
    "          }\n",
    "result = pd.Series({name: metric(inverse_scaling(Y_val, 'count'), prediction) for name, metric in metrics.items()})\n",
    "result"
   ]
  },
  {
   "cell_type": "code",
   "execution_count": 87,
   "metadata": {
    "ExecuteTime": {
     "end_time": "2020-09-17T16:51:58.954413Z",
     "start_time": "2020-09-17T16:51:58.662118Z"
    }
   },
   "outputs": [
    {
     "data": {
      "text/plain": [
       "<matplotlib.axes._subplots.AxesSubplot at 0x19808807f10>"
      ]
     },
     "execution_count": 87,
     "metadata": {},
     "output_type": "execute_result"
    },
    {
     "data": {
      "image/png": "[encoded data removed]",
      "text/plain": [
       "<Figure size 1152x576 with 1 Axes>"
      ]
     },
     "metadata": {
      "needs_background": "light"
     },
     "output_type": "display_data"
    }
   ],
   "source": [
    "\n",
    "pd.Series(rfr.feature_importances_, index=X_train.columns).plot.bar(figsize=(16, 8))"
   ]
  },
  {
   "cell_type": "markdown",
   "metadata": {},
   "source": [
    "### Random forest hyperparam search"
   ]
  },
  {
   "cell_type": "code",
   "execution_count": 154,
   "metadata": {
    "ExecuteTime": {
     "end_time": "2020-09-17T18:08:41.645532Z",
     "start_time": "2020-09-17T18:08:41.632532Z"
    }
   },
   "outputs": [],
   "source": [
    "from sklearn.model_selection import RandomizedSearchCV"
   ]
  },
  {
   "cell_type": "code",
   "execution_count": 157,
   "metadata": {
    "ExecuteTime": {
     "end_time": "2020-09-17T19:05:45.589048Z",
     "start_time": "2020-09-17T18:19:23.865620Z"
    }
   },
   "outputs": [
    {
     "name": "stdout",
     "output_type": "stream",
     "text": [
      "Fitting 2 folds for each of 20 candidates, totalling 40 fits\n"
     ]
    },
    {
     "name": "stderr",
     "output_type": "stream",
     "text": [
      "[Parallel(n_jobs=-1)]: Using backend LokyBackend with 12 concurrent workers.\n",
      "[Parallel(n_jobs=-1)]: Done   1 tasks      | elapsed:   26.4s\n",
      "[Parallel(n_jobs=-1)]: Done   8 tasks      | elapsed:  1.7min\n",
      "[Parallel(n_jobs=-1)]: Done  17 tasks      | elapsed:  5.9min\n",
      "[Parallel(n_jobs=-1)]: Done  22 out of  40 | elapsed: 10.0min remaining:  8.2min\n",
      "[Parallel(n_jobs=-1)]: Done  27 out of  40 | elapsed: 13.9min remaining:  6.7min\n",
      "[Parallel(n_jobs=-1)]: Done  32 out of  40 | elapsed: 17.5min remaining:  4.4min\n",
      "[Parallel(n_jobs=-1)]: Done  37 out of  40 | elapsed: 26.2min remaining:  2.1min\n",
      "[Parallel(n_jobs=-1)]: Done  40 out of  40 | elapsed: 31.3min finished\n"
     ]
    },
    {
     "data": {
      "text/plain": [
       "RandomizedSearchCV(cv=2, error_score=nan,\n",
       "                   estimator=RandomForestRegressor(bootstrap=True,\n",
       "                                                   ccp_alpha=0.0,\n",
       "                                                   criterion='mse',\n",
       "                                                   max_depth=None,\n",
       "                                                   max_features='auto',\n",
       "                                                   max_leaf_nodes=None,\n",
       "                                                   max_samples=None,\n",
       "                                                   min_impurity_decrease=0.0,\n",
       "                                                   min_impurity_split=None,\n",
       "                                                   min_samples_leaf=1,\n",
       "                                                   min_samples_split=2,\n",
       "                                                   min_weight_fraction_leaf=0.0,\n",
       "                                                   n_estimators=100,\n",
       "                                                   n_jobs=None, oob_score=False,\n",
       "                                                   random_state=42, verbose=0,\n",
       "                                                   warm_start=False),\n",
       "                   iid='deprecated', n_iter=20, n_jobs=-1,\n",
       "                   param_distributions={'max_depth': [16, 50, 100, 200, 500],\n",
       "                                        'max_features': ['sqrt', 0.2, 0.5, 1],\n",
       "                                        'max_samples': [1, 0.5, 0.2, 0.03125],\n",
       "                                        'min_samples_split': [2, 100, 1000],\n",
       "                                        'n_estimators': [32, 50, 100, 200,\n",
       "                                                         500]},\n",
       "                   pre_dispatch='2*n_jobs', random_state=101, refit=True,\n",
       "                   return_train_score=False, scoring=None, verbose=10)"
      ]
     },
     "execution_count": 157,
     "metadata": {},
     "output_type": "execute_result"
    }
   ],
   "source": [
    "param_space = {\n",
    "    'n_estimators': [32, 50, 100, 200, 500],\n",
    "    'max_depth': [16, 50, 100, 200, 500],\n",
    "    'max_features': ['sqrt', 0.2, 0.5, 1],\n",
    "    'min_samples_split': [2, 100, 1000, ],\n",
    "    'max_samples': [1, 0.5, 0.2, 1/32]\n",
    "    \n",
    "}\n",
    "\n",
    "rs = RandomizedSearchCV(RandomForestRegressor(random_state=42),\n",
    "                        param_distributions=param_space,\n",
    "                        verbose=10,\n",
    "                        cv=2,\n",
    "                        n_iter=20,\n",
    "                        random_state= 101,\n",
    "                       n_jobs=-1)\n",
    "rs.fit(X_train, Y_train)"
   ]
  },
  {
   "cell_type": "code",
   "execution_count": 161,
   "metadata": {
    "ExecuteTime": {
     "end_time": "2020-09-18T03:27:45.287490Z",
     "start_time": "2020-09-18T03:27:45.262488Z"
    }
   },
   "outputs": [
    {
     "data": {
      "text/html": [
       "<div>\n",
       "<style scoped>\n",
       "    .dataframe tbody tr th:only-of-type {\n",
       "        vertical-align: middle;\n",
       "    }\n",
       "\n",
       "    .dataframe tbody tr th {\n",
       "        vertical-align: top;\n",
       "    }\n",
       "\n",
       "    .dataframe thead th {\n",
       "        text-align: right;\n",
       "    }\n",
       "</style>\n",
       "<table border=\"1\" class=\"dataframe\">\n",
       "  <thead>\n",
       "    <tr style=\"text-align: right;\">\n",
       "      <th></th>\n",
       "      <th>mean_fit_time</th>\n",
       "      <th>std_fit_time</th>\n",
       "      <th>mean_score_time</th>\n",
       "      <th>std_score_time</th>\n",
       "      <th>param_n_estimators</th>\n",
       "      <th>param_min_samples_split</th>\n",
       "      <th>param_max_samples</th>\n",
       "      <th>param_max_features</th>\n",
       "      <th>param_max_depth</th>\n",
       "      <th>params</th>\n",
       "      <th>split0_test_score</th>\n",
       "      <th>split1_test_score</th>\n",
       "      <th>mean_test_score</th>\n",
       "      <th>std_test_score</th>\n",
       "      <th>rank_test_score</th>\n",
       "    </tr>\n",
       "  </thead>\n",
       "  <tbody>\n",
       "    <tr>\n",
       "      <th>16</th>\n",
       "      <td>806.843132</td>\n",
       "      <td>15.826852</td>\n",
       "      <td>13.982409</td>\n",
       "      <td>2.281501</td>\n",
       "      <td>100</td>\n",
       "      <td>2</td>\n",
       "      <td>0.5</td>\n",
       "      <td>0.5</td>\n",
       "      <td>16</td>\n",
       "      <td>{'n_estimators': 100, 'min_samples_split': 2, ...</td>\n",
       "      <td>0.744811</td>\n",
       "      <td>0.716152</td>\n",
       "      <td>0.730482</td>\n",
       "      <td>0.014329</td>\n",
       "      <td>1</td>\n",
       "    </tr>\n",
       "    <tr>\n",
       "      <th>1</th>\n",
       "      <td>683.165437</td>\n",
       "      <td>25.975372</td>\n",
       "      <td>113.086752</td>\n",
       "      <td>10.637078</td>\n",
       "      <td>200</td>\n",
       "      <td>2</td>\n",
       "      <td>0.2</td>\n",
       "      <td>sqrt</td>\n",
       "      <td>200</td>\n",
       "      <td>{'n_estimators': 200, 'min_samples_split': 2, ...</td>\n",
       "      <td>0.725273</td>\n",
       "      <td>0.699259</td>\n",
       "      <td>0.712266</td>\n",
       "      <td>0.013007</td>\n",
       "      <td>2</td>\n",
       "    </tr>\n",
       "    <tr>\n",
       "      <th>19</th>\n",
       "      <td>935.684581</td>\n",
       "      <td>25.248265</td>\n",
       "      <td>59.881281</td>\n",
       "      <td>7.285805</td>\n",
       "      <td>500</td>\n",
       "      <td>100</td>\n",
       "      <td>0.2</td>\n",
       "      <td>0.2</td>\n",
       "      <td>16</td>\n",
       "      <td>{'n_estimators': 500, 'min_samples_split': 100...</td>\n",
       "      <td>0.726455</td>\n",
       "      <td>0.697856</td>\n",
       "      <td>0.712155</td>\n",
       "      <td>0.014299</td>\n",
       "      <td>3</td>\n",
       "    </tr>\n",
       "    <tr>\n",
       "      <th>0</th>\n",
       "      <td>1222.029005</td>\n",
       "      <td>51.409223</td>\n",
       "      <td>53.722193</td>\n",
       "      <td>2.687793</td>\n",
       "      <td>200</td>\n",
       "      <td>100</td>\n",
       "      <td>0.5</td>\n",
       "      <td>sqrt</td>\n",
       "      <td>500</td>\n",
       "      <td>{'n_estimators': 200, 'min_samples_split': 100...</td>\n",
       "      <td>0.708576</td>\n",
       "      <td>0.696385</td>\n",
       "      <td>0.702480</td>\n",
       "      <td>0.006096</td>\n",
       "      <td>4</td>\n",
       "    </tr>\n",
       "    <tr>\n",
       "      <th>8</th>\n",
       "      <td>1526.964338</td>\n",
       "      <td>32.744299</td>\n",
       "      <td>16.401848</td>\n",
       "      <td>2.107711</td>\n",
       "      <td>200</td>\n",
       "      <td>1000</td>\n",
       "      <td>0.5</td>\n",
       "      <td>0.5</td>\n",
       "      <td>200</td>\n",
       "      <td>{'n_estimators': 200, 'min_samples_split': 100...</td>\n",
       "      <td>0.717510</td>\n",
       "      <td>0.685622</td>\n",
       "      <td>0.701566</td>\n",
       "      <td>0.015944</td>\n",
       "      <td>5</td>\n",
       "    </tr>\n",
       "    <tr>\n",
       "      <th>10</th>\n",
       "      <td>89.413093</td>\n",
       "      <td>2.205078</td>\n",
       "      <td>18.424968</td>\n",
       "      <td>2.221946</td>\n",
       "      <td>100</td>\n",
       "      <td>100</td>\n",
       "      <td>0.03125</td>\n",
       "      <td>0.5</td>\n",
       "      <td>16</td>\n",
       "      <td>{'n_estimators': 100, 'min_samples_split': 100...</td>\n",
       "      <td>0.716219</td>\n",
       "      <td>0.682213</td>\n",
       "      <td>0.699216</td>\n",
       "      <td>0.017003</td>\n",
       "      <td>6</td>\n",
       "    </tr>\n",
       "    <tr>\n",
       "      <th>15</th>\n",
       "      <td>360.526446</td>\n",
       "      <td>36.563944</td>\n",
       "      <td>25.972757</td>\n",
       "      <td>4.428227</td>\n",
       "      <td>50</td>\n",
       "      <td>2</td>\n",
       "      <td>0.5</td>\n",
       "      <td>sqrt</td>\n",
       "      <td>50</td>\n",
       "      <td>{'n_estimators': 50, 'min_samples_split': 2, '...</td>\n",
       "      <td>0.723778</td>\n",
       "      <td>0.673631</td>\n",
       "      <td>0.698705</td>\n",
       "      <td>0.025074</td>\n",
       "      <td>7</td>\n",
       "    </tr>\n",
       "    <tr>\n",
       "      <th>11</th>\n",
       "      <td>143.395227</td>\n",
       "      <td>2.414826</td>\n",
       "      <td>5.597195</td>\n",
       "      <td>0.189515</td>\n",
       "      <td>32</td>\n",
       "      <td>1000</td>\n",
       "      <td>0.2</td>\n",
       "      <td>0.5</td>\n",
       "      <td>100</td>\n",
       "      <td>{'n_estimators': 32, 'min_samples_split': 1000...</td>\n",
       "      <td>0.702689</td>\n",
       "      <td>0.663473</td>\n",
       "      <td>0.683081</td>\n",
       "      <td>0.019608</td>\n",
       "      <td>8</td>\n",
       "    </tr>\n",
       "    <tr>\n",
       "      <th>14</th>\n",
       "      <td>210.065117</td>\n",
       "      <td>1.784000</td>\n",
       "      <td>8.534146</td>\n",
       "      <td>0.787572</td>\n",
       "      <td>32</td>\n",
       "      <td>1000</td>\n",
       "      <td>0.5</td>\n",
       "      <td>0.2</td>\n",
       "      <td>200</td>\n",
       "      <td>{'n_estimators': 32, 'min_samples_split': 1000...</td>\n",
       "      <td>0.701340</td>\n",
       "      <td>0.661766</td>\n",
       "      <td>0.681553</td>\n",
       "      <td>0.019787</td>\n",
       "      <td>9</td>\n",
       "    </tr>\n",
       "    <tr>\n",
       "      <th>18</th>\n",
       "      <td>29.495528</td>\n",
       "      <td>1.416485</td>\n",
       "      <td>15.190345</td>\n",
       "      <td>0.875552</td>\n",
       "      <td>50</td>\n",
       "      <td>100</td>\n",
       "      <td>0.03125</td>\n",
       "      <td>sqrt</td>\n",
       "      <td>50</td>\n",
       "      <td>{'n_estimators': 50, 'min_samples_split': 100,...</td>\n",
       "      <td>0.647065</td>\n",
       "      <td>0.640476</td>\n",
       "      <td>0.643770</td>\n",
       "      <td>0.003294</td>\n",
       "      <td>10</td>\n",
       "    </tr>\n",
       "    <tr>\n",
       "      <th>4</th>\n",
       "      <td>43.583104</td>\n",
       "      <td>5.309030</td>\n",
       "      <td>6.361866</td>\n",
       "      <td>0.349159</td>\n",
       "      <td>32</td>\n",
       "      <td>1000</td>\n",
       "      <td>0.03125</td>\n",
       "      <td>sqrt</td>\n",
       "      <td>50</td>\n",
       "      <td>{'n_estimators': 32, 'min_samples_split': 1000...</td>\n",
       "      <td>0.581395</td>\n",
       "      <td>0.533342</td>\n",
       "      <td>0.557369</td>\n",
       "      <td>0.024027</td>\n",
       "      <td>11</td>\n",
       "    </tr>\n",
       "    <tr>\n",
       "      <th>7</th>\n",
       "      <td>21.639971</td>\n",
       "      <td>1.308531</td>\n",
       "      <td>34.494959</td>\n",
       "      <td>0.185532</td>\n",
       "      <td>50</td>\n",
       "      <td>2</td>\n",
       "      <td>0.03125</td>\n",
       "      <td>1</td>\n",
       "      <td>500</td>\n",
       "      <td>{'n_estimators': 50, 'min_samples_split': 2, '...</td>\n",
       "      <td>0.487955</td>\n",
       "      <td>0.507128</td>\n",
       "      <td>0.497541</td>\n",
       "      <td>0.009586</td>\n",
       "      <td>12</td>\n",
       "    </tr>\n",
       "    <tr>\n",
       "      <th>9</th>\n",
       "      <td>806.168673</td>\n",
       "      <td>34.952445</td>\n",
       "      <td>109.005349</td>\n",
       "      <td>2.035587</td>\n",
       "      <td>200</td>\n",
       "      <td>100</td>\n",
       "      <td>0.5</td>\n",
       "      <td>1</td>\n",
       "      <td>500</td>\n",
       "      <td>{'n_estimators': 200, 'min_samples_split': 100...</td>\n",
       "      <td>0.445773</td>\n",
       "      <td>0.469054</td>\n",
       "      <td>0.457413</td>\n",
       "      <td>0.011640</td>\n",
       "      <td>13</td>\n",
       "    </tr>\n",
       "    <tr>\n",
       "      <th>3</th>\n",
       "      <td>207.332803</td>\n",
       "      <td>1.645578</td>\n",
       "      <td>63.526791</td>\n",
       "      <td>1.041578</td>\n",
       "      <td>100</td>\n",
       "      <td>100</td>\n",
       "      <td>0.2</td>\n",
       "      <td>1</td>\n",
       "      <td>200</td>\n",
       "      <td>{'n_estimators': 100, 'min_samples_split': 100...</td>\n",
       "      <td>0.378385</td>\n",
       "      <td>0.465080</td>\n",
       "      <td>0.421732</td>\n",
       "      <td>0.043347</td>\n",
       "      <td>14</td>\n",
       "    </tr>\n",
       "    <tr>\n",
       "      <th>2</th>\n",
       "      <td>159.919840</td>\n",
       "      <td>3.811347</td>\n",
       "      <td>31.321220</td>\n",
       "      <td>0.353992</td>\n",
       "      <td>32</td>\n",
       "      <td>2</td>\n",
       "      <td>0.5</td>\n",
       "      <td>1</td>\n",
       "      <td>50</td>\n",
       "      <td>{'n_estimators': 32, 'min_samples_split': 2, '...</td>\n",
       "      <td>0.345100</td>\n",
       "      <td>0.416865</td>\n",
       "      <td>0.380982</td>\n",
       "      <td>0.035883</td>\n",
       "      <td>15</td>\n",
       "    </tr>\n",
       "    <tr>\n",
       "      <th>6</th>\n",
       "      <td>12.079536</td>\n",
       "      <td>0.318504</td>\n",
       "      <td>4.904532</td>\n",
       "      <td>0.355502</td>\n",
       "      <td>100</td>\n",
       "      <td>2</td>\n",
       "      <td>1</td>\n",
       "      <td>sqrt</td>\n",
       "      <td>16</td>\n",
       "      <td>{'n_estimators': 100, 'min_samples_split': 2, ...</td>\n",
       "      <td>-0.003875</td>\n",
       "      <td>-0.000257</td>\n",
       "      <td>-0.002066</td>\n",
       "      <td>0.001809</td>\n",
       "      <td>16</td>\n",
       "    </tr>\n",
       "    <tr>\n",
       "      <th>12</th>\n",
       "      <td>19.590514</td>\n",
       "      <td>1.856210</td>\n",
       "      <td>12.159888</td>\n",
       "      <td>6.308738</td>\n",
       "      <td>100</td>\n",
       "      <td>1000</td>\n",
       "      <td>1</td>\n",
       "      <td>0.5</td>\n",
       "      <td>16</td>\n",
       "      <td>{'n_estimators': 100, 'min_samples_split': 100...</td>\n",
       "      <td>-0.003875</td>\n",
       "      <td>-0.000257</td>\n",
       "      <td>-0.002066</td>\n",
       "      <td>0.001809</td>\n",
       "      <td>16</td>\n",
       "    </tr>\n",
       "    <tr>\n",
       "      <th>13</th>\n",
       "      <td>23.955646</td>\n",
       "      <td>6.492173</td>\n",
       "      <td>8.673800</td>\n",
       "      <td>0.112962</td>\n",
       "      <td>200</td>\n",
       "      <td>2</td>\n",
       "      <td>1</td>\n",
       "      <td>0.2</td>\n",
       "      <td>100</td>\n",
       "      <td>{'n_estimators': 200, 'min_samples_split': 2, ...</td>\n",
       "      <td>-0.008441</td>\n",
       "      <td>-0.000553</td>\n",
       "      <td>-0.004497</td>\n",
       "      <td>0.003944</td>\n",
       "      <td>18</td>\n",
       "    </tr>\n",
       "    <tr>\n",
       "      <th>17</th>\n",
       "      <td>32.397514</td>\n",
       "      <td>0.018961</td>\n",
       "      <td>22.897868</td>\n",
       "      <td>0.371442</td>\n",
       "      <td>500</td>\n",
       "      <td>1000</td>\n",
       "      <td>1</td>\n",
       "      <td>1</td>\n",
       "      <td>200</td>\n",
       "      <td>{'n_estimators': 500, 'min_samples_split': 100...</td>\n",
       "      <td>-0.000283</td>\n",
       "      <td>-0.009638</td>\n",
       "      <td>-0.004961</td>\n",
       "      <td>0.004677</td>\n",
       "      <td>19</td>\n",
       "    </tr>\n",
       "    <tr>\n",
       "      <th>5</th>\n",
       "      <td>22.308529</td>\n",
       "      <td>2.950500</td>\n",
       "      <td>3.564518</td>\n",
       "      <td>0.690483</td>\n",
       "      <td>50</td>\n",
       "      <td>2</td>\n",
       "      <td>1</td>\n",
       "      <td>1</td>\n",
       "      <td>200</td>\n",
       "      <td>{'n_estimators': 50, 'min_samples_split': 2, '...</td>\n",
       "      <td>-0.000280</td>\n",
       "      <td>-0.019322</td>\n",
       "      <td>-0.009801</td>\n",
       "      <td>0.009521</td>\n",
       "      <td>20</td>\n",
       "    </tr>\n",
       "  </tbody>\n",
       "</table>\n",
       "</div>"
      ],
      "text/plain": [
       "    mean_fit_time  std_fit_time  mean_score_time  std_score_time  \\\n",
       "16     806.843132     15.826852        13.982409        2.281501   \n",
       "1      683.165437     25.975372       113.086752       10.637078   \n",
       "19     935.684581     25.248265        59.881281        7.285805   \n",
       "0     1222.029005     51.409223        53.722193        2.687793   \n",
       "8     1526.964338     32.744299        16.401848        2.107711   \n",
       "10      89.413093      2.205078        18.424968        2.221946   \n",
       "15     360.526446     36.563944        25.972757        4.428227   \n",
       "11     143.395227      2.414826         5.597195        0.189515   \n",
       "14     210.065117      1.784000         8.534146        0.787572   \n",
       "18      29.495528      1.416485        15.190345        0.875552   \n",
       "4       43.583104      5.309030         6.361866        0.349159   \n",
       "7       21.639971      1.308531        34.494959        0.185532   \n",
       "9      806.168673     34.952445       109.005349        2.035587   \n",
       "3      207.332803      1.645578        63.526791        1.041578   \n",
       "2      159.919840      3.811347        31.321220        0.353992   \n",
       "6       12.079536      0.318504         4.904532        0.355502   \n",
       "12      19.590514      1.856210        12.159888        6.308738   \n",
       "13      23.955646      6.492173         8.673800        0.112962   \n",
       "17      32.397514      0.018961        22.897868        0.371442   \n",
       "5       22.308529      2.950500         3.564518        0.690483   \n",
       "\n",
       "   param_n_estimators param_min_samples_split param_max_samples  \\\n",
       "16                100                       2               0.5   \n",
       "1                 200                       2               0.2   \n",
       "19                500                     100               0.2   \n",
       "0                 200                     100               0.5   \n",
       "8                 200                    1000               0.5   \n",
       "10                100                     100           0.03125   \n",
       "15                 50                       2               0.5   \n",
       "11                 32                    1000               0.2   \n",
       "14                 32                    1000               0.5   \n",
       "18                 50                     100           0.03125   \n",
       "4                  32                    1000           0.03125   \n",
       "7                  50                       2           0.03125   \n",
       "9                 200                     100               0.5   \n",
       "3                 100                     100               0.2   \n",
       "2                  32                       2               0.5   \n",
       "6                 100                       2                 1   \n",
       "12                100                    1000                 1   \n",
       "13                200                       2                 1   \n",
       "17                500                    1000                 1   \n",
       "5                  50                       2                 1   \n",
       "\n",
       "   param_max_features param_max_depth  \\\n",
       "16                0.5              16   \n",
       "1                sqrt             200   \n",
       "19                0.2              16   \n",
       "0                sqrt             500   \n",
       "8                 0.5             200   \n",
       "10                0.5              16   \n",
       "15               sqrt              50   \n",
       "11                0.5             100   \n",
       "14                0.2             200   \n",
       "18               sqrt              50   \n",
       "4                sqrt              50   \n",
       "7                   1             500   \n",
       "9                   1             500   \n",
       "3                   1             200   \n",
       "2                   1              50   \n",
       "6                sqrt              16   \n",
       "12                0.5              16   \n",
       "13                0.2             100   \n",
       "17                  1             200   \n",
       "5                   1             200   \n",
       "\n",
       "                                               params  split0_test_score  \\\n",
       "16  {'n_estimators': 100, 'min_samples_split': 2, ...           0.744811   \n",
       "1   {'n_estimators': 200, 'min_samples_split': 2, ...           0.725273   \n",
       "19  {'n_estimators': 500, 'min_samples_split': 100...           0.726455   \n",
       "0   {'n_estimators': 200, 'min_samples_split': 100...           0.708576   \n",
       "8   {'n_estimators': 200, 'min_samples_split': 100...           0.717510   \n",
       "10  {'n_estimators': 100, 'min_samples_split': 100...           0.716219   \n",
       "15  {'n_estimators': 50, 'min_samples_split': 2, '...           0.723778   \n",
       "11  {'n_estimators': 32, 'min_samples_split': 1000...           0.702689   \n",
       "14  {'n_estimators': 32, 'min_samples_split': 1000...           0.701340   \n",
       "18  {'n_estimators': 50, 'min_samples_split': 100,...           0.647065   \n",
       "4   {'n_estimators': 32, 'min_samples_split': 1000...           0.581395   \n",
       "7   {'n_estimators': 50, 'min_samples_split': 2, '...           0.487955   \n",
       "9   {'n_estimators': 200, 'min_samples_split': 100...           0.445773   \n",
       "3   {'n_estimators': 100, 'min_samples_split': 100...           0.378385   \n",
       "2   {'n_estimators': 32, 'min_samples_split': 2, '...           0.345100   \n",
       "6   {'n_estimators': 100, 'min_samples_split': 2, ...          -0.003875   \n",
       "12  {'n_estimators': 100, 'min_samples_split': 100...          -0.003875   \n",
       "13  {'n_estimators': 200, 'min_samples_split': 2, ...          -0.008441   \n",
       "17  {'n_estimators': 500, 'min_samples_split': 100...          -0.000283   \n",
       "5   {'n_estimators': 50, 'min_samples_split': 2, '...          -0.000280   \n",
       "\n",
       "    split1_test_score  mean_test_score  std_test_score  rank_test_score  \n",
       "16           0.716152         0.730482        0.014329                1  \n",
       "1            0.699259         0.712266        0.013007                2  \n",
       "19           0.697856         0.712155        0.014299                3  \n",
       "0            0.696385         0.702480        0.006096                4  \n",
       "8            0.685622         0.701566        0.015944                5  \n",
       "10           0.682213         0.699216        0.017003                6  \n",
       "15           0.673631         0.698705        0.025074                7  \n",
       "11           0.663473         0.683081        0.019608                8  \n",
       "14           0.661766         0.681553        0.019787                9  \n",
       "18           0.640476         0.643770        0.003294               10  \n",
       "4            0.533342         0.557369        0.024027               11  \n",
       "7            0.507128         0.497541        0.009586               12  \n",
       "9            0.469054         0.457413        0.011640               13  \n",
       "3            0.465080         0.421732        0.043347               14  \n",
       "2            0.416865         0.380982        0.035883               15  \n",
       "6           -0.000257        -0.002066        0.001809               16  \n",
       "12          -0.000257        -0.002066        0.001809               16  \n",
       "13          -0.000553        -0.004497        0.003944               18  \n",
       "17          -0.009638        -0.004961        0.004677               19  \n",
       "5           -0.019322        -0.009801        0.009521               20  "
      ]
     },
     "execution_count": 161,
     "metadata": {},
     "output_type": "execute_result"
    }
   ],
   "source": [
    "pd.DataFrame(rs.cv_results_).sort_values('rank_test_score')"
   ]
  },
  {
   "cell_type": "code",
   "execution_count": 164,
   "metadata": {
    "ExecuteTime": {
     "end_time": "2020-09-18T03:39:52.547362Z",
     "start_time": "2020-09-18T03:35:12.323736Z"
    },
    "scrolled": true
   },
   "outputs": [
    {
     "name": "stderr",
     "output_type": "stream",
     "text": [
      "[Parallel(n_jobs=4)]: Using backend ThreadingBackend with 4 concurrent workers.\n"
     ]
    },
    {
     "name": "stdout",
     "output_type": "stream",
     "text": [
      "building tree 1 of 100building tree 2 of 100\n",
      "building tree 3 of 100\n",
      "\n",
      "building tree 4 of 100\n",
      "building tree 5 of 100\n",
      "building tree 6 of 100\n",
      "building tree 7 of 100\n",
      "building tree 8 of 100\n"
     ]
    },
    {
     "name": "stderr",
     "output_type": "stream",
     "text": [
      "[Parallel(n_jobs=4)]: Done   5 tasks      | elapsed:   23.3s\n"
     ]
    },
    {
     "name": "stdout",
     "output_type": "stream",
     "text": [
      "building tree 9 of 100\n",
      "building tree 10 of 100\n",
      "building tree 11 of 100\n",
      "building tree 12 of 100\n",
      "building tree 13 of 100\n",
      "building tree 14 of 100\n"
     ]
    },
    {
     "name": "stderr",
     "output_type": "stream",
     "text": [
      "[Parallel(n_jobs=4)]: Done  10 tasks      | elapsed:   37.7s\n"
     ]
    },
    {
     "name": "stdout",
     "output_type": "stream",
     "text": [
      "building tree 15 of 100\n",
      "building tree 16 of 100\n",
      "building tree 17 of 100\n",
      "building tree 18 of 100\n",
      "building tree 19 of 100\n",
      "building tree 20 of 100\n"
     ]
    },
    {
     "name": "stderr",
     "output_type": "stream",
     "text": [
      "[Parallel(n_jobs=4)]: Done  17 tasks      | elapsed:   54.3s\n"
     ]
    },
    {
     "name": "stdout",
     "output_type": "stream",
     "text": [
      "building tree 21 of 100\n",
      "building tree 22 of 100\n",
      "building tree 23 of 100\n",
      "building tree 24 of 100\n",
      "building tree 25 of 100\n",
      "building tree 26 of 100\n",
      "building tree 27 of 100\n"
     ]
    },
    {
     "name": "stderr",
     "output_type": "stream",
     "text": [
      "[Parallel(n_jobs=4)]: Done  24 tasks      | elapsed:  1.2min\n"
     ]
    },
    {
     "name": "stdout",
     "output_type": "stream",
     "text": [
      "building tree 28 of 100\n",
      "building tree 29 of 100\n",
      "building tree 30 of 100\n",
      "building tree 31 of 100\n",
      "building tree 32 of 100\n",
      "building tree 33 of 100\n",
      "building tree 34 of 100\n",
      "building tree 35 of 100\n",
      "building tree 36 of 100\n"
     ]
    },
    {
     "name": "stderr",
     "output_type": "stream",
     "text": [
      "[Parallel(n_jobs=4)]: Done  33 tasks      | elapsed:  1.6min\n"
     ]
    },
    {
     "name": "stdout",
     "output_type": "stream",
     "text": [
      "building tree 37 of 100\n",
      "building tree 38 of 100\n",
      "building tree 39 of 100\n",
      "building tree 40 of 100\n",
      "building tree 41 of 100\n",
      "building tree 42 of 100\n",
      "building tree 43 of 100\n",
      "building tree 44 of 100\n",
      "building tree 45 of 100\n",
      "building tree 46 of 100\n"
     ]
    },
    {
     "name": "stderr",
     "output_type": "stream",
     "text": [
      "[Parallel(n_jobs=4)]: Done  42 tasks      | elapsed:  2.0min\n"
     ]
    },
    {
     "name": "stdout",
     "output_type": "stream",
     "text": [
      "building tree 47 of 100\n",
      "building tree 48 of 100\n",
      "building tree 49 of 100\n",
      "building tree 50 of 100\n",
      "building tree 51 of 100\n",
      "building tree 52 of 100\n",
      "building tree 53 of 100\n",
      "building tree 54 of 100\n",
      "building tree 55 of 100\n",
      "building tree 56 of 100\n"
     ]
    },
    {
     "name": "stderr",
     "output_type": "stream",
     "text": [
      "[Parallel(n_jobs=4)]: Done  53 tasks      | elapsed:  2.6min\n"
     ]
    },
    {
     "name": "stdout",
     "output_type": "stream",
     "text": [
      "building tree 57 of 100\n",
      "building tree 58 of 100\n",
      "building tree 59 of 100\n",
      "building tree 60 of 100\n",
      "building tree 61 of 100\n",
      "building tree 62 of 100\n",
      "building tree 63 of 100\n",
      "building tree 64 of 100\n",
      "building tree 65 of 100\n",
      "building tree 66 of 100\n",
      "building tree 67 of 100\n",
      "building tree 68 of 100\n"
     ]
    },
    {
     "name": "stderr",
     "output_type": "stream",
     "text": [
      "[Parallel(n_jobs=4)]: Done  64 tasks      | elapsed:  3.1min\n"
     ]
    },
    {
     "name": "stdout",
     "output_type": "stream",
     "text": [
      "building tree 69 of 100\n",
      "building tree 70 of 100\n",
      "building tree 71 of 100\n",
      "building tree 72 of 100\n",
      "building tree 73 of 100\n",
      "building tree 74 of 100\n",
      "building tree 75 of 100\n",
      "building tree 76 of 100\n",
      "building tree 77 of 100\n",
      "building tree 78 of 100\n",
      "building tree 79 of 100\n",
      "building tree 80 of 100\n",
      "building tree 81 of 100\n"
     ]
    },
    {
     "name": "stderr",
     "output_type": "stream",
     "text": [
      "[Parallel(n_jobs=4)]: Done  77 tasks      | elapsed:  3.7min\n"
     ]
    },
    {
     "name": "stdout",
     "output_type": "stream",
     "text": [
      "building tree 82 of 100\n",
      "building tree 83 of 100\n",
      "building tree 84 of 100\n",
      "building tree 85 of 100\n",
      "building tree 86 of 100\n",
      "building tree 87 of 100\n",
      "building tree 88 of 100\n",
      "building tree 89 of 100\n",
      "building tree 90 of 100\n",
      "building tree 91 of 100\n",
      "building tree 92 of 100\n",
      "building tree 93 of 100\n"
     ]
    },
    {
     "name": "stderr",
     "output_type": "stream",
     "text": [
      "[Parallel(n_jobs=4)]: Done  90 tasks      | elapsed:  4.2min\n"
     ]
    },
    {
     "name": "stdout",
     "output_type": "stream",
     "text": [
      "building tree 94 of 100\n",
      "building tree 95 of 100\n",
      "building tree 96 of 100\n",
      "building tree 97 of 100\n",
      "building tree 98 of 100\n",
      "building tree 99 of 100\n",
      "building tree 100 of 100\n"
     ]
    },
    {
     "name": "stderr",
     "output_type": "stream",
     "text": [
      "[Parallel(n_jobs=4)]: Done 100 out of 100 | elapsed:  4.7min finished\n"
     ]
    },
    {
     "data": {
      "text/plain": [
       "RandomForestRegressor(bootstrap=True, ccp_alpha=0.0, criterion='mse',\n",
       "                      max_depth=16, max_features=0.5, max_leaf_nodes=None,\n",
       "                      max_samples=0.5, min_impurity_decrease=0.0,\n",
       "                      min_impurity_split=None, min_samples_leaf=1,\n",
       "                      min_samples_split=2, min_weight_fraction_leaf=0.0,\n",
       "                      n_estimators=100, n_jobs=4, oob_score=False,\n",
       "                      random_state=None, verbose=10, warm_start=False)"
      ]
     },
     "execution_count": 164,
     "metadata": {},
     "output_type": "execute_result"
    }
   ],
   "source": [
    "rfr = RandomForestRegressor(n_estimators=100,\n",
    "                            min_samples_split=2,\n",
    "                            max_samples=0.5,\n",
    "                            max_features=0.5,\n",
    "                            max_depth=16,\n",
    "                            n_jobs=4,\n",
    "                            verbose=10\n",
    "                           )\n",
    "rfr.fit(X_train, Y_train)"
   ]
  },
  {
   "cell_type": "code",
   "execution_count": 165,
   "metadata": {
    "ExecuteTime": {
     "end_time": "2020-09-18T03:39:53.198879Z",
     "start_time": "2020-09-18T03:39:52.898364Z"
    }
   },
   "outputs": [
    {
     "name": "stderr",
     "output_type": "stream",
     "text": [
      "[Parallel(n_jobs=4)]: Using backend ThreadingBackend with 4 concurrent workers.\n",
      "[Parallel(n_jobs=4)]: Done   5 tasks      | elapsed:    0.0s\n",
      "[Parallel(n_jobs=4)]: Done  10 tasks      | elapsed:    0.0s\n",
      "[Parallel(n_jobs=4)]: Done  17 tasks      | elapsed:    0.0s\n",
      "[Parallel(n_jobs=4)]: Done  24 tasks      | elapsed:    0.0s\n",
      "[Parallel(n_jobs=4)]: Done  33 tasks      | elapsed:    0.0s\n",
      "[Parallel(n_jobs=4)]: Done  42 tasks      | elapsed:    0.0s\n",
      "[Parallel(n_jobs=4)]: Done  53 tasks      | elapsed:    0.0s\n",
      "[Parallel(n_jobs=4)]: Done  64 tasks      | elapsed:    0.1s\n",
      "[Parallel(n_jobs=4)]: Done  77 tasks      | elapsed:    0.1s\n",
      "[Parallel(n_jobs=4)]: Done  90 tasks      | elapsed:    0.1s\n",
      "[Parallel(n_jobs=4)]: Done 100 out of 100 | elapsed:    0.1s finished\n"
     ]
    },
    {
     "data": {
      "text/plain": [
       "rmse    0.61078\n",
       "r2      0.70037\n",
       "dtype: float64"
      ]
     },
     "execution_count": 165,
     "metadata": {},
     "output_type": "execute_result"
    }
   ],
   "source": [
    "prediction = rfr.predict(X_val)\n",
    "prediction = inverse_scaling(prediction, 'count')\n",
    "\n",
    "metrics = {'rmse': lambda *args: mean_squared_error(*args, squared=False),\n",
    "           'r2': r2_score\n",
    "          }\n",
    "result = pd.Series({name: metric(inverse_scaling(Y_val, 'count'), prediction) for name, metric in metrics.items()})\n",
    "result"
   ]
  },
  {
   "cell_type": "code",
   "execution_count": 166,
   "metadata": {
    "ExecuteTime": {
     "end_time": "2020-09-18T03:39:53.910880Z",
     "start_time": "2020-09-18T03:39:53.551881Z"
    }
   },
   "outputs": [
    {
     "data": {
      "text/plain": [
       "<matplotlib.axes._subplots.AxesSubplot at 0x1986f2a3340>"
      ]
     },
     "execution_count": 166,
     "metadata": {},
     "output_type": "execute_result"
    },
    {
     "data": {
      "image/png": "[encoded data removed]",
      "text/plain": [
       "<Figure size 1152x576 with 1 Axes>"
      ]
     },
     "metadata": {
      "needs_background": "light"
     },
     "output_type": "display_data"
    }
   ],
   "source": [
    "\n",
    "pd.Series(rfr.feature_importances_, index=X_train.columns).plot.bar(figsize=(16, 8))"
   ]
  },
  {
   "cell_type": "markdown",
   "metadata": {},
   "source": [
    "### LightGBM"
   ]
  },
  {
   "cell_type": "code",
   "execution_count": 88,
   "metadata": {
    "ExecuteTime": {
     "end_time": "2020-09-17T16:53:19.429918Z",
     "start_time": "2020-09-17T16:53:19.423916Z"
    }
   },
   "outputs": [],
   "source": [
    "import lightgbm as lgb"
   ]
  },
  {
   "cell_type": "code",
   "execution_count": 149,
   "metadata": {
    "ExecuteTime": {
     "end_time": "2020-09-17T17:47:29.213242Z",
     "start_time": "2020-09-17T17:47:02.094984Z"
    },
    "scrolled": true
   },
   "outputs": [
    {
     "name": "stderr",
     "output_type": "stream",
     "text": [
      "c:\\users\\nanth\\appdata\\local\\programs\\python\\python38\\lib\\site-packages\\lightgbm\\engine.py:151: UserWarning: Found `n_estimators` in params. Will use it instead of argument\n",
      "  warnings.warn(\"Found `{}` in params. Will use it instead of argument\".format(alias))\n"
     ]
    },
    {
     "name": "stdout",
     "output_type": "stream",
     "text": [
      "[LightGBM] [Warning] Auto-choosing col-wise multi-threading, the overhead of testing was 0.588171 seconds.\n",
      "You can set `force_col_wise=true` to remove the overhead.\n",
      "[LightGBM] [Info] Total Bins 9322\n",
      "[LightGBM] [Info] Number of data points in the train set: 5783400, number of used features: 43\n",
      "[LightGBM] [Info] Start training from score 0.011121\n"
     ]
    }
   ],
   "source": [
    "\n",
    "\n",
    "# categorical_features = ['shop_id', 'item_id', 'item_category_id']\n",
    "train_lgb_data = lgb.Dataset(X_train, label=Y_train, )\n",
    "params = {\n",
    "    'max_depth': 50,\n",
    "    'learning_rate': 0.25,\n",
    "    'num_leaves': 200,\n",
    "    'n_estimators': 200,\n",
    "    'bagging_fraction': 1/100,\n",
    "    'sub_feature': 1,\n",
    "    'metric': 'mse',\n",
    "    'feature_fraction_seed': 41,\n",
    "    'bagging_seed': 42\n",
    "    \n",
    "}\n",
    "lgb_model = lgb.train(params, train_lgb_data, )\n",
    "\n"
   ]
  },
  {
   "cell_type": "code",
   "execution_count": 150,
   "metadata": {
    "ExecuteTime": {
     "end_time": "2020-09-17T17:47:29.821266Z",
     "start_time": "2020-09-17T17:47:29.598244Z"
    }
   },
   "outputs": [
    {
     "data": {
      "text/plain": [
       "rmse    0.598892\n",
       "r2      0.711920\n",
       "dtype: float64"
      ]
     },
     "execution_count": 150,
     "metadata": {},
     "output_type": "execute_result"
    }
   ],
   "source": [
    "prediction = lgb_model.predict(X_val, )\n",
    "prediction = inverse_scaling(prediction, 'count')\n",
    "metrics = {'rmse': lambda *args: mean_squared_error(*args, squared=False),\n",
    "           'r2': r2_score\n",
    "          }\n",
    "result = pd.Series({name: metric(inverse_scaling(Y_val, 'count'), prediction) for name, metric in metrics.items()})\n",
    "result"
   ]
  },
  {
   "cell_type": "code",
   "execution_count": 151,
   "metadata": {
    "ExecuteTime": {
     "end_time": "2020-09-17T17:51:07.373647Z",
     "start_time": "2020-09-17T17:51:07.149600Z"
    }
   },
   "outputs": [
    {
     "data": {
      "text/plain": [
       "<matplotlib.axes._subplots.AxesSubplot at 0x198082f4850>"
      ]
     },
     "execution_count": 151,
     "metadata": {},
     "output_type": "execute_result"
    },
    {
     "data": {
      "image/png": "[encoded data removed]",
      "text/plain": [
       "<Figure size 1152x576 with 1 Axes>"
      ]
     },
     "metadata": {
      "needs_background": "light"
     },
     "output_type": "display_data"
    }
   ],
   "source": [
    "\n",
    "pd.Series(lgb_model.feature_importance(), index=X_train.columns).plot.bar(figsize=(16, 8))\n",
    "\n"
   ]
  },
  {
   "cell_type": "markdown",
   "metadata": {
    "ExecuteTime": {
     "end_time": "2020-09-13T11:23:49.804881Z",
     "start_time": "2020-09-13T11:23:49.776189Z"
    },
    "heading_collapsed": true
   },
   "source": [
    "### Recurrent Neural Network Model"
   ]
  },
  {
   "cell_type": "code",
   "execution_count": null,
   "metadata": {
    "hidden": true
   },
   "outputs": [],
   "source": []
  },
  {
   "cell_type": "code",
   "execution_count": null,
   "metadata": {
    "hidden": true
   },
   "outputs": [],
   "source": []
  },
  {
   "cell_type": "code",
   "execution_count": 137,
   "metadata": {
    "ExecuteTime": {
     "end_time": "2020-09-13T15:36:59.820606Z",
     "start_time": "2020-09-13T15:36:59.817412Z"
    },
    "hidden": true
   },
   "outputs": [],
   "source": [
    "import re\n",
    "from sklearn.pipeline import Pipeline\n",
    "from tensorflow.keras.models import Sequential\n",
    "from tensorflow.keras.layers import LSTM, Conv1D, Dense, Flatten\n",
    "from tensorflow.keras.wrappers.scikit_learn import KerasRegressor "
   ]
  },
  {
   "cell_type": "code",
   "execution_count": 102,
   "metadata": {
    "ExecuteTime": {
     "end_time": "2020-09-13T15:01:36.242161Z",
     "start_time": "2020-09-13T15:01:36.236259Z"
    },
    "hidden": true
   },
   "outputs": [],
   "source": [
    "def to_timestep_shape(df):\n",
    "    timeserie_cols = pd.Series(filter(re.compile('^p\\d+\\w+').match, df.columns))\n",
    "    df = df[timeserie_cols]\n",
    "    df.columns = pd.MultiIndex.from_tuples(timeserie_cols.str.split('_', 1).apply(tuple).tolist())\n",
    "    df = df[df.columns.sortlevel(0, ascending=False )[0]]\n",
    "    features = df.T.groupby(level=0).progress_apply(lambda feature: np.expand_dims(feature.T.values, axis=1)).to_numpy()\n",
    "    features = features[::-1]\n",
    "    X = np.concatenate(features, axis=1)\n",
    "    return X"
   ]
  },
  {
   "cell_type": "code",
   "execution_count": 138,
   "metadata": {
    "ExecuteTime": {
     "end_time": "2020-09-13T15:39:15.247671Z",
     "start_time": "2020-09-13T15:39:15.243401Z"
    },
    "hidden": true
   },
   "outputs": [],
   "source": [
    "def build_lstm_model():\n",
    "    model = Sequential([\n",
    "        LSTM(16, activation='relu',  input_shape=(len(lookback_steps), len(timeserie_cols))),\n",
    "    #     LSTM(8, activation='relu'),\n",
    "        Flatten(),\n",
    "        Dense(1, activation='linear')\n",
    "    ])\n",
    "    model.compile(optimizer='adam', loss='mse')\n",
    "    return model"
   ]
  },
  {
   "cell_type": "code",
   "execution_count": 124,
   "metadata": {
    "ExecuteTime": {
     "end_time": "2020-09-13T15:14:59.607476Z",
     "start_time": "2020-09-13T15:14:59.602689Z"
    },
    "hidden": true
   },
   "outputs": [
    {
     "name": "stdout",
     "output_type": "stream",
     "text": [
      "Model: \"sequential_7\"\n",
      "_________________________________________________________________\n",
      "Layer (type)                 Output Shape              Param #   \n",
      "=================================================================\n",
      "lstm_5 (LSTM)                (None, 16)                1600      \n",
      "_________________________________________________________________\n",
      "flatten_2 (Flatten)          (None, 16)                0         \n",
      "_________________________________________________________________\n",
      "dense_7 (Dense)              (None, 1)                 17        \n",
      "=================================================================\n",
      "Total params: 1,617\n",
      "Trainable params: 1,617\n",
      "Non-trainable params: 0\n",
      "_________________________________________________________________\n"
     ]
    }
   ],
   "source": [
    "model = build_lstm_model()\n",
    "model.summary()"
   ]
  },
  {
   "cell_type": "code",
   "execution_count": 133,
   "metadata": {
    "ExecuteTime": {
     "end_time": "2020-09-13T15:27:04.766283Z",
     "start_time": "2020-09-13T15:22:31.900094Z"
    },
    "hidden": true
   },
   "outputs": [
    {
     "name": "stderr",
     "output_type": "stream",
     "text": [
      "100%|██████████| 5/5 [00:07<00:00,  1.50s/it]\n"
     ]
    },
    {
     "name": "stdout",
     "output_type": "stream",
     "text": [
      "Epoch 1/8\n",
      "11296/11296 [==============================] - 33s 3ms/step - loss: 0.5263\n",
      "Epoch 2/8\n",
      "11296/11296 [==============================] - 33s 3ms/step - loss: 0.5250\n",
      "Epoch 3/8\n",
      "11296/11296 [==============================] - 33s 3ms/step - loss: 0.5226\n",
      "Epoch 4/8\n",
      "11296/11296 [==============================] - 33s 3ms/step - loss: 0.5212\n",
      "Epoch 5/8\n",
      "11296/11296 [==============================] - 33s 3ms/step - loss: 0.5199\n",
      "Epoch 6/8\n",
      "11296/11296 [==============================] - 33s 3ms/step - loss: 0.5188\n",
      "Epoch 7/8\n",
      "11296/11296 [==============================] - 33s 3ms/step - loss: 0.5178\n",
      "Epoch 8/8\n",
      "11296/11296 [==============================] - 33s 3ms/step - loss: 0.5173\n"
     ]
    },
    {
     "data": {
      "text/plain": [
       "<tensorflow.python.keras.callbacks.History at 0x12bfd8940>"
      ]
     },
     "execution_count": 133,
     "metadata": {},
     "output_type": "execute_result"
    }
   ],
   "source": [
    "model.fit(to_timestep_shape(X_train), Y_train, batch_size=512, epochs=8)"
   ]
  },
  {
   "cell_type": "code",
   "execution_count": 134,
   "metadata": {
    "ExecuteTime": {
     "end_time": "2020-09-13T15:27:12.631859Z",
     "start_time": "2020-09-13T15:27:08.759684Z"
    },
    "hidden": true
   },
   "outputs": [
    {
     "name": "stderr",
     "output_type": "stream",
     "text": [
      "100%|██████████| 5/5 [00:00<00:00, 16.49it/s]\n"
     ]
    }
   ],
   "source": [
    "prediction = np.squeeze(model.predict(to_timestep_shape(X_val)))\n",
    "prediction = inverse_scaling(prediction, 'count')"
   ]
  },
  {
   "cell_type": "code",
   "execution_count": 135,
   "metadata": {
    "ExecuteTime": {
     "end_time": "2020-09-13T15:27:14.820436Z",
     "start_time": "2020-09-13T15:27:14.810435Z"
    },
    "hidden": true
   },
   "outputs": [
    {
     "data": {
      "text/plain": [
       "rmse    0.836067\n",
       "r2      0.387478\n",
       "dtype: float64"
      ]
     },
     "execution_count": 135,
     "metadata": {},
     "output_type": "execute_result"
    }
   ],
   "source": [
    "\n",
    "metrics = {'rmse': lambda *args: mean_squared_error(*args, squared=False),\n",
    "           'r2': r2_score\n",
    "          }\n",
    "result = pd.Series({name: metric(inverse_scaling(Y_val, 'count'), prediction) for name, metric in metrics.items()})\n",
    "result"
   ]
  },
  {
   "cell_type": "markdown",
   "metadata": {},
   "source": [
    "### Linear Regression"
   ]
  },
  {
   "cell_type": "code",
   "execution_count": 37,
   "metadata": {
    "ExecuteTime": {
     "end_time": "2020-09-17T15:25:24.225014Z",
     "start_time": "2020-09-17T15:25:24.211023Z"
    }
   },
   "outputs": [],
   "source": [
    "from sklearn.linear_model import LinearRegression"
   ]
  },
  {
   "cell_type": "code",
   "execution_count": 40,
   "metadata": {
    "ExecuteTime": {
     "end_time": "2020-09-17T15:29:20.985561Z",
     "start_time": "2020-09-17T15:29:16.366269Z"
    }
   },
   "outputs": [
    {
     "data": {
      "text/plain": [
       "LinearRegression(copy_X=True, fit_intercept=False, n_jobs=8, normalize=False)"
      ]
     },
     "execution_count": 40,
     "metadata": {},
     "output_type": "execute_result"
    }
   ],
   "source": [
    "linear_model = LinearRegression(fit_intercept=False, n_jobs=8)\n",
    "linear_model.fit(X_train, Y_train)"
   ]
  },
  {
   "cell_type": "code",
   "execution_count": 49,
   "metadata": {
    "ExecuteTime": {
     "end_time": "2020-09-17T15:35:42.394289Z",
     "start_time": "2020-09-17T15:35:42.132271Z"
    }
   },
   "outputs": [
    {
     "data": {
      "text/plain": [
       "<matplotlib.axes._subplots.AxesSubplot at 0x19806d2e9d0>"
      ]
     },
     "execution_count": 49,
     "metadata": {},
     "output_type": "execute_result"
    },
    {
     "data": {
      "image/png": "[encoded data removed]",
      "text/plain": [
       "<Figure size 1152x576 with 1 Axes>"
      ]
     },
     "metadata": {
      "needs_background": "light"
     },
     "output_type": "display_data"
    }
   ],
   "source": [
    "pd.Series(np.abs(linear_model.coef_), index=X_train.columns).plot.bar(figsize=(16, 8))"
   ]
  },
  {
   "cell_type": "code",
   "execution_count": 41,
   "metadata": {
    "ExecuteTime": {
     "end_time": "2020-09-17T15:30:02.612050Z",
     "start_time": "2020-09-17T15:30:02.591052Z"
    }
   },
   "outputs": [],
   "source": [
    "prediction = linear_model.predict(X_val)\n",
    "prediction = inverse_scaling(prediction, 'count')"
   ]
  },
  {
   "cell_type": "code",
   "execution_count": 42,
   "metadata": {
    "ExecuteTime": {
     "end_time": "2020-09-17T15:30:04.689746Z",
     "start_time": "2020-09-17T15:30:04.675724Z"
    }
   },
   "outputs": [
    {
     "data": {
      "text/plain": [
       "rmse    0.766970\n",
       "r2      0.527531\n",
       "dtype: float64"
      ]
     },
     "execution_count": 42,
     "metadata": {},
     "output_type": "execute_result"
    }
   ],
   "source": [
    "\n",
    "metrics = {'rmse': lambda *args: mean_squared_error(*args, squared=False),\n",
    "           'r2': r2_score\n",
    "          }\n",
    "result = pd.Series({name: metric(inverse_scaling(Y_val, 'count'), prediction) for name, metric in metrics.items()})\n",
    "result"
   ]
  },
  {
   "cell_type": "markdown",
   "metadata": {},
   "source": [
    "### Stacking"
   ]
  },
  {
   "cell_type": "code",
   "execution_count": 51,
   "metadata": {
    "ExecuteTime": {
     "end_time": "2020-09-17T15:44:01.428586Z",
     "start_time": "2020-09-17T15:44:01.201511Z"
    }
   },
   "outputs": [],
   "source": [
    "from sklearn.ensemble import RandomForestRegressor, StackingRegressor\n",
    "from sklearn.pipeline import Pipeline\n",
    "import lightgbm as lgb"
   ]
  },
  {
   "cell_type": "code",
   "execution_count": 167,
   "metadata": {
    "ExecuteTime": {
     "end_time": "2020-09-18T03:48:08.261363Z",
     "start_time": "2020-09-18T03:48:08.247364Z"
    }
   },
   "outputs": [],
   "source": [
    "train_lgb_data = lgb.Dataset(X_train, label=Y_train, )\n",
    "params = {\n",
    "    'max_depth': 50,\n",
    "    'learning_rate': 0.25,\n",
    "    'num_leaves': 200,\n",
    "    'n_estimators': 200,\n",
    "    'bagging_fraction': 1/100,\n",
    "    'sub_feature': 1,\n",
    "    'metric': 'mse',\n",
    "    'feature_fraction_seed': 41,\n",
    "    'bagging_seed': 42\n",
    "    \n",
    "}\n",
    "lgb_model = lgb.LGBMRegressor(**params, )"
   ]
  },
  {
   "cell_type": "code",
   "execution_count": 168,
   "metadata": {
    "ExecuteTime": {
     "end_time": "2020-09-18T03:48:08.953400Z",
     "start_time": "2020-09-18T03:48:08.949396Z"
    }
   },
   "outputs": [],
   "source": [
    "linear_model = LinearRegression(fit_intercept=False,\n",
    "                                n_jobs=4)"
   ]
  },
  {
   "cell_type": "code",
   "execution_count": 169,
   "metadata": {
    "ExecuteTime": {
     "end_time": "2020-09-18T03:48:09.431632Z",
     "start_time": "2020-09-18T03:48:09.417632Z"
    }
   },
   "outputs": [],
   "source": [
    "rfr = RandomForestRegressor(n_estimators=100,\n",
    "                            min_samples_split=2,\n",
    "                            max_samples=0.5,\n",
    "                            max_features=0.5,\n",
    "                            max_depth=16,\n",
    "                            n_jobs=4,\n",
    "                            verbose=10\n",
    "                           )"
   ]
  },
  {
   "cell_type": "code",
   "execution_count": 170,
   "metadata": {
    "ExecuteTime": {
     "end_time": "2020-09-18T03:48:17.229175Z",
     "start_time": "2020-09-18T03:48:17.221175Z"
    }
   },
   "outputs": [],
   "source": [
    "meta_model = RandomForestRegressor(max_depth=8,\n",
    "                                   n_estimators=32,\n",
    "                                   n_jobs=-1, \n",
    "                                   random_state=213)\n",
    "stack_regressor = StackingRegressor([('rfr', rfr),\n",
    "                                     ('lgb', lgb_model),\n",
    "                                     ('linear', linear_model)\n",
    "                                     ],\n",
    "                                    final_estimator=meta_model,\n",
    "                                    passthrough=True,\n",
    "                                    cv=3,\n",
    "                                    verbose=100,\n",
    "\n",
    "                                    )"
   ]
  },
  {
   "cell_type": "code",
   "execution_count": 171,
   "metadata": {
    "ExecuteTime": {
     "end_time": "2020-09-18T04:07:44.515361Z",
     "start_time": "2020-09-18T03:48:24.038430Z"
    },
    "scrolled": true
   },
   "outputs": [
    {
     "name": "stderr",
     "output_type": "stream",
     "text": [
      "[Parallel(n_jobs=4)]: Using backend LokyBackend with 4 concurrent workers.\n",
      "[Parallel(n_jobs=4)]: Done   5 tasks      | elapsed:   19.5s\n",
      "[Parallel(n_jobs=4)]: Done  10 tasks      | elapsed:   32.3s\n",
      "[Parallel(n_jobs=4)]: Done  17 tasks      | elapsed:   55.8s\n",
      "[Parallel(n_jobs=4)]: Done  24 tasks      | elapsed:  1.2min\n",
      "[Parallel(n_jobs=4)]: Done  33 tasks      | elapsed:  1.7min\n",
      "[Parallel(n_jobs=4)]: Done  42 tasks      | elapsed:  2.2min\n",
      "[Parallel(n_jobs=4)]: Done  53 tasks      | elapsed:  2.8min\n",
      "[Parallel(n_jobs=4)]: Done  64 tasks      | elapsed:  3.4min\n",
      "[Parallel(n_jobs=4)]: Done  77 tasks      | elapsed:  3.9min\n",
      "[Parallel(n_jobs=4)]: Done  90 tasks      | elapsed:  4.6min\n",
      "[Parallel(n_jobs=4)]: Done 100 out of 100 | elapsed:  5.1min finished\n"
     ]
    },
    {
     "name": "stdout",
     "output_type": "stream",
     "text": [
      "[LightGBM] [Warning] feature_fraction is set with colsample_bytree=1.0, will be overridden by sub_feature=1. Current value: feature_fraction=1\n",
      "[LightGBM] [Warning] bagging_fraction is set=0.01, subsample=1.0 will be ignored. Current value: bagging_fraction=0.01\n",
      "[Parallel(n_jobs=1)]: Using backend SequentialBackend with 1 concurrent workers.\n"
     ]
    },
    {
     "name": "stderr",
     "output_type": "stream",
     "text": [
      "[Parallel(n_jobs=4)]: Using backend LokyBackend with 4 concurrent workers.\n",
      "[Parallel(n_jobs=4)]: Done   5 tasks      | elapsed:   12.1s\n",
      "[Parallel(n_jobs=4)]: Done  10 tasks      | elapsed:   22.4s\n",
      "[Parallel(n_jobs=4)]: Done  17 tasks      | elapsed:   34.2s\n",
      "[Parallel(n_jobs=4)]: Done  24 tasks      | elapsed:   47.7s\n",
      "[Parallel(n_jobs=4)]: Done  33 tasks      | elapsed:  1.1min\n",
      "[Parallel(n_jobs=4)]: Done  42 tasks      | elapsed:  1.4min\n",
      "[Parallel(n_jobs=4)]: Done  53 tasks      | elapsed:  1.8min\n",
      "[Parallel(n_jobs=4)]: Done  64 tasks      | elapsed:  2.1min\n",
      "[Parallel(n_jobs=4)]: Done  77 tasks      | elapsed:  2.5min\n",
      "[Parallel(n_jobs=4)]: Done  90 tasks      | elapsed:  2.8min\n",
      "[Parallel(n_jobs=4)]: Done 100 out of 100 | elapsed:  3.2min finished\n"
     ]
    },
    {
     "name": "stdout",
     "output_type": "stream",
     "text": [
      "Using ThreadingBackend as joblib.Parallel backend instead of LokyBackend as the latter does not provide shared memory semantics.\n"
     ]
    },
    {
     "name": "stderr",
     "output_type": "stream",
     "text": [
      "[Parallel(n_jobs=4)]: Using backend ThreadingBackend with 4 concurrent workers.\n",
      "[Parallel(n_jobs=4)]: Done   5 tasks      | elapsed:    0.0s\n",
      "[Parallel(n_jobs=4)]: Done  10 tasks      | elapsed:    0.1s\n",
      "[Parallel(n_jobs=4)]: Done  17 tasks      | elapsed:    0.2s\n",
      "[Parallel(n_jobs=4)]: Done  24 tasks      | elapsed:    0.3s\n",
      "[Parallel(n_jobs=4)]: Done  33 tasks      | elapsed:    0.5s\n",
      "[Parallel(n_jobs=4)]: Done  42 tasks      | elapsed:    0.6s\n",
      "[Parallel(n_jobs=4)]: Done  53 tasks      | elapsed:    0.8s\n",
      "[Parallel(n_jobs=4)]: Done  64 tasks      | elapsed:    1.0s\n",
      "[Parallel(n_jobs=4)]: Done  77 tasks      | elapsed:    1.3s\n",
      "[Parallel(n_jobs=4)]: Done  90 tasks      | elapsed:    1.5s\n",
      "[Parallel(n_jobs=4)]: Done 100 out of 100 | elapsed:    1.7s finished\n"
     ]
    },
    {
     "name": "stdout",
     "output_type": "stream",
     "text": [
      "[Parallel(n_jobs=1)]: Done   1 out of   1 | elapsed:  3.2min remaining:    0.0s\n"
     ]
    },
    {
     "name": "stderr",
     "output_type": "stream",
     "text": [
      "[Parallel(n_jobs=4)]: Using backend LokyBackend with 4 concurrent workers.\n",
      "[Parallel(n_jobs=4)]: Done   5 tasks      | elapsed:   13.7s\n",
      "[Parallel(n_jobs=4)]: Done  10 tasks      | elapsed:   22.7s\n",
      "[Parallel(n_jobs=4)]: Done  17 tasks      | elapsed:   31.7s\n",
      "[Parallel(n_jobs=4)]: Done  24 tasks      | elapsed:   42.8s\n",
      "[Parallel(n_jobs=4)]: Done  33 tasks      | elapsed:  1.1min\n",
      "[Parallel(n_jobs=4)]: Done  42 tasks      | elapsed:  1.4min\n",
      "[Parallel(n_jobs=4)]: Done  53 tasks      | elapsed:  1.7min\n",
      "[Parallel(n_jobs=4)]: Done  64 tasks      | elapsed:  2.0min\n",
      "[Parallel(n_jobs=4)]: Done  77 tasks      | elapsed:  2.4min\n",
      "[Parallel(n_jobs=4)]: Done  90 tasks      | elapsed:  2.8min\n",
      "[Parallel(n_jobs=4)]: Done 100 out of 100 | elapsed:  3.2min finished\n"
     ]
    },
    {
     "name": "stdout",
     "output_type": "stream",
     "text": [
      "Using ThreadingBackend as joblib.Parallel backend instead of LokyBackend as the latter does not provide shared memory semantics.\n"
     ]
    },
    {
     "name": "stderr",
     "output_type": "stream",
     "text": [
      "[Parallel(n_jobs=4)]: Using backend ThreadingBackend with 4 concurrent workers.\n",
      "[Parallel(n_jobs=4)]: Done   5 tasks      | elapsed:    0.0s\n",
      "[Parallel(n_jobs=4)]: Done  10 tasks      | elapsed:    0.1s\n",
      "[Parallel(n_jobs=4)]: Done  17 tasks      | elapsed:    0.3s\n",
      "[Parallel(n_jobs=4)]: Done  24 tasks      | elapsed:    0.4s\n",
      "[Parallel(n_jobs=4)]: Done  33 tasks      | elapsed:    0.6s\n",
      "[Parallel(n_jobs=4)]: Done  42 tasks      | elapsed:    0.8s\n",
      "[Parallel(n_jobs=4)]: Done  53 tasks      | elapsed:    1.0s\n",
      "[Parallel(n_jobs=4)]: Done  64 tasks      | elapsed:    1.2s\n",
      "[Parallel(n_jobs=4)]: Done  77 tasks      | elapsed:    1.5s\n",
      "[Parallel(n_jobs=4)]: Done  90 tasks      | elapsed:    1.8s\n",
      "[Parallel(n_jobs=4)]: Done 100 out of 100 | elapsed:    2.0s finished\n"
     ]
    },
    {
     "name": "stdout",
     "output_type": "stream",
     "text": [
      "[Parallel(n_jobs=1)]: Done   2 out of   2 | elapsed:  6.5min remaining:    0.0s\n"
     ]
    },
    {
     "name": "stderr",
     "output_type": "stream",
     "text": [
      "[Parallel(n_jobs=4)]: Using backend LokyBackend with 4 concurrent workers.\n",
      "[Parallel(n_jobs=4)]: Done   5 tasks      | elapsed:   13.5s\n",
      "[Parallel(n_jobs=4)]: Done  10 tasks      | elapsed:   22.3s\n",
      "[Parallel(n_jobs=4)]: Done  17 tasks      | elapsed:   36.4s\n",
      "[Parallel(n_jobs=4)]: Done  24 tasks      | elapsed:   49.7s\n",
      "[Parallel(n_jobs=4)]: Done  33 tasks      | elapsed:  1.1min\n",
      "[Parallel(n_jobs=4)]: Done  42 tasks      | elapsed:  1.3min\n",
      "[Parallel(n_jobs=4)]: Done  53 tasks      | elapsed:  1.6min\n",
      "[Parallel(n_jobs=4)]: Done  64 tasks      | elapsed:  1.9min\n",
      "[Parallel(n_jobs=4)]: Done  77 tasks      | elapsed:  2.3min\n",
      "[Parallel(n_jobs=4)]: Done  90 tasks      | elapsed:  2.7min\n",
      "[Parallel(n_jobs=4)]: Done 100 out of 100 | elapsed:  3.0min finished\n"
     ]
    },
    {
     "name": "stdout",
     "output_type": "stream",
     "text": [
      "Using ThreadingBackend as joblib.Parallel backend instead of LokyBackend as the latter does not provide shared memory semantics.\n"
     ]
    },
    {
     "name": "stderr",
     "output_type": "stream",
     "text": [
      "[Parallel(n_jobs=4)]: Using backend ThreadingBackend with 4 concurrent workers.\n",
      "[Parallel(n_jobs=4)]: Done   5 tasks      | elapsed:    0.0s\n",
      "[Parallel(n_jobs=4)]: Done  10 tasks      | elapsed:    0.2s\n",
      "[Parallel(n_jobs=4)]: Done  17 tasks      | elapsed:    0.3s\n",
      "[Parallel(n_jobs=4)]: Done  24 tasks      | elapsed:    0.5s\n",
      "[Parallel(n_jobs=4)]: Done  33 tasks      | elapsed:    0.7s\n",
      "[Parallel(n_jobs=4)]: Done  42 tasks      | elapsed:    0.9s\n",
      "[Parallel(n_jobs=4)]: Done  53 tasks      | elapsed:    1.1s\n",
      "[Parallel(n_jobs=4)]: Done  64 tasks      | elapsed:    1.4s\n",
      "[Parallel(n_jobs=4)]: Done  77 tasks      | elapsed:    1.7s\n",
      "[Parallel(n_jobs=4)]: Done  90 tasks      | elapsed:    2.0s\n",
      "[Parallel(n_jobs=4)]: Done 100 out of 100 | elapsed:    2.2s finished\n"
     ]
    },
    {
     "name": "stdout",
     "output_type": "stream",
     "text": [
      "[Parallel(n_jobs=1)]: Done   3 out of   3 | elapsed:  9.6min remaining:    0.0s\n",
      "[Parallel(n_jobs=1)]: Done   3 out of   3 | elapsed:  9.6min finished\n",
      "[Parallel(n_jobs=1)]: Using backend SequentialBackend with 1 concurrent workers.\n",
      "[Parallel(n_jobs=1)]: Done   1 out of   1 | elapsed:   23.2s remaining:    0.0s\n",
      "[LightGBM] [Warning] feature_fraction is set with colsample_bytree=1.0, will be overridden by sub_feature=1. Current value: feature_fraction=1\n",
      "[LightGBM] [Warning] bagging_fraction is set=0.01, subsample=1.0 will be ignored. Current value: bagging_fraction=0.01\n",
      "[Parallel(n_jobs=1)]: Done   2 out of   2 | elapsed:   46.1s remaining:    0.0s\n",
      "[LightGBM] [Warning] feature_fraction is set with colsample_bytree=1.0, will be overridden by sub_feature=1. Current value: feature_fraction=1\n",
      "[LightGBM] [Warning] bagging_fraction is set=0.01, subsample=1.0 will be ignored. Current value: bagging_fraction=0.01\n",
      "[Parallel(n_jobs=1)]: Done   3 out of   3 | elapsed:  1.2min remaining:    0.0s\n",
      "[Parallel(n_jobs=1)]: Done   3 out of   3 | elapsed:  1.2min finished\n",
      "[Parallel(n_jobs=1)]: Using backend SequentialBackend with 1 concurrent workers.\n",
      "[Parallel(n_jobs=1)]: Done   1 out of   1 | elapsed:    3.8s remaining:    0.0s\n",
      "[Parallel(n_jobs=1)]: Done   2 out of   2 | elapsed:    7.7s remaining:    0.0s\n",
      "[Parallel(n_jobs=1)]: Done   3 out of   3 | elapsed:   11.4s remaining:    0.0s\n",
      "[Parallel(n_jobs=1)]: Done   3 out of   3 | elapsed:   11.4s finished\n"
     ]
    },
    {
     "data": {
      "text/plain": [
       "StackingRegressor(cv=3,\n",
       "                  estimators=[('rfr',\n",
       "                               RandomForestRegressor(bootstrap=True,\n",
       "                                                     ccp_alpha=0.0,\n",
       "                                                     criterion='mse',\n",
       "                                                     max_depth=16,\n",
       "                                                     max_features=0.5,\n",
       "                                                     max_leaf_nodes=None,\n",
       "                                                     max_samples=0.5,\n",
       "                                                     min_impurity_decrease=0.0,\n",
       "                                                     min_impurity_split=None,\n",
       "                                                     min_samples_leaf=1,\n",
       "                                                     min_samples_split=2,\n",
       "                                                     min_weight_fraction_leaf=0.0,\n",
       "                                                     n_estimators=100, n_jobs=4,\n",
       "                                                     oob_score=False,\n",
       "                                                     random_state=No...\n",
       "                  final_estimator=RandomForestRegressor(bootstrap=True,\n",
       "                                                        ccp_alpha=0.0,\n",
       "                                                        criterion='mse',\n",
       "                                                        max_depth=8,\n",
       "                                                        max_features='auto',\n",
       "                                                        max_leaf_nodes=None,\n",
       "                                                        max_samples=None,\n",
       "                                                        min_impurity_decrease=0.0,\n",
       "                                                        min_impurity_split=None,\n",
       "                                                        min_samples_leaf=1,\n",
       "                                                        min_samples_split=2,\n",
       "                                                        min_weight_fraction_leaf=0.0,\n",
       "                                                        n_estimators=32,\n",
       "                                                        n_jobs=-1,\n",
       "                                                        oob_score=False,\n",
       "                                                        random_state=213,\n",
       "                                                        verbose=0,\n",
       "                                                        warm_start=False),\n",
       "                  n_jobs=None, passthrough=True, verbose=100)"
      ]
     },
     "execution_count": 171,
     "metadata": {},
     "output_type": "execute_result"
    }
   ],
   "source": [
    "stack_regressor.fit(X_train, Y_train)"
   ]
  },
  {
   "cell_type": "code",
   "execution_count": 172,
   "metadata": {
    "ExecuteTime": {
     "end_time": "2020-09-18T04:09:53.795037Z",
     "start_time": "2020-09-18T04:09:53.250528Z"
    },
    "scrolled": true
   },
   "outputs": [
    {
     "name": "stderr",
     "output_type": "stream",
     "text": [
      "[Parallel(n_jobs=4)]: Using backend ThreadingBackend with 4 concurrent workers.\n",
      "[Parallel(n_jobs=4)]: Done   5 tasks      | elapsed:    0.0s\n",
      "[Parallel(n_jobs=4)]: Done  10 tasks      | elapsed:    0.0s\n",
      "[Parallel(n_jobs=4)]: Done  17 tasks      | elapsed:    0.0s\n",
      "[Parallel(n_jobs=4)]: Done  24 tasks      | elapsed:    0.0s\n",
      "[Parallel(n_jobs=4)]: Done  33 tasks      | elapsed:    0.0s\n",
      "[Parallel(n_jobs=4)]: Done  42 tasks      | elapsed:    0.0s\n",
      "[Parallel(n_jobs=4)]: Done  53 tasks      | elapsed:    0.0s\n",
      "[Parallel(n_jobs=4)]: Done  64 tasks      | elapsed:    0.1s\n",
      "[Parallel(n_jobs=4)]: Done  77 tasks      | elapsed:    0.1s\n",
      "[Parallel(n_jobs=4)]: Done  90 tasks      | elapsed:    0.1s\n",
      "[Parallel(n_jobs=4)]: Done 100 out of 100 | elapsed:    0.1s finished\n"
     ]
    },
    {
     "data": {
      "text/plain": [
       "rmse    0.588264\n",
       "r2      0.722053\n",
       "dtype: float64"
      ]
     },
     "execution_count": 172,
     "metadata": {},
     "output_type": "execute_result"
    }
   ],
   "source": [
    "prediction = np.squeeze(stack_regressor.predict(X_val))\n",
    "prediction = inverse_scaling(prediction, 'count')\n",
    "\n",
    "\n",
    "metrics = {'rmse': lambda *args: mean_squared_error(*args, squared=False),\n",
    "           'r2': r2_score\n",
    "          }\n",
    "result = pd.Series({name: metric(inverse_scaling(Y_val, 'count'), prediction) for name, metric in metrics.items()})\n",
    "result"
   ]
  },
  {
   "cell_type": "markdown",
   "metadata": {},
   "source": [
    "## Predict"
   ]
  },
  {
   "cell_type": "code",
   "execution_count": 173,
   "metadata": {
    "ExecuteTime": {
     "end_time": "2020-09-18T04:10:11.951006Z",
     "start_time": "2020-09-18T04:10:05.452800Z"
    },
    "scrolled": true
   },
   "outputs": [
    {
     "name": "stderr",
     "output_type": "stream",
     "text": [
      "[Parallel(n_jobs=4)]: Using backend ThreadingBackend with 4 concurrent workers.\n",
      "[Parallel(n_jobs=4)]: Done   5 tasks      | elapsed:    0.0s\n",
      "[Parallel(n_jobs=4)]: Done  10 tasks      | elapsed:    0.0s\n",
      "[Parallel(n_jobs=4)]: Done  17 tasks      | elapsed:    0.0s\n",
      "[Parallel(n_jobs=4)]: Done  24 tasks      | elapsed:    0.0s\n",
      "[Parallel(n_jobs=4)]: Done  33 tasks      | elapsed:    0.0s\n",
      "[Parallel(n_jobs=4)]: Done  42 tasks      | elapsed:    0.0s\n",
      "[Parallel(n_jobs=4)]: Done  53 tasks      | elapsed:    0.0s\n",
      "[Parallel(n_jobs=4)]: Done  64 tasks      | elapsed:    0.0s\n",
      "[Parallel(n_jobs=4)]: Done  77 tasks      | elapsed:    0.0s\n",
      "[Parallel(n_jobs=4)]: Done  90 tasks      | elapsed:    0.1s\n",
      "[Parallel(n_jobs=4)]: Done 100 out of 100 | elapsed:    0.1s finished\n"
     ]
    }
   ],
   "source": [
    "\n",
    "model = stack_regressor\n",
    "prediction = stack_regressor.predict(X_test)\n",
    "prediction = inverse_scaling(prediction, 'count')\n",
    "\n"
   ]
  },
  {
   "cell_type": "code",
   "execution_count": null,
   "metadata": {},
   "outputs": [],
   "source": []
  },
  {
   "cell_type": "code",
   "execution_count": 174,
   "metadata": {
    "ExecuteTime": {
     "end_time": "2020-09-18T04:10:12.327006Z",
     "start_time": "2020-09-18T04:10:12.312006Z"
    }
   },
   "outputs": [
    {
     "data": {
      "text/html": [
       "<div>\n",
       "<style scoped>\n",
       "    .dataframe tbody tr th:only-of-type {\n",
       "        vertical-align: middle;\n",
       "    }\n",
       "\n",
       "    .dataframe tbody tr th {\n",
       "        vertical-align: top;\n",
       "    }\n",
       "\n",
       "    .dataframe thead th {\n",
       "        text-align: right;\n",
       "    }\n",
       "</style>\n",
       "<table border=\"1\" class=\"dataframe\">\n",
       "  <thead>\n",
       "    <tr style=\"text-align: right;\">\n",
       "      <th></th>\n",
       "      <th>ID</th>\n",
       "      <th>item_cnt_month</th>\n",
       "    </tr>\n",
       "  </thead>\n",
       "  <tbody>\n",
       "    <tr>\n",
       "      <th>0</th>\n",
       "      <td>0</td>\n",
       "      <td>1.427954e-09</td>\n",
       "    </tr>\n",
       "    <tr>\n",
       "      <th>1</th>\n",
       "      <td>1</td>\n",
       "      <td>1.427954e-09</td>\n",
       "    </tr>\n",
       "    <tr>\n",
       "      <th>2</th>\n",
       "      <td>2</td>\n",
       "      <td>1.637721e+00</td>\n",
       "    </tr>\n",
       "    <tr>\n",
       "      <th>3</th>\n",
       "      <td>3</td>\n",
       "      <td>1.427954e-09</td>\n",
       "    </tr>\n",
       "    <tr>\n",
       "      <th>4</th>\n",
       "      <td>4</td>\n",
       "      <td>1.427954e-09</td>\n",
       "    </tr>\n",
       "    <tr>\n",
       "      <th>...</th>\n",
       "      <td>...</td>\n",
       "      <td>...</td>\n",
       "    </tr>\n",
       "    <tr>\n",
       "      <th>214195</th>\n",
       "      <td>214195</td>\n",
       "      <td>1.107734e+00</td>\n",
       "    </tr>\n",
       "    <tr>\n",
       "      <th>214196</th>\n",
       "      <td>214196</td>\n",
       "      <td>1.427954e-09</td>\n",
       "    </tr>\n",
       "    <tr>\n",
       "      <th>214197</th>\n",
       "      <td>214197</td>\n",
       "      <td>1.427954e-09</td>\n",
       "    </tr>\n",
       "    <tr>\n",
       "      <th>214198</th>\n",
       "      <td>214198</td>\n",
       "      <td>1.427954e-09</td>\n",
       "    </tr>\n",
       "    <tr>\n",
       "      <th>214199</th>\n",
       "      <td>214199</td>\n",
       "      <td>1.427954e-09</td>\n",
       "    </tr>\n",
       "  </tbody>\n",
       "</table>\n",
       "<p>214200 rows × 2 columns</p>\n",
       "</div>"
      ],
      "text/plain": [
       "            ID  item_cnt_month\n",
       "0            0    1.427954e-09\n",
       "1            1    1.427954e-09\n",
       "2            2    1.637721e+00\n",
       "3            3    1.427954e-09\n",
       "4            4    1.427954e-09\n",
       "...        ...             ...\n",
       "214195  214195    1.107734e+00\n",
       "214196  214196    1.427954e-09\n",
       "214197  214197    1.427954e-09\n",
       "214198  214198    1.427954e-09\n",
       "214199  214199    1.427954e-09\n",
       "\n",
       "[214200 rows x 2 columns]"
      ]
     },
     "execution_count": 174,
     "metadata": {},
     "output_type": "execute_result"
    }
   ],
   "source": [
    "submission_df = pd.DataFrame(np.array([test_data['ID'].values, prediction]).T,\n",
    "                             columns=['ID', 'item_cnt_month'], )\n",
    "submission_df['ID'] = submission_df['ID'].astype(int)\n",
    "submission_df"
   ]
  },
  {
   "cell_type": "code",
   "execution_count": 85,
   "metadata": {
    "ExecuteTime": {
     "end_time": "2020-09-13T11:29:03.722310Z",
     "start_time": "2020-09-13T11:29:03.683243Z"
    }
   },
   "outputs": [],
   "source": [
    "submission_df.loc[X_test.isna().any(axis=1), 'item_cnt_month'] = 0"
   ]
  },
  {
   "cell_type": "code",
   "execution_count": null,
   "metadata": {},
   "outputs": [],
   "source": []
  },
  {
   "cell_type": "code",
   "execution_count": 175,
   "metadata": {
    "ExecuteTime": {
     "end_time": "2020-09-18T04:10:35.395650Z",
     "start_time": "2020-09-18T04:10:34.908802Z"
    }
   },
   "outputs": [],
   "source": [
    "submission_df.to_csv('submission/outputv10_tuning.csv', index=False)"
   ]
  },
  {
   "cell_type": "code",
   "execution_count": null,
   "metadata": {},
   "outputs": [],
   "source": []
  }
 ],
 "metadata": {
  "kernelspec": {
   "display_name": "Python 3",
   "language": "python",
   "name": "python3"
  },
  "language_info": {
   "codemirror_mode": {
    "name": "ipython",
    "version": 3
   },
   "file_extension": ".py",
   "mimetype": "text/x-python",
   "name": "python",
   "nbconvert_exporter": "python",
   "pygments_lexer": "ipython3",
   "version": "3.8.5"
  },
  "varInspector": {
   "cols": {
    "lenName": 16,
    "lenType": 16,
    "lenVar": 40
   },
   "kernels_config": {
    "python": {
     "delete_cmd_postfix": "",
     "delete_cmd_prefix": "del ",
     "library": "var_list.py",
     "varRefreshCmd": "print(var_dic_list())"
    },
    "r": {
     "delete_cmd_postfix": ") ",
     "delete_cmd_prefix": "rm(",
     "library": "var_list.r",
     "varRefreshCmd": "cat(var_dic_list()) "
    }
   },
   "types_to_exclude": [
    "module",
    "function",
    "builtin_function_or_method",
    "instance",
    "_Feature"
   ],
   "window_display": false
  }
 },
 "nbformat": 4,
 "nbformat_minor": 4
}
